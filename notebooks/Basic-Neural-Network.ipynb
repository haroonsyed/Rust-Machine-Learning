{
 "cells": [
  {
   "cell_type": "code",
   "execution_count": 1,
   "metadata": {},
   "outputs": [],
   "source": [
    "import rust_machine_learning\n",
    "import pandas as pd\n",
    "from syed_ml_lib import *"
   ]
  },
  {
   "cell_type": "code",
   "execution_count": 2,
   "metadata": {},
   "outputs": [
    {
     "data": {
      "text/html": [
       "<div>\n",
       "<style scoped>\n",
       "    .dataframe tbody tr th:only-of-type {\n",
       "        vertical-align: middle;\n",
       "    }\n",
       "\n",
       "    .dataframe tbody tr th {\n",
       "        vertical-align: top;\n",
       "    }\n",
       "\n",
       "    .dataframe thead th {\n",
       "        text-align: right;\n",
       "    }\n",
       "</style>\n",
       "<table border=\"1\" class=\"dataframe\">\n",
       "  <thead>\n",
       "    <tr style=\"text-align: right;\">\n",
       "      <th></th>\n",
       "      <th>label</th>\n",
       "      <th>pixel0</th>\n",
       "      <th>pixel1</th>\n",
       "      <th>pixel2</th>\n",
       "      <th>pixel3</th>\n",
       "      <th>pixel4</th>\n",
       "      <th>pixel5</th>\n",
       "      <th>pixel6</th>\n",
       "      <th>pixel7</th>\n",
       "      <th>pixel8</th>\n",
       "      <th>...</th>\n",
       "      <th>pixel774</th>\n",
       "      <th>pixel775</th>\n",
       "      <th>pixel776</th>\n",
       "      <th>pixel777</th>\n",
       "      <th>pixel778</th>\n",
       "      <th>pixel779</th>\n",
       "      <th>pixel780</th>\n",
       "      <th>pixel781</th>\n",
       "      <th>pixel782</th>\n",
       "      <th>pixel783</th>\n",
       "    </tr>\n",
       "  </thead>\n",
       "  <tbody>\n",
       "    <tr>\n",
       "      <th>26151</th>\n",
       "      <td>6</td>\n",
       "      <td>0</td>\n",
       "      <td>0</td>\n",
       "      <td>0</td>\n",
       "      <td>0</td>\n",
       "      <td>0</td>\n",
       "      <td>0</td>\n",
       "      <td>0</td>\n",
       "      <td>0</td>\n",
       "      <td>0</td>\n",
       "      <td>...</td>\n",
       "      <td>0</td>\n",
       "      <td>0</td>\n",
       "      <td>0</td>\n",
       "      <td>0</td>\n",
       "      <td>0</td>\n",
       "      <td>0</td>\n",
       "      <td>0</td>\n",
       "      <td>0</td>\n",
       "      <td>0</td>\n",
       "      <td>0</td>\n",
       "    </tr>\n",
       "    <tr>\n",
       "      <th>27728</th>\n",
       "      <td>3</td>\n",
       "      <td>0</td>\n",
       "      <td>0</td>\n",
       "      <td>0</td>\n",
       "      <td>0</td>\n",
       "      <td>0</td>\n",
       "      <td>0</td>\n",
       "      <td>0</td>\n",
       "      <td>0</td>\n",
       "      <td>0</td>\n",
       "      <td>...</td>\n",
       "      <td>0</td>\n",
       "      <td>0</td>\n",
       "      <td>0</td>\n",
       "      <td>0</td>\n",
       "      <td>0</td>\n",
       "      <td>0</td>\n",
       "      <td>0</td>\n",
       "      <td>0</td>\n",
       "      <td>0</td>\n",
       "      <td>0</td>\n",
       "    </tr>\n",
       "    <tr>\n",
       "      <th>5881</th>\n",
       "      <td>6</td>\n",
       "      <td>0</td>\n",
       "      <td>0</td>\n",
       "      <td>0</td>\n",
       "      <td>0</td>\n",
       "      <td>0</td>\n",
       "      <td>0</td>\n",
       "      <td>0</td>\n",
       "      <td>0</td>\n",
       "      <td>0</td>\n",
       "      <td>...</td>\n",
       "      <td>0</td>\n",
       "      <td>0</td>\n",
       "      <td>0</td>\n",
       "      <td>0</td>\n",
       "      <td>0</td>\n",
       "      <td>0</td>\n",
       "      <td>0</td>\n",
       "      <td>0</td>\n",
       "      <td>0</td>\n",
       "      <td>0</td>\n",
       "    </tr>\n",
       "    <tr>\n",
       "      <th>34275</th>\n",
       "      <td>7</td>\n",
       "      <td>0</td>\n",
       "      <td>0</td>\n",
       "      <td>0</td>\n",
       "      <td>0</td>\n",
       "      <td>0</td>\n",
       "      <td>0</td>\n",
       "      <td>0</td>\n",
       "      <td>0</td>\n",
       "      <td>0</td>\n",
       "      <td>...</td>\n",
       "      <td>0</td>\n",
       "      <td>0</td>\n",
       "      <td>0</td>\n",
       "      <td>0</td>\n",
       "      <td>0</td>\n",
       "      <td>0</td>\n",
       "      <td>0</td>\n",
       "      <td>0</td>\n",
       "      <td>0</td>\n",
       "      <td>0</td>\n",
       "    </tr>\n",
       "    <tr>\n",
       "      <th>40076</th>\n",
       "      <td>3</td>\n",
       "      <td>0</td>\n",
       "      <td>0</td>\n",
       "      <td>0</td>\n",
       "      <td>0</td>\n",
       "      <td>0</td>\n",
       "      <td>0</td>\n",
       "      <td>0</td>\n",
       "      <td>0</td>\n",
       "      <td>0</td>\n",
       "      <td>...</td>\n",
       "      <td>0</td>\n",
       "      <td>0</td>\n",
       "      <td>0</td>\n",
       "      <td>0</td>\n",
       "      <td>0</td>\n",
       "      <td>0</td>\n",
       "      <td>0</td>\n",
       "      <td>0</td>\n",
       "      <td>0</td>\n",
       "      <td>0</td>\n",
       "    </tr>\n",
       "    <tr>\n",
       "      <th>...</th>\n",
       "      <td>...</td>\n",
       "      <td>...</td>\n",
       "      <td>...</td>\n",
       "      <td>...</td>\n",
       "      <td>...</td>\n",
       "      <td>...</td>\n",
       "      <td>...</td>\n",
       "      <td>...</td>\n",
       "      <td>...</td>\n",
       "      <td>...</td>\n",
       "      <td>...</td>\n",
       "      <td>...</td>\n",
       "      <td>...</td>\n",
       "      <td>...</td>\n",
       "      <td>...</td>\n",
       "      <td>...</td>\n",
       "      <td>...</td>\n",
       "      <td>...</td>\n",
       "      <td>...</td>\n",
       "      <td>...</td>\n",
       "      <td>...</td>\n",
       "    </tr>\n",
       "    <tr>\n",
       "      <th>13661</th>\n",
       "      <td>6</td>\n",
       "      <td>0</td>\n",
       "      <td>0</td>\n",
       "      <td>0</td>\n",
       "      <td>0</td>\n",
       "      <td>0</td>\n",
       "      <td>0</td>\n",
       "      <td>0</td>\n",
       "      <td>0</td>\n",
       "      <td>0</td>\n",
       "      <td>...</td>\n",
       "      <td>0</td>\n",
       "      <td>0</td>\n",
       "      <td>0</td>\n",
       "      <td>0</td>\n",
       "      <td>0</td>\n",
       "      <td>0</td>\n",
       "      <td>0</td>\n",
       "      <td>0</td>\n",
       "      <td>0</td>\n",
       "      <td>0</td>\n",
       "    </tr>\n",
       "    <tr>\n",
       "      <th>39328</th>\n",
       "      <td>7</td>\n",
       "      <td>0</td>\n",
       "      <td>0</td>\n",
       "      <td>0</td>\n",
       "      <td>0</td>\n",
       "      <td>0</td>\n",
       "      <td>0</td>\n",
       "      <td>0</td>\n",
       "      <td>0</td>\n",
       "      <td>0</td>\n",
       "      <td>...</td>\n",
       "      <td>0</td>\n",
       "      <td>0</td>\n",
       "      <td>0</td>\n",
       "      <td>0</td>\n",
       "      <td>0</td>\n",
       "      <td>0</td>\n",
       "      <td>0</td>\n",
       "      <td>0</td>\n",
       "      <td>0</td>\n",
       "      <td>0</td>\n",
       "    </tr>\n",
       "    <tr>\n",
       "      <th>22740</th>\n",
       "      <td>9</td>\n",
       "      <td>0</td>\n",
       "      <td>0</td>\n",
       "      <td>0</td>\n",
       "      <td>0</td>\n",
       "      <td>0</td>\n",
       "      <td>0</td>\n",
       "      <td>0</td>\n",
       "      <td>0</td>\n",
       "      <td>0</td>\n",
       "      <td>...</td>\n",
       "      <td>0</td>\n",
       "      <td>0</td>\n",
       "      <td>0</td>\n",
       "      <td>0</td>\n",
       "      <td>0</td>\n",
       "      <td>0</td>\n",
       "      <td>0</td>\n",
       "      <td>0</td>\n",
       "      <td>0</td>\n",
       "      <td>0</td>\n",
       "    </tr>\n",
       "    <tr>\n",
       "      <th>4031</th>\n",
       "      <td>9</td>\n",
       "      <td>0</td>\n",
       "      <td>0</td>\n",
       "      <td>0</td>\n",
       "      <td>0</td>\n",
       "      <td>0</td>\n",
       "      <td>0</td>\n",
       "      <td>0</td>\n",
       "      <td>0</td>\n",
       "      <td>0</td>\n",
       "      <td>...</td>\n",
       "      <td>0</td>\n",
       "      <td>0</td>\n",
       "      <td>0</td>\n",
       "      <td>0</td>\n",
       "      <td>0</td>\n",
       "      <td>0</td>\n",
       "      <td>0</td>\n",
       "      <td>0</td>\n",
       "      <td>0</td>\n",
       "      <td>0</td>\n",
       "    </tr>\n",
       "    <tr>\n",
       "      <th>30608</th>\n",
       "      <td>8</td>\n",
       "      <td>0</td>\n",
       "      <td>0</td>\n",
       "      <td>0</td>\n",
       "      <td>0</td>\n",
       "      <td>0</td>\n",
       "      <td>0</td>\n",
       "      <td>0</td>\n",
       "      <td>0</td>\n",
       "      <td>0</td>\n",
       "      <td>...</td>\n",
       "      <td>0</td>\n",
       "      <td>0</td>\n",
       "      <td>0</td>\n",
       "      <td>0</td>\n",
       "      <td>0</td>\n",
       "      <td>0</td>\n",
       "      <td>0</td>\n",
       "      <td>0</td>\n",
       "      <td>0</td>\n",
       "      <td>0</td>\n",
       "    </tr>\n",
       "  </tbody>\n",
       "</table>\n",
       "<p>10000 rows × 785 columns</p>\n",
       "</div>"
      ],
      "text/plain": [
       "       label  pixel0  pixel1  pixel2  pixel3  pixel4  pixel5  pixel6  pixel7  \\\n",
       "26151      6       0       0       0       0       0       0       0       0   \n",
       "27728      3       0       0       0       0       0       0       0       0   \n",
       "5881       6       0       0       0       0       0       0       0       0   \n",
       "34275      7       0       0       0       0       0       0       0       0   \n",
       "40076      3       0       0       0       0       0       0       0       0   \n",
       "...      ...     ...     ...     ...     ...     ...     ...     ...     ...   \n",
       "13661      6       0       0       0       0       0       0       0       0   \n",
       "39328      7       0       0       0       0       0       0       0       0   \n",
       "22740      9       0       0       0       0       0       0       0       0   \n",
       "4031       9       0       0       0       0       0       0       0       0   \n",
       "30608      8       0       0       0       0       0       0       0       0   \n",
       "\n",
       "       pixel8  ...  pixel774  pixel775  pixel776  pixel777  pixel778  \\\n",
       "26151       0  ...         0         0         0         0         0   \n",
       "27728       0  ...         0         0         0         0         0   \n",
       "5881        0  ...         0         0         0         0         0   \n",
       "34275       0  ...         0         0         0         0         0   \n",
       "40076       0  ...         0         0         0         0         0   \n",
       "...       ...  ...       ...       ...       ...       ...       ...   \n",
       "13661       0  ...         0         0         0         0         0   \n",
       "39328       0  ...         0         0         0         0         0   \n",
       "22740       0  ...         0         0         0         0         0   \n",
       "4031        0  ...         0         0         0         0         0   \n",
       "30608       0  ...         0         0         0         0         0   \n",
       "\n",
       "       pixel779  pixel780  pixel781  pixel782  pixel783  \n",
       "26151         0         0         0         0         0  \n",
       "27728         0         0         0         0         0  \n",
       "5881          0         0         0         0         0  \n",
       "34275         0         0         0         0         0  \n",
       "40076         0         0         0         0         0  \n",
       "...         ...       ...       ...       ...       ...  \n",
       "13661         0         0         0         0         0  \n",
       "39328         0         0         0         0         0  \n",
       "22740         0         0         0         0         0  \n",
       "4031          0         0         0         0         0  \n",
       "30608         0         0         0         0         0  \n",
       "\n",
       "[10000 rows x 785 columns]"
      ]
     },
     "execution_count": 2,
     "metadata": {},
     "output_type": "execute_result"
    }
   ],
   "source": [
    "# Get the csv data\n",
    "# df = pd.read_csv(\"../data/iris.data\")\n",
    "# df = pd.read_csv(\"../data/kmeans-dataset.csv\")\n",
    "# df = pd.read_csv(\"../data/winequality-red.csv\")\n",
    "df = pd.read_csv(\"../data/digit-recognizer/train.csv\")\n",
    "df = df.sample(n=10000)\n",
    "df  "
   ]
  },
  {
   "cell_type": "code",
   "execution_count": 3,
   "metadata": {},
   "outputs": [
    {
     "data": {
      "text/html": [
       "<div>\n",
       "<style scoped>\n",
       "    .dataframe tbody tr th:only-of-type {\n",
       "        vertical-align: middle;\n",
       "    }\n",
       "\n",
       "    .dataframe tbody tr th {\n",
       "        vertical-align: top;\n",
       "    }\n",
       "\n",
       "    .dataframe thead th {\n",
       "        text-align: right;\n",
       "    }\n",
       "</style>\n",
       "<table border=\"1\" class=\"dataframe\">\n",
       "  <thead>\n",
       "    <tr style=\"text-align: right;\">\n",
       "      <th></th>\n",
       "      <th>label</th>\n",
       "      <th>pixel0</th>\n",
       "      <th>pixel1</th>\n",
       "      <th>pixel2</th>\n",
       "      <th>pixel3</th>\n",
       "      <th>pixel4</th>\n",
       "      <th>pixel5</th>\n",
       "      <th>pixel6</th>\n",
       "      <th>pixel7</th>\n",
       "      <th>pixel8</th>\n",
       "      <th>...</th>\n",
       "      <th>pixel774</th>\n",
       "      <th>pixel775</th>\n",
       "      <th>pixel776</th>\n",
       "      <th>pixel777</th>\n",
       "      <th>pixel778</th>\n",
       "      <th>pixel779</th>\n",
       "      <th>pixel780</th>\n",
       "      <th>pixel781</th>\n",
       "      <th>pixel782</th>\n",
       "      <th>pixel783</th>\n",
       "    </tr>\n",
       "  </thead>\n",
       "  <tbody>\n",
       "    <tr>\n",
       "      <th>26151</th>\n",
       "      <td>6</td>\n",
       "      <td>0</td>\n",
       "      <td>0</td>\n",
       "      <td>0</td>\n",
       "      <td>0</td>\n",
       "      <td>0</td>\n",
       "      <td>0</td>\n",
       "      <td>0</td>\n",
       "      <td>0</td>\n",
       "      <td>0</td>\n",
       "      <td>...</td>\n",
       "      <td>0</td>\n",
       "      <td>0</td>\n",
       "      <td>0</td>\n",
       "      <td>0</td>\n",
       "      <td>0</td>\n",
       "      <td>0</td>\n",
       "      <td>0</td>\n",
       "      <td>0</td>\n",
       "      <td>0</td>\n",
       "      <td>0</td>\n",
       "    </tr>\n",
       "    <tr>\n",
       "      <th>27728</th>\n",
       "      <td>3</td>\n",
       "      <td>0</td>\n",
       "      <td>0</td>\n",
       "      <td>0</td>\n",
       "      <td>0</td>\n",
       "      <td>0</td>\n",
       "      <td>0</td>\n",
       "      <td>0</td>\n",
       "      <td>0</td>\n",
       "      <td>0</td>\n",
       "      <td>...</td>\n",
       "      <td>0</td>\n",
       "      <td>0</td>\n",
       "      <td>0</td>\n",
       "      <td>0</td>\n",
       "      <td>0</td>\n",
       "      <td>0</td>\n",
       "      <td>0</td>\n",
       "      <td>0</td>\n",
       "      <td>0</td>\n",
       "      <td>0</td>\n",
       "    </tr>\n",
       "    <tr>\n",
       "      <th>5881</th>\n",
       "      <td>6</td>\n",
       "      <td>0</td>\n",
       "      <td>0</td>\n",
       "      <td>0</td>\n",
       "      <td>0</td>\n",
       "      <td>0</td>\n",
       "      <td>0</td>\n",
       "      <td>0</td>\n",
       "      <td>0</td>\n",
       "      <td>0</td>\n",
       "      <td>...</td>\n",
       "      <td>0</td>\n",
       "      <td>0</td>\n",
       "      <td>0</td>\n",
       "      <td>0</td>\n",
       "      <td>0</td>\n",
       "      <td>0</td>\n",
       "      <td>0</td>\n",
       "      <td>0</td>\n",
       "      <td>0</td>\n",
       "      <td>0</td>\n",
       "    </tr>\n",
       "    <tr>\n",
       "      <th>34275</th>\n",
       "      <td>7</td>\n",
       "      <td>0</td>\n",
       "      <td>0</td>\n",
       "      <td>0</td>\n",
       "      <td>0</td>\n",
       "      <td>0</td>\n",
       "      <td>0</td>\n",
       "      <td>0</td>\n",
       "      <td>0</td>\n",
       "      <td>0</td>\n",
       "      <td>...</td>\n",
       "      <td>0</td>\n",
       "      <td>0</td>\n",
       "      <td>0</td>\n",
       "      <td>0</td>\n",
       "      <td>0</td>\n",
       "      <td>0</td>\n",
       "      <td>0</td>\n",
       "      <td>0</td>\n",
       "      <td>0</td>\n",
       "      <td>0</td>\n",
       "    </tr>\n",
       "    <tr>\n",
       "      <th>40076</th>\n",
       "      <td>3</td>\n",
       "      <td>0</td>\n",
       "      <td>0</td>\n",
       "      <td>0</td>\n",
       "      <td>0</td>\n",
       "      <td>0</td>\n",
       "      <td>0</td>\n",
       "      <td>0</td>\n",
       "      <td>0</td>\n",
       "      <td>0</td>\n",
       "      <td>...</td>\n",
       "      <td>0</td>\n",
       "      <td>0</td>\n",
       "      <td>0</td>\n",
       "      <td>0</td>\n",
       "      <td>0</td>\n",
       "      <td>0</td>\n",
       "      <td>0</td>\n",
       "      <td>0</td>\n",
       "      <td>0</td>\n",
       "      <td>0</td>\n",
       "    </tr>\n",
       "    <tr>\n",
       "      <th>...</th>\n",
       "      <td>...</td>\n",
       "      <td>...</td>\n",
       "      <td>...</td>\n",
       "      <td>...</td>\n",
       "      <td>...</td>\n",
       "      <td>...</td>\n",
       "      <td>...</td>\n",
       "      <td>...</td>\n",
       "      <td>...</td>\n",
       "      <td>...</td>\n",
       "      <td>...</td>\n",
       "      <td>...</td>\n",
       "      <td>...</td>\n",
       "      <td>...</td>\n",
       "      <td>...</td>\n",
       "      <td>...</td>\n",
       "      <td>...</td>\n",
       "      <td>...</td>\n",
       "      <td>...</td>\n",
       "      <td>...</td>\n",
       "      <td>...</td>\n",
       "    </tr>\n",
       "    <tr>\n",
       "      <th>13661</th>\n",
       "      <td>6</td>\n",
       "      <td>0</td>\n",
       "      <td>0</td>\n",
       "      <td>0</td>\n",
       "      <td>0</td>\n",
       "      <td>0</td>\n",
       "      <td>0</td>\n",
       "      <td>0</td>\n",
       "      <td>0</td>\n",
       "      <td>0</td>\n",
       "      <td>...</td>\n",
       "      <td>0</td>\n",
       "      <td>0</td>\n",
       "      <td>0</td>\n",
       "      <td>0</td>\n",
       "      <td>0</td>\n",
       "      <td>0</td>\n",
       "      <td>0</td>\n",
       "      <td>0</td>\n",
       "      <td>0</td>\n",
       "      <td>0</td>\n",
       "    </tr>\n",
       "    <tr>\n",
       "      <th>39328</th>\n",
       "      <td>7</td>\n",
       "      <td>0</td>\n",
       "      <td>0</td>\n",
       "      <td>0</td>\n",
       "      <td>0</td>\n",
       "      <td>0</td>\n",
       "      <td>0</td>\n",
       "      <td>0</td>\n",
       "      <td>0</td>\n",
       "      <td>0</td>\n",
       "      <td>...</td>\n",
       "      <td>0</td>\n",
       "      <td>0</td>\n",
       "      <td>0</td>\n",
       "      <td>0</td>\n",
       "      <td>0</td>\n",
       "      <td>0</td>\n",
       "      <td>0</td>\n",
       "      <td>0</td>\n",
       "      <td>0</td>\n",
       "      <td>0</td>\n",
       "    </tr>\n",
       "    <tr>\n",
       "      <th>22740</th>\n",
       "      <td>9</td>\n",
       "      <td>0</td>\n",
       "      <td>0</td>\n",
       "      <td>0</td>\n",
       "      <td>0</td>\n",
       "      <td>0</td>\n",
       "      <td>0</td>\n",
       "      <td>0</td>\n",
       "      <td>0</td>\n",
       "      <td>0</td>\n",
       "      <td>...</td>\n",
       "      <td>0</td>\n",
       "      <td>0</td>\n",
       "      <td>0</td>\n",
       "      <td>0</td>\n",
       "      <td>0</td>\n",
       "      <td>0</td>\n",
       "      <td>0</td>\n",
       "      <td>0</td>\n",
       "      <td>0</td>\n",
       "      <td>0</td>\n",
       "    </tr>\n",
       "    <tr>\n",
       "      <th>4031</th>\n",
       "      <td>9</td>\n",
       "      <td>0</td>\n",
       "      <td>0</td>\n",
       "      <td>0</td>\n",
       "      <td>0</td>\n",
       "      <td>0</td>\n",
       "      <td>0</td>\n",
       "      <td>0</td>\n",
       "      <td>0</td>\n",
       "      <td>0</td>\n",
       "      <td>...</td>\n",
       "      <td>0</td>\n",
       "      <td>0</td>\n",
       "      <td>0</td>\n",
       "      <td>0</td>\n",
       "      <td>0</td>\n",
       "      <td>0</td>\n",
       "      <td>0</td>\n",
       "      <td>0</td>\n",
       "      <td>0</td>\n",
       "      <td>0</td>\n",
       "    </tr>\n",
       "    <tr>\n",
       "      <th>30608</th>\n",
       "      <td>8</td>\n",
       "      <td>0</td>\n",
       "      <td>0</td>\n",
       "      <td>0</td>\n",
       "      <td>0</td>\n",
       "      <td>0</td>\n",
       "      <td>0</td>\n",
       "      <td>0</td>\n",
       "      <td>0</td>\n",
       "      <td>0</td>\n",
       "      <td>...</td>\n",
       "      <td>0</td>\n",
       "      <td>0</td>\n",
       "      <td>0</td>\n",
       "      <td>0</td>\n",
       "      <td>0</td>\n",
       "      <td>0</td>\n",
       "      <td>0</td>\n",
       "      <td>0</td>\n",
       "      <td>0</td>\n",
       "      <td>0</td>\n",
       "    </tr>\n",
       "  </tbody>\n",
       "</table>\n",
       "<p>10000 rows × 785 columns</p>\n",
       "</div>"
      ],
      "text/plain": [
       "       label  pixel0  pixel1  pixel2  pixel3  pixel4  pixel5  pixel6  pixel7  \\\n",
       "26151      6       0       0       0       0       0       0       0       0   \n",
       "27728      3       0       0       0       0       0       0       0       0   \n",
       "5881       6       0       0       0       0       0       0       0       0   \n",
       "34275      7       0       0       0       0       0       0       0       0   \n",
       "40076      3       0       0       0       0       0       0       0       0   \n",
       "...      ...     ...     ...     ...     ...     ...     ...     ...     ...   \n",
       "13661      6       0       0       0       0       0       0       0       0   \n",
       "39328      7       0       0       0       0       0       0       0       0   \n",
       "22740      9       0       0       0       0       0       0       0       0   \n",
       "4031       9       0       0       0       0       0       0       0       0   \n",
       "30608      8       0       0       0       0       0       0       0       0   \n",
       "\n",
       "       pixel8  ...  pixel774  pixel775  pixel776  pixel777  pixel778  \\\n",
       "26151       0  ...         0         0         0         0         0   \n",
       "27728       0  ...         0         0         0         0         0   \n",
       "5881        0  ...         0         0         0         0         0   \n",
       "34275       0  ...         0         0         0         0         0   \n",
       "40076       0  ...         0         0         0         0         0   \n",
       "...       ...  ...       ...       ...       ...       ...       ...   \n",
       "13661       0  ...         0         0         0         0         0   \n",
       "39328       0  ...         0         0         0         0         0   \n",
       "22740       0  ...         0         0         0         0         0   \n",
       "4031        0  ...         0         0         0         0         0   \n",
       "30608       0  ...         0         0         0         0         0   \n",
       "\n",
       "       pixel779  pixel780  pixel781  pixel782  pixel783  \n",
       "26151         0         0         0         0         0  \n",
       "27728         0         0         0         0         0  \n",
       "5881          0         0         0         0         0  \n",
       "34275         0         0         0         0         0  \n",
       "40076         0         0         0         0         0  \n",
       "...         ...       ...       ...       ...       ...  \n",
       "13661         0         0         0         0         0  \n",
       "39328         0         0         0         0         0  \n",
       "22740         0         0         0         0         0  \n",
       "4031          0         0         0         0         0  \n",
       "30608         0         0         0         0         0  \n",
       "\n",
       "[10000 rows x 785 columns]"
      ]
     },
     "execution_count": 3,
     "metadata": {},
     "output_type": "execute_result"
    }
   ],
   "source": [
    "to_encode = [] # We won't encode the label column. The output layer will use 0-n (assuming classifications are ordered starting at 0), to determine error.\n",
    "encoded, feature_to_encoded_cols = one_hot_encode(df, to_encode)\n",
    "encoded"
   ]
  },
  {
   "cell_type": "code",
   "execution_count": 4,
   "metadata": {},
   "outputs": [
    {
     "data": {
      "text/html": [
       "<div>\n",
       "<style scoped>\n",
       "    .dataframe tbody tr th:only-of-type {\n",
       "        vertical-align: middle;\n",
       "    }\n",
       "\n",
       "    .dataframe tbody tr th {\n",
       "        vertical-align: top;\n",
       "    }\n",
       "\n",
       "    .dataframe thead th {\n",
       "        text-align: right;\n",
       "    }\n",
       "</style>\n",
       "<table border=\"1\" class=\"dataframe\">\n",
       "  <thead>\n",
       "    <tr style=\"text-align: right;\">\n",
       "      <th></th>\n",
       "      <th>label</th>\n",
       "      <th>pixel0</th>\n",
       "      <th>pixel1</th>\n",
       "      <th>pixel2</th>\n",
       "      <th>pixel3</th>\n",
       "      <th>pixel4</th>\n",
       "      <th>pixel5</th>\n",
       "      <th>pixel6</th>\n",
       "      <th>pixel7</th>\n",
       "      <th>pixel8</th>\n",
       "      <th>...</th>\n",
       "      <th>pixel774</th>\n",
       "      <th>pixel775</th>\n",
       "      <th>pixel776</th>\n",
       "      <th>pixel777</th>\n",
       "      <th>pixel778</th>\n",
       "      <th>pixel779</th>\n",
       "      <th>pixel780</th>\n",
       "      <th>pixel781</th>\n",
       "      <th>pixel782</th>\n",
       "      <th>pixel783</th>\n",
       "    </tr>\n",
       "  </thead>\n",
       "  <tbody>\n",
       "    <tr>\n",
       "      <th>26151</th>\n",
       "      <td>6</td>\n",
       "      <td>0</td>\n",
       "      <td>0</td>\n",
       "      <td>0</td>\n",
       "      <td>0</td>\n",
       "      <td>0</td>\n",
       "      <td>0</td>\n",
       "      <td>0</td>\n",
       "      <td>0</td>\n",
       "      <td>0</td>\n",
       "      <td>...</td>\n",
       "      <td>0</td>\n",
       "      <td>0</td>\n",
       "      <td>0</td>\n",
       "      <td>0</td>\n",
       "      <td>0</td>\n",
       "      <td>0</td>\n",
       "      <td>0</td>\n",
       "      <td>0</td>\n",
       "      <td>0</td>\n",
       "      <td>0</td>\n",
       "    </tr>\n",
       "    <tr>\n",
       "      <th>27728</th>\n",
       "      <td>3</td>\n",
       "      <td>0</td>\n",
       "      <td>0</td>\n",
       "      <td>0</td>\n",
       "      <td>0</td>\n",
       "      <td>0</td>\n",
       "      <td>0</td>\n",
       "      <td>0</td>\n",
       "      <td>0</td>\n",
       "      <td>0</td>\n",
       "      <td>...</td>\n",
       "      <td>0</td>\n",
       "      <td>0</td>\n",
       "      <td>0</td>\n",
       "      <td>0</td>\n",
       "      <td>0</td>\n",
       "      <td>0</td>\n",
       "      <td>0</td>\n",
       "      <td>0</td>\n",
       "      <td>0</td>\n",
       "      <td>0</td>\n",
       "    </tr>\n",
       "    <tr>\n",
       "      <th>5881</th>\n",
       "      <td>6</td>\n",
       "      <td>0</td>\n",
       "      <td>0</td>\n",
       "      <td>0</td>\n",
       "      <td>0</td>\n",
       "      <td>0</td>\n",
       "      <td>0</td>\n",
       "      <td>0</td>\n",
       "      <td>0</td>\n",
       "      <td>0</td>\n",
       "      <td>...</td>\n",
       "      <td>0</td>\n",
       "      <td>0</td>\n",
       "      <td>0</td>\n",
       "      <td>0</td>\n",
       "      <td>0</td>\n",
       "      <td>0</td>\n",
       "      <td>0</td>\n",
       "      <td>0</td>\n",
       "      <td>0</td>\n",
       "      <td>0</td>\n",
       "    </tr>\n",
       "    <tr>\n",
       "      <th>34275</th>\n",
       "      <td>7</td>\n",
       "      <td>0</td>\n",
       "      <td>0</td>\n",
       "      <td>0</td>\n",
       "      <td>0</td>\n",
       "      <td>0</td>\n",
       "      <td>0</td>\n",
       "      <td>0</td>\n",
       "      <td>0</td>\n",
       "      <td>0</td>\n",
       "      <td>...</td>\n",
       "      <td>0</td>\n",
       "      <td>0</td>\n",
       "      <td>0</td>\n",
       "      <td>0</td>\n",
       "      <td>0</td>\n",
       "      <td>0</td>\n",
       "      <td>0</td>\n",
       "      <td>0</td>\n",
       "      <td>0</td>\n",
       "      <td>0</td>\n",
       "    </tr>\n",
       "    <tr>\n",
       "      <th>40076</th>\n",
       "      <td>3</td>\n",
       "      <td>0</td>\n",
       "      <td>0</td>\n",
       "      <td>0</td>\n",
       "      <td>0</td>\n",
       "      <td>0</td>\n",
       "      <td>0</td>\n",
       "      <td>0</td>\n",
       "      <td>0</td>\n",
       "      <td>0</td>\n",
       "      <td>...</td>\n",
       "      <td>0</td>\n",
       "      <td>0</td>\n",
       "      <td>0</td>\n",
       "      <td>0</td>\n",
       "      <td>0</td>\n",
       "      <td>0</td>\n",
       "      <td>0</td>\n",
       "      <td>0</td>\n",
       "      <td>0</td>\n",
       "      <td>0</td>\n",
       "    </tr>\n",
       "    <tr>\n",
       "      <th>...</th>\n",
       "      <td>...</td>\n",
       "      <td>...</td>\n",
       "      <td>...</td>\n",
       "      <td>...</td>\n",
       "      <td>...</td>\n",
       "      <td>...</td>\n",
       "      <td>...</td>\n",
       "      <td>...</td>\n",
       "      <td>...</td>\n",
       "      <td>...</td>\n",
       "      <td>...</td>\n",
       "      <td>...</td>\n",
       "      <td>...</td>\n",
       "      <td>...</td>\n",
       "      <td>...</td>\n",
       "      <td>...</td>\n",
       "      <td>...</td>\n",
       "      <td>...</td>\n",
       "      <td>...</td>\n",
       "      <td>...</td>\n",
       "      <td>...</td>\n",
       "    </tr>\n",
       "    <tr>\n",
       "      <th>13661</th>\n",
       "      <td>6</td>\n",
       "      <td>0</td>\n",
       "      <td>0</td>\n",
       "      <td>0</td>\n",
       "      <td>0</td>\n",
       "      <td>0</td>\n",
       "      <td>0</td>\n",
       "      <td>0</td>\n",
       "      <td>0</td>\n",
       "      <td>0</td>\n",
       "      <td>...</td>\n",
       "      <td>0</td>\n",
       "      <td>0</td>\n",
       "      <td>0</td>\n",
       "      <td>0</td>\n",
       "      <td>0</td>\n",
       "      <td>0</td>\n",
       "      <td>0</td>\n",
       "      <td>0</td>\n",
       "      <td>0</td>\n",
       "      <td>0</td>\n",
       "    </tr>\n",
       "    <tr>\n",
       "      <th>39328</th>\n",
       "      <td>7</td>\n",
       "      <td>0</td>\n",
       "      <td>0</td>\n",
       "      <td>0</td>\n",
       "      <td>0</td>\n",
       "      <td>0</td>\n",
       "      <td>0</td>\n",
       "      <td>0</td>\n",
       "      <td>0</td>\n",
       "      <td>0</td>\n",
       "      <td>...</td>\n",
       "      <td>0</td>\n",
       "      <td>0</td>\n",
       "      <td>0</td>\n",
       "      <td>0</td>\n",
       "      <td>0</td>\n",
       "      <td>0</td>\n",
       "      <td>0</td>\n",
       "      <td>0</td>\n",
       "      <td>0</td>\n",
       "      <td>0</td>\n",
       "    </tr>\n",
       "    <tr>\n",
       "      <th>22740</th>\n",
       "      <td>9</td>\n",
       "      <td>0</td>\n",
       "      <td>0</td>\n",
       "      <td>0</td>\n",
       "      <td>0</td>\n",
       "      <td>0</td>\n",
       "      <td>0</td>\n",
       "      <td>0</td>\n",
       "      <td>0</td>\n",
       "      <td>0</td>\n",
       "      <td>...</td>\n",
       "      <td>0</td>\n",
       "      <td>0</td>\n",
       "      <td>0</td>\n",
       "      <td>0</td>\n",
       "      <td>0</td>\n",
       "      <td>0</td>\n",
       "      <td>0</td>\n",
       "      <td>0</td>\n",
       "      <td>0</td>\n",
       "      <td>0</td>\n",
       "    </tr>\n",
       "    <tr>\n",
       "      <th>4031</th>\n",
       "      <td>9</td>\n",
       "      <td>0</td>\n",
       "      <td>0</td>\n",
       "      <td>0</td>\n",
       "      <td>0</td>\n",
       "      <td>0</td>\n",
       "      <td>0</td>\n",
       "      <td>0</td>\n",
       "      <td>0</td>\n",
       "      <td>0</td>\n",
       "      <td>...</td>\n",
       "      <td>0</td>\n",
       "      <td>0</td>\n",
       "      <td>0</td>\n",
       "      <td>0</td>\n",
       "      <td>0</td>\n",
       "      <td>0</td>\n",
       "      <td>0</td>\n",
       "      <td>0</td>\n",
       "      <td>0</td>\n",
       "      <td>0</td>\n",
       "    </tr>\n",
       "    <tr>\n",
       "      <th>30608</th>\n",
       "      <td>8</td>\n",
       "      <td>0</td>\n",
       "      <td>0</td>\n",
       "      <td>0</td>\n",
       "      <td>0</td>\n",
       "      <td>0</td>\n",
       "      <td>0</td>\n",
       "      <td>0</td>\n",
       "      <td>0</td>\n",
       "      <td>0</td>\n",
       "      <td>...</td>\n",
       "      <td>0</td>\n",
       "      <td>0</td>\n",
       "      <td>0</td>\n",
       "      <td>0</td>\n",
       "      <td>0</td>\n",
       "      <td>0</td>\n",
       "      <td>0</td>\n",
       "      <td>0</td>\n",
       "      <td>0</td>\n",
       "      <td>0</td>\n",
       "    </tr>\n",
       "  </tbody>\n",
       "</table>\n",
       "<p>10000 rows × 785 columns</p>\n",
       "</div>"
      ],
      "text/plain": [
       "       label  pixel0  pixel1  pixel2  pixel3  pixel4  pixel5  pixel6  pixel7  \\\n",
       "26151      6       0       0       0       0       0       0       0       0   \n",
       "27728      3       0       0       0       0       0       0       0       0   \n",
       "5881       6       0       0       0       0       0       0       0       0   \n",
       "34275      7       0       0       0       0       0       0       0       0   \n",
       "40076      3       0       0       0       0       0       0       0       0   \n",
       "...      ...     ...     ...     ...     ...     ...     ...     ...     ...   \n",
       "13661      6       0       0       0       0       0       0       0       0   \n",
       "39328      7       0       0       0       0       0       0       0       0   \n",
       "22740      9       0       0       0       0       0       0       0       0   \n",
       "4031       9       0       0       0       0       0       0       0       0   \n",
       "30608      8       0       0       0       0       0       0       0       0   \n",
       "\n",
       "       pixel8  ...  pixel774  pixel775  pixel776  pixel777  pixel778  \\\n",
       "26151       0  ...         0         0         0         0         0   \n",
       "27728       0  ...         0         0         0         0         0   \n",
       "5881        0  ...         0         0         0         0         0   \n",
       "34275       0  ...         0         0         0         0         0   \n",
       "40076       0  ...         0         0         0         0         0   \n",
       "...       ...  ...       ...       ...       ...       ...       ...   \n",
       "13661       0  ...         0         0         0         0         0   \n",
       "39328       0  ...         0         0         0         0         0   \n",
       "22740       0  ...         0         0         0         0         0   \n",
       "4031        0  ...         0         0         0         0         0   \n",
       "30608       0  ...         0         0         0         0         0   \n",
       "\n",
       "       pixel779  pixel780  pixel781  pixel782  pixel783  \n",
       "26151         0         0         0         0         0  \n",
       "27728         0         0         0         0         0  \n",
       "5881          0         0         0         0         0  \n",
       "34275         0         0         0         0         0  \n",
       "40076         0         0         0         0         0  \n",
       "...         ...       ...       ...       ...       ...  \n",
       "13661         0         0         0         0         0  \n",
       "39328         0         0         0         0         0  \n",
       "22740         0         0         0         0         0  \n",
       "4031          0         0         0         0         0  \n",
       "30608         0         0         0         0         0  \n",
       "\n",
       "[10000 rows x 785 columns]"
      ]
     },
     "execution_count": 4,
     "metadata": {},
     "output_type": "execute_result"
    }
   ],
   "source": [
    "# Remove unnecessary data or NAN\n",
    "to_remove = []\n",
    "encoded = encoded.drop(encoded.columns[to_remove], axis=1)\n",
    "encoded"
   ]
  },
  {
   "cell_type": "code",
   "execution_count": 5,
   "metadata": {},
   "outputs": [
    {
     "data": {
      "text/html": [
       "<div>\n",
       "<style scoped>\n",
       "    .dataframe tbody tr th:only-of-type {\n",
       "        vertical-align: middle;\n",
       "    }\n",
       "\n",
       "    .dataframe tbody tr th {\n",
       "        vertical-align: top;\n",
       "    }\n",
       "\n",
       "    .dataframe thead th {\n",
       "        text-align: right;\n",
       "    }\n",
       "</style>\n",
       "<table border=\"1\" class=\"dataframe\">\n",
       "  <thead>\n",
       "    <tr style=\"text-align: right;\">\n",
       "      <th></th>\n",
       "      <th>pixel0</th>\n",
       "      <th>pixel1</th>\n",
       "      <th>pixel2</th>\n",
       "      <th>pixel3</th>\n",
       "      <th>pixel4</th>\n",
       "      <th>pixel5</th>\n",
       "      <th>pixel6</th>\n",
       "      <th>pixel7</th>\n",
       "      <th>pixel8</th>\n",
       "      <th>pixel9</th>\n",
       "      <th>...</th>\n",
       "      <th>pixel774</th>\n",
       "      <th>pixel775</th>\n",
       "      <th>pixel776</th>\n",
       "      <th>pixel777</th>\n",
       "      <th>pixel778</th>\n",
       "      <th>pixel779</th>\n",
       "      <th>pixel780</th>\n",
       "      <th>pixel781</th>\n",
       "      <th>pixel782</th>\n",
       "      <th>pixel783</th>\n",
       "    </tr>\n",
       "  </thead>\n",
       "  <tbody>\n",
       "    <tr>\n",
       "      <th>17911</th>\n",
       "      <td>0.0</td>\n",
       "      <td>0.0</td>\n",
       "      <td>0.0</td>\n",
       "      <td>0.0</td>\n",
       "      <td>0.0</td>\n",
       "      <td>0.0</td>\n",
       "      <td>0.0</td>\n",
       "      <td>0.0</td>\n",
       "      <td>0.0</td>\n",
       "      <td>0.0</td>\n",
       "      <td>...</td>\n",
       "      <td>0.0</td>\n",
       "      <td>0.0</td>\n",
       "      <td>0.0</td>\n",
       "      <td>0.0</td>\n",
       "      <td>0.0</td>\n",
       "      <td>0.0</td>\n",
       "      <td>0.0</td>\n",
       "      <td>0.0</td>\n",
       "      <td>0.0</td>\n",
       "      <td>0.0</td>\n",
       "    </tr>\n",
       "    <tr>\n",
       "      <th>20499</th>\n",
       "      <td>0.0</td>\n",
       "      <td>0.0</td>\n",
       "      <td>0.0</td>\n",
       "      <td>0.0</td>\n",
       "      <td>0.0</td>\n",
       "      <td>0.0</td>\n",
       "      <td>0.0</td>\n",
       "      <td>0.0</td>\n",
       "      <td>0.0</td>\n",
       "      <td>0.0</td>\n",
       "      <td>...</td>\n",
       "      <td>0.0</td>\n",
       "      <td>0.0</td>\n",
       "      <td>0.0</td>\n",
       "      <td>0.0</td>\n",
       "      <td>0.0</td>\n",
       "      <td>0.0</td>\n",
       "      <td>0.0</td>\n",
       "      <td>0.0</td>\n",
       "      <td>0.0</td>\n",
       "      <td>0.0</td>\n",
       "    </tr>\n",
       "    <tr>\n",
       "      <th>912</th>\n",
       "      <td>0.0</td>\n",
       "      <td>0.0</td>\n",
       "      <td>0.0</td>\n",
       "      <td>0.0</td>\n",
       "      <td>0.0</td>\n",
       "      <td>0.0</td>\n",
       "      <td>0.0</td>\n",
       "      <td>0.0</td>\n",
       "      <td>0.0</td>\n",
       "      <td>0.0</td>\n",
       "      <td>...</td>\n",
       "      <td>0.0</td>\n",
       "      <td>0.0</td>\n",
       "      <td>0.0</td>\n",
       "      <td>0.0</td>\n",
       "      <td>0.0</td>\n",
       "      <td>0.0</td>\n",
       "      <td>0.0</td>\n",
       "      <td>0.0</td>\n",
       "      <td>0.0</td>\n",
       "      <td>0.0</td>\n",
       "    </tr>\n",
       "    <tr>\n",
       "      <th>897</th>\n",
       "      <td>0.0</td>\n",
       "      <td>0.0</td>\n",
       "      <td>0.0</td>\n",
       "      <td>0.0</td>\n",
       "      <td>0.0</td>\n",
       "      <td>0.0</td>\n",
       "      <td>0.0</td>\n",
       "      <td>0.0</td>\n",
       "      <td>0.0</td>\n",
       "      <td>0.0</td>\n",
       "      <td>...</td>\n",
       "      <td>0.0</td>\n",
       "      <td>0.0</td>\n",
       "      <td>0.0</td>\n",
       "      <td>0.0</td>\n",
       "      <td>0.0</td>\n",
       "      <td>0.0</td>\n",
       "      <td>0.0</td>\n",
       "      <td>0.0</td>\n",
       "      <td>0.0</td>\n",
       "      <td>0.0</td>\n",
       "    </tr>\n",
       "    <tr>\n",
       "      <th>4501</th>\n",
       "      <td>0.0</td>\n",
       "      <td>0.0</td>\n",
       "      <td>0.0</td>\n",
       "      <td>0.0</td>\n",
       "      <td>0.0</td>\n",
       "      <td>0.0</td>\n",
       "      <td>0.0</td>\n",
       "      <td>0.0</td>\n",
       "      <td>0.0</td>\n",
       "      <td>0.0</td>\n",
       "      <td>...</td>\n",
       "      <td>0.0</td>\n",
       "      <td>0.0</td>\n",
       "      <td>0.0</td>\n",
       "      <td>0.0</td>\n",
       "      <td>0.0</td>\n",
       "      <td>0.0</td>\n",
       "      <td>0.0</td>\n",
       "      <td>0.0</td>\n",
       "      <td>0.0</td>\n",
       "      <td>0.0</td>\n",
       "    </tr>\n",
       "    <tr>\n",
       "      <th>...</th>\n",
       "      <td>...</td>\n",
       "      <td>...</td>\n",
       "      <td>...</td>\n",
       "      <td>...</td>\n",
       "      <td>...</td>\n",
       "      <td>...</td>\n",
       "      <td>...</td>\n",
       "      <td>...</td>\n",
       "      <td>...</td>\n",
       "      <td>...</td>\n",
       "      <td>...</td>\n",
       "      <td>...</td>\n",
       "      <td>...</td>\n",
       "      <td>...</td>\n",
       "      <td>...</td>\n",
       "      <td>...</td>\n",
       "      <td>...</td>\n",
       "      <td>...</td>\n",
       "      <td>...</td>\n",
       "      <td>...</td>\n",
       "      <td>...</td>\n",
       "    </tr>\n",
       "    <tr>\n",
       "      <th>11180</th>\n",
       "      <td>0.0</td>\n",
       "      <td>0.0</td>\n",
       "      <td>0.0</td>\n",
       "      <td>0.0</td>\n",
       "      <td>0.0</td>\n",
       "      <td>0.0</td>\n",
       "      <td>0.0</td>\n",
       "      <td>0.0</td>\n",
       "      <td>0.0</td>\n",
       "      <td>0.0</td>\n",
       "      <td>...</td>\n",
       "      <td>0.0</td>\n",
       "      <td>0.0</td>\n",
       "      <td>0.0</td>\n",
       "      <td>0.0</td>\n",
       "      <td>0.0</td>\n",
       "      <td>0.0</td>\n",
       "      <td>0.0</td>\n",
       "      <td>0.0</td>\n",
       "      <td>0.0</td>\n",
       "      <td>0.0</td>\n",
       "    </tr>\n",
       "    <tr>\n",
       "      <th>6506</th>\n",
       "      <td>0.0</td>\n",
       "      <td>0.0</td>\n",
       "      <td>0.0</td>\n",
       "      <td>0.0</td>\n",
       "      <td>0.0</td>\n",
       "      <td>0.0</td>\n",
       "      <td>0.0</td>\n",
       "      <td>0.0</td>\n",
       "      <td>0.0</td>\n",
       "      <td>0.0</td>\n",
       "      <td>...</td>\n",
       "      <td>0.0</td>\n",
       "      <td>0.0</td>\n",
       "      <td>0.0</td>\n",
       "      <td>0.0</td>\n",
       "      <td>0.0</td>\n",
       "      <td>0.0</td>\n",
       "      <td>0.0</td>\n",
       "      <td>0.0</td>\n",
       "      <td>0.0</td>\n",
       "      <td>0.0</td>\n",
       "    </tr>\n",
       "    <tr>\n",
       "      <th>8003</th>\n",
       "      <td>0.0</td>\n",
       "      <td>0.0</td>\n",
       "      <td>0.0</td>\n",
       "      <td>0.0</td>\n",
       "      <td>0.0</td>\n",
       "      <td>0.0</td>\n",
       "      <td>0.0</td>\n",
       "      <td>0.0</td>\n",
       "      <td>0.0</td>\n",
       "      <td>0.0</td>\n",
       "      <td>...</td>\n",
       "      <td>0.0</td>\n",
       "      <td>0.0</td>\n",
       "      <td>0.0</td>\n",
       "      <td>0.0</td>\n",
       "      <td>0.0</td>\n",
       "      <td>0.0</td>\n",
       "      <td>0.0</td>\n",
       "      <td>0.0</td>\n",
       "      <td>0.0</td>\n",
       "      <td>0.0</td>\n",
       "    </tr>\n",
       "    <tr>\n",
       "      <th>30293</th>\n",
       "      <td>0.0</td>\n",
       "      <td>0.0</td>\n",
       "      <td>0.0</td>\n",
       "      <td>0.0</td>\n",
       "      <td>0.0</td>\n",
       "      <td>0.0</td>\n",
       "      <td>0.0</td>\n",
       "      <td>0.0</td>\n",
       "      <td>0.0</td>\n",
       "      <td>0.0</td>\n",
       "      <td>...</td>\n",
       "      <td>0.0</td>\n",
       "      <td>0.0</td>\n",
       "      <td>0.0</td>\n",
       "      <td>0.0</td>\n",
       "      <td>0.0</td>\n",
       "      <td>0.0</td>\n",
       "      <td>0.0</td>\n",
       "      <td>0.0</td>\n",
       "      <td>0.0</td>\n",
       "      <td>0.0</td>\n",
       "    </tr>\n",
       "    <tr>\n",
       "      <th>20366</th>\n",
       "      <td>0.0</td>\n",
       "      <td>0.0</td>\n",
       "      <td>0.0</td>\n",
       "      <td>0.0</td>\n",
       "      <td>0.0</td>\n",
       "      <td>0.0</td>\n",
       "      <td>0.0</td>\n",
       "      <td>0.0</td>\n",
       "      <td>0.0</td>\n",
       "      <td>0.0</td>\n",
       "      <td>...</td>\n",
       "      <td>0.0</td>\n",
       "      <td>0.0</td>\n",
       "      <td>0.0</td>\n",
       "      <td>0.0</td>\n",
       "      <td>0.0</td>\n",
       "      <td>0.0</td>\n",
       "      <td>0.0</td>\n",
       "      <td>0.0</td>\n",
       "      <td>0.0</td>\n",
       "      <td>0.0</td>\n",
       "    </tr>\n",
       "  </tbody>\n",
       "</table>\n",
       "<p>5000 rows × 784 columns</p>\n",
       "</div>"
      ],
      "text/plain": [
       "       pixel0  pixel1  pixel2  pixel3  pixel4  pixel5  pixel6  pixel7  pixel8  \\\n",
       "17911     0.0     0.0     0.0     0.0     0.0     0.0     0.0     0.0     0.0   \n",
       "20499     0.0     0.0     0.0     0.0     0.0     0.0     0.0     0.0     0.0   \n",
       "912       0.0     0.0     0.0     0.0     0.0     0.0     0.0     0.0     0.0   \n",
       "897       0.0     0.0     0.0     0.0     0.0     0.0     0.0     0.0     0.0   \n",
       "4501      0.0     0.0     0.0     0.0     0.0     0.0     0.0     0.0     0.0   \n",
       "...       ...     ...     ...     ...     ...     ...     ...     ...     ...   \n",
       "11180     0.0     0.0     0.0     0.0     0.0     0.0     0.0     0.0     0.0   \n",
       "6506      0.0     0.0     0.0     0.0     0.0     0.0     0.0     0.0     0.0   \n",
       "8003      0.0     0.0     0.0     0.0     0.0     0.0     0.0     0.0     0.0   \n",
       "30293     0.0     0.0     0.0     0.0     0.0     0.0     0.0     0.0     0.0   \n",
       "20366     0.0     0.0     0.0     0.0     0.0     0.0     0.0     0.0     0.0   \n",
       "\n",
       "       pixel9  ...  pixel774  pixel775  pixel776  pixel777  pixel778  \\\n",
       "17911     0.0  ...       0.0       0.0       0.0       0.0       0.0   \n",
       "20499     0.0  ...       0.0       0.0       0.0       0.0       0.0   \n",
       "912       0.0  ...       0.0       0.0       0.0       0.0       0.0   \n",
       "897       0.0  ...       0.0       0.0       0.0       0.0       0.0   \n",
       "4501      0.0  ...       0.0       0.0       0.0       0.0       0.0   \n",
       "...       ...  ...       ...       ...       ...       ...       ...   \n",
       "11180     0.0  ...       0.0       0.0       0.0       0.0       0.0   \n",
       "6506      0.0  ...       0.0       0.0       0.0       0.0       0.0   \n",
       "8003      0.0  ...       0.0       0.0       0.0       0.0       0.0   \n",
       "30293     0.0  ...       0.0       0.0       0.0       0.0       0.0   \n",
       "20366     0.0  ...       0.0       0.0       0.0       0.0       0.0   \n",
       "\n",
       "       pixel779  pixel780  pixel781  pixel782  pixel783  \n",
       "17911       0.0       0.0       0.0       0.0       0.0  \n",
       "20499       0.0       0.0       0.0       0.0       0.0  \n",
       "912         0.0       0.0       0.0       0.0       0.0  \n",
       "897         0.0       0.0       0.0       0.0       0.0  \n",
       "4501        0.0       0.0       0.0       0.0       0.0  \n",
       "...         ...       ...       ...       ...       ...  \n",
       "11180       0.0       0.0       0.0       0.0       0.0  \n",
       "6506        0.0       0.0       0.0       0.0       0.0  \n",
       "8003        0.0       0.0       0.0       0.0       0.0  \n",
       "30293       0.0       0.0       0.0       0.0       0.0  \n",
       "20366       0.0       0.0       0.0       0.0       0.0  \n",
       "\n",
       "[5000 rows x 784 columns]"
      ]
     },
     "execution_count": 5,
     "metadata": {},
     "output_type": "execute_result"
    }
   ],
   "source": [
    "# Prepare data for training with input rust functions expect\n",
    "label_col = 0\n",
    "\n",
    "# Normalize columns\n",
    "labels = encoded.iloc[:, label_col]\n",
    "max_per_col = encoded.abs().max().replace(0,1)\n",
    "encoded = (encoded / max_per_col)\n",
    "encoded.iloc[:, label_col] = labels\n",
    "\n",
    "train_data, test_data = split_train_test(encoded, 0.5, True)\n",
    "\n",
    "# Remove any encoded data of the same class\n",
    "train_data_features = train_data.copy()\n",
    "remove_encoded_category_data_and_label(train_data_features, feature_to_encoded_cols, label_col)\n",
    "train_data_features_list = train_data_features.values.tolist()\n",
    "\n",
    "test_data_features = test_data.copy()\n",
    "remove_encoded_category_data_and_label(test_data_features, feature_to_encoded_cols, label_col)\n",
    "test_data_features_list = test_data_features.values.tolist()\n",
    "\n",
    "# Data Correlation\n",
    "# corr = train_data_features.corr()\n",
    "# fig = px.imshow(corr, aspect=\"auto\", origin='lower')\n",
    "# fig.show()\n",
    "\n",
    "# Get labels\n",
    "train_data_labels = train_data.iloc[:, label_col].values.tolist()\n",
    "test_data_labels = test_data.iloc[:,label_col].values.tolist()\n",
    "train_data_features"
   ]
  },
  {
   "cell_type": "code",
   "execution_count": 6,
   "metadata": {},
   "outputs": [
    {
     "name": "stdout",
     "output_type": "stream",
     "text": [
      "Classification for row 0 is: 6.0\n"
     ]
    },
    {
     "data": {
      "application/vnd.plotly.v1+json": {
       "config": {
        "plotlyServerURL": "https://plot.ly"
       },
       "data": [
        {
         "coloraxis": "coloraxis",
         "hovertemplate": "x: %{x}<br>y: %{y}<br>color: %{z}<extra></extra>",
         "name": "0",
         "type": "heatmap",
         "xaxis": "x",
         "yaxis": "y",
         "z": [
          [
           0,
           0,
           0,
           0,
           0,
           0,
           0,
           0,
           0,
           0,
           0,
           0,
           0,
           0,
           0,
           0,
           0,
           0,
           0,
           0,
           0,
           0,
           0,
           0,
           0,
           0,
           0,
           0
          ],
          [
           0,
           0,
           0,
           0,
           0,
           0,
           0,
           0,
           0,
           0,
           0,
           0,
           0,
           0,
           0,
           0,
           0,
           0,
           0,
           0,
           0,
           0,
           0,
           0,
           0,
           0,
           0,
           0
          ],
          [
           0,
           0,
           0,
           0,
           0,
           0,
           0,
           0,
           0,
           0,
           0,
           0,
           0,
           0,
           0,
           0,
           0,
           0,
           0,
           0,
           0,
           0,
           0,
           0,
           0,
           0,
           0,
           0
          ],
          [
           0,
           0,
           0,
           0,
           0,
           0,
           0,
           0,
           0,
           0,
           0,
           0,
           0,
           0,
           0,
           0,
           0,
           0,
           0,
           0,
           0,
           0,
           0,
           0,
           0,
           0,
           0,
           0
          ],
          [
           0,
           0,
           0,
           0,
           0,
           0,
           0,
           0,
           0,
           0,
           0,
           0,
           0,
           0,
           0.08235294117647059,
           0.6784313725490196,
           0.9921568627450981,
           0.996078431372549,
           0.9921568627450981,
           0.3215686274509804,
           0,
           0,
           0,
           0,
           0,
           0,
           0,
           0
          ],
          [
           0,
           0,
           0,
           0,
           0,
           0,
           0,
           0,
           0,
           0,
           0,
           0,
           0,
           0.08235294117647059,
           0.796078431372549,
           0.9921568627450981,
           0.9882352941176471,
           0.9921568627450981,
           0.9882352941176471,
           0.796078431372549,
           0,
           0,
           0,
           0,
           0,
           0,
           0,
           0
          ],
          [
           0,
           0,
           0,
           0,
           0,
           0,
           0,
           0,
           0,
           0,
           0,
           0,
           0.08235294117647059,
           0.8392156862745098,
           0.9921568627450981,
           0.996078431372549,
           0.9921568627450981,
           0.5568627450980392,
           0.6352941176470588,
           0.7176470588235294,
           0,
           0,
           0,
           0,
           0,
           0,
           0,
           0
          ],
          [
           0,
           0,
           0,
           0,
           0,
           0,
           0,
           0,
           0,
           0,
           0,
           0,
           0.7176470588235294,
           0.9921568627450981,
           0.9882352941176471,
           0.9137254901960784,
           0.27450980392156865,
           0,
           0.0784313725490196,
           0.0784313725490196,
           0,
           0,
           0,
           0,
           0,
           0,
           0,
           0
          ],
          [
           0,
           0,
           0,
           0,
           0,
           0,
           0,
           0,
           0,
           0,
           0,
           0.44313725490196076,
           0.9921568627450981,
           0.996078431372549,
           0.9921568627450981,
           0.1607843137254902,
           0,
           0,
           0,
           0,
           0,
           0,
           0,
           0,
           0,
           0,
           0,
           0
          ],
          [
           0,
           0,
           0,
           0,
           0,
           0,
           0,
           0,
           0,
           0,
           0.4823529411764706,
           0.9137254901960784,
           0.9882352941176471,
           0.9921568627450981,
           0.5098039215686274,
           0,
           0,
           0,
           0,
           0.08235294117647059,
           0.4,
           0.4,
           0.0784313725490196,
           0,
           0,
           0,
           0,
           0
          ],
          [
           0,
           0,
           0,
           0,
           0,
           0,
           0,
           0,
           0,
           0.2,
           0.9137254901960784,
           0.996078431372549,
           0.9921568627450981,
           0.7176470588235294,
           0,
           0,
           0,
           0.2,
           0.7568627450980392,
           0.996078431372549,
           0.9921568627450981,
           0.996078431372549,
           0.8352941176470589,
           0.08235294117647059,
           0,
           0,
           0,
           0
          ],
          [
           0,
           0,
           0,
           0,
           0,
           0,
           0,
           0,
           0,
           0.9137254901960784,
           0.9882352941176471,
           0.9921568627450981,
           0.8313725490196079,
           0.0784313725490196,
           0,
           0,
           0.3215686274509804,
           0.9137254901960784,
           0.9882352941176471,
           0.9921568627450981,
           0.9882352941176471,
           0.9921568627450981,
           0.9882352941176471,
           0.4,
           0,
           0,
           0,
           0
          ],
          [
           0,
           0,
           0,
           0,
           0,
           0,
           0,
           0.043137254901960784,
           0.6784313725490196,
           0.996078431372549,
           0.9921568627450981,
           0.9568627450980393,
           0.3176470588235294,
           0,
           0.08235294117647059,
           0.6784313725490196,
           0.9921568627450981,
           0.996078431372549,
           0.9921568627450981,
           0.796078431372549,
           0.4,
           0.996078431372549,
           0.9921568627450981,
           0.4,
           0,
           0,
           0,
           0
          ],
          [
           0,
           0,
           0,
           0,
           0,
           0,
           0,
           0.2,
           0.9882352941176471,
           0.9921568627450981,
           0.9882352941176471,
           0.47843137254901963,
           0,
           0.08235294117647059,
           0.796078431372549,
           0.9921568627450981,
           0.9882352941176471,
           0.9921568627450981,
           0.6705882352941176,
           0.0784313725490196,
           0,
           0.9921568627450981,
           0.9882352941176471,
           0.4,
           0,
           0,
           0,
           0
          ],
          [
           0,
           0,
           0,
           0,
           0,
           0,
           0,
           0.44313725490196076,
           0.9921568627450981,
           0.996078431372549,
           0.9137254901960784,
           0.1607843137254902,
           0.08235294117647059,
           0.6784313725490196,
           0.9921568627450981,
           0.996078431372549,
           0.9921568627450981,
           0.4823529411764706,
           0,
           0.043137254901960784,
           0.5176470588235295,
           0.996078431372549,
           0.9921568627450981,
           0.4,
           0,
           0,
           0,
           0
          ],
          [
           0,
           0,
           0,
           0,
           0,
           0,
           0,
           0.9137254901960784,
           0.9882352941176471,
           0.9921568627450981,
           0.43529411764705883,
           0.08235294117647059,
           0.796078431372549,
           0.9921568627450981,
           0.9882352941176471,
           0.9137254901960784,
           0.27450980392156865,
           0,
           0,
           0.5176470588235295,
           0.9882352941176471,
           0.9921568627450981,
           0.8313725490196079,
           0.0784313725490196,
           0,
           0,
           0,
           0
          ],
          [
           0,
           0,
           0,
           0,
           0,
           0,
           0.4,
           0.996078431372549,
           0.9921568627450981,
           0.9568627450980393,
           0.1568627450980392,
           0.6784313725490196,
           0.9921568627450981,
           0.996078431372549,
           0.9137254901960784,
           0,
           0.08235294117647059,
           0.44313725490196076,
           0.9137254901960784,
           0.996078431372549,
           0.9921568627450981,
           0.7176470588235294,
           0.0784313725490196,
           0,
           0,
           0,
           0,
           0
          ],
          [
           0,
           0,
           0,
           0,
           0,
           0,
           0.4,
           0.9921568627450981,
           0.9882352941176471,
           0.8745098039215686,
           0.4,
           0.9921568627450981,
           0.9882352941176471,
           0.9137254901960784,
           0.5137254901960784,
           0.796078431372549,
           0.8745098039215686,
           0.9921568627450981,
           0.9882352941176471,
           0.9921568627450981,
           0.5098039215686274,
           0,
           0,
           0,
           0,
           0,
           0,
           0
          ],
          [
           0,
           0,
           0,
           0,
           0,
           0,
           0.4,
           0.996078431372549,
           0.9921568627450981,
           0.996078431372549,
           0.9921568627450981,
           0.996078431372549,
           0.9921568627450981,
           0.996078431372549,
           0.9921568627450981,
           0.996078431372549,
           0.9921568627450981,
           0.996078431372549,
           0.9921568627450981,
           0.4823529411764706,
           0,
           0,
           0,
           0,
           0,
           0,
           0,
           0
          ],
          [
           0,
           0,
           0,
           0,
           0,
           0,
           0.0784313725490196,
           0.8352941176470589,
           0.9882352941176471,
           0.9921568627450981,
           0.9882352941176471,
           0.9921568627450981,
           0.9882352941176471,
           0.9921568627450981,
           0.9882352941176471,
           0.9921568627450981,
           0.9882352941176471,
           0.7529411764705882,
           0.27450980392156865,
           0,
           0,
           0,
           0,
           0,
           0,
           0,
           0,
           0
          ],
          [
           0,
           0,
           0,
           0,
           0,
           0,
           0,
           0.3215686274509804,
           0.8745098039215686,
           1,
           0.9921568627450981,
           0.996078431372549,
           0.9921568627450981,
           0.796078431372549,
           0.47843137254901963,
           0.3215686274509804,
           0,
           0,
           0,
           0,
           0,
           0,
           0,
           0,
           0,
           0,
           0,
           0
          ],
          [
           0,
           0,
           0,
           0,
           0,
           0,
           0,
           0,
           0.0784313725490196,
           0.2784313725490196,
           0.9098039215686274,
           0.9921568627450981,
           0.6705882352941176,
           0,
           0,
           0,
           0,
           0,
           0,
           0,
           0,
           0,
           0,
           0,
           0,
           0,
           0,
           0
          ],
          [
           0,
           0,
           0,
           0,
           0,
           0,
           0,
           0,
           0,
           0,
           0.7176470588235294,
           0.996078431372549,
           0.9921568627450981,
           0.5176470588235295,
           0.0392156862745098,
           0,
           0,
           0,
           0,
           0,
           0,
           0,
           0,
           0,
           0,
           0,
           0,
           0
          ],
          [
           0,
           0,
           0,
           0,
           0,
           0,
           0,
           0,
           0,
           0,
           0.0784313725490196,
           0.4392156862745098,
           0.9098039215686274,
           0.6745098039215687,
           0.0392156862745098,
           0,
           0,
           0,
           0,
           0,
           0,
           0,
           0,
           0,
           0,
           0,
           0,
           0
          ],
          [
           0,
           0,
           0,
           0,
           0,
           0,
           0,
           0,
           0,
           0,
           0,
           0,
           0,
           0,
           0,
           0,
           0,
           0,
           0,
           0,
           0,
           0,
           0,
           0,
           0,
           0,
           0,
           0
          ],
          [
           0,
           0,
           0,
           0,
           0,
           0,
           0,
           0,
           0,
           0,
           0,
           0,
           0,
           0,
           0,
           0,
           0,
           0,
           0,
           0,
           0,
           0,
           0,
           0,
           0,
           0,
           0,
           0
          ],
          [
           0,
           0,
           0,
           0,
           0,
           0,
           0,
           0,
           0,
           0,
           0,
           0,
           0,
           0,
           0,
           0,
           0,
           0,
           0,
           0,
           0,
           0,
           0,
           0,
           0,
           0,
           0,
           0
          ],
          [
           0,
           0,
           0,
           0,
           0,
           0,
           0,
           0,
           0,
           0,
           0,
           0,
           0,
           0,
           0,
           0,
           0,
           0,
           0,
           0,
           0,
           0,
           0,
           0,
           0,
           0,
           0,
           0
          ]
         ]
        }
       ],
       "layout": {
        "coloraxis": {
         "colorscale": [
          [
           0,
           "rgb(0, 0, 0)"
          ],
          [
           0.09090909090909091,
           "rgb(16, 16, 16)"
          ],
          [
           0.18181818181818182,
           "rgb(38, 38, 38)"
          ],
          [
           0.2727272727272727,
           "rgb(59, 59, 59)"
          ],
          [
           0.36363636363636365,
           "rgb(81, 80, 80)"
          ],
          [
           0.45454545454545453,
           "rgb(102, 101, 101)"
          ],
          [
           0.5454545454545454,
           "rgb(124, 123, 122)"
          ],
          [
           0.6363636363636364,
           "rgb(146, 146, 145)"
          ],
          [
           0.7272727272727273,
           "rgb(171, 171, 170)"
          ],
          [
           0.8181818181818182,
           "rgb(197, 197, 195)"
          ],
          [
           0.9090909090909091,
           "rgb(224, 224, 223)"
          ],
          [
           1,
           "rgb(254, 254, 253)"
          ]
         ]
        },
        "margin": {
         "t": 60
        },
        "template": {
         "data": {
          "bar": [
           {
            "error_x": {
             "color": "#2a3f5f"
            },
            "error_y": {
             "color": "#2a3f5f"
            },
            "marker": {
             "line": {
              "color": "#E5ECF6",
              "width": 0.5
             },
             "pattern": {
              "fillmode": "overlay",
              "size": 10,
              "solidity": 0.2
             }
            },
            "type": "bar"
           }
          ],
          "barpolar": [
           {
            "marker": {
             "line": {
              "color": "#E5ECF6",
              "width": 0.5
             },
             "pattern": {
              "fillmode": "overlay",
              "size": 10,
              "solidity": 0.2
             }
            },
            "type": "barpolar"
           }
          ],
          "carpet": [
           {
            "aaxis": {
             "endlinecolor": "#2a3f5f",
             "gridcolor": "white",
             "linecolor": "white",
             "minorgridcolor": "white",
             "startlinecolor": "#2a3f5f"
            },
            "baxis": {
             "endlinecolor": "#2a3f5f",
             "gridcolor": "white",
             "linecolor": "white",
             "minorgridcolor": "white",
             "startlinecolor": "#2a3f5f"
            },
            "type": "carpet"
           }
          ],
          "choropleth": [
           {
            "colorbar": {
             "outlinewidth": 0,
             "ticks": ""
            },
            "type": "choropleth"
           }
          ],
          "contour": [
           {
            "colorbar": {
             "outlinewidth": 0,
             "ticks": ""
            },
            "colorscale": [
             [
              0,
              "#0d0887"
             ],
             [
              0.1111111111111111,
              "#46039f"
             ],
             [
              0.2222222222222222,
              "#7201a8"
             ],
             [
              0.3333333333333333,
              "#9c179e"
             ],
             [
              0.4444444444444444,
              "#bd3786"
             ],
             [
              0.5555555555555556,
              "#d8576b"
             ],
             [
              0.6666666666666666,
              "#ed7953"
             ],
             [
              0.7777777777777778,
              "#fb9f3a"
             ],
             [
              0.8888888888888888,
              "#fdca26"
             ],
             [
              1,
              "#f0f921"
             ]
            ],
            "type": "contour"
           }
          ],
          "contourcarpet": [
           {
            "colorbar": {
             "outlinewidth": 0,
             "ticks": ""
            },
            "type": "contourcarpet"
           }
          ],
          "heatmap": [
           {
            "colorbar": {
             "outlinewidth": 0,
             "ticks": ""
            },
            "colorscale": [
             [
              0,
              "#0d0887"
             ],
             [
              0.1111111111111111,
              "#46039f"
             ],
             [
              0.2222222222222222,
              "#7201a8"
             ],
             [
              0.3333333333333333,
              "#9c179e"
             ],
             [
              0.4444444444444444,
              "#bd3786"
             ],
             [
              0.5555555555555556,
              "#d8576b"
             ],
             [
              0.6666666666666666,
              "#ed7953"
             ],
             [
              0.7777777777777778,
              "#fb9f3a"
             ],
             [
              0.8888888888888888,
              "#fdca26"
             ],
             [
              1,
              "#f0f921"
             ]
            ],
            "type": "heatmap"
           }
          ],
          "heatmapgl": [
           {
            "colorbar": {
             "outlinewidth": 0,
             "ticks": ""
            },
            "colorscale": [
             [
              0,
              "#0d0887"
             ],
             [
              0.1111111111111111,
              "#46039f"
             ],
             [
              0.2222222222222222,
              "#7201a8"
             ],
             [
              0.3333333333333333,
              "#9c179e"
             ],
             [
              0.4444444444444444,
              "#bd3786"
             ],
             [
              0.5555555555555556,
              "#d8576b"
             ],
             [
              0.6666666666666666,
              "#ed7953"
             ],
             [
              0.7777777777777778,
              "#fb9f3a"
             ],
             [
              0.8888888888888888,
              "#fdca26"
             ],
             [
              1,
              "#f0f921"
             ]
            ],
            "type": "heatmapgl"
           }
          ],
          "histogram": [
           {
            "marker": {
             "pattern": {
              "fillmode": "overlay",
              "size": 10,
              "solidity": 0.2
             }
            },
            "type": "histogram"
           }
          ],
          "histogram2d": [
           {
            "colorbar": {
             "outlinewidth": 0,
             "ticks": ""
            },
            "colorscale": [
             [
              0,
              "#0d0887"
             ],
             [
              0.1111111111111111,
              "#46039f"
             ],
             [
              0.2222222222222222,
              "#7201a8"
             ],
             [
              0.3333333333333333,
              "#9c179e"
             ],
             [
              0.4444444444444444,
              "#bd3786"
             ],
             [
              0.5555555555555556,
              "#d8576b"
             ],
             [
              0.6666666666666666,
              "#ed7953"
             ],
             [
              0.7777777777777778,
              "#fb9f3a"
             ],
             [
              0.8888888888888888,
              "#fdca26"
             ],
             [
              1,
              "#f0f921"
             ]
            ],
            "type": "histogram2d"
           }
          ],
          "histogram2dcontour": [
           {
            "colorbar": {
             "outlinewidth": 0,
             "ticks": ""
            },
            "colorscale": [
             [
              0,
              "#0d0887"
             ],
             [
              0.1111111111111111,
              "#46039f"
             ],
             [
              0.2222222222222222,
              "#7201a8"
             ],
             [
              0.3333333333333333,
              "#9c179e"
             ],
             [
              0.4444444444444444,
              "#bd3786"
             ],
             [
              0.5555555555555556,
              "#d8576b"
             ],
             [
              0.6666666666666666,
              "#ed7953"
             ],
             [
              0.7777777777777778,
              "#fb9f3a"
             ],
             [
              0.8888888888888888,
              "#fdca26"
             ],
             [
              1,
              "#f0f921"
             ]
            ],
            "type": "histogram2dcontour"
           }
          ],
          "mesh3d": [
           {
            "colorbar": {
             "outlinewidth": 0,
             "ticks": ""
            },
            "type": "mesh3d"
           }
          ],
          "parcoords": [
           {
            "line": {
             "colorbar": {
              "outlinewidth": 0,
              "ticks": ""
             }
            },
            "type": "parcoords"
           }
          ],
          "pie": [
           {
            "automargin": true,
            "type": "pie"
           }
          ],
          "scatter": [
           {
            "fillpattern": {
             "fillmode": "overlay",
             "size": 10,
             "solidity": 0.2
            },
            "type": "scatter"
           }
          ],
          "scatter3d": [
           {
            "line": {
             "colorbar": {
              "outlinewidth": 0,
              "ticks": ""
             }
            },
            "marker": {
             "colorbar": {
              "outlinewidth": 0,
              "ticks": ""
             }
            },
            "type": "scatter3d"
           }
          ],
          "scattercarpet": [
           {
            "marker": {
             "colorbar": {
              "outlinewidth": 0,
              "ticks": ""
             }
            },
            "type": "scattercarpet"
           }
          ],
          "scattergeo": [
           {
            "marker": {
             "colorbar": {
              "outlinewidth": 0,
              "ticks": ""
             }
            },
            "type": "scattergeo"
           }
          ],
          "scattergl": [
           {
            "marker": {
             "colorbar": {
              "outlinewidth": 0,
              "ticks": ""
             }
            },
            "type": "scattergl"
           }
          ],
          "scattermapbox": [
           {
            "marker": {
             "colorbar": {
              "outlinewidth": 0,
              "ticks": ""
             }
            },
            "type": "scattermapbox"
           }
          ],
          "scatterpolar": [
           {
            "marker": {
             "colorbar": {
              "outlinewidth": 0,
              "ticks": ""
             }
            },
            "type": "scatterpolar"
           }
          ],
          "scatterpolargl": [
           {
            "marker": {
             "colorbar": {
              "outlinewidth": 0,
              "ticks": ""
             }
            },
            "type": "scatterpolargl"
           }
          ],
          "scatterternary": [
           {
            "marker": {
             "colorbar": {
              "outlinewidth": 0,
              "ticks": ""
             }
            },
            "type": "scatterternary"
           }
          ],
          "surface": [
           {
            "colorbar": {
             "outlinewidth": 0,
             "ticks": ""
            },
            "colorscale": [
             [
              0,
              "#0d0887"
             ],
             [
              0.1111111111111111,
              "#46039f"
             ],
             [
              0.2222222222222222,
              "#7201a8"
             ],
             [
              0.3333333333333333,
              "#9c179e"
             ],
             [
              0.4444444444444444,
              "#bd3786"
             ],
             [
              0.5555555555555556,
              "#d8576b"
             ],
             [
              0.6666666666666666,
              "#ed7953"
             ],
             [
              0.7777777777777778,
              "#fb9f3a"
             ],
             [
              0.8888888888888888,
              "#fdca26"
             ],
             [
              1,
              "#f0f921"
             ]
            ],
            "type": "surface"
           }
          ],
          "table": [
           {
            "cells": {
             "fill": {
              "color": "#EBF0F8"
             },
             "line": {
              "color": "white"
             }
            },
            "header": {
             "fill": {
              "color": "#C8D4E3"
             },
             "line": {
              "color": "white"
             }
            },
            "type": "table"
           }
          ]
         },
         "layout": {
          "annotationdefaults": {
           "arrowcolor": "#2a3f5f",
           "arrowhead": 0,
           "arrowwidth": 1
          },
          "autotypenumbers": "strict",
          "coloraxis": {
           "colorbar": {
            "outlinewidth": 0,
            "ticks": ""
           }
          },
          "colorscale": {
           "diverging": [
            [
             0,
             "#8e0152"
            ],
            [
             0.1,
             "#c51b7d"
            ],
            [
             0.2,
             "#de77ae"
            ],
            [
             0.3,
             "#f1b6da"
            ],
            [
             0.4,
             "#fde0ef"
            ],
            [
             0.5,
             "#f7f7f7"
            ],
            [
             0.6,
             "#e6f5d0"
            ],
            [
             0.7,
             "#b8e186"
            ],
            [
             0.8,
             "#7fbc41"
            ],
            [
             0.9,
             "#4d9221"
            ],
            [
             1,
             "#276419"
            ]
           ],
           "sequential": [
            [
             0,
             "#0d0887"
            ],
            [
             0.1111111111111111,
             "#46039f"
            ],
            [
             0.2222222222222222,
             "#7201a8"
            ],
            [
             0.3333333333333333,
             "#9c179e"
            ],
            [
             0.4444444444444444,
             "#bd3786"
            ],
            [
             0.5555555555555556,
             "#d8576b"
            ],
            [
             0.6666666666666666,
             "#ed7953"
            ],
            [
             0.7777777777777778,
             "#fb9f3a"
            ],
            [
             0.8888888888888888,
             "#fdca26"
            ],
            [
             1,
             "#f0f921"
            ]
           ],
           "sequentialminus": [
            [
             0,
             "#0d0887"
            ],
            [
             0.1111111111111111,
             "#46039f"
            ],
            [
             0.2222222222222222,
             "#7201a8"
            ],
            [
             0.3333333333333333,
             "#9c179e"
            ],
            [
             0.4444444444444444,
             "#bd3786"
            ],
            [
             0.5555555555555556,
             "#d8576b"
            ],
            [
             0.6666666666666666,
             "#ed7953"
            ],
            [
             0.7777777777777778,
             "#fb9f3a"
            ],
            [
             0.8888888888888888,
             "#fdca26"
            ],
            [
             1,
             "#f0f921"
            ]
           ]
          },
          "colorway": [
           "#636efa",
           "#EF553B",
           "#00cc96",
           "#ab63fa",
           "#FFA15A",
           "#19d3f3",
           "#FF6692",
           "#B6E880",
           "#FF97FF",
           "#FECB52"
          ],
          "font": {
           "color": "#2a3f5f"
          },
          "geo": {
           "bgcolor": "white",
           "lakecolor": "white",
           "landcolor": "#E5ECF6",
           "showlakes": true,
           "showland": true,
           "subunitcolor": "white"
          },
          "hoverlabel": {
           "align": "left"
          },
          "hovermode": "closest",
          "mapbox": {
           "style": "light"
          },
          "paper_bgcolor": "white",
          "plot_bgcolor": "#E5ECF6",
          "polar": {
           "angularaxis": {
            "gridcolor": "white",
            "linecolor": "white",
            "ticks": ""
           },
           "bgcolor": "#E5ECF6",
           "radialaxis": {
            "gridcolor": "white",
            "linecolor": "white",
            "ticks": ""
           }
          },
          "scene": {
           "xaxis": {
            "backgroundcolor": "#E5ECF6",
            "gridcolor": "white",
            "gridwidth": 2,
            "linecolor": "white",
            "showbackground": true,
            "ticks": "",
            "zerolinecolor": "white"
           },
           "yaxis": {
            "backgroundcolor": "#E5ECF6",
            "gridcolor": "white",
            "gridwidth": 2,
            "linecolor": "white",
            "showbackground": true,
            "ticks": "",
            "zerolinecolor": "white"
           },
           "zaxis": {
            "backgroundcolor": "#E5ECF6",
            "gridcolor": "white",
            "gridwidth": 2,
            "linecolor": "white",
            "showbackground": true,
            "ticks": "",
            "zerolinecolor": "white"
           }
          },
          "shapedefaults": {
           "line": {
            "color": "#2a3f5f"
           }
          },
          "ternary": {
           "aaxis": {
            "gridcolor": "white",
            "linecolor": "white",
            "ticks": ""
           },
           "baxis": {
            "gridcolor": "white",
            "linecolor": "white",
            "ticks": ""
           },
           "bgcolor": "#E5ECF6",
           "caxis": {
            "gridcolor": "white",
            "linecolor": "white",
            "ticks": ""
           }
          },
          "title": {
           "x": 0.05
          },
          "xaxis": {
           "automargin": true,
           "gridcolor": "white",
           "linecolor": "white",
           "ticks": "",
           "title": {
            "standoff": 15
           },
           "zerolinecolor": "white",
           "zerolinewidth": 2
          },
          "yaxis": {
           "automargin": true,
           "gridcolor": "white",
           "linecolor": "white",
           "ticks": "",
           "title": {
            "standoff": 15
           },
           "zerolinecolor": "white",
           "zerolinewidth": 2
          }
         }
        },
        "xaxis": {
         "anchor": "y",
         "constrain": "domain",
         "domain": [
          0,
          1
         ],
         "scaleanchor": "y"
        },
        "yaxis": {
         "anchor": "x",
         "autorange": "reversed",
         "constrain": "domain",
         "domain": [
          0,
          1
         ]
        }
       }
      }
     },
     "metadata": {},
     "output_type": "display_data"
    }
   ],
   "source": [
    "row = 0\n",
    "img_data = train_data_features.iloc[row].values\n",
    "classification = train_data_labels[row]\n",
    "print(\"Classification for row \" + str(row) + \" is: \" + str(classification))\n",
    "view_image(img_data, 28, 28, 'gray')"
   ]
  },
  {
   "cell_type": "code",
   "execution_count": 14,
   "metadata": {},
   "outputs": [
    {
     "data": {
      "text/html": [
       "        <script type=\"text/javascript\">\n",
       "        window.PlotlyConfig = {MathJaxConfig: 'local'};\n",
       "        if (window.MathJax && window.MathJax.Hub && window.MathJax.Hub.Config) {window.MathJax.Hub.Config({SVG: {font: \"STIX-Web\"}});}\n",
       "        if (typeof require !== 'undefined') {\n",
       "        require.undef(\"plotly\");\n",
       "        requirejs.config({\n",
       "            paths: {\n",
       "                'plotly': ['https://cdn.plot.ly/plotly-2.20.0.min']\n",
       "            }\n",
       "        });\n",
       "        require(['plotly'], function(Plotly) {\n",
       "            window._Plotly = Plotly;\n",
       "        });\n",
       "        }\n",
       "        </script>\n",
       "        "
      ]
     },
     "metadata": {},
     "output_type": "display_data"
    },
    {
     "name": "stdout",
     "output_type": "stream",
     "text": [
      "Iteration 50: Accuracy: 67.1875 Loss: 1742.0349\n",
      "Iteration 100: Accuracy: 85.1875 Loss: 779.6633\n",
      "Iteration 150: Accuracy: 87.875 Loss: 728.2242\n",
      "Iteration 200: Accuracy: 89.3125 Loss: 601.0603\n",
      "Iteration 250: Accuracy: 91.5 Loss: 514.97205\n",
      "Iteration 300: Accuracy: 92.1875 Loss: 469.8711\n",
      "Iteration 350: Accuracy: 92.9375 Loss: 398.63873\n",
      "Iteration 400: Accuracy: 92.25 Loss: 412.8153\n",
      "Iteration 450: Accuracy: 92.3125 Loss: 417.18854\n",
      "Iteration 500: Accuracy: 93.4375 Loss: 358.5088\n",
      "Iteration 550: Accuracy: 93.625 Loss: 381.17548\n",
      "Iteration 600: Accuracy: 92.875 Loss: 390.86972\n",
      "Iteration 650: Accuracy: 93.1875 Loss: 382.30466\n",
      "Iteration 700: Accuracy: 93 Loss: 373.74008\n",
      "Iteration 750: Accuracy: 93.3125 Loss: 336.14005\n",
      "Iteration 800: Accuracy: 94.25 Loss: 313.83502\n",
      "Iteration 850: Accuracy: 93.6875 Loss: 337.20093\n",
      "Iteration 900: Accuracy: 94.4375 Loss: 296.0222\n",
      "Iteration 950: Accuracy: 94.375 Loss: 308.09644\n",
      "Iteration 1000: Accuracy: 94.875 Loss: 282.87903\n",
      "Iteration 1050: Accuracy: 94.125 Loss: 300.76935\n",
      "Iteration 1100: Accuracy: 95.0625 Loss: 299.2014\n",
      "Iteration 1150: Accuracy: 94.9375 Loss: 288.95065\n",
      "Iteration 1200: Accuracy: 94.3125 Loss: 295.49396\n",
      "Iteration 1250: Accuracy: 94.6875 Loss: 288.60553\n",
      "Iteration 1300: Accuracy: 95.75 Loss: 246.33237\n",
      "Iteration 1350: Accuracy: 94.5 Loss: 277.88873\n",
      "Iteration 1400: Accuracy: 95.625 Loss: 259.63522\n",
      "Iteration 1450: Accuracy: 94.625 Loss: 279.01596\n",
      "Iteration 1500: Accuracy: 95.875 Loss: 256.7844\n",
      "Iteration 1550: Accuracy: 95.6875 Loss: 265.29538\n",
      "Iteration 1600: Accuracy: 95.0625 Loss: 273.96375\n",
      "Iteration 1650: Accuracy: 95.0625 Loss: 260.45355\n",
      "Iteration 1700: Accuracy: 96.0625 Loss: 240.13197\n",
      "Iteration 1750: Accuracy: 96.375 Loss: 225.21771\n",
      "Iteration 1800: Accuracy: 95.6875 Loss: 251.8546\n",
      "Iteration 1850: Accuracy: 95.9375 Loss: 233.73808\n",
      "Iteration 1900: Accuracy: 96.3125 Loss: 231.10052\n",
      "Iteration 1950: Accuracy: 96.1875 Loss: 240.87456\n",
      "Iteration 2000: Accuracy: 96.625 Loss: 219.51173\n",
      "Iteration 2050: Accuracy: 95.5625 Loss: 262.65164\n",
      "Iteration 2100: Accuracy: 96.125 Loss: 229.09271\n",
      "Iteration 2150: Accuracy: 96.9375 Loss: 190.46132\n",
      "Iteration 2200: Accuracy: 96.0625 Loss: 210.06497\n",
      "Iteration 2250: Accuracy: 95.875 Loss: 255.30836\n",
      "Iteration 2300: Accuracy: 96 Loss: 241.29276\n",
      "Iteration 2350: Accuracy: 96.3125 Loss: 215.75642\n",
      "Iteration 2400: Accuracy: 96.9375 Loss: 223.82782\n",
      "Iteration 2450: Accuracy: 96.125 Loss: 225.2862\n",
      "Iteration 2500: Accuracy: 97.25 Loss: 183.007\n",
      "Iteration 2550: Accuracy: 96.8125 Loss: 195.71146\n",
      "Iteration 2600: Accuracy: 96.6875 Loss: 186.26944\n",
      "Iteration 2650: Accuracy: 96.5625 Loss: 204.72238\n",
      "Iteration 2700: Accuracy: 96.375 Loss: 213.32834\n",
      "Iteration 2750: Accuracy: 96.4375 Loss: 224.03212\n",
      "Iteration 2800: Accuracy: 96.1875 Loss: 223.20425\n",
      "Iteration 2850: Accuracy: 96.6875 Loss: 214.76407\n",
      "Iteration 2900: Accuracy: 96.9375 Loss: 196.21309\n",
      "Iteration 2950: Accuracy: 96.8125 Loss: 181.86554\n",
      "Iteration 3000: Accuracy: 96.1875 Loss: 227.73807\n",
      "Iteration 3050: Accuracy: 97.3125 Loss: 195.97\n",
      "Iteration 3100: Accuracy: 96.8125 Loss: 194.13092\n",
      "Iteration 3150: Accuracy: 97.8125 Loss: 150.36214\n",
      "Iteration 3200: Accuracy: 97.75 Loss: 157.1256\n",
      "Iteration 3250: Accuracy: 96.0625 Loss: 197.06516\n",
      "Iteration 3300: Accuracy: 97.25 Loss: 173.93799\n",
      "Iteration 3350: Accuracy: 97.1875 Loss: 202.11736\n",
      "Iteration 3400: Accuracy: 97.5 Loss: 167.55354\n",
      "Iteration 3450: Accuracy: 97.375 Loss: 182.87357\n",
      "Iteration 3500: Accuracy: 97.375 Loss: 170.44925\n",
      "Iteration 3550: Accuracy: 97.375 Loss: 176.66115\n",
      "Iteration 3600: Accuracy: 97.375 Loss: 181.13925\n",
      "Iteration 3650: Accuracy: 98.1875 Loss: 151.89226\n",
      "Iteration 3700: Accuracy: 97.4375 Loss: 170.76631\n",
      "Iteration 3750: Accuracy: 97.25 Loss: 167.50317\n",
      "Iteration 3800: Accuracy: 97.5 Loss: 163.20834\n",
      "Iteration 3850: Accuracy: 97.3125 Loss: 170.6621\n",
      "Iteration 3900: Accuracy: 98.25 Loss: 157.52069\n",
      "Iteration 3950: Accuracy: 97.5625 Loss: 163.40436\n",
      "Iteration 4000: Accuracy: 97 Loss: 176.97664\n",
      "Iteration 4050: Accuracy: 97.75 Loss: 163.88493\n",
      "Iteration 4100: Accuracy: 97.75 Loss: 145.79439\n",
      "Iteration 4150: Accuracy: 98.3125 Loss: 147.00662\n",
      "Iteration 4200: Accuracy: 98.1875 Loss: 137.0406\n",
      "Iteration 4250: Accuracy: 97.4375 Loss: 145.61545\n",
      "Iteration 4300: Accuracy: 97.5 Loss: 145.60318\n",
      "Iteration 4350: Accuracy: 98.0625 Loss: 152.1972\n",
      "Iteration 4400: Accuracy: 98.0625 Loss: 135.48792\n",
      "Iteration 4450: Accuracy: 98.125 Loss: 138.9302\n",
      "Iteration 4500: Accuracy: 97.5625 Loss: 161.6393\n",
      "Iteration 4550: Accuracy: 97.625 Loss: 152.2035\n",
      "Iteration 4600: Accuracy: 98.5625 Loss: 128.10747\n",
      "Iteration 4650: Accuracy: 98.125 Loss: 139.08038\n",
      "Iteration 4700: Accuracy: 97.75 Loss: 157.16084\n",
      "Iteration 4750: Accuracy: 97.625 Loss: 167.8204\n",
      "Iteration 4800: Accuracy: 98 Loss: 141.84888\n",
      "Iteration 4850: Accuracy: 98.4375 Loss: 137.02954\n",
      "Iteration 4900: Accuracy: 97.4375 Loss: 154.28467\n",
      "Iteration 4950: Accuracy: 97.5 Loss: 145.04074\n",
      "Iteration 5000: Accuracy: 97.8125 Loss: 144.68602\n",
      "Iteration 5050: Accuracy: 98.1875 Loss: 137.66641\n",
      "Iteration 5100: Accuracy: 98.6875 Loss: 112.23434\n",
      "Iteration 5150: Accuracy: 97.6875 Loss: 144.95233\n",
      "Iteration 5200: Accuracy: 97.9375 Loss: 127.81112\n",
      "Iteration 5250: Accuracy: 98.0625 Loss: 141.27597\n",
      "Iteration 5300: Accuracy: 98 Loss: 142.72295\n",
      "Iteration 5350: Accuracy: 98 Loss: 139.63031\n",
      "Iteration 5400: Accuracy: 98 Loss: 155.24187\n",
      "Iteration 5450: Accuracy: 98.375 Loss: 146.59602\n",
      "Iteration 5500: Accuracy: 98 Loss: 134.83873\n",
      "Iteration 5550: Accuracy: 98.3125 Loss: 118.12877\n",
      "Iteration 5600: Accuracy: 98.9375 Loss: 116.00948\n",
      "Iteration 5650: Accuracy: 98.5 Loss: 136.09682\n",
      "Iteration 5700: Accuracy: 98 Loss: 145.1062\n",
      "Iteration 5750: Accuracy: 98.625 Loss: 119.50907\n",
      "Iteration 5800: Accuracy: 98.375 Loss: 140.14046\n",
      "Iteration 5850: Accuracy: 98.3125 Loss: 134.37155\n",
      "Iteration 5900: Accuracy: 97.75 Loss: 150.02876\n",
      "Iteration 5950: Accuracy: 98.25 Loss: 136.63667\n",
      "Iteration 6000: Accuracy: 98.6875 Loss: 115.47875\n",
      "Iteration 6050: Accuracy: 98.6875 Loss: 117.20289\n",
      "Iteration 6100: Accuracy: 98.4375 Loss: 115.42005\n",
      "Iteration 6150: Accuracy: 98.5 Loss: 123.7151\n",
      "Iteration 6200: Accuracy: 98.9375 Loss: 110.32267\n",
      "Iteration 6250: Accuracy: 98.625 Loss: 125.191414\n",
      "Iteration 6300: Accuracy: 98.4375 Loss: 136.21248\n",
      "Iteration 6350: Accuracy: 98.5 Loss: 128.01462\n",
      "Iteration 6400: Accuracy: 98.25 Loss: 134.61024\n",
      "Iteration 6450: Accuracy: 98.6875 Loss: 122.50759\n",
      "Iteration 6500: Accuracy: 98.625 Loss: 110.58421\n",
      "Iteration 6550: Accuracy: 98.5625 Loss: 111.04158\n",
      "Iteration 6600: Accuracy: 98.5 Loss: 114.69647\n",
      "Iteration 6650: Accuracy: 98.625 Loss: 120.46989\n",
      "Iteration 6700: Accuracy: 98.25 Loss: 125.38132\n",
      "Iteration 6750: Accuracy: 98.4375 Loss: 122.79358\n",
      "Iteration 6800: Accuracy: 98.1875 Loss: 137.29897\n",
      "Iteration 6850: Accuracy: 98.9375 Loss: 113.10131\n",
      "Iteration 6900: Accuracy: 98.9375 Loss: 110.44639\n",
      "Iteration 6950: Accuracy: 98.0625 Loss: 142.6166\n",
      "Iteration 7000: Accuracy: 98.6875 Loss: 111.6416\n",
      "Iteration 7050: Accuracy: 98.6875 Loss: 121.25008\n",
      "Iteration 7100: Accuracy: 98.1875 Loss: 118.02489\n",
      "Iteration 7150: Accuracy: 98.625 Loss: 129.5799\n",
      "Iteration 7200: Accuracy: 98.875 Loss: 118.05203\n",
      "Iteration 7250: Accuracy: 98.4375 Loss: 124.85378\n",
      "Iteration 7300: Accuracy: 99.0625 Loss: 109.265015\n",
      "Iteration 7350: Accuracy: 98.625 Loss: 108.90494\n",
      "Iteration 7400: Accuracy: 99.375 Loss: 107.16783\n",
      "Iteration 7450: Accuracy: 98.9375 Loss: 106.19229\n",
      "Iteration 7500: Accuracy: 99 Loss: 97.22453\n",
      "Iteration 7550: Accuracy: 99 Loss: 98.88721\n",
      "Iteration 7600: Accuracy: 99.3125 Loss: 106.785965\n",
      "Iteration 7650: Accuracy: 98.875 Loss: 102.86225\n",
      "Iteration 7700: Accuracy: 98.4375 Loss: 110.72828\n",
      "Iteration 7750: Accuracy: 99.0625 Loss: 101.73553\n",
      "Iteration 7800: Accuracy: 98.6875 Loss: 97.95508\n",
      "Iteration 7850: Accuracy: 98.75 Loss: 123.61294\n",
      "Iteration 7900: Accuracy: 98.5625 Loss: 119.630585\n",
      "Iteration 7950: Accuracy: 99.125 Loss: 90.09261\n",
      "Iteration 8000: Accuracy: 98.875 Loss: 92.58618\n",
      "Iteration 8050: Accuracy: 99.0625 Loss: 100.77015\n",
      "Iteration 8100: Accuracy: 99.375 Loss: 78.94557\n",
      "Iteration 8150: Accuracy: 98.5625 Loss: 110.4333\n",
      "Iteration 8200: Accuracy: 99.125 Loss: 109.06457\n",
      "Iteration 8250: Accuracy: 99.125 Loss: 101.17636\n",
      "Iteration 8300: Accuracy: 99 Loss: 110.448296\n",
      "Iteration 8350: Accuracy: 99.25 Loss: 88.284706\n",
      "Iteration 8400: Accuracy: 98.8125 Loss: 114.30826\n",
      "Iteration 8450: Accuracy: 98.6875 Loss: 105.08741\n",
      "Iteration 8500: Accuracy: 99.3125 Loss: 104.0285\n",
      "Iteration 8550: Accuracy: 98.5625 Loss: 110.543205\n",
      "Iteration 8600: Accuracy: 99.1875 Loss: 96.874504\n",
      "Iteration 8650: Accuracy: 99.125 Loss: 99.42756\n",
      "Iteration 8700: Accuracy: 99.0625 Loss: 100.6289\n",
      "Iteration 8750: Accuracy: 99 Loss: 85.68557\n",
      "Iteration 8800: Accuracy: 99.1875 Loss: 89.68328\n",
      "Iteration 8850: Accuracy: 98.8125 Loss: 108.43324\n",
      "Iteration 8900: Accuracy: 98.8125 Loss: 114.34635\n",
      "Iteration 8950: Accuracy: 98.75 Loss: 100.47191\n",
      "Iteration 9000: Accuracy: 99.125 Loss: 89.95848\n",
      "Iteration 9050: Accuracy: 99.25 Loss: 91.81889\n",
      "Iteration 9100: Accuracy: 99.0625 Loss: 101.35343\n",
      "Iteration 9150: Accuracy: 98.8125 Loss: 95.136086\n",
      "Iteration 9200: Accuracy: 99.4375 Loss: 83.72785\n",
      "Iteration 9250: Accuracy: 98.875 Loss: 107.33064\n",
      "Iteration 9300: Accuracy: 99.125 Loss: 92.72127\n",
      "Iteration 9350: Accuracy: 99.3125 Loss: 77.30343\n",
      "Iteration 9400: Accuracy: 99.25 Loss: 92.633\n",
      "Iteration 9450: Accuracy: 99.0625 Loss: 103.67585\n",
      "Iteration 9500: Accuracy: 98.9375 Loss: 97.92985\n",
      "Iteration 9550: Accuracy: 98.625 Loss: 109.66922\n",
      "Iteration 9600: Accuracy: 99.6875 Loss: 79.28853\n",
      "Iteration 9650: Accuracy: 99.0625 Loss: 94.93846\n",
      "Iteration 9700: Accuracy: 99.375 Loss: 77.72293\n",
      "Iteration 9750: Accuracy: 99.0625 Loss: 101.84189\n",
      "Iteration 9800: Accuracy: 99.375 Loss: 91.33252\n",
      "Iteration 9850: Accuracy: 99.4375 Loss: 75.60637\n",
      "Iteration 9900: Accuracy: 99.25 Loss: 89.425934\n",
      "Iteration 9950: Accuracy: 98.9375 Loss: 90.46045\n",
      "Iteration 10000: Accuracy: 99.25 Loss: 88.68838\n",
      "Iteration 10050: Accuracy: 99.0625 Loss: 87.48928\n",
      "Iteration 10100: Accuracy: 99.1875 Loss: 83.047\n",
      "Iteration 10150: Accuracy: 99.375 Loss: 78.38441\n",
      "Iteration 10200: Accuracy: 99.1875 Loss: 97.749466\n",
      "Iteration 10250: Accuracy: 99.125 Loss: 84.602356\n",
      "Iteration 10300: Accuracy: 99.3125 Loss: 83.9097\n",
      "Iterat"
     ]
    },
    {
     "data": {
      "application/vnd.plotly.v1+json": {
       "config": {
        "linkText": "Export to plot.ly",
        "plotlyServerURL": "https://plot.ly",
        "showLink": false
       },
       "data": [
        {
         "mode": "lines",
         "name": "accuracy",
         "type": "scatter",
         "x": [
          0,
          1,
          2,
          3,
          4,
          5,
          6,
          7,
          8,
          9,
          10,
          11,
          12,
          13,
          14,
          15,
          16,
          17,
          18,
          19,
          20,
          21,
          22,
          23,
          24,
          25,
          26,
          27,
          28,
          29,
          30,
          31,
          32,
          33,
          34,
          35,
          36,
          37,
          38,
          39,
          40,
          41,
          42,
          43,
          44,
          45,
          46,
          47,
          48,
          49,
          50,
          51,
          52,
          53,
          54,
          55,
          56,
          57,
          58,
          59,
          60,
          61,
          62,
          63,
          64,
          65,
          66,
          67,
          68,
          69,
          70,
          71,
          72,
          73,
          74,
          75,
          76,
          77,
          78,
          79,
          80,
          81,
          82,
          83,
          84,
          85,
          86,
          87,
          88,
          89,
          90,
          91,
          92,
          93,
          94,
          95,
          96,
          97,
          98,
          99,
          100,
          101,
          102,
          103,
          104,
          105,
          106,
          107,
          108,
          109,
          110,
          111,
          112,
          113,
          114,
          115,
          116,
          117,
          118,
          119,
          120,
          121,
          122,
          123,
          124,
          125,
          126,
          127,
          128,
          129,
          130,
          131,
          132,
          133,
          134,
          135,
          136,
          137,
          138,
          139,
          140,
          141,
          142,
          143,
          144,
          145,
          146,
          147,
          148,
          149,
          150,
          151,
          152,
          153,
          154,
          155,
          156,
          157,
          158,
          159,
          160,
          161,
          162,
          163,
          164,
          165,
          166,
          167,
          168,
          169,
          170,
          171,
          172,
          173,
          174,
          175,
          176,
          177,
          178,
          179,
          180,
          181,
          182,
          183,
          184,
          185,
          186,
          187,
          188,
          189,
          190,
          191,
          192,
          193,
          194,
          195,
          196,
          197,
          198,
          199,
          200,
          201,
          202,
          203,
          204,
          205,
          206,
          207,
          208,
          209,
          210,
          211,
          212,
          213,
          214,
          215,
          216,
          217,
          218,
          219,
          220,
          221,
          222,
          223,
          224,
          225,
          226,
          227,
          228,
          229,
          230,
          231,
          232,
          233,
          234,
          235,
          236,
          237,
          238,
          239,
          240,
          241,
          242,
          243,
          244,
          245,
          246,
          247,
          248,
          249,
          250,
          251,
          252,
          253,
          254,
          255,
          256,
          257,
          258,
          259,
          260,
          261,
          262,
          263,
          264,
          265,
          266,
          267,
          268,
          269,
          270,
          271,
          272,
          273,
          274,
          275,
          276,
          277,
          278,
          279,
          280,
          281,
          282,
          283,
          284,
          285,
          286,
          287,
          288,
          289,
          290,
          291,
          292,
          293,
          294,
          295,
          296,
          297,
          298,
          299,
          300,
          301,
          302,
          303,
          304,
          305,
          306,
          307,
          308,
          309,
          310,
          311,
          312,
          313,
          314,
          315,
          316,
          317,
          318,
          319,
          320,
          321,
          322,
          323,
          324,
          325,
          326,
          327,
          328,
          329,
          330,
          331,
          332,
          333,
          334,
          335,
          336,
          337,
          338,
          339,
          340,
          341,
          342,
          343,
          344,
          345,
          346,
          347,
          348,
          349,
          350,
          351,
          352,
          353,
          354,
          355,
          356,
          357,
          358,
          359,
          360,
          361,
          362,
          363,
          364,
          365,
          366,
          367,
          368,
          369,
          370,
          371,
          372,
          373,
          374,
          375,
          376,
          377,
          378,
          379,
          380,
          381,
          382,
          383,
          384,
          385,
          386,
          387,
          388,
          389,
          390,
          391,
          392,
          393,
          394,
          395,
          396,
          397,
          398,
          399
         ],
         "y": [
          0.671875,
          0.851875,
          0.87875,
          0.893125,
          0.915,
          0.921875,
          0.929375,
          0.9225,
          0.923125,
          0.934375,
          0.93625,
          0.92875,
          0.931875,
          0.93,
          0.933125,
          0.9425,
          0.936875,
          0.944375,
          0.94375,
          0.94875,
          0.94125,
          0.950625,
          0.949375,
          0.943125,
          0.946875,
          0.9575,
          0.945,
          0.95625,
          0.94625,
          0.95875,
          0.956875,
          0.950625,
          0.950625,
          0.960625,
          0.96375,
          0.956875,
          0.959375,
          0.963125,
          0.961875,
          0.96625,
          0.955625,
          0.96125,
          0.969375,
          0.960625,
          0.95875,
          0.96,
          0.963125,
          0.969375,
          0.96125,
          0.9725,
          0.968125,
          0.966875,
          0.965625,
          0.96375,
          0.964375,
          0.961875,
          0.966875,
          0.969375,
          0.968125,
          0.961875,
          0.973125,
          0.968125,
          0.978125,
          0.9775,
          0.960625,
          0.9725,
          0.971875,
          0.975,
          0.97375,
          0.97375,
          0.97375,
          0.97375,
          0.981875,
          0.974375,
          0.9725,
          0.975,
          0.973125,
          0.9825,
          0.975625,
          0.97,
          0.9775,
          0.9775,
          0.983125,
          0.981875,
          0.974375,
          0.975,
          0.980625,
          0.980625,
          0.98125,
          0.975625,
          0.97625,
          0.985625,
          0.98125,
          0.9775,
          0.97625,
          0.98,
          0.984375,
          0.974375,
          0.975,
          0.978125,
          0.981875,
          0.986875,
          0.976875,
          0.979375,
          0.980625,
          0.98,
          0.98,
          0.98,
          0.98375,
          0.98,
          0.983125,
          0.989375,
          0.985,
          0.98,
          0.98625,
          0.98375,
          0.983125,
          0.9775,
          0.9825,
          0.986875,
          0.986875,
          0.984375,
          0.985,
          0.989375,
          0.98625,
          0.984375,
          0.985,
          0.9825,
          0.986875,
          0.98625,
          0.985625,
          0.985,
          0.98625,
          0.9825,
          0.984375,
          0.981875,
          0.989375,
          0.989375,
          0.980625,
          0.986875,
          0.986875,
          0.981875,
          0.98625,
          0.98875,
          0.984375,
          0.990625,
          0.98625,
          0.99375,
          0.989375,
          0.99,
          0.99,
          0.993125,
          0.98875,
          0.984375,
          0.990625,
          0.986875,
          0.9875,
          0.985625,
          0.99125,
          0.98875,
          0.990625,
          0.99375,
          0.985625,
          0.99125,
          0.99125,
          0.99,
          0.9925,
          0.988125,
          0.986875,
          0.993125,
          0.985625,
          0.991875,
          0.99125,
          0.990625,
          0.99,
          0.991875,
          0.988125,
          0.988125,
          0.9875,
          0.99125,
          0.9925,
          0.990625,
          0.988125,
          0.994375,
          0.98875,
          0.99125,
          0.993125,
          0.9925,
          0.990625,
          0.989375,
          0.98625,
          0.996875,
          0.990625,
          0.99375,
          0.990625,
          0.99375,
          0.994375,
          0.9925,
          0.989375,
          0.9925,
          0.990625,
          0.991875,
          0.99375,
          0.991875,
          0.99125,
          0.993125,
          0.991875,
          0.993125,
          0.99125,
          0.9925,
          0.991875,
          0.99375,
          0.99625,
          0.9975,
          0.994375,
          0.996875,
          0.9975,
          0.995,
          0.993125,
          0.994375,
          0.996875,
          0.994375,
          0.994375,
          0.990625,
          0.99125,
          0.99875,
          0.990625,
          0.991875,
          0.994375,
          0.995625,
          0.995625,
          0.99625,
          0.996875,
          0.994375,
          0.99125,
          0.994375,
          0.9925,
          0.99375,
          0.995,
          0.99125,
          0.995,
          0.995625,
          0.996875,
          0.994375,
          0.99,
          0.99375,
          0.995625,
          0.9925,
          0.99625,
          0.998125,
          0.99625,
          0.995625,
          0.99625,
          0.99625,
          0.994375,
          0.9925,
          0.996875,
          0.99375,
          0.995625,
          0.996875,
          0.995,
          0.994375,
          0.9975,
          0.995625,
          0.99625,
          0.99625,
          0.995625,
          0.996875,
          0.995625,
          0.995625,
          0.99625,
          0.993125,
          0.995625,
          0.996875,
          0.995625,
          0.996875,
          0.99625,
          0.995625,
          0.9975,
          0.9975,
          0.996875,
          0.991875,
          0.99625,
          0.99625,
          0.998125,
          0.995,
          0.994375,
          0.995625,
          0.99625,
          0.994375,
          0.99625,
          0.995625,
          0.996875,
          0.994375,
          0.99625,
          0.9975,
          0.996875,
          0.99625,
          0.99625,
          0.995625,
          0.998125,
          0.9975,
          0.996875,
          0.995625,
          0.996875,
          0.996875,
          0.995625,
          0.99625,
          0.998125,
          0.995625,
          0.99625,
          0.995625,
          0.996875,
          0.993125,
          0.995,
          0.998125,
          0.99875,
          0.996875,
          0.996875,
          0.998125,
          0.996875,
          0.998125,
          0.995,
          0.99625,
          0.9975,
          0.99625,
          0.998125,
          0.996875,
          0.9975,
          0.991875,
          0.995625,
          0.9975,
          0.99875,
          0.998125,
          0.994375,
          0.998125,
          0.996875,
          0.998125,
          0.995,
          1,
          0.9975,
          0.996875,
          0.998125,
          0.99875,
          0.9975,
          0.998125,
          0.998125,
          0.99625,
          0.996875,
          0.998125,
          0.998125,
          0.995625,
          0.994375,
          0.998125,
          0.995625,
          0.999375,
          0.9975,
          0.9975,
          0.99875,
          0.9975,
          0.995,
          0.99625,
          0.996875,
          0.99625,
          0.99625,
          0.99875,
          0.996875,
          0.996875,
          0.999375,
          0.998125,
          0.995,
          0.998125,
          0.998125,
          0.999375,
          0.998125,
          0.999375,
          0.998125,
          0.9975,
          0.99625,
          0.9975,
          0.9975,
          0.996875,
          0.998125,
          0.99625,
          0.9975,
          0.994375,
          0.998125,
          0.99875,
          0.999375,
          0.999375,
          0.99625,
          0.998125,
          0.99875,
          0.998125,
          0.9975,
          0.99875,
          0.99875,
          0.99875,
          0.999375,
          0.99875
         ]
        },
        {
         "mode": "lines",
         "name": "loss",
         "type": "scatter",
         "x": [
          0,
          1,
          2,
          3,
          4,
          5,
          6,
          7,
          8,
          9,
          10,
          11,
          12,
          13,
          14,
          15,
          16,
          17,
          18,
          19,
          20,
          21,
          22,
          23,
          24,
          25,
          26,
          27,
          28,
          29,
          30,
          31,
          32,
          33,
          34,
          35,
          36,
          37,
          38,
          39,
          40,
          41,
          42,
          43,
          44,
          45,
          46,
          47,
          48,
          49,
          50,
          51,
          52,
          53,
          54,
          55,
          56,
          57,
          58,
          59,
          60,
          61,
          62,
          63,
          64,
          65,
          66,
          67,
          68,
          69,
          70,
          71,
          72,
          73,
          74,
          75,
          76,
          77,
          78,
          79,
          80,
          81,
          82,
          83,
          84,
          85,
          86,
          87,
          88,
          89,
          90,
          91,
          92,
          93,
          94,
          95,
          96,
          97,
          98,
          99,
          100,
          101,
          102,
          103,
          104,
          105,
          106,
          107,
          108,
          109,
          110,
          111,
          112,
          113,
          114,
          115,
          116,
          117,
          118,
          119,
          120,
          121,
          122,
          123,
          124,
          125,
          126,
          127,
          128,
          129,
          130,
          131,
          132,
          133,
          134,
          135,
          136,
          137,
          138,
          139,
          140,
          141,
          142,
          143,
          144,
          145,
          146,
          147,
          148,
          149,
          150,
          151,
          152,
          153,
          154,
          155,
          156,
          157,
          158,
          159,
          160,
          161,
          162,
          163,
          164,
          165,
          166,
          167,
          168,
          169,
          170,
          171,
          172,
          173,
          174,
          175,
          176,
          177,
          178,
          179,
          180,
          181,
          182,
          183,
          184,
          185,
          186,
          187,
          188,
          189,
          190,
          191,
          192,
          193,
          194,
          195,
          196,
          197,
          198,
          199,
          200,
          201,
          202,
          203,
          204,
          205,
          206,
          207,
          208,
          209,
          210,
          211,
          212,
          213,
          214,
          215,
          216,
          217,
          218,
          219,
          220,
          221,
          222,
          223,
          224,
          225,
          226,
          227,
          228,
          229,
          230,
          231,
          232,
          233,
          234,
          235,
          236,
          237,
          238,
          239,
          240,
          241,
          242,
          243,
          244,
          245,
          246,
          247,
          248,
          249,
          250,
          251,
          252,
          253,
          254,
          255,
          256,
          257,
          258,
          259,
          260,
          261,
          262,
          263,
          264,
          265,
          266,
          267,
          268,
          269,
          270,
          271,
          272,
          273,
          274,
          275,
          276,
          277,
          278,
          279,
          280,
          281,
          282,
          283,
          284,
          285,
          286,
          287,
          288,
          289,
          290,
          291,
          292,
          293,
          294,
          295,
          296,
          297,
          298,
          299,
          300,
          301,
          302,
          303,
          304,
          305,
          306,
          307,
          308,
          309,
          310,
          311,
          312,
          313,
          314,
          315,
          316,
          317,
          318,
          319,
          320,
          321,
          322,
          323,
          324,
          325,
          326,
          327,
          328,
          329,
          330,
          331,
          332,
          333,
          334,
          335,
          336,
          337,
          338,
          339,
          340,
          341,
          342,
          343,
          344,
          345,
          346,
          347,
          348,
          349,
          350,
          351,
          352,
          353,
          354,
          355,
          356,
          357,
          358,
          359,
          360,
          361,
          362,
          363,
          364,
          365,
          366,
          367,
          368,
          369,
          370,
          371,
          372,
          373,
          374,
          375,
          376,
          377,
          378,
          379,
          380,
          381,
          382,
          383,
          384,
          385,
          386,
          387,
          388,
          389,
          390,
          391,
          392,
          393,
          394,
          395,
          396,
          397,
          398,
          399
         ],
         "y": [
          1,
          0.4475589580085139,
          0.41803076222342905,
          0.3450334425310513,
          0.29561522695023035,
          0.2697254173747,
          0.22883509976700595,
          0.2369730392586234,
          0.2394834539179791,
          0.20579885429987912,
          0.21881046896624215,
          0.2243753656955661,
          0.21945866545206102,
          0.21454224550216353,
          0.19295827128917542,
          0.18015426659425748,
          0.1935672617066377,
          0.16992896308883557,
          0.17686008093477917,
          0.16238424749925548,
          0.1726540300965261,
          0.1717539547676191,
          0.16586961091743602,
          0.16962573796051364,
          0.16567149589194682,
          0.14140495418951352,
          0.15951961179335353,
          0.14904134330711422,
          0.16016668710474222,
          0.14740484907941068,
          0.15229050680587916,
          0.15726650666573236,
          0.1495110978750241,
          0.13784567209151585,
          0.1292842702731111,
          0.14457494350331973,
          0.13417531489234974,
          0.1326612476569206,
          0.13827194611355395,
          0.12600880297111225,
          0.15077289210447944,
          0.13150868034265895,
          0.10933266471629031,
          0.12058597130494193,
          0.14655754778130092,
          0.13851200882924863,
          0.12385309987211604,
          0.12848641451920886,
          0.12932358145157052,
          0.10505357987491898,
          0.1123464604172871,
          0.10692635285461521,
          0.11751910376118985,
          0.12245927859432756,
          0.12860369111644449,
          0.12812846206401204,
          0.12328344691063889,
          0.11263441830317257,
          0.10439833225303505,
          0.13073105828355203,
          0.11249487588248691,
          0.11143916752798556,
          0.0863140777464394,
          0.09019658216982289,
          0.11312353940752938,
          0.09984759035089256,
          0.11602371108736402,
          0.09618265508119755,
          0.10497698088747963,
          0.09784491004327033,
          0.10141079655939597,
          0.10398141303014909,
          0.087192430320761,
          0.0980269169455004,
          0.09615374104374332,
          0.09368833102675052,
          0.09796709177863812,
          0.09042338349421018,
          0.09380085139183295,
          0.10159190126657675,
          0.09407672161589264,
          0.08369200112117443,
          0.0843878737978032,
          0.07866696739834977,
          0.08358928227318116,
          0.08358223989629136,
          0.08736748243785365,
          0.07777566000385404,
          0.07975167738205771,
          0.09278763379640173,
          0.08737109997722614,
          0.07353897832980047,
          0.079837885184731,
          0.09021681586461819,
          0.09633584429690101,
          0.08142711490286075,
          0.07866061699630363,
          0.08856577264684758,
          0.0832593766970902,
          0.08305575215037753,
          0.07902620745230629,
          0.06442714555997407,
          0.08320862603577248,
          0.07336886200795333,
          0.08109824290944764,
          0.08192886673790796,
          0.0801535658602386,
          0.08911524446858084,
          0.08415217315137606,
          0.07740300089343588,
          0.06781079305572588,
          0.06659423558677714,
          0.078125194891649,
          0.0832969535588529,
          0.06860314366799222,
          0.08044641136590579,
          0.07713482122523344,
          0.08612270728588196,
          0.0784350945115008,
          0.06628957395371651,
          0.06727929944116462,
          0.0662558774065834,
          0.07101757966469877,
          0.0633297698088748,
          0.07186504300755041,
          0.07819158943993834,
          0.07348567874848905,
          0.07727184100345111,
          0.07032441795280557,
          0.06347990645200847,
          0.06374245397053413,
          0.06584051293730182,
          0.06915469141425644,
          0.07197405532295079,
          0.07048858679466742,
          0.07881527775344674,
          0.06492482437853651,
          0.06340078920168878,
          0.08186781528651262,
          0.06408689101834171,
          0.06960255242366378,
          0.06775116059071878,
          0.07438421246255453,
          0.06776674316346373,
          0.07167122873710212,
          0.06272263195697493,
          0.0625159329397544,
          0.06151876215335564,
          0.06095876180298863,
          0.0558108981658287,
          0.05676534169542596,
          0.06129955503389801,
          0.05904718129740904,
          0.06356260620499973,
          0.05840039503880315,
          0.05623026119860554,
          0.07095893260690574,
          0.06867289735998458,
          0.05171688155843246,
          0.05314829283674649,
          0.057846228299143355,
          0.04531801937529562,
          0.06339327382933622,
          0.06260756705148643,
          0.05807941068269012,
          0.06340188409859328,
          0.05067906819893839,
          0.06561766200094599,
          0.06032451430373316,
          0.05971665819946394,
          0.06345636616856157,
          0.055609967065501115,
          0.057075525988472924,
          0.057765144613983146,
          0.04918705656675367,
          0.05148190792354992,
          0.06224516055568208,
          0.06563952928192282,
          0.05767502583956695,
          0.05163988402851988,
          0.052707837710001225,
          0.05818105653171697,
          0.054612042990032056,
          0.04806324562479197,
          0.061612222553124395,
          0.05322583781511133,
          0.04437536131597849,
          0.05317517036595834,
          0.059514220520995746,
          0.056215777902352715,
          0.06295466250897816,
          0.0455148905979013,
          0.054498598531962233,
          0.044616172941155864,
          0.0584614508697861,
          0.05242863899935182,
          0.04340117898498677,
          0.051334180053606154,
          0.051928034616260534,
          0.05091079217980835,
          0.050222461153057826,
          0.04767240684617136,
          0.04499588756722667,
          0.056112231312299636,
          0.04856524709633341,
          0.04816763309566771,
          0.05409581223831964,
          0.04571214284462975,
          0.05472423488604313,
          0.04951959427500307,
          0.05328920168876899,
          0.04209804582800483,
          0.04243046090780092,
          0.03974884816845646,
          0.04358792460101957,
          0.043244083177128044,
          0.03875097664803882,
          0.04391846959690276,
          0.04493490180964561,
          0.041892634409543994,
          0.0394806641206664,
          0.04124466566228124,
          0.045514724173571816,
          0.04602877389065046,
          0.052152751256941646,
          0.03850935041956449,
          0.0473379815356586,
          0.04975292994411646,
          0.042368897044654276,
          0.04325396790638193,
          0.03907502671548447,
          0.03835567944922306,
          0.0370778515494981,
          0.041191195277052714,
          0.045582371283919905,
          0.04514036578315786,
          0.049519287703869805,
          0.03920744792670322,
          0.0439339295411944,
          0.04462129267908134,
          0.03920954136958464,
          0.04015976297671811,
          0.04016065203300457,
          0.043671719250915335,
          0.05199671530928648,
          0.040730160468090325,
          0.04435058598882329,
          0.04516161116269292,
          0.03824198097507139,
          0.03829945868297041,
          0.03886009407354204,
          0.043019572377064975,
          0.03440073883643116,
          0.040845680850691096,
          0.04117259516843894,
          0.04181353029798714,
          0.03935218453830387,
          0.03992988280223534,
          0.03976798258675963,
          0.037294338945044934,
          0.04220589317309882,
          0.03545318658795088,
          0.03461638316136153,
          0.03963246062750731,
          0.034483322530350545,
          0.03820751362051749,
          0.03794309601807894,
          0.03647160713347231,
          0.03837000070073402,
          0.03474290944764641,
          0.03622352758264282,
          0.04222762030727187,
          0.03464471471366256,
          0.03879700611390431,
          0.035609899181893036,
          0.0366566994551793,
          0.033873506560622255,
          0.036572278524254154,
          0.03296203992432072,
          0.03445344717341415,
          0.035529752728483084,
          0.04153101623951089,
          0.03645996618958359,
          0.03421542315575565,
          0.03377192421561586,
          0.043324610654660756,
          0.0386065641259219,
          0.03560347213706357,
          0.038625348177215635,
          0.03759421806842668,
          0.0351314620815304,
          0.03756900040292206,
          0.037899024227878705,
          0.037478807175516354,
          0.037148288457158875,
          0.03214974248024806,
          0.03528512867228422,
          0.03580838209274215,
          0.034472649475325405,
          0.03671999544522888,
          0.03115879508785453,
          0.02853008338734825,
          0.0355458608517422,
          0.03333480195504791,
          0.03575977961915106,
          0.031510454075644234,
          0.03657616321847135,
          0.02872908089974248,
          0.030861578753744547,
          0.033908873920431654,
          0.03441666520680413,
          0.030507854790392936,
          0.0315610186044882,
          0.03904816670462309,
          0.035605648792109736,
          0.02851503074470508,
          0.02831298065974108,
          0.032801247744512374,
          0.03139165338191756,
          0.030064504756232152,
          0.033655672441882875,
          0.0317521131510257,
          0.033363431319306976,
          0.03413776868770037,
          0.03027005851129058,
          0.03210265534397281,
          0.024412176129495648,
          0.030146906697265385,
          0.02957422744074418,
          0.040441497468598354,
          0.03575626281029378,
          0.029464240667098785,
          0.026143729306448506,
          0.02606715659653487,
          0.0295733099171382,
          0.03208090412206786,
          0.032430638281099454,
          0.028875433579174183,
          0.03244542814848554,
          0.025291137466496156,
          0.029762981097699842,
          0.030481603542210467,
          0.0305359498449626,
          0.026254232871432828,
          0.029235952472715168,
          0.026662445474134155,
          0.027758040922866704,
          0.029450657376101468,
          0.025700300439710597,
          0.026127835782982674,
          0.025831928945570484,
          0.030133189828845715,
          0.03330614193367552,
          0.02853225347301298,
          0.029811914230156087,
          0.02755564266068707,
          0.029178744109454653,
          0.02968560035387068,
          0.025448029623530648,
          0.031769559238302124,
          0.035170738223288894,
          0.029926814901108913,
          0.02986361745178074,
          0.027710951596797647,
          0.027232383108806473,
          0.026374872991959078,
          0.027375249636494226,
          0.031062056566753673,
          0.027266176006867194,
          0.02644960627507314,
          0.030537121384650423,
          0.027473998388311757,
          0.02597339619501428,
          0.025998736488972198,
          0.023654752728483087,
          0.025270106686754376,
          0.026733955380761346,
          0.02421978960461083,
          0.028154980467039223,
          0.02739314244170769,
          0.027989780232293326,
          0.026276279715501987,
          0.02803652357094056,
          0.029154803093740692,
          0.026113656868069303,
          0.034924603209361804,
          0.02657998440866808,
          0.027313523728605713,
          0.02366737032041063,
          0.02560114000665697,
          0.030254040169577633,
          0.024521219102009356,
          0.024911184152900164,
          0.027075876355482368,
          0.026833700488761977,
          0.02275720004204404,
          0.025754351120298512,
          0.026452993886095684,
          0.024098310793055727,
          0.02541603892577475
         ]
        }
       ],
       "layout": {
        "template": {
         "data": {
          "bar": [
           {
            "error_x": {
             "color": "#2a3f5f"
            },
            "error_y": {
             "color": "#2a3f5f"
            },
            "marker": {
             "line": {
              "color": "#E5ECF6",
              "width": 0.5
             },
             "pattern": {
              "fillmode": "overlay",
              "size": 10,
              "solidity": 0.2
             }
            },
            "type": "bar"
           }
          ],
          "barpolar": [
           {
            "marker": {
             "line": {
              "color": "#E5ECF6",
              "width": 0.5
             },
             "pattern": {
              "fillmode": "overlay",
              "size": 10,
              "solidity": 0.2
             }
            },
            "type": "barpolar"
           }
          ],
          "carpet": [
           {
            "aaxis": {
             "endlinecolor": "#2a3f5f",
             "gridcolor": "white",
             "linecolor": "white",
             "minorgridcolor": "white",
             "startlinecolor": "#2a3f5f"
            },
            "baxis": {
             "endlinecolor": "#2a3f5f",
             "gridcolor": "white",
             "linecolor": "white",
             "minorgridcolor": "white",
             "startlinecolor": "#2a3f5f"
            },
            "type": "carpet"
           }
          ],
          "choropleth": [
           {
            "colorbar": {
             "outlinewidth": 0,
             "ticks": ""
            },
            "type": "choropleth"
           }
          ],
          "contour": [
           {
            "colorbar": {
             "outlinewidth": 0,
             "ticks": ""
            },
            "colorscale": [
             [
              0,
              "#0d0887"
             ],
             [
              0.1111111111111111,
              "#46039f"
             ],
             [
              0.2222222222222222,
              "#7201a8"
             ],
             [
              0.3333333333333333,
              "#9c179e"
             ],
             [
              0.4444444444444444,
              "#bd3786"
             ],
             [
              0.5555555555555556,
              "#d8576b"
             ],
             [
              0.6666666666666666,
              "#ed7953"
             ],
             [
              0.7777777777777778,
              "#fb9f3a"
             ],
             [
              0.8888888888888888,
              "#fdca26"
             ],
             [
              1,
              "#f0f921"
             ]
            ],
            "type": "contour"
           }
          ],
          "contourcarpet": [
           {
            "colorbar": {
             "outlinewidth": 0,
             "ticks": ""
            },
            "type": "contourcarpet"
           }
          ],
          "heatmap": [
           {
            "colorbar": {
             "outlinewidth": 0,
             "ticks": ""
            },
            "colorscale": [
             [
              0,
              "#0d0887"
             ],
             [
              0.1111111111111111,
              "#46039f"
             ],
             [
              0.2222222222222222,
              "#7201a8"
             ],
             [
              0.3333333333333333,
              "#9c179e"
             ],
             [
              0.4444444444444444,
              "#bd3786"
             ],
             [
              0.5555555555555556,
              "#d8576b"
             ],
             [
              0.6666666666666666,
              "#ed7953"
             ],
             [
              0.7777777777777778,
              "#fb9f3a"
             ],
             [
              0.8888888888888888,
              "#fdca26"
             ],
             [
              1,
              "#f0f921"
             ]
            ],
            "type": "heatmap"
           }
          ],
          "heatmapgl": [
           {
            "colorbar": {
             "outlinewidth": 0,
             "ticks": ""
            },
            "colorscale": [
             [
              0,
              "#0d0887"
             ],
             [
              0.1111111111111111,
              "#46039f"
             ],
             [
              0.2222222222222222,
              "#7201a8"
             ],
             [
              0.3333333333333333,
              "#9c179e"
             ],
             [
              0.4444444444444444,
              "#bd3786"
             ],
             [
              0.5555555555555556,
              "#d8576b"
             ],
             [
              0.6666666666666666,
              "#ed7953"
             ],
             [
              0.7777777777777778,
              "#fb9f3a"
             ],
             [
              0.8888888888888888,
              "#fdca26"
             ],
             [
              1,
              "#f0f921"
             ]
            ],
            "type": "heatmapgl"
           }
          ],
          "histogram": [
           {
            "marker": {
             "pattern": {
              "fillmode": "overlay",
              "size": 10,
              "solidity": 0.2
             }
            },
            "type": "histogram"
           }
          ],
          "histogram2d": [
           {
            "colorbar": {
             "outlinewidth": 0,
             "ticks": ""
            },
            "colorscale": [
             [
              0,
              "#0d0887"
             ],
             [
              0.1111111111111111,
              "#46039f"
             ],
             [
              0.2222222222222222,
              "#7201a8"
             ],
             [
              0.3333333333333333,
              "#9c179e"
             ],
             [
              0.4444444444444444,
              "#bd3786"
             ],
             [
              0.5555555555555556,
              "#d8576b"
             ],
             [
              0.6666666666666666,
              "#ed7953"
             ],
             [
              0.7777777777777778,
              "#fb9f3a"
             ],
             [
              0.8888888888888888,
              "#fdca26"
             ],
             [
              1,
              "#f0f921"
             ]
            ],
            "type": "histogram2d"
           }
          ],
          "histogram2dcontour": [
           {
            "colorbar": {
             "outlinewidth": 0,
             "ticks": ""
            },
            "colorscale": [
             [
              0,
              "#0d0887"
             ],
             [
              0.1111111111111111,
              "#46039f"
             ],
             [
              0.2222222222222222,
              "#7201a8"
             ],
             [
              0.3333333333333333,
              "#9c179e"
             ],
             [
              0.4444444444444444,
              "#bd3786"
             ],
             [
              0.5555555555555556,
              "#d8576b"
             ],
             [
              0.6666666666666666,
              "#ed7953"
             ],
             [
              0.7777777777777778,
              "#fb9f3a"
             ],
             [
              0.8888888888888888,
              "#fdca26"
             ],
             [
              1,
              "#f0f921"
             ]
            ],
            "type": "histogram2dcontour"
           }
          ],
          "mesh3d": [
           {
            "colorbar": {
             "outlinewidth": 0,
             "ticks": ""
            },
            "type": "mesh3d"
           }
          ],
          "parcoords": [
           {
            "line": {
             "colorbar": {
              "outlinewidth": 0,
              "ticks": ""
             }
            },
            "type": "parcoords"
           }
          ],
          "pie": [
           {
            "automargin": true,
            "type": "pie"
           }
          ],
          "scatter": [
           {
            "fillpattern": {
             "fillmode": "overlay",
             "size": 10,
             "solidity": 0.2
            },
            "type": "scatter"
           }
          ],
          "scatter3d": [
           {
            "line": {
             "colorbar": {
              "outlinewidth": 0,
              "ticks": ""
             }
            },
            "marker": {
             "colorbar": {
              "outlinewidth": 0,
              "ticks": ""
             }
            },
            "type": "scatter3d"
           }
          ],
          "scattercarpet": [
           {
            "marker": {
             "colorbar": {
              "outlinewidth": 0,
              "ticks": ""
             }
            },
            "type": "scattercarpet"
           }
          ],
          "scattergeo": [
           {
            "marker": {
             "colorbar": {
              "outlinewidth": 0,
              "ticks": ""
             }
            },
            "type": "scattergeo"
           }
          ],
          "scattergl": [
           {
            "marker": {
             "colorbar": {
              "outlinewidth": 0,
              "ticks": ""
             }
            },
            "type": "scattergl"
           }
          ],
          "scattermapbox": [
           {
            "marker": {
             "colorbar": {
              "outlinewidth": 0,
              "ticks": ""
             }
            },
            "type": "scattermapbox"
           }
          ],
          "scatterpolar": [
           {
            "marker": {
             "colorbar": {
              "outlinewidth": 0,
              "ticks": ""
             }
            },
            "type": "scatterpolar"
           }
          ],
          "scatterpolargl": [
           {
            "marker": {
             "colorbar": {
              "outlinewidth": 0,
              "ticks": ""
             }
            },
            "type": "scatterpolargl"
           }
          ],
          "scatterternary": [
           {
            "marker": {
             "colorbar": {
              "outlinewidth": 0,
              "ticks": ""
             }
            },
            "type": "scatterternary"
           }
          ],
          "surface": [
           {
            "colorbar": {
             "outlinewidth": 0,
             "ticks": ""
            },
            "colorscale": [
             [
              0,
              "#0d0887"
             ],
             [
              0.1111111111111111,
              "#46039f"
             ],
             [
              0.2222222222222222,
              "#7201a8"
             ],
             [
              0.3333333333333333,
              "#9c179e"
             ],
             [
              0.4444444444444444,
              "#bd3786"
             ],
             [
              0.5555555555555556,
              "#d8576b"
             ],
             [
              0.6666666666666666,
              "#ed7953"
             ],
             [
              0.7777777777777778,
              "#fb9f3a"
             ],
             [
              0.8888888888888888,
              "#fdca26"
             ],
             [
              1,
              "#f0f921"
             ]
            ],
            "type": "surface"
           }
          ],
          "table": [
           {
            "cells": {
             "fill": {
              "color": "#EBF0F8"
             },
             "line": {
              "color": "white"
             }
            },
            "header": {
             "fill": {
              "color": "#C8D4E3"
             },
             "line": {
              "color": "white"
             }
            },
            "type": "table"
           }
          ]
         },
         "layout": {
          "annotationdefaults": {
           "arrowcolor": "#2a3f5f",
           "arrowhead": 0,
           "arrowwidth": 1
          },
          "autotypenumbers": "strict",
          "coloraxis": {
           "colorbar": {
            "outlinewidth": 0,
            "ticks": ""
           }
          },
          "colorscale": {
           "diverging": [
            [
             0,
             "#8e0152"
            ],
            [
             0.1,
             "#c51b7d"
            ],
            [
             0.2,
             "#de77ae"
            ],
            [
             0.3,
             "#f1b6da"
            ],
            [
             0.4,
             "#fde0ef"
            ],
            [
             0.5,
             "#f7f7f7"
            ],
            [
             0.6,
             "#e6f5d0"
            ],
            [
             0.7,
             "#b8e186"
            ],
            [
             0.8,
             "#7fbc41"
            ],
            [
             0.9,
             "#4d9221"
            ],
            [
             1,
             "#276419"
            ]
           ],
           "sequential": [
            [
             0,
             "#0d0887"
            ],
            [
             0.1111111111111111,
             "#46039f"
            ],
            [
             0.2222222222222222,
             "#7201a8"
            ],
            [
             0.3333333333333333,
             "#9c179e"
            ],
            [
             0.4444444444444444,
             "#bd3786"
            ],
            [
             0.5555555555555556,
             "#d8576b"
            ],
            [
             0.6666666666666666,
             "#ed7953"
            ],
            [
             0.7777777777777778,
             "#fb9f3a"
            ],
            [
             0.8888888888888888,
             "#fdca26"
            ],
            [
             1,
             "#f0f921"
            ]
           ],
           "sequentialminus": [
            [
             0,
             "#0d0887"
            ],
            [
             0.1111111111111111,
             "#46039f"
            ],
            [
             0.2222222222222222,
             "#7201a8"
            ],
            [
             0.3333333333333333,
             "#9c179e"
            ],
            [
             0.4444444444444444,
             "#bd3786"
            ],
            [
             0.5555555555555556,
             "#d8576b"
            ],
            [
             0.6666666666666666,
             "#ed7953"
            ],
            [
             0.7777777777777778,
             "#fb9f3a"
            ],
            [
             0.8888888888888888,
             "#fdca26"
            ],
            [
             1,
             "#f0f921"
            ]
           ]
          },
          "colorway": [
           "#636efa",
           "#EF553B",
           "#00cc96",
           "#ab63fa",
           "#FFA15A",
           "#19d3f3",
           "#FF6692",
           "#B6E880",
           "#FF97FF",
           "#FECB52"
          ],
          "font": {
           "color": "#2a3f5f"
          },
          "geo": {
           "bgcolor": "white",
           "lakecolor": "white",
           "landcolor": "#E5ECF6",
           "showlakes": true,
           "showland": true,
           "subunitcolor": "white"
          },
          "hoverlabel": {
           "align": "left"
          },
          "hovermode": "closest",
          "mapbox": {
           "style": "light"
          },
          "paper_bgcolor": "white",
          "plot_bgcolor": "#E5ECF6",
          "polar": {
           "angularaxis": {
            "gridcolor": "white",
            "linecolor": "white",
            "ticks": ""
           },
           "bgcolor": "#E5ECF6",
           "radialaxis": {
            "gridcolor": "white",
            "linecolor": "white",
            "ticks": ""
           }
          },
          "scene": {
           "xaxis": {
            "backgroundcolor": "#E5ECF6",
            "gridcolor": "white",
            "gridwidth": 2,
            "linecolor": "white",
            "showbackground": true,
            "ticks": "",
            "zerolinecolor": "white"
           },
           "yaxis": {
            "backgroundcolor": "#E5ECF6",
            "gridcolor": "white",
            "gridwidth": 2,
            "linecolor": "white",
            "showbackground": true,
            "ticks": "",
            "zerolinecolor": "white"
           },
           "zaxis": {
            "backgroundcolor": "#E5ECF6",
            "gridcolor": "white",
            "gridwidth": 2,
            "linecolor": "white",
            "showbackground": true,
            "ticks": "",
            "zerolinecolor": "white"
           }
          },
          "shapedefaults": {
           "line": {
            "color": "#2a3f5f"
           }
          },
          "ternary": {
           "aaxis": {
            "gridcolor": "white",
            "linecolor": "white",
            "ticks": ""
           },
           "baxis": {
            "gridcolor": "white",
            "linecolor": "white",
            "ticks": ""
           },
           "bgcolor": "#E5ECF6",
           "caxis": {
            "gridcolor": "white",
            "linecolor": "white",
            "ticks": ""
           }
          },
          "title": {
           "x": 0.05
          },
          "xaxis": {
           "automargin": true,
           "gridcolor": "white",
           "linecolor": "white",
           "ticks": "",
           "title": {
            "standoff": 15
           },
           "zerolinecolor": "white",
           "zerolinewidth": 2
          },
          "yaxis": {
           "automargin": true,
           "gridcolor": "white",
           "linecolor": "white",
           "ticks": "",
           "title": {
            "standoff": 15
           },
           "zerolinecolor": "white",
           "zerolinewidth": 2
          }
         }
        }
       }
      },
      "text/html": [
       "<div>                            <div id=\"22acb0f8-935f-4abd-9362-024a40bdf5ef\" class=\"plotly-graph-div\" style=\"height:525px; width:100%;\"></div>            <script type=\"text/javascript\">                require([\"plotly\"], function(Plotly) {                    window.PLOTLYENV=window.PLOTLYENV || {};                                    if (document.getElementById(\"22acb0f8-935f-4abd-9362-024a40bdf5ef\")) {                    Plotly.newPlot(                        \"22acb0f8-935f-4abd-9362-024a40bdf5ef\",                        [{\"mode\":\"lines\",\"name\":\"accuracy\",\"x\":[0,1,2,3,4,5,6,7,8,9,10,11,12,13,14,15,16,17,18,19,20,21,22,23,24,25,26,27,28,29,30,31,32,33,34,35,36,37,38,39,40,41,42,43,44,45,46,47,48,49,50,51,52,53,54,55,56,57,58,59,60,61,62,63,64,65,66,67,68,69,70,71,72,73,74,75,76,77,78,79,80,81,82,83,84,85,86,87,88,89,90,91,92,93,94,95,96,97,98,99,100,101,102,103,104,105,106,107,108,109,110,111,112,113,114,115,116,117,118,119,120,121,122,123,124,125,126,127,128,129,130,131,132,133,134,135,136,137,138,139,140,141,142,143,144,145,146,147,148,149,150,151,152,153,154,155,156,157,158,159,160,161,162,163,164,165,166,167,168,169,170,171,172,173,174,175,176,177,178,179,180,181,182,183,184,185,186,187,188,189,190,191,192,193,194,195,196,197,198,199,200,201,202,203,204,205,206,207,208,209,210,211,212,213,214,215,216,217,218,219,220,221,222,223,224,225,226,227,228,229,230,231,232,233,234,235,236,237,238,239,240,241,242,243,244,245,246,247,248,249,250,251,252,253,254,255,256,257,258,259,260,261,262,263,264,265,266,267,268,269,270,271,272,273,274,275,276,277,278,279,280,281,282,283,284,285,286,287,288,289,290,291,292,293,294,295,296,297,298,299,300,301,302,303,304,305,306,307,308,309,310,311,312,313,314,315,316,317,318,319,320,321,322,323,324,325,326,327,328,329,330,331,332,333,334,335,336,337,338,339,340,341,342,343,344,345,346,347,348,349,350,351,352,353,354,355,356,357,358,359,360,361,362,363,364,365,366,367,368,369,370,371,372,373,374,375,376,377,378,379,380,381,382,383,384,385,386,387,388,389,390,391,392,393,394,395,396,397,398,399],\"y\":[0.671875,0.851875,0.87875,0.893125,0.915,0.921875,0.929375,0.9225,0.923125,0.934375,0.93625,0.92875,0.931875,0.93,0.933125,0.9425,0.936875,0.944375,0.94375,0.94875,0.94125,0.950625,0.949375,0.943125,0.946875,0.9575,0.945,0.95625,0.94625,0.95875,0.956875,0.950625,0.950625,0.960625,0.96375,0.956875,0.959375,0.963125,0.961875,0.96625,0.955625,0.96125,0.969375,0.960625,0.95875,0.96,0.963125,0.969375,0.96125,0.9725,0.968125,0.966875,0.965625,0.96375,0.964375,0.961875,0.966875,0.969375,0.968125,0.961875,0.973125,0.968125,0.978125,0.9775,0.960625,0.9725,0.971875,0.975,0.97375,0.97375,0.97375,0.97375,0.981875,0.974375,0.9725,0.975,0.973125,0.9825,0.975625,0.97,0.9775,0.9775,0.983125,0.981875,0.974375,0.975,0.980625,0.980625,0.98125,0.975625,0.97625,0.985625,0.98125,0.9775,0.97625,0.98,0.984375,0.974375,0.975,0.978125,0.981875,0.986875,0.976875,0.979375,0.980625,0.98,0.98,0.98,0.98375,0.98,0.983125,0.989375,0.985,0.98,0.98625,0.98375,0.983125,0.9775,0.9825,0.986875,0.986875,0.984375,0.985,0.989375,0.98625,0.984375,0.985,0.9825,0.986875,0.98625,0.985625,0.985,0.98625,0.9825,0.984375,0.981875,0.989375,0.989375,0.980625,0.986875,0.986875,0.981875,0.98625,0.98875,0.984375,0.990625,0.98625,0.99375,0.989375,0.99,0.99,0.993125,0.98875,0.984375,0.990625,0.986875,0.9875,0.985625,0.99125,0.98875,0.990625,0.99375,0.985625,0.99125,0.99125,0.99,0.9925,0.988125,0.986875,0.993125,0.985625,0.991875,0.99125,0.990625,0.99,0.991875,0.988125,0.988125,0.9875,0.99125,0.9925,0.990625,0.988125,0.994375,0.98875,0.99125,0.993125,0.9925,0.990625,0.989375,0.98625,0.996875,0.990625,0.99375,0.990625,0.99375,0.994375,0.9925,0.989375,0.9925,0.990625,0.991875,0.99375,0.991875,0.99125,0.993125,0.991875,0.993125,0.99125,0.9925,0.991875,0.99375,0.99625,0.9975,0.994375,0.996875,0.9975,0.995,0.993125,0.994375,0.996875,0.994375,0.994375,0.990625,0.99125,0.99875,0.990625,0.991875,0.994375,0.995625,0.995625,0.99625,0.996875,0.994375,0.99125,0.994375,0.9925,0.99375,0.995,0.99125,0.995,0.995625,0.996875,0.994375,0.99,0.99375,0.995625,0.9925,0.99625,0.998125,0.99625,0.995625,0.99625,0.99625,0.994375,0.9925,0.996875,0.99375,0.995625,0.996875,0.995,0.994375,0.9975,0.995625,0.99625,0.99625,0.995625,0.996875,0.995625,0.995625,0.99625,0.993125,0.995625,0.996875,0.995625,0.996875,0.99625,0.995625,0.9975,0.9975,0.996875,0.991875,0.99625,0.99625,0.998125,0.995,0.994375,0.995625,0.99625,0.994375,0.99625,0.995625,0.996875,0.994375,0.99625,0.9975,0.996875,0.99625,0.99625,0.995625,0.998125,0.9975,0.996875,0.995625,0.996875,0.996875,0.995625,0.99625,0.998125,0.995625,0.99625,0.995625,0.996875,0.993125,0.995,0.998125,0.99875,0.996875,0.996875,0.998125,0.996875,0.998125,0.995,0.99625,0.9975,0.99625,0.998125,0.996875,0.9975,0.991875,0.995625,0.9975,0.99875,0.998125,0.994375,0.998125,0.996875,0.998125,0.995,1.0,0.9975,0.996875,0.998125,0.99875,0.9975,0.998125,0.998125,0.99625,0.996875,0.998125,0.998125,0.995625,0.994375,0.998125,0.995625,0.999375,0.9975,0.9975,0.99875,0.9975,0.995,0.99625,0.996875,0.99625,0.99625,0.99875,0.996875,0.996875,0.999375,0.998125,0.995,0.998125,0.998125,0.999375,0.998125,0.999375,0.998125,0.9975,0.99625,0.9975,0.9975,0.996875,0.998125,0.99625,0.9975,0.994375,0.998125,0.99875,0.999375,0.999375,0.99625,0.998125,0.99875,0.998125,0.9975,0.99875,0.99875,0.99875,0.999375,0.99875],\"type\":\"scatter\"},{\"mode\":\"lines\",\"name\":\"loss\",\"x\":[0,1,2,3,4,5,6,7,8,9,10,11,12,13,14,15,16,17,18,19,20,21,22,23,24,25,26,27,28,29,30,31,32,33,34,35,36,37,38,39,40,41,42,43,44,45,46,47,48,49,50,51,52,53,54,55,56,57,58,59,60,61,62,63,64,65,66,67,68,69,70,71,72,73,74,75,76,77,78,79,80,81,82,83,84,85,86,87,88,89,90,91,92,93,94,95,96,97,98,99,100,101,102,103,104,105,106,107,108,109,110,111,112,113,114,115,116,117,118,119,120,121,122,123,124,125,126,127,128,129,130,131,132,133,134,135,136,137,138,139,140,141,142,143,144,145,146,147,148,149,150,151,152,153,154,155,156,157,158,159,160,161,162,163,164,165,166,167,168,169,170,171,172,173,174,175,176,177,178,179,180,181,182,183,184,185,186,187,188,189,190,191,192,193,194,195,196,197,198,199,200,201,202,203,204,205,206,207,208,209,210,211,212,213,214,215,216,217,218,219,220,221,222,223,224,225,226,227,228,229,230,231,232,233,234,235,236,237,238,239,240,241,242,243,244,245,246,247,248,249,250,251,252,253,254,255,256,257,258,259,260,261,262,263,264,265,266,267,268,269,270,271,272,273,274,275,276,277,278,279,280,281,282,283,284,285,286,287,288,289,290,291,292,293,294,295,296,297,298,299,300,301,302,303,304,305,306,307,308,309,310,311,312,313,314,315,316,317,318,319,320,321,322,323,324,325,326,327,328,329,330,331,332,333,334,335,336,337,338,339,340,341,342,343,344,345,346,347,348,349,350,351,352,353,354,355,356,357,358,359,360,361,362,363,364,365,366,367,368,369,370,371,372,373,374,375,376,377,378,379,380,381,382,383,384,385,386,387,388,389,390,391,392,393,394,395,396,397,398,399],\"y\":[1.0,0.4475589580085139,0.41803076222342905,0.3450334425310513,0.29561522695023035,0.2697254173747,0.22883509976700595,0.2369730392586234,0.2394834539179791,0.20579885429987912,0.21881046896624215,0.2243753656955661,0.21945866545206102,0.21454224550216353,0.19295827128917542,0.18015426659425748,0.1935672617066377,0.16992896308883557,0.17686008093477917,0.16238424749925548,0.1726540300965261,0.1717539547676191,0.16586961091743602,0.16962573796051364,0.16567149589194682,0.14140495418951352,0.15951961179335353,0.14904134330711422,0.16016668710474222,0.14740484907941068,0.15229050680587916,0.15726650666573236,0.1495110978750241,0.13784567209151585,0.1292842702731111,0.14457494350331973,0.13417531489234974,0.1326612476569206,0.13827194611355395,0.12600880297111225,0.15077289210447944,0.13150868034265895,0.10933266471629031,0.12058597130494193,0.14655754778130092,0.13851200882924863,0.12385309987211604,0.12848641451920886,0.12932358145157052,0.10505357987491898,0.1123464604172871,0.10692635285461521,0.11751910376118985,0.12245927859432756,0.12860369111644449,0.12812846206401204,0.12328344691063889,0.11263441830317257,0.10439833225303505,0.13073105828355203,0.11249487588248691,0.11143916752798556,0.0863140777464394,0.09019658216982289,0.11312353940752938,0.09984759035089256,0.11602371108736402,0.09618265508119755,0.10497698088747963,0.09784491004327033,0.10141079655939597,0.10398141303014909,0.087192430320761,0.0980269169455004,0.09615374104374332,0.09368833102675052,0.09796709177863812,0.09042338349421018,0.09380085139183295,0.10159190126657675,0.09407672161589264,0.08369200112117443,0.0843878737978032,0.07866696739834977,0.08358928227318116,0.08358223989629136,0.08736748243785365,0.07777566000385404,0.07975167738205771,0.09278763379640173,0.08737109997722614,0.07353897832980047,0.079837885184731,0.09021681586461819,0.09633584429690101,0.08142711490286075,0.07866061699630363,0.08856577264684758,0.0832593766970902,0.08305575215037753,0.07902620745230629,0.06442714555997407,0.08320862603577248,0.07336886200795333,0.08109824290944764,0.08192886673790796,0.0801535658602386,0.08911524446858084,0.08415217315137606,0.07740300089343588,0.06781079305572588,0.06659423558677714,0.078125194891649,0.0832969535588529,0.06860314366799222,0.08044641136590579,0.07713482122523344,0.08612270728588196,0.0784350945115008,0.06628957395371651,0.06727929944116462,0.0662558774065834,0.07101757966469877,0.0633297698088748,0.07186504300755041,0.07819158943993834,0.07348567874848905,0.07727184100345111,0.07032441795280557,0.06347990645200847,0.06374245397053413,0.06584051293730182,0.06915469141425644,0.07197405532295079,0.07048858679466742,0.07881527775344674,0.06492482437853651,0.06340078920168878,0.08186781528651262,0.06408689101834171,0.06960255242366378,0.06775116059071878,0.07438421246255453,0.06776674316346373,0.07167122873710212,0.06272263195697493,0.0625159329397544,0.06151876215335564,0.06095876180298863,0.0558108981658287,0.05676534169542596,0.06129955503389801,0.05904718129740904,0.06356260620499973,0.05840039503880315,0.05623026119860554,0.07095893260690574,0.06867289735998458,0.05171688155843246,0.05314829283674649,0.057846228299143355,0.04531801937529562,0.06339327382933622,0.06260756705148643,0.05807941068269012,0.06340188409859328,0.05067906819893839,0.06561766200094599,0.06032451430373316,0.05971665819946394,0.06345636616856157,0.055609967065501115,0.057075525988472924,0.057765144613983146,0.04918705656675367,0.05148190792354992,0.06224516055568208,0.06563952928192282,0.05767502583956695,0.05163988402851988,0.052707837710001225,0.05818105653171697,0.054612042990032056,0.04806324562479197,0.061612222553124395,0.05322583781511133,0.04437536131597849,0.05317517036595834,0.059514220520995746,0.056215777902352715,0.06295466250897816,0.0455148905979013,0.054498598531962233,0.044616172941155864,0.0584614508697861,0.05242863899935182,0.04340117898498677,0.051334180053606154,0.051928034616260534,0.05091079217980835,0.050222461153057826,0.04767240684617136,0.04499588756722667,0.056112231312299636,0.04856524709633341,0.04816763309566771,0.05409581223831964,0.04571214284462975,0.05472423488604313,0.04951959427500307,0.05328920168876899,0.04209804582800483,0.04243046090780092,0.03974884816845646,0.04358792460101957,0.043244083177128044,0.03875097664803882,0.04391846959690276,0.04493490180964561,0.041892634409543994,0.0394806641206664,0.04124466566228124,0.045514724173571816,0.04602877389065046,0.052152751256941646,0.03850935041956449,0.0473379815356586,0.04975292994411646,0.042368897044654276,0.04325396790638193,0.03907502671548447,0.03835567944922306,0.0370778515494981,0.041191195277052714,0.045582371283919905,0.04514036578315786,0.049519287703869805,0.03920744792670322,0.0439339295411944,0.04462129267908134,0.03920954136958464,0.04015976297671811,0.04016065203300457,0.043671719250915335,0.05199671530928648,0.040730160468090325,0.04435058598882329,0.04516161116269292,0.03824198097507139,0.03829945868297041,0.03886009407354204,0.043019572377064975,0.03440073883643116,0.040845680850691096,0.04117259516843894,0.04181353029798714,0.03935218453830387,0.03992988280223534,0.03976798258675963,0.037294338945044934,0.04220589317309882,0.03545318658795088,0.03461638316136153,0.03963246062750731,0.034483322530350545,0.03820751362051749,0.03794309601807894,0.03647160713347231,0.03837000070073402,0.03474290944764641,0.03622352758264282,0.04222762030727187,0.03464471471366256,0.03879700611390431,0.035609899181893036,0.0366566994551793,0.033873506560622255,0.036572278524254154,0.03296203992432072,0.03445344717341415,0.035529752728483084,0.04153101623951089,0.03645996618958359,0.03421542315575565,0.03377192421561586,0.043324610654660756,0.0386065641259219,0.03560347213706357,0.038625348177215635,0.03759421806842668,0.0351314620815304,0.03756900040292206,0.037899024227878705,0.037478807175516354,0.037148288457158875,0.03214974248024806,0.03528512867228422,0.03580838209274215,0.034472649475325405,0.03671999544522888,0.03115879508785453,0.02853008338734825,0.0355458608517422,0.03333480195504791,0.03575977961915106,0.031510454075644234,0.03657616321847135,0.02872908089974248,0.030861578753744547,0.033908873920431654,0.03441666520680413,0.030507854790392936,0.0315610186044882,0.03904816670462309,0.035605648792109736,0.02851503074470508,0.02831298065974108,0.032801247744512374,0.03139165338191756,0.030064504756232152,0.033655672441882875,0.0317521131510257,0.033363431319306976,0.03413776868770037,0.03027005851129058,0.03210265534397281,0.024412176129495648,0.030146906697265385,0.02957422744074418,0.040441497468598354,0.03575626281029378,0.029464240667098785,0.026143729306448506,0.02606715659653487,0.0295733099171382,0.03208090412206786,0.032430638281099454,0.028875433579174183,0.03244542814848554,0.025291137466496156,0.029762981097699842,0.030481603542210467,0.0305359498449626,0.026254232871432828,0.029235952472715168,0.026662445474134155,0.027758040922866704,0.029450657376101468,0.025700300439710597,0.026127835782982674,0.025831928945570484,0.030133189828845715,0.03330614193367552,0.02853225347301298,0.029811914230156087,0.02755564266068707,0.029178744109454653,0.02968560035387068,0.025448029623530648,0.031769559238302124,0.035170738223288894,0.029926814901108913,0.02986361745178074,0.027710951596797647,0.027232383108806473,0.026374872991959078,0.027375249636494226,0.031062056566753673,0.027266176006867194,0.02644960627507314,0.030537121384650423,0.027473998388311757,0.02597339619501428,0.025998736488972198,0.023654752728483087,0.025270106686754376,0.026733955380761346,0.02421978960461083,0.028154980467039223,0.02739314244170769,0.027989780232293326,0.026276279715501987,0.02803652357094056,0.029154803093740692,0.026113656868069303,0.034924603209361804,0.02657998440866808,0.027313523728605713,0.02366737032041063,0.02560114000665697,0.030254040169577633,0.024521219102009356,0.024911184152900164,0.027075876355482368,0.026833700488761977,0.02275720004204404,0.025754351120298512,0.026452993886095684,0.024098310793055727,0.02541603892577475],\"type\":\"scatter\"}],                        {\"template\":{\"data\":{\"barpolar\":[{\"marker\":{\"line\":{\"color\":\"#E5ECF6\",\"width\":0.5},\"pattern\":{\"fillmode\":\"overlay\",\"size\":10,\"solidity\":0.2}},\"type\":\"barpolar\"}],\"bar\":[{\"error_x\":{\"color\":\"#2a3f5f\"},\"error_y\":{\"color\":\"#2a3f5f\"},\"marker\":{\"line\":{\"color\":\"#E5ECF6\",\"width\":0.5},\"pattern\":{\"fillmode\":\"overlay\",\"size\":10,\"solidity\":0.2}},\"type\":\"bar\"}],\"carpet\":[{\"aaxis\":{\"endlinecolor\":\"#2a3f5f\",\"gridcolor\":\"white\",\"linecolor\":\"white\",\"minorgridcolor\":\"white\",\"startlinecolor\":\"#2a3f5f\"},\"baxis\":{\"endlinecolor\":\"#2a3f5f\",\"gridcolor\":\"white\",\"linecolor\":\"white\",\"minorgridcolor\":\"white\",\"startlinecolor\":\"#2a3f5f\"},\"type\":\"carpet\"}],\"choropleth\":[{\"colorbar\":{\"outlinewidth\":0,\"ticks\":\"\"},\"type\":\"choropleth\"}],\"contourcarpet\":[{\"colorbar\":{\"outlinewidth\":0,\"ticks\":\"\"},\"type\":\"contourcarpet\"}],\"contour\":[{\"colorbar\":{\"outlinewidth\":0,\"ticks\":\"\"},\"colorscale\":[[0.0,\"#0d0887\"],[0.1111111111111111,\"#46039f\"],[0.2222222222222222,\"#7201a8\"],[0.3333333333333333,\"#9c179e\"],[0.4444444444444444,\"#bd3786\"],[0.5555555555555556,\"#d8576b\"],[0.6666666666666666,\"#ed7953\"],[0.7777777777777778,\"#fb9f3a\"],[0.8888888888888888,\"#fdca26\"],[1.0,\"#f0f921\"]],\"type\":\"contour\"}],\"heatmapgl\":[{\"colorbar\":{\"outlinewidth\":0,\"ticks\":\"\"},\"colorscale\":[[0.0,\"#0d0887\"],[0.1111111111111111,\"#46039f\"],[0.2222222222222222,\"#7201a8\"],[0.3333333333333333,\"#9c179e\"],[0.4444444444444444,\"#bd3786\"],[0.5555555555555556,\"#d8576b\"],[0.6666666666666666,\"#ed7953\"],[0.7777777777777778,\"#fb9f3a\"],[0.8888888888888888,\"#fdca26\"],[1.0,\"#f0f921\"]],\"type\":\"heatmapgl\"}],\"heatmap\":[{\"colorbar\":{\"outlinewidth\":0,\"ticks\":\"\"},\"colorscale\":[[0.0,\"#0d0887\"],[0.1111111111111111,\"#46039f\"],[0.2222222222222222,\"#7201a8\"],[0.3333333333333333,\"#9c179e\"],[0.4444444444444444,\"#bd3786\"],[0.5555555555555556,\"#d8576b\"],[0.6666666666666666,\"#ed7953\"],[0.7777777777777778,\"#fb9f3a\"],[0.8888888888888888,\"#fdca26\"],[1.0,\"#f0f921\"]],\"type\":\"heatmap\"}],\"histogram2dcontour\":[{\"colorbar\":{\"outlinewidth\":0,\"ticks\":\"\"},\"colorscale\":[[0.0,\"#0d0887\"],[0.1111111111111111,\"#46039f\"],[0.2222222222222222,\"#7201a8\"],[0.3333333333333333,\"#9c179e\"],[0.4444444444444444,\"#bd3786\"],[0.5555555555555556,\"#d8576b\"],[0.6666666666666666,\"#ed7953\"],[0.7777777777777778,\"#fb9f3a\"],[0.8888888888888888,\"#fdca26\"],[1.0,\"#f0f921\"]],\"type\":\"histogram2dcontour\"}],\"histogram2d\":[{\"colorbar\":{\"outlinewidth\":0,\"ticks\":\"\"},\"colorscale\":[[0.0,\"#0d0887\"],[0.1111111111111111,\"#46039f\"],[0.2222222222222222,\"#7201a8\"],[0.3333333333333333,\"#9c179e\"],[0.4444444444444444,\"#bd3786\"],[0.5555555555555556,\"#d8576b\"],[0.6666666666666666,\"#ed7953\"],[0.7777777777777778,\"#fb9f3a\"],[0.8888888888888888,\"#fdca26\"],[1.0,\"#f0f921\"]],\"type\":\"histogram2d\"}],\"histogram\":[{\"marker\":{\"pattern\":{\"fillmode\":\"overlay\",\"size\":10,\"solidity\":0.2}},\"type\":\"histogram\"}],\"mesh3d\":[{\"colorbar\":{\"outlinewidth\":0,\"ticks\":\"\"},\"type\":\"mesh3d\"}],\"parcoords\":[{\"line\":{\"colorbar\":{\"outlinewidth\":0,\"ticks\":\"\"}},\"type\":\"parcoords\"}],\"pie\":[{\"automargin\":true,\"type\":\"pie\"}],\"scatter3d\":[{\"line\":{\"colorbar\":{\"outlinewidth\":0,\"ticks\":\"\"}},\"marker\":{\"colorbar\":{\"outlinewidth\":0,\"ticks\":\"\"}},\"type\":\"scatter3d\"}],\"scattercarpet\":[{\"marker\":{\"colorbar\":{\"outlinewidth\":0,\"ticks\":\"\"}},\"type\":\"scattercarpet\"}],\"scattergeo\":[{\"marker\":{\"colorbar\":{\"outlinewidth\":0,\"ticks\":\"\"}},\"type\":\"scattergeo\"}],\"scattergl\":[{\"marker\":{\"colorbar\":{\"outlinewidth\":0,\"ticks\":\"\"}},\"type\":\"scattergl\"}],\"scattermapbox\":[{\"marker\":{\"colorbar\":{\"outlinewidth\":0,\"ticks\":\"\"}},\"type\":\"scattermapbox\"}],\"scatterpolargl\":[{\"marker\":{\"colorbar\":{\"outlinewidth\":0,\"ticks\":\"\"}},\"type\":\"scatterpolargl\"}],\"scatterpolar\":[{\"marker\":{\"colorbar\":{\"outlinewidth\":0,\"ticks\":\"\"}},\"type\":\"scatterpolar\"}],\"scatter\":[{\"fillpattern\":{\"fillmode\":\"overlay\",\"size\":10,\"solidity\":0.2},\"type\":\"scatter\"}],\"scatterternary\":[{\"marker\":{\"colorbar\":{\"outlinewidth\":0,\"ticks\":\"\"}},\"type\":\"scatterternary\"}],\"surface\":[{\"colorbar\":{\"outlinewidth\":0,\"ticks\":\"\"},\"colorscale\":[[0.0,\"#0d0887\"],[0.1111111111111111,\"#46039f\"],[0.2222222222222222,\"#7201a8\"],[0.3333333333333333,\"#9c179e\"],[0.4444444444444444,\"#bd3786\"],[0.5555555555555556,\"#d8576b\"],[0.6666666666666666,\"#ed7953\"],[0.7777777777777778,\"#fb9f3a\"],[0.8888888888888888,\"#fdca26\"],[1.0,\"#f0f921\"]],\"type\":\"surface\"}],\"table\":[{\"cells\":{\"fill\":{\"color\":\"#EBF0F8\"},\"line\":{\"color\":\"white\"}},\"header\":{\"fill\":{\"color\":\"#C8D4E3\"},\"line\":{\"color\":\"white\"}},\"type\":\"table\"}]},\"layout\":{\"annotationdefaults\":{\"arrowcolor\":\"#2a3f5f\",\"arrowhead\":0,\"arrowwidth\":1},\"autotypenumbers\":\"strict\",\"coloraxis\":{\"colorbar\":{\"outlinewidth\":0,\"ticks\":\"\"}},\"colorscale\":{\"diverging\":[[0,\"#8e0152\"],[0.1,\"#c51b7d\"],[0.2,\"#de77ae\"],[0.3,\"#f1b6da\"],[0.4,\"#fde0ef\"],[0.5,\"#f7f7f7\"],[0.6,\"#e6f5d0\"],[0.7,\"#b8e186\"],[0.8,\"#7fbc41\"],[0.9,\"#4d9221\"],[1,\"#276419\"]],\"sequential\":[[0.0,\"#0d0887\"],[0.1111111111111111,\"#46039f\"],[0.2222222222222222,\"#7201a8\"],[0.3333333333333333,\"#9c179e\"],[0.4444444444444444,\"#bd3786\"],[0.5555555555555556,\"#d8576b\"],[0.6666666666666666,\"#ed7953\"],[0.7777777777777778,\"#fb9f3a\"],[0.8888888888888888,\"#fdca26\"],[1.0,\"#f0f921\"]],\"sequentialminus\":[[0.0,\"#0d0887\"],[0.1111111111111111,\"#46039f\"],[0.2222222222222222,\"#7201a8\"],[0.3333333333333333,\"#9c179e\"],[0.4444444444444444,\"#bd3786\"],[0.5555555555555556,\"#d8576b\"],[0.6666666666666666,\"#ed7953\"],[0.7777777777777778,\"#fb9f3a\"],[0.8888888888888888,\"#fdca26\"],[1.0,\"#f0f921\"]]},\"colorway\":[\"#636efa\",\"#EF553B\",\"#00cc96\",\"#ab63fa\",\"#FFA15A\",\"#19d3f3\",\"#FF6692\",\"#B6E880\",\"#FF97FF\",\"#FECB52\"],\"font\":{\"color\":\"#2a3f5f\"},\"geo\":{\"bgcolor\":\"white\",\"lakecolor\":\"white\",\"landcolor\":\"#E5ECF6\",\"showlakes\":true,\"showland\":true,\"subunitcolor\":\"white\"},\"hoverlabel\":{\"align\":\"left\"},\"hovermode\":\"closest\",\"mapbox\":{\"style\":\"light\"},\"paper_bgcolor\":\"white\",\"plot_bgcolor\":\"#E5ECF6\",\"polar\":{\"angularaxis\":{\"gridcolor\":\"white\",\"linecolor\":\"white\",\"ticks\":\"\"},\"bgcolor\":\"#E5ECF6\",\"radialaxis\":{\"gridcolor\":\"white\",\"linecolor\":\"white\",\"ticks\":\"\"}},\"scene\":{\"xaxis\":{\"backgroundcolor\":\"#E5ECF6\",\"gridcolor\":\"white\",\"gridwidth\":2,\"linecolor\":\"white\",\"showbackground\":true,\"ticks\":\"\",\"zerolinecolor\":\"white\"},\"yaxis\":{\"backgroundcolor\":\"#E5ECF6\",\"gridcolor\":\"white\",\"gridwidth\":2,\"linecolor\":\"white\",\"showbackground\":true,\"ticks\":\"\",\"zerolinecolor\":\"white\"},\"zaxis\":{\"backgroundcolor\":\"#E5ECF6\",\"gridcolor\":\"white\",\"gridwidth\":2,\"linecolor\":\"white\",\"showbackground\":true,\"ticks\":\"\",\"zerolinecolor\":\"white\"}},\"shapedefaults\":{\"line\":{\"color\":\"#2a3f5f\"}},\"ternary\":{\"aaxis\":{\"gridcolor\":\"white\",\"linecolor\":\"white\",\"ticks\":\"\"},\"baxis\":{\"gridcolor\":\"white\",\"linecolor\":\"white\",\"ticks\":\"\"},\"bgcolor\":\"#E5ECF6\",\"caxis\":{\"gridcolor\":\"white\",\"linecolor\":\"white\",\"ticks\":\"\"}},\"title\":{\"x\":0.05},\"xaxis\":{\"automargin\":true,\"gridcolor\":\"white\",\"linecolor\":\"white\",\"ticks\":\"\",\"title\":{\"standoff\":15},\"zerolinecolor\":\"white\",\"zerolinewidth\":2},\"yaxis\":{\"automargin\":true,\"gridcolor\":\"white\",\"linecolor\":\"white\",\"ticks\":\"\",\"title\":{\"standoff\":15},\"zerolinecolor\":\"white\",\"zerolinewidth\":2}}}},                        {\"responsive\": true}                    ).then(function(){\n",
       "                            \n",
       "var gd = document.getElementById('22acb0f8-935f-4abd-9362-024a40bdf5ef');\n",
       "var x = new MutationObserver(function (mutations, observer) {{\n",
       "        var display = window.getComputedStyle(gd).display;\n",
       "        if (!display || display === 'none') {{\n",
       "            console.log([gd, 'removed!']);\n",
       "            Plotly.purge(gd);\n",
       "            observer.disconnect();\n",
       "        }}\n",
       "}});\n",
       "\n",
       "// Listen for the removal of the full notebook cells\n",
       "var notebookContainer = gd.closest('#notebook-container');\n",
       "if (notebookContainer) {{\n",
       "    x.observe(notebookContainer, {childList: true});\n",
       "}}\n",
       "\n",
       "// Listen for the clearing of the current output cell\n",
       "var outputEl = gd.closest('.output');\n",
       "if (outputEl) {{\n",
       "    x.observe(outputEl, {childList: true});\n",
       "}}\n",
       "\n",
       "                        })                };                });            </script>        </div>"
      ]
     },
     "metadata": {},
     "output_type": "display_data"
    },
    {
     "name": "stdout",
     "output_type": "stream",
     "text": [
      "ion 10350: Accuracy: 99.1875 Loss: 94.23679\n",
      "Iteration 10400: Accuracy: 99.3125 Loss: 79.63215\n",
      "Iteration 10450: Accuracy: 99.125 Loss: 95.33153\n",
      "Iteration 10500: Accuracy: 99.25 Loss: 86.26486\n",
      "Iteration 10550: Accuracy: 99.1875 Loss: 92.83165\n",
      "Iteration 10600: Accuracy: 99.375 Loss: 73.336266\n",
      "Iteration 10650: Accuracy: 99.625 Loss: 73.915344\n",
      "Iteration 10700: Accuracy: 99.75 Loss: 69.24388\n",
      "Iteration 10750: Accuracy: 99.4375 Loss: 75.93169\n",
      "Iteration 10800: Accuracy: 99.6875 Loss: 75.3327\n",
      "Iteration 10850: Accuracy: 99.75 Loss: 67.505554\n",
      "Iteration 10900: Accuracy: 99.5 Loss: 76.50751\n",
      "Iteration 10950: Accuracy: 99.3125 Loss: 78.27817\n",
      "Iteration 11000: Accuracy: 99.4375 Loss: 72.97843\n",
      "Iteration 11050: Accuracy: 99.6875 Loss: 68.776695\n",
      "Iteration 11100: Accuracy: 99.4375 Loss: 71.84965\n",
      "Iteration 11150: Accuracy: 99.4375 Loss: 79.28824\n",
      "Iteration 11200: Accuracy: 99.0625 Loss: 80.18373\n",
      "Iteration 11250: Accuracy: 99.125 Loss: 90.85191\n",
      "Iteration 11300: Accuracy: 99.875 Loss: 67.08463\n",
      "Iteration 11350: Accuracy: 99.0625 Loss: 82.46442\n",
      "Iteration 11400: Accuracy: 99.1875 Loss: 86.67134\n",
      "Iteration 11450: Accuracy: 99.4375 Loss: 73.8081\n",
      "Iteration 11500: Accuracy: 99.5625 Loss: 75.34992\n",
      "Iteration 11550: Accuracy: 99.5625 Loss: 68.07006\n",
      "Iteration 11600: Accuracy: 99.625 Loss: 66.81693\n",
      "Iteration 11650: Accuracy: 99.6875 Loss: 64.59091\n",
      "Iteration 11700: Accuracy: 99.4375 Loss: 71.7565\n",
      "Iteration 11750: Accuracy: 99.125 Loss: 79.40608\n",
      "Iteration 11800: Accuracy: 99.4375 Loss: 78.63609\n",
      "Iteration 11850: Accuracy: 99.25 Loss: 86.26433\n",
      "Iteration 11900: Accuracy: 99.375 Loss: 68.30074\n",
      "Iteration 11950: Accuracy: 99.5 Loss: 76.53444\n",
      "Iteration 12000: Accuracy: 99.125 Loss: 77.73185\n",
      "Iteration 12050: Accuracy: 99.5 Loss: 68.30439\n",
      "Iteration 12100: Accuracy: 99.5625 Loss: 69.95971\n",
      "Iteration 12150: Accuracy: 99.6875 Loss: 69.96126\n",
      "Iteration 12200: Accuracy: 99.4375 Loss: 76.07766\n",
      "Iteration 12250: Accuracy: 99 Loss: 90.58009\n",
      "Iteration 12300: Accuracy: 99.375 Loss: 70.95336\n",
      "Iteration 12350: Accuracy: 99.5625 Loss: 77.26027\n",
      "Iteration 12400: Accuracy: 99.25 Loss: 78.6731\n",
      "Iteration 12450: Accuracy: 99.625 Loss: 66.618866\n",
      "Iteration 12500: Accuracy: 99.8125 Loss: 66.718994\n",
      "Iteration 12550: Accuracy: 99.625 Loss: 67.69564\n",
      "Iteration 12600: Accuracy: 99.5625 Loss: 74.9416\n",
      "Iteration 12650: Accuracy: 99.625 Loss: 59.927288\n",
      "Iteration 12700: Accuracy: 99.625 Loss: 71.1546\n",
      "Iteration 12750: Accuracy: 99.4375 Loss: 71.7241\n",
      "Iteration 12800: Accuracy: 99.25 Loss: 72.84063\n",
      "Iteration 12850: Accuracy: 99.6875 Loss: 68.55288\n",
      "Iteration 12900: Accuracy: 99.375 Loss: 69.55925\n",
      "Iteration 12950: Accuracy: 99.5625 Loss: 69.277214\n",
      "Iteration 13000: Accuracy: 99.6875 Loss: 64.96804\n",
      "Iteration 13050: Accuracy: 99.5 Loss: 73.52414\n",
      "Iteration 13100: Accuracy: 99.4375 Loss: 61.76069\n",
      "Iteration 13150: Accuracy: 99.75 Loss: 60.302948\n",
      "Iteration 13200: Accuracy: 99.5625 Loss: 69.04113\n",
      "Iteration 13250: Accuracy: 99.625 Loss: 60.07115\n",
      "Iteration 13300: Accuracy: 99.625 Loss: 66.55882\n",
      "Iteration 13350: Accuracy: 99.5625 Loss: 66.0982\n",
      "Iteration 13400: Accuracy: 99.6875 Loss: 63.534813\n",
      "Iteration 13450: Accuracy: 99.5625 Loss: 66.84188\n",
      "Iteration 13500: Accuracy: 99.5625 Loss: 60.52336\n",
      "Iteration 13550: Accuracy: 99.625 Loss: 63.10265\n",
      "Iteration 13600: Accuracy: 99.3125 Loss: 73.56199\n",
      "Iteration 13650: Accuracy: 99.5625 Loss: 60.352303\n",
      "Iteration 13700: Accuracy: 99.6875 Loss: 67.58574\n",
      "Iteration 13750: Accuracy: 99.5625 Loss: 62.033688\n",
      "Iteration 13800: Accuracy: 99.6875 Loss: 63.85725\n",
      "Iteration 13850: Accuracy: 99.625 Loss: 59.00883\n",
      "Iteration 13900: Accuracy: 99.5625 Loss: 63.710186\n",
      "Iteration 13950: Accuracy: 99.75 Loss: 57.421024\n",
      "Iteration 14000: Accuracy: 99.75 Loss: 60.019108\n",
      "Iteration 14050: Accuracy: 99.6875 Loss: 61.89407\n",
      "Iteration 14100: Accuracy: 99.1875 Loss: 72.34848\n",
      "Iteration 14150: Accuracy: 99.625 Loss: 63.514534\n",
      "Iteration 14200: Accuracy: 99.625 Loss: 59.60446\n",
      "Iteration 14250: Accuracy: 99.8125 Loss: 58.83187\n",
      "Iteration 14300: Accuracy: 99.5 Loss: 75.472984\n",
      "Iteration 14350: Accuracy: 99.4375 Loss: 67.25398\n",
      "Iteration 14400: Accuracy: 99.5625 Loss: 62.02249\n",
      "Iteration 14450: Accuracy: 99.625 Loss: 67.286705\n",
      "Iteration 14500: Accuracy: 99.4375 Loss: 65.49044\n",
      "Iteration 14550: Accuracy: 99.625 Loss: 61.200233\n",
      "Iteration 14600: Accuracy: 99.5625 Loss: 65.44651\n",
      "Iteration 14650: Accuracy: 99.6875 Loss: 66.02142\n",
      "Iteration 14700: Accuracy: 99.4375 Loss: 65.28939\n",
      "Iteration 14750: Accuracy: 99.625 Loss: 64.713615\n",
      "Iteration 14800: Accuracy: 99.75 Loss: 56.005974\n",
      "Iteration 14850: Accuracy: 99.6875 Loss: 61.467926\n",
      "Iteration 14900: Accuracy: 99.625 Loss: 62.37945\n",
      "Iteration 14950: Accuracy: 99.625 Loss: 60.05256\n",
      "Iteration 15000: Accuracy: 99.5625 Loss: 63.967514\n",
      "Iteration 15050: Accuracy: 99.8125 Loss: 54.27971\n",
      "Iteration 15100: Accuracy: 99.75 Loss: 49.7004\n",
      "Iteration 15150: Accuracy: 99.6875 Loss: 61.92213\n",
      "Iteration 15200: Accuracy: 99.5625 Loss: 58.07039\n",
      "Iteration 15250: Accuracy: 99.6875 Loss: 62.294785\n",
      "Iteration 15300: Accuracy: 99.6875 Loss: 54.89231\n",
      "Iteration 15350: Accuracy: 99.5625 Loss: 63.716953\n",
      "Iteration 15400: Accuracy: 99.625 Loss: 50.047062\n",
      "Iteration 15450: Accuracy: 99.8125 Loss: 53.761948\n",
      "Iteration 15500: Accuracy: 99.5625 Loss: 59.070442\n",
      "Iteration 15550: Accuracy: 99.625 Loss: 59.955032\n",
      "Iteration 15600: Accuracy: 99.5625 Loss: 53.14575\n",
      "Iteration 15650: Accuracy: 99.6875 Loss: 54.980396\n",
      "Iteration 15700: Accuracy: 99.3125 Loss: 68.02327\n",
      "Iteration 15750: Accuracy: 99.5 Loss: 62.026283\n",
      "Iteration 15800: Accuracy: 99.8125 Loss: 49.67418\n",
      "Iteration 15850: Accuracy: 99.875 Loss: 49.3222\n",
      "Iteration 15900: Accuracy: 99.6875 Loss: 57.14092\n",
      "Iteration 15950: Accuracy: 99.6875 Loss: 54.685356\n",
      "Iteration 16000: Accuracy: 99.8125 Loss: 52.373417\n",
      "Iteration 16050: Accuracy: 99.6875 Loss: 58.629356\n",
      "Iteration 16100: Accuracy: 99.8125 Loss: 55.31329\n",
      "Iteration 16150: Accuracy: 99.5 Loss: 58.120262\n",
      "Iteration 16200: Accuracy: 99.625 Loss: 59.469185\n",
      "Iteration 16250: Accuracy: 99.75 Loss: 52.7315\n",
      "Iteration 16300: Accuracy: 99.625 Loss: 55.923946\n",
      "Iteration 16350: Accuracy: 99.8125 Loss: 42.526863\n",
      "Iteration 16400: Accuracy: 99.6875 Loss: 52.516964\n",
      "Iteration 16450: Accuracy: 99.75 Loss: 51.519337\n",
      "Iteration 16500: Accuracy: 99.1875 Loss: 70.4505\n",
      "Iteration 16550: Accuracy: 99.5625 Loss: 62.28866\n",
      "Iteration 16600: Accuracy: 99.75 Loss: 51.327736\n",
      "Iteration 16650: Accuracy: 99.875 Loss: 45.54329\n",
      "Iteration 16700: Accuracy: 99.8125 Loss: 45.409897\n",
      "Iteration 16750: Accuracy: 99.4375 Loss: 51.51774\n",
      "Iteration 16800: Accuracy: 99.8125 Loss: 55.886055\n",
      "Iteration 16850: Accuracy: 99.6875 Loss: 56.495304\n",
      "Iteration 16900: Accuracy: 99.8125 Loss: 50.302013\n",
      "Iteration 16950: Accuracy: 99.5 Loss: 56.52107\n",
      "Iteration 17000: Accuracy: 100 Loss: 44.058044\n",
      "Iteration 17050: Accuracy: 99.75 Loss: 51.848152\n",
      "Iteration 17100: Accuracy: 99.6875 Loss: 53.100018\n",
      "Iteration 17150: Accuracy: 99.8125 Loss: 53.19469\n",
      "Iteration 17200: Accuracy: 99.875 Loss: 45.73579\n",
      "Iteration 17250: Accuracy: 99.75 Loss: 50.93005\n",
      "Iteration 17300: Accuracy: 99.8125 Loss: 46.44691\n",
      "Iteration 17350: Accuracy: 99.8125 Loss: 48.355476\n",
      "Iteration 17400: Accuracy: 99.625 Loss: 51.304073\n",
      "Iteration 17450: Accuracy: 99.6875 Loss: 44.77082\n",
      "Iteration 17500: Accuracy: 99.8125 Loss: 45.515602\n",
      "Iteration 17550: Accuracy: 99.8125 Loss: 45.000122\n",
      "Iteration 17600: Accuracy: 99.5625 Loss: 52.49307\n",
      "Iteration 17650: Accuracy: 99.4375 Loss: 58.020462\n",
      "Iteration 17700: Accuracy: 99.8125 Loss: 49.70418\n",
      "Iteration 17750: Accuracy: 99.5625 Loss: 51.933395\n",
      "Iteration 17800: Accuracy: 99.9375 Loss: 48.00289\n",
      "Iteration 17850: Accuracy: 99.75 Loss: 50.83039\n",
      "Iteration 17900: Accuracy: 99.75 Loss: 51.713352\n",
      "Iteration 17950: Accuracy: 99.875 Loss: 44.331356\n",
      "Iteration 18000: Accuracy: 99.75 Loss: 55.34368\n",
      "Iteration 18050: Accuracy: 99.5 Loss: 61.268654\n",
      "Iteration 18100: Accuracy: 99.625 Loss: 52.133556\n",
      "Iteration 18150: Accuracy: 99.6875 Loss: 52.023464\n",
      "Iteration 18200: Accuracy: 99.625 Loss: 48.273445\n",
      "Iteration 18250: Accuracy: 99.625 Loss: 47.439762\n",
      "Iteration 18300: Accuracy: 99.875 Loss: 45.94595\n",
      "Iteration 18350: Accuracy: 99.6875 Loss: 47.68864\n",
      "Iteration 18400: Accuracy: 99.6875 Loss: 54.111187\n",
      "Iteration 18450: Accuracy: 99.9375 Loss: 47.49863\n",
      "Iteration 18500: Accuracy: 99.8125 Loss: 46.076138\n",
      "Iteration 18550: Accuracy: 99.5 Loss: 53.19673\n",
      "Iteration 18600: Accuracy: 99.8125 Loss: 47.860664\n",
      "Iteration 18650: Accuracy: 99.8125 Loss: 45.246563\n",
      "Iteration 18700: Accuracy: 99.9375 Loss: 45.290707\n",
      "Iteration 18750: Accuracy: 99.8125 Loss: 41.207405\n",
      "Iteration 18800: Accuracy: 99.9375 Loss: 44.021408\n",
      "Iteration 18850: Accuracy: 99.8125 Loss: 46.571484\n",
      "Iteration 18900: Accuracy: 99.75 Loss: 42.19172\n",
      "Iteration 18950: Accuracy: 99.625 Loss: 49.04696\n",
      "Iteration 19000: Accuracy: 99.75 Loss: 47.71981\n",
      "Iteration 19050: Accuracy: 99.75 Loss: 48.759174\n",
      "Iteration 19100: Accuracy: 99.6875 Loss: 45.774197\n",
      "Iteration 19150: Accuracy: 99.8125 Loss: 48.840603\n",
      "Iteration 19200: Accuracy: 99.625 Loss: 50.788685\n",
      "Iteration 19250: Accuracy: 99.75 Loss: 45.490902\n",
      "Iteration 19300: Accuracy: 99.4375 Loss: 60.839878\n",
      "Iteration 19350: Accuracy: 99.8125 Loss: 46.30326\n",
      "Iteration 19400: Accuracy: 99.875 Loss: 47.581112\n",
      "Iteration 19450: Accuracy: 99.9375 Loss: 41.229385\n",
      "Iteration 19500: Accuracy: 99.9375 Loss: 44.59808\n",
      "Iteration 19550: Accuracy: 99.625 Loss: 52.703594\n",
      "Iteration 19600: Accuracy: 99.8125 Loss: 42.71682\n",
      "Iteration 19650: Accuracy: 99.875 Loss: 43.396152\n",
      "Iteration 19700: Accuracy: 99.8125 Loss: 47.16712\n",
      "Iteration 19750: Accuracy: 99.75 Loss: 46.745243\n",
      "Iteration 19800: Accuracy: 99.875 Loss: 39.643837\n",
      "Iteration 19850: Accuracy: 99.875 Loss: 44.86498\n",
      "Iteration 19900: Accuracy: 99.875 Loss: 46.08204\n",
      "Iteration 19950: Accuracy: 99.9375 Loss: 41.9801\n"
     ]
    }
   ],
   "source": [
    "# Now train the model\n",
    "hidden_layer_sizes = [10]\n",
    "num_features = len(train_data_features_list[0])\n",
    "num_classifications = 10\n",
    "num_iterations = 10000\n",
    "batch_size = 32\n",
    "model = rust_machine_learning.BasicNeuralNetwork(hidden_layer_sizes, num_features, num_classifications)\n",
    "\n",
    "# Set the optimizer\n",
    "learning_rate = 1e-1\n",
    "momentum = 0.9\n",
    "# model.set_optimizer_stochastic_gradient_descent(learning_rate)\n",
    "# model.set_optimizer_momentum(learning_rate, momentum)\n",
    "model.set_optimizer_adagrad(learning_rate)\n",
    "\n",
    "# Train the model\n",
    "model.train(train_data_features_list, train_data_labels, num_iterations, batch_size)\n",
    "\n",
    "# Graph performance info\n",
    "performance_info = model.get_performance_info()\n",
    "graph_accuracy_loss(performance_info)"
   ]
  },
  {
   "cell_type": "code",
   "execution_count": 15,
   "metadata": {},
   "outputs": [
    {
     "name": "stdout",
     "output_type": "stream",
     "text": [
      "Percent Correct:  90.8\n"
     ]
    }
   ],
   "source": [
    "# Now let us test the model\n",
    "labelled_results = model.classify(test_data_features_list)\n",
    "\n",
    "num_correct = 0\n",
    "tolerance = 0.05\n",
    "for test_label, result_label in zip(test_data_labels, labelled_results):\n",
    "    num_correct += (\n",
    "        abs(test_label - result_label) / (1.0 if test_label == 0 else test_label)\n",
    "        <= tolerance\n",
    "    )\n",
    "print(\"Percent Correct: \", 100.0 * num_correct / len(test_data_labels))"
   ]
  },
  {
   "cell_type": "code",
   "execution_count": 33,
   "metadata": {},
   "outputs": [
    {
     "name": "stdout",
     "output_type": "stream",
     "text": [
      "3.0\n"
     ]
    },
    {
     "data": {
      "application/vnd.plotly.v1+json": {
       "config": {
        "plotlyServerURL": "https://plot.ly"
       },
       "data": [
        {
         "coloraxis": "coloraxis",
         "hovertemplate": "x: %{x}<br>y: %{y}<br>color: %{z}<extra></extra>",
         "name": "0",
         "type": "heatmap",
         "xaxis": "x",
         "yaxis": "y",
         "z": [
          [
           0,
           0,
           0,
           0,
           0,
           0,
           0,
           0,
           0,
           0,
           0,
           0,
           0,
           0,
           0,
           0,
           0,
           0,
           0,
           0,
           0,
           0,
           0,
           0,
           0,
           0,
           0,
           0
          ],
          [
           0,
           0,
           0,
           0,
           0,
           0,
           0,
           0,
           0,
           0,
           0,
           0,
           0,
           0,
           0,
           0,
           0,
           0,
           0,
           0,
           0,
           0,
           0,
           0,
           0,
           0,
           0,
           0
          ],
          [
           0,
           0,
           0,
           0,
           0,
           0,
           0,
           0,
           0,
           0,
           0,
           0,
           0,
           0,
           0,
           0,
           0,
           0,
           0,
           0,
           0,
           0,
           0,
           0,
           0,
           0,
           0,
           0
          ],
          [
           0,
           0,
           0,
           0,
           0,
           0,
           0,
           0,
           0,
           0,
           0,
           0,
           0,
           0,
           0,
           0,
           0,
           0,
           0,
           0,
           0,
           0,
           0,
           0,
           0,
           0,
           0,
           0
          ],
          [
           0,
           0,
           0,
           0,
           0,
           0,
           0,
           0,
           0,
           0,
           0,
           0,
           0,
           0,
           0,
           0,
           0,
           0,
           0,
           0,
           0,
           0,
           0,
           0,
           0,
           0,
           0,
           0
          ],
          [
           0,
           0,
           0,
           0,
           0,
           0,
           0,
           0,
           0,
           0,
           0,
           0,
           0,
           0,
           0,
           0,
           0,
           0,
           0,
           0,
           0,
           0,
           0,
           0,
           0,
           0,
           0,
           0
          ],
          [
           0,
           0,
           0,
           0,
           0,
           0,
           0,
           0,
           0,
           0,
           0,
           0,
           0,
           0.3686274509803922,
           0.49019607843137253,
           0.5803921568627451,
           0.9215686274509803,
           0.42745098039215684,
           0,
           0,
           0,
           0,
           0,
           0,
           0,
           0,
           0,
           0
          ],
          [
           0,
           0,
           0,
           0,
           0,
           0,
           0,
           0,
           0,
           0.396078431372549,
           0.8862745098039215,
           0.9764705882352941,
           0.9764705882352941,
           0.9921568627450981,
           0.996078431372549,
           1,
           0.996078431372549,
           0.9294117647058824,
           0.1803921568627451,
           0,
           0,
           0,
           0,
           0,
           0,
           0,
           0,
           0
          ],
          [
           0,
           0,
           0,
           0,
           0,
           0,
           0,
           0.592156862745098,
           0.9529411764705882,
           0.9921568627450981,
           0.996078431372549,
           0.996078431372549,
           0.6588235294117647,
           0.5607843137254902,
           0.5607843137254902,
           0.47058823529411764,
           0.12941176470588237,
           0.8431372549019608,
           0.8705882352941177,
           0,
           0,
           0,
           0,
           0,
           0,
           0,
           0,
           0
          ],
          [
           0,
           0,
           0,
           0,
           0,
           0.1843137254901961,
           0.6235294117647059,
           0.9921568627450981,
           0.996078431372549,
           0.8588235294117647,
           0.43137254901960786,
           0.07450980392156863,
           0.0196078431372549,
           0,
           0,
           0,
           0,
           0.6431372549019608,
           0.9490196078431372,
           0.21176470588235294,
           0,
           0,
           0,
           0,
           0,
           0,
           0,
           0
          ],
          [
           0,
           0,
           0,
           0,
           0.1803921568627451,
           0.9176470588235294,
           0.996078431372549,
           0.996078431372549,
           0.47843137254901963,
           0.06666666666666667,
           0,
           0,
           0,
           0,
           0,
           0,
           0,
           0.06666666666666667,
           0.09019607843137255,
           0,
           0,
           0,
           0,
           0,
           0,
           0,
           0,
           0
          ],
          [
           0,
           0,
           0,
           0,
           0.9137254901960784,
           0.996078431372549,
           0.996078431372549,
           0.996078431372549,
           0.8901960784313725,
           0.7019607843137254,
           0.25098039215686274,
           0,
           0,
           0,
           0,
           0,
           0,
           0,
           0,
           0,
           0,
           0,
           0,
           0,
           0,
           0,
           0,
           0
          ],
          [
           0,
           0,
           0,
           0,
           0.38823529411764707,
           0.8352941176470589,
           0.6627450980392157,
           0.792156862745098,
           0.996078431372549,
           0.996078431372549,
           0.9529411764705882,
           0.8470588235294118,
           0.8470588235294118,
           0.7294117647058823,
           0.33725490196078434,
           0.43137254901960786,
           0.5019607843137255,
           0.29411764705882354,
           0,
           0,
           0,
           0,
           0,
           0,
           0,
           0,
           0,
           0
          ],
          [
           0,
           0,
           0,
           0,
           0,
           0.09411764705882353,
           0,
           0.07058823529411765,
           0.17647058823529413,
           0.17647058823529413,
           0.6,
           0.6901960784313725,
           0.9294117647058824,
           0.996078431372549,
           0.996078431372549,
           0.996078431372549,
           0.996078431372549,
           0.9764705882352941,
           0.7686274509803922,
           0.12941176470588237,
           0,
           0,
           0,
           0,
           0,
           0,
           0,
           0
          ],
          [
           0,
           0,
           0,
           0,
           0,
           0,
           0,
           0,
           0,
           0,
           0,
           0,
           0.1568627450980392,
           0.20392156862745098,
           0.30980392156862746,
           0.6196078431372549,
           0.5450980392156862,
           0.8980392156862745,
           0.996078431372549,
           0.8784313725490196,
           0.49411764705882355,
           0,
           0,
           0,
           0,
           0,
           0,
           0
          ],
          [
           0,
           0,
           0,
           0,
           0,
           0,
           0,
           0,
           0,
           0,
           0,
           0,
           0,
           0,
           0,
           0,
           0,
           0.14901960784313725,
           0.5686274509803921,
           1,
           0.9607843137254902,
           0.12156862745098039,
           0,
           0,
           0,
           0,
           0,
           0
          ],
          [
           0,
           0,
           0,
           0,
           0,
           0,
           0,
           0,
           0,
           0,
           0,
           0,
           0,
           0,
           0,
           0,
           0,
           0,
           0.027450980392156862,
           0.6941176470588235,
           0.996078431372549,
           0.8431372549019608,
           0,
           0,
           0,
           0,
           0,
           0
          ],
          [
           0,
           0,
           0,
           0,
           0,
           0,
           0,
           0,
           0,
           0,
           0,
           0,
           0,
           0,
           0,
           0,
           0,
           0,
           0,
           0.49019607843137253,
           0.996078431372549,
           0.9725490196078431,
           0,
           0,
           0,
           0,
           0,
           0
          ],
          [
           0,
           0,
           0,
           0,
           0,
           0,
           0,
           0,
           0,
           0,
           0,
           0,
           0,
           0,
           0,
           0,
           0,
           0,
           0,
           0.0784313725490196,
           0.996078431372549,
           0.9725490196078431,
           0,
           0,
           0,
           0,
           0,
           0
          ],
          [
           0,
           0,
           0,
           0,
           0,
           0,
           0,
           0,
           0,
           0,
           0,
           0,
           0,
           0,
           0,
           0,
           0,
           0,
           0,
           0.0784313725490196,
           0.996078431372549,
           0.9725490196078431,
           0,
           0,
           0,
           0,
           0,
           0
          ],
          [
           0,
           0,
           0,
           0,
           0,
           0,
           0,
           0,
           0,
           0,
           0,
           0,
           0,
           0,
           0,
           0,
           0,
           0,
           0,
           0.4117647058823529,
           0.996078431372549,
           0.9725490196078431,
           0,
           0,
           0,
           0,
           0,
           0
          ],
          [
           0,
           0,
           0,
           0,
           0,
           0,
           0,
           0,
           0,
           0,
           0.35294117647058826,
           0.023529411764705882,
           0,
           0,
           0,
           0,
           0,
           0,
           0.11764705882352941,
           0.8431372549019608,
           0.9921568627450981,
           0.6078431372549019,
           0,
           0,
           0,
           0,
           0,
           0
          ],
          [
           0,
           0,
           0,
           0,
           0,
           0,
           0,
           0,
           0,
           0,
           0.8235294117647058,
           0.5254901960784314,
           0.058823529411764705,
           0,
           0,
           0,
           0.01568627450980392,
           0.1450980392156863,
           0.8431372549019608,
           1,
           0.9058823529411765,
           0,
           0,
           0,
           0,
           0,
           0,
           0
          ],
          [
           0,
           0,
           0,
           0,
           0,
           0,
           0,
           0,
           0,
           0,
           0.7803921568627451,
           0.9882352941176471,
           0.8862745098039215,
           0.5647058823529412,
           0.19607843137254902,
           0.1450980392156863,
           0.6313725490196078,
           0.996078431372549,
           0.996078431372549,
           0.6627450980392157,
           0.18823529411764706,
           0,
           0,
           0,
           0,
           0,
           0,
           0
          ],
          [
           0,
           0,
           0,
           0,
           0,
           0,
           0,
           0,
           0,
           0,
           0,
           0.5098039215686274,
           0.9725490196078431,
           0.9921568627450981,
           0.996078431372549,
           1,
           0.996078431372549,
           0.996078431372549,
           0.6549019607843137,
           0.18823529411764706,
           0,
           0,
           0,
           0,
           0,
           0,
           0,
           0
          ],
          [
           0,
           0,
           0,
           0,
           0,
           0,
           0,
           0,
           0,
           0,
           0,
           0,
           0,
           0.36470588235294116,
           0.5882352941176471,
           0.9058823529411765,
           0.48627450980392156,
           0.4235294117647059,
           0,
           0,
           0,
           0,
           0,
           0,
           0,
           0,
           0,
           0
          ],
          [
           0,
           0,
           0,
           0,
           0,
           0,
           0,
           0,
           0,
           0,
           0,
           0,
           0,
           0,
           0,
           0,
           0,
           0,
           0,
           0,
           0,
           0,
           0,
           0,
           0,
           0,
           0,
           0
          ],
          [
           0,
           0,
           0,
           0,
           0,
           0,
           0,
           0,
           0,
           0,
           0,
           0,
           0,
           0,
           0,
           0,
           0,
           0,
           0,
           0,
           0,
           0,
           0,
           0,
           0,
           0,
           0,
           0
          ]
         ]
        }
       ],
       "layout": {
        "coloraxis": {
         "colorscale": [
          [
           0,
           "rgb(0, 0, 0)"
          ],
          [
           0.09090909090909091,
           "rgb(16, 16, 16)"
          ],
          [
           0.18181818181818182,
           "rgb(38, 38, 38)"
          ],
          [
           0.2727272727272727,
           "rgb(59, 59, 59)"
          ],
          [
           0.36363636363636365,
           "rgb(81, 80, 80)"
          ],
          [
           0.45454545454545453,
           "rgb(102, 101, 101)"
          ],
          [
           0.5454545454545454,
           "rgb(124, 123, 122)"
          ],
          [
           0.6363636363636364,
           "rgb(146, 146, 145)"
          ],
          [
           0.7272727272727273,
           "rgb(171, 171, 170)"
          ],
          [
           0.8181818181818182,
           "rgb(197, 197, 195)"
          ],
          [
           0.9090909090909091,
           "rgb(224, 224, 223)"
          ],
          [
           1,
           "rgb(254, 254, 253)"
          ]
         ]
        },
        "margin": {
         "t": 60
        },
        "template": {
         "data": {
          "bar": [
           {
            "error_x": {
             "color": "#2a3f5f"
            },
            "error_y": {
             "color": "#2a3f5f"
            },
            "marker": {
             "line": {
              "color": "#E5ECF6",
              "width": 0.5
             },
             "pattern": {
              "fillmode": "overlay",
              "size": 10,
              "solidity": 0.2
             }
            },
            "type": "bar"
           }
          ],
          "barpolar": [
           {
            "marker": {
             "line": {
              "color": "#E5ECF6",
              "width": 0.5
             },
             "pattern": {
              "fillmode": "overlay",
              "size": 10,
              "solidity": 0.2
             }
            },
            "type": "barpolar"
           }
          ],
          "carpet": [
           {
            "aaxis": {
             "endlinecolor": "#2a3f5f",
             "gridcolor": "white",
             "linecolor": "white",
             "minorgridcolor": "white",
             "startlinecolor": "#2a3f5f"
            },
            "baxis": {
             "endlinecolor": "#2a3f5f",
             "gridcolor": "white",
             "linecolor": "white",
             "minorgridcolor": "white",
             "startlinecolor": "#2a3f5f"
            },
            "type": "carpet"
           }
          ],
          "choropleth": [
           {
            "colorbar": {
             "outlinewidth": 0,
             "ticks": ""
            },
            "type": "choropleth"
           }
          ],
          "contour": [
           {
            "colorbar": {
             "outlinewidth": 0,
             "ticks": ""
            },
            "colorscale": [
             [
              0,
              "#0d0887"
             ],
             [
              0.1111111111111111,
              "#46039f"
             ],
             [
              0.2222222222222222,
              "#7201a8"
             ],
             [
              0.3333333333333333,
              "#9c179e"
             ],
             [
              0.4444444444444444,
              "#bd3786"
             ],
             [
              0.5555555555555556,
              "#d8576b"
             ],
             [
              0.6666666666666666,
              "#ed7953"
             ],
             [
              0.7777777777777778,
              "#fb9f3a"
             ],
             [
              0.8888888888888888,
              "#fdca26"
             ],
             [
              1,
              "#f0f921"
             ]
            ],
            "type": "contour"
           }
          ],
          "contourcarpet": [
           {
            "colorbar": {
             "outlinewidth": 0,
             "ticks": ""
            },
            "type": "contourcarpet"
           }
          ],
          "heatmap": [
           {
            "colorbar": {
             "outlinewidth": 0,
             "ticks": ""
            },
            "colorscale": [
             [
              0,
              "#0d0887"
             ],
             [
              0.1111111111111111,
              "#46039f"
             ],
             [
              0.2222222222222222,
              "#7201a8"
             ],
             [
              0.3333333333333333,
              "#9c179e"
             ],
             [
              0.4444444444444444,
              "#bd3786"
             ],
             [
              0.5555555555555556,
              "#d8576b"
             ],
             [
              0.6666666666666666,
              "#ed7953"
             ],
             [
              0.7777777777777778,
              "#fb9f3a"
             ],
             [
              0.8888888888888888,
              "#fdca26"
             ],
             [
              1,
              "#f0f921"
             ]
            ],
            "type": "heatmap"
           }
          ],
          "heatmapgl": [
           {
            "colorbar": {
             "outlinewidth": 0,
             "ticks": ""
            },
            "colorscale": [
             [
              0,
              "#0d0887"
             ],
             [
              0.1111111111111111,
              "#46039f"
             ],
             [
              0.2222222222222222,
              "#7201a8"
             ],
             [
              0.3333333333333333,
              "#9c179e"
             ],
             [
              0.4444444444444444,
              "#bd3786"
             ],
             [
              0.5555555555555556,
              "#d8576b"
             ],
             [
              0.6666666666666666,
              "#ed7953"
             ],
             [
              0.7777777777777778,
              "#fb9f3a"
             ],
             [
              0.8888888888888888,
              "#fdca26"
             ],
             [
              1,
              "#f0f921"
             ]
            ],
            "type": "heatmapgl"
           }
          ],
          "histogram": [
           {
            "marker": {
             "pattern": {
              "fillmode": "overlay",
              "size": 10,
              "solidity": 0.2
             }
            },
            "type": "histogram"
           }
          ],
          "histogram2d": [
           {
            "colorbar": {
             "outlinewidth": 0,
             "ticks": ""
            },
            "colorscale": [
             [
              0,
              "#0d0887"
             ],
             [
              0.1111111111111111,
              "#46039f"
             ],
             [
              0.2222222222222222,
              "#7201a8"
             ],
             [
              0.3333333333333333,
              "#9c179e"
             ],
             [
              0.4444444444444444,
              "#bd3786"
             ],
             [
              0.5555555555555556,
              "#d8576b"
             ],
             [
              0.6666666666666666,
              "#ed7953"
             ],
             [
              0.7777777777777778,
              "#fb9f3a"
             ],
             [
              0.8888888888888888,
              "#fdca26"
             ],
             [
              1,
              "#f0f921"
             ]
            ],
            "type": "histogram2d"
           }
          ],
          "histogram2dcontour": [
           {
            "colorbar": {
             "outlinewidth": 0,
             "ticks": ""
            },
            "colorscale": [
             [
              0,
              "#0d0887"
             ],
             [
              0.1111111111111111,
              "#46039f"
             ],
             [
              0.2222222222222222,
              "#7201a8"
             ],
             [
              0.3333333333333333,
              "#9c179e"
             ],
             [
              0.4444444444444444,
              "#bd3786"
             ],
             [
              0.5555555555555556,
              "#d8576b"
             ],
             [
              0.6666666666666666,
              "#ed7953"
             ],
             [
              0.7777777777777778,
              "#fb9f3a"
             ],
             [
              0.8888888888888888,
              "#fdca26"
             ],
             [
              1,
              "#f0f921"
             ]
            ],
            "type": "histogram2dcontour"
           }
          ],
          "mesh3d": [
           {
            "colorbar": {
             "outlinewidth": 0,
             "ticks": ""
            },
            "type": "mesh3d"
           }
          ],
          "parcoords": [
           {
            "line": {
             "colorbar": {
              "outlinewidth": 0,
              "ticks": ""
             }
            },
            "type": "parcoords"
           }
          ],
          "pie": [
           {
            "automargin": true,
            "type": "pie"
           }
          ],
          "scatter": [
           {
            "fillpattern": {
             "fillmode": "overlay",
             "size": 10,
             "solidity": 0.2
            },
            "type": "scatter"
           }
          ],
          "scatter3d": [
           {
            "line": {
             "colorbar": {
              "outlinewidth": 0,
              "ticks": ""
             }
            },
            "marker": {
             "colorbar": {
              "outlinewidth": 0,
              "ticks": ""
             }
            },
            "type": "scatter3d"
           }
          ],
          "scattercarpet": [
           {
            "marker": {
             "colorbar": {
              "outlinewidth": 0,
              "ticks": ""
             }
            },
            "type": "scattercarpet"
           }
          ],
          "scattergeo": [
           {
            "marker": {
             "colorbar": {
              "outlinewidth": 0,
              "ticks": ""
             }
            },
            "type": "scattergeo"
           }
          ],
          "scattergl": [
           {
            "marker": {
             "colorbar": {
              "outlinewidth": 0,
              "ticks": ""
             }
            },
            "type": "scattergl"
           }
          ],
          "scattermapbox": [
           {
            "marker": {
             "colorbar": {
              "outlinewidth": 0,
              "ticks": ""
             }
            },
            "type": "scattermapbox"
           }
          ],
          "scatterpolar": [
           {
            "marker": {
             "colorbar": {
              "outlinewidth": 0,
              "ticks": ""
             }
            },
            "type": "scatterpolar"
           }
          ],
          "scatterpolargl": [
           {
            "marker": {
             "colorbar": {
              "outlinewidth": 0,
              "ticks": ""
             }
            },
            "type": "scatterpolargl"
           }
          ],
          "scatterternary": [
           {
            "marker": {
             "colorbar": {
              "outlinewidth": 0,
              "ticks": ""
             }
            },
            "type": "scatterternary"
           }
          ],
          "surface": [
           {
            "colorbar": {
             "outlinewidth": 0,
             "ticks": ""
            },
            "colorscale": [
             [
              0,
              "#0d0887"
             ],
             [
              0.1111111111111111,
              "#46039f"
             ],
             [
              0.2222222222222222,
              "#7201a8"
             ],
             [
              0.3333333333333333,
              "#9c179e"
             ],
             [
              0.4444444444444444,
              "#bd3786"
             ],
             [
              0.5555555555555556,
              "#d8576b"
             ],
             [
              0.6666666666666666,
              "#ed7953"
             ],
             [
              0.7777777777777778,
              "#fb9f3a"
             ],
             [
              0.8888888888888888,
              "#fdca26"
             ],
             [
              1,
              "#f0f921"
             ]
            ],
            "type": "surface"
           }
          ],
          "table": [
           {
            "cells": {
             "fill": {
              "color": "#EBF0F8"
             },
             "line": {
              "color": "white"
             }
            },
            "header": {
             "fill": {
              "color": "#C8D4E3"
             },
             "line": {
              "color": "white"
             }
            },
            "type": "table"
           }
          ]
         },
         "layout": {
          "annotationdefaults": {
           "arrowcolor": "#2a3f5f",
           "arrowhead": 0,
           "arrowwidth": 1
          },
          "autotypenumbers": "strict",
          "coloraxis": {
           "colorbar": {
            "outlinewidth": 0,
            "ticks": ""
           }
          },
          "colorscale": {
           "diverging": [
            [
             0,
             "#8e0152"
            ],
            [
             0.1,
             "#c51b7d"
            ],
            [
             0.2,
             "#de77ae"
            ],
            [
             0.3,
             "#f1b6da"
            ],
            [
             0.4,
             "#fde0ef"
            ],
            [
             0.5,
             "#f7f7f7"
            ],
            [
             0.6,
             "#e6f5d0"
            ],
            [
             0.7,
             "#b8e186"
            ],
            [
             0.8,
             "#7fbc41"
            ],
            [
             0.9,
             "#4d9221"
            ],
            [
             1,
             "#276419"
            ]
           ],
           "sequential": [
            [
             0,
             "#0d0887"
            ],
            [
             0.1111111111111111,
             "#46039f"
            ],
            [
             0.2222222222222222,
             "#7201a8"
            ],
            [
             0.3333333333333333,
             "#9c179e"
            ],
            [
             0.4444444444444444,
             "#bd3786"
            ],
            [
             0.5555555555555556,
             "#d8576b"
            ],
            [
             0.6666666666666666,
             "#ed7953"
            ],
            [
             0.7777777777777778,
             "#fb9f3a"
            ],
            [
             0.8888888888888888,
             "#fdca26"
            ],
            [
             1,
             "#f0f921"
            ]
           ],
           "sequentialminus": [
            [
             0,
             "#0d0887"
            ],
            [
             0.1111111111111111,
             "#46039f"
            ],
            [
             0.2222222222222222,
             "#7201a8"
            ],
            [
             0.3333333333333333,
             "#9c179e"
            ],
            [
             0.4444444444444444,
             "#bd3786"
            ],
            [
             0.5555555555555556,
             "#d8576b"
            ],
            [
             0.6666666666666666,
             "#ed7953"
            ],
            [
             0.7777777777777778,
             "#fb9f3a"
            ],
            [
             0.8888888888888888,
             "#fdca26"
            ],
            [
             1,
             "#f0f921"
            ]
           ]
          },
          "colorway": [
           "#636efa",
           "#EF553B",
           "#00cc96",
           "#ab63fa",
           "#FFA15A",
           "#19d3f3",
           "#FF6692",
           "#B6E880",
           "#FF97FF",
           "#FECB52"
          ],
          "font": {
           "color": "#2a3f5f"
          },
          "geo": {
           "bgcolor": "white",
           "lakecolor": "white",
           "landcolor": "#E5ECF6",
           "showlakes": true,
           "showland": true,
           "subunitcolor": "white"
          },
          "hoverlabel": {
           "align": "left"
          },
          "hovermode": "closest",
          "mapbox": {
           "style": "light"
          },
          "paper_bgcolor": "white",
          "plot_bgcolor": "#E5ECF6",
          "polar": {
           "angularaxis": {
            "gridcolor": "white",
            "linecolor": "white",
            "ticks": ""
           },
           "bgcolor": "#E5ECF6",
           "radialaxis": {
            "gridcolor": "white",
            "linecolor": "white",
            "ticks": ""
           }
          },
          "scene": {
           "xaxis": {
            "backgroundcolor": "#E5ECF6",
            "gridcolor": "white",
            "gridwidth": 2,
            "linecolor": "white",
            "showbackground": true,
            "ticks": "",
            "zerolinecolor": "white"
           },
           "yaxis": {
            "backgroundcolor": "#E5ECF6",
            "gridcolor": "white",
            "gridwidth": 2,
            "linecolor": "white",
            "showbackground": true,
            "ticks": "",
            "zerolinecolor": "white"
           },
           "zaxis": {
            "backgroundcolor": "#E5ECF6",
            "gridcolor": "white",
            "gridwidth": 2,
            "linecolor": "white",
            "showbackground": true,
            "ticks": "",
            "zerolinecolor": "white"
           }
          },
          "shapedefaults": {
           "line": {
            "color": "#2a3f5f"
           }
          },
          "ternary": {
           "aaxis": {
            "gridcolor": "white",
            "linecolor": "white",
            "ticks": ""
           },
           "baxis": {
            "gridcolor": "white",
            "linecolor": "white",
            "ticks": ""
           },
           "bgcolor": "#E5ECF6",
           "caxis": {
            "gridcolor": "white",
            "linecolor": "white",
            "ticks": ""
           }
          },
          "title": {
           "x": 0.05
          },
          "xaxis": {
           "automargin": true,
           "gridcolor": "white",
           "linecolor": "white",
           "ticks": "",
           "title": {
            "standoff": 15
           },
           "zerolinecolor": "white",
           "zerolinewidth": 2
          },
          "yaxis": {
           "automargin": true,
           "gridcolor": "white",
           "linecolor": "white",
           "ticks": "",
           "title": {
            "standoff": 15
           },
           "zerolinecolor": "white",
           "zerolinewidth": 2
          }
         }
        },
        "xaxis": {
         "anchor": "y",
         "constrain": "domain",
         "domain": [
          0,
          1
         ],
         "scaleanchor": "y"
        },
        "yaxis": {
         "anchor": "x",
         "autorange": "reversed",
         "constrain": "domain",
         "domain": [
          0,
          1
         ]
        }
       }
      },
      "text/html": [
       "<div>                            <div id=\"5b95ee0f-88be-4b5e-9add-002539a2f329\" class=\"plotly-graph-div\" style=\"height:525px; width:100%;\"></div>            <script type=\"text/javascript\">                require([\"plotly\"], function(Plotly) {                    window.PLOTLYENV=window.PLOTLYENV || {};                                    if (document.getElementById(\"5b95ee0f-88be-4b5e-9add-002539a2f329\")) {                    Plotly.newPlot(                        \"5b95ee0f-88be-4b5e-9add-002539a2f329\",                        [{\"coloraxis\":\"coloraxis\",\"name\":\"0\",\"z\":[[0.0,0.0,0.0,0.0,0.0,0.0,0.0,0.0,0.0,0.0,0.0,0.0,0.0,0.0,0.0,0.0,0.0,0.0,0.0,0.0,0.0,0.0,0.0,0.0,0.0,0.0,0.0,0.0],[0.0,0.0,0.0,0.0,0.0,0.0,0.0,0.0,0.0,0.0,0.0,0.0,0.0,0.0,0.0,0.0,0.0,0.0,0.0,0.0,0.0,0.0,0.0,0.0,0.0,0.0,0.0,0.0],[0.0,0.0,0.0,0.0,0.0,0.0,0.0,0.0,0.0,0.0,0.0,0.0,0.0,0.0,0.0,0.0,0.0,0.0,0.0,0.0,0.0,0.0,0.0,0.0,0.0,0.0,0.0,0.0],[0.0,0.0,0.0,0.0,0.0,0.0,0.0,0.0,0.0,0.0,0.0,0.0,0.0,0.0,0.0,0.0,0.0,0.0,0.0,0.0,0.0,0.0,0.0,0.0,0.0,0.0,0.0,0.0],[0.0,0.0,0.0,0.0,0.0,0.0,0.0,0.0,0.0,0.0,0.0,0.0,0.0,0.0,0.0,0.0,0.0,0.0,0.0,0.0,0.0,0.0,0.0,0.0,0.0,0.0,0.0,0.0],[0.0,0.0,0.0,0.0,0.0,0.0,0.0,0.0,0.0,0.0,0.0,0.0,0.0,0.0,0.0,0.0,0.0,0.0,0.0,0.0,0.0,0.0,0.0,0.0,0.0,0.0,0.0,0.0],[0.0,0.0,0.0,0.0,0.0,0.0,0.0,0.0,0.0,0.0,0.0,0.0,0.0,0.3686274509803922,0.49019607843137253,0.5803921568627451,0.9215686274509803,0.42745098039215684,0.0,0.0,0.0,0.0,0.0,0.0,0.0,0.0,0.0,0.0],[0.0,0.0,0.0,0.0,0.0,0.0,0.0,0.0,0.0,0.396078431372549,0.8862745098039215,0.9764705882352941,0.9764705882352941,0.9921568627450981,0.996078431372549,1.0,0.996078431372549,0.9294117647058824,0.1803921568627451,0.0,0.0,0.0,0.0,0.0,0.0,0.0,0.0,0.0],[0.0,0.0,0.0,0.0,0.0,0.0,0.0,0.592156862745098,0.9529411764705882,0.9921568627450981,0.996078431372549,0.996078431372549,0.6588235294117647,0.5607843137254902,0.5607843137254902,0.47058823529411764,0.12941176470588237,0.8431372549019608,0.8705882352941177,0.0,0.0,0.0,0.0,0.0,0.0,0.0,0.0,0.0],[0.0,0.0,0.0,0.0,0.0,0.1843137254901961,0.6235294117647059,0.9921568627450981,0.996078431372549,0.8588235294117647,0.43137254901960786,0.07450980392156863,0.0196078431372549,0.0,0.0,0.0,0.0,0.6431372549019608,0.9490196078431372,0.21176470588235294,0.0,0.0,0.0,0.0,0.0,0.0,0.0,0.0],[0.0,0.0,0.0,0.0,0.1803921568627451,0.9176470588235294,0.996078431372549,0.996078431372549,0.47843137254901963,0.06666666666666667,0.0,0.0,0.0,0.0,0.0,0.0,0.0,0.06666666666666667,0.09019607843137255,0.0,0.0,0.0,0.0,0.0,0.0,0.0,0.0,0.0],[0.0,0.0,0.0,0.0,0.9137254901960784,0.996078431372549,0.996078431372549,0.996078431372549,0.8901960784313725,0.7019607843137254,0.25098039215686274,0.0,0.0,0.0,0.0,0.0,0.0,0.0,0.0,0.0,0.0,0.0,0.0,0.0,0.0,0.0,0.0,0.0],[0.0,0.0,0.0,0.0,0.38823529411764707,0.8352941176470589,0.6627450980392157,0.792156862745098,0.996078431372549,0.996078431372549,0.9529411764705882,0.8470588235294118,0.8470588235294118,0.7294117647058823,0.33725490196078434,0.43137254901960786,0.5019607843137255,0.29411764705882354,0.0,0.0,0.0,0.0,0.0,0.0,0.0,0.0,0.0,0.0],[0.0,0.0,0.0,0.0,0.0,0.09411764705882353,0.0,0.07058823529411765,0.17647058823529413,0.17647058823529413,0.6,0.6901960784313725,0.9294117647058824,0.996078431372549,0.996078431372549,0.996078431372549,0.996078431372549,0.9764705882352941,0.7686274509803922,0.12941176470588237,0.0,0.0,0.0,0.0,0.0,0.0,0.0,0.0],[0.0,0.0,0.0,0.0,0.0,0.0,0.0,0.0,0.0,0.0,0.0,0.0,0.1568627450980392,0.20392156862745098,0.30980392156862746,0.6196078431372549,0.5450980392156862,0.8980392156862745,0.996078431372549,0.8784313725490196,0.49411764705882355,0.0,0.0,0.0,0.0,0.0,0.0,0.0],[0.0,0.0,0.0,0.0,0.0,0.0,0.0,0.0,0.0,0.0,0.0,0.0,0.0,0.0,0.0,0.0,0.0,0.14901960784313725,0.5686274509803921,1.0,0.9607843137254902,0.12156862745098039,0.0,0.0,0.0,0.0,0.0,0.0],[0.0,0.0,0.0,0.0,0.0,0.0,0.0,0.0,0.0,0.0,0.0,0.0,0.0,0.0,0.0,0.0,0.0,0.0,0.027450980392156862,0.6941176470588235,0.996078431372549,0.8431372549019608,0.0,0.0,0.0,0.0,0.0,0.0],[0.0,0.0,0.0,0.0,0.0,0.0,0.0,0.0,0.0,0.0,0.0,0.0,0.0,0.0,0.0,0.0,0.0,0.0,0.0,0.49019607843137253,0.996078431372549,0.9725490196078431,0.0,0.0,0.0,0.0,0.0,0.0],[0.0,0.0,0.0,0.0,0.0,0.0,0.0,0.0,0.0,0.0,0.0,0.0,0.0,0.0,0.0,0.0,0.0,0.0,0.0,0.0784313725490196,0.996078431372549,0.9725490196078431,0.0,0.0,0.0,0.0,0.0,0.0],[0.0,0.0,0.0,0.0,0.0,0.0,0.0,0.0,0.0,0.0,0.0,0.0,0.0,0.0,0.0,0.0,0.0,0.0,0.0,0.0784313725490196,0.996078431372549,0.9725490196078431,0.0,0.0,0.0,0.0,0.0,0.0],[0.0,0.0,0.0,0.0,0.0,0.0,0.0,0.0,0.0,0.0,0.0,0.0,0.0,0.0,0.0,0.0,0.0,0.0,0.0,0.4117647058823529,0.996078431372549,0.9725490196078431,0.0,0.0,0.0,0.0,0.0,0.0],[0.0,0.0,0.0,0.0,0.0,0.0,0.0,0.0,0.0,0.0,0.35294117647058826,0.023529411764705882,0.0,0.0,0.0,0.0,0.0,0.0,0.11764705882352941,0.8431372549019608,0.9921568627450981,0.6078431372549019,0.0,0.0,0.0,0.0,0.0,0.0],[0.0,0.0,0.0,0.0,0.0,0.0,0.0,0.0,0.0,0.0,0.8235294117647058,0.5254901960784314,0.058823529411764705,0.0,0.0,0.0,0.01568627450980392,0.1450980392156863,0.8431372549019608,1.0,0.9058823529411765,0.0,0.0,0.0,0.0,0.0,0.0,0.0],[0.0,0.0,0.0,0.0,0.0,0.0,0.0,0.0,0.0,0.0,0.7803921568627451,0.9882352941176471,0.8862745098039215,0.5647058823529412,0.19607843137254902,0.1450980392156863,0.6313725490196078,0.996078431372549,0.996078431372549,0.6627450980392157,0.18823529411764706,0.0,0.0,0.0,0.0,0.0,0.0,0.0],[0.0,0.0,0.0,0.0,0.0,0.0,0.0,0.0,0.0,0.0,0.0,0.5098039215686274,0.9725490196078431,0.9921568627450981,0.996078431372549,1.0,0.996078431372549,0.996078431372549,0.6549019607843137,0.18823529411764706,0.0,0.0,0.0,0.0,0.0,0.0,0.0,0.0],[0.0,0.0,0.0,0.0,0.0,0.0,0.0,0.0,0.0,0.0,0.0,0.0,0.0,0.36470588235294116,0.5882352941176471,0.9058823529411765,0.48627450980392156,0.4235294117647059,0.0,0.0,0.0,0.0,0.0,0.0,0.0,0.0,0.0,0.0],[0.0,0.0,0.0,0.0,0.0,0.0,0.0,0.0,0.0,0.0,0.0,0.0,0.0,0.0,0.0,0.0,0.0,0.0,0.0,0.0,0.0,0.0,0.0,0.0,0.0,0.0,0.0,0.0],[0.0,0.0,0.0,0.0,0.0,0.0,0.0,0.0,0.0,0.0,0.0,0.0,0.0,0.0,0.0,0.0,0.0,0.0,0.0,0.0,0.0,0.0,0.0,0.0,0.0,0.0,0.0,0.0]],\"type\":\"heatmap\",\"xaxis\":\"x\",\"yaxis\":\"y\",\"hovertemplate\":\"x: %{x}<br>y: %{y}<br>color: %{z}<extra></extra>\"}],                        {\"template\":{\"data\":{\"histogram2dcontour\":[{\"type\":\"histogram2dcontour\",\"colorbar\":{\"outlinewidth\":0,\"ticks\":\"\"},\"colorscale\":[[0.0,\"#0d0887\"],[0.1111111111111111,\"#46039f\"],[0.2222222222222222,\"#7201a8\"],[0.3333333333333333,\"#9c179e\"],[0.4444444444444444,\"#bd3786\"],[0.5555555555555556,\"#d8576b\"],[0.6666666666666666,\"#ed7953\"],[0.7777777777777778,\"#fb9f3a\"],[0.8888888888888888,\"#fdca26\"],[1.0,\"#f0f921\"]]}],\"choropleth\":[{\"type\":\"choropleth\",\"colorbar\":{\"outlinewidth\":0,\"ticks\":\"\"}}],\"histogram2d\":[{\"type\":\"histogram2d\",\"colorbar\":{\"outlinewidth\":0,\"ticks\":\"\"},\"colorscale\":[[0.0,\"#0d0887\"],[0.1111111111111111,\"#46039f\"],[0.2222222222222222,\"#7201a8\"],[0.3333333333333333,\"#9c179e\"],[0.4444444444444444,\"#bd3786\"],[0.5555555555555556,\"#d8576b\"],[0.6666666666666666,\"#ed7953\"],[0.7777777777777778,\"#fb9f3a\"],[0.8888888888888888,\"#fdca26\"],[1.0,\"#f0f921\"]]}],\"heatmap\":[{\"type\":\"heatmap\",\"colorbar\":{\"outlinewidth\":0,\"ticks\":\"\"},\"colorscale\":[[0.0,\"#0d0887\"],[0.1111111111111111,\"#46039f\"],[0.2222222222222222,\"#7201a8\"],[0.3333333333333333,\"#9c179e\"],[0.4444444444444444,\"#bd3786\"],[0.5555555555555556,\"#d8576b\"],[0.6666666666666666,\"#ed7953\"],[0.7777777777777778,\"#fb9f3a\"],[0.8888888888888888,\"#fdca26\"],[1.0,\"#f0f921\"]]}],\"heatmapgl\":[{\"type\":\"heatmapgl\",\"colorbar\":{\"outlinewidth\":0,\"ticks\":\"\"},\"colorscale\":[[0.0,\"#0d0887\"],[0.1111111111111111,\"#46039f\"],[0.2222222222222222,\"#7201a8\"],[0.3333333333333333,\"#9c179e\"],[0.4444444444444444,\"#bd3786\"],[0.5555555555555556,\"#d8576b\"],[0.6666666666666666,\"#ed7953\"],[0.7777777777777778,\"#fb9f3a\"],[0.8888888888888888,\"#fdca26\"],[1.0,\"#f0f921\"]]}],\"contourcarpet\":[{\"type\":\"contourcarpet\",\"colorbar\":{\"outlinewidth\":0,\"ticks\":\"\"}}],\"contour\":[{\"type\":\"contour\",\"colorbar\":{\"outlinewidth\":0,\"ticks\":\"\"},\"colorscale\":[[0.0,\"#0d0887\"],[0.1111111111111111,\"#46039f\"],[0.2222222222222222,\"#7201a8\"],[0.3333333333333333,\"#9c179e\"],[0.4444444444444444,\"#bd3786\"],[0.5555555555555556,\"#d8576b\"],[0.6666666666666666,\"#ed7953\"],[0.7777777777777778,\"#fb9f3a\"],[0.8888888888888888,\"#fdca26\"],[1.0,\"#f0f921\"]]}],\"surface\":[{\"type\":\"surface\",\"colorbar\":{\"outlinewidth\":0,\"ticks\":\"\"},\"colorscale\":[[0.0,\"#0d0887\"],[0.1111111111111111,\"#46039f\"],[0.2222222222222222,\"#7201a8\"],[0.3333333333333333,\"#9c179e\"],[0.4444444444444444,\"#bd3786\"],[0.5555555555555556,\"#d8576b\"],[0.6666666666666666,\"#ed7953\"],[0.7777777777777778,\"#fb9f3a\"],[0.8888888888888888,\"#fdca26\"],[1.0,\"#f0f921\"]]}],\"mesh3d\":[{\"type\":\"mesh3d\",\"colorbar\":{\"outlinewidth\":0,\"ticks\":\"\"}}],\"scatter\":[{\"fillpattern\":{\"fillmode\":\"overlay\",\"size\":10,\"solidity\":0.2},\"type\":\"scatter\"}],\"parcoords\":[{\"type\":\"parcoords\",\"line\":{\"colorbar\":{\"outlinewidth\":0,\"ticks\":\"\"}}}],\"scatterpolargl\":[{\"type\":\"scatterpolargl\",\"marker\":{\"colorbar\":{\"outlinewidth\":0,\"ticks\":\"\"}}}],\"bar\":[{\"error_x\":{\"color\":\"#2a3f5f\"},\"error_y\":{\"color\":\"#2a3f5f\"},\"marker\":{\"line\":{\"color\":\"#E5ECF6\",\"width\":0.5},\"pattern\":{\"fillmode\":\"overlay\",\"size\":10,\"solidity\":0.2}},\"type\":\"bar\"}],\"scattergeo\":[{\"type\":\"scattergeo\",\"marker\":{\"colorbar\":{\"outlinewidth\":0,\"ticks\":\"\"}}}],\"scatterpolar\":[{\"type\":\"scatterpolar\",\"marker\":{\"colorbar\":{\"outlinewidth\":0,\"ticks\":\"\"}}}],\"histogram\":[{\"marker\":{\"pattern\":{\"fillmode\":\"overlay\",\"size\":10,\"solidity\":0.2}},\"type\":\"histogram\"}],\"scattergl\":[{\"type\":\"scattergl\",\"marker\":{\"colorbar\":{\"outlinewidth\":0,\"ticks\":\"\"}}}],\"scatter3d\":[{\"type\":\"scatter3d\",\"line\":{\"colorbar\":{\"outlinewidth\":0,\"ticks\":\"\"}},\"marker\":{\"colorbar\":{\"outlinewidth\":0,\"ticks\":\"\"}}}],\"scattermapbox\":[{\"type\":\"scattermapbox\",\"marker\":{\"colorbar\":{\"outlinewidth\":0,\"ticks\":\"\"}}}],\"scatterternary\":[{\"type\":\"scatterternary\",\"marker\":{\"colorbar\":{\"outlinewidth\":0,\"ticks\":\"\"}}}],\"scattercarpet\":[{\"type\":\"scattercarpet\",\"marker\":{\"colorbar\":{\"outlinewidth\":0,\"ticks\":\"\"}}}],\"carpet\":[{\"aaxis\":{\"endlinecolor\":\"#2a3f5f\",\"gridcolor\":\"white\",\"linecolor\":\"white\",\"minorgridcolor\":\"white\",\"startlinecolor\":\"#2a3f5f\"},\"baxis\":{\"endlinecolor\":\"#2a3f5f\",\"gridcolor\":\"white\",\"linecolor\":\"white\",\"minorgridcolor\":\"white\",\"startlinecolor\":\"#2a3f5f\"},\"type\":\"carpet\"}],\"table\":[{\"cells\":{\"fill\":{\"color\":\"#EBF0F8\"},\"line\":{\"color\":\"white\"}},\"header\":{\"fill\":{\"color\":\"#C8D4E3\"},\"line\":{\"color\":\"white\"}},\"type\":\"table\"}],\"barpolar\":[{\"marker\":{\"line\":{\"color\":\"#E5ECF6\",\"width\":0.5},\"pattern\":{\"fillmode\":\"overlay\",\"size\":10,\"solidity\":0.2}},\"type\":\"barpolar\"}],\"pie\":[{\"automargin\":true,\"type\":\"pie\"}]},\"layout\":{\"autotypenumbers\":\"strict\",\"colorway\":[\"#636efa\",\"#EF553B\",\"#00cc96\",\"#ab63fa\",\"#FFA15A\",\"#19d3f3\",\"#FF6692\",\"#B6E880\",\"#FF97FF\",\"#FECB52\"],\"font\":{\"color\":\"#2a3f5f\"},\"hovermode\":\"closest\",\"hoverlabel\":{\"align\":\"left\"},\"paper_bgcolor\":\"white\",\"plot_bgcolor\":\"#E5ECF6\",\"polar\":{\"bgcolor\":\"#E5ECF6\",\"angularaxis\":{\"gridcolor\":\"white\",\"linecolor\":\"white\",\"ticks\":\"\"},\"radialaxis\":{\"gridcolor\":\"white\",\"linecolor\":\"white\",\"ticks\":\"\"}},\"ternary\":{\"bgcolor\":\"#E5ECF6\",\"aaxis\":{\"gridcolor\":\"white\",\"linecolor\":\"white\",\"ticks\":\"\"},\"baxis\":{\"gridcolor\":\"white\",\"linecolor\":\"white\",\"ticks\":\"\"},\"caxis\":{\"gridcolor\":\"white\",\"linecolor\":\"white\",\"ticks\":\"\"}},\"coloraxis\":{\"colorbar\":{\"outlinewidth\":0,\"ticks\":\"\"}},\"colorscale\":{\"sequential\":[[0.0,\"#0d0887\"],[0.1111111111111111,\"#46039f\"],[0.2222222222222222,\"#7201a8\"],[0.3333333333333333,\"#9c179e\"],[0.4444444444444444,\"#bd3786\"],[0.5555555555555556,\"#d8576b\"],[0.6666666666666666,\"#ed7953\"],[0.7777777777777778,\"#fb9f3a\"],[0.8888888888888888,\"#fdca26\"],[1.0,\"#f0f921\"]],\"sequentialminus\":[[0.0,\"#0d0887\"],[0.1111111111111111,\"#46039f\"],[0.2222222222222222,\"#7201a8\"],[0.3333333333333333,\"#9c179e\"],[0.4444444444444444,\"#bd3786\"],[0.5555555555555556,\"#d8576b\"],[0.6666666666666666,\"#ed7953\"],[0.7777777777777778,\"#fb9f3a\"],[0.8888888888888888,\"#fdca26\"],[1.0,\"#f0f921\"]],\"diverging\":[[0,\"#8e0152\"],[0.1,\"#c51b7d\"],[0.2,\"#de77ae\"],[0.3,\"#f1b6da\"],[0.4,\"#fde0ef\"],[0.5,\"#f7f7f7\"],[0.6,\"#e6f5d0\"],[0.7,\"#b8e186\"],[0.8,\"#7fbc41\"],[0.9,\"#4d9221\"],[1,\"#276419\"]]},\"xaxis\":{\"gridcolor\":\"white\",\"linecolor\":\"white\",\"ticks\":\"\",\"title\":{\"standoff\":15},\"zerolinecolor\":\"white\",\"automargin\":true,\"zerolinewidth\":2},\"yaxis\":{\"gridcolor\":\"white\",\"linecolor\":\"white\",\"ticks\":\"\",\"title\":{\"standoff\":15},\"zerolinecolor\":\"white\",\"automargin\":true,\"zerolinewidth\":2},\"scene\":{\"xaxis\":{\"backgroundcolor\":\"#E5ECF6\",\"gridcolor\":\"white\",\"linecolor\":\"white\",\"showbackground\":true,\"ticks\":\"\",\"zerolinecolor\":\"white\",\"gridwidth\":2},\"yaxis\":{\"backgroundcolor\":\"#E5ECF6\",\"gridcolor\":\"white\",\"linecolor\":\"white\",\"showbackground\":true,\"ticks\":\"\",\"zerolinecolor\":\"white\",\"gridwidth\":2},\"zaxis\":{\"backgroundcolor\":\"#E5ECF6\",\"gridcolor\":\"white\",\"linecolor\":\"white\",\"showbackground\":true,\"ticks\":\"\",\"zerolinecolor\":\"white\",\"gridwidth\":2}},\"shapedefaults\":{\"line\":{\"color\":\"#2a3f5f\"}},\"annotationdefaults\":{\"arrowcolor\":\"#2a3f5f\",\"arrowhead\":0,\"arrowwidth\":1},\"geo\":{\"bgcolor\":\"white\",\"landcolor\":\"#E5ECF6\",\"subunitcolor\":\"white\",\"showland\":true,\"showlakes\":true,\"lakecolor\":\"white\"},\"title\":{\"x\":0.05},\"mapbox\":{\"style\":\"light\"}}},\"xaxis\":{\"anchor\":\"y\",\"domain\":[0.0,1.0],\"scaleanchor\":\"y\",\"constrain\":\"domain\"},\"yaxis\":{\"anchor\":\"x\",\"domain\":[0.0,1.0],\"autorange\":\"reversed\",\"constrain\":\"domain\"},\"coloraxis\":{\"colorscale\":[[0.0,\"rgb(0, 0, 0)\"],[0.09090909090909091,\"rgb(16, 16, 16)\"],[0.18181818181818182,\"rgb(38, 38, 38)\"],[0.2727272727272727,\"rgb(59, 59, 59)\"],[0.36363636363636365,\"rgb(81, 80, 80)\"],[0.45454545454545453,\"rgb(102, 101, 101)\"],[0.5454545454545454,\"rgb(124, 123, 122)\"],[0.6363636363636364,\"rgb(146, 146, 145)\"],[0.7272727272727273,\"rgb(171, 171, 170)\"],[0.8181818181818182,\"rgb(197, 197, 195)\"],[0.9090909090909091,\"rgb(224, 224, 223)\"],[1.0,\"rgb(254, 254, 253)\"]]},\"margin\":{\"t\":60}},                        {\"responsive\": true}                    ).then(function(){\n",
       "                            \n",
       "var gd = document.getElementById('5b95ee0f-88be-4b5e-9add-002539a2f329');\n",
       "var x = new MutationObserver(function (mutations, observer) {{\n",
       "        var display = window.getComputedStyle(gd).display;\n",
       "        if (!display || display === 'none') {{\n",
       "            console.log([gd, 'removed!']);\n",
       "            Plotly.purge(gd);\n",
       "            observer.disconnect();\n",
       "        }}\n",
       "}});\n",
       "\n",
       "// Listen for the removal of the full notebook cells\n",
       "var notebookContainer = gd.closest('#notebook-container');\n",
       "if (notebookContainer) {{\n",
       "    x.observe(notebookContainer, {childList: true});\n",
       "}}\n",
       "\n",
       "// Listen for the clearing of the current output cell\n",
       "var outputEl = gd.closest('.output');\n",
       "if (outputEl) {{\n",
       "    x.observe(outputEl, {childList: true});\n",
       "}}\n",
       "\n",
       "                        })                };                });            </script>        </div>"
      ]
     },
     "metadata": {},
     "output_type": "display_data"
    }
   ],
   "source": [
    "# Interactive Test\n",
    "import random\n",
    "row = random.randint(0, len(test_data_features))\n",
    "img_data = test_data_features.iloc[row].values\n",
    "list_img_data = [test_data_features_list[row]]\n",
    "prediction = model.classify(list_img_data)[0]\n",
    "print(prediction)\n",
    "view_image(img_data, 28, 28, 'gray')"
   ]
  }
 ],
 "metadata": {
  "kernelspec": {
   "display_name": ".venv",
   "language": "python",
   "name": "python3"
  },
  "language_info": {
   "codemirror_mode": {
    "name": "ipython",
    "version": 3
   },
   "file_extension": ".py",
   "mimetype": "text/x-python",
   "name": "python",
   "nbconvert_exporter": "python",
   "pygments_lexer": "ipython3",
   "version": "3.10.12"
  },
  "orig_nbformat": 4
 },
 "nbformat": 4,
 "nbformat_minor": 2
}
