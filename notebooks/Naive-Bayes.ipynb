{
 "cells": [
  {
   "cell_type": "code",
   "execution_count": 1,
   "metadata": {},
   "outputs": [],
   "source": [
    "import rust_machine_learning\n",
    "import plotly.express as px\n",
    "import pandas as pd\n",
    "from syed_ml_lib import *"
   ]
  },
  {
   "cell_type": "code",
   "execution_count": 3,
   "metadata": {},
   "outputs": [],
   "source": [
    "# Get the csv data\n",
    "df = pd.read_csv(\"../data/iris.data\")"
   ]
  },
  {
   "cell_type": "code",
   "execution_count": 4,
   "metadata": {},
   "outputs": [
    {
     "name": "stdout",
     "output_type": "stream",
     "text": [
      "30\n"
     ]
    }
   ],
   "source": [
    "train_data, test_data = split_train_test(df, 0.2)\n",
    "print(len(train_data))"
   ]
  },
  {
   "cell_type": "code",
   "execution_count": 200,
   "metadata": {},
   "outputs": [],
   "source": [
    "# Now train the model\n",
    "train_data_features = train_data.iloc[:, 0:-1].values.tolist()\n",
    "train_data_labels = pd.Categorical(train_data[\" class\"]).codes.tolist()\n",
    "\n",
    "trained_model = rust_machine_learning.naive_bayes_model(train_data_features, train_data_labels)"
   ]
  },
  {
   "cell_type": "code",
   "execution_count": 201,
   "metadata": {},
   "outputs": [
    {
     "name": "stdout",
     "output_type": "stream",
     "text": [
      "Percent Correct:  1.0\n"
     ]
    }
   ],
   "source": [
    "# Now let us test the model\n",
    "test_data_features = test_data.iloc[:, 0:-1].values.tolist()\n",
    "test_data_labels = pd.Categorical(test_data[\" class\"]).codes.tolist()\n",
    "\n",
    "labelled_results = trained_model.naive_bayes_gaussian(test_data_features)\n",
    "\n",
    "num_correct = 0\n",
    "for test_label, result_label in zip(test_data_labels, labelled_results):\n",
    "  num_correct += test_label==result_label\n",
    "print(\"Percent Correct: \", num_correct / len(test_data_labels))"
   ]
  }
 ],
 "metadata": {
  "kernelspec": {
   "display_name": ".venv",
   "language": "python",
   "name": "python3"
  },
  "language_info": {
   "codemirror_mode": {
    "name": "ipython",
    "version": 3
   },
   "file_extension": ".py",
   "mimetype": "text/x-python",
   "name": "python",
   "nbconvert_exporter": "python",
   "pygments_lexer": "ipython3",
   "version": "3.10.6"
  },
  "orig_nbformat": 4,
  "vscode": {
   "interpreter": {
    "hash": "4ff2554437f0138b84b9f6b23fa38424ffdc67e7f54ba157d192ee4b48bfbcc1"
   }
  }
 },
 "nbformat": 4,
 "nbformat_minor": 2
}
