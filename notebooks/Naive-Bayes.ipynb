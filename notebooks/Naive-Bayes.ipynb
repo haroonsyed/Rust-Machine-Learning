{
 "cells": [
  {
   "cell_type": "code",
   "execution_count": 2,
   "metadata": {},
   "outputs": [],
   "source": [
    "import Rust_Machine_Learning\n",
    "import plotly.express as px\n",
    "import pandas as pd"
   ]
  },
  {
   "cell_type": "code",
   "execution_count": 6,
   "metadata": {},
   "outputs": [],
   "source": [
    "# Get the csv data\n",
    "df = pd.read_csv(\"../data/iris.data\")"
   ]
  },
  {
   "cell_type": "code",
   "execution_count": 16,
   "metadata": {},
   "outputs": [],
   "source": [
    "# Split the data into train and test\n",
    "def split_train_test(df, percent_train):\n",
    "  #Randomize the rows\n",
    "  df = df.sample(frac=1.0)\n",
    "\n",
    "  #Create train and test data\n",
    "  df_size = df.shape[0]\n",
    "  train_size = df_size * percent_train\n",
    "\n",
    "  train_data = df.iloc[:int(train_size),:]\n",
    "  test_data = df.iloc[int(train_size):,:]\n",
    "  return (train_data, test_data)\n",
    "\n",
    "train_data, test_data = split_train_test(df, 0.7)"
   ]
  },
  {
   "cell_type": "code",
   "execution_count": null,
   "metadata": {},
   "outputs": [],
   "source": [
    "trained_model = "
   ]
  }
 ],
 "metadata": {
  "kernelspec": {
   "display_name": ".venv",
   "language": "python",
   "name": "python3"
  },
  "language_info": {
   "codemirror_mode": {
    "name": "ipython",
    "version": 3
   },
   "file_extension": ".py",
   "mimetype": "text/x-python",
   "name": "python",
   "nbconvert_exporter": "python",
   "pygments_lexer": "ipython3",
   "version": "3.10.6"
  },
  "orig_nbformat": 4,
  "vscode": {
   "interpreter": {
    "hash": "4ff2554437f0138b84b9f6b23fa38424ffdc67e7f54ba157d192ee4b48bfbcc1"
   }
  }
 },
 "nbformat": 4,
 "nbformat_minor": 2
}
