{
 "cells": [
  {
   "cell_type": "code",
   "execution_count": 1,
   "metadata": {},
   "outputs": [],
   "source": [
    "import rust_machine_learning\n",
    "from syed_ml_lib import *\n",
    "import os"
   ]
  },
  {
   "cell_type": "code",
   "execution_count": 2,
   "metadata": {},
   "outputs": [
    {
     "name": "stdout",
     "output_type": "stream",
     "text": [
      "Reading images for classification \"truck\"\n",
      "Reading images for classification \"airplane\"\n",
      "Reading images for classification \"cat\"\n",
      "Reading images for classification \"deer\"\n",
      "Reading images for classification \"dog\"\n",
      "Reading images for classification \"ship\"\n",
      "Reading images for classification \"bird\"\n",
      "Reading images for classification \"automobile\"\n",
      "Reading images for classification \"frog\"\n",
      "Reading images for classification \"horse\"\n"
     ]
    }
   ],
   "source": [
    "# Setup the CNN\n",
    "num_classifications = 10\n",
    "input_height = 28\n",
    "input_width = 28\n",
    "input_depth = 1\n",
    "CNN = rust_machine_learning.ConvolutionalNeuralNetwork(num_classifications, input_height, input_width, input_depth)\n",
    "\n",
    "# Setup the optimizer\n",
    "learning_rate = 1e-3\n",
    "momentum = 0.9\n",
    "beta = 0.9\n",
    "# CNN.set_optimizer_stochastic_gradient_descent(learning_rate)\n",
    "# CNN.set_optimizer_momentum(learning_rate, momentum)\n",
    "# CNN.set_optimizer_adagrad(learning_rate)\n",
    "CNN.set_optimizer_RMSProp(learning_rate, beta)\n",
    "\n",
    "# Setup the layers\n",
    "# The api has 3 functions\n",
    "# add_convolutional_layer(filter_height, filter_width, num_filters)\n",
    "# add_max_pool_layer()\n",
    "# add_fully_connected_layer() \n",
    "# Add fully connected layer can only be called once, and must be called last\n",
    "\n",
    "CNN.add_convolutional_layer(3, 3, 32)\n",
    "CNN.add_max_pool_layer()\n",
    "CNN.add_fully_connected_layer() \n",
    "\n",
    "image_directory = \"../data/cifar-10/\"\n",
    "image_directory_path = os.path.abspath(image_directory)\n",
    "CNN.set_image_loader(image_directory_path, input_height, input_width)"
   ]
  },
  {
   "cell_type": "code",
   "execution_count": 3,
   "metadata": {},
   "outputs": [
    {
     "data": {
      "text/html": [
       "<div>\n",
       "<style scoped>\n",
       "    .dataframe tbody tr th:only-of-type {\n",
       "        vertical-align: middle;\n",
       "    }\n",
       "\n",
       "    .dataframe tbody tr th {\n",
       "        vertical-align: top;\n",
       "    }\n",
       "\n",
       "    .dataframe thead th {\n",
       "        text-align: right;\n",
       "    }\n",
       "</style>\n",
       "<table border=\"1\" class=\"dataframe\">\n",
       "  <thead>\n",
       "    <tr style=\"text-align: right;\">\n",
       "      <th></th>\n",
       "      <th>label</th>\n",
       "      <th>pixel0</th>\n",
       "      <th>pixel1</th>\n",
       "      <th>pixel2</th>\n",
       "      <th>pixel3</th>\n",
       "      <th>pixel4</th>\n",
       "      <th>pixel5</th>\n",
       "      <th>pixel6</th>\n",
       "      <th>pixel7</th>\n",
       "      <th>pixel8</th>\n",
       "      <th>...</th>\n",
       "      <th>pixel774</th>\n",
       "      <th>pixel775</th>\n",
       "      <th>pixel776</th>\n",
       "      <th>pixel777</th>\n",
       "      <th>pixel778</th>\n",
       "      <th>pixel779</th>\n",
       "      <th>pixel780</th>\n",
       "      <th>pixel781</th>\n",
       "      <th>pixel782</th>\n",
       "      <th>pixel783</th>\n",
       "    </tr>\n",
       "  </thead>\n",
       "  <tbody>\n",
       "    <tr>\n",
       "      <th>0</th>\n",
       "      <td>1.0</td>\n",
       "      <td>-0.5</td>\n",
       "      <td>-0.5</td>\n",
       "      <td>-0.5</td>\n",
       "      <td>-0.5</td>\n",
       "      <td>-0.5</td>\n",
       "      <td>-0.5</td>\n",
       "      <td>-0.5</td>\n",
       "      <td>-0.5</td>\n",
       "      <td>-0.5</td>\n",
       "      <td>...</td>\n",
       "      <td>-0.5</td>\n",
       "      <td>-0.5</td>\n",
       "      <td>-0.5</td>\n",
       "      <td>-0.5</td>\n",
       "      <td>-0.5</td>\n",
       "      <td>-0.5</td>\n",
       "      <td>-0.5</td>\n",
       "      <td>-0.5</td>\n",
       "      <td>-0.5</td>\n",
       "      <td>-0.5</td>\n",
       "    </tr>\n",
       "    <tr>\n",
       "      <th>1</th>\n",
       "      <td>0.0</td>\n",
       "      <td>-0.5</td>\n",
       "      <td>-0.5</td>\n",
       "      <td>-0.5</td>\n",
       "      <td>-0.5</td>\n",
       "      <td>-0.5</td>\n",
       "      <td>-0.5</td>\n",
       "      <td>-0.5</td>\n",
       "      <td>-0.5</td>\n",
       "      <td>-0.5</td>\n",
       "      <td>...</td>\n",
       "      <td>-0.5</td>\n",
       "      <td>-0.5</td>\n",
       "      <td>-0.5</td>\n",
       "      <td>-0.5</td>\n",
       "      <td>-0.5</td>\n",
       "      <td>-0.5</td>\n",
       "      <td>-0.5</td>\n",
       "      <td>-0.5</td>\n",
       "      <td>-0.5</td>\n",
       "      <td>-0.5</td>\n",
       "    </tr>\n",
       "    <tr>\n",
       "      <th>2</th>\n",
       "      <td>1.0</td>\n",
       "      <td>-0.5</td>\n",
       "      <td>-0.5</td>\n",
       "      <td>-0.5</td>\n",
       "      <td>-0.5</td>\n",
       "      <td>-0.5</td>\n",
       "      <td>-0.5</td>\n",
       "      <td>-0.5</td>\n",
       "      <td>-0.5</td>\n",
       "      <td>-0.5</td>\n",
       "      <td>...</td>\n",
       "      <td>-0.5</td>\n",
       "      <td>-0.5</td>\n",
       "      <td>-0.5</td>\n",
       "      <td>-0.5</td>\n",
       "      <td>-0.5</td>\n",
       "      <td>-0.5</td>\n",
       "      <td>-0.5</td>\n",
       "      <td>-0.5</td>\n",
       "      <td>-0.5</td>\n",
       "      <td>-0.5</td>\n",
       "    </tr>\n",
       "    <tr>\n",
       "      <th>3</th>\n",
       "      <td>4.0</td>\n",
       "      <td>-0.5</td>\n",
       "      <td>-0.5</td>\n",
       "      <td>-0.5</td>\n",
       "      <td>-0.5</td>\n",
       "      <td>-0.5</td>\n",
       "      <td>-0.5</td>\n",
       "      <td>-0.5</td>\n",
       "      <td>-0.5</td>\n",
       "      <td>-0.5</td>\n",
       "      <td>...</td>\n",
       "      <td>-0.5</td>\n",
       "      <td>-0.5</td>\n",
       "      <td>-0.5</td>\n",
       "      <td>-0.5</td>\n",
       "      <td>-0.5</td>\n",
       "      <td>-0.5</td>\n",
       "      <td>-0.5</td>\n",
       "      <td>-0.5</td>\n",
       "      <td>-0.5</td>\n",
       "      <td>-0.5</td>\n",
       "    </tr>\n",
       "    <tr>\n",
       "      <th>4</th>\n",
       "      <td>0.0</td>\n",
       "      <td>-0.5</td>\n",
       "      <td>-0.5</td>\n",
       "      <td>-0.5</td>\n",
       "      <td>-0.5</td>\n",
       "      <td>-0.5</td>\n",
       "      <td>-0.5</td>\n",
       "      <td>-0.5</td>\n",
       "      <td>-0.5</td>\n",
       "      <td>-0.5</td>\n",
       "      <td>...</td>\n",
       "      <td>-0.5</td>\n",
       "      <td>-0.5</td>\n",
       "      <td>-0.5</td>\n",
       "      <td>-0.5</td>\n",
       "      <td>-0.5</td>\n",
       "      <td>-0.5</td>\n",
       "      <td>-0.5</td>\n",
       "      <td>-0.5</td>\n",
       "      <td>-0.5</td>\n",
       "      <td>-0.5</td>\n",
       "    </tr>\n",
       "    <tr>\n",
       "      <th>...</th>\n",
       "      <td>...</td>\n",
       "      <td>...</td>\n",
       "      <td>...</td>\n",
       "      <td>...</td>\n",
       "      <td>...</td>\n",
       "      <td>...</td>\n",
       "      <td>...</td>\n",
       "      <td>...</td>\n",
       "      <td>...</td>\n",
       "      <td>...</td>\n",
       "      <td>...</td>\n",
       "      <td>...</td>\n",
       "      <td>...</td>\n",
       "      <td>...</td>\n",
       "      <td>...</td>\n",
       "      <td>...</td>\n",
       "      <td>...</td>\n",
       "      <td>...</td>\n",
       "      <td>...</td>\n",
       "      <td>...</td>\n",
       "      <td>...</td>\n",
       "    </tr>\n",
       "    <tr>\n",
       "      <th>41995</th>\n",
       "      <td>0.0</td>\n",
       "      <td>-0.5</td>\n",
       "      <td>-0.5</td>\n",
       "      <td>-0.5</td>\n",
       "      <td>-0.5</td>\n",
       "      <td>-0.5</td>\n",
       "      <td>-0.5</td>\n",
       "      <td>-0.5</td>\n",
       "      <td>-0.5</td>\n",
       "      <td>-0.5</td>\n",
       "      <td>...</td>\n",
       "      <td>-0.5</td>\n",
       "      <td>-0.5</td>\n",
       "      <td>-0.5</td>\n",
       "      <td>-0.5</td>\n",
       "      <td>-0.5</td>\n",
       "      <td>-0.5</td>\n",
       "      <td>-0.5</td>\n",
       "      <td>-0.5</td>\n",
       "      <td>-0.5</td>\n",
       "      <td>-0.5</td>\n",
       "    </tr>\n",
       "    <tr>\n",
       "      <th>41996</th>\n",
       "      <td>1.0</td>\n",
       "      <td>-0.5</td>\n",
       "      <td>-0.5</td>\n",
       "      <td>-0.5</td>\n",
       "      <td>-0.5</td>\n",
       "      <td>-0.5</td>\n",
       "      <td>-0.5</td>\n",
       "      <td>-0.5</td>\n",
       "      <td>-0.5</td>\n",
       "      <td>-0.5</td>\n",
       "      <td>...</td>\n",
       "      <td>-0.5</td>\n",
       "      <td>-0.5</td>\n",
       "      <td>-0.5</td>\n",
       "      <td>-0.5</td>\n",
       "      <td>-0.5</td>\n",
       "      <td>-0.5</td>\n",
       "      <td>-0.5</td>\n",
       "      <td>-0.5</td>\n",
       "      <td>-0.5</td>\n",
       "      <td>-0.5</td>\n",
       "    </tr>\n",
       "    <tr>\n",
       "      <th>41997</th>\n",
       "      <td>7.0</td>\n",
       "      <td>-0.5</td>\n",
       "      <td>-0.5</td>\n",
       "      <td>-0.5</td>\n",
       "      <td>-0.5</td>\n",
       "      <td>-0.5</td>\n",
       "      <td>-0.5</td>\n",
       "      <td>-0.5</td>\n",
       "      <td>-0.5</td>\n",
       "      <td>-0.5</td>\n",
       "      <td>...</td>\n",
       "      <td>-0.5</td>\n",
       "      <td>-0.5</td>\n",
       "      <td>-0.5</td>\n",
       "      <td>-0.5</td>\n",
       "      <td>-0.5</td>\n",
       "      <td>-0.5</td>\n",
       "      <td>-0.5</td>\n",
       "      <td>-0.5</td>\n",
       "      <td>-0.5</td>\n",
       "      <td>-0.5</td>\n",
       "    </tr>\n",
       "    <tr>\n",
       "      <th>41998</th>\n",
       "      <td>6.0</td>\n",
       "      <td>-0.5</td>\n",
       "      <td>-0.5</td>\n",
       "      <td>-0.5</td>\n",
       "      <td>-0.5</td>\n",
       "      <td>-0.5</td>\n",
       "      <td>-0.5</td>\n",
       "      <td>-0.5</td>\n",
       "      <td>-0.5</td>\n",
       "      <td>-0.5</td>\n",
       "      <td>...</td>\n",
       "      <td>-0.5</td>\n",
       "      <td>-0.5</td>\n",
       "      <td>-0.5</td>\n",
       "      <td>-0.5</td>\n",
       "      <td>-0.5</td>\n",
       "      <td>-0.5</td>\n",
       "      <td>-0.5</td>\n",
       "      <td>-0.5</td>\n",
       "      <td>-0.5</td>\n",
       "      <td>-0.5</td>\n",
       "    </tr>\n",
       "    <tr>\n",
       "      <th>41999</th>\n",
       "      <td>9.0</td>\n",
       "      <td>-0.5</td>\n",
       "      <td>-0.5</td>\n",
       "      <td>-0.5</td>\n",
       "      <td>-0.5</td>\n",
       "      <td>-0.5</td>\n",
       "      <td>-0.5</td>\n",
       "      <td>-0.5</td>\n",
       "      <td>-0.5</td>\n",
       "      <td>-0.5</td>\n",
       "      <td>...</td>\n",
       "      <td>-0.5</td>\n",
       "      <td>-0.5</td>\n",
       "      <td>-0.5</td>\n",
       "      <td>-0.5</td>\n",
       "      <td>-0.5</td>\n",
       "      <td>-0.5</td>\n",
       "      <td>-0.5</td>\n",
       "      <td>-0.5</td>\n",
       "      <td>-0.5</td>\n",
       "      <td>-0.5</td>\n",
       "    </tr>\n",
       "  </tbody>\n",
       "</table>\n",
       "<p>42000 rows × 785 columns</p>\n",
       "</div>"
      ],
      "text/plain": [
       "       label  pixel0  pixel1  pixel2  pixel3  pixel4  pixel5  pixel6  pixel7  \\\n",
       "0        1.0    -0.5    -0.5    -0.5    -0.5    -0.5    -0.5    -0.5    -0.5   \n",
       "1        0.0    -0.5    -0.5    -0.5    -0.5    -0.5    -0.5    -0.5    -0.5   \n",
       "2        1.0    -0.5    -0.5    -0.5    -0.5    -0.5    -0.5    -0.5    -0.5   \n",
       "3        4.0    -0.5    -0.5    -0.5    -0.5    -0.5    -0.5    -0.5    -0.5   \n",
       "4        0.0    -0.5    -0.5    -0.5    -0.5    -0.5    -0.5    -0.5    -0.5   \n",
       "...      ...     ...     ...     ...     ...     ...     ...     ...     ...   \n",
       "41995    0.0    -0.5    -0.5    -0.5    -0.5    -0.5    -0.5    -0.5    -0.5   \n",
       "41996    1.0    -0.5    -0.5    -0.5    -0.5    -0.5    -0.5    -0.5    -0.5   \n",
       "41997    7.0    -0.5    -0.5    -0.5    -0.5    -0.5    -0.5    -0.5    -0.5   \n",
       "41998    6.0    -0.5    -0.5    -0.5    -0.5    -0.5    -0.5    -0.5    -0.5   \n",
       "41999    9.0    -0.5    -0.5    -0.5    -0.5    -0.5    -0.5    -0.5    -0.5   \n",
       "\n",
       "       pixel8  ...  pixel774  pixel775  pixel776  pixel777  pixel778  \\\n",
       "0        -0.5  ...      -0.5      -0.5      -0.5      -0.5      -0.5   \n",
       "1        -0.5  ...      -0.5      -0.5      -0.5      -0.5      -0.5   \n",
       "2        -0.5  ...      -0.5      -0.5      -0.5      -0.5      -0.5   \n",
       "3        -0.5  ...      -0.5      -0.5      -0.5      -0.5      -0.5   \n",
       "4        -0.5  ...      -0.5      -0.5      -0.5      -0.5      -0.5   \n",
       "...       ...  ...       ...       ...       ...       ...       ...   \n",
       "41995    -0.5  ...      -0.5      -0.5      -0.5      -0.5      -0.5   \n",
       "41996    -0.5  ...      -0.5      -0.5      -0.5      -0.5      -0.5   \n",
       "41997    -0.5  ...      -0.5      -0.5      -0.5      -0.5      -0.5   \n",
       "41998    -0.5  ...      -0.5      -0.5      -0.5      -0.5      -0.5   \n",
       "41999    -0.5  ...      -0.5      -0.5      -0.5      -0.5      -0.5   \n",
       "\n",
       "       pixel779  pixel780  pixel781  pixel782  pixel783  \n",
       "0          -0.5      -0.5      -0.5      -0.5      -0.5  \n",
       "1          -0.5      -0.5      -0.5      -0.5      -0.5  \n",
       "2          -0.5      -0.5      -0.5      -0.5      -0.5  \n",
       "3          -0.5      -0.5      -0.5      -0.5      -0.5  \n",
       "4          -0.5      -0.5      -0.5      -0.5      -0.5  \n",
       "...         ...       ...       ...       ...       ...  \n",
       "41995      -0.5      -0.5      -0.5      -0.5      -0.5  \n",
       "41996      -0.5      -0.5      -0.5      -0.5      -0.5  \n",
       "41997      -0.5      -0.5      -0.5      -0.5      -0.5  \n",
       "41998      -0.5      -0.5      -0.5      -0.5      -0.5  \n",
       "41999      -0.5      -0.5      -0.5      -0.5      -0.5  \n",
       "\n",
       "[42000 rows x 785 columns]"
      ]
     },
     "execution_count": 3,
     "metadata": {},
     "output_type": "execute_result"
    }
   ],
   "source": [
    "# Grab mnist data\n",
    "import random\n",
    "import numpy as np\n",
    "\n",
    "df = pd.read_csv(\"../data/digit-recognizer/train.csv\")\n",
    "\n",
    "# Normalize images\n",
    "df.iloc[:, 1:] = df.iloc[:, 1:].div(255.0).sub(0.5)\n",
    "images = df.iloc[:, 1:].values.tolist()\n",
    "df.iloc[:, 0] = df.iloc[:, 0].astype(np.float32)\n",
    "labels = df.iloc[:, 0].values.tolist()\n",
    "\n",
    "# Split into training and testing\n",
    "test_images = images[0:20000]\n",
    "test_labels = labels[0:20000]\n",
    "train_images = images[20000:]\n",
    "train_labels = labels[20000:]\n",
    "\n",
    "df"
   ]
  },
  {
   "cell_type": "code",
   "execution_count": 4,
   "metadata": {},
   "outputs": [],
   "source": [
    "def test_mnist():\n",
    "    num_batches_to_test = 500\n",
    "    num_right = 0\n",
    "    for i in range(num_batches_to_test):\n",
    "\n",
    "        # Random sample one image from python list of images\n",
    "        rand_index = random.randint(0, len(test_images) - 1)\n",
    "        image = test_images[rand_index]\n",
    "        label = test_labels[rand_index]\n",
    "\n",
    "        prediction = CNN.classify([[image]])[0]\n",
    "        if prediction == label:\n",
    "            num_right += 1\n",
    "\n",
    "    print(\"Accuracy: \" + str(100.0 * num_right / (num_batches_to_test)))"
   ]
  },
  {
   "cell_type": "code",
   "execution_count": 5,
   "metadata": {},
   "outputs": [
    {
     "name": "stdout",
     "output_type": "stream",
     "text": [
      "Reading images for classification \"truck\"\n",
      "Reading images for classification \"airplane\"\n",
      "Reading images for classification \"cat\"\n",
      "Reading images for classification \"deer\"\n",
      "Reading images for classification \"dog\"\n",
      "Reading images for classification \"ship\"\n",
      "Reading images for classification \"bird\"\n",
      "Reading images for classification \"automobile\"\n",
      "Reading images for classification \"frog\"\n",
      "Reading images for classification \"horse\"\n"
     ]
    }
   ],
   "source": [
    "test_image_loader = rust_machine_learning.ImageBatchLoader(image_directory_path, input_width, input_height)\n",
    "def test_using_image_loader():\n",
    "    num_batches_to_test = 100\n",
    "    num_right = 0\n",
    "    for i in range(num_batches_to_test):\n",
    "\n",
    "        images, label = test_image_loader.batch_sample(1)\n",
    "\n",
    "        prediction = CNN.classify(images)[0]\n",
    "        if prediction == label[0]:\n",
    "            num_right += 1\n",
    "\n",
    "    print(\"Accuracy: \" + str(100.0 * num_right / (num_batches_to_test)))"
   ]
  },
  {
   "cell_type": "code",
   "execution_count": 6,
   "metadata": {},
   "outputs": [],
   "source": [
    "def train_using_raw_data():\n",
    "    batch_size = 8\n",
    "    num_iter = 3000\n",
    "\n",
    "    print(\"Accuracy before training:\")\n",
    "    test_mnist()\n",
    "    print(\"Training...\")\n",
    "    for i in range(0, num_iter):\n",
    "\n",
    "        # Create image and label batch from mnist\n",
    "        image_batch, label_batch = [], []\n",
    "        for j in range(batch_size):\n",
    "            rand_index = random.randint(0, len(train_images) - 1)\n",
    "            image = train_images[rand_index]\n",
    "            label = train_labels[rand_index]\n",
    "            image_batch.append([image])\n",
    "            label_batch.append(label)\n",
    "\n",
    "        # Train using MNIST dataset, select one image at a time randomly\n",
    "        CNN.train_raw_data(image_batch, label_batch)\n",
    "\n",
    "    print(\"Accuracy after training:\")\n",
    "    test_mnist()\n",
    "\n",
    "    # Get the loss and accuracy and plot it\n",
    "    perfomance_info = CNN.get_performance_info() # Return a list of tuple (accuracy, loss)\n",
    "    graph_accuracy_loss(perfomance_info)"
   ]
  },
  {
   "cell_type": "code",
   "execution_count": 7,
   "metadata": {},
   "outputs": [],
   "source": [
    "def train_using_set_img_loader():\n",
    "    batch_size = 32\n",
    "    num_iter = 3000\n",
    "    print(\"Accuracy before training:\")\n",
    "    test_using_image_loader()\n",
    "    print(\"Training...\")\n",
    "\n",
    "    # Split into increments of 50 because rust won't progress info print properly\n",
    "    for i in range(0, num_iter, 50):\n",
    "        CNN.train_using_image_loader(batch_size, 50)\n",
    "    test_using_image_loader()\n",
    "\n",
    "    # Get the loss and accuracy and plot it\n",
    "    perfomance_info = CNN.get_performance_info() # Return a list of tuple (accuracy, loss)\n",
    "    graph_accuracy_loss(perfomance_info)"
   ]
  },
  {
   "cell_type": "code",
   "execution_count": 8,
   "metadata": {},
   "outputs": [
    {
     "name": "stdout",
     "output_type": "stream",
     "text": [
      "Accuracy before training:\n",
      "Accuracy: 11.0\n",
      "Training...\n",
      "Iteration 50: Accuracy: 26.75 Loss: 4123.086\n",
      "Iteration 100: Accuracy: 41.25 Loss: 3744.8804\n",
      "Iteration 150: Accuracy: 50.25 Loss: 3275.2466\n",
      "Iteration 200: Accuracy: 63 Loss: 2465.3342\n",
      "Iteration 250: Accuracy: 59.5 Loss: 2740.6565\n",
      "Iteration 300: Accuracy: 59.75 Loss: 2730.531\n",
      "Iteration 350: Accuracy: 64.25 Loss: 2474.7185\n",
      "Iteration 400: Accuracy: 63.75 Loss: 2537.208\n",
      "Iteration 450: Accuracy: 67.25 Loss: 2305.8718\n",
      "Iteration 500: Accuracy: 69.5 Loss: 2102.82\n",
      "Iteration 550: Accuracy: 67.5 Loss: 2234.2024\n",
      "Iteration 600: Accuracy: 71.75 Loss: 1932.4443\n",
      "Iteration 650: Accuracy: 70.25 Loss: 2039.9999\n",
      "Iteration 700: Accuracy: 71 Loss: 2099.351\n",
      "Iteration 750: Accuracy: 69.5 Loss: 2125.064\n",
      "Iteration 800: Accuracy: 70.25 Loss: 2084.2393\n",
      "Iteration 850: Accuracy: 69 Loss: 2235.0388\n",
      "Iteration 900: Accuracy: 72.5 Loss: 1985.8044\n",
      "Iteration 950: Accuracy: 74.25 Loss: 1853.6332\n",
      "Iteration 1000: Accuracy: 70.25 Loss: 2082.9097\n",
      "Iteration 1050: Accuracy: 75 Loss: 1780.9397\n",
      "Iteration 1100: Accuracy: 75.25 Loss: 1798.4342\n",
      "Iteration 1150: Accuracy: 74.75 Loss: 1822.7544\n",
      "Iteration 1200: Accuracy: 75 Loss: 1786.8807\n",
      "Iteration 1250: Accuracy: 74 Loss: 1906.9474\n",
      "Iteration 1300: Accuracy: 73.75 Loss: 1890.6855\n",
      "Iteration 1350: Accuracy: 75.75 Loss: 1758.7903\n",
      "Iteration 1400: Accuracy: 72.25 Loss: 1991.9324\n",
      "Iteration 1450: Accuracy: 77 Loss: 1665.8701\n",
      "Iteration 1500: Accuracy: 77.75 Loss: 1630.4236\n",
      "Iteration 1550: Accuracy: 73.25 Loss: 1923.9742\n",
      "Iteration 1600: Accuracy: 71.75 Loss: 1997.065\n",
      "Iteration 1650: Accuracy: 75.25 Loss: 1745.4034\n",
      "Iteration 1700: Accuracy: 75.25 Loss: 1776.2651\n",
      "Iteration 1750: Accuracy: 77.5 Loss: 1594.718\n",
      "Iteration 1800: Accuracy: 77.75 Loss: 1568.5166\n",
      "Iteration 1850: Accuracy: 78.25 Loss: 1539.624\n",
      "Iteration 1900: Accuracy: 81 Loss: 1399.4939\n",
      "Iteration 1950: Accuracy: 76.5 Loss: 1721.351\n",
      "Iteration 2000: Accuracy: 76.5 Loss: 1710.0469\n",
      "Iteration 2050: Accuracy: 82 Loss: 1282.9905\n",
      "Iteration 2100: Accuracy: 77.75 Loss: 1611.957\n",
      "Iteration 2150: Accuracy: 79.75 Loss: 1473.3184\n",
      "Iteration 2200: Accuracy: 78.5 Loss: 1548.2731\n",
      "Iteration 2250: Accuracy: 78.75 Loss: 1555.4136\n",
      "Iteration 2300: Accuracy: 80.5 Loss: 1386.7267\n",
      "Iteration 2350: Accuracy: 81 Loss: 1328.4769\n",
      "Iteration 2400: Accuracy: 82.75 Loss: 1271.1975\n",
      "Iteration 2450: Accuracy: 78.75 Loss: 1538.7476\n",
      "Iteration 2500: Accuracy: 79 Loss: 1525.5098\n",
      "Iteration 2550: Accuracy: 82 Loss: 1326.289\n",
      "Iteration 2600: Accuracy: 81 Loss: 1382.4397\n",
      "Iteration 2650: Accuracy: 81.25 Loss: 1381.5421\n",
      "Iteration 2700: Accuracy: 79.5 Loss: 1501.3171\n",
      "Iteration 2750: Accuracy: 77.75 Loss: 1613.106\n",
      "Iteration 2800: Accuracy: 82.5 Loss: 1244.6538\n",
      "Iteration 2850: Accuracy: 81.5 Loss: 1350.5038\n",
      "Iteration 2900: Accuracy: 81 Loss: 1378.0105\n",
      "Iteration 2950: Accuracy: 81.25 Loss: 1368.0164\n",
      "Accuracy after training:\n",
      "Accuracy: 81.6\n"
     ]
    },
    {
     "data": {
      "text/html": [
       "        <script type=\"text/javascript\">\n",
       "        window.PlotlyConfig = {MathJaxConfig: 'local'};\n",
       "        if (window.MathJax && window.MathJax.Hub && window.MathJax.Hub.Config) {window.MathJax.Hub.Config({SVG: {font: \"STIX-Web\"}});}\n",
       "        if (typeof require !== 'undefined') {\n",
       "        require.undef(\"plotly\");\n",
       "        requirejs.config({\n",
       "            paths: {\n",
       "                'plotly': ['https://cdn.plot.ly/plotly-2.20.0.min']\n",
       "            }\n",
       "        });\n",
       "        require(['plotly'], function(Plotly) {\n",
       "            window._Plotly = Plotly;\n",
       "        });\n",
       "        }\n",
       "        </script>\n",
       "        "
      ]
     },
     "metadata": {},
     "output_type": "display_data"
    },
    {
     "data": {
      "application/vnd.plotly.v1+json": {
       "config": {
        "linkText": "Export to plot.ly",
        "plotlyServerURL": "https://plot.ly",
        "showLink": false
       },
       "data": [
        {
         "mode": "lines",
         "name": "accuracy",
         "type": "scatter",
         "x": [
          0,
          1,
          2,
          3,
          4,
          5,
          6,
          7,
          8,
          9,
          10,
          11,
          12,
          13,
          14,
          15,
          16,
          17,
          18,
          19,
          20,
          21,
          22,
          23,
          24,
          25,
          26,
          27,
          28,
          29,
          30,
          31,
          32,
          33,
          34,
          35,
          36,
          37,
          38,
          39,
          40,
          41,
          42,
          43,
          44,
          45,
          46,
          47,
          48,
          49,
          50,
          51,
          52,
          53,
          54,
          55,
          56,
          57,
          58,
          59
         ],
         "y": [
          0.2675,
          0.4125,
          0.5025,
          0.63,
          0.595,
          0.5975,
          0.6425,
          0.6375,
          0.6725,
          0.695,
          0.675,
          0.7175,
          0.7025,
          0.71,
          0.695,
          0.7025,
          0.69,
          0.725,
          0.7425,
          0.7025,
          0.75,
          0.7525,
          0.7475,
          0.75,
          0.74,
          0.7375,
          0.7575,
          0.7225,
          0.77,
          0.7775,
          0.7325,
          0.7175,
          0.7525,
          0.7525,
          0.775,
          0.7775,
          0.7825,
          0.81,
          0.765,
          0.765,
          0.82,
          0.7775,
          0.7975,
          0.785,
          0.7875,
          0.805,
          0.81,
          0.8275,
          0.7875,
          0.79,
          0.82,
          0.81,
          0.8125,
          0.795,
          0.7775,
          0.825,
          0.815,
          0.81,
          0.8125,
          0.7925
         ]
        },
        {
         "mode": "lines",
         "name": "loss",
         "type": "scatter",
         "x": [
          0,
          1,
          2,
          3,
          4,
          5,
          6,
          7,
          8,
          9,
          10,
          11,
          12,
          13,
          14,
          15,
          16,
          17,
          18,
          19,
          20,
          21,
          22,
          23,
          24,
          25,
          26,
          27,
          28,
          29,
          30,
          31,
          32,
          33,
          34,
          35,
          36,
          37,
          38,
          39,
          40,
          41,
          42,
          43,
          44,
          45,
          46,
          47,
          48,
          49,
          50,
          51,
          52,
          53,
          54,
          55,
          56,
          57,
          58,
          59
         ],
         "y": [
          1,
          0.90827123854819,
          0.7943677700827089,
          0.5979342332142755,
          0.6647100098530568,
          0.662254206497333,
          0.6002102656535703,
          0.6153662684389537,
          0.5592587351138312,
          0.5100112149576982,
          0.541876261238643,
          0.46868883288647195,
          0.49477500805297914,
          0.5091698562780078,
          0.5154061780561056,
          0.5055046849390342,
          0.5420791252569848,
          0.4816306216899887,
          0.4495742283351176,
          0.5051822104954004,
          0.43194338518820286,
          0.4361864465992743,
          0.44208498735208573,
          0.43338430592794003,
          0.4625048850792508,
          0.45856079051832765,
          0.4265713375524628,
          0.48311687004386505,
          0.40403477939574234,
          0.3954376912582543,
          0.46663452383208115,
          0.48436170666312967,
          0.42332453624314315,
          0.43080963231044705,
          0.38677777804094704,
          0.38042297088611193,
          0.37341545793028963,
          0.33942874771437503,
          0.4174909226345558,
          0.41474926812630863,
          0.3111723834923402,
          0.39095887296188575,
          0.3573338954628568,
          0.37551317017366015,
          0.377245004784417,
          0.33633222920673417,
          0.3222045208003714,
          0.30831215478773294,
          0.37320288296652804,
          0.3699922312436642,
          0.32167385316103114,
          0.33529247709637994,
          0.33507478020104026,
          0.3641246293261078,
          0.39123752972496706,
          0.30187433089217536,
          0.3275468434690339,
          0.33421823336586104,
          0.33179428664816063,
          0.3627248320716999
         ]
        }
       ],
       "layout": {
        "template": {
         "data": {
          "bar": [
           {
            "error_x": {
             "color": "#2a3f5f"
            },
            "error_y": {
             "color": "#2a3f5f"
            },
            "marker": {
             "line": {
              "color": "#E5ECF6",
              "width": 0.5
             },
             "pattern": {
              "fillmode": "overlay",
              "size": 10,
              "solidity": 0.2
             }
            },
            "type": "bar"
           }
          ],
          "barpolar": [
           {
            "marker": {
             "line": {
              "color": "#E5ECF6",
              "width": 0.5
             },
             "pattern": {
              "fillmode": "overlay",
              "size": 10,
              "solidity": 0.2
             }
            },
            "type": "barpolar"
           }
          ],
          "carpet": [
           {
            "aaxis": {
             "endlinecolor": "#2a3f5f",
             "gridcolor": "white",
             "linecolor": "white",
             "minorgridcolor": "white",
             "startlinecolor": "#2a3f5f"
            },
            "baxis": {
             "endlinecolor": "#2a3f5f",
             "gridcolor": "white",
             "linecolor": "white",
             "minorgridcolor": "white",
             "startlinecolor": "#2a3f5f"
            },
            "type": "carpet"
           }
          ],
          "choropleth": [
           {
            "colorbar": {
             "outlinewidth": 0,
             "ticks": ""
            },
            "type": "choropleth"
           }
          ],
          "contour": [
           {
            "colorbar": {
             "outlinewidth": 0,
             "ticks": ""
            },
            "colorscale": [
             [
              0,
              "#0d0887"
             ],
             [
              0.1111111111111111,
              "#46039f"
             ],
             [
              0.2222222222222222,
              "#7201a8"
             ],
             [
              0.3333333333333333,
              "#9c179e"
             ],
             [
              0.4444444444444444,
              "#bd3786"
             ],
             [
              0.5555555555555556,
              "#d8576b"
             ],
             [
              0.6666666666666666,
              "#ed7953"
             ],
             [
              0.7777777777777778,
              "#fb9f3a"
             ],
             [
              0.8888888888888888,
              "#fdca26"
             ],
             [
              1,
              "#f0f921"
             ]
            ],
            "type": "contour"
           }
          ],
          "contourcarpet": [
           {
            "colorbar": {
             "outlinewidth": 0,
             "ticks": ""
            },
            "type": "contourcarpet"
           }
          ],
          "heatmap": [
           {
            "colorbar": {
             "outlinewidth": 0,
             "ticks": ""
            },
            "colorscale": [
             [
              0,
              "#0d0887"
             ],
             [
              0.1111111111111111,
              "#46039f"
             ],
             [
              0.2222222222222222,
              "#7201a8"
             ],
             [
              0.3333333333333333,
              "#9c179e"
             ],
             [
              0.4444444444444444,
              "#bd3786"
             ],
             [
              0.5555555555555556,
              "#d8576b"
             ],
             [
              0.6666666666666666,
              "#ed7953"
             ],
             [
              0.7777777777777778,
              "#fb9f3a"
             ],
             [
              0.8888888888888888,
              "#fdca26"
             ],
             [
              1,
              "#f0f921"
             ]
            ],
            "type": "heatmap"
           }
          ],
          "heatmapgl": [
           {
            "colorbar": {
             "outlinewidth": 0,
             "ticks": ""
            },
            "colorscale": [
             [
              0,
              "#0d0887"
             ],
             [
              0.1111111111111111,
              "#46039f"
             ],
             [
              0.2222222222222222,
              "#7201a8"
             ],
             [
              0.3333333333333333,
              "#9c179e"
             ],
             [
              0.4444444444444444,
              "#bd3786"
             ],
             [
              0.5555555555555556,
              "#d8576b"
             ],
             [
              0.6666666666666666,
              "#ed7953"
             ],
             [
              0.7777777777777778,
              "#fb9f3a"
             ],
             [
              0.8888888888888888,
              "#fdca26"
             ],
             [
              1,
              "#f0f921"
             ]
            ],
            "type": "heatmapgl"
           }
          ],
          "histogram": [
           {
            "marker": {
             "pattern": {
              "fillmode": "overlay",
              "size": 10,
              "solidity": 0.2
             }
            },
            "type": "histogram"
           }
          ],
          "histogram2d": [
           {
            "colorbar": {
             "outlinewidth": 0,
             "ticks": ""
            },
            "colorscale": [
             [
              0,
              "#0d0887"
             ],
             [
              0.1111111111111111,
              "#46039f"
             ],
             [
              0.2222222222222222,
              "#7201a8"
             ],
             [
              0.3333333333333333,
              "#9c179e"
             ],
             [
              0.4444444444444444,
              "#bd3786"
             ],
             [
              0.5555555555555556,
              "#d8576b"
             ],
             [
              0.6666666666666666,
              "#ed7953"
             ],
             [
              0.7777777777777778,
              "#fb9f3a"
             ],
             [
              0.8888888888888888,
              "#fdca26"
             ],
             [
              1,
              "#f0f921"
             ]
            ],
            "type": "histogram2d"
           }
          ],
          "histogram2dcontour": [
           {
            "colorbar": {
             "outlinewidth": 0,
             "ticks": ""
            },
            "colorscale": [
             [
              0,
              "#0d0887"
             ],
             [
              0.1111111111111111,
              "#46039f"
             ],
             [
              0.2222222222222222,
              "#7201a8"
             ],
             [
              0.3333333333333333,
              "#9c179e"
             ],
             [
              0.4444444444444444,
              "#bd3786"
             ],
             [
              0.5555555555555556,
              "#d8576b"
             ],
             [
              0.6666666666666666,
              "#ed7953"
             ],
             [
              0.7777777777777778,
              "#fb9f3a"
             ],
             [
              0.8888888888888888,
              "#fdca26"
             ],
             [
              1,
              "#f0f921"
             ]
            ],
            "type": "histogram2dcontour"
           }
          ],
          "mesh3d": [
           {
            "colorbar": {
             "outlinewidth": 0,
             "ticks": ""
            },
            "type": "mesh3d"
           }
          ],
          "parcoords": [
           {
            "line": {
             "colorbar": {
              "outlinewidth": 0,
              "ticks": ""
             }
            },
            "type": "parcoords"
           }
          ],
          "pie": [
           {
            "automargin": true,
            "type": "pie"
           }
          ],
          "scatter": [
           {
            "fillpattern": {
             "fillmode": "overlay",
             "size": 10,
             "solidity": 0.2
            },
            "type": "scatter"
           }
          ],
          "scatter3d": [
           {
            "line": {
             "colorbar": {
              "outlinewidth": 0,
              "ticks": ""
             }
            },
            "marker": {
             "colorbar": {
              "outlinewidth": 0,
              "ticks": ""
             }
            },
            "type": "scatter3d"
           }
          ],
          "scattercarpet": [
           {
            "marker": {
             "colorbar": {
              "outlinewidth": 0,
              "ticks": ""
             }
            },
            "type": "scattercarpet"
           }
          ],
          "scattergeo": [
           {
            "marker": {
             "colorbar": {
              "outlinewidth": 0,
              "ticks": ""
             }
            },
            "type": "scattergeo"
           }
          ],
          "scattergl": [
           {
            "marker": {
             "colorbar": {
              "outlinewidth": 0,
              "ticks": ""
             }
            },
            "type": "scattergl"
           }
          ],
          "scattermapbox": [
           {
            "marker": {
             "colorbar": {
              "outlinewidth": 0,
              "ticks": ""
             }
            },
            "type": "scattermapbox"
           }
          ],
          "scatterpolar": [
           {
            "marker": {
             "colorbar": {
              "outlinewidth": 0,
              "ticks": ""
             }
            },
            "type": "scatterpolar"
           }
          ],
          "scatterpolargl": [
           {
            "marker": {
             "colorbar": {
              "outlinewidth": 0,
              "ticks": ""
             }
            },
            "type": "scatterpolargl"
           }
          ],
          "scatterternary": [
           {
            "marker": {
             "colorbar": {
              "outlinewidth": 0,
              "ticks": ""
             }
            },
            "type": "scatterternary"
           }
          ],
          "surface": [
           {
            "colorbar": {
             "outlinewidth": 0,
             "ticks": ""
            },
            "colorscale": [
             [
              0,
              "#0d0887"
             ],
             [
              0.1111111111111111,
              "#46039f"
             ],
             [
              0.2222222222222222,
              "#7201a8"
             ],
             [
              0.3333333333333333,
              "#9c179e"
             ],
             [
              0.4444444444444444,
              "#bd3786"
             ],
             [
              0.5555555555555556,
              "#d8576b"
             ],
             [
              0.6666666666666666,
              "#ed7953"
             ],
             [
              0.7777777777777778,
              "#fb9f3a"
             ],
             [
              0.8888888888888888,
              "#fdca26"
             ],
             [
              1,
              "#f0f921"
             ]
            ],
            "type": "surface"
           }
          ],
          "table": [
           {
            "cells": {
             "fill": {
              "color": "#EBF0F8"
             },
             "line": {
              "color": "white"
             }
            },
            "header": {
             "fill": {
              "color": "#C8D4E3"
             },
             "line": {
              "color": "white"
             }
            },
            "type": "table"
           }
          ]
         },
         "layout": {
          "annotationdefaults": {
           "arrowcolor": "#2a3f5f",
           "arrowhead": 0,
           "arrowwidth": 1
          },
          "autotypenumbers": "strict",
          "coloraxis": {
           "colorbar": {
            "outlinewidth": 0,
            "ticks": ""
           }
          },
          "colorscale": {
           "diverging": [
            [
             0,
             "#8e0152"
            ],
            [
             0.1,
             "#c51b7d"
            ],
            [
             0.2,
             "#de77ae"
            ],
            [
             0.3,
             "#f1b6da"
            ],
            [
             0.4,
             "#fde0ef"
            ],
            [
             0.5,
             "#f7f7f7"
            ],
            [
             0.6,
             "#e6f5d0"
            ],
            [
             0.7,
             "#b8e186"
            ],
            [
             0.8,
             "#7fbc41"
            ],
            [
             0.9,
             "#4d9221"
            ],
            [
             1,
             "#276419"
            ]
           ],
           "sequential": [
            [
             0,
             "#0d0887"
            ],
            [
             0.1111111111111111,
             "#46039f"
            ],
            [
             0.2222222222222222,
             "#7201a8"
            ],
            [
             0.3333333333333333,
             "#9c179e"
            ],
            [
             0.4444444444444444,
             "#bd3786"
            ],
            [
             0.5555555555555556,
             "#d8576b"
            ],
            [
             0.6666666666666666,
             "#ed7953"
            ],
            [
             0.7777777777777778,
             "#fb9f3a"
            ],
            [
             0.8888888888888888,
             "#fdca26"
            ],
            [
             1,
             "#f0f921"
            ]
           ],
           "sequentialminus": [
            [
             0,
             "#0d0887"
            ],
            [
             0.1111111111111111,
             "#46039f"
            ],
            [
             0.2222222222222222,
             "#7201a8"
            ],
            [
             0.3333333333333333,
             "#9c179e"
            ],
            [
             0.4444444444444444,
             "#bd3786"
            ],
            [
             0.5555555555555556,
             "#d8576b"
            ],
            [
             0.6666666666666666,
             "#ed7953"
            ],
            [
             0.7777777777777778,
             "#fb9f3a"
            ],
            [
             0.8888888888888888,
             "#fdca26"
            ],
            [
             1,
             "#f0f921"
            ]
           ]
          },
          "colorway": [
           "#636efa",
           "#EF553B",
           "#00cc96",
           "#ab63fa",
           "#FFA15A",
           "#19d3f3",
           "#FF6692",
           "#B6E880",
           "#FF97FF",
           "#FECB52"
          ],
          "font": {
           "color": "#2a3f5f"
          },
          "geo": {
           "bgcolor": "white",
           "lakecolor": "white",
           "landcolor": "#E5ECF6",
           "showlakes": true,
           "showland": true,
           "subunitcolor": "white"
          },
          "hoverlabel": {
           "align": "left"
          },
          "hovermode": "closest",
          "mapbox": {
           "style": "light"
          },
          "paper_bgcolor": "white",
          "plot_bgcolor": "#E5ECF6",
          "polar": {
           "angularaxis": {
            "gridcolor": "white",
            "linecolor": "white",
            "ticks": ""
           },
           "bgcolor": "#E5ECF6",
           "radialaxis": {
            "gridcolor": "white",
            "linecolor": "white",
            "ticks": ""
           }
          },
          "scene": {
           "xaxis": {
            "backgroundcolor": "#E5ECF6",
            "gridcolor": "white",
            "gridwidth": 2,
            "linecolor": "white",
            "showbackground": true,
            "ticks": "",
            "zerolinecolor": "white"
           },
           "yaxis": {
            "backgroundcolor": "#E5ECF6",
            "gridcolor": "white",
            "gridwidth": 2,
            "linecolor": "white",
            "showbackground": true,
            "ticks": "",
            "zerolinecolor": "white"
           },
           "zaxis": {
            "backgroundcolor": "#E5ECF6",
            "gridcolor": "white",
            "gridwidth": 2,
            "linecolor": "white",
            "showbackground": true,
            "ticks": "",
            "zerolinecolor": "white"
           }
          },
          "shapedefaults": {
           "line": {
            "color": "#2a3f5f"
           }
          },
          "ternary": {
           "aaxis": {
            "gridcolor": "white",
            "linecolor": "white",
            "ticks": ""
           },
           "baxis": {
            "gridcolor": "white",
            "linecolor": "white",
            "ticks": ""
           },
           "bgcolor": "#E5ECF6",
           "caxis": {
            "gridcolor": "white",
            "linecolor": "white",
            "ticks": ""
           }
          },
          "title": {
           "x": 0.05
          },
          "xaxis": {
           "automargin": true,
           "gridcolor": "white",
           "linecolor": "white",
           "ticks": "",
           "title": {
            "standoff": 15
           },
           "zerolinecolor": "white",
           "zerolinewidth": 2
          },
          "yaxis": {
           "automargin": true,
           "gridcolor": "white",
           "linecolor": "white",
           "ticks": "",
           "title": {
            "standoff": 15
           },
           "zerolinecolor": "white",
           "zerolinewidth": 2
          }
         }
        }
       }
      },
      "text/html": [
       "<div>                            <div id=\"d66c94b2-ed33-4963-8278-76ed9b96f25d\" class=\"plotly-graph-div\" style=\"height:525px; width:100%;\"></div>            <script type=\"text/javascript\">                require([\"plotly\"], function(Plotly) {                    window.PLOTLYENV=window.PLOTLYENV || {};                                    if (document.getElementById(\"d66c94b2-ed33-4963-8278-76ed9b96f25d\")) {                    Plotly.newPlot(                        \"d66c94b2-ed33-4963-8278-76ed9b96f25d\",                        [{\"mode\":\"lines\",\"name\":\"accuracy\",\"x\":[0,1,2,3,4,5,6,7,8,9,10,11,12,13,14,15,16,17,18,19,20,21,22,23,24,25,26,27,28,29,30,31,32,33,34,35,36,37,38,39,40,41,42,43,44,45,46,47,48,49,50,51,52,53,54,55,56,57,58,59],\"y\":[0.2675,0.4125,0.5025,0.63,0.595,0.5975,0.6425,0.6375,0.6725,0.695,0.675,0.7175,0.7025,0.71,0.695,0.7025,0.69,0.725,0.7425,0.7025,0.75,0.7525,0.7475,0.75,0.74,0.7375,0.7575,0.7225,0.77,0.7775,0.7325,0.7175,0.7525,0.7525,0.775,0.7775,0.7825,0.81,0.765,0.765,0.82,0.7775,0.7975,0.785,0.7875,0.805,0.81,0.8275,0.7875,0.79,0.82,0.81,0.8125,0.795,0.7775,0.825,0.815,0.81,0.8125,0.7925],\"type\":\"scatter\"},{\"mode\":\"lines\",\"name\":\"loss\",\"x\":[0,1,2,3,4,5,6,7,8,9,10,11,12,13,14,15,16,17,18,19,20,21,22,23,24,25,26,27,28,29,30,31,32,33,34,35,36,37,38,39,40,41,42,43,44,45,46,47,48,49,50,51,52,53,54,55,56,57,58,59],\"y\":[1.0,0.90827123854819,0.7943677700827089,0.5979342332142755,0.6647100098530568,0.662254206497333,0.6002102656535703,0.6153662684389537,0.5592587351138312,0.5100112149576982,0.541876261238643,0.46868883288647195,0.49477500805297914,0.5091698562780078,0.5154061780561056,0.5055046849390342,0.5420791252569848,0.4816306216899887,0.4495742283351176,0.5051822104954004,0.43194338518820286,0.4361864465992743,0.44208498735208573,0.43338430592794003,0.4625048850792508,0.45856079051832765,0.4265713375524628,0.48311687004386505,0.40403477939574234,0.3954376912582543,0.46663452383208115,0.48436170666312967,0.42332453624314315,0.43080963231044705,0.38677777804094704,0.38042297088611193,0.37341545793028963,0.33942874771437503,0.4174909226345558,0.41474926812630863,0.3111723834923402,0.39095887296188575,0.3573338954628568,0.37551317017366015,0.377245004784417,0.33633222920673417,0.3222045208003714,0.30831215478773294,0.37320288296652804,0.3699922312436642,0.32167385316103114,0.33529247709637994,0.33507478020104026,0.3641246293261078,0.39123752972496706,0.30187433089217536,0.3275468434690339,0.33421823336586104,0.33179428664816063,0.3627248320716999],\"type\":\"scatter\"}],                        {\"template\":{\"data\":{\"barpolar\":[{\"marker\":{\"line\":{\"color\":\"#E5ECF6\",\"width\":0.5},\"pattern\":{\"fillmode\":\"overlay\",\"size\":10,\"solidity\":0.2}},\"type\":\"barpolar\"}],\"bar\":[{\"error_x\":{\"color\":\"#2a3f5f\"},\"error_y\":{\"color\":\"#2a3f5f\"},\"marker\":{\"line\":{\"color\":\"#E5ECF6\",\"width\":0.5},\"pattern\":{\"fillmode\":\"overlay\",\"size\":10,\"solidity\":0.2}},\"type\":\"bar\"}],\"carpet\":[{\"aaxis\":{\"endlinecolor\":\"#2a3f5f\",\"gridcolor\":\"white\",\"linecolor\":\"white\",\"minorgridcolor\":\"white\",\"startlinecolor\":\"#2a3f5f\"},\"baxis\":{\"endlinecolor\":\"#2a3f5f\",\"gridcolor\":\"white\",\"linecolor\":\"white\",\"minorgridcolor\":\"white\",\"startlinecolor\":\"#2a3f5f\"},\"type\":\"carpet\"}],\"choropleth\":[{\"colorbar\":{\"outlinewidth\":0,\"ticks\":\"\"},\"type\":\"choropleth\"}],\"contourcarpet\":[{\"colorbar\":{\"outlinewidth\":0,\"ticks\":\"\"},\"type\":\"contourcarpet\"}],\"contour\":[{\"colorbar\":{\"outlinewidth\":0,\"ticks\":\"\"},\"colorscale\":[[0.0,\"#0d0887\"],[0.1111111111111111,\"#46039f\"],[0.2222222222222222,\"#7201a8\"],[0.3333333333333333,\"#9c179e\"],[0.4444444444444444,\"#bd3786\"],[0.5555555555555556,\"#d8576b\"],[0.6666666666666666,\"#ed7953\"],[0.7777777777777778,\"#fb9f3a\"],[0.8888888888888888,\"#fdca26\"],[1.0,\"#f0f921\"]],\"type\":\"contour\"}],\"heatmapgl\":[{\"colorbar\":{\"outlinewidth\":0,\"ticks\":\"\"},\"colorscale\":[[0.0,\"#0d0887\"],[0.1111111111111111,\"#46039f\"],[0.2222222222222222,\"#7201a8\"],[0.3333333333333333,\"#9c179e\"],[0.4444444444444444,\"#bd3786\"],[0.5555555555555556,\"#d8576b\"],[0.6666666666666666,\"#ed7953\"],[0.7777777777777778,\"#fb9f3a\"],[0.8888888888888888,\"#fdca26\"],[1.0,\"#f0f921\"]],\"type\":\"heatmapgl\"}],\"heatmap\":[{\"colorbar\":{\"outlinewidth\":0,\"ticks\":\"\"},\"colorscale\":[[0.0,\"#0d0887\"],[0.1111111111111111,\"#46039f\"],[0.2222222222222222,\"#7201a8\"],[0.3333333333333333,\"#9c179e\"],[0.4444444444444444,\"#bd3786\"],[0.5555555555555556,\"#d8576b\"],[0.6666666666666666,\"#ed7953\"],[0.7777777777777778,\"#fb9f3a\"],[0.8888888888888888,\"#fdca26\"],[1.0,\"#f0f921\"]],\"type\":\"heatmap\"}],\"histogram2dcontour\":[{\"colorbar\":{\"outlinewidth\":0,\"ticks\":\"\"},\"colorscale\":[[0.0,\"#0d0887\"],[0.1111111111111111,\"#46039f\"],[0.2222222222222222,\"#7201a8\"],[0.3333333333333333,\"#9c179e\"],[0.4444444444444444,\"#bd3786\"],[0.5555555555555556,\"#d8576b\"],[0.6666666666666666,\"#ed7953\"],[0.7777777777777778,\"#fb9f3a\"],[0.8888888888888888,\"#fdca26\"],[1.0,\"#f0f921\"]],\"type\":\"histogram2dcontour\"}],\"histogram2d\":[{\"colorbar\":{\"outlinewidth\":0,\"ticks\":\"\"},\"colorscale\":[[0.0,\"#0d0887\"],[0.1111111111111111,\"#46039f\"],[0.2222222222222222,\"#7201a8\"],[0.3333333333333333,\"#9c179e\"],[0.4444444444444444,\"#bd3786\"],[0.5555555555555556,\"#d8576b\"],[0.6666666666666666,\"#ed7953\"],[0.7777777777777778,\"#fb9f3a\"],[0.8888888888888888,\"#fdca26\"],[1.0,\"#f0f921\"]],\"type\":\"histogram2d\"}],\"histogram\":[{\"marker\":{\"pattern\":{\"fillmode\":\"overlay\",\"size\":10,\"solidity\":0.2}},\"type\":\"histogram\"}],\"mesh3d\":[{\"colorbar\":{\"outlinewidth\":0,\"ticks\":\"\"},\"type\":\"mesh3d\"}],\"parcoords\":[{\"line\":{\"colorbar\":{\"outlinewidth\":0,\"ticks\":\"\"}},\"type\":\"parcoords\"}],\"pie\":[{\"automargin\":true,\"type\":\"pie\"}],\"scatter3d\":[{\"line\":{\"colorbar\":{\"outlinewidth\":0,\"ticks\":\"\"}},\"marker\":{\"colorbar\":{\"outlinewidth\":0,\"ticks\":\"\"}},\"type\":\"scatter3d\"}],\"scattercarpet\":[{\"marker\":{\"colorbar\":{\"outlinewidth\":0,\"ticks\":\"\"}},\"type\":\"scattercarpet\"}],\"scattergeo\":[{\"marker\":{\"colorbar\":{\"outlinewidth\":0,\"ticks\":\"\"}},\"type\":\"scattergeo\"}],\"scattergl\":[{\"marker\":{\"colorbar\":{\"outlinewidth\":0,\"ticks\":\"\"}},\"type\":\"scattergl\"}],\"scattermapbox\":[{\"marker\":{\"colorbar\":{\"outlinewidth\":0,\"ticks\":\"\"}},\"type\":\"scattermapbox\"}],\"scatterpolargl\":[{\"marker\":{\"colorbar\":{\"outlinewidth\":0,\"ticks\":\"\"}},\"type\":\"scatterpolargl\"}],\"scatterpolar\":[{\"marker\":{\"colorbar\":{\"outlinewidth\":0,\"ticks\":\"\"}},\"type\":\"scatterpolar\"}],\"scatter\":[{\"fillpattern\":{\"fillmode\":\"overlay\",\"size\":10,\"solidity\":0.2},\"type\":\"scatter\"}],\"scatterternary\":[{\"marker\":{\"colorbar\":{\"outlinewidth\":0,\"ticks\":\"\"}},\"type\":\"scatterternary\"}],\"surface\":[{\"colorbar\":{\"outlinewidth\":0,\"ticks\":\"\"},\"colorscale\":[[0.0,\"#0d0887\"],[0.1111111111111111,\"#46039f\"],[0.2222222222222222,\"#7201a8\"],[0.3333333333333333,\"#9c179e\"],[0.4444444444444444,\"#bd3786\"],[0.5555555555555556,\"#d8576b\"],[0.6666666666666666,\"#ed7953\"],[0.7777777777777778,\"#fb9f3a\"],[0.8888888888888888,\"#fdca26\"],[1.0,\"#f0f921\"]],\"type\":\"surface\"}],\"table\":[{\"cells\":{\"fill\":{\"color\":\"#EBF0F8\"},\"line\":{\"color\":\"white\"}},\"header\":{\"fill\":{\"color\":\"#C8D4E3\"},\"line\":{\"color\":\"white\"}},\"type\":\"table\"}]},\"layout\":{\"annotationdefaults\":{\"arrowcolor\":\"#2a3f5f\",\"arrowhead\":0,\"arrowwidth\":1},\"autotypenumbers\":\"strict\",\"coloraxis\":{\"colorbar\":{\"outlinewidth\":0,\"ticks\":\"\"}},\"colorscale\":{\"diverging\":[[0,\"#8e0152\"],[0.1,\"#c51b7d\"],[0.2,\"#de77ae\"],[0.3,\"#f1b6da\"],[0.4,\"#fde0ef\"],[0.5,\"#f7f7f7\"],[0.6,\"#e6f5d0\"],[0.7,\"#b8e186\"],[0.8,\"#7fbc41\"],[0.9,\"#4d9221\"],[1,\"#276419\"]],\"sequential\":[[0.0,\"#0d0887\"],[0.1111111111111111,\"#46039f\"],[0.2222222222222222,\"#7201a8\"],[0.3333333333333333,\"#9c179e\"],[0.4444444444444444,\"#bd3786\"],[0.5555555555555556,\"#d8576b\"],[0.6666666666666666,\"#ed7953\"],[0.7777777777777778,\"#fb9f3a\"],[0.8888888888888888,\"#fdca26\"],[1.0,\"#f0f921\"]],\"sequentialminus\":[[0.0,\"#0d0887\"],[0.1111111111111111,\"#46039f\"],[0.2222222222222222,\"#7201a8\"],[0.3333333333333333,\"#9c179e\"],[0.4444444444444444,\"#bd3786\"],[0.5555555555555556,\"#d8576b\"],[0.6666666666666666,\"#ed7953\"],[0.7777777777777778,\"#fb9f3a\"],[0.8888888888888888,\"#fdca26\"],[1.0,\"#f0f921\"]]},\"colorway\":[\"#636efa\",\"#EF553B\",\"#00cc96\",\"#ab63fa\",\"#FFA15A\",\"#19d3f3\",\"#FF6692\",\"#B6E880\",\"#FF97FF\",\"#FECB52\"],\"font\":{\"color\":\"#2a3f5f\"},\"geo\":{\"bgcolor\":\"white\",\"lakecolor\":\"white\",\"landcolor\":\"#E5ECF6\",\"showlakes\":true,\"showland\":true,\"subunitcolor\":\"white\"},\"hoverlabel\":{\"align\":\"left\"},\"hovermode\":\"closest\",\"mapbox\":{\"style\":\"light\"},\"paper_bgcolor\":\"white\",\"plot_bgcolor\":\"#E5ECF6\",\"polar\":{\"angularaxis\":{\"gridcolor\":\"white\",\"linecolor\":\"white\",\"ticks\":\"\"},\"bgcolor\":\"#E5ECF6\",\"radialaxis\":{\"gridcolor\":\"white\",\"linecolor\":\"white\",\"ticks\":\"\"}},\"scene\":{\"xaxis\":{\"backgroundcolor\":\"#E5ECF6\",\"gridcolor\":\"white\",\"gridwidth\":2,\"linecolor\":\"white\",\"showbackground\":true,\"ticks\":\"\",\"zerolinecolor\":\"white\"},\"yaxis\":{\"backgroundcolor\":\"#E5ECF6\",\"gridcolor\":\"white\",\"gridwidth\":2,\"linecolor\":\"white\",\"showbackground\":true,\"ticks\":\"\",\"zerolinecolor\":\"white\"},\"zaxis\":{\"backgroundcolor\":\"#E5ECF6\",\"gridcolor\":\"white\",\"gridwidth\":2,\"linecolor\":\"white\",\"showbackground\":true,\"ticks\":\"\",\"zerolinecolor\":\"white\"}},\"shapedefaults\":{\"line\":{\"color\":\"#2a3f5f\"}},\"ternary\":{\"aaxis\":{\"gridcolor\":\"white\",\"linecolor\":\"white\",\"ticks\":\"\"},\"baxis\":{\"gridcolor\":\"white\",\"linecolor\":\"white\",\"ticks\":\"\"},\"bgcolor\":\"#E5ECF6\",\"caxis\":{\"gridcolor\":\"white\",\"linecolor\":\"white\",\"ticks\":\"\"}},\"title\":{\"x\":0.05},\"xaxis\":{\"automargin\":true,\"gridcolor\":\"white\",\"linecolor\":\"white\",\"ticks\":\"\",\"title\":{\"standoff\":15},\"zerolinecolor\":\"white\",\"zerolinewidth\":2},\"yaxis\":{\"automargin\":true,\"gridcolor\":\"white\",\"linecolor\":\"white\",\"ticks\":\"\",\"title\":{\"standoff\":15},\"zerolinecolor\":\"white\",\"zerolinewidth\":2}}}},                        {\"responsive\": true}                    ).then(function(){\n",
       "                            \n",
       "var gd = document.getElementById('d66c94b2-ed33-4963-8278-76ed9b96f25d');\n",
       "var x = new MutationObserver(function (mutations, observer) {{\n",
       "        var display = window.getComputedStyle(gd).display;\n",
       "        if (!display || display === 'none') {{\n",
       "            console.log([gd, 'removed!']);\n",
       "            Plotly.purge(gd);\n",
       "            observer.disconnect();\n",
       "        }}\n",
       "}});\n",
       "\n",
       "// Listen for the removal of the full notebook cells\n",
       "var notebookContainer = gd.closest('#notebook-container');\n",
       "if (notebookContainer) {{\n",
       "    x.observe(notebookContainer, {childList: true});\n",
       "}}\n",
       "\n",
       "// Listen for the clearing of the current output cell\n",
       "var outputEl = gd.closest('.output');\n",
       "if (outputEl) {{\n",
       "    x.observe(outputEl, {childList: true});\n",
       "}}\n",
       "\n",
       "                        })                };                });            </script>        </div>"
      ]
     },
     "metadata": {},
     "output_type": "display_data"
    }
   ],
   "source": [
    "# Now train the model\n",
    "train_using_raw_data()\n",
    "# train_using_set_img_loader()"
   ]
  },
  {
   "cell_type": "code",
   "execution_count": 9,
   "metadata": {},
   "outputs": [
    {
     "name": "stdout",
     "output_type": "stream",
     "text": [
      "Label: cat 2.0\n",
      "Prediction: cat (2.0)\n"
     ]
    },
    {
     "data": {
      "application/vnd.plotly.v1+json": {
       "config": {
        "plotlyServerURL": "https://plot.ly"
       },
       "data": [
        {
         "hovertemplate": "x: %{x}<br>y: %{y}<extra></extra>",
         "name": "0",
         "source": "data:image/png;base64,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",
         "type": "image",
         "xaxis": "x",
         "yaxis": "y"
        }
       ],
       "layout": {
        "margin": {
         "t": 60
        },
        "template": {
         "data": {
          "bar": [
           {
            "error_x": {
             "color": "#2a3f5f"
            },
            "error_y": {
             "color": "#2a3f5f"
            },
            "marker": {
             "line": {
              "color": "#E5ECF6",
              "width": 0.5
             },
             "pattern": {
              "fillmode": "overlay",
              "size": 10,
              "solidity": 0.2
             }
            },
            "type": "bar"
           }
          ],
          "barpolar": [
           {
            "marker": {
             "line": {
              "color": "#E5ECF6",
              "width": 0.5
             },
             "pattern": {
              "fillmode": "overlay",
              "size": 10,
              "solidity": 0.2
             }
            },
            "type": "barpolar"
           }
          ],
          "carpet": [
           {
            "aaxis": {
             "endlinecolor": "#2a3f5f",
             "gridcolor": "white",
             "linecolor": "white",
             "minorgridcolor": "white",
             "startlinecolor": "#2a3f5f"
            },
            "baxis": {
             "endlinecolor": "#2a3f5f",
             "gridcolor": "white",
             "linecolor": "white",
             "minorgridcolor": "white",
             "startlinecolor": "#2a3f5f"
            },
            "type": "carpet"
           }
          ],
          "choropleth": [
           {
            "colorbar": {
             "outlinewidth": 0,
             "ticks": ""
            },
            "type": "choropleth"
           }
          ],
          "contour": [
           {
            "colorbar": {
             "outlinewidth": 0,
             "ticks": ""
            },
            "colorscale": [
             [
              0,
              "#0d0887"
             ],
             [
              0.1111111111111111,
              "#46039f"
             ],
             [
              0.2222222222222222,
              "#7201a8"
             ],
             [
              0.3333333333333333,
              "#9c179e"
             ],
             [
              0.4444444444444444,
              "#bd3786"
             ],
             [
              0.5555555555555556,
              "#d8576b"
             ],
             [
              0.6666666666666666,
              "#ed7953"
             ],
             [
              0.7777777777777778,
              "#fb9f3a"
             ],
             [
              0.8888888888888888,
              "#fdca26"
             ],
             [
              1,
              "#f0f921"
             ]
            ],
            "type": "contour"
           }
          ],
          "contourcarpet": [
           {
            "colorbar": {
             "outlinewidth": 0,
             "ticks": ""
            },
            "type": "contourcarpet"
           }
          ],
          "heatmap": [
           {
            "colorbar": {
             "outlinewidth": 0,
             "ticks": ""
            },
            "colorscale": [
             [
              0,
              "#0d0887"
             ],
             [
              0.1111111111111111,
              "#46039f"
             ],
             [
              0.2222222222222222,
              "#7201a8"
             ],
             [
              0.3333333333333333,
              "#9c179e"
             ],
             [
              0.4444444444444444,
              "#bd3786"
             ],
             [
              0.5555555555555556,
              "#d8576b"
             ],
             [
              0.6666666666666666,
              "#ed7953"
             ],
             [
              0.7777777777777778,
              "#fb9f3a"
             ],
             [
              0.8888888888888888,
              "#fdca26"
             ],
             [
              1,
              "#f0f921"
             ]
            ],
            "type": "heatmap"
           }
          ],
          "heatmapgl": [
           {
            "colorbar": {
             "outlinewidth": 0,
             "ticks": ""
            },
            "colorscale": [
             [
              0,
              "#0d0887"
             ],
             [
              0.1111111111111111,
              "#46039f"
             ],
             [
              0.2222222222222222,
              "#7201a8"
             ],
             [
              0.3333333333333333,
              "#9c179e"
             ],
             [
              0.4444444444444444,
              "#bd3786"
             ],
             [
              0.5555555555555556,
              "#d8576b"
             ],
             [
              0.6666666666666666,
              "#ed7953"
             ],
             [
              0.7777777777777778,
              "#fb9f3a"
             ],
             [
              0.8888888888888888,
              "#fdca26"
             ],
             [
              1,
              "#f0f921"
             ]
            ],
            "type": "heatmapgl"
           }
          ],
          "histogram": [
           {
            "marker": {
             "pattern": {
              "fillmode": "overlay",
              "size": 10,
              "solidity": 0.2
             }
            },
            "type": "histogram"
           }
          ],
          "histogram2d": [
           {
            "colorbar": {
             "outlinewidth": 0,
             "ticks": ""
            },
            "colorscale": [
             [
              0,
              "#0d0887"
             ],
             [
              0.1111111111111111,
              "#46039f"
             ],
             [
              0.2222222222222222,
              "#7201a8"
             ],
             [
              0.3333333333333333,
              "#9c179e"
             ],
             [
              0.4444444444444444,
              "#bd3786"
             ],
             [
              0.5555555555555556,
              "#d8576b"
             ],
             [
              0.6666666666666666,
              "#ed7953"
             ],
             [
              0.7777777777777778,
              "#fb9f3a"
             ],
             [
              0.8888888888888888,
              "#fdca26"
             ],
             [
              1,
              "#f0f921"
             ]
            ],
            "type": "histogram2d"
           }
          ],
          "histogram2dcontour": [
           {
            "colorbar": {
             "outlinewidth": 0,
             "ticks": ""
            },
            "colorscale": [
             [
              0,
              "#0d0887"
             ],
             [
              0.1111111111111111,
              "#46039f"
             ],
             [
              0.2222222222222222,
              "#7201a8"
             ],
             [
              0.3333333333333333,
              "#9c179e"
             ],
             [
              0.4444444444444444,
              "#bd3786"
             ],
             [
              0.5555555555555556,
              "#d8576b"
             ],
             [
              0.6666666666666666,
              "#ed7953"
             ],
             [
              0.7777777777777778,
              "#fb9f3a"
             ],
             [
              0.8888888888888888,
              "#fdca26"
             ],
             [
              1,
              "#f0f921"
             ]
            ],
            "type": "histogram2dcontour"
           }
          ],
          "mesh3d": [
           {
            "colorbar": {
             "outlinewidth": 0,
             "ticks": ""
            },
            "type": "mesh3d"
           }
          ],
          "parcoords": [
           {
            "line": {
             "colorbar": {
              "outlinewidth": 0,
              "ticks": ""
             }
            },
            "type": "parcoords"
           }
          ],
          "pie": [
           {
            "automargin": true,
            "type": "pie"
           }
          ],
          "scatter": [
           {
            "fillpattern": {
             "fillmode": "overlay",
             "size": 10,
             "solidity": 0.2
            },
            "type": "scatter"
           }
          ],
          "scatter3d": [
           {
            "line": {
             "colorbar": {
              "outlinewidth": 0,
              "ticks": ""
             }
            },
            "marker": {
             "colorbar": {
              "outlinewidth": 0,
              "ticks": ""
             }
            },
            "type": "scatter3d"
           }
          ],
          "scattercarpet": [
           {
            "marker": {
             "colorbar": {
              "outlinewidth": 0,
              "ticks": ""
             }
            },
            "type": "scattercarpet"
           }
          ],
          "scattergeo": [
           {
            "marker": {
             "colorbar": {
              "outlinewidth": 0,
              "ticks": ""
             }
            },
            "type": "scattergeo"
           }
          ],
          "scattergl": [
           {
            "marker": {
             "colorbar": {
              "outlinewidth": 0,
              "ticks": ""
             }
            },
            "type": "scattergl"
           }
          ],
          "scattermapbox": [
           {
            "marker": {
             "colorbar": {
              "outlinewidth": 0,
              "ticks": ""
             }
            },
            "type": "scattermapbox"
           }
          ],
          "scatterpolar": [
           {
            "marker": {
             "colorbar": {
              "outlinewidth": 0,
              "ticks": ""
             }
            },
            "type": "scatterpolar"
           }
          ],
          "scatterpolargl": [
           {
            "marker": {
             "colorbar": {
              "outlinewidth": 0,
              "ticks": ""
             }
            },
            "type": "scatterpolargl"
           }
          ],
          "scatterternary": [
           {
            "marker": {
             "colorbar": {
              "outlinewidth": 0,
              "ticks": ""
             }
            },
            "type": "scatterternary"
           }
          ],
          "surface": [
           {
            "colorbar": {
             "outlinewidth": 0,
             "ticks": ""
            },
            "colorscale": [
             [
              0,
              "#0d0887"
             ],
             [
              0.1111111111111111,
              "#46039f"
             ],
             [
              0.2222222222222222,
              "#7201a8"
             ],
             [
              0.3333333333333333,
              "#9c179e"
             ],
             [
              0.4444444444444444,
              "#bd3786"
             ],
             [
              0.5555555555555556,
              "#d8576b"
             ],
             [
              0.6666666666666666,
              "#ed7953"
             ],
             [
              0.7777777777777778,
              "#fb9f3a"
             ],
             [
              0.8888888888888888,
              "#fdca26"
             ],
             [
              1,
              "#f0f921"
             ]
            ],
            "type": "surface"
           }
          ],
          "table": [
           {
            "cells": {
             "fill": {
              "color": "#EBF0F8"
             },
             "line": {
              "color": "white"
             }
            },
            "header": {
             "fill": {
              "color": "#C8D4E3"
             },
             "line": {
              "color": "white"
             }
            },
            "type": "table"
           }
          ]
         },
         "layout": {
          "annotationdefaults": {
           "arrowcolor": "#2a3f5f",
           "arrowhead": 0,
           "arrowwidth": 1
          },
          "autotypenumbers": "strict",
          "coloraxis": {
           "colorbar": {
            "outlinewidth": 0,
            "ticks": ""
           }
          },
          "colorscale": {
           "diverging": [
            [
             0,
             "#8e0152"
            ],
            [
             0.1,
             "#c51b7d"
            ],
            [
             0.2,
             "#de77ae"
            ],
            [
             0.3,
             "#f1b6da"
            ],
            [
             0.4,
             "#fde0ef"
            ],
            [
             0.5,
             "#f7f7f7"
            ],
            [
             0.6,
             "#e6f5d0"
            ],
            [
             0.7,
             "#b8e186"
            ],
            [
             0.8,
             "#7fbc41"
            ],
            [
             0.9,
             "#4d9221"
            ],
            [
             1,
             "#276419"
            ]
           ],
           "sequential": [
            [
             0,
             "#0d0887"
            ],
            [
             0.1111111111111111,
             "#46039f"
            ],
            [
             0.2222222222222222,
             "#7201a8"
            ],
            [
             0.3333333333333333,
             "#9c179e"
            ],
            [
             0.4444444444444444,
             "#bd3786"
            ],
            [
             0.5555555555555556,
             "#d8576b"
            ],
            [
             0.6666666666666666,
             "#ed7953"
            ],
            [
             0.7777777777777778,
             "#fb9f3a"
            ],
            [
             0.8888888888888888,
             "#fdca26"
            ],
            [
             1,
             "#f0f921"
            ]
           ],
           "sequentialminus": [
            [
             0,
             "#0d0887"
            ],
            [
             0.1111111111111111,
             "#46039f"
            ],
            [
             0.2222222222222222,
             "#7201a8"
            ],
            [
             0.3333333333333333,
             "#9c179e"
            ],
            [
             0.4444444444444444,
             "#bd3786"
            ],
            [
             0.5555555555555556,
             "#d8576b"
            ],
            [
             0.6666666666666666,
             "#ed7953"
            ],
            [
             0.7777777777777778,
             "#fb9f3a"
            ],
            [
             0.8888888888888888,
             "#fdca26"
            ],
            [
             1,
             "#f0f921"
            ]
           ]
          },
          "colorway": [
           "#636efa",
           "#EF553B",
           "#00cc96",
           "#ab63fa",
           "#FFA15A",
           "#19d3f3",
           "#FF6692",
           "#B6E880",
           "#FF97FF",
           "#FECB52"
          ],
          "font": {
           "color": "#2a3f5f"
          },
          "geo": {
           "bgcolor": "white",
           "lakecolor": "white",
           "landcolor": "#E5ECF6",
           "showlakes": true,
           "showland": true,
           "subunitcolor": "white"
          },
          "hoverlabel": {
           "align": "left"
          },
          "hovermode": "closest",
          "mapbox": {
           "style": "light"
          },
          "paper_bgcolor": "white",
          "plot_bgcolor": "#E5ECF6",
          "polar": {
           "angularaxis": {
            "gridcolor": "white",
            "linecolor": "white",
            "ticks": ""
           },
           "bgcolor": "#E5ECF6",
           "radialaxis": {
            "gridcolor": "white",
            "linecolor": "white",
            "ticks": ""
           }
          },
          "scene": {
           "xaxis": {
            "backgroundcolor": "#E5ECF6",
            "gridcolor": "white",
            "gridwidth": 2,
            "linecolor": "white",
            "showbackground": true,
            "ticks": "",
            "zerolinecolor": "white"
           },
           "yaxis": {
            "backgroundcolor": "#E5ECF6",
            "gridcolor": "white",
            "gridwidth": 2,
            "linecolor": "white",
            "showbackground": true,
            "ticks": "",
            "zerolinecolor": "white"
           },
           "zaxis": {
            "backgroundcolor": "#E5ECF6",
            "gridcolor": "white",
            "gridwidth": 2,
            "linecolor": "white",
            "showbackground": true,
            "ticks": "",
            "zerolinecolor": "white"
           }
          },
          "shapedefaults": {
           "line": {
            "color": "#2a3f5f"
           }
          },
          "ternary": {
           "aaxis": {
            "gridcolor": "white",
            "linecolor": "white",
            "ticks": ""
           },
           "baxis": {
            "gridcolor": "white",
            "linecolor": "white",
            "ticks": ""
           },
           "bgcolor": "#E5ECF6",
           "caxis": {
            "gridcolor": "white",
            "linecolor": "white",
            "ticks": ""
           }
          },
          "title": {
           "x": 0.05
          },
          "xaxis": {
           "automargin": true,
           "gridcolor": "white",
           "linecolor": "white",
           "ticks": "",
           "title": {
            "standoff": 15
           },
           "zerolinecolor": "white",
           "zerolinewidth": 2
          },
          "yaxis": {
           "automargin": true,
           "gridcolor": "white",
           "linecolor": "white",
           "ticks": "",
           "title": {
            "standoff": 15
           },
           "zerolinecolor": "white",
           "zerolinewidth": 2
          }
         }
        },
        "xaxis": {
         "anchor": "y",
         "domain": [
          0,
          1
         ]
        },
        "yaxis": {
         "anchor": "x",
         "domain": [
          0,
          1
         ]
        }
       }
      },
      "text/html": [
       "<div>                            <div id=\"8af50533-089f-4dfa-a1a0-31254df05a7c\" class=\"plotly-graph-div\" style=\"height:525px; width:100%;\"></div>            <script type=\"text/javascript\">                require([\"plotly\"], function(Plotly) {                    window.PLOTLYENV=window.PLOTLYENV || {};                                    if (document.getElementById(\"8af50533-089f-4dfa-a1a0-31254df05a7c\")) {                    Plotly.newPlot(                        \"8af50533-089f-4dfa-a1a0-31254df05a7c\",                        [{\"name\":\"0\",\"source\":\"data:image/png;base64,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\",\"type\":\"image\",\"xaxis\":\"x\",\"yaxis\":\"y\",\"hovertemplate\":\"x: %{x}<br>y: %{y}<extra></extra>\"}],                        {\"template\":{\"data\":{\"histogram2dcontour\":[{\"type\":\"histogram2dcontour\",\"colorbar\":{\"outlinewidth\":0,\"ticks\":\"\"},\"colorscale\":[[0.0,\"#0d0887\"],[0.1111111111111111,\"#46039f\"],[0.2222222222222222,\"#7201a8\"],[0.3333333333333333,\"#9c179e\"],[0.4444444444444444,\"#bd3786\"],[0.5555555555555556,\"#d8576b\"],[0.6666666666666666,\"#ed7953\"],[0.7777777777777778,\"#fb9f3a\"],[0.8888888888888888,\"#fdca26\"],[1.0,\"#f0f921\"]]}],\"choropleth\":[{\"type\":\"choropleth\",\"colorbar\":{\"outlinewidth\":0,\"ticks\":\"\"}}],\"histogram2d\":[{\"type\":\"histogram2d\",\"colorbar\":{\"outlinewidth\":0,\"ticks\":\"\"},\"colorscale\":[[0.0,\"#0d0887\"],[0.1111111111111111,\"#46039f\"],[0.2222222222222222,\"#7201a8\"],[0.3333333333333333,\"#9c179e\"],[0.4444444444444444,\"#bd3786\"],[0.5555555555555556,\"#d8576b\"],[0.6666666666666666,\"#ed7953\"],[0.7777777777777778,\"#fb9f3a\"],[0.8888888888888888,\"#fdca26\"],[1.0,\"#f0f921\"]]}],\"heatmap\":[{\"type\":\"heatmap\",\"colorbar\":{\"outlinewidth\":0,\"ticks\":\"\"},\"colorscale\":[[0.0,\"#0d0887\"],[0.1111111111111111,\"#46039f\"],[0.2222222222222222,\"#7201a8\"],[0.3333333333333333,\"#9c179e\"],[0.4444444444444444,\"#bd3786\"],[0.5555555555555556,\"#d8576b\"],[0.6666666666666666,\"#ed7953\"],[0.7777777777777778,\"#fb9f3a\"],[0.8888888888888888,\"#fdca26\"],[1.0,\"#f0f921\"]]}],\"heatmapgl\":[{\"type\":\"heatmapgl\",\"colorbar\":{\"outlinewidth\":0,\"ticks\":\"\"},\"colorscale\":[[0.0,\"#0d0887\"],[0.1111111111111111,\"#46039f\"],[0.2222222222222222,\"#7201a8\"],[0.3333333333333333,\"#9c179e\"],[0.4444444444444444,\"#bd3786\"],[0.5555555555555556,\"#d8576b\"],[0.6666666666666666,\"#ed7953\"],[0.7777777777777778,\"#fb9f3a\"],[0.8888888888888888,\"#fdca26\"],[1.0,\"#f0f921\"]]}],\"contourcarpet\":[{\"type\":\"contourcarpet\",\"colorbar\":{\"outlinewidth\":0,\"ticks\":\"\"}}],\"contour\":[{\"type\":\"contour\",\"colorbar\":{\"outlinewidth\":0,\"ticks\":\"\"},\"colorscale\":[[0.0,\"#0d0887\"],[0.1111111111111111,\"#46039f\"],[0.2222222222222222,\"#7201a8\"],[0.3333333333333333,\"#9c179e\"],[0.4444444444444444,\"#bd3786\"],[0.5555555555555556,\"#d8576b\"],[0.6666666666666666,\"#ed7953\"],[0.7777777777777778,\"#fb9f3a\"],[0.8888888888888888,\"#fdca26\"],[1.0,\"#f0f921\"]]}],\"surface\":[{\"type\":\"surface\",\"colorbar\":{\"outlinewidth\":0,\"ticks\":\"\"},\"colorscale\":[[0.0,\"#0d0887\"],[0.1111111111111111,\"#46039f\"],[0.2222222222222222,\"#7201a8\"],[0.3333333333333333,\"#9c179e\"],[0.4444444444444444,\"#bd3786\"],[0.5555555555555556,\"#d8576b\"],[0.6666666666666666,\"#ed7953\"],[0.7777777777777778,\"#fb9f3a\"],[0.8888888888888888,\"#fdca26\"],[1.0,\"#f0f921\"]]}],\"mesh3d\":[{\"type\":\"mesh3d\",\"colorbar\":{\"outlinewidth\":0,\"ticks\":\"\"}}],\"scatter\":[{\"fillpattern\":{\"fillmode\":\"overlay\",\"size\":10,\"solidity\":0.2},\"type\":\"scatter\"}],\"parcoords\":[{\"type\":\"parcoords\",\"line\":{\"colorbar\":{\"outlinewidth\":0,\"ticks\":\"\"}}}],\"scatterpolargl\":[{\"type\":\"scatterpolargl\",\"marker\":{\"colorbar\":{\"outlinewidth\":0,\"ticks\":\"\"}}}],\"bar\":[{\"error_x\":{\"color\":\"#2a3f5f\"},\"error_y\":{\"color\":\"#2a3f5f\"},\"marker\":{\"line\":{\"color\":\"#E5ECF6\",\"width\":0.5},\"pattern\":{\"fillmode\":\"overlay\",\"size\":10,\"solidity\":0.2}},\"type\":\"bar\"}],\"scattergeo\":[{\"type\":\"scattergeo\",\"marker\":{\"colorbar\":{\"outlinewidth\":0,\"ticks\":\"\"}}}],\"scatterpolar\":[{\"type\":\"scatterpolar\",\"marker\":{\"colorbar\":{\"outlinewidth\":0,\"ticks\":\"\"}}}],\"histogram\":[{\"marker\":{\"pattern\":{\"fillmode\":\"overlay\",\"size\":10,\"solidity\":0.2}},\"type\":\"histogram\"}],\"scattergl\":[{\"type\":\"scattergl\",\"marker\":{\"colorbar\":{\"outlinewidth\":0,\"ticks\":\"\"}}}],\"scatter3d\":[{\"type\":\"scatter3d\",\"line\":{\"colorbar\":{\"outlinewidth\":0,\"ticks\":\"\"}},\"marker\":{\"colorbar\":{\"outlinewidth\":0,\"ticks\":\"\"}}}],\"scattermapbox\":[{\"type\":\"scattermapbox\",\"marker\":{\"colorbar\":{\"outlinewidth\":0,\"ticks\":\"\"}}}],\"scatterternary\":[{\"type\":\"scatterternary\",\"marker\":{\"colorbar\":{\"outlinewidth\":0,\"ticks\":\"\"}}}],\"scattercarpet\":[{\"type\":\"scattercarpet\",\"marker\":{\"colorbar\":{\"outlinewidth\":0,\"ticks\":\"\"}}}],\"carpet\":[{\"aaxis\":{\"endlinecolor\":\"#2a3f5f\",\"gridcolor\":\"white\",\"linecolor\":\"white\",\"minorgridcolor\":\"white\",\"startlinecolor\":\"#2a3f5f\"},\"baxis\":{\"endlinecolor\":\"#2a3f5f\",\"gridcolor\":\"white\",\"linecolor\":\"white\",\"minorgridcolor\":\"white\",\"startlinecolor\":\"#2a3f5f\"},\"type\":\"carpet\"}],\"table\":[{\"cells\":{\"fill\":{\"color\":\"#EBF0F8\"},\"line\":{\"color\":\"white\"}},\"header\":{\"fill\":{\"color\":\"#C8D4E3\"},\"line\":{\"color\":\"white\"}},\"type\":\"table\"}],\"barpolar\":[{\"marker\":{\"line\":{\"color\":\"#E5ECF6\",\"width\":0.5},\"pattern\":{\"fillmode\":\"overlay\",\"size\":10,\"solidity\":0.2}},\"type\":\"barpolar\"}],\"pie\":[{\"automargin\":true,\"type\":\"pie\"}]},\"layout\":{\"autotypenumbers\":\"strict\",\"colorway\":[\"#636efa\",\"#EF553B\",\"#00cc96\",\"#ab63fa\",\"#FFA15A\",\"#19d3f3\",\"#FF6692\",\"#B6E880\",\"#FF97FF\",\"#FECB52\"],\"font\":{\"color\":\"#2a3f5f\"},\"hovermode\":\"closest\",\"hoverlabel\":{\"align\":\"left\"},\"paper_bgcolor\":\"white\",\"plot_bgcolor\":\"#E5ECF6\",\"polar\":{\"bgcolor\":\"#E5ECF6\",\"angularaxis\":{\"gridcolor\":\"white\",\"linecolor\":\"white\",\"ticks\":\"\"},\"radialaxis\":{\"gridcolor\":\"white\",\"linecolor\":\"white\",\"ticks\":\"\"}},\"ternary\":{\"bgcolor\":\"#E5ECF6\",\"aaxis\":{\"gridcolor\":\"white\",\"linecolor\":\"white\",\"ticks\":\"\"},\"baxis\":{\"gridcolor\":\"white\",\"linecolor\":\"white\",\"ticks\":\"\"},\"caxis\":{\"gridcolor\":\"white\",\"linecolor\":\"white\",\"ticks\":\"\"}},\"coloraxis\":{\"colorbar\":{\"outlinewidth\":0,\"ticks\":\"\"}},\"colorscale\":{\"sequential\":[[0.0,\"#0d0887\"],[0.1111111111111111,\"#46039f\"],[0.2222222222222222,\"#7201a8\"],[0.3333333333333333,\"#9c179e\"],[0.4444444444444444,\"#bd3786\"],[0.5555555555555556,\"#d8576b\"],[0.6666666666666666,\"#ed7953\"],[0.7777777777777778,\"#fb9f3a\"],[0.8888888888888888,\"#fdca26\"],[1.0,\"#f0f921\"]],\"sequentialminus\":[[0.0,\"#0d0887\"],[0.1111111111111111,\"#46039f\"],[0.2222222222222222,\"#7201a8\"],[0.3333333333333333,\"#9c179e\"],[0.4444444444444444,\"#bd3786\"],[0.5555555555555556,\"#d8576b\"],[0.6666666666666666,\"#ed7953\"],[0.7777777777777778,\"#fb9f3a\"],[0.8888888888888888,\"#fdca26\"],[1.0,\"#f0f921\"]],\"diverging\":[[0,\"#8e0152\"],[0.1,\"#c51b7d\"],[0.2,\"#de77ae\"],[0.3,\"#f1b6da\"],[0.4,\"#fde0ef\"],[0.5,\"#f7f7f7\"],[0.6,\"#e6f5d0\"],[0.7,\"#b8e186\"],[0.8,\"#7fbc41\"],[0.9,\"#4d9221\"],[1,\"#276419\"]]},\"xaxis\":{\"gridcolor\":\"white\",\"linecolor\":\"white\",\"ticks\":\"\",\"title\":{\"standoff\":15},\"zerolinecolor\":\"white\",\"automargin\":true,\"zerolinewidth\":2},\"yaxis\":{\"gridcolor\":\"white\",\"linecolor\":\"white\",\"ticks\":\"\",\"title\":{\"standoff\":15},\"zerolinecolor\":\"white\",\"automargin\":true,\"zerolinewidth\":2},\"scene\":{\"xaxis\":{\"backgroundcolor\":\"#E5ECF6\",\"gridcolor\":\"white\",\"linecolor\":\"white\",\"showbackground\":true,\"ticks\":\"\",\"zerolinecolor\":\"white\",\"gridwidth\":2},\"yaxis\":{\"backgroundcolor\":\"#E5ECF6\",\"gridcolor\":\"white\",\"linecolor\":\"white\",\"showbackground\":true,\"ticks\":\"\",\"zerolinecolor\":\"white\",\"gridwidth\":2},\"zaxis\":{\"backgroundcolor\":\"#E5ECF6\",\"gridcolor\":\"white\",\"linecolor\":\"white\",\"showbackground\":true,\"ticks\":\"\",\"zerolinecolor\":\"white\",\"gridwidth\":2}},\"shapedefaults\":{\"line\":{\"color\":\"#2a3f5f\"}},\"annotationdefaults\":{\"arrowcolor\":\"#2a3f5f\",\"arrowhead\":0,\"arrowwidth\":1},\"geo\":{\"bgcolor\":\"white\",\"landcolor\":\"#E5ECF6\",\"subunitcolor\":\"white\",\"showland\":true,\"showlakes\":true,\"lakecolor\":\"white\"},\"title\":{\"x\":0.05},\"mapbox\":{\"style\":\"light\"}}},\"xaxis\":{\"anchor\":\"y\",\"domain\":[0.0,1.0]},\"yaxis\":{\"anchor\":\"x\",\"domain\":[0.0,1.0]},\"margin\":{\"t\":60}},                        {\"responsive\": true}                    ).then(function(){\n",
       "                            \n",
       "var gd = document.getElementById('8af50533-089f-4dfa-a1a0-31254df05a7c');\n",
       "var x = new MutationObserver(function (mutations, observer) {{\n",
       "        var display = window.getComputedStyle(gd).display;\n",
       "        if (!display || display === 'none') {{\n",
       "            console.log([gd, 'removed!']);\n",
       "            Plotly.purge(gd);\n",
       "            observer.disconnect();\n",
       "        }}\n",
       "}});\n",
       "\n",
       "// Listen for the removal of the full notebook cells\n",
       "var notebookContainer = gd.closest('#notebook-container');\n",
       "if (notebookContainer) {{\n",
       "    x.observe(notebookContainer, {childList: true});\n",
       "}}\n",
       "\n",
       "// Listen for the clearing of the current output cell\n",
       "var outputEl = gd.closest('.output');\n",
       "if (outputEl) {{\n",
       "    x.observe(outputEl, {childList: true});\n",
       "}}\n",
       "\n",
       "                        })                };                });            </script>        </div>"
      ]
     },
     "metadata": {},
     "output_type": "display_data"
    }
   ],
   "source": [
    "# Interactive testing (for now animal only)\n",
    "images, label = test_image_loader.batch_sample(1)\n",
    "\n",
    "prediction = CNN.classify(images)\n",
    "prediction = prediction[0]\n",
    "\n",
    "# Assert animal image loader and CNN are in sync\n",
    "assert(test_image_loader.get_classifications_map() == CNN.get_image_loader_classification_map())\n",
    "\n",
    "# Now reverse mapping from string->float to float->string\n",
    "classification_map = {}\n",
    "for key, value in test_image_loader.get_classifications_map().items():\n",
    "    classification_map[value] = key\n",
    "\n",
    "print(\"Label: \" + classification_map[label[0]] + \" \" + str(label[0]))\n",
    "print(\"Prediction: \" + classification_map[prediction] + \" (\" + str(prediction) + \")\")\n",
    "view_image((np.array(images[0]) +0.5) * 255.0, input_width, input_height, colorscale=\"\")"
   ]
  }
 ],
 "metadata": {
  "kernelspec": {
   "display_name": ".venv",
   "language": "python",
   "name": "python3"
  },
  "language_info": {
   "codemirror_mode": {
    "name": "ipython",
    "version": 3
   },
   "file_extension": ".py",
   "mimetype": "text/x-python",
   "name": "python",
   "nbconvert_exporter": "python",
   "pygments_lexer": "ipython3",
   "version": "3.10.12"
  },
  "orig_nbformat": 4
 },
 "nbformat": 4,
 "nbformat_minor": 2
}
