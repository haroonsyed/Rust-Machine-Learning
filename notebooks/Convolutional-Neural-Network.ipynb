{
 "cells": [
  {
   "cell_type": "code",
   "execution_count": 1,
   "metadata": {},
   "outputs": [],
   "source": [
    "import rust_machine_learning\n",
    "from syed_ml_lib import *\n",
    "import os"
   ]
  },
  {
   "cell_type": "code",
   "execution_count": 2,
   "metadata": {},
   "outputs": [
    {
     "name": "stdout",
     "output_type": "stream",
     "text": [
      "Reading images for classification \"truck\"\n",
      "Reading images for classification \"airplane\"\n",
      "Reading images for classification \"cat\"\n",
      "Reading images for classification \"deer\"\n",
      "Reading images for classification \"dog\"\n",
      "Reading images for classification \"ship\"\n",
      "Reading images for classification \"bird\"\n",
      "Reading images for classification \"automobile\"\n",
      "Reading images for classification \"frog\"\n",
      "Reading images for classification \"horse\"\n"
     ]
    }
   ],
   "source": [
    "# Setup the CNN\n",
    "num_classifications = 10\n",
    "input_height = 32\n",
    "input_width = 32\n",
    "input_depth = 3\n",
    "CNN = rust_machine_learning.ConvolutionalNeuralNetwork(num_classifications, input_height, input_width, input_depth)\n",
    "\n",
    "# Setup the optimizer\n",
    "learning_rate = 1e-3\n",
    "beta1 = 0.9\n",
    "beta2 = 0.999\n",
    "# CNN.set_optimizer_stochastic_gradient_descent(learning_rate)\n",
    "# CNN.set_optimizer_momentum(learning_rate, beta1)\n",
    "# CNN.set_optimizer_adagrad(learning_rate)\n",
    "# CNN.set_optimizer_RMSProp(learning_rate, beta1)\n",
    "CNN.set_optimizer_adam(learning_rate, beta1, beta2)\n",
    "\n",
    "# Setup the layers\n",
    "# The api has 3 functions\n",
    "# add_convolutional_layer(filter_height, filter_width, num_filters)\n",
    "# add_max_pool_layer()\n",
    "# add_fully_connected_layer() \n",
    "# Add fully connected layer can only be called once, and must be called last\n",
    "\n",
    "CNN.add_convolutional_layer(3, 3, 32)\n",
    "# CNN.add_convolutional_layer(3, 3, 64)\n",
    "CNN.add_max_pool_layer()\n",
    "CNN.add_fully_connected_layer() \n",
    "\n",
    "image_directory = \"../data/cifar-10/\"\n",
    "image_directory_path = os.path.abspath(image_directory)\n",
    "CNN.set_image_loader(image_directory_path, input_height, input_width)"
   ]
  },
  {
   "cell_type": "code",
   "execution_count": 3,
   "metadata": {},
   "outputs": [
    {
     "data": {
      "text/html": [
       "<div>\n",
       "<style scoped>\n",
       "    .dataframe tbody tr th:only-of-type {\n",
       "        vertical-align: middle;\n",
       "    }\n",
       "\n",
       "    .dataframe tbody tr th {\n",
       "        vertical-align: top;\n",
       "    }\n",
       "\n",
       "    .dataframe thead th {\n",
       "        text-align: right;\n",
       "    }\n",
       "</style>\n",
       "<table border=\"1\" class=\"dataframe\">\n",
       "  <thead>\n",
       "    <tr style=\"text-align: right;\">\n",
       "      <th></th>\n",
       "      <th>label</th>\n",
       "      <th>pixel0</th>\n",
       "      <th>pixel1</th>\n",
       "      <th>pixel2</th>\n",
       "      <th>pixel3</th>\n",
       "      <th>pixel4</th>\n",
       "      <th>pixel5</th>\n",
       "      <th>pixel6</th>\n",
       "      <th>pixel7</th>\n",
       "      <th>pixel8</th>\n",
       "      <th>...</th>\n",
       "      <th>pixel774</th>\n",
       "      <th>pixel775</th>\n",
       "      <th>pixel776</th>\n",
       "      <th>pixel777</th>\n",
       "      <th>pixel778</th>\n",
       "      <th>pixel779</th>\n",
       "      <th>pixel780</th>\n",
       "      <th>pixel781</th>\n",
       "      <th>pixel782</th>\n",
       "      <th>pixel783</th>\n",
       "    </tr>\n",
       "  </thead>\n",
       "  <tbody>\n",
       "    <tr>\n",
       "      <th>0</th>\n",
       "      <td>1.0</td>\n",
       "      <td>-0.5</td>\n",
       "      <td>-0.5</td>\n",
       "      <td>-0.5</td>\n",
       "      <td>-0.5</td>\n",
       "      <td>-0.5</td>\n",
       "      <td>-0.5</td>\n",
       "      <td>-0.5</td>\n",
       "      <td>-0.5</td>\n",
       "      <td>-0.5</td>\n",
       "      <td>...</td>\n",
       "      <td>-0.5</td>\n",
       "      <td>-0.5</td>\n",
       "      <td>-0.5</td>\n",
       "      <td>-0.5</td>\n",
       "      <td>-0.5</td>\n",
       "      <td>-0.5</td>\n",
       "      <td>-0.5</td>\n",
       "      <td>-0.5</td>\n",
       "      <td>-0.5</td>\n",
       "      <td>-0.5</td>\n",
       "    </tr>\n",
       "    <tr>\n",
       "      <th>1</th>\n",
       "      <td>0.0</td>\n",
       "      <td>-0.5</td>\n",
       "      <td>-0.5</td>\n",
       "      <td>-0.5</td>\n",
       "      <td>-0.5</td>\n",
       "      <td>-0.5</td>\n",
       "      <td>-0.5</td>\n",
       "      <td>-0.5</td>\n",
       "      <td>-0.5</td>\n",
       "      <td>-0.5</td>\n",
       "      <td>...</td>\n",
       "      <td>-0.5</td>\n",
       "      <td>-0.5</td>\n",
       "      <td>-0.5</td>\n",
       "      <td>-0.5</td>\n",
       "      <td>-0.5</td>\n",
       "      <td>-0.5</td>\n",
       "      <td>-0.5</td>\n",
       "      <td>-0.5</td>\n",
       "      <td>-0.5</td>\n",
       "      <td>-0.5</td>\n",
       "    </tr>\n",
       "    <tr>\n",
       "      <th>2</th>\n",
       "      <td>1.0</td>\n",
       "      <td>-0.5</td>\n",
       "      <td>-0.5</td>\n",
       "      <td>-0.5</td>\n",
       "      <td>-0.5</td>\n",
       "      <td>-0.5</td>\n",
       "      <td>-0.5</td>\n",
       "      <td>-0.5</td>\n",
       "      <td>-0.5</td>\n",
       "      <td>-0.5</td>\n",
       "      <td>...</td>\n",
       "      <td>-0.5</td>\n",
       "      <td>-0.5</td>\n",
       "      <td>-0.5</td>\n",
       "      <td>-0.5</td>\n",
       "      <td>-0.5</td>\n",
       "      <td>-0.5</td>\n",
       "      <td>-0.5</td>\n",
       "      <td>-0.5</td>\n",
       "      <td>-0.5</td>\n",
       "      <td>-0.5</td>\n",
       "    </tr>\n",
       "    <tr>\n",
       "      <th>3</th>\n",
       "      <td>4.0</td>\n",
       "      <td>-0.5</td>\n",
       "      <td>-0.5</td>\n",
       "      <td>-0.5</td>\n",
       "      <td>-0.5</td>\n",
       "      <td>-0.5</td>\n",
       "      <td>-0.5</td>\n",
       "      <td>-0.5</td>\n",
       "      <td>-0.5</td>\n",
       "      <td>-0.5</td>\n",
       "      <td>...</td>\n",
       "      <td>-0.5</td>\n",
       "      <td>-0.5</td>\n",
       "      <td>-0.5</td>\n",
       "      <td>-0.5</td>\n",
       "      <td>-0.5</td>\n",
       "      <td>-0.5</td>\n",
       "      <td>-0.5</td>\n",
       "      <td>-0.5</td>\n",
       "      <td>-0.5</td>\n",
       "      <td>-0.5</td>\n",
       "    </tr>\n",
       "    <tr>\n",
       "      <th>4</th>\n",
       "      <td>0.0</td>\n",
       "      <td>-0.5</td>\n",
       "      <td>-0.5</td>\n",
       "      <td>-0.5</td>\n",
       "      <td>-0.5</td>\n",
       "      <td>-0.5</td>\n",
       "      <td>-0.5</td>\n",
       "      <td>-0.5</td>\n",
       "      <td>-0.5</td>\n",
       "      <td>-0.5</td>\n",
       "      <td>...</td>\n",
       "      <td>-0.5</td>\n",
       "      <td>-0.5</td>\n",
       "      <td>-0.5</td>\n",
       "      <td>-0.5</td>\n",
       "      <td>-0.5</td>\n",
       "      <td>-0.5</td>\n",
       "      <td>-0.5</td>\n",
       "      <td>-0.5</td>\n",
       "      <td>-0.5</td>\n",
       "      <td>-0.5</td>\n",
       "    </tr>\n",
       "    <tr>\n",
       "      <th>...</th>\n",
       "      <td>...</td>\n",
       "      <td>...</td>\n",
       "      <td>...</td>\n",
       "      <td>...</td>\n",
       "      <td>...</td>\n",
       "      <td>...</td>\n",
       "      <td>...</td>\n",
       "      <td>...</td>\n",
       "      <td>...</td>\n",
       "      <td>...</td>\n",
       "      <td>...</td>\n",
       "      <td>...</td>\n",
       "      <td>...</td>\n",
       "      <td>...</td>\n",
       "      <td>...</td>\n",
       "      <td>...</td>\n",
       "      <td>...</td>\n",
       "      <td>...</td>\n",
       "      <td>...</td>\n",
       "      <td>...</td>\n",
       "      <td>...</td>\n",
       "    </tr>\n",
       "    <tr>\n",
       "      <th>41995</th>\n",
       "      <td>0.0</td>\n",
       "      <td>-0.5</td>\n",
       "      <td>-0.5</td>\n",
       "      <td>-0.5</td>\n",
       "      <td>-0.5</td>\n",
       "      <td>-0.5</td>\n",
       "      <td>-0.5</td>\n",
       "      <td>-0.5</td>\n",
       "      <td>-0.5</td>\n",
       "      <td>-0.5</td>\n",
       "      <td>...</td>\n",
       "      <td>-0.5</td>\n",
       "      <td>-0.5</td>\n",
       "      <td>-0.5</td>\n",
       "      <td>-0.5</td>\n",
       "      <td>-0.5</td>\n",
       "      <td>-0.5</td>\n",
       "      <td>-0.5</td>\n",
       "      <td>-0.5</td>\n",
       "      <td>-0.5</td>\n",
       "      <td>-0.5</td>\n",
       "    </tr>\n",
       "    <tr>\n",
       "      <th>41996</th>\n",
       "      <td>1.0</td>\n",
       "      <td>-0.5</td>\n",
       "      <td>-0.5</td>\n",
       "      <td>-0.5</td>\n",
       "      <td>-0.5</td>\n",
       "      <td>-0.5</td>\n",
       "      <td>-0.5</td>\n",
       "      <td>-0.5</td>\n",
       "      <td>-0.5</td>\n",
       "      <td>-0.5</td>\n",
       "      <td>...</td>\n",
       "      <td>-0.5</td>\n",
       "      <td>-0.5</td>\n",
       "      <td>-0.5</td>\n",
       "      <td>-0.5</td>\n",
       "      <td>-0.5</td>\n",
       "      <td>-0.5</td>\n",
       "      <td>-0.5</td>\n",
       "      <td>-0.5</td>\n",
       "      <td>-0.5</td>\n",
       "      <td>-0.5</td>\n",
       "    </tr>\n",
       "    <tr>\n",
       "      <th>41997</th>\n",
       "      <td>7.0</td>\n",
       "      <td>-0.5</td>\n",
       "      <td>-0.5</td>\n",
       "      <td>-0.5</td>\n",
       "      <td>-0.5</td>\n",
       "      <td>-0.5</td>\n",
       "      <td>-0.5</td>\n",
       "      <td>-0.5</td>\n",
       "      <td>-0.5</td>\n",
       "      <td>-0.5</td>\n",
       "      <td>...</td>\n",
       "      <td>-0.5</td>\n",
       "      <td>-0.5</td>\n",
       "      <td>-0.5</td>\n",
       "      <td>-0.5</td>\n",
       "      <td>-0.5</td>\n",
       "      <td>-0.5</td>\n",
       "      <td>-0.5</td>\n",
       "      <td>-0.5</td>\n",
       "      <td>-0.5</td>\n",
       "      <td>-0.5</td>\n",
       "    </tr>\n",
       "    <tr>\n",
       "      <th>41998</th>\n",
       "      <td>6.0</td>\n",
       "      <td>-0.5</td>\n",
       "      <td>-0.5</td>\n",
       "      <td>-0.5</td>\n",
       "      <td>-0.5</td>\n",
       "      <td>-0.5</td>\n",
       "      <td>-0.5</td>\n",
       "      <td>-0.5</td>\n",
       "      <td>-0.5</td>\n",
       "      <td>-0.5</td>\n",
       "      <td>...</td>\n",
       "      <td>-0.5</td>\n",
       "      <td>-0.5</td>\n",
       "      <td>-0.5</td>\n",
       "      <td>-0.5</td>\n",
       "      <td>-0.5</td>\n",
       "      <td>-0.5</td>\n",
       "      <td>-0.5</td>\n",
       "      <td>-0.5</td>\n",
       "      <td>-0.5</td>\n",
       "      <td>-0.5</td>\n",
       "    </tr>\n",
       "    <tr>\n",
       "      <th>41999</th>\n",
       "      <td>9.0</td>\n",
       "      <td>-0.5</td>\n",
       "      <td>-0.5</td>\n",
       "      <td>-0.5</td>\n",
       "      <td>-0.5</td>\n",
       "      <td>-0.5</td>\n",
       "      <td>-0.5</td>\n",
       "      <td>-0.5</td>\n",
       "      <td>-0.5</td>\n",
       "      <td>-0.5</td>\n",
       "      <td>...</td>\n",
       "      <td>-0.5</td>\n",
       "      <td>-0.5</td>\n",
       "      <td>-0.5</td>\n",
       "      <td>-0.5</td>\n",
       "      <td>-0.5</td>\n",
       "      <td>-0.5</td>\n",
       "      <td>-0.5</td>\n",
       "      <td>-0.5</td>\n",
       "      <td>-0.5</td>\n",
       "      <td>-0.5</td>\n",
       "    </tr>\n",
       "  </tbody>\n",
       "</table>\n",
       "<p>42000 rows × 785 columns</p>\n",
       "</div>"
      ],
      "text/plain": [
       "       label  pixel0  pixel1  pixel2  pixel3  pixel4  pixel5  pixel6  pixel7  \\\n",
       "0        1.0    -0.5    -0.5    -0.5    -0.5    -0.5    -0.5    -0.5    -0.5   \n",
       "1        0.0    -0.5    -0.5    -0.5    -0.5    -0.5    -0.5    -0.5    -0.5   \n",
       "2        1.0    -0.5    -0.5    -0.5    -0.5    -0.5    -0.5    -0.5    -0.5   \n",
       "3        4.0    -0.5    -0.5    -0.5    -0.5    -0.5    -0.5    -0.5    -0.5   \n",
       "4        0.0    -0.5    -0.5    -0.5    -0.5    -0.5    -0.5    -0.5    -0.5   \n",
       "...      ...     ...     ...     ...     ...     ...     ...     ...     ...   \n",
       "41995    0.0    -0.5    -0.5    -0.5    -0.5    -0.5    -0.5    -0.5    -0.5   \n",
       "41996    1.0    -0.5    -0.5    -0.5    -0.5    -0.5    -0.5    -0.5    -0.5   \n",
       "41997    7.0    -0.5    -0.5    -0.5    -0.5    -0.5    -0.5    -0.5    -0.5   \n",
       "41998    6.0    -0.5    -0.5    -0.5    -0.5    -0.5    -0.5    -0.5    -0.5   \n",
       "41999    9.0    -0.5    -0.5    -0.5    -0.5    -0.5    -0.5    -0.5    -0.5   \n",
       "\n",
       "       pixel8  ...  pixel774  pixel775  pixel776  pixel777  pixel778  \\\n",
       "0        -0.5  ...      -0.5      -0.5      -0.5      -0.5      -0.5   \n",
       "1        -0.5  ...      -0.5      -0.5      -0.5      -0.5      -0.5   \n",
       "2        -0.5  ...      -0.5      -0.5      -0.5      -0.5      -0.5   \n",
       "3        -0.5  ...      -0.5      -0.5      -0.5      -0.5      -0.5   \n",
       "4        -0.5  ...      -0.5      -0.5      -0.5      -0.5      -0.5   \n",
       "...       ...  ...       ...       ...       ...       ...       ...   \n",
       "41995    -0.5  ...      -0.5      -0.5      -0.5      -0.5      -0.5   \n",
       "41996    -0.5  ...      -0.5      -0.5      -0.5      -0.5      -0.5   \n",
       "41997    -0.5  ...      -0.5      -0.5      -0.5      -0.5      -0.5   \n",
       "41998    -0.5  ...      -0.5      -0.5      -0.5      -0.5      -0.5   \n",
       "41999    -0.5  ...      -0.5      -0.5      -0.5      -0.5      -0.5   \n",
       "\n",
       "       pixel779  pixel780  pixel781  pixel782  pixel783  \n",
       "0          -0.5      -0.5      -0.5      -0.5      -0.5  \n",
       "1          -0.5      -0.5      -0.5      -0.5      -0.5  \n",
       "2          -0.5      -0.5      -0.5      -0.5      -0.5  \n",
       "3          -0.5      -0.5      -0.5      -0.5      -0.5  \n",
       "4          -0.5      -0.5      -0.5      -0.5      -0.5  \n",
       "...         ...       ...       ...       ...       ...  \n",
       "41995      -0.5      -0.5      -0.5      -0.5      -0.5  \n",
       "41996      -0.5      -0.5      -0.5      -0.5      -0.5  \n",
       "41997      -0.5      -0.5      -0.5      -0.5      -0.5  \n",
       "41998      -0.5      -0.5      -0.5      -0.5      -0.5  \n",
       "41999      -0.5      -0.5      -0.5      -0.5      -0.5  \n",
       "\n",
       "[42000 rows x 785 columns]"
      ]
     },
     "execution_count": 3,
     "metadata": {},
     "output_type": "execute_result"
    }
   ],
   "source": [
    "# Grab mnist data\n",
    "import random\n",
    "import numpy as np\n",
    "\n",
    "df = pd.read_csv(\"../data/digit-recognizer/train.csv\")\n",
    "\n",
    "# Normalize images\n",
    "df.iloc[:, 1:] = df.iloc[:, 1:].div(255.0).sub(0.5)\n",
    "images = df.iloc[:, 1:].values.tolist()\n",
    "df.iloc[:, 0] = df.iloc[:, 0].astype(np.float32)\n",
    "labels = df.iloc[:, 0].values.tolist()\n",
    "\n",
    "# Split into training and testing\n",
    "test_images = images[0:20000]\n",
    "test_labels = labels[0:20000]\n",
    "train_images = images[20000:]\n",
    "train_labels = labels[20000:]\n",
    "\n",
    "df"
   ]
  },
  {
   "cell_type": "code",
   "execution_count": 4,
   "metadata": {},
   "outputs": [],
   "source": [
    "def test_mnist():\n",
    "    num_batches_to_test = 500\n",
    "    num_right = 0\n",
    "    for i in range(num_batches_to_test):\n",
    "\n",
    "        # Random sample one image from python list of images\n",
    "        rand_index = random.randint(0, len(test_images) - 1)\n",
    "        image = test_images[rand_index]\n",
    "        label = test_labels[rand_index]\n",
    "\n",
    "        prediction = CNN.classify([[image]])[0]\n",
    "        if prediction == label:\n",
    "            num_right += 1\n",
    "\n",
    "    print(\"Accuracy: \" + str(100.0 * num_right / (num_batches_to_test)))"
   ]
  },
  {
   "cell_type": "code",
   "execution_count": 5,
   "metadata": {},
   "outputs": [
    {
     "name": "stdout",
     "output_type": "stream",
     "text": [
      "Reading images for classification \"truck\"\n",
      "Reading images for classification \"airplane\"\n",
      "Reading images for classification \"cat\"\n",
      "Reading images for classification \"deer\"\n",
      "Reading images for classification \"dog\"\n",
      "Reading images for classification \"ship\"\n",
      "Reading images for classification \"bird\"\n",
      "Reading images for classification \"automobile\"\n",
      "Reading images for classification \"frog\"\n",
      "Reading images for classification \"horse\"\n"
     ]
    }
   ],
   "source": [
    "test_image_loader = rust_machine_learning.ImageBatchLoader(image_directory_path, input_width, input_height)\n",
    "def test_using_image_loader():\n",
    "    num_batches_to_test = 100\n",
    "    num_right = 0\n",
    "    for i in range(num_batches_to_test):\n",
    "\n",
    "        images, label = test_image_loader.batch_sample(1, True)\n",
    "\n",
    "        prediction = CNN.classify(images)[0]\n",
    "        if prediction == label[0]:\n",
    "            num_right += 1\n",
    "\n",
    "    print(\"Accuracy: \" + str(100.0 * num_right / (num_batches_to_test)))"
   ]
  },
  {
   "cell_type": "code",
   "execution_count": 6,
   "metadata": {},
   "outputs": [],
   "source": [
    "def train_using_raw_data():\n",
    "    batch_size = 32\n",
    "    num_iter = 500\n",
    "\n",
    "    print(\"Accuracy before training:\")\n",
    "    test_mnist()\n",
    "    print(\"Training...\")\n",
    "    for i in range(0, num_iter):\n",
    "\n",
    "        # Create image and label batch from mnist\n",
    "        image_batch, label_batch = [], []\n",
    "        for j in range(batch_size):\n",
    "            rand_index = random.randint(0, len(train_images) - 1)\n",
    "            image = train_images[rand_index]\n",
    "            label = train_labels[rand_index]\n",
    "            image_batch.append([image])\n",
    "            label_batch.append(label)\n",
    "\n",
    "        # Train using MNIST dataset, select one image at a time randomly\n",
    "        CNN.train_raw_data(image_batch, label_batch)\n",
    "\n",
    "    print(\"Accuracy after training:\")\n",
    "    test_mnist()\n",
    "\n",
    "    # Get the loss and accuracy and plot it\n",
    "    perfomance_info = CNN.get_performance_info() # Return a list of tuple (accuracy, loss)\n",
    "    graph_accuracy_loss(perfomance_info)"
   ]
  },
  {
   "cell_type": "code",
   "execution_count": 7,
   "metadata": {},
   "outputs": [],
   "source": [
    "def train_using_set_img_loader():\n",
    "    batch_size = 32\n",
    "    num_iter = 5000\n",
    "    print(\"Accuracy before training:\")\n",
    "    test_using_image_loader()\n",
    "    print(\"Training...\")\n",
    "\n",
    "    # Split into increments of 50 because rust won't progress info print properly\n",
    "    for i in range(0, num_iter, 50):\n",
    "        CNN.train_using_image_loader(batch_size, 50)\n",
    "    test_using_image_loader()\n",
    "\n",
    "    # Get the loss and accuracy and plot it\n",
    "    perfomance_info = CNN.get_performance_info() # Return a list of tuple (accuracy, loss)\n",
    "    graph_accuracy_loss(perfomance_info)"
   ]
  },
  {
   "cell_type": "code",
   "execution_count": 8,
   "metadata": {},
   "outputs": [
    {
     "name": "stdout",
     "output_type": "stream",
     "text": [
      "Accuracy before training:\n",
      "Accuracy: 4.0\n",
      "Training...\n"
     ]
    },
    {
     "name": "stderr",
     "output_type": "stream",
     "text": [
      "thread '<unnamed>' panicked at tensor_lib/src/matrix.rs:765:5:\n",
      "Cannot unflatten array, matrix dimensions incorrect!\n",
      "note: run with `RUST_BACKTRACE=1` environment variable to display a backtrace\n"
     ]
    },
    {
     "ename": "PanicException",
     "evalue": "Cannot unflatten array, matrix dimensions incorrect!",
     "output_type": "error",
     "traceback": [
      "\u001b[0;31m---------------------------------------------------------------------------\u001b[0m",
      "\u001b[0;31mPanicException\u001b[0m                            Traceback (most recent call last)",
      "Cell \u001b[0;32mIn[8], line 3\u001b[0m\n\u001b[1;32m      1\u001b[0m \u001b[38;5;66;03m# Now train the model\u001b[39;00m\n\u001b[1;32m      2\u001b[0m \u001b[38;5;66;03m# train_using_raw_data()\u001b[39;00m\n\u001b[0;32m----> 3\u001b[0m \u001b[43mtrain_using_set_img_loader\u001b[49m\u001b[43m(\u001b[49m\u001b[43m)\u001b[49m\n",
      "Cell \u001b[0;32mIn[7], line 10\u001b[0m, in \u001b[0;36mtrain_using_set_img_loader\u001b[0;34m()\u001b[0m\n\u001b[1;32m      8\u001b[0m \u001b[38;5;66;03m# Split into increments of 50 because rust won't progress info print properly\u001b[39;00m\n\u001b[1;32m      9\u001b[0m \u001b[38;5;28;01mfor\u001b[39;00m i \u001b[38;5;129;01min\u001b[39;00m \u001b[38;5;28mrange\u001b[39m(\u001b[38;5;241m0\u001b[39m, num_iter, \u001b[38;5;241m100\u001b[39m):\n\u001b[0;32m---> 10\u001b[0m     \u001b[43mCNN\u001b[49m\u001b[38;5;241;43m.\u001b[39;49m\u001b[43mtrain_using_image_loader\u001b[49m\u001b[43m(\u001b[49m\u001b[43mbatch_size\u001b[49m\u001b[43m,\u001b[49m\u001b[43m \u001b[49m\u001b[38;5;241;43m100\u001b[39;49m\u001b[43m)\u001b[49m\n\u001b[1;32m     11\u001b[0m test_using_image_loader()\n\u001b[1;32m     13\u001b[0m \u001b[38;5;66;03m# Get the loss and accuracy and plot it\u001b[39;00m\n",
      "\u001b[0;31mPanicException\u001b[0m: Cannot unflatten array, matrix dimensions incorrect!"
     ]
    }
   ],
   "source": [
    "# Now train the model\n",
    "# train_using_raw_data()\n",
    "train_using_set_img_loader()"
   ]
  },
  {
   "cell_type": "code",
   "execution_count": null,
   "metadata": {},
   "outputs": [
    {
     "name": "stdout",
     "output_type": "stream",
     "text": [
      "Label: frog 8.0\n",
      "Prediction: truck (0.0)\n"
     ]
    },
    {
     "data": {
      "application/vnd.plotly.v1+json": {
       "config": {
        "plotlyServerURL": "https://plot.ly"
       },
       "data": [
        {
         "hovertemplate": "x: %{x}<br>y: %{y}<extra></extra>",
         "name": "0",
         "source": "data:image/png;base64,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",
         "type": "image",
         "xaxis": "x",
         "yaxis": "y"
        }
       ],
       "layout": {
        "margin": {
         "t": 60
        },
        "template": {
         "data": {
          "bar": [
           {
            "error_x": {
             "color": "#2a3f5f"
            },
            "error_y": {
             "color": "#2a3f5f"
            },
            "marker": {
             "line": {
              "color": "#E5ECF6",
              "width": 0.5
             },
             "pattern": {
              "fillmode": "overlay",
              "size": 10,
              "solidity": 0.2
             }
            },
            "type": "bar"
           }
          ],
          "barpolar": [
           {
            "marker": {
             "line": {
              "color": "#E5ECF6",
              "width": 0.5
             },
             "pattern": {
              "fillmode": "overlay",
              "size": 10,
              "solidity": 0.2
             }
            },
            "type": "barpolar"
           }
          ],
          "carpet": [
           {
            "aaxis": {
             "endlinecolor": "#2a3f5f",
             "gridcolor": "white",
             "linecolor": "white",
             "minorgridcolor": "white",
             "startlinecolor": "#2a3f5f"
            },
            "baxis": {
             "endlinecolor": "#2a3f5f",
             "gridcolor": "white",
             "linecolor": "white",
             "minorgridcolor": "white",
             "startlinecolor": "#2a3f5f"
            },
            "type": "carpet"
           }
          ],
          "choropleth": [
           {
            "colorbar": {
             "outlinewidth": 0,
             "ticks": ""
            },
            "type": "choropleth"
           }
          ],
          "contour": [
           {
            "colorbar": {
             "outlinewidth": 0,
             "ticks": ""
            },
            "colorscale": [
             [
              0,
              "#0d0887"
             ],
             [
              0.1111111111111111,
              "#46039f"
             ],
             [
              0.2222222222222222,
              "#7201a8"
             ],
             [
              0.3333333333333333,
              "#9c179e"
             ],
             [
              0.4444444444444444,
              "#bd3786"
             ],
             [
              0.5555555555555556,
              "#d8576b"
             ],
             [
              0.6666666666666666,
              "#ed7953"
             ],
             [
              0.7777777777777778,
              "#fb9f3a"
             ],
             [
              0.8888888888888888,
              "#fdca26"
             ],
             [
              1,
              "#f0f921"
             ]
            ],
            "type": "contour"
           }
          ],
          "contourcarpet": [
           {
            "colorbar": {
             "outlinewidth": 0,
             "ticks": ""
            },
            "type": "contourcarpet"
           }
          ],
          "heatmap": [
           {
            "colorbar": {
             "outlinewidth": 0,
             "ticks": ""
            },
            "colorscale": [
             [
              0,
              "#0d0887"
             ],
             [
              0.1111111111111111,
              "#46039f"
             ],
             [
              0.2222222222222222,
              "#7201a8"
             ],
             [
              0.3333333333333333,
              "#9c179e"
             ],
             [
              0.4444444444444444,
              "#bd3786"
             ],
             [
              0.5555555555555556,
              "#d8576b"
             ],
             [
              0.6666666666666666,
              "#ed7953"
             ],
             [
              0.7777777777777778,
              "#fb9f3a"
             ],
             [
              0.8888888888888888,
              "#fdca26"
             ],
             [
              1,
              "#f0f921"
             ]
            ],
            "type": "heatmap"
           }
          ],
          "heatmapgl": [
           {
            "colorbar": {
             "outlinewidth": 0,
             "ticks": ""
            },
            "colorscale": [
             [
              0,
              "#0d0887"
             ],
             [
              0.1111111111111111,
              "#46039f"
             ],
             [
              0.2222222222222222,
              "#7201a8"
             ],
             [
              0.3333333333333333,
              "#9c179e"
             ],
             [
              0.4444444444444444,
              "#bd3786"
             ],
             [
              0.5555555555555556,
              "#d8576b"
             ],
             [
              0.6666666666666666,
              "#ed7953"
             ],
             [
              0.7777777777777778,
              "#fb9f3a"
             ],
             [
              0.8888888888888888,
              "#fdca26"
             ],
             [
              1,
              "#f0f921"
             ]
            ],
            "type": "heatmapgl"
           }
          ],
          "histogram": [
           {
            "marker": {
             "pattern": {
              "fillmode": "overlay",
              "size": 10,
              "solidity": 0.2
             }
            },
            "type": "histogram"
           }
          ],
          "histogram2d": [
           {
            "colorbar": {
             "outlinewidth": 0,
             "ticks": ""
            },
            "colorscale": [
             [
              0,
              "#0d0887"
             ],
             [
              0.1111111111111111,
              "#46039f"
             ],
             [
              0.2222222222222222,
              "#7201a8"
             ],
             [
              0.3333333333333333,
              "#9c179e"
             ],
             [
              0.4444444444444444,
              "#bd3786"
             ],
             [
              0.5555555555555556,
              "#d8576b"
             ],
             [
              0.6666666666666666,
              "#ed7953"
             ],
             [
              0.7777777777777778,
              "#fb9f3a"
             ],
             [
              0.8888888888888888,
              "#fdca26"
             ],
             [
              1,
              "#f0f921"
             ]
            ],
            "type": "histogram2d"
           }
          ],
          "histogram2dcontour": [
           {
            "colorbar": {
             "outlinewidth": 0,
             "ticks": ""
            },
            "colorscale": [
             [
              0,
              "#0d0887"
             ],
             [
              0.1111111111111111,
              "#46039f"
             ],
             [
              0.2222222222222222,
              "#7201a8"
             ],
             [
              0.3333333333333333,
              "#9c179e"
             ],
             [
              0.4444444444444444,
              "#bd3786"
             ],
             [
              0.5555555555555556,
              "#d8576b"
             ],
             [
              0.6666666666666666,
              "#ed7953"
             ],
             [
              0.7777777777777778,
              "#fb9f3a"
             ],
             [
              0.8888888888888888,
              "#fdca26"
             ],
             [
              1,
              "#f0f921"
             ]
            ],
            "type": "histogram2dcontour"
           }
          ],
          "mesh3d": [
           {
            "colorbar": {
             "outlinewidth": 0,
             "ticks": ""
            },
            "type": "mesh3d"
           }
          ],
          "parcoords": [
           {
            "line": {
             "colorbar": {
              "outlinewidth": 0,
              "ticks": ""
             }
            },
            "type": "parcoords"
           }
          ],
          "pie": [
           {
            "automargin": true,
            "type": "pie"
           }
          ],
          "scatter": [
           {
            "fillpattern": {
             "fillmode": "overlay",
             "size": 10,
             "solidity": 0.2
            },
            "type": "scatter"
           }
          ],
          "scatter3d": [
           {
            "line": {
             "colorbar": {
              "outlinewidth": 0,
              "ticks": ""
             }
            },
            "marker": {
             "colorbar": {
              "outlinewidth": 0,
              "ticks": ""
             }
            },
            "type": "scatter3d"
           }
          ],
          "scattercarpet": [
           {
            "marker": {
             "colorbar": {
              "outlinewidth": 0,
              "ticks": ""
             }
            },
            "type": "scattercarpet"
           }
          ],
          "scattergeo": [
           {
            "marker": {
             "colorbar": {
              "outlinewidth": 0,
              "ticks": ""
             }
            },
            "type": "scattergeo"
           }
          ],
          "scattergl": [
           {
            "marker": {
             "colorbar": {
              "outlinewidth": 0,
              "ticks": ""
             }
            },
            "type": "scattergl"
           }
          ],
          "scattermapbox": [
           {
            "marker": {
             "colorbar": {
              "outlinewidth": 0,
              "ticks": ""
             }
            },
            "type": "scattermapbox"
           }
          ],
          "scatterpolar": [
           {
            "marker": {
             "colorbar": {
              "outlinewidth": 0,
              "ticks": ""
             }
            },
            "type": "scatterpolar"
           }
          ],
          "scatterpolargl": [
           {
            "marker": {
             "colorbar": {
              "outlinewidth": 0,
              "ticks": ""
             }
            },
            "type": "scatterpolargl"
           }
          ],
          "scatterternary": [
           {
            "marker": {
             "colorbar": {
              "outlinewidth": 0,
              "ticks": ""
             }
            },
            "type": "scatterternary"
           }
          ],
          "surface": [
           {
            "colorbar": {
             "outlinewidth": 0,
             "ticks": ""
            },
            "colorscale": [
             [
              0,
              "#0d0887"
             ],
             [
              0.1111111111111111,
              "#46039f"
             ],
             [
              0.2222222222222222,
              "#7201a8"
             ],
             [
              0.3333333333333333,
              "#9c179e"
             ],
             [
              0.4444444444444444,
              "#bd3786"
             ],
             [
              0.5555555555555556,
              "#d8576b"
             ],
             [
              0.6666666666666666,
              "#ed7953"
             ],
             [
              0.7777777777777778,
              "#fb9f3a"
             ],
             [
              0.8888888888888888,
              "#fdca26"
             ],
             [
              1,
              "#f0f921"
             ]
            ],
            "type": "surface"
           }
          ],
          "table": [
           {
            "cells": {
             "fill": {
              "color": "#EBF0F8"
             },
             "line": {
              "color": "white"
             }
            },
            "header": {
             "fill": {
              "color": "#C8D4E3"
             },
             "line": {
              "color": "white"
             }
            },
            "type": "table"
           }
          ]
         },
         "layout": {
          "annotationdefaults": {
           "arrowcolor": "#2a3f5f",
           "arrowhead": 0,
           "arrowwidth": 1
          },
          "autotypenumbers": "strict",
          "coloraxis": {
           "colorbar": {
            "outlinewidth": 0,
            "ticks": ""
           }
          },
          "colorscale": {
           "diverging": [
            [
             0,
             "#8e0152"
            ],
            [
             0.1,
             "#c51b7d"
            ],
            [
             0.2,
             "#de77ae"
            ],
            [
             0.3,
             "#f1b6da"
            ],
            [
             0.4,
             "#fde0ef"
            ],
            [
             0.5,
             "#f7f7f7"
            ],
            [
             0.6,
             "#e6f5d0"
            ],
            [
             0.7,
             "#b8e186"
            ],
            [
             0.8,
             "#7fbc41"
            ],
            [
             0.9,
             "#4d9221"
            ],
            [
             1,
             "#276419"
            ]
           ],
           "sequential": [
            [
             0,
             "#0d0887"
            ],
            [
             0.1111111111111111,
             "#46039f"
            ],
            [
             0.2222222222222222,
             "#7201a8"
            ],
            [
             0.3333333333333333,
             "#9c179e"
            ],
            [
             0.4444444444444444,
             "#bd3786"
            ],
            [
             0.5555555555555556,
             "#d8576b"
            ],
            [
             0.6666666666666666,
             "#ed7953"
            ],
            [
             0.7777777777777778,
             "#fb9f3a"
            ],
            [
             0.8888888888888888,
             "#fdca26"
            ],
            [
             1,
             "#f0f921"
            ]
           ],
           "sequentialminus": [
            [
             0,
             "#0d0887"
            ],
            [
             0.1111111111111111,
             "#46039f"
            ],
            [
             0.2222222222222222,
             "#7201a8"
            ],
            [
             0.3333333333333333,
             "#9c179e"
            ],
            [
             0.4444444444444444,
             "#bd3786"
            ],
            [
             0.5555555555555556,
             "#d8576b"
            ],
            [
             0.6666666666666666,
             "#ed7953"
            ],
            [
             0.7777777777777778,
             "#fb9f3a"
            ],
            [
             0.8888888888888888,
             "#fdca26"
            ],
            [
             1,
             "#f0f921"
            ]
           ]
          },
          "colorway": [
           "#636efa",
           "#EF553B",
           "#00cc96",
           "#ab63fa",
           "#FFA15A",
           "#19d3f3",
           "#FF6692",
           "#B6E880",
           "#FF97FF",
           "#FECB52"
          ],
          "font": {
           "color": "#2a3f5f"
          },
          "geo": {
           "bgcolor": "white",
           "lakecolor": "white",
           "landcolor": "#E5ECF6",
           "showlakes": true,
           "showland": true,
           "subunitcolor": "white"
          },
          "hoverlabel": {
           "align": "left"
          },
          "hovermode": "closest",
          "mapbox": {
           "style": "light"
          },
          "paper_bgcolor": "white",
          "plot_bgcolor": "#E5ECF6",
          "polar": {
           "angularaxis": {
            "gridcolor": "white",
            "linecolor": "white",
            "ticks": ""
           },
           "bgcolor": "#E5ECF6",
           "radialaxis": {
            "gridcolor": "white",
            "linecolor": "white",
            "ticks": ""
           }
          },
          "scene": {
           "xaxis": {
            "backgroundcolor": "#E5ECF6",
            "gridcolor": "white",
            "gridwidth": 2,
            "linecolor": "white",
            "showbackground": true,
            "ticks": "",
            "zerolinecolor": "white"
           },
           "yaxis": {
            "backgroundcolor": "#E5ECF6",
            "gridcolor": "white",
            "gridwidth": 2,
            "linecolor": "white",
            "showbackground": true,
            "ticks": "",
            "zerolinecolor": "white"
           },
           "zaxis": {
            "backgroundcolor": "#E5ECF6",
            "gridcolor": "white",
            "gridwidth": 2,
            "linecolor": "white",
            "showbackground": true,
            "ticks": "",
            "zerolinecolor": "white"
           }
          },
          "shapedefaults": {
           "line": {
            "color": "#2a3f5f"
           }
          },
          "ternary": {
           "aaxis": {
            "gridcolor": "white",
            "linecolor": "white",
            "ticks": ""
           },
           "baxis": {
            "gridcolor": "white",
            "linecolor": "white",
            "ticks": ""
           },
           "bgcolor": "#E5ECF6",
           "caxis": {
            "gridcolor": "white",
            "linecolor": "white",
            "ticks": ""
           }
          },
          "title": {
           "x": 0.05
          },
          "xaxis": {
           "automargin": true,
           "gridcolor": "white",
           "linecolor": "white",
           "ticks": "",
           "title": {
            "standoff": 15
           },
           "zerolinecolor": "white",
           "zerolinewidth": 2
          },
          "yaxis": {
           "automargin": true,
           "gridcolor": "white",
           "linecolor": "white",
           "ticks": "",
           "title": {
            "standoff": 15
           },
           "zerolinecolor": "white",
           "zerolinewidth": 2
          }
         }
        },
        "xaxis": {
         "anchor": "y",
         "domain": [
          0,
          1
         ]
        },
        "yaxis": {
         "anchor": "x",
         "domain": [
          0,
          1
         ]
        }
       }
      },
      "text/html": [
       "<div>                            <div id=\"32ebb44d-38c9-4d11-a0eb-dab0af6f3796\" class=\"plotly-graph-div\" style=\"height:525px; width:100%;\"></div>            <script type=\"text/javascript\">                require([\"plotly\"], function(Plotly) {                    window.PLOTLYENV=window.PLOTLYENV || {};                                    if (document.getElementById(\"32ebb44d-38c9-4d11-a0eb-dab0af6f3796\")) {                    Plotly.newPlot(                        \"32ebb44d-38c9-4d11-a0eb-dab0af6f3796\",                        [{\"name\":\"0\",\"source\":\"data:image/png;base64,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\",\"type\":\"image\",\"xaxis\":\"x\",\"yaxis\":\"y\",\"hovertemplate\":\"x: %{x}<br>y: %{y}<extra></extra>\"}],                        {\"template\":{\"data\":{\"histogram2dcontour\":[{\"type\":\"histogram2dcontour\",\"colorbar\":{\"outlinewidth\":0,\"ticks\":\"\"},\"colorscale\":[[0.0,\"#0d0887\"],[0.1111111111111111,\"#46039f\"],[0.2222222222222222,\"#7201a8\"],[0.3333333333333333,\"#9c179e\"],[0.4444444444444444,\"#bd3786\"],[0.5555555555555556,\"#d8576b\"],[0.6666666666666666,\"#ed7953\"],[0.7777777777777778,\"#fb9f3a\"],[0.8888888888888888,\"#fdca26\"],[1.0,\"#f0f921\"]]}],\"choropleth\":[{\"type\":\"choropleth\",\"colorbar\":{\"outlinewidth\":0,\"ticks\":\"\"}}],\"histogram2d\":[{\"type\":\"histogram2d\",\"colorbar\":{\"outlinewidth\":0,\"ticks\":\"\"},\"colorscale\":[[0.0,\"#0d0887\"],[0.1111111111111111,\"#46039f\"],[0.2222222222222222,\"#7201a8\"],[0.3333333333333333,\"#9c179e\"],[0.4444444444444444,\"#bd3786\"],[0.5555555555555556,\"#d8576b\"],[0.6666666666666666,\"#ed7953\"],[0.7777777777777778,\"#fb9f3a\"],[0.8888888888888888,\"#fdca26\"],[1.0,\"#f0f921\"]]}],\"heatmap\":[{\"type\":\"heatmap\",\"colorbar\":{\"outlinewidth\":0,\"ticks\":\"\"},\"colorscale\":[[0.0,\"#0d0887\"],[0.1111111111111111,\"#46039f\"],[0.2222222222222222,\"#7201a8\"],[0.3333333333333333,\"#9c179e\"],[0.4444444444444444,\"#bd3786\"],[0.5555555555555556,\"#d8576b\"],[0.6666666666666666,\"#ed7953\"],[0.7777777777777778,\"#fb9f3a\"],[0.8888888888888888,\"#fdca26\"],[1.0,\"#f0f921\"]]}],\"heatmapgl\":[{\"type\":\"heatmapgl\",\"colorbar\":{\"outlinewidth\":0,\"ticks\":\"\"},\"colorscale\":[[0.0,\"#0d0887\"],[0.1111111111111111,\"#46039f\"],[0.2222222222222222,\"#7201a8\"],[0.3333333333333333,\"#9c179e\"],[0.4444444444444444,\"#bd3786\"],[0.5555555555555556,\"#d8576b\"],[0.6666666666666666,\"#ed7953\"],[0.7777777777777778,\"#fb9f3a\"],[0.8888888888888888,\"#fdca26\"],[1.0,\"#f0f921\"]]}],\"contourcarpet\":[{\"type\":\"contourcarpet\",\"colorbar\":{\"outlinewidth\":0,\"ticks\":\"\"}}],\"contour\":[{\"type\":\"contour\",\"colorbar\":{\"outlinewidth\":0,\"ticks\":\"\"},\"colorscale\":[[0.0,\"#0d0887\"],[0.1111111111111111,\"#46039f\"],[0.2222222222222222,\"#7201a8\"],[0.3333333333333333,\"#9c179e\"],[0.4444444444444444,\"#bd3786\"],[0.5555555555555556,\"#d8576b\"],[0.6666666666666666,\"#ed7953\"],[0.7777777777777778,\"#fb9f3a\"],[0.8888888888888888,\"#fdca26\"],[1.0,\"#f0f921\"]]}],\"surface\":[{\"type\":\"surface\",\"colorbar\":{\"outlinewidth\":0,\"ticks\":\"\"},\"colorscale\":[[0.0,\"#0d0887\"],[0.1111111111111111,\"#46039f\"],[0.2222222222222222,\"#7201a8\"],[0.3333333333333333,\"#9c179e\"],[0.4444444444444444,\"#bd3786\"],[0.5555555555555556,\"#d8576b\"],[0.6666666666666666,\"#ed7953\"],[0.7777777777777778,\"#fb9f3a\"],[0.8888888888888888,\"#fdca26\"],[1.0,\"#f0f921\"]]}],\"mesh3d\":[{\"type\":\"mesh3d\",\"colorbar\":{\"outlinewidth\":0,\"ticks\":\"\"}}],\"scatter\":[{\"fillpattern\":{\"fillmode\":\"overlay\",\"size\":10,\"solidity\":0.2},\"type\":\"scatter\"}],\"parcoords\":[{\"type\":\"parcoords\",\"line\":{\"colorbar\":{\"outlinewidth\":0,\"ticks\":\"\"}}}],\"scatterpolargl\":[{\"type\":\"scatterpolargl\",\"marker\":{\"colorbar\":{\"outlinewidth\":0,\"ticks\":\"\"}}}],\"bar\":[{\"error_x\":{\"color\":\"#2a3f5f\"},\"error_y\":{\"color\":\"#2a3f5f\"},\"marker\":{\"line\":{\"color\":\"#E5ECF6\",\"width\":0.5},\"pattern\":{\"fillmode\":\"overlay\",\"size\":10,\"solidity\":0.2}},\"type\":\"bar\"}],\"scattergeo\":[{\"type\":\"scattergeo\",\"marker\":{\"colorbar\":{\"outlinewidth\":0,\"ticks\":\"\"}}}],\"scatterpolar\":[{\"type\":\"scatterpolar\",\"marker\":{\"colorbar\":{\"outlinewidth\":0,\"ticks\":\"\"}}}],\"histogram\":[{\"marker\":{\"pattern\":{\"fillmode\":\"overlay\",\"size\":10,\"solidity\":0.2}},\"type\":\"histogram\"}],\"scattergl\":[{\"type\":\"scattergl\",\"marker\":{\"colorbar\":{\"outlinewidth\":0,\"ticks\":\"\"}}}],\"scatter3d\":[{\"type\":\"scatter3d\",\"line\":{\"colorbar\":{\"outlinewidth\":0,\"ticks\":\"\"}},\"marker\":{\"colorbar\":{\"outlinewidth\":0,\"ticks\":\"\"}}}],\"scattermapbox\":[{\"type\":\"scattermapbox\",\"marker\":{\"colorbar\":{\"outlinewidth\":0,\"ticks\":\"\"}}}],\"scatterternary\":[{\"type\":\"scatterternary\",\"marker\":{\"colorbar\":{\"outlinewidth\":0,\"ticks\":\"\"}}}],\"scattercarpet\":[{\"type\":\"scattercarpet\",\"marker\":{\"colorbar\":{\"outlinewidth\":0,\"ticks\":\"\"}}}],\"carpet\":[{\"aaxis\":{\"endlinecolor\":\"#2a3f5f\",\"gridcolor\":\"white\",\"linecolor\":\"white\",\"minorgridcolor\":\"white\",\"startlinecolor\":\"#2a3f5f\"},\"baxis\":{\"endlinecolor\":\"#2a3f5f\",\"gridcolor\":\"white\",\"linecolor\":\"white\",\"minorgridcolor\":\"white\",\"startlinecolor\":\"#2a3f5f\"},\"type\":\"carpet\"}],\"table\":[{\"cells\":{\"fill\":{\"color\":\"#EBF0F8\"},\"line\":{\"color\":\"white\"}},\"header\":{\"fill\":{\"color\":\"#C8D4E3\"},\"line\":{\"color\":\"white\"}},\"type\":\"table\"}],\"barpolar\":[{\"marker\":{\"line\":{\"color\":\"#E5ECF6\",\"width\":0.5},\"pattern\":{\"fillmode\":\"overlay\",\"size\":10,\"solidity\":0.2}},\"type\":\"barpolar\"}],\"pie\":[{\"automargin\":true,\"type\":\"pie\"}]},\"layout\":{\"autotypenumbers\":\"strict\",\"colorway\":[\"#636efa\",\"#EF553B\",\"#00cc96\",\"#ab63fa\",\"#FFA15A\",\"#19d3f3\",\"#FF6692\",\"#B6E880\",\"#FF97FF\",\"#FECB52\"],\"font\":{\"color\":\"#2a3f5f\"},\"hovermode\":\"closest\",\"hoverlabel\":{\"align\":\"left\"},\"paper_bgcolor\":\"white\",\"plot_bgcolor\":\"#E5ECF6\",\"polar\":{\"bgcolor\":\"#E5ECF6\",\"angularaxis\":{\"gridcolor\":\"white\",\"linecolor\":\"white\",\"ticks\":\"\"},\"radialaxis\":{\"gridcolor\":\"white\",\"linecolor\":\"white\",\"ticks\":\"\"}},\"ternary\":{\"bgcolor\":\"#E5ECF6\",\"aaxis\":{\"gridcolor\":\"white\",\"linecolor\":\"white\",\"ticks\":\"\"},\"baxis\":{\"gridcolor\":\"white\",\"linecolor\":\"white\",\"ticks\":\"\"},\"caxis\":{\"gridcolor\":\"white\",\"linecolor\":\"white\",\"ticks\":\"\"}},\"coloraxis\":{\"colorbar\":{\"outlinewidth\":0,\"ticks\":\"\"}},\"colorscale\":{\"sequential\":[[0.0,\"#0d0887\"],[0.1111111111111111,\"#46039f\"],[0.2222222222222222,\"#7201a8\"],[0.3333333333333333,\"#9c179e\"],[0.4444444444444444,\"#bd3786\"],[0.5555555555555556,\"#d8576b\"],[0.6666666666666666,\"#ed7953\"],[0.7777777777777778,\"#fb9f3a\"],[0.8888888888888888,\"#fdca26\"],[1.0,\"#f0f921\"]],\"sequentialminus\":[[0.0,\"#0d0887\"],[0.1111111111111111,\"#46039f\"],[0.2222222222222222,\"#7201a8\"],[0.3333333333333333,\"#9c179e\"],[0.4444444444444444,\"#bd3786\"],[0.5555555555555556,\"#d8576b\"],[0.6666666666666666,\"#ed7953\"],[0.7777777777777778,\"#fb9f3a\"],[0.8888888888888888,\"#fdca26\"],[1.0,\"#f0f921\"]],\"diverging\":[[0,\"#8e0152\"],[0.1,\"#c51b7d\"],[0.2,\"#de77ae\"],[0.3,\"#f1b6da\"],[0.4,\"#fde0ef\"],[0.5,\"#f7f7f7\"],[0.6,\"#e6f5d0\"],[0.7,\"#b8e186\"],[0.8,\"#7fbc41\"],[0.9,\"#4d9221\"],[1,\"#276419\"]]},\"xaxis\":{\"gridcolor\":\"white\",\"linecolor\":\"white\",\"ticks\":\"\",\"title\":{\"standoff\":15},\"zerolinecolor\":\"white\",\"automargin\":true,\"zerolinewidth\":2},\"yaxis\":{\"gridcolor\":\"white\",\"linecolor\":\"white\",\"ticks\":\"\",\"title\":{\"standoff\":15},\"zerolinecolor\":\"white\",\"automargin\":true,\"zerolinewidth\":2},\"scene\":{\"xaxis\":{\"backgroundcolor\":\"#E5ECF6\",\"gridcolor\":\"white\",\"linecolor\":\"white\",\"showbackground\":true,\"ticks\":\"\",\"zerolinecolor\":\"white\",\"gridwidth\":2},\"yaxis\":{\"backgroundcolor\":\"#E5ECF6\",\"gridcolor\":\"white\",\"linecolor\":\"white\",\"showbackground\":true,\"ticks\":\"\",\"zerolinecolor\":\"white\",\"gridwidth\":2},\"zaxis\":{\"backgroundcolor\":\"#E5ECF6\",\"gridcolor\":\"white\",\"linecolor\":\"white\",\"showbackground\":true,\"ticks\":\"\",\"zerolinecolor\":\"white\",\"gridwidth\":2}},\"shapedefaults\":{\"line\":{\"color\":\"#2a3f5f\"}},\"annotationdefaults\":{\"arrowcolor\":\"#2a3f5f\",\"arrowhead\":0,\"arrowwidth\":1},\"geo\":{\"bgcolor\":\"white\",\"landcolor\":\"#E5ECF6\",\"subunitcolor\":\"white\",\"showland\":true,\"showlakes\":true,\"lakecolor\":\"white\"},\"title\":{\"x\":0.05},\"mapbox\":{\"style\":\"light\"}}},\"xaxis\":{\"anchor\":\"y\",\"domain\":[0.0,1.0]},\"yaxis\":{\"anchor\":\"x\",\"domain\":[0.0,1.0]},\"margin\":{\"t\":60}},                        {\"responsive\": true}                    ).then(function(){\n",
       "                            \n",
       "var gd = document.getElementById('32ebb44d-38c9-4d11-a0eb-dab0af6f3796');\n",
       "var x = new MutationObserver(function (mutations, observer) {{\n",
       "        var display = window.getComputedStyle(gd).display;\n",
       "        if (!display || display === 'none') {{\n",
       "            console.log([gd, 'removed!']);\n",
       "            Plotly.purge(gd);\n",
       "            observer.disconnect();\n",
       "        }}\n",
       "}});\n",
       "\n",
       "// Listen for the removal of the full notebook cells\n",
       "var notebookContainer = gd.closest('#notebook-container');\n",
       "if (notebookContainer) {{\n",
       "    x.observe(notebookContainer, {childList: true});\n",
       "}}\n",
       "\n",
       "// Listen for the clearing of the current output cell\n",
       "var outputEl = gd.closest('.output');\n",
       "if (outputEl) {{\n",
       "    x.observe(outputEl, {childList: true});\n",
       "}}\n",
       "\n",
       "                        })                };                });            </script>        </div>"
      ]
     },
     "metadata": {},
     "output_type": "display_data"
    }
   ],
   "source": [
    "# Interactive testing (for now animal only)\n",
    "images, label = test_image_loader.batch_sample(1, True)\n",
    "\n",
    "prediction = CNN.classify(images)\n",
    "prediction = prediction[0]\n",
    "\n",
    "# Assert animal image loader and CNN are in sync\n",
    "assert(test_image_loader.get_classifications_map() == CNN.get_image_loader_classification_map())\n",
    "\n",
    "# Now reverse mapping from string->float to float->string\n",
    "classification_map = {}\n",
    "for key, value in test_image_loader.get_classifications_map().items():\n",
    "    classification_map[value] = key\n",
    "\n",
    "print(\"Label: \" + classification_map[label[0]] + \" \" + str(label[0]))\n",
    "print(\"Prediction: \" + classification_map[prediction] + \" (\" + str(prediction) + \")\")\n",
    "view_image((np.array(images[0]) +0.5), input_width, input_height, colorscale=\"\")"
   ]
  }
 ],
 "metadata": {
  "kernelspec": {
   "display_name": ".venv",
   "language": "python",
   "name": "python3"
  },
  "language_info": {
   "codemirror_mode": {
    "name": "ipython",
    "version": 3
   },
   "file_extension": ".py",
   "mimetype": "text/x-python",
   "name": "python",
   "nbconvert_exporter": "python",
   "pygments_lexer": "ipython3",
   "version": "3.10.12"
  },
  "orig_nbformat": 4
 },
 "nbformat": 4,
 "nbformat_minor": 2
}
