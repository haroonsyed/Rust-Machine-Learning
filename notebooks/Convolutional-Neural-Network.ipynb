{
 "cells": [
  {
   "cell_type": "code",
   "execution_count": 1,
   "metadata": {},
   "outputs": [],
   "source": [
    "import rust_machine_learning\n",
    "from syed_ml_lib import *\n",
    "import os"
   ]
  },
  {
   "cell_type": "code",
   "execution_count": 2,
   "metadata": {},
   "outputs": [
    {
     "name": "stdout",
     "output_type": "stream",
     "text": [
      "Reading images for classification \"truck\"\n",
      "Reading images for classification \"airplane\"\n",
      "Reading images for classification \"cat\"\n",
      "Reading images for classification \"deer\"\n",
      "Reading images for classification \"dog\"\n",
      "Reading images for classification \"ship\"\n",
      "Reading images for classification \"bird\"\n",
      "Reading images for classification \"automobile\"\n",
      "Reading images for classification \"frog\"\n",
      "Reading images for classification \"horse\"\n"
     ]
    }
   ],
   "source": [
    "# Setup the CNN\n",
    "num_classifications = 10\n",
    "input_height = 28\n",
    "input_width = 28\n",
    "input_depth = 1\n",
    "CNN = rust_machine_learning.ConvolutionalNeuralNetwork(num_classifications, input_height, input_width, input_depth)\n",
    "\n",
    "# Setup the optimizer\n",
    "learning_rate = 1e-2\n",
    "momentum = 0.9\n",
    "# CNN.set_optimizer_stochastic_gradient_descent(learning_rate)\n",
    "# CNN.set_optimizer_momentum(learning_rate, momentum)\n",
    "CNN.set_optimizer_adagrad(learning_rate)\n",
    "\n",
    "# Setup the layers\n",
    "# The api has 3 functions\n",
    "# add_convolutional_layer(filter_height, filter_width, num_filters)\n",
    "# add_max_pool_layer()\n",
    "# add_fully_connected_layer() \n",
    "# Add fully connected layer can only be called once, and must be called last\n",
    "\n",
    "CNN.add_convolutional_layer(3, 3, 32)\n",
    "CNN.add_max_pool_layer()\n",
    "CNN.add_fully_connected_layer() \n",
    "\n",
    "image_directory = \"../data/cifar-10/\"\n",
    "image_directory_path = os.path.abspath(image_directory)\n",
    "CNN.set_image_loader(image_directory_path, input_height, input_width)"
   ]
  },
  {
   "cell_type": "code",
   "execution_count": 3,
   "metadata": {},
   "outputs": [
    {
     "data": {
      "text/html": [
       "<div>\n",
       "<style scoped>\n",
       "    .dataframe tbody tr th:only-of-type {\n",
       "        vertical-align: middle;\n",
       "    }\n",
       "\n",
       "    .dataframe tbody tr th {\n",
       "        vertical-align: top;\n",
       "    }\n",
       "\n",
       "    .dataframe thead th {\n",
       "        text-align: right;\n",
       "    }\n",
       "</style>\n",
       "<table border=\"1\" class=\"dataframe\">\n",
       "  <thead>\n",
       "    <tr style=\"text-align: right;\">\n",
       "      <th></th>\n",
       "      <th>label</th>\n",
       "      <th>pixel0</th>\n",
       "      <th>pixel1</th>\n",
       "      <th>pixel2</th>\n",
       "      <th>pixel3</th>\n",
       "      <th>pixel4</th>\n",
       "      <th>pixel5</th>\n",
       "      <th>pixel6</th>\n",
       "      <th>pixel7</th>\n",
       "      <th>pixel8</th>\n",
       "      <th>...</th>\n",
       "      <th>pixel774</th>\n",
       "      <th>pixel775</th>\n",
       "      <th>pixel776</th>\n",
       "      <th>pixel777</th>\n",
       "      <th>pixel778</th>\n",
       "      <th>pixel779</th>\n",
       "      <th>pixel780</th>\n",
       "      <th>pixel781</th>\n",
       "      <th>pixel782</th>\n",
       "      <th>pixel783</th>\n",
       "    </tr>\n",
       "  </thead>\n",
       "  <tbody>\n",
       "    <tr>\n",
       "      <th>0</th>\n",
       "      <td>1.0</td>\n",
       "      <td>-0.5</td>\n",
       "      <td>-0.5</td>\n",
       "      <td>-0.5</td>\n",
       "      <td>-0.5</td>\n",
       "      <td>-0.5</td>\n",
       "      <td>-0.5</td>\n",
       "      <td>-0.5</td>\n",
       "      <td>-0.5</td>\n",
       "      <td>-0.5</td>\n",
       "      <td>...</td>\n",
       "      <td>-0.5</td>\n",
       "      <td>-0.5</td>\n",
       "      <td>-0.5</td>\n",
       "      <td>-0.5</td>\n",
       "      <td>-0.5</td>\n",
       "      <td>-0.5</td>\n",
       "      <td>-0.5</td>\n",
       "      <td>-0.5</td>\n",
       "      <td>-0.5</td>\n",
       "      <td>-0.5</td>\n",
       "    </tr>\n",
       "    <tr>\n",
       "      <th>1</th>\n",
       "      <td>0.0</td>\n",
       "      <td>-0.5</td>\n",
       "      <td>-0.5</td>\n",
       "      <td>-0.5</td>\n",
       "      <td>-0.5</td>\n",
       "      <td>-0.5</td>\n",
       "      <td>-0.5</td>\n",
       "      <td>-0.5</td>\n",
       "      <td>-0.5</td>\n",
       "      <td>-0.5</td>\n",
       "      <td>...</td>\n",
       "      <td>-0.5</td>\n",
       "      <td>-0.5</td>\n",
       "      <td>-0.5</td>\n",
       "      <td>-0.5</td>\n",
       "      <td>-0.5</td>\n",
       "      <td>-0.5</td>\n",
       "      <td>-0.5</td>\n",
       "      <td>-0.5</td>\n",
       "      <td>-0.5</td>\n",
       "      <td>-0.5</td>\n",
       "    </tr>\n",
       "    <tr>\n",
       "      <th>2</th>\n",
       "      <td>1.0</td>\n",
       "      <td>-0.5</td>\n",
       "      <td>-0.5</td>\n",
       "      <td>-0.5</td>\n",
       "      <td>-0.5</td>\n",
       "      <td>-0.5</td>\n",
       "      <td>-0.5</td>\n",
       "      <td>-0.5</td>\n",
       "      <td>-0.5</td>\n",
       "      <td>-0.5</td>\n",
       "      <td>...</td>\n",
       "      <td>-0.5</td>\n",
       "      <td>-0.5</td>\n",
       "      <td>-0.5</td>\n",
       "      <td>-0.5</td>\n",
       "      <td>-0.5</td>\n",
       "      <td>-0.5</td>\n",
       "      <td>-0.5</td>\n",
       "      <td>-0.5</td>\n",
       "      <td>-0.5</td>\n",
       "      <td>-0.5</td>\n",
       "    </tr>\n",
       "    <tr>\n",
       "      <th>3</th>\n",
       "      <td>4.0</td>\n",
       "      <td>-0.5</td>\n",
       "      <td>-0.5</td>\n",
       "      <td>-0.5</td>\n",
       "      <td>-0.5</td>\n",
       "      <td>-0.5</td>\n",
       "      <td>-0.5</td>\n",
       "      <td>-0.5</td>\n",
       "      <td>-0.5</td>\n",
       "      <td>-0.5</td>\n",
       "      <td>...</td>\n",
       "      <td>-0.5</td>\n",
       "      <td>-0.5</td>\n",
       "      <td>-0.5</td>\n",
       "      <td>-0.5</td>\n",
       "      <td>-0.5</td>\n",
       "      <td>-0.5</td>\n",
       "      <td>-0.5</td>\n",
       "      <td>-0.5</td>\n",
       "      <td>-0.5</td>\n",
       "      <td>-0.5</td>\n",
       "    </tr>\n",
       "    <tr>\n",
       "      <th>4</th>\n",
       "      <td>0.0</td>\n",
       "      <td>-0.5</td>\n",
       "      <td>-0.5</td>\n",
       "      <td>-0.5</td>\n",
       "      <td>-0.5</td>\n",
       "      <td>-0.5</td>\n",
       "      <td>-0.5</td>\n",
       "      <td>-0.5</td>\n",
       "      <td>-0.5</td>\n",
       "      <td>-0.5</td>\n",
       "      <td>...</td>\n",
       "      <td>-0.5</td>\n",
       "      <td>-0.5</td>\n",
       "      <td>-0.5</td>\n",
       "      <td>-0.5</td>\n",
       "      <td>-0.5</td>\n",
       "      <td>-0.5</td>\n",
       "      <td>-0.5</td>\n",
       "      <td>-0.5</td>\n",
       "      <td>-0.5</td>\n",
       "      <td>-0.5</td>\n",
       "    </tr>\n",
       "    <tr>\n",
       "      <th>...</th>\n",
       "      <td>...</td>\n",
       "      <td>...</td>\n",
       "      <td>...</td>\n",
       "      <td>...</td>\n",
       "      <td>...</td>\n",
       "      <td>...</td>\n",
       "      <td>...</td>\n",
       "      <td>...</td>\n",
       "      <td>...</td>\n",
       "      <td>...</td>\n",
       "      <td>...</td>\n",
       "      <td>...</td>\n",
       "      <td>...</td>\n",
       "      <td>...</td>\n",
       "      <td>...</td>\n",
       "      <td>...</td>\n",
       "      <td>...</td>\n",
       "      <td>...</td>\n",
       "      <td>...</td>\n",
       "      <td>...</td>\n",
       "      <td>...</td>\n",
       "    </tr>\n",
       "    <tr>\n",
       "      <th>41995</th>\n",
       "      <td>0.0</td>\n",
       "      <td>-0.5</td>\n",
       "      <td>-0.5</td>\n",
       "      <td>-0.5</td>\n",
       "      <td>-0.5</td>\n",
       "      <td>-0.5</td>\n",
       "      <td>-0.5</td>\n",
       "      <td>-0.5</td>\n",
       "      <td>-0.5</td>\n",
       "      <td>-0.5</td>\n",
       "      <td>...</td>\n",
       "      <td>-0.5</td>\n",
       "      <td>-0.5</td>\n",
       "      <td>-0.5</td>\n",
       "      <td>-0.5</td>\n",
       "      <td>-0.5</td>\n",
       "      <td>-0.5</td>\n",
       "      <td>-0.5</td>\n",
       "      <td>-0.5</td>\n",
       "      <td>-0.5</td>\n",
       "      <td>-0.5</td>\n",
       "    </tr>\n",
       "    <tr>\n",
       "      <th>41996</th>\n",
       "      <td>1.0</td>\n",
       "      <td>-0.5</td>\n",
       "      <td>-0.5</td>\n",
       "      <td>-0.5</td>\n",
       "      <td>-0.5</td>\n",
       "      <td>-0.5</td>\n",
       "      <td>-0.5</td>\n",
       "      <td>-0.5</td>\n",
       "      <td>-0.5</td>\n",
       "      <td>-0.5</td>\n",
       "      <td>...</td>\n",
       "      <td>-0.5</td>\n",
       "      <td>-0.5</td>\n",
       "      <td>-0.5</td>\n",
       "      <td>-0.5</td>\n",
       "      <td>-0.5</td>\n",
       "      <td>-0.5</td>\n",
       "      <td>-0.5</td>\n",
       "      <td>-0.5</td>\n",
       "      <td>-0.5</td>\n",
       "      <td>-0.5</td>\n",
       "    </tr>\n",
       "    <tr>\n",
       "      <th>41997</th>\n",
       "      <td>7.0</td>\n",
       "      <td>-0.5</td>\n",
       "      <td>-0.5</td>\n",
       "      <td>-0.5</td>\n",
       "      <td>-0.5</td>\n",
       "      <td>-0.5</td>\n",
       "      <td>-0.5</td>\n",
       "      <td>-0.5</td>\n",
       "      <td>-0.5</td>\n",
       "      <td>-0.5</td>\n",
       "      <td>...</td>\n",
       "      <td>-0.5</td>\n",
       "      <td>-0.5</td>\n",
       "      <td>-0.5</td>\n",
       "      <td>-0.5</td>\n",
       "      <td>-0.5</td>\n",
       "      <td>-0.5</td>\n",
       "      <td>-0.5</td>\n",
       "      <td>-0.5</td>\n",
       "      <td>-0.5</td>\n",
       "      <td>-0.5</td>\n",
       "    </tr>\n",
       "    <tr>\n",
       "      <th>41998</th>\n",
       "      <td>6.0</td>\n",
       "      <td>-0.5</td>\n",
       "      <td>-0.5</td>\n",
       "      <td>-0.5</td>\n",
       "      <td>-0.5</td>\n",
       "      <td>-0.5</td>\n",
       "      <td>-0.5</td>\n",
       "      <td>-0.5</td>\n",
       "      <td>-0.5</td>\n",
       "      <td>-0.5</td>\n",
       "      <td>...</td>\n",
       "      <td>-0.5</td>\n",
       "      <td>-0.5</td>\n",
       "      <td>-0.5</td>\n",
       "      <td>-0.5</td>\n",
       "      <td>-0.5</td>\n",
       "      <td>-0.5</td>\n",
       "      <td>-0.5</td>\n",
       "      <td>-0.5</td>\n",
       "      <td>-0.5</td>\n",
       "      <td>-0.5</td>\n",
       "    </tr>\n",
       "    <tr>\n",
       "      <th>41999</th>\n",
       "      <td>9.0</td>\n",
       "      <td>-0.5</td>\n",
       "      <td>-0.5</td>\n",
       "      <td>-0.5</td>\n",
       "      <td>-0.5</td>\n",
       "      <td>-0.5</td>\n",
       "      <td>-0.5</td>\n",
       "      <td>-0.5</td>\n",
       "      <td>-0.5</td>\n",
       "      <td>-0.5</td>\n",
       "      <td>...</td>\n",
       "      <td>-0.5</td>\n",
       "      <td>-0.5</td>\n",
       "      <td>-0.5</td>\n",
       "      <td>-0.5</td>\n",
       "      <td>-0.5</td>\n",
       "      <td>-0.5</td>\n",
       "      <td>-0.5</td>\n",
       "      <td>-0.5</td>\n",
       "      <td>-0.5</td>\n",
       "      <td>-0.5</td>\n",
       "    </tr>\n",
       "  </tbody>\n",
       "</table>\n",
       "<p>42000 rows × 785 columns</p>\n",
       "</div>"
      ],
      "text/plain": [
       "       label  pixel0  pixel1  pixel2  pixel3  pixel4  pixel5  pixel6  pixel7  \\\n",
       "0        1.0    -0.5    -0.5    -0.5    -0.5    -0.5    -0.5    -0.5    -0.5   \n",
       "1        0.0    -0.5    -0.5    -0.5    -0.5    -0.5    -0.5    -0.5    -0.5   \n",
       "2        1.0    -0.5    -0.5    -0.5    -0.5    -0.5    -0.5    -0.5    -0.5   \n",
       "3        4.0    -0.5    -0.5    -0.5    -0.5    -0.5    -0.5    -0.5    -0.5   \n",
       "4        0.0    -0.5    -0.5    -0.5    -0.5    -0.5    -0.5    -0.5    -0.5   \n",
       "...      ...     ...     ...     ...     ...     ...     ...     ...     ...   \n",
       "41995    0.0    -0.5    -0.5    -0.5    -0.5    -0.5    -0.5    -0.5    -0.5   \n",
       "41996    1.0    -0.5    -0.5    -0.5    -0.5    -0.5    -0.5    -0.5    -0.5   \n",
       "41997    7.0    -0.5    -0.5    -0.5    -0.5    -0.5    -0.5    -0.5    -0.5   \n",
       "41998    6.0    -0.5    -0.5    -0.5    -0.5    -0.5    -0.5    -0.5    -0.5   \n",
       "41999    9.0    -0.5    -0.5    -0.5    -0.5    -0.5    -0.5    -0.5    -0.5   \n",
       "\n",
       "       pixel8  ...  pixel774  pixel775  pixel776  pixel777  pixel778  \\\n",
       "0        -0.5  ...      -0.5      -0.5      -0.5      -0.5      -0.5   \n",
       "1        -0.5  ...      -0.5      -0.5      -0.5      -0.5      -0.5   \n",
       "2        -0.5  ...      -0.5      -0.5      -0.5      -0.5      -0.5   \n",
       "3        -0.5  ...      -0.5      -0.5      -0.5      -0.5      -0.5   \n",
       "4        -0.5  ...      -0.5      -0.5      -0.5      -0.5      -0.5   \n",
       "...       ...  ...       ...       ...       ...       ...       ...   \n",
       "41995    -0.5  ...      -0.5      -0.5      -0.5      -0.5      -0.5   \n",
       "41996    -0.5  ...      -0.5      -0.5      -0.5      -0.5      -0.5   \n",
       "41997    -0.5  ...      -0.5      -0.5      -0.5      -0.5      -0.5   \n",
       "41998    -0.5  ...      -0.5      -0.5      -0.5      -0.5      -0.5   \n",
       "41999    -0.5  ...      -0.5      -0.5      -0.5      -0.5      -0.5   \n",
       "\n",
       "       pixel779  pixel780  pixel781  pixel782  pixel783  \n",
       "0          -0.5      -0.5      -0.5      -0.5      -0.5  \n",
       "1          -0.5      -0.5      -0.5      -0.5      -0.5  \n",
       "2          -0.5      -0.5      -0.5      -0.5      -0.5  \n",
       "3          -0.5      -0.5      -0.5      -0.5      -0.5  \n",
       "4          -0.5      -0.5      -0.5      -0.5      -0.5  \n",
       "...         ...       ...       ...       ...       ...  \n",
       "41995      -0.5      -0.5      -0.5      -0.5      -0.5  \n",
       "41996      -0.5      -0.5      -0.5      -0.5      -0.5  \n",
       "41997      -0.5      -0.5      -0.5      -0.5      -0.5  \n",
       "41998      -0.5      -0.5      -0.5      -0.5      -0.5  \n",
       "41999      -0.5      -0.5      -0.5      -0.5      -0.5  \n",
       "\n",
       "[42000 rows x 785 columns]"
      ]
     },
     "execution_count": 3,
     "metadata": {},
     "output_type": "execute_result"
    }
   ],
   "source": [
    "# Grab mnist data\n",
    "import random\n",
    "import numpy as np\n",
    "\n",
    "df = pd.read_csv(\"../data/digit-recognizer/train.csv\")\n",
    "\n",
    "# Normalize images\n",
    "df.iloc[:, 1:] = df.iloc[:, 1:].div(255.0).sub(0.5)\n",
    "images = df.iloc[:, 1:].values.tolist()\n",
    "df.iloc[:, 0] = df.iloc[:, 0].astype(np.float32)\n",
    "labels = df.iloc[:, 0].values.tolist()\n",
    "\n",
    "# Split into training and testing\n",
    "test_images = images[0:20000]\n",
    "test_labels = labels[0:20000]\n",
    "train_images = images[20000:]\n",
    "train_labels = labels[20000:]\n",
    "\n",
    "df"
   ]
  },
  {
   "cell_type": "code",
   "execution_count": 4,
   "metadata": {},
   "outputs": [],
   "source": [
    "def test_mnist():\n",
    "    num_batches_to_test = 500\n",
    "    num_right = 0\n",
    "    for i in range(num_batches_to_test):\n",
    "\n",
    "        # Random sample one image from python list of images\n",
    "        rand_index = random.randint(0, len(test_images) - 1)\n",
    "        image = test_images[rand_index]\n",
    "        label = test_labels[rand_index]\n",
    "\n",
    "        prediction = CNN.classify([[image]])[0]\n",
    "        if prediction == label:\n",
    "            num_right += 1\n",
    "\n",
    "    print(\"Accuracy: \" + str(100.0 * num_right / (num_batches_to_test)))"
   ]
  },
  {
   "cell_type": "code",
   "execution_count": 5,
   "metadata": {},
   "outputs": [
    {
     "name": "stdout",
     "output_type": "stream",
     "text": [
      "Reading images for classification \"truck\"\n",
      "Reading images for classification \"airplane\"\n",
      "Reading images for classification \"cat\"\n",
      "Reading images for classification \"deer\"\n",
      "Reading images for classification \"dog\"\n",
      "Reading images for classification \"ship\"\n",
      "Reading images for classification \"bird\"\n",
      "Reading images for classification \"automobile\"\n",
      "Reading images for classification \"frog\"\n",
      "Reading images for classification \"horse\"\n"
     ]
    }
   ],
   "source": [
    "test_image_loader = rust_machine_learning.ImageBatchLoader(image_directory_path, input_width, input_height)\n",
    "def test_using_image_loader():\n",
    "    num_batches_to_test = 100\n",
    "    num_right = 0\n",
    "    for i in range(num_batches_to_test):\n",
    "\n",
    "        images, label = test_image_loader.batch_sample(1)\n",
    "\n",
    "        prediction = CNN.classify(images)[0]\n",
    "        if prediction == label[0]:\n",
    "            num_right += 1\n",
    "\n",
    "    print(\"Accuracy: \" + str(100.0 * num_right / (num_batches_to_test)))"
   ]
  },
  {
   "cell_type": "code",
   "execution_count": 6,
   "metadata": {},
   "outputs": [],
   "source": [
    "def train_using_raw_data():\n",
    "    batch_size = 8\n",
    "    num_iter = 3000\n",
    "\n",
    "    print(\"Accuracy before training:\")\n",
    "    test_mnist()\n",
    "    print(\"Training...\")\n",
    "    for i in range(0, num_iter):\n",
    "\n",
    "        # Create image and label batch from mnist\n",
    "        image_batch, label_batch = [], []\n",
    "        for j in range(batch_size):\n",
    "            rand_index = random.randint(0, len(train_images) - 1)\n",
    "            image = train_images[rand_index]\n",
    "            label = train_labels[rand_index]\n",
    "            image_batch.append([image])\n",
    "            label_batch.append(label)\n",
    "\n",
    "        # Train using MNIST dataset, select one image at a time randomly\n",
    "        CNN.train_raw_data(image_batch, label_batch)\n",
    "\n",
    "    print(\"Accuracy after training:\")\n",
    "    test_mnist()\n",
    "\n",
    "    # Get the loss and accuracy and plot it\n",
    "    perfomance_info = CNN.get_performance_info() # Return a list of tuple (accuracy, loss)\n",
    "    graph_accuracy_loss(perfomance_info)"
   ]
  },
  {
   "cell_type": "code",
   "execution_count": 7,
   "metadata": {},
   "outputs": [],
   "source": [
    "def train_using_set_img_loader():\n",
    "    batch_size = 32\n",
    "    num_iter = 3000\n",
    "    print(\"Accuracy before training:\")\n",
    "    test_using_image_loader()\n",
    "    print(\"Training...\")\n",
    "\n",
    "    # Split into increments of 50 because rust won't progress info print properly\n",
    "    for i in range(0, num_iter, 50):\n",
    "        CNN.train_using_image_loader(batch_size, 50)\n",
    "    test_using_image_loader()\n",
    "\n",
    "    # Get the loss and accuracy and plot it\n",
    "    perfomance_info = CNN.get_performance_info() # Return a list of tuple (accuracy, loss)\n",
    "    graph_accuracy_loss(perfomance_info)"
   ]
  },
  {
   "cell_type": "code",
   "execution_count": 8,
   "metadata": {},
   "outputs": [
    {
     "name": "stdout",
     "output_type": "stream",
     "text": [
      "Accuracy before training:\n",
      "Accuracy: 6.8\n",
      "Training...\n",
      "Iteration 50: Accuracy: 30.75 Loss: 4972.1587\n",
      "Iteration 100: Accuracy: 58 Loss: 3080.6948\n",
      "Iteration 150: Accuracy: 65.5 Loss: 2542.054\n",
      "Iteration 200: Accuracy: 70.75 Loss: 2151.4204\n",
      "Iteration 250: Accuracy: 71 Loss: 2121.8562\n",
      "Iteration 300: Accuracy: 79.25 Loss: 1517.1218\n",
      "Iteration 350: Accuracy: 76.5 Loss: 1715.7362\n",
      "Iteration 400: Accuracy: 77 Loss: 1678.0664\n",
      "Iteration 450: Accuracy: 80.5 Loss: 1415.3121\n",
      "Iteration 500: Accuracy: 81.25 Loss: 1381.5507\n",
      "Iteration 550: Accuracy: 79.75 Loss: 1492.0748\n",
      "Iteration 600: Accuracy: 80.5 Loss: 1410.6097\n",
      "Iteration 650: Accuracy: 83.25 Loss: 1234.1857\n",
      "Iteration 700: Accuracy: 79.5 Loss: 1496.5703\n",
      "Iteration 750: Accuracy: 80.25 Loss: 1455.2631\n",
      "Iteration 800: Accuracy: 80.25 Loss: 1443.2832\n",
      "Iteration 850: Accuracy: 82.25 Loss: 1307.8677\n",
      "Iteration 900: Accuracy: 79.25 Loss: 1528.9164\n",
      "Iteration 950: Accuracy: 80 Loss: 1473.6544\n",
      "Iteration 1000: Accuracy: 79.5 Loss: 1510.493\n",
      "Iteration 1050: Accuracy: 80 Loss: 1470.9385\n",
      "Iteration 1100: Accuracy: 84 Loss: 1166.3025\n",
      "Iteration 1150: Accuracy: 85 Loss: 1105.2407\n",
      "Iteration 1200: Accuracy: 82.5 Loss: 1289.4457\n",
      "Iteration 1250: Accuracy: 80.25 Loss: 1455.2335\n",
      "Iteration 1300: Accuracy: 85.5 Loss: 1055.2065\n",
      "Iteration 1350: Accuracy: 83 Loss: 1252.606\n",
      "Iteration 1400: Accuracy: 82 Loss: 1304.8102\n",
      "Iteration 1450: Accuracy: 84.75 Loss: 1123.6613\n",
      "Iteration 1500: Accuracy: 81.75 Loss: 1344.7058\n",
      "Iteration 1550: Accuracy: 87.75 Loss: 902.61316\n",
      "Iteration 1600: Accuracy: 85.5 Loss: 1047.0311\n",
      "Iteration 1650: Accuracy: 85.5 Loss: 1055.3116\n",
      "Iteration 1700: Accuracy: 88.75 Loss: 828.93036\n",
      "Iteration 1750: Accuracy: 86 Loss: 1031.5002\n",
      "Iteration 1800: Accuracy: 84.5 Loss: 1142.082\n",
      "Iteration 1850: Accuracy: 86 Loss: 1031.3638\n",
      "Iteration 1900: Accuracy: 82.75 Loss: 1244.9779\n",
      "Iteration 1950: Accuracy: 82.75 Loss: 1271.7219\n",
      "Iteration 2000: Accuracy: 86.5 Loss: 994.726\n",
      "Iteration 2050: Accuracy: 87.25 Loss: 939.4546\n",
      "Iteration 2100: Accuracy: 80.25 Loss: 1455.2334\n",
      "Iteration 2150: Accuracy: 85.5 Loss: 1051.7119\n",
      "Iteration 2200: Accuracy: 85.75 Loss: 1049.5613\n",
      "Iteration 2250: Accuracy: 85 Loss: 1104.3246\n",
      "Iteration 2300: Accuracy: 86.5 Loss: 990.5431\n",
      "Iteration 2350: Accuracy: 86.75 Loss: 976.29675\n",
      "Iteration 2400: Accuracy: 84.75 Loss: 1123.6826\n",
      "Iteration 2450: Accuracy: 88.5 Loss: 847.3511\n",
      "Iteration 2500: Accuracy: 85.25 Loss: 1086.8198\n",
      "Iteration 2550: Accuracy: 89.5 Loss: 773.6684\n",
      "Iteration 2600: Accuracy: 87.75 Loss: 902.6138\n",
      "Iteration 2650: Accuracy: 85 Loss: 1105.2407\n",
      "Iteration 2700: Accuracy: 86.75 Loss: 976.2959\n",
      "Iteration 2750: Accuracy: 81.25 Loss: 1381.5507\n",
      "Iteration 2800: Accuracy: 84 Loss: 1178.9833\n",
      "Iteration 2850: Accuracy: 86 Loss: 1031.558\n",
      "Iteration 2900: Accuracy: 88.5 Loss: 847.3512\n",
      "Iteration 2950: Accuracy: 89.75 Loss: 755.2478\n",
      "Accuracy after training:\n",
      "Accuracy: 91.6\n"
     ]
    },
    {
     "data": {
      "text/html": [
       "        <script type=\"text/javascript\">\n",
       "        window.PlotlyConfig = {MathJaxConfig: 'local'};\n",
       "        if (window.MathJax && window.MathJax.Hub && window.MathJax.Hub.Config) {window.MathJax.Hub.Config({SVG: {font: \"STIX-Web\"}});}\n",
       "        if (typeof require !== 'undefined') {\n",
       "        require.undef(\"plotly\");\n",
       "        requirejs.config({\n",
       "            paths: {\n",
       "                'plotly': ['https://cdn.plot.ly/plotly-2.20.0.min']\n",
       "            }\n",
       "        });\n",
       "        require(['plotly'], function(Plotly) {\n",
       "            window._Plotly = Plotly;\n",
       "        });\n",
       "        }\n",
       "        </script>\n",
       "        "
      ]
     },
     "metadata": {},
     "output_type": "display_data"
    },
    {
     "data": {
      "application/vnd.plotly.v1+json": {
       "config": {
        "linkText": "Export to plot.ly",
        "plotlyServerURL": "https://plot.ly",
        "showLink": false
       },
       "data": [
        {
         "mode": "lines",
         "name": "accuracy",
         "type": "scatter",
         "x": [
          0,
          1,
          2,
          3,
          4,
          5,
          6,
          7,
          8,
          9,
          10,
          11,
          12,
          13,
          14,
          15,
          16,
          17,
          18,
          19,
          20,
          21,
          22,
          23,
          24,
          25,
          26,
          27,
          28,
          29,
          30,
          31,
          32,
          33,
          34,
          35,
          36,
          37,
          38,
          39,
          40,
          41,
          42,
          43,
          44,
          45,
          46,
          47,
          48,
          49,
          50,
          51,
          52,
          53,
          54,
          55,
          56,
          57,
          58,
          59
         ],
         "y": [
          0.3075,
          0.58,
          0.655,
          0.7075,
          0.71,
          0.7925,
          0.765,
          0.77,
          0.805,
          0.8125,
          0.7975,
          0.805,
          0.8325,
          0.795,
          0.8025,
          0.8025,
          0.8225,
          0.7925,
          0.8,
          0.795,
          0.8,
          0.84,
          0.85,
          0.825,
          0.8025,
          0.855,
          0.83,
          0.82,
          0.8475,
          0.8175,
          0.8775,
          0.855,
          0.855,
          0.8875,
          0.86,
          0.845,
          0.86,
          0.8275,
          0.8275,
          0.865,
          0.8725,
          0.8025,
          0.855,
          0.8575,
          0.85,
          0.865,
          0.8675,
          0.8475,
          0.885,
          0.8525,
          0.895,
          0.8775,
          0.85,
          0.8675,
          0.8125,
          0.84,
          0.86,
          0.885,
          0.8975,
          0.88
         ]
        },
        {
         "mode": "lines",
         "name": "loss",
         "type": "scatter",
         "x": [
          0,
          1,
          2,
          3,
          4,
          5,
          6,
          7,
          8,
          9,
          10,
          11,
          12,
          13,
          14,
          15,
          16,
          17,
          18,
          19,
          20,
          21,
          22,
          23,
          24,
          25,
          26,
          27,
          28,
          29,
          30,
          31,
          32,
          33,
          34,
          35,
          36,
          37,
          38,
          39,
          40,
          41,
          42,
          43,
          44,
          45,
          46,
          47,
          48,
          49,
          50,
          51,
          52,
          53,
          54,
          55,
          56,
          57,
          58,
          59
         ],
         "y": [
          1,
          0.6195889985457107,
          0.5112576071780945,
          0.4326934323063158,
          0.42674748190141965,
          0.3051233720263251,
          0.3450686738981444,
          0.33749252797388113,
          0.2846474180792442,
          0.2778573140812106,
          0.30008592277644436,
          0.2837016734097805,
          0.24821928372448107,
          0.3009900538948271,
          0.2926823441976372,
          0.2902729564162007,
          0.26303820069977546,
          0.3074954917425457,
          0.29638121194569644,
          0.30379019169337546,
          0.2958349819173776,
          0.23456662641322812,
          0.22228589054619663,
          0.25933317070904877,
          0.2926764029118782,
          0.21222302192255882,
          0.2519239700044614,
          0.26242327762371354,
          0.22599062592771213,
          0.270447082244384,
          0.18153345763877984,
          0.21057878336412492,
          0.2122441601334619,
          0.1667143810834961,
          0.20745521375322218,
          0.22969541041076283,
          0.20742776599504606,
          0.2503898170879431,
          0.2557685711089906,
          0.20005918453545185,
          0.18894300205411363,
          0.29267637836111055,
          0.2115201825477235,
          0.21108764712415745,
          0.22210163703536323,
          0.19921791565750738,
          0.196352693774053,
          0.22599492231204202,
          0.17041915329116297,
          0.21858108151237834,
          0.1556001012866468,
          0.18153358039261783,
          0.22228589054619663,
          0.1963525219186798,
          0.2778573140812106,
          0.2371169847022203,
          0.20746682626629667,
          0.17041917784193056,
          0.15189535362974751,
          0.1764994086702116
         ]
        }
       ],
       "layout": {
        "template": {
         "data": {
          "bar": [
           {
            "error_x": {
             "color": "#2a3f5f"
            },
            "error_y": {
             "color": "#2a3f5f"
            },
            "marker": {
             "line": {
              "color": "#E5ECF6",
              "width": 0.5
             },
             "pattern": {
              "fillmode": "overlay",
              "size": 10,
              "solidity": 0.2
             }
            },
            "type": "bar"
           }
          ],
          "barpolar": [
           {
            "marker": {
             "line": {
              "color": "#E5ECF6",
              "width": 0.5
             },
             "pattern": {
              "fillmode": "overlay",
              "size": 10,
              "solidity": 0.2
             }
            },
            "type": "barpolar"
           }
          ],
          "carpet": [
           {
            "aaxis": {
             "endlinecolor": "#2a3f5f",
             "gridcolor": "white",
             "linecolor": "white",
             "minorgridcolor": "white",
             "startlinecolor": "#2a3f5f"
            },
            "baxis": {
             "endlinecolor": "#2a3f5f",
             "gridcolor": "white",
             "linecolor": "white",
             "minorgridcolor": "white",
             "startlinecolor": "#2a3f5f"
            },
            "type": "carpet"
           }
          ],
          "choropleth": [
           {
            "colorbar": {
             "outlinewidth": 0,
             "ticks": ""
            },
            "type": "choropleth"
           }
          ],
          "contour": [
           {
            "colorbar": {
             "outlinewidth": 0,
             "ticks": ""
            },
            "colorscale": [
             [
              0,
              "#0d0887"
             ],
             [
              0.1111111111111111,
              "#46039f"
             ],
             [
              0.2222222222222222,
              "#7201a8"
             ],
             [
              0.3333333333333333,
              "#9c179e"
             ],
             [
              0.4444444444444444,
              "#bd3786"
             ],
             [
              0.5555555555555556,
              "#d8576b"
             ],
             [
              0.6666666666666666,
              "#ed7953"
             ],
             [
              0.7777777777777778,
              "#fb9f3a"
             ],
             [
              0.8888888888888888,
              "#fdca26"
             ],
             [
              1,
              "#f0f921"
             ]
            ],
            "type": "contour"
           }
          ],
          "contourcarpet": [
           {
            "colorbar": {
             "outlinewidth": 0,
             "ticks": ""
            },
            "type": "contourcarpet"
           }
          ],
          "heatmap": [
           {
            "colorbar": {
             "outlinewidth": 0,
             "ticks": ""
            },
            "colorscale": [
             [
              0,
              "#0d0887"
             ],
             [
              0.1111111111111111,
              "#46039f"
             ],
             [
              0.2222222222222222,
              "#7201a8"
             ],
             [
              0.3333333333333333,
              "#9c179e"
             ],
             [
              0.4444444444444444,
              "#bd3786"
             ],
             [
              0.5555555555555556,
              "#d8576b"
             ],
             [
              0.6666666666666666,
              "#ed7953"
             ],
             [
              0.7777777777777778,
              "#fb9f3a"
             ],
             [
              0.8888888888888888,
              "#fdca26"
             ],
             [
              1,
              "#f0f921"
             ]
            ],
            "type": "heatmap"
           }
          ],
          "heatmapgl": [
           {
            "colorbar": {
             "outlinewidth": 0,
             "ticks": ""
            },
            "colorscale": [
             [
              0,
              "#0d0887"
             ],
             [
              0.1111111111111111,
              "#46039f"
             ],
             [
              0.2222222222222222,
              "#7201a8"
             ],
             [
              0.3333333333333333,
              "#9c179e"
             ],
             [
              0.4444444444444444,
              "#bd3786"
             ],
             [
              0.5555555555555556,
              "#d8576b"
             ],
             [
              0.6666666666666666,
              "#ed7953"
             ],
             [
              0.7777777777777778,
              "#fb9f3a"
             ],
             [
              0.8888888888888888,
              "#fdca26"
             ],
             [
              1,
              "#f0f921"
             ]
            ],
            "type": "heatmapgl"
           }
          ],
          "histogram": [
           {
            "marker": {
             "pattern": {
              "fillmode": "overlay",
              "size": 10,
              "solidity": 0.2
             }
            },
            "type": "histogram"
           }
          ],
          "histogram2d": [
           {
            "colorbar": {
             "outlinewidth": 0,
             "ticks": ""
            },
            "colorscale": [
             [
              0,
              "#0d0887"
             ],
             [
              0.1111111111111111,
              "#46039f"
             ],
             [
              0.2222222222222222,
              "#7201a8"
             ],
             [
              0.3333333333333333,
              "#9c179e"
             ],
             [
              0.4444444444444444,
              "#bd3786"
             ],
             [
              0.5555555555555556,
              "#d8576b"
             ],
             [
              0.6666666666666666,
              "#ed7953"
             ],
             [
              0.7777777777777778,
              "#fb9f3a"
             ],
             [
              0.8888888888888888,
              "#fdca26"
             ],
             [
              1,
              "#f0f921"
             ]
            ],
            "type": "histogram2d"
           }
          ],
          "histogram2dcontour": [
           {
            "colorbar": {
             "outlinewidth": 0,
             "ticks": ""
            },
            "colorscale": [
             [
              0,
              "#0d0887"
             ],
             [
              0.1111111111111111,
              "#46039f"
             ],
             [
              0.2222222222222222,
              "#7201a8"
             ],
             [
              0.3333333333333333,
              "#9c179e"
             ],
             [
              0.4444444444444444,
              "#bd3786"
             ],
             [
              0.5555555555555556,
              "#d8576b"
             ],
             [
              0.6666666666666666,
              "#ed7953"
             ],
             [
              0.7777777777777778,
              "#fb9f3a"
             ],
             [
              0.8888888888888888,
              "#fdca26"
             ],
             [
              1,
              "#f0f921"
             ]
            ],
            "type": "histogram2dcontour"
           }
          ],
          "mesh3d": [
           {
            "colorbar": {
             "outlinewidth": 0,
             "ticks": ""
            },
            "type": "mesh3d"
           }
          ],
          "parcoords": [
           {
            "line": {
             "colorbar": {
              "outlinewidth": 0,
              "ticks": ""
             }
            },
            "type": "parcoords"
           }
          ],
          "pie": [
           {
            "automargin": true,
            "type": "pie"
           }
          ],
          "scatter": [
           {
            "fillpattern": {
             "fillmode": "overlay",
             "size": 10,
             "solidity": 0.2
            },
            "type": "scatter"
           }
          ],
          "scatter3d": [
           {
            "line": {
             "colorbar": {
              "outlinewidth": 0,
              "ticks": ""
             }
            },
            "marker": {
             "colorbar": {
              "outlinewidth": 0,
              "ticks": ""
             }
            },
            "type": "scatter3d"
           }
          ],
          "scattercarpet": [
           {
            "marker": {
             "colorbar": {
              "outlinewidth": 0,
              "ticks": ""
             }
            },
            "type": "scattercarpet"
           }
          ],
          "scattergeo": [
           {
            "marker": {
             "colorbar": {
              "outlinewidth": 0,
              "ticks": ""
             }
            },
            "type": "scattergeo"
           }
          ],
          "scattergl": [
           {
            "marker": {
             "colorbar": {
              "outlinewidth": 0,
              "ticks": ""
             }
            },
            "type": "scattergl"
           }
          ],
          "scattermapbox": [
           {
            "marker": {
             "colorbar": {
              "outlinewidth": 0,
              "ticks": ""
             }
            },
            "type": "scattermapbox"
           }
          ],
          "scatterpolar": [
           {
            "marker": {
             "colorbar": {
              "outlinewidth": 0,
              "ticks": ""
             }
            },
            "type": "scatterpolar"
           }
          ],
          "scatterpolargl": [
           {
            "marker": {
             "colorbar": {
              "outlinewidth": 0,
              "ticks": ""
             }
            },
            "type": "scatterpolargl"
           }
          ],
          "scatterternary": [
           {
            "marker": {
             "colorbar": {
              "outlinewidth": 0,
              "ticks": ""
             }
            },
            "type": "scatterternary"
           }
          ],
          "surface": [
           {
            "colorbar": {
             "outlinewidth": 0,
             "ticks": ""
            },
            "colorscale": [
             [
              0,
              "#0d0887"
             ],
             [
              0.1111111111111111,
              "#46039f"
             ],
             [
              0.2222222222222222,
              "#7201a8"
             ],
             [
              0.3333333333333333,
              "#9c179e"
             ],
             [
              0.4444444444444444,
              "#bd3786"
             ],
             [
              0.5555555555555556,
              "#d8576b"
             ],
             [
              0.6666666666666666,
              "#ed7953"
             ],
             [
              0.7777777777777778,
              "#fb9f3a"
             ],
             [
              0.8888888888888888,
              "#fdca26"
             ],
             [
              1,
              "#f0f921"
             ]
            ],
            "type": "surface"
           }
          ],
          "table": [
           {
            "cells": {
             "fill": {
              "color": "#EBF0F8"
             },
             "line": {
              "color": "white"
             }
            },
            "header": {
             "fill": {
              "color": "#C8D4E3"
             },
             "line": {
              "color": "white"
             }
            },
            "type": "table"
           }
          ]
         },
         "layout": {
          "annotationdefaults": {
           "arrowcolor": "#2a3f5f",
           "arrowhead": 0,
           "arrowwidth": 1
          },
          "autotypenumbers": "strict",
          "coloraxis": {
           "colorbar": {
            "outlinewidth": 0,
            "ticks": ""
           }
          },
          "colorscale": {
           "diverging": [
            [
             0,
             "#8e0152"
            ],
            [
             0.1,
             "#c51b7d"
            ],
            [
             0.2,
             "#de77ae"
            ],
            [
             0.3,
             "#f1b6da"
            ],
            [
             0.4,
             "#fde0ef"
            ],
            [
             0.5,
             "#f7f7f7"
            ],
            [
             0.6,
             "#e6f5d0"
            ],
            [
             0.7,
             "#b8e186"
            ],
            [
             0.8,
             "#7fbc41"
            ],
            [
             0.9,
             "#4d9221"
            ],
            [
             1,
             "#276419"
            ]
           ],
           "sequential": [
            [
             0,
             "#0d0887"
            ],
            [
             0.1111111111111111,
             "#46039f"
            ],
            [
             0.2222222222222222,
             "#7201a8"
            ],
            [
             0.3333333333333333,
             "#9c179e"
            ],
            [
             0.4444444444444444,
             "#bd3786"
            ],
            [
             0.5555555555555556,
             "#d8576b"
            ],
            [
             0.6666666666666666,
             "#ed7953"
            ],
            [
             0.7777777777777778,
             "#fb9f3a"
            ],
            [
             0.8888888888888888,
             "#fdca26"
            ],
            [
             1,
             "#f0f921"
            ]
           ],
           "sequentialminus": [
            [
             0,
             "#0d0887"
            ],
            [
             0.1111111111111111,
             "#46039f"
            ],
            [
             0.2222222222222222,
             "#7201a8"
            ],
            [
             0.3333333333333333,
             "#9c179e"
            ],
            [
             0.4444444444444444,
             "#bd3786"
            ],
            [
             0.5555555555555556,
             "#d8576b"
            ],
            [
             0.6666666666666666,
             "#ed7953"
            ],
            [
             0.7777777777777778,
             "#fb9f3a"
            ],
            [
             0.8888888888888888,
             "#fdca26"
            ],
            [
             1,
             "#f0f921"
            ]
           ]
          },
          "colorway": [
           "#636efa",
           "#EF553B",
           "#00cc96",
           "#ab63fa",
           "#FFA15A",
           "#19d3f3",
           "#FF6692",
           "#B6E880",
           "#FF97FF",
           "#FECB52"
          ],
          "font": {
           "color": "#2a3f5f"
          },
          "geo": {
           "bgcolor": "white",
           "lakecolor": "white",
           "landcolor": "#E5ECF6",
           "showlakes": true,
           "showland": true,
           "subunitcolor": "white"
          },
          "hoverlabel": {
           "align": "left"
          },
          "hovermode": "closest",
          "mapbox": {
           "style": "light"
          },
          "paper_bgcolor": "white",
          "plot_bgcolor": "#E5ECF6",
          "polar": {
           "angularaxis": {
            "gridcolor": "white",
            "linecolor": "white",
            "ticks": ""
           },
           "bgcolor": "#E5ECF6",
           "radialaxis": {
            "gridcolor": "white",
            "linecolor": "white",
            "ticks": ""
           }
          },
          "scene": {
           "xaxis": {
            "backgroundcolor": "#E5ECF6",
            "gridcolor": "white",
            "gridwidth": 2,
            "linecolor": "white",
            "showbackground": true,
            "ticks": "",
            "zerolinecolor": "white"
           },
           "yaxis": {
            "backgroundcolor": "#E5ECF6",
            "gridcolor": "white",
            "gridwidth": 2,
            "linecolor": "white",
            "showbackground": true,
            "ticks": "",
            "zerolinecolor": "white"
           },
           "zaxis": {
            "backgroundcolor": "#E5ECF6",
            "gridcolor": "white",
            "gridwidth": 2,
            "linecolor": "white",
            "showbackground": true,
            "ticks": "",
            "zerolinecolor": "white"
           }
          },
          "shapedefaults": {
           "line": {
            "color": "#2a3f5f"
           }
          },
          "ternary": {
           "aaxis": {
            "gridcolor": "white",
            "linecolor": "white",
            "ticks": ""
           },
           "baxis": {
            "gridcolor": "white",
            "linecolor": "white",
            "ticks": ""
           },
           "bgcolor": "#E5ECF6",
           "caxis": {
            "gridcolor": "white",
            "linecolor": "white",
            "ticks": ""
           }
          },
          "title": {
           "x": 0.05
          },
          "xaxis": {
           "automargin": true,
           "gridcolor": "white",
           "linecolor": "white",
           "ticks": "",
           "title": {
            "standoff": 15
           },
           "zerolinecolor": "white",
           "zerolinewidth": 2
          },
          "yaxis": {
           "automargin": true,
           "gridcolor": "white",
           "linecolor": "white",
           "ticks": "",
           "title": {
            "standoff": 15
           },
           "zerolinecolor": "white",
           "zerolinewidth": 2
          }
         }
        }
       }
      },
      "text/html": [
       "<div>                            <div id=\"39e1e028-7905-4995-9e12-ee21d098d53b\" class=\"plotly-graph-div\" style=\"height:525px; width:100%;\"></div>            <script type=\"text/javascript\">                require([\"plotly\"], function(Plotly) {                    window.PLOTLYENV=window.PLOTLYENV || {};                                    if (document.getElementById(\"39e1e028-7905-4995-9e12-ee21d098d53b\")) {                    Plotly.newPlot(                        \"39e1e028-7905-4995-9e12-ee21d098d53b\",                        [{\"mode\":\"lines\",\"name\":\"accuracy\",\"x\":[0,1,2,3,4,5,6,7,8,9,10,11,12,13,14,15,16,17,18,19,20,21,22,23,24,25,26,27,28,29,30,31,32,33,34,35,36,37,38,39,40,41,42,43,44,45,46,47,48,49,50,51,52,53,54,55,56,57,58,59],\"y\":[0.3075,0.58,0.655,0.7075,0.71,0.7925,0.765,0.77,0.805,0.8125,0.7975,0.805,0.8325,0.795,0.8025,0.8025,0.8225,0.7925,0.8,0.795,0.8,0.84,0.85,0.825,0.8025,0.855,0.83,0.82,0.8475,0.8175,0.8775,0.855,0.855,0.8875,0.86,0.845,0.86,0.8275,0.8275,0.865,0.8725,0.8025,0.855,0.8575,0.85,0.865,0.8675,0.8475,0.885,0.8525,0.895,0.8775,0.85,0.8675,0.8125,0.84,0.86,0.885,0.8975,0.88],\"type\":\"scatter\"},{\"mode\":\"lines\",\"name\":\"loss\",\"x\":[0,1,2,3,4,5,6,7,8,9,10,11,12,13,14,15,16,17,18,19,20,21,22,23,24,25,26,27,28,29,30,31,32,33,34,35,36,37,38,39,40,41,42,43,44,45,46,47,48,49,50,51,52,53,54,55,56,57,58,59],\"y\":[1.0,0.6195889985457107,0.5112576071780945,0.4326934323063158,0.42674748190141965,0.3051233720263251,0.3450686738981444,0.33749252797388113,0.2846474180792442,0.2778573140812106,0.30008592277644436,0.2837016734097805,0.24821928372448107,0.3009900538948271,0.2926823441976372,0.2902729564162007,0.26303820069977546,0.3074954917425457,0.29638121194569644,0.30379019169337546,0.2958349819173776,0.23456662641322812,0.22228589054619663,0.25933317070904877,0.2926764029118782,0.21222302192255882,0.2519239700044614,0.26242327762371354,0.22599062592771213,0.270447082244384,0.18153345763877984,0.21057878336412492,0.2122441601334619,0.1667143810834961,0.20745521375322218,0.22969541041076283,0.20742776599504606,0.2503898170879431,0.2557685711089906,0.20005918453545185,0.18894300205411363,0.29267637836111055,0.2115201825477235,0.21108764712415745,0.22210163703536323,0.19921791565750738,0.196352693774053,0.22599492231204202,0.17041915329116297,0.21858108151237834,0.1556001012866468,0.18153358039261783,0.22228589054619663,0.1963525219186798,0.2778573140812106,0.2371169847022203,0.20746682626629667,0.17041917784193056,0.15189535362974751,0.1764994086702116],\"type\":\"scatter\"}],                        {\"template\":{\"data\":{\"barpolar\":[{\"marker\":{\"line\":{\"color\":\"#E5ECF6\",\"width\":0.5},\"pattern\":{\"fillmode\":\"overlay\",\"size\":10,\"solidity\":0.2}},\"type\":\"barpolar\"}],\"bar\":[{\"error_x\":{\"color\":\"#2a3f5f\"},\"error_y\":{\"color\":\"#2a3f5f\"},\"marker\":{\"line\":{\"color\":\"#E5ECF6\",\"width\":0.5},\"pattern\":{\"fillmode\":\"overlay\",\"size\":10,\"solidity\":0.2}},\"type\":\"bar\"}],\"carpet\":[{\"aaxis\":{\"endlinecolor\":\"#2a3f5f\",\"gridcolor\":\"white\",\"linecolor\":\"white\",\"minorgridcolor\":\"white\",\"startlinecolor\":\"#2a3f5f\"},\"baxis\":{\"endlinecolor\":\"#2a3f5f\",\"gridcolor\":\"white\",\"linecolor\":\"white\",\"minorgridcolor\":\"white\",\"startlinecolor\":\"#2a3f5f\"},\"type\":\"carpet\"}],\"choropleth\":[{\"colorbar\":{\"outlinewidth\":0,\"ticks\":\"\"},\"type\":\"choropleth\"}],\"contourcarpet\":[{\"colorbar\":{\"outlinewidth\":0,\"ticks\":\"\"},\"type\":\"contourcarpet\"}],\"contour\":[{\"colorbar\":{\"outlinewidth\":0,\"ticks\":\"\"},\"colorscale\":[[0.0,\"#0d0887\"],[0.1111111111111111,\"#46039f\"],[0.2222222222222222,\"#7201a8\"],[0.3333333333333333,\"#9c179e\"],[0.4444444444444444,\"#bd3786\"],[0.5555555555555556,\"#d8576b\"],[0.6666666666666666,\"#ed7953\"],[0.7777777777777778,\"#fb9f3a\"],[0.8888888888888888,\"#fdca26\"],[1.0,\"#f0f921\"]],\"type\":\"contour\"}],\"heatmapgl\":[{\"colorbar\":{\"outlinewidth\":0,\"ticks\":\"\"},\"colorscale\":[[0.0,\"#0d0887\"],[0.1111111111111111,\"#46039f\"],[0.2222222222222222,\"#7201a8\"],[0.3333333333333333,\"#9c179e\"],[0.4444444444444444,\"#bd3786\"],[0.5555555555555556,\"#d8576b\"],[0.6666666666666666,\"#ed7953\"],[0.7777777777777778,\"#fb9f3a\"],[0.8888888888888888,\"#fdca26\"],[1.0,\"#f0f921\"]],\"type\":\"heatmapgl\"}],\"heatmap\":[{\"colorbar\":{\"outlinewidth\":0,\"ticks\":\"\"},\"colorscale\":[[0.0,\"#0d0887\"],[0.1111111111111111,\"#46039f\"],[0.2222222222222222,\"#7201a8\"],[0.3333333333333333,\"#9c179e\"],[0.4444444444444444,\"#bd3786\"],[0.5555555555555556,\"#d8576b\"],[0.6666666666666666,\"#ed7953\"],[0.7777777777777778,\"#fb9f3a\"],[0.8888888888888888,\"#fdca26\"],[1.0,\"#f0f921\"]],\"type\":\"heatmap\"}],\"histogram2dcontour\":[{\"colorbar\":{\"outlinewidth\":0,\"ticks\":\"\"},\"colorscale\":[[0.0,\"#0d0887\"],[0.1111111111111111,\"#46039f\"],[0.2222222222222222,\"#7201a8\"],[0.3333333333333333,\"#9c179e\"],[0.4444444444444444,\"#bd3786\"],[0.5555555555555556,\"#d8576b\"],[0.6666666666666666,\"#ed7953\"],[0.7777777777777778,\"#fb9f3a\"],[0.8888888888888888,\"#fdca26\"],[1.0,\"#f0f921\"]],\"type\":\"histogram2dcontour\"}],\"histogram2d\":[{\"colorbar\":{\"outlinewidth\":0,\"ticks\":\"\"},\"colorscale\":[[0.0,\"#0d0887\"],[0.1111111111111111,\"#46039f\"],[0.2222222222222222,\"#7201a8\"],[0.3333333333333333,\"#9c179e\"],[0.4444444444444444,\"#bd3786\"],[0.5555555555555556,\"#d8576b\"],[0.6666666666666666,\"#ed7953\"],[0.7777777777777778,\"#fb9f3a\"],[0.8888888888888888,\"#fdca26\"],[1.0,\"#f0f921\"]],\"type\":\"histogram2d\"}],\"histogram\":[{\"marker\":{\"pattern\":{\"fillmode\":\"overlay\",\"size\":10,\"solidity\":0.2}},\"type\":\"histogram\"}],\"mesh3d\":[{\"colorbar\":{\"outlinewidth\":0,\"ticks\":\"\"},\"type\":\"mesh3d\"}],\"parcoords\":[{\"line\":{\"colorbar\":{\"outlinewidth\":0,\"ticks\":\"\"}},\"type\":\"parcoords\"}],\"pie\":[{\"automargin\":true,\"type\":\"pie\"}],\"scatter3d\":[{\"line\":{\"colorbar\":{\"outlinewidth\":0,\"ticks\":\"\"}},\"marker\":{\"colorbar\":{\"outlinewidth\":0,\"ticks\":\"\"}},\"type\":\"scatter3d\"}],\"scattercarpet\":[{\"marker\":{\"colorbar\":{\"outlinewidth\":0,\"ticks\":\"\"}},\"type\":\"scattercarpet\"}],\"scattergeo\":[{\"marker\":{\"colorbar\":{\"outlinewidth\":0,\"ticks\":\"\"}},\"type\":\"scattergeo\"}],\"scattergl\":[{\"marker\":{\"colorbar\":{\"outlinewidth\":0,\"ticks\":\"\"}},\"type\":\"scattergl\"}],\"scattermapbox\":[{\"marker\":{\"colorbar\":{\"outlinewidth\":0,\"ticks\":\"\"}},\"type\":\"scattermapbox\"}],\"scatterpolargl\":[{\"marker\":{\"colorbar\":{\"outlinewidth\":0,\"ticks\":\"\"}},\"type\":\"scatterpolargl\"}],\"scatterpolar\":[{\"marker\":{\"colorbar\":{\"outlinewidth\":0,\"ticks\":\"\"}},\"type\":\"scatterpolar\"}],\"scatter\":[{\"fillpattern\":{\"fillmode\":\"overlay\",\"size\":10,\"solidity\":0.2},\"type\":\"scatter\"}],\"scatterternary\":[{\"marker\":{\"colorbar\":{\"outlinewidth\":0,\"ticks\":\"\"}},\"type\":\"scatterternary\"}],\"surface\":[{\"colorbar\":{\"outlinewidth\":0,\"ticks\":\"\"},\"colorscale\":[[0.0,\"#0d0887\"],[0.1111111111111111,\"#46039f\"],[0.2222222222222222,\"#7201a8\"],[0.3333333333333333,\"#9c179e\"],[0.4444444444444444,\"#bd3786\"],[0.5555555555555556,\"#d8576b\"],[0.6666666666666666,\"#ed7953\"],[0.7777777777777778,\"#fb9f3a\"],[0.8888888888888888,\"#fdca26\"],[1.0,\"#f0f921\"]],\"type\":\"surface\"}],\"table\":[{\"cells\":{\"fill\":{\"color\":\"#EBF0F8\"},\"line\":{\"color\":\"white\"}},\"header\":{\"fill\":{\"color\":\"#C8D4E3\"},\"line\":{\"color\":\"white\"}},\"type\":\"table\"}]},\"layout\":{\"annotationdefaults\":{\"arrowcolor\":\"#2a3f5f\",\"arrowhead\":0,\"arrowwidth\":1},\"autotypenumbers\":\"strict\",\"coloraxis\":{\"colorbar\":{\"outlinewidth\":0,\"ticks\":\"\"}},\"colorscale\":{\"diverging\":[[0,\"#8e0152\"],[0.1,\"#c51b7d\"],[0.2,\"#de77ae\"],[0.3,\"#f1b6da\"],[0.4,\"#fde0ef\"],[0.5,\"#f7f7f7\"],[0.6,\"#e6f5d0\"],[0.7,\"#b8e186\"],[0.8,\"#7fbc41\"],[0.9,\"#4d9221\"],[1,\"#276419\"]],\"sequential\":[[0.0,\"#0d0887\"],[0.1111111111111111,\"#46039f\"],[0.2222222222222222,\"#7201a8\"],[0.3333333333333333,\"#9c179e\"],[0.4444444444444444,\"#bd3786\"],[0.5555555555555556,\"#d8576b\"],[0.6666666666666666,\"#ed7953\"],[0.7777777777777778,\"#fb9f3a\"],[0.8888888888888888,\"#fdca26\"],[1.0,\"#f0f921\"]],\"sequentialminus\":[[0.0,\"#0d0887\"],[0.1111111111111111,\"#46039f\"],[0.2222222222222222,\"#7201a8\"],[0.3333333333333333,\"#9c179e\"],[0.4444444444444444,\"#bd3786\"],[0.5555555555555556,\"#d8576b\"],[0.6666666666666666,\"#ed7953\"],[0.7777777777777778,\"#fb9f3a\"],[0.8888888888888888,\"#fdca26\"],[1.0,\"#f0f921\"]]},\"colorway\":[\"#636efa\",\"#EF553B\",\"#00cc96\",\"#ab63fa\",\"#FFA15A\",\"#19d3f3\",\"#FF6692\",\"#B6E880\",\"#FF97FF\",\"#FECB52\"],\"font\":{\"color\":\"#2a3f5f\"},\"geo\":{\"bgcolor\":\"white\",\"lakecolor\":\"white\",\"landcolor\":\"#E5ECF6\",\"showlakes\":true,\"showland\":true,\"subunitcolor\":\"white\"},\"hoverlabel\":{\"align\":\"left\"},\"hovermode\":\"closest\",\"mapbox\":{\"style\":\"light\"},\"paper_bgcolor\":\"white\",\"plot_bgcolor\":\"#E5ECF6\",\"polar\":{\"angularaxis\":{\"gridcolor\":\"white\",\"linecolor\":\"white\",\"ticks\":\"\"},\"bgcolor\":\"#E5ECF6\",\"radialaxis\":{\"gridcolor\":\"white\",\"linecolor\":\"white\",\"ticks\":\"\"}},\"scene\":{\"xaxis\":{\"backgroundcolor\":\"#E5ECF6\",\"gridcolor\":\"white\",\"gridwidth\":2,\"linecolor\":\"white\",\"showbackground\":true,\"ticks\":\"\",\"zerolinecolor\":\"white\"},\"yaxis\":{\"backgroundcolor\":\"#E5ECF6\",\"gridcolor\":\"white\",\"gridwidth\":2,\"linecolor\":\"white\",\"showbackground\":true,\"ticks\":\"\",\"zerolinecolor\":\"white\"},\"zaxis\":{\"backgroundcolor\":\"#E5ECF6\",\"gridcolor\":\"white\",\"gridwidth\":2,\"linecolor\":\"white\",\"showbackground\":true,\"ticks\":\"\",\"zerolinecolor\":\"white\"}},\"shapedefaults\":{\"line\":{\"color\":\"#2a3f5f\"}},\"ternary\":{\"aaxis\":{\"gridcolor\":\"white\",\"linecolor\":\"white\",\"ticks\":\"\"},\"baxis\":{\"gridcolor\":\"white\",\"linecolor\":\"white\",\"ticks\":\"\"},\"bgcolor\":\"#E5ECF6\",\"caxis\":{\"gridcolor\":\"white\",\"linecolor\":\"white\",\"ticks\":\"\"}},\"title\":{\"x\":0.05},\"xaxis\":{\"automargin\":true,\"gridcolor\":\"white\",\"linecolor\":\"white\",\"ticks\":\"\",\"title\":{\"standoff\":15},\"zerolinecolor\":\"white\",\"zerolinewidth\":2},\"yaxis\":{\"automargin\":true,\"gridcolor\":\"white\",\"linecolor\":\"white\",\"ticks\":\"\",\"title\":{\"standoff\":15},\"zerolinecolor\":\"white\",\"zerolinewidth\":2}}}},                        {\"responsive\": true}                    ).then(function(){\n",
       "                            \n",
       "var gd = document.getElementById('39e1e028-7905-4995-9e12-ee21d098d53b');\n",
       "var x = new MutationObserver(function (mutations, observer) {{\n",
       "        var display = window.getComputedStyle(gd).display;\n",
       "        if (!display || display === 'none') {{\n",
       "            console.log([gd, 'removed!']);\n",
       "            Plotly.purge(gd);\n",
       "            observer.disconnect();\n",
       "        }}\n",
       "}});\n",
       "\n",
       "// Listen for the removal of the full notebook cells\n",
       "var notebookContainer = gd.closest('#notebook-container');\n",
       "if (notebookContainer) {{\n",
       "    x.observe(notebookContainer, {childList: true});\n",
       "}}\n",
       "\n",
       "// Listen for the clearing of the current output cell\n",
       "var outputEl = gd.closest('.output');\n",
       "if (outputEl) {{\n",
       "    x.observe(outputEl, {childList: true});\n",
       "}}\n",
       "\n",
       "                        })                };                });            </script>        </div>"
      ]
     },
     "metadata": {},
     "output_type": "display_data"
    }
   ],
   "source": [
    "# Now train the model\n",
    "train_using_raw_data()\n",
    "# train_using_set_img_loader()"
   ]
  },
  {
   "cell_type": "code",
   "execution_count": 9,
   "metadata": {},
   "outputs": [
    {
     "name": "stdout",
     "output_type": "stream",
     "text": [
      "Label: truck 0.0\n",
      "Prediction: cat (2.0)\n"
     ]
    },
    {
     "data": {
      "application/vnd.plotly.v1+json": {
       "config": {
        "plotlyServerURL": "https://plot.ly"
       },
       "data": [
        {
         "hovertemplate": "x: %{x}<br>y: %{y}<extra></extra>",
         "name": "0",
         "source": "data:image/png;base64,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",
         "type": "image",
         "xaxis": "x",
         "yaxis": "y"
        }
       ],
       "layout": {
        "margin": {
         "t": 60
        },
        "template": {
         "data": {
          "bar": [
           {
            "error_x": {
             "color": "#2a3f5f"
            },
            "error_y": {
             "color": "#2a3f5f"
            },
            "marker": {
             "line": {
              "color": "#E5ECF6",
              "width": 0.5
             },
             "pattern": {
              "fillmode": "overlay",
              "size": 10,
              "solidity": 0.2
             }
            },
            "type": "bar"
           }
          ],
          "barpolar": [
           {
            "marker": {
             "line": {
              "color": "#E5ECF6",
              "width": 0.5
             },
             "pattern": {
              "fillmode": "overlay",
              "size": 10,
              "solidity": 0.2
             }
            },
            "type": "barpolar"
           }
          ],
          "carpet": [
           {
            "aaxis": {
             "endlinecolor": "#2a3f5f",
             "gridcolor": "white",
             "linecolor": "white",
             "minorgridcolor": "white",
             "startlinecolor": "#2a3f5f"
            },
            "baxis": {
             "endlinecolor": "#2a3f5f",
             "gridcolor": "white",
             "linecolor": "white",
             "minorgridcolor": "white",
             "startlinecolor": "#2a3f5f"
            },
            "type": "carpet"
           }
          ],
          "choropleth": [
           {
            "colorbar": {
             "outlinewidth": 0,
             "ticks": ""
            },
            "type": "choropleth"
           }
          ],
          "contour": [
           {
            "colorbar": {
             "outlinewidth": 0,
             "ticks": ""
            },
            "colorscale": [
             [
              0,
              "#0d0887"
             ],
             [
              0.1111111111111111,
              "#46039f"
             ],
             [
              0.2222222222222222,
              "#7201a8"
             ],
             [
              0.3333333333333333,
              "#9c179e"
             ],
             [
              0.4444444444444444,
              "#bd3786"
             ],
             [
              0.5555555555555556,
              "#d8576b"
             ],
             [
              0.6666666666666666,
              "#ed7953"
             ],
             [
              0.7777777777777778,
              "#fb9f3a"
             ],
             [
              0.8888888888888888,
              "#fdca26"
             ],
             [
              1,
              "#f0f921"
             ]
            ],
            "type": "contour"
           }
          ],
          "contourcarpet": [
           {
            "colorbar": {
             "outlinewidth": 0,
             "ticks": ""
            },
            "type": "contourcarpet"
           }
          ],
          "heatmap": [
           {
            "colorbar": {
             "outlinewidth": 0,
             "ticks": ""
            },
            "colorscale": [
             [
              0,
              "#0d0887"
             ],
             [
              0.1111111111111111,
              "#46039f"
             ],
             [
              0.2222222222222222,
              "#7201a8"
             ],
             [
              0.3333333333333333,
              "#9c179e"
             ],
             [
              0.4444444444444444,
              "#bd3786"
             ],
             [
              0.5555555555555556,
              "#d8576b"
             ],
             [
              0.6666666666666666,
              "#ed7953"
             ],
             [
              0.7777777777777778,
              "#fb9f3a"
             ],
             [
              0.8888888888888888,
              "#fdca26"
             ],
             [
              1,
              "#f0f921"
             ]
            ],
            "type": "heatmap"
           }
          ],
          "heatmapgl": [
           {
            "colorbar": {
             "outlinewidth": 0,
             "ticks": ""
            },
            "colorscale": [
             [
              0,
              "#0d0887"
             ],
             [
              0.1111111111111111,
              "#46039f"
             ],
             [
              0.2222222222222222,
              "#7201a8"
             ],
             [
              0.3333333333333333,
              "#9c179e"
             ],
             [
              0.4444444444444444,
              "#bd3786"
             ],
             [
              0.5555555555555556,
              "#d8576b"
             ],
             [
              0.6666666666666666,
              "#ed7953"
             ],
             [
              0.7777777777777778,
              "#fb9f3a"
             ],
             [
              0.8888888888888888,
              "#fdca26"
             ],
             [
              1,
              "#f0f921"
             ]
            ],
            "type": "heatmapgl"
           }
          ],
          "histogram": [
           {
            "marker": {
             "pattern": {
              "fillmode": "overlay",
              "size": 10,
              "solidity": 0.2
             }
            },
            "type": "histogram"
           }
          ],
          "histogram2d": [
           {
            "colorbar": {
             "outlinewidth": 0,
             "ticks": ""
            },
            "colorscale": [
             [
              0,
              "#0d0887"
             ],
             [
              0.1111111111111111,
              "#46039f"
             ],
             [
              0.2222222222222222,
              "#7201a8"
             ],
             [
              0.3333333333333333,
              "#9c179e"
             ],
             [
              0.4444444444444444,
              "#bd3786"
             ],
             [
              0.5555555555555556,
              "#d8576b"
             ],
             [
              0.6666666666666666,
              "#ed7953"
             ],
             [
              0.7777777777777778,
              "#fb9f3a"
             ],
             [
              0.8888888888888888,
              "#fdca26"
             ],
             [
              1,
              "#f0f921"
             ]
            ],
            "type": "histogram2d"
           }
          ],
          "histogram2dcontour": [
           {
            "colorbar": {
             "outlinewidth": 0,
             "ticks": ""
            },
            "colorscale": [
             [
              0,
              "#0d0887"
             ],
             [
              0.1111111111111111,
              "#46039f"
             ],
             [
              0.2222222222222222,
              "#7201a8"
             ],
             [
              0.3333333333333333,
              "#9c179e"
             ],
             [
              0.4444444444444444,
              "#bd3786"
             ],
             [
              0.5555555555555556,
              "#d8576b"
             ],
             [
              0.6666666666666666,
              "#ed7953"
             ],
             [
              0.7777777777777778,
              "#fb9f3a"
             ],
             [
              0.8888888888888888,
              "#fdca26"
             ],
             [
              1,
              "#f0f921"
             ]
            ],
            "type": "histogram2dcontour"
           }
          ],
          "mesh3d": [
           {
            "colorbar": {
             "outlinewidth": 0,
             "ticks": ""
            },
            "type": "mesh3d"
           }
          ],
          "parcoords": [
           {
            "line": {
             "colorbar": {
              "outlinewidth": 0,
              "ticks": ""
             }
            },
            "type": "parcoords"
           }
          ],
          "pie": [
           {
            "automargin": true,
            "type": "pie"
           }
          ],
          "scatter": [
           {
            "fillpattern": {
             "fillmode": "overlay",
             "size": 10,
             "solidity": 0.2
            },
            "type": "scatter"
           }
          ],
          "scatter3d": [
           {
            "line": {
             "colorbar": {
              "outlinewidth": 0,
              "ticks": ""
             }
            },
            "marker": {
             "colorbar": {
              "outlinewidth": 0,
              "ticks": ""
             }
            },
            "type": "scatter3d"
           }
          ],
          "scattercarpet": [
           {
            "marker": {
             "colorbar": {
              "outlinewidth": 0,
              "ticks": ""
             }
            },
            "type": "scattercarpet"
           }
          ],
          "scattergeo": [
           {
            "marker": {
             "colorbar": {
              "outlinewidth": 0,
              "ticks": ""
             }
            },
            "type": "scattergeo"
           }
          ],
          "scattergl": [
           {
            "marker": {
             "colorbar": {
              "outlinewidth": 0,
              "ticks": ""
             }
            },
            "type": "scattergl"
           }
          ],
          "scattermapbox": [
           {
            "marker": {
             "colorbar": {
              "outlinewidth": 0,
              "ticks": ""
             }
            },
            "type": "scattermapbox"
           }
          ],
          "scatterpolar": [
           {
            "marker": {
             "colorbar": {
              "outlinewidth": 0,
              "ticks": ""
             }
            },
            "type": "scatterpolar"
           }
          ],
          "scatterpolargl": [
           {
            "marker": {
             "colorbar": {
              "outlinewidth": 0,
              "ticks": ""
             }
            },
            "type": "scatterpolargl"
           }
          ],
          "scatterternary": [
           {
            "marker": {
             "colorbar": {
              "outlinewidth": 0,
              "ticks": ""
             }
            },
            "type": "scatterternary"
           }
          ],
          "surface": [
           {
            "colorbar": {
             "outlinewidth": 0,
             "ticks": ""
            },
            "colorscale": [
             [
              0,
              "#0d0887"
             ],
             [
              0.1111111111111111,
              "#46039f"
             ],
             [
              0.2222222222222222,
              "#7201a8"
             ],
             [
              0.3333333333333333,
              "#9c179e"
             ],
             [
              0.4444444444444444,
              "#bd3786"
             ],
             [
              0.5555555555555556,
              "#d8576b"
             ],
             [
              0.6666666666666666,
              "#ed7953"
             ],
             [
              0.7777777777777778,
              "#fb9f3a"
             ],
             [
              0.8888888888888888,
              "#fdca26"
             ],
             [
              1,
              "#f0f921"
             ]
            ],
            "type": "surface"
           }
          ],
          "table": [
           {
            "cells": {
             "fill": {
              "color": "#EBF0F8"
             },
             "line": {
              "color": "white"
             }
            },
            "header": {
             "fill": {
              "color": "#C8D4E3"
             },
             "line": {
              "color": "white"
             }
            },
            "type": "table"
           }
          ]
         },
         "layout": {
          "annotationdefaults": {
           "arrowcolor": "#2a3f5f",
           "arrowhead": 0,
           "arrowwidth": 1
          },
          "autotypenumbers": "strict",
          "coloraxis": {
           "colorbar": {
            "outlinewidth": 0,
            "ticks": ""
           }
          },
          "colorscale": {
           "diverging": [
            [
             0,
             "#8e0152"
            ],
            [
             0.1,
             "#c51b7d"
            ],
            [
             0.2,
             "#de77ae"
            ],
            [
             0.3,
             "#f1b6da"
            ],
            [
             0.4,
             "#fde0ef"
            ],
            [
             0.5,
             "#f7f7f7"
            ],
            [
             0.6,
             "#e6f5d0"
            ],
            [
             0.7,
             "#b8e186"
            ],
            [
             0.8,
             "#7fbc41"
            ],
            [
             0.9,
             "#4d9221"
            ],
            [
             1,
             "#276419"
            ]
           ],
           "sequential": [
            [
             0,
             "#0d0887"
            ],
            [
             0.1111111111111111,
             "#46039f"
            ],
            [
             0.2222222222222222,
             "#7201a8"
            ],
            [
             0.3333333333333333,
             "#9c179e"
            ],
            [
             0.4444444444444444,
             "#bd3786"
            ],
            [
             0.5555555555555556,
             "#d8576b"
            ],
            [
             0.6666666666666666,
             "#ed7953"
            ],
            [
             0.7777777777777778,
             "#fb9f3a"
            ],
            [
             0.8888888888888888,
             "#fdca26"
            ],
            [
             1,
             "#f0f921"
            ]
           ],
           "sequentialminus": [
            [
             0,
             "#0d0887"
            ],
            [
             0.1111111111111111,
             "#46039f"
            ],
            [
             0.2222222222222222,
             "#7201a8"
            ],
            [
             0.3333333333333333,
             "#9c179e"
            ],
            [
             0.4444444444444444,
             "#bd3786"
            ],
            [
             0.5555555555555556,
             "#d8576b"
            ],
            [
             0.6666666666666666,
             "#ed7953"
            ],
            [
             0.7777777777777778,
             "#fb9f3a"
            ],
            [
             0.8888888888888888,
             "#fdca26"
            ],
            [
             1,
             "#f0f921"
            ]
           ]
          },
          "colorway": [
           "#636efa",
           "#EF553B",
           "#00cc96",
           "#ab63fa",
           "#FFA15A",
           "#19d3f3",
           "#FF6692",
           "#B6E880",
           "#FF97FF",
           "#FECB52"
          ],
          "font": {
           "color": "#2a3f5f"
          },
          "geo": {
           "bgcolor": "white",
           "lakecolor": "white",
           "landcolor": "#E5ECF6",
           "showlakes": true,
           "showland": true,
           "subunitcolor": "white"
          },
          "hoverlabel": {
           "align": "left"
          },
          "hovermode": "closest",
          "mapbox": {
           "style": "light"
          },
          "paper_bgcolor": "white",
          "plot_bgcolor": "#E5ECF6",
          "polar": {
           "angularaxis": {
            "gridcolor": "white",
            "linecolor": "white",
            "ticks": ""
           },
           "bgcolor": "#E5ECF6",
           "radialaxis": {
            "gridcolor": "white",
            "linecolor": "white",
            "ticks": ""
           }
          },
          "scene": {
           "xaxis": {
            "backgroundcolor": "#E5ECF6",
            "gridcolor": "white",
            "gridwidth": 2,
            "linecolor": "white",
            "showbackground": true,
            "ticks": "",
            "zerolinecolor": "white"
           },
           "yaxis": {
            "backgroundcolor": "#E5ECF6",
            "gridcolor": "white",
            "gridwidth": 2,
            "linecolor": "white",
            "showbackground": true,
            "ticks": "",
            "zerolinecolor": "white"
           },
           "zaxis": {
            "backgroundcolor": "#E5ECF6",
            "gridcolor": "white",
            "gridwidth": 2,
            "linecolor": "white",
            "showbackground": true,
            "ticks": "",
            "zerolinecolor": "white"
           }
          },
          "shapedefaults": {
           "line": {
            "color": "#2a3f5f"
           }
          },
          "ternary": {
           "aaxis": {
            "gridcolor": "white",
            "linecolor": "white",
            "ticks": ""
           },
           "baxis": {
            "gridcolor": "white",
            "linecolor": "white",
            "ticks": ""
           },
           "bgcolor": "#E5ECF6",
           "caxis": {
            "gridcolor": "white",
            "linecolor": "white",
            "ticks": ""
           }
          },
          "title": {
           "x": 0.05
          },
          "xaxis": {
           "automargin": true,
           "gridcolor": "white",
           "linecolor": "white",
           "ticks": "",
           "title": {
            "standoff": 15
           },
           "zerolinecolor": "white",
           "zerolinewidth": 2
          },
          "yaxis": {
           "automargin": true,
           "gridcolor": "white",
           "linecolor": "white",
           "ticks": "",
           "title": {
            "standoff": 15
           },
           "zerolinecolor": "white",
           "zerolinewidth": 2
          }
         }
        },
        "xaxis": {
         "anchor": "y",
         "domain": [
          0,
          1
         ]
        },
        "yaxis": {
         "anchor": "x",
         "domain": [
          0,
          1
         ]
        }
       }
      },
      "text/html": [
       "<div>                            <div id=\"0c5c9ae3-7963-45cf-bf88-5388ea2e6242\" class=\"plotly-graph-div\" style=\"height:525px; width:100%;\"></div>            <script type=\"text/javascript\">                require([\"plotly\"], function(Plotly) {                    window.PLOTLYENV=window.PLOTLYENV || {};                                    if (document.getElementById(\"0c5c9ae3-7963-45cf-bf88-5388ea2e6242\")) {                    Plotly.newPlot(                        \"0c5c9ae3-7963-45cf-bf88-5388ea2e6242\",                        [{\"name\":\"0\",\"source\":\"data:image/png;base64,iVBORw0KGgoAAAANSUhEUgAAABwAAAAcCAIAAAD9b0jDAAAI9ElEQVR4XiWU+VMaeRrG+3/YX7a2dndqZ6aSjaPiAUTOAhq6aaA5GrqhaUAOQYkHGFARs94iahzjFZWgoyMxx5jE1SgxKiCiZtWYa8wxk4yTOWonW1u1uzWzm5r9YWapnapPPfVWPVXP9/u+b9ULaJylCEVCBova6jS4zkRjVxLJxEo8vrN3f3ExPjQUmY3dnLl6s8znrzwXlJtJsrpCVVZKVpZXNPrtPtLuVxurQbMHttcpXY0EWanQOaQAYjaChFaM4QhBtoTPr20kwz2d7d1d80sbNxZW5i7PT169bq31sWGljCKlpQRk1on0GGLRIxacj6F0KUQTi06jiICQ690ONWVmS2SAhMAREynTUq1dvXdW74xdHAmFuiKT099894/tzL0Lo2PBnm7cVSZWa5VWEi7FxCYVH1cKcCVbDQtxJQOBaKCwGBEz5EIpqYMwLVMoAVQWq8bqcHl8G8nN6clIb3fn+KWp9Pb+zz///PTTTxtbmokzZQozqaAMilIcLtVAJg1fq+BqZRw1fBpB2ChMEwsKIZAOixgykK1EWFA2lDJ7A+fi63evXr3cG+7s6Qnf3Uj/9bu///TTT4f371d7anCbRWzQikkdSKhFRrVAp2QrpAJMwZEjJWKIrYAYCglDJqZLhEUSUYkCYUkhQKEnxqdmFhdv9obb+8Jd0cmZL46/+fHHH9/87c3w0EjdWX+Zq0xpMkoILUhg2a5ZChkdArmoFDJgcivGVSF0VFQICbKh+UJBkUQMqlEA0mnkFOVpqO0fHLh5Y+nF8+Pvf/j+8ZNHpNHkdJY7bXar1RZsaaOcTohQCw0KHiHjaKSKCp3Ob8R8xhIpSBPxaSC3WMqlKwRMpQjWKwChUl6CIjJS1zMy+uTpyx++/89XXx2PjY3m5BaUOZ1lNqvNanW7K0rtNqkOExlk8gqtrtqo9VNqn15eqS1RSmgCfqGYk10UUw5mgXUowBAJ80Ss7FMSnXZp9e7bt2/r6up4PJ5YArmcZVYLBUnEFKmnjHq5Vo06cVk5oa00aZyEmEI5OKz24HwCpss4NJB1gsH442kmNzvTYp7gJPN0IchjwiLSYZ+IRCQikEGn04sKTAbc5/WqlBpMo7JYKAxXoVXaEr2YoZaghIYmYNMgttACMTW8UzxGLo+ewy8ugFgCTAJwYaSAD3IViFCj5CAyoQyRw5BYLKIzGEY9YbeY/L4ASVFGEjeSOofX3ljtKHWSNY0+k9uRD7PYBMhAue/TC1gQh7CgpW4cs6gApkhI4/MKxfw8IS+PI6BxBQaSbGhstNhslN6Aa5QKhTzQeE6P43bKsFTXtuAONDbUoVZde39IRMgYGn6JhpMrohcpuVyMB5tQhdEAFLBKThQX5XBO5wrZp0pKPmCx5Li2vatbhaJ2ixlTKgoK8wyUyV8XiNhdYa2Zcnrbxz9SOqjymmqIUMlsWgEGF8Ac1EHRQE4JKpXqtQCNWZLLLDnFZNJ4rAIBO5/H4itkKpyQiIQVDisKwwx6kUqpmv1TaNxSbvDUlzafr+8ainYNGCkyD2SqrOYcOpMllftbuvMYnJzi4kIBG8ijsz5gsk4UMGksLk8hKwSFMK4nHE63p7qrrcWs16sEgn61vg23Wr1NvvrQhLnmoTXwr87JxWCnx0QqbdhJdkEelwXjOgZPwocgPowANBY9j808xaLnC5hsjCeygGiVDD+LUnWa2la3v8pz1mFDOQKZq8pXWvUt7PpvWde317YmR6ZWyz1f1oVrztqUDomhAiLdqKPK0Vt7sidYBMitoLpGTAU0jnbS3UO5e7WeD/VnB4iaC7pAg67Zbq2tKNdz+Bhfsoc4/t04/nBmOdQ5AGqNtRixgtnCXpc/bPL1GGrazP1DHdHWgo96WYCzVefuq4wlb2eO9tce7Ywv9p0bp5rGjHUXjR3Vmu6m6r6JUSUib3uP9jXuWZtaMFjdIokClGk0htIorKmorvaEXO4+zNGC9UeHFj/pit86DwQHajKPj569fvPdm38+f/768Ohh/3RD8KKzYdze1l7RZlFNtLWEJGjVr9+Z+MMHnRjFEEAcAYzpSI/RFrQ77a6a6vrK5lGbv9c4EB2+sXBlcfkTIBRpPXj8bHU98eelO3fXVlfurIZjQe8E5Z8014Zd3Q755fzCS7896cornHuXNlXIRWUKFEHL9WZfeVU4FAJBBFaqOic8wSHb8OTorYXZ2ytXgdRuci2VWFy5PTA0PDUXGZ4cnLp98aO7w9GVD5t7fV2j/pgejvzqN83v5kwyRS0ncruFsrPG0oDX19LR6jrjLOTl59DyXEEqMOEIjQTHpvsisUHg0YPDo6Ojz56/ePX5y+OXr45ffvHlq+PjV198/fp1X0/P/PX5V5+92r69erC75yuvbPXW9n94viEQLHOcCQab5udvPn7yJL2VOTy8f3T0+OGjg/sP9g4Od4FrsenrV2ZvXZtbvjWfZWXhxmp8eTOVSO0kqoLuzv6OhfjywvKd2avz5Wc8JpMFkiJCsdRmdw1cGI1dvpJMbu7vHxwePnjy5NOnRy+ePf38+bPPgOnxoYnh/vHB3onB3uG+zsFwW1dHoLnd42rOnmGxrhZx1lvbQx0NTa1qFfn7373/3vsnhUIIx41n3J6mppaZmdiN+YWV5dX05va93f39vcPDw4fA+GDPSH/X8PmOnvaGlobq5rqqcGt9b0ewuycY6j8XaPXW1XvqG/w2u0Mqlefm5tPpDLFYolFjdpvd6/UODQ3NzsaWluKbqcy9e/sH+w+yvwY+nhy9Hot+EoteGu4b6G7u7zx3aeT8zMTIteno3Ez048jY1NjQZOTC1KXR0dHBCxf6L14cnpqKzMxEY7HpubnZWwvzy8tL8Xh8fW0tkdhIJhPJ5AawnVpPrcUT8eWdjY2ttdX03XhmY20rsZ5OrGZS6zupZJbdzc176fRutsN0OrO1tZ3JbGd1ayud2sxOP0tiYy2ZWM/q/4sE8JesncpuJbmXSu+nN/fTqb2trb1MZn9n62A3k3V3sm4ymQ3NspPOZmV2trazurWZTm4kf4lLJTd+KbJsJlP/AzmgOpyZRnL9AAAAAElFTkSuQmCC\",\"type\":\"image\",\"xaxis\":\"x\",\"yaxis\":\"y\",\"hovertemplate\":\"x: %{x}<br>y: %{y}<extra></extra>\"}],                        {\"template\":{\"data\":{\"histogram2dcontour\":[{\"type\":\"histogram2dcontour\",\"colorbar\":{\"outlinewidth\":0,\"ticks\":\"\"},\"colorscale\":[[0.0,\"#0d0887\"],[0.1111111111111111,\"#46039f\"],[0.2222222222222222,\"#7201a8\"],[0.3333333333333333,\"#9c179e\"],[0.4444444444444444,\"#bd3786\"],[0.5555555555555556,\"#d8576b\"],[0.6666666666666666,\"#ed7953\"],[0.7777777777777778,\"#fb9f3a\"],[0.8888888888888888,\"#fdca26\"],[1.0,\"#f0f921\"]]}],\"choropleth\":[{\"type\":\"choropleth\",\"colorbar\":{\"outlinewidth\":0,\"ticks\":\"\"}}],\"histogram2d\":[{\"type\":\"histogram2d\",\"colorbar\":{\"outlinewidth\":0,\"ticks\":\"\"},\"colorscale\":[[0.0,\"#0d0887\"],[0.1111111111111111,\"#46039f\"],[0.2222222222222222,\"#7201a8\"],[0.3333333333333333,\"#9c179e\"],[0.4444444444444444,\"#bd3786\"],[0.5555555555555556,\"#d8576b\"],[0.6666666666666666,\"#ed7953\"],[0.7777777777777778,\"#fb9f3a\"],[0.8888888888888888,\"#fdca26\"],[1.0,\"#f0f921\"]]}],\"heatmap\":[{\"type\":\"heatmap\",\"colorbar\":{\"outlinewidth\":0,\"ticks\":\"\"},\"colorscale\":[[0.0,\"#0d0887\"],[0.1111111111111111,\"#46039f\"],[0.2222222222222222,\"#7201a8\"],[0.3333333333333333,\"#9c179e\"],[0.4444444444444444,\"#bd3786\"],[0.5555555555555556,\"#d8576b\"],[0.6666666666666666,\"#ed7953\"],[0.7777777777777778,\"#fb9f3a\"],[0.8888888888888888,\"#fdca26\"],[1.0,\"#f0f921\"]]}],\"heatmapgl\":[{\"type\":\"heatmapgl\",\"colorbar\":{\"outlinewidth\":0,\"ticks\":\"\"},\"colorscale\":[[0.0,\"#0d0887\"],[0.1111111111111111,\"#46039f\"],[0.2222222222222222,\"#7201a8\"],[0.3333333333333333,\"#9c179e\"],[0.4444444444444444,\"#bd3786\"],[0.5555555555555556,\"#d8576b\"],[0.6666666666666666,\"#ed7953\"],[0.7777777777777778,\"#fb9f3a\"],[0.8888888888888888,\"#fdca26\"],[1.0,\"#f0f921\"]]}],\"contourcarpet\":[{\"type\":\"contourcarpet\",\"colorbar\":{\"outlinewidth\":0,\"ticks\":\"\"}}],\"contour\":[{\"type\":\"contour\",\"colorbar\":{\"outlinewidth\":0,\"ticks\":\"\"},\"colorscale\":[[0.0,\"#0d0887\"],[0.1111111111111111,\"#46039f\"],[0.2222222222222222,\"#7201a8\"],[0.3333333333333333,\"#9c179e\"],[0.4444444444444444,\"#bd3786\"],[0.5555555555555556,\"#d8576b\"],[0.6666666666666666,\"#ed7953\"],[0.7777777777777778,\"#fb9f3a\"],[0.8888888888888888,\"#fdca26\"],[1.0,\"#f0f921\"]]}],\"surface\":[{\"type\":\"surface\",\"colorbar\":{\"outlinewidth\":0,\"ticks\":\"\"},\"colorscale\":[[0.0,\"#0d0887\"],[0.1111111111111111,\"#46039f\"],[0.2222222222222222,\"#7201a8\"],[0.3333333333333333,\"#9c179e\"],[0.4444444444444444,\"#bd3786\"],[0.5555555555555556,\"#d8576b\"],[0.6666666666666666,\"#ed7953\"],[0.7777777777777778,\"#fb9f3a\"],[0.8888888888888888,\"#fdca26\"],[1.0,\"#f0f921\"]]}],\"mesh3d\":[{\"type\":\"mesh3d\",\"colorbar\":{\"outlinewidth\":0,\"ticks\":\"\"}}],\"scatter\":[{\"fillpattern\":{\"fillmode\":\"overlay\",\"size\":10,\"solidity\":0.2},\"type\":\"scatter\"}],\"parcoords\":[{\"type\":\"parcoords\",\"line\":{\"colorbar\":{\"outlinewidth\":0,\"ticks\":\"\"}}}],\"scatterpolargl\":[{\"type\":\"scatterpolargl\",\"marker\":{\"colorbar\":{\"outlinewidth\":0,\"ticks\":\"\"}}}],\"bar\":[{\"error_x\":{\"color\":\"#2a3f5f\"},\"error_y\":{\"color\":\"#2a3f5f\"},\"marker\":{\"line\":{\"color\":\"#E5ECF6\",\"width\":0.5},\"pattern\":{\"fillmode\":\"overlay\",\"size\":10,\"solidity\":0.2}},\"type\":\"bar\"}],\"scattergeo\":[{\"type\":\"scattergeo\",\"marker\":{\"colorbar\":{\"outlinewidth\":0,\"ticks\":\"\"}}}],\"scatterpolar\":[{\"type\":\"scatterpolar\",\"marker\":{\"colorbar\":{\"outlinewidth\":0,\"ticks\":\"\"}}}],\"histogram\":[{\"marker\":{\"pattern\":{\"fillmode\":\"overlay\",\"size\":10,\"solidity\":0.2}},\"type\":\"histogram\"}],\"scattergl\":[{\"type\":\"scattergl\",\"marker\":{\"colorbar\":{\"outlinewidth\":0,\"ticks\":\"\"}}}],\"scatter3d\":[{\"type\":\"scatter3d\",\"line\":{\"colorbar\":{\"outlinewidth\":0,\"ticks\":\"\"}},\"marker\":{\"colorbar\":{\"outlinewidth\":0,\"ticks\":\"\"}}}],\"scattermapbox\":[{\"type\":\"scattermapbox\",\"marker\":{\"colorbar\":{\"outlinewidth\":0,\"ticks\":\"\"}}}],\"scatterternary\":[{\"type\":\"scatterternary\",\"marker\":{\"colorbar\":{\"outlinewidth\":0,\"ticks\":\"\"}}}],\"scattercarpet\":[{\"type\":\"scattercarpet\",\"marker\":{\"colorbar\":{\"outlinewidth\":0,\"ticks\":\"\"}}}],\"carpet\":[{\"aaxis\":{\"endlinecolor\":\"#2a3f5f\",\"gridcolor\":\"white\",\"linecolor\":\"white\",\"minorgridcolor\":\"white\",\"startlinecolor\":\"#2a3f5f\"},\"baxis\":{\"endlinecolor\":\"#2a3f5f\",\"gridcolor\":\"white\",\"linecolor\":\"white\",\"minorgridcolor\":\"white\",\"startlinecolor\":\"#2a3f5f\"},\"type\":\"carpet\"}],\"table\":[{\"cells\":{\"fill\":{\"color\":\"#EBF0F8\"},\"line\":{\"color\":\"white\"}},\"header\":{\"fill\":{\"color\":\"#C8D4E3\"},\"line\":{\"color\":\"white\"}},\"type\":\"table\"}],\"barpolar\":[{\"marker\":{\"line\":{\"color\":\"#E5ECF6\",\"width\":0.5},\"pattern\":{\"fillmode\":\"overlay\",\"size\":10,\"solidity\":0.2}},\"type\":\"barpolar\"}],\"pie\":[{\"automargin\":true,\"type\":\"pie\"}]},\"layout\":{\"autotypenumbers\":\"strict\",\"colorway\":[\"#636efa\",\"#EF553B\",\"#00cc96\",\"#ab63fa\",\"#FFA15A\",\"#19d3f3\",\"#FF6692\",\"#B6E880\",\"#FF97FF\",\"#FECB52\"],\"font\":{\"color\":\"#2a3f5f\"},\"hovermode\":\"closest\",\"hoverlabel\":{\"align\":\"left\"},\"paper_bgcolor\":\"white\",\"plot_bgcolor\":\"#E5ECF6\",\"polar\":{\"bgcolor\":\"#E5ECF6\",\"angularaxis\":{\"gridcolor\":\"white\",\"linecolor\":\"white\",\"ticks\":\"\"},\"radialaxis\":{\"gridcolor\":\"white\",\"linecolor\":\"white\",\"ticks\":\"\"}},\"ternary\":{\"bgcolor\":\"#E5ECF6\",\"aaxis\":{\"gridcolor\":\"white\",\"linecolor\":\"white\",\"ticks\":\"\"},\"baxis\":{\"gridcolor\":\"white\",\"linecolor\":\"white\",\"ticks\":\"\"},\"caxis\":{\"gridcolor\":\"white\",\"linecolor\":\"white\",\"ticks\":\"\"}},\"coloraxis\":{\"colorbar\":{\"outlinewidth\":0,\"ticks\":\"\"}},\"colorscale\":{\"sequential\":[[0.0,\"#0d0887\"],[0.1111111111111111,\"#46039f\"],[0.2222222222222222,\"#7201a8\"],[0.3333333333333333,\"#9c179e\"],[0.4444444444444444,\"#bd3786\"],[0.5555555555555556,\"#d8576b\"],[0.6666666666666666,\"#ed7953\"],[0.7777777777777778,\"#fb9f3a\"],[0.8888888888888888,\"#fdca26\"],[1.0,\"#f0f921\"]],\"sequentialminus\":[[0.0,\"#0d0887\"],[0.1111111111111111,\"#46039f\"],[0.2222222222222222,\"#7201a8\"],[0.3333333333333333,\"#9c179e\"],[0.4444444444444444,\"#bd3786\"],[0.5555555555555556,\"#d8576b\"],[0.6666666666666666,\"#ed7953\"],[0.7777777777777778,\"#fb9f3a\"],[0.8888888888888888,\"#fdca26\"],[1.0,\"#f0f921\"]],\"diverging\":[[0,\"#8e0152\"],[0.1,\"#c51b7d\"],[0.2,\"#de77ae\"],[0.3,\"#f1b6da\"],[0.4,\"#fde0ef\"],[0.5,\"#f7f7f7\"],[0.6,\"#e6f5d0\"],[0.7,\"#b8e186\"],[0.8,\"#7fbc41\"],[0.9,\"#4d9221\"],[1,\"#276419\"]]},\"xaxis\":{\"gridcolor\":\"white\",\"linecolor\":\"white\",\"ticks\":\"\",\"title\":{\"standoff\":15},\"zerolinecolor\":\"white\",\"automargin\":true,\"zerolinewidth\":2},\"yaxis\":{\"gridcolor\":\"white\",\"linecolor\":\"white\",\"ticks\":\"\",\"title\":{\"standoff\":15},\"zerolinecolor\":\"white\",\"automargin\":true,\"zerolinewidth\":2},\"scene\":{\"xaxis\":{\"backgroundcolor\":\"#E5ECF6\",\"gridcolor\":\"white\",\"linecolor\":\"white\",\"showbackground\":true,\"ticks\":\"\",\"zerolinecolor\":\"white\",\"gridwidth\":2},\"yaxis\":{\"backgroundcolor\":\"#E5ECF6\",\"gridcolor\":\"white\",\"linecolor\":\"white\",\"showbackground\":true,\"ticks\":\"\",\"zerolinecolor\":\"white\",\"gridwidth\":2},\"zaxis\":{\"backgroundcolor\":\"#E5ECF6\",\"gridcolor\":\"white\",\"linecolor\":\"white\",\"showbackground\":true,\"ticks\":\"\",\"zerolinecolor\":\"white\",\"gridwidth\":2}},\"shapedefaults\":{\"line\":{\"color\":\"#2a3f5f\"}},\"annotationdefaults\":{\"arrowcolor\":\"#2a3f5f\",\"arrowhead\":0,\"arrowwidth\":1},\"geo\":{\"bgcolor\":\"white\",\"landcolor\":\"#E5ECF6\",\"subunitcolor\":\"white\",\"showland\":true,\"showlakes\":true,\"lakecolor\":\"white\"},\"title\":{\"x\":0.05},\"mapbox\":{\"style\":\"light\"}}},\"xaxis\":{\"anchor\":\"y\",\"domain\":[0.0,1.0]},\"yaxis\":{\"anchor\":\"x\",\"domain\":[0.0,1.0]},\"margin\":{\"t\":60}},                        {\"responsive\": true}                    ).then(function(){\n",
       "                            \n",
       "var gd = document.getElementById('0c5c9ae3-7963-45cf-bf88-5388ea2e6242');\n",
       "var x = new MutationObserver(function (mutations, observer) {{\n",
       "        var display = window.getComputedStyle(gd).display;\n",
       "        if (!display || display === 'none') {{\n",
       "            console.log([gd, 'removed!']);\n",
       "            Plotly.purge(gd);\n",
       "            observer.disconnect();\n",
       "        }}\n",
       "}});\n",
       "\n",
       "// Listen for the removal of the full notebook cells\n",
       "var notebookContainer = gd.closest('#notebook-container');\n",
       "if (notebookContainer) {{\n",
       "    x.observe(notebookContainer, {childList: true});\n",
       "}}\n",
       "\n",
       "// Listen for the clearing of the current output cell\n",
       "var outputEl = gd.closest('.output');\n",
       "if (outputEl) {{\n",
       "    x.observe(outputEl, {childList: true});\n",
       "}}\n",
       "\n",
       "                        })                };                });            </script>        </div>"
      ]
     },
     "metadata": {},
     "output_type": "display_data"
    }
   ],
   "source": [
    "# Interactive testing (for now animal only)\n",
    "images, label = test_image_loader.batch_sample(1)\n",
    "\n",
    "prediction = CNN.classify(images)\n",
    "prediction = prediction[0]\n",
    "\n",
    "# Assert animal image loader and CNN are in sync\n",
    "assert(test_image_loader.get_classifications_map() == CNN.get_image_loader_classification_map())\n",
    "\n",
    "# Now reverse mapping from string->float to float->string\n",
    "classification_map = {}\n",
    "for key, value in test_image_loader.get_classifications_map().items():\n",
    "    classification_map[value] = key\n",
    "\n",
    "print(\"Label: \" + classification_map[label[0]] + \" \" + str(label[0]))\n",
    "print(\"Prediction: \" + classification_map[prediction] + \" (\" + str(prediction) + \")\")\n",
    "view_image((np.array(images[0]) +0.5) * 255.0, input_width, input_height, colorscale=\"\")"
   ]
  }
 ],
 "metadata": {
  "kernelspec": {
   "display_name": ".venv",
   "language": "python",
   "name": "python3"
  },
  "language_info": {
   "codemirror_mode": {
    "name": "ipython",
    "version": 3
   },
   "file_extension": ".py",
   "mimetype": "text/x-python",
   "name": "python",
   "nbconvert_exporter": "python",
   "pygments_lexer": "ipython3",
   "version": "3.10.12"
  },
  "orig_nbformat": 4
 },
 "nbformat": 4,
 "nbformat_minor": 2
}
