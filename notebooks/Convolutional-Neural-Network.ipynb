{
 "cells": [
  {
   "cell_type": "code",
   "execution_count": 59,
   "metadata": {},
   "outputs": [],
   "source": [
    "import rust_machine_learning\n",
    "from syed_ml_lib import *\n",
    "import os"
   ]
  },
  {
   "cell_type": "code",
   "execution_count": 60,
   "metadata": {},
   "outputs": [
    {
     "name": "stdout",
     "output_type": "stream",
     "text": [
      "Reading images for classification \"pecora\"\n",
      "Reading images for classification \"cane\"\n",
      "Reading images for classification \"ragno\"\n",
      "Reading images for classification \"cavallo\"\n",
      "Reading images for classification \"gallina\"\n",
      "Reading images for classification \"scoiattolo\"\n",
      "Reading images for classification \"farfalla\"\n",
      "Reading images for classification \"gatto\"\n",
      "Reading images for classification \"elefante\"\n",
      "Reading images for classification \"mucca\"\n"
     ]
    }
   ],
   "source": [
    "# Setup the CNN\n",
    "num_classifications = 10\n",
    "input_height = 28\n",
    "input_width = 28\n",
    "input_depth = 1\n",
    "CNN = rust_machine_learning.ConvolutionalNeuralNetwork(num_classifications, input_height, input_width, input_depth)\n",
    "\n",
    "# Setup the optimizer\n",
    "learning_rate = 1e-2\n",
    "beta1 = 0.9\n",
    "beta2 = 0.999\n",
    "# CNN.set_optimizer_stochastic_gradient_descent(learning_rate)\n",
    "# CNN.set_optimizer_momentum(learning_rate, beta1)\n",
    "# CNN.set_optimizer_adagrad(learning_rate)\n",
    "# CNN.set_optimizer_RMSProp(learning_rate, beta1)\n",
    "CNN.set_optimizer_adam(learning_rate, beta1, beta2)\n",
    "\n",
    "# Setup the layers\n",
    "# The api has 3 functions\n",
    "# add_convolutional_layer(filter_height, filter_width, num_filters)\n",
    "# add_max_pool_layer()\n",
    "# add_fully_connected_layer() \n",
    "# Add fully connected layer can only be called once, and must be called last\n",
    "\n",
    "CNN.add_convolutional_layer(3, 3, 32)\n",
    "# CNN.add_convolutional_layer(3, 3, 64)\n",
    "CNN.add_max_pool_layer()\n",
    "CNN.add_fully_connected_layer() \n",
    "\n",
    "image_directory = \"../data/animals-10/\"\n",
    "image_directory_path = os.path.abspath(image_directory)\n",
    "CNN.set_image_loader(image_directory_path, input_height, input_width)"
   ]
  },
  {
   "cell_type": "code",
   "execution_count": 61,
   "metadata": {},
   "outputs": [
    {
     "data": {
      "text/html": [
       "<div>\n",
       "<style scoped>\n",
       "    .dataframe tbody tr th:only-of-type {\n",
       "        vertical-align: middle;\n",
       "    }\n",
       "\n",
       "    .dataframe tbody tr th {\n",
       "        vertical-align: top;\n",
       "    }\n",
       "\n",
       "    .dataframe thead th {\n",
       "        text-align: right;\n",
       "    }\n",
       "</style>\n",
       "<table border=\"1\" class=\"dataframe\">\n",
       "  <thead>\n",
       "    <tr style=\"text-align: right;\">\n",
       "      <th></th>\n",
       "      <th>label</th>\n",
       "      <th>pixel0</th>\n",
       "      <th>pixel1</th>\n",
       "      <th>pixel2</th>\n",
       "      <th>pixel3</th>\n",
       "      <th>pixel4</th>\n",
       "      <th>pixel5</th>\n",
       "      <th>pixel6</th>\n",
       "      <th>pixel7</th>\n",
       "      <th>pixel8</th>\n",
       "      <th>...</th>\n",
       "      <th>pixel774</th>\n",
       "      <th>pixel775</th>\n",
       "      <th>pixel776</th>\n",
       "      <th>pixel777</th>\n",
       "      <th>pixel778</th>\n",
       "      <th>pixel779</th>\n",
       "      <th>pixel780</th>\n",
       "      <th>pixel781</th>\n",
       "      <th>pixel782</th>\n",
       "      <th>pixel783</th>\n",
       "    </tr>\n",
       "  </thead>\n",
       "  <tbody>\n",
       "    <tr>\n",
       "      <th>0</th>\n",
       "      <td>1.0</td>\n",
       "      <td>-0.5</td>\n",
       "      <td>-0.5</td>\n",
       "      <td>-0.5</td>\n",
       "      <td>-0.5</td>\n",
       "      <td>-0.5</td>\n",
       "      <td>-0.5</td>\n",
       "      <td>-0.5</td>\n",
       "      <td>-0.5</td>\n",
       "      <td>-0.5</td>\n",
       "      <td>...</td>\n",
       "      <td>-0.5</td>\n",
       "      <td>-0.5</td>\n",
       "      <td>-0.5</td>\n",
       "      <td>-0.5</td>\n",
       "      <td>-0.5</td>\n",
       "      <td>-0.5</td>\n",
       "      <td>-0.5</td>\n",
       "      <td>-0.5</td>\n",
       "      <td>-0.5</td>\n",
       "      <td>-0.5</td>\n",
       "    </tr>\n",
       "    <tr>\n",
       "      <th>1</th>\n",
       "      <td>0.0</td>\n",
       "      <td>-0.5</td>\n",
       "      <td>-0.5</td>\n",
       "      <td>-0.5</td>\n",
       "      <td>-0.5</td>\n",
       "      <td>-0.5</td>\n",
       "      <td>-0.5</td>\n",
       "      <td>-0.5</td>\n",
       "      <td>-0.5</td>\n",
       "      <td>-0.5</td>\n",
       "      <td>...</td>\n",
       "      <td>-0.5</td>\n",
       "      <td>-0.5</td>\n",
       "      <td>-0.5</td>\n",
       "      <td>-0.5</td>\n",
       "      <td>-0.5</td>\n",
       "      <td>-0.5</td>\n",
       "      <td>-0.5</td>\n",
       "      <td>-0.5</td>\n",
       "      <td>-0.5</td>\n",
       "      <td>-0.5</td>\n",
       "    </tr>\n",
       "    <tr>\n",
       "      <th>2</th>\n",
       "      <td>1.0</td>\n",
       "      <td>-0.5</td>\n",
       "      <td>-0.5</td>\n",
       "      <td>-0.5</td>\n",
       "      <td>-0.5</td>\n",
       "      <td>-0.5</td>\n",
       "      <td>-0.5</td>\n",
       "      <td>-0.5</td>\n",
       "      <td>-0.5</td>\n",
       "      <td>-0.5</td>\n",
       "      <td>...</td>\n",
       "      <td>-0.5</td>\n",
       "      <td>-0.5</td>\n",
       "      <td>-0.5</td>\n",
       "      <td>-0.5</td>\n",
       "      <td>-0.5</td>\n",
       "      <td>-0.5</td>\n",
       "      <td>-0.5</td>\n",
       "      <td>-0.5</td>\n",
       "      <td>-0.5</td>\n",
       "      <td>-0.5</td>\n",
       "    </tr>\n",
       "    <tr>\n",
       "      <th>3</th>\n",
       "      <td>4.0</td>\n",
       "      <td>-0.5</td>\n",
       "      <td>-0.5</td>\n",
       "      <td>-0.5</td>\n",
       "      <td>-0.5</td>\n",
       "      <td>-0.5</td>\n",
       "      <td>-0.5</td>\n",
       "      <td>-0.5</td>\n",
       "      <td>-0.5</td>\n",
       "      <td>-0.5</td>\n",
       "      <td>...</td>\n",
       "      <td>-0.5</td>\n",
       "      <td>-0.5</td>\n",
       "      <td>-0.5</td>\n",
       "      <td>-0.5</td>\n",
       "      <td>-0.5</td>\n",
       "      <td>-0.5</td>\n",
       "      <td>-0.5</td>\n",
       "      <td>-0.5</td>\n",
       "      <td>-0.5</td>\n",
       "      <td>-0.5</td>\n",
       "    </tr>\n",
       "    <tr>\n",
       "      <th>4</th>\n",
       "      <td>0.0</td>\n",
       "      <td>-0.5</td>\n",
       "      <td>-0.5</td>\n",
       "      <td>-0.5</td>\n",
       "      <td>-0.5</td>\n",
       "      <td>-0.5</td>\n",
       "      <td>-0.5</td>\n",
       "      <td>-0.5</td>\n",
       "      <td>-0.5</td>\n",
       "      <td>-0.5</td>\n",
       "      <td>...</td>\n",
       "      <td>-0.5</td>\n",
       "      <td>-0.5</td>\n",
       "      <td>-0.5</td>\n",
       "      <td>-0.5</td>\n",
       "      <td>-0.5</td>\n",
       "      <td>-0.5</td>\n",
       "      <td>-0.5</td>\n",
       "      <td>-0.5</td>\n",
       "      <td>-0.5</td>\n",
       "      <td>-0.5</td>\n",
       "    </tr>\n",
       "    <tr>\n",
       "      <th>...</th>\n",
       "      <td>...</td>\n",
       "      <td>...</td>\n",
       "      <td>...</td>\n",
       "      <td>...</td>\n",
       "      <td>...</td>\n",
       "      <td>...</td>\n",
       "      <td>...</td>\n",
       "      <td>...</td>\n",
       "      <td>...</td>\n",
       "      <td>...</td>\n",
       "      <td>...</td>\n",
       "      <td>...</td>\n",
       "      <td>...</td>\n",
       "      <td>...</td>\n",
       "      <td>...</td>\n",
       "      <td>...</td>\n",
       "      <td>...</td>\n",
       "      <td>...</td>\n",
       "      <td>...</td>\n",
       "      <td>...</td>\n",
       "      <td>...</td>\n",
       "    </tr>\n",
       "    <tr>\n",
       "      <th>41995</th>\n",
       "      <td>0.0</td>\n",
       "      <td>-0.5</td>\n",
       "      <td>-0.5</td>\n",
       "      <td>-0.5</td>\n",
       "      <td>-0.5</td>\n",
       "      <td>-0.5</td>\n",
       "      <td>-0.5</td>\n",
       "      <td>-0.5</td>\n",
       "      <td>-0.5</td>\n",
       "      <td>-0.5</td>\n",
       "      <td>...</td>\n",
       "      <td>-0.5</td>\n",
       "      <td>-0.5</td>\n",
       "      <td>-0.5</td>\n",
       "      <td>-0.5</td>\n",
       "      <td>-0.5</td>\n",
       "      <td>-0.5</td>\n",
       "      <td>-0.5</td>\n",
       "      <td>-0.5</td>\n",
       "      <td>-0.5</td>\n",
       "      <td>-0.5</td>\n",
       "    </tr>\n",
       "    <tr>\n",
       "      <th>41996</th>\n",
       "      <td>1.0</td>\n",
       "      <td>-0.5</td>\n",
       "      <td>-0.5</td>\n",
       "      <td>-0.5</td>\n",
       "      <td>-0.5</td>\n",
       "      <td>-0.5</td>\n",
       "      <td>-0.5</td>\n",
       "      <td>-0.5</td>\n",
       "      <td>-0.5</td>\n",
       "      <td>-0.5</td>\n",
       "      <td>...</td>\n",
       "      <td>-0.5</td>\n",
       "      <td>-0.5</td>\n",
       "      <td>-0.5</td>\n",
       "      <td>-0.5</td>\n",
       "      <td>-0.5</td>\n",
       "      <td>-0.5</td>\n",
       "      <td>-0.5</td>\n",
       "      <td>-0.5</td>\n",
       "      <td>-0.5</td>\n",
       "      <td>-0.5</td>\n",
       "    </tr>\n",
       "    <tr>\n",
       "      <th>41997</th>\n",
       "      <td>7.0</td>\n",
       "      <td>-0.5</td>\n",
       "      <td>-0.5</td>\n",
       "      <td>-0.5</td>\n",
       "      <td>-0.5</td>\n",
       "      <td>-0.5</td>\n",
       "      <td>-0.5</td>\n",
       "      <td>-0.5</td>\n",
       "      <td>-0.5</td>\n",
       "      <td>-0.5</td>\n",
       "      <td>...</td>\n",
       "      <td>-0.5</td>\n",
       "      <td>-0.5</td>\n",
       "      <td>-0.5</td>\n",
       "      <td>-0.5</td>\n",
       "      <td>-0.5</td>\n",
       "      <td>-0.5</td>\n",
       "      <td>-0.5</td>\n",
       "      <td>-0.5</td>\n",
       "      <td>-0.5</td>\n",
       "      <td>-0.5</td>\n",
       "    </tr>\n",
       "    <tr>\n",
       "      <th>41998</th>\n",
       "      <td>6.0</td>\n",
       "      <td>-0.5</td>\n",
       "      <td>-0.5</td>\n",
       "      <td>-0.5</td>\n",
       "      <td>-0.5</td>\n",
       "      <td>-0.5</td>\n",
       "      <td>-0.5</td>\n",
       "      <td>-0.5</td>\n",
       "      <td>-0.5</td>\n",
       "      <td>-0.5</td>\n",
       "      <td>...</td>\n",
       "      <td>-0.5</td>\n",
       "      <td>-0.5</td>\n",
       "      <td>-0.5</td>\n",
       "      <td>-0.5</td>\n",
       "      <td>-0.5</td>\n",
       "      <td>-0.5</td>\n",
       "      <td>-0.5</td>\n",
       "      <td>-0.5</td>\n",
       "      <td>-0.5</td>\n",
       "      <td>-0.5</td>\n",
       "    </tr>\n",
       "    <tr>\n",
       "      <th>41999</th>\n",
       "      <td>9.0</td>\n",
       "      <td>-0.5</td>\n",
       "      <td>-0.5</td>\n",
       "      <td>-0.5</td>\n",
       "      <td>-0.5</td>\n",
       "      <td>-0.5</td>\n",
       "      <td>-0.5</td>\n",
       "      <td>-0.5</td>\n",
       "      <td>-0.5</td>\n",
       "      <td>-0.5</td>\n",
       "      <td>...</td>\n",
       "      <td>-0.5</td>\n",
       "      <td>-0.5</td>\n",
       "      <td>-0.5</td>\n",
       "      <td>-0.5</td>\n",
       "      <td>-0.5</td>\n",
       "      <td>-0.5</td>\n",
       "      <td>-0.5</td>\n",
       "      <td>-0.5</td>\n",
       "      <td>-0.5</td>\n",
       "      <td>-0.5</td>\n",
       "    </tr>\n",
       "  </tbody>\n",
       "</table>\n",
       "<p>42000 rows × 785 columns</p>\n",
       "</div>"
      ],
      "text/plain": [
       "       label  pixel0  pixel1  pixel2  pixel3  pixel4  pixel5  pixel6  pixel7  \\\n",
       "0        1.0    -0.5    -0.5    -0.5    -0.5    -0.5    -0.5    -0.5    -0.5   \n",
       "1        0.0    -0.5    -0.5    -0.5    -0.5    -0.5    -0.5    -0.5    -0.5   \n",
       "2        1.0    -0.5    -0.5    -0.5    -0.5    -0.5    -0.5    -0.5    -0.5   \n",
       "3        4.0    -0.5    -0.5    -0.5    -0.5    -0.5    -0.5    -0.5    -0.5   \n",
       "4        0.0    -0.5    -0.5    -0.5    -0.5    -0.5    -0.5    -0.5    -0.5   \n",
       "...      ...     ...     ...     ...     ...     ...     ...     ...     ...   \n",
       "41995    0.0    -0.5    -0.5    -0.5    -0.5    -0.5    -0.5    -0.5    -0.5   \n",
       "41996    1.0    -0.5    -0.5    -0.5    -0.5    -0.5    -0.5    -0.5    -0.5   \n",
       "41997    7.0    -0.5    -0.5    -0.5    -0.5    -0.5    -0.5    -0.5    -0.5   \n",
       "41998    6.0    -0.5    -0.5    -0.5    -0.5    -0.5    -0.5    -0.5    -0.5   \n",
       "41999    9.0    -0.5    -0.5    -0.5    -0.5    -0.5    -0.5    -0.5    -0.5   \n",
       "\n",
       "       pixel8  ...  pixel774  pixel775  pixel776  pixel777  pixel778  \\\n",
       "0        -0.5  ...      -0.5      -0.5      -0.5      -0.5      -0.5   \n",
       "1        -0.5  ...      -0.5      -0.5      -0.5      -0.5      -0.5   \n",
       "2        -0.5  ...      -0.5      -0.5      -0.5      -0.5      -0.5   \n",
       "3        -0.5  ...      -0.5      -0.5      -0.5      -0.5      -0.5   \n",
       "4        -0.5  ...      -0.5      -0.5      -0.5      -0.5      -0.5   \n",
       "...       ...  ...       ...       ...       ...       ...       ...   \n",
       "41995    -0.5  ...      -0.5      -0.5      -0.5      -0.5      -0.5   \n",
       "41996    -0.5  ...      -0.5      -0.5      -0.5      -0.5      -0.5   \n",
       "41997    -0.5  ...      -0.5      -0.5      -0.5      -0.5      -0.5   \n",
       "41998    -0.5  ...      -0.5      -0.5      -0.5      -0.5      -0.5   \n",
       "41999    -0.5  ...      -0.5      -0.5      -0.5      -0.5      -0.5   \n",
       "\n",
       "       pixel779  pixel780  pixel781  pixel782  pixel783  \n",
       "0          -0.5      -0.5      -0.5      -0.5      -0.5  \n",
       "1          -0.5      -0.5      -0.5      -0.5      -0.5  \n",
       "2          -0.5      -0.5      -0.5      -0.5      -0.5  \n",
       "3          -0.5      -0.5      -0.5      -0.5      -0.5  \n",
       "4          -0.5      -0.5      -0.5      -0.5      -0.5  \n",
       "...         ...       ...       ...       ...       ...  \n",
       "41995      -0.5      -0.5      -0.5      -0.5      -0.5  \n",
       "41996      -0.5      -0.5      -0.5      -0.5      -0.5  \n",
       "41997      -0.5      -0.5      -0.5      -0.5      -0.5  \n",
       "41998      -0.5      -0.5      -0.5      -0.5      -0.5  \n",
       "41999      -0.5      -0.5      -0.5      -0.5      -0.5  \n",
       "\n",
       "[42000 rows x 785 columns]"
      ]
     },
     "execution_count": 61,
     "metadata": {},
     "output_type": "execute_result"
    }
   ],
   "source": [
    "# Grab mnist data\n",
    "import random\n",
    "import numpy as np\n",
    "\n",
    "df = pd.read_csv(\"../data/digit-recognizer/train.csv\")\n",
    "\n",
    "# Normalize images\n",
    "df.iloc[:, 1:] = df.iloc[:, 1:].div(255.0).sub(0.5)\n",
    "images = df.iloc[:, 1:].values.tolist()\n",
    "df.iloc[:, 0] = df.iloc[:, 0].astype(np.float32)\n",
    "labels = df.iloc[:, 0].values.tolist()\n",
    "\n",
    "# Split into training and testing\n",
    "test_images = images[0:20000]\n",
    "test_labels = labels[0:20000]\n",
    "train_images = images[20000:]\n",
    "train_labels = labels[20000:]\n",
    "\n",
    "df"
   ]
  },
  {
   "cell_type": "code",
   "execution_count": 62,
   "metadata": {},
   "outputs": [],
   "source": [
    "def test_mnist():\n",
    "    num_batches_to_test = 500\n",
    "    num_right = 0\n",
    "    for i in range(num_batches_to_test):\n",
    "\n",
    "        # Random sample one image from python list of images\n",
    "        rand_index = random.randint(0, len(test_images) - 1)\n",
    "        image = test_images[rand_index]\n",
    "        label = test_labels[rand_index]\n",
    "\n",
    "        prediction = CNN.classify([[image]])[0]\n",
    "        if prediction == label:\n",
    "            num_right += 1\n",
    "\n",
    "    print(\"Accuracy: \" + str(100.0 * num_right / (num_batches_to_test)))"
   ]
  },
  {
   "cell_type": "code",
   "execution_count": 63,
   "metadata": {},
   "outputs": [
    {
     "name": "stdout",
     "output_type": "stream",
     "text": [
      "Reading images for classification \"pecora\"\n",
      "Reading images for classification \"cane\"\n",
      "Reading images for classification \"ragno\"\n",
      "Reading images for classification \"cavallo\"\n",
      "Reading images for classification \"gallina\"\n",
      "Reading images for classification \"scoiattolo\"\n",
      "Reading images for classification \"farfalla\"\n",
      "Reading images for classification \"gatto\"\n",
      "Reading images for classification \"elefante\"\n",
      "Reading images for classification \"mucca\"\n"
     ]
    }
   ],
   "source": [
    "test_image_loader = rust_machine_learning.ImageBatchLoader(image_directory_path, input_width, input_height)\n",
    "def test_using_image_loader():\n",
    "    num_batches_to_test = 100\n",
    "    num_right = 0\n",
    "    for i in range(num_batches_to_test):\n",
    "\n",
    "        images, label = test_image_loader.batch_sample(1, True)\n",
    "\n",
    "        prediction = CNN.classify(images)[0]\n",
    "        if prediction == label[0]:\n",
    "            num_right += 1\n",
    "\n",
    "    print(\"Accuracy: \" + str(100.0 * num_right / (num_batches_to_test)))"
   ]
  },
  {
   "cell_type": "code",
   "execution_count": 64,
   "metadata": {},
   "outputs": [],
   "source": [
    "def train_using_raw_data():\n",
    "    batch_size = 32\n",
    "    num_iter = 10000\n",
    "\n",
    "    print(\"Accuracy before training:\")\n",
    "    test_mnist()\n",
    "    print(\"Training...\")\n",
    "    for i in range(0, num_iter):\n",
    "\n",
    "        # Create image and label batch from mnist\n",
    "        image_batch, label_batch = [], []\n",
    "        for j in range(batch_size):\n",
    "            rand_index = random.randint(0, len(train_images) - 1)\n",
    "            image = train_images[rand_index]\n",
    "            label = train_labels[rand_index]\n",
    "            image_batch.append([image])\n",
    "            label_batch.append(label)\n",
    "\n",
    "        # Train using MNIST dataset, select one image at a time randomly\n",
    "        CNN.train_raw_data(image_batch, label_batch)\n",
    "\n",
    "    print(\"Accuracy after training:\")\n",
    "    test_mnist()\n",
    "\n",
    "    # Get the loss and accuracy and plot it\n",
    "    perfomance_info = CNN.get_performance_info() # Return a list of tuple (accuracy, loss)\n",
    "    graph_accuracy_loss(perfomance_info)"
   ]
  },
  {
   "cell_type": "code",
   "execution_count": 65,
   "metadata": {},
   "outputs": [],
   "source": [
    "def train_using_set_img_loader():\n",
    "    batch_size = 32\n",
    "    num_iter = 5000\n",
    "    print(\"Accuracy before training:\")\n",
    "    test_using_image_loader()\n",
    "    print(\"Training...\")\n",
    "\n",
    "    # Split into increments of 50 because rust won't progress info print properly\n",
    "    for i in range(0, num_iter, 50):\n",
    "        CNN.train_using_image_loader(batch_size, 50)\n",
    "    test_using_image_loader()\n",
    "\n",
    "    # Get the loss and accuracy and plot it\n",
    "    perfomance_info = CNN.get_performance_info() # Return a list of tuple (accuracy, loss)\n",
    "    graph_accuracy_loss(perfomance_info)"
   ]
  },
  {
   "cell_type": "code",
   "execution_count": 66,
   "metadata": {},
   "outputs": [
    {
     "name": "stdout",
     "output_type": "stream",
     "text": [
      "Accuracy before training:\n",
      "Accuracy: 10.2\n",
      "Training...\n",
      "Iteration 50: Accuracy: 20.375 Loss: 3550.7725\n",
      "Iteration 100: Accuracy: 56.375004 Loss: 2813.6755\n",
      "Iteration 150: Accuracy: 76.9375 Loss: 2040.2853\n",
      "Iteration 200: Accuracy: 82.25 Loss: 1601.3055\n",
      "Iteration 250: Accuracy: 84.1875 Loss: 1259.4926\n",
      "Iteration 300: Accuracy: 86.3125 Loss: 1085.9833\n",
      "Iteration 350: Accuracy: 88.375 Loss: 889.3436\n",
      "Iteration 400: Accuracy: 89.875 Loss: 812.2958\n",
      "Iteration 450: Accuracy: 89.75 Loss: 738.0181\n",
      "Iteration 500: Accuracy: 90.375 Loss: 694.0466\n",
      "Iteration 550: Accuracy: 91 Loss: 625.156\n",
      "Iteration 600: Accuracy: 91 Loss: 628.93317\n",
      "Iteration 650: Accuracy: 91.625 Loss: 560.6506\n",
      "Iteration 700: Accuracy: 91.9375 Loss: 545.5719\n",
      "Iteration 750: Accuracy: 92.375 Loss: 533.3804\n",
      "Iteration 800: Accuracy: 92.5 Loss: 499.51242\n",
      "Iteration 850: Accuracy: 92.1875 Loss: 492.97247\n",
      "Iteration 900: Accuracy: 91.375 Loss: 495.88217\n",
      "Iteration 950: Accuracy: 92.625 Loss: 447.09778\n",
      "Iteration 1000: Accuracy: 93 Loss: 448.9767\n",
      "Iteration 1050: Accuracy: 92.8125 Loss: 461.87845\n",
      "Iteration 1100: Accuracy: 93.9375 Loss: 412.67966\n",
      "Iteration 1150: Accuracy: 93.5625 Loss: 408.7698\n",
      "Iteration 1200: Accuracy: 93.6875 Loss: 396.94965\n",
      "Iteration 1250: Accuracy: 94.4375 Loss: 375.8531\n",
      "Iteration 1300: Accuracy: 93.5625 Loss: 381.6671\n",
      "Iteration 1350: Accuracy: 94.125 Loss: 354.32376\n",
      "Iteration 1400: Accuracy: 94.4375 Loss: 353.62122\n",
      "Iteration 1450: Accuracy: 94.125 Loss: 342.63882\n",
      "Iteration 1500: Accuracy: 94.9375 Loss: 326.85336\n",
      "Iteration 1550: Accuracy: 94.5 Loss: 342.2627\n",
      "Iteration 1600: Accuracy: 94.375 Loss: 351.54178\n",
      "Iteration 1650: Accuracy: 95.25 Loss: 293.22153\n",
      "Iteration 1700: Accuracy: 94.125 Loss: 336.1754\n",
      "Iteration 1750: Accuracy: 94.6875 Loss: 317.57132\n",
      "Iteration 1800: Accuracy: 95.25 Loss: 297.64795\n",
      "Iteration 1850: Accuracy: 95.625 Loss: 296.2901\n",
      "Iteration 1900: Accuracy: 95.5 Loss: 304.61563\n",
      "Iteration 1950: Accuracy: 95.625 Loss: 269.92902\n",
      "Iteration 2000: Accuracy: 95.125 Loss: 291.10046\n",
      "Iteration 2050: Accuracy: 95.3125 Loss: 268.99203\n",
      "Iteration 2100: Accuracy: 95.375 Loss: 273.1248\n",
      "Iteration 2150: Accuracy: 96.25 Loss: 259.00082\n",
      "Iteration 2200: Accuracy: 95.0625 Loss: 276.2013\n",
      "Iteration 2250: Accuracy: 96 Loss: 242.65552\n",
      "Iteration 2300: Accuracy: 95.6875 Loss: 251.00151\n",
      "Iteration 2350: Accuracy: 95.3125 Loss: 248.58734\n",
      "Iteration 2400: Accuracy: 95.8125 Loss: 245.84654\n",
      "Iteration 2450: Accuracy: 95.9375 Loss: 238.54124\n",
      "Iteration 2500: Accuracy: 96.5 Loss: 225.62401\n",
      "Iteration 2550: Accuracy: 95.875 Loss: 232.60349\n",
      "Iteration 2600: Accuracy: 96.125 Loss: 233.69675\n",
      "Iteration 2650: Accuracy: 95.625 Loss: 242.3515\n",
      "Iteration 2700: Accuracy: 95.5 Loss: 264.1735\n",
      "Iteration 2750: Accuracy: 96.8125 Loss: 216.70808\n",
      "Iteration 2800: Accuracy: 96.0625 Loss: 225.52658\n",
      "Iteration 2850: Accuracy: 95.625 Loss: 219.75833\n",
      "Iteration 2900: Accuracy: 96.3125 Loss: 230.6042\n",
      "Iteration 2950: Accuracy: 96.875 Loss: 212.83214\n",
      "Iteration 3000: Accuracy: 97.125 Loss: 172.7693\n",
      "Iteration 3050: Accuracy: 95.9375 Loss: 235.17924\n",
      "Iteration 3100: Accuracy: 95.8125 Loss: 215.8594\n",
      "Iteration 3150: Accuracy: 96.75 Loss: 200.52406\n",
      "Iteration 3200: Accuracy: 97.0625 Loss: 185.76749\n",
      "Iteration 3250: Accuracy: 95.625 Loss: 223.74104\n",
      "Iteration 3300: Accuracy: 96.125 Loss: 246.08626\n",
      "Iteration 3350: Accuracy: 97.25 Loss: 166.66862\n",
      "Iteration 3400: Accuracy: 97.125 Loss: 203.24165\n",
      "Iteration 3450: Accuracy: 96.9375 Loss: 182.17038\n",
      "Iteration 3500: Accuracy: 97.0625 Loss: 173.8631\n",
      "Iteration 3550: Accuracy: 96.625 Loss: 205.50854\n",
      "Iteration 3600: Accuracy: 96.125 Loss: 204.58018\n",
      "Iteration 3650: Accuracy: 97.625 Loss: 141.15692\n",
      "Iteration 3700: Accuracy: 96.5625 Loss: 195.2445\n",
      "Iteration 3750: Accuracy: 96.6875 Loss: 216.6285\n",
      "Iteration 3800: Accuracy: 97.1875 Loss: 171.09483\n",
      "Iteration 3850: Accuracy: 97.0625 Loss: 185.1748\n",
      "Iteration 3900: Accuracy: 97.125 Loss: 167.3357\n",
      "Iteration 3950: Accuracy: 96.5625 Loss: 200.2354\n",
      "Iteration 4000: Accuracy: 97.5625 Loss: 154.39957\n",
      "Iteration 4050: Accuracy: 96.5625 Loss: 186.79137\n",
      "Iteration 4100: Accuracy: 96.875 Loss: 177.33974\n",
      "Iteration 4150: Accuracy: 97.0625 Loss: 165.74313\n",
      "Iteration 4200: Accuracy: 97.4375 Loss: 168.95256\n",
      "Iteration 4250: Accuracy: 97 Loss: 168.95943\n",
      "Iteration 4300: Accuracy: 97.1875 Loss: 182.38272\n",
      "Iteration 4350: Accuracy: 97.125 Loss: 164.04202\n",
      "Iteration 4400: Accuracy: 96.9375 Loss: 172.13634\n",
      "Iteration 4450: Accuracy: 97.4375 Loss: 153.60597\n",
      "Iteration 4500: Accuracy: 96.8125 Loss: 177.80728\n",
      "Iteration 4550: Accuracy: 97.125 Loss: 176.58917\n",
      "Iteration 4600: Accuracy: 97.125 Loss: 159.69968\n",
      "Iteration 4650: Accuracy: 97.75 Loss: 149.0913\n",
      "Iteration 4700: Accuracy: 96.6875 Loss: 187.37251\n",
      "Iteration 4750: Accuracy: 98.3125 Loss: 120.269905\n",
      "Iteration 4800: Accuracy: 97.3125 Loss: 170.68854\n",
      "Iteration 4850: Accuracy: 97.0625 Loss: 161.47603\n",
      "Iteration 4900: Accuracy: 97 Loss: 171.63431\n",
      "Iteration 4950: Accuracy: 98 Loss: 133.10165\n",
      "Iteration 5000: Accuracy: 98.125 Loss: 124.38169\n",
      "Iteration 5050: Accuracy: 97.6875 Loss: 141.93977\n",
      "Iteration 5100: Accuracy: 97.1875 Loss: 154.93779\n",
      "Iteration 5150: Accuracy: 97.625 Loss: 145.87907\n",
      "Iteration 5200: Accuracy: 97.5 Loss: 149.86409\n",
      "Iteration 5250: Accuracy: 98.1875 Loss: 114.42139\n",
      "Iteration 5300: Accuracy: 97.8125 Loss: 143.54758\n",
      "Iteration 5350: Accuracy: 97.5625 Loss: 141.13257\n",
      "Iteration 5400: Accuracy: 97.6875 Loss: 143.90726\n",
      "Iteration 5450: Accuracy: 97.3125 Loss: 156.71754\n",
      "Iteration 5500: Accuracy: 97.5625 Loss: 172.97566\n",
      "Iteration 5550: Accuracy: 98.6875 Loss: 104.06698\n",
      "Iteration 5600: Accuracy: 98.0625 Loss: 122.66847\n",
      "Iteration 5650: Accuracy: 97.5625 Loss: 146.46472\n",
      "Iteration 5700: Accuracy: 97.625 Loss: 143.26396\n",
      "Iteration 5750: Accuracy: 97.875 Loss: 135.83904\n",
      "Iteration 5800: Accuracy: 97.25 Loss: 152.20142\n",
      "Iteration 5850: Accuracy: 98.4375 Loss: 121.97497\n",
      "Iteration 5900: Accuracy: 97.3125 Loss: 145.53163\n",
      "Iteration 5950: Accuracy: 97.8125 Loss: 139.61618\n",
      "Iteration 6000: Accuracy: 97.5 Loss: 141.66826\n",
      "Iteration 6050: Accuracy: 97.8125 Loss: 125.42083\n",
      "Iteration 6100: Accuracy: 97.6875 Loss: 136.32036\n",
      "Iteration 6150: Accuracy: 97.1875 Loss: 147.20763\n",
      "Iteration 6200: Accuracy: 98.0625 Loss: 115.986206\n",
      "Iteration 6250: Accuracy: 97.75 Loss: 135.05577\n",
      "Iteration 6300: Accuracy: 97.5625 Loss: 142.41368\n",
      "Iteration 6350: Accuracy: 98.125 Loss: 109.66193\n",
      "Iteration 6400: Accuracy: 98.5625 Loss: 103.70196\n",
      "Iteration 6450: Accuracy: 98.125 Loss: 117.61221\n",
      "Iteration 6500: Accuracy: 98.1875 Loss: 107.4967\n",
      "Iteration 6550: Accuracy: 98 Loss: 120.24291\n",
      "Iteration 6600: Accuracy: 97.9375 Loss: 127.488235\n",
      "Iteration 6650: Accuracy: 97.8125 Loss: 123.692024\n",
      "Iteration 6700: Accuracy: 97.1875 Loss: 139.62514\n",
      "Iteration 6750: Accuracy: 98.1875 Loss: 105.43763\n",
      "Iteration 6800: Accuracy: 97.9375 Loss: 124.10035\n",
      "Iteration 6850: Accuracy: 98.4375 Loss: 100.66586\n",
      "Iteration 6900: Accuracy: 98.1875 Loss: 104.03338\n",
      "Iteration 6950: Accuracy: 98.875 Loss: 84.46816\n",
      "Iteration 7000: Accuracy: 97.6875 Loss: 120.496994\n",
      "Iteration 7050: Accuracy: 98.125 Loss: 118.52544\n",
      "Iteration 7100: Accuracy: 98.25 Loss: 112.202866\n",
      "Iteration 7150: Accuracy: 98.3125 Loss: 91.325226\n",
      "Iteration 7200: Accuracy: 98.25 Loss: 105.80725\n",
      "Iteration 7250: Accuracy: 98.75 Loss: 86.12097\n",
      "Iteration 7300: Accuracy: 98.5 Loss: 101.274925\n",
      "Iteration 7350: Accuracy: 98.375 Loss: 111.531235\n",
      "Iteration 7400: Accuracy: 97.9375 Loss: 121.23778\n",
      "Iteration 7450: Accuracy: 98.25 Loss: 104.07775\n",
      "Iteration 7500: Accuracy: 97.4375 Loss: 125.75593\n",
      "Iteration 7550: Accuracy: 98.4375 Loss: 125.181076\n",
      "Iteration 7600: Accuracy: 98.4375 Loss: 103.778465\n",
      "Iteration 7650: Accuracy: 97.625 Loss: 130.63914\n",
      "Iteration 7700: Accuracy: 98.75 Loss: 99.79221\n",
      "Iteration 7750: Accuracy: 99 Loss: 95.8728\n",
      "Iteration 7800: Accuracy: 97.75 Loss: 111.46096\n",
      "Iteration 7850: Accuracy: 98.5 Loss: 107.11515\n",
      "Iteration 7900: Accuracy: 98.9375 Loss: 87.92332\n",
      "Iteration 7950: Accuracy: 98.3125 Loss: 98.95064\n",
      "Iteration 8000: Accuracy: 98.125 Loss: 102.49591\n",
      "Iteration 8050: Accuracy: 98.6875 Loss: 86.0487\n",
      "Iteration 8100: Accuracy: 97.8125 Loss: 113.0334\n",
      "Iteration 8150: Accuracy: 98 Loss: 107.28123\n",
      "Iteration 8200: Accuracy: 98.875 Loss: 80.92797\n",
      "Iteration 8250: Accuracy: 98.625 Loss: 90.95766\n",
      "Iteration 8300: Accuracy: 98.0625 Loss: 112.8037\n",
      "Iteration 8350: Accuracy: 98.625 Loss: 96.61889\n",
      "Iteration 8400: Accuracy: 99.125 Loss: 66.00991\n",
      "Iteration 8450: Accuracy: 98.9375 Loss: 75.1932\n",
      "Iteration 8500: Accuracy: 97.6875 Loss: 115.69546\n",
      "Iteration 8550: Accuracy: 98.6875 Loss: 90.897125\n",
      "Iteration 8600: Accuracy: 98.0625 Loss: 110.60728\n",
      "Iteration 8650: Accuracy: 98.0625 Loss: 101.700905\n",
      "Iteration 8700: Accuracy: 98.8125 Loss: 90.96146\n",
      "Iteration 8750: Accuracy: 98.75 Loss: 88.867905\n",
      "Iteration 8800: Accuracy: 98.6875 Loss: 88.50303\n",
      "Iteration 8850: Accuracy: 98.625 Loss: 95.2416\n",
      "Iteration 8900: Accuracy: 99.1875 Loss: 68.03834\n",
      "Iteration 8950: Accuracy: 99.125 Loss: 63.64772\n",
      "Iteration 9000: Accuracy: 98.3125 Loss: 89.55056\n",
      "Iteration 9050: Accuracy: 98.4375 Loss: 81.04194\n",
      "Iteration 9100: Accuracy: 98.375 Loss: 96.98163\n",
      "Iteration 9150: Accuracy: 97.9375 Loss: 102.47209\n",
      "Iteration 9200: Accuracy: 98.875 Loss: 83.42305\n",
      "Iteration 9250: Accuracy: 98.625 Loss: 98.55279\n",
      "Iteration 9300: Accuracy: 99.0625 Loss: 71.39438\n",
      "Iteration 9350: Accuracy: 99.1875 Loss: 73.17623\n",
      "Iteration 9400: Accuracy: 98.3125 Loss: 90.61884\n",
      "Iteration 9450: Accuracy: 98.5 Loss: 86.928894\n",
      "Iteration 9500: Accuracy: 98.5625 Loss: 79.30983\n",
      "Iteration 9550: Accuracy: 98.5 Loss: 93.2101\n",
      "Iteration 9600: Accuracy: 98.5 Loss: 89.133606\n",
      "Iteration 9650: Accuracy: 98.5625 Loss: 84.37412\n",
      "Iteration 9700: Accuracy: 98.8125 Loss: 83.3163\n",
      "Iteration 9750: Accuracy: 98.5625 Loss: 86.09896\n",
      "Iteration 9800: Accuracy: 98.75 Loss: 95.55915\n",
      "Iteration 9850: Accuracy: 98.375 Loss: 93.639305\n",
      "Iteration 9900: Accuracy: 98.375 Loss: 86.57554\n",
      "Iteration 9950: Accuracy: 98.75 Loss: 85.30227\n",
      "Accuracy after training:\n",
      "Accuracy: 97.2\n"
     ]
    },
    {
     "data": {
      "text/html": [
       "        <script type=\"text/javascript\">\n",
       "        window.PlotlyConfig = {MathJaxConfig: 'local'};\n",
       "        if (window.MathJax && window.MathJax.Hub && window.MathJax.Hub.Config) {window.MathJax.Hub.Config({SVG: {font: \"STIX-Web\"}});}\n",
       "        if (typeof require !== 'undefined') {\n",
       "        require.undef(\"plotly\");\n",
       "        requirejs.config({\n",
       "            paths: {\n",
       "                'plotly': ['https://cdn.plot.ly/plotly-2.24.1.min']\n",
       "            }\n",
       "        });\n",
       "        require(['plotly'], function(Plotly) {\n",
       "            window._Plotly = Plotly;\n",
       "        });\n",
       "        }\n",
       "        </script>\n",
       "        "
      ]
     },
     "metadata": {},
     "output_type": "display_data"
    },
    {
     "data": {
      "application/vnd.plotly.v1+json": {
       "config": {
        "linkText": "Export to plot.ly",
        "plotlyServerURL": "https://plot.ly",
        "showLink": false
       },
       "data": [
        {
         "mode": "lines",
         "name": "accuracy",
         "type": "scatter",
         "x": [
          0,
          1,
          2,
          3,
          4,
          5,
          6,
          7,
          8,
          9,
          10,
          11,
          12,
          13,
          14,
          15,
          16,
          17,
          18,
          19,
          20,
          21,
          22,
          23,
          24,
          25,
          26,
          27,
          28,
          29,
          30,
          31,
          32,
          33,
          34,
          35,
          36,
          37,
          38,
          39,
          40,
          41,
          42,
          43,
          44,
          45,
          46,
          47,
          48,
          49,
          50,
          51,
          52,
          53,
          54,
          55,
          56,
          57,
          58,
          59,
          60,
          61,
          62,
          63,
          64,
          65,
          66,
          67,
          68,
          69,
          70,
          71,
          72,
          73,
          74,
          75,
          76,
          77,
          78,
          79,
          80,
          81,
          82,
          83,
          84,
          85,
          86,
          87,
          88,
          89,
          90,
          91,
          92,
          93,
          94,
          95,
          96,
          97,
          98,
          99,
          100,
          101,
          102,
          103,
          104,
          105,
          106,
          107,
          108,
          109,
          110,
          111,
          112,
          113,
          114,
          115,
          116,
          117,
          118,
          119,
          120,
          121,
          122,
          123,
          124,
          125,
          126,
          127,
          128,
          129,
          130,
          131,
          132,
          133,
          134,
          135,
          136,
          137,
          138,
          139,
          140,
          141,
          142,
          143,
          144,
          145,
          146,
          147,
          148,
          149,
          150,
          151,
          152,
          153,
          154,
          155,
          156,
          157,
          158,
          159,
          160,
          161,
          162,
          163,
          164,
          165,
          166,
          167,
          168,
          169,
          170,
          171,
          172,
          173,
          174,
          175,
          176,
          177,
          178,
          179,
          180,
          181,
          182,
          183,
          184,
          185,
          186,
          187,
          188,
          189,
          190,
          191,
          192,
          193,
          194,
          195,
          196,
          197,
          198
         ],
         "y": [
          0.20375,
          0.5637500381469727,
          0.769375,
          0.8225,
          0.841875,
          0.863125,
          0.88375,
          0.89875,
          0.8975,
          0.90375,
          0.91,
          0.91,
          0.91625,
          0.919375,
          0.92375,
          0.925,
          0.921875,
          0.91375,
          0.92625,
          0.93,
          0.928125,
          0.939375,
          0.935625,
          0.936875,
          0.944375,
          0.935625,
          0.94125,
          0.944375,
          0.94125,
          0.949375,
          0.945,
          0.94375,
          0.9525,
          0.94125,
          0.946875,
          0.9525,
          0.95625,
          0.955,
          0.95625,
          0.95125,
          0.953125,
          0.95375,
          0.9625,
          0.950625,
          0.96,
          0.956875,
          0.953125,
          0.958125,
          0.959375,
          0.965,
          0.95875,
          0.96125,
          0.95625,
          0.955,
          0.968125,
          0.960625,
          0.95625,
          0.963125,
          0.96875,
          0.97125,
          0.959375,
          0.958125,
          0.9675,
          0.970625,
          0.95625,
          0.96125,
          0.9725,
          0.97125,
          0.969375,
          0.970625,
          0.96625,
          0.96125,
          0.97625,
          0.965625,
          0.966875,
          0.971875,
          0.970625,
          0.97125,
          0.965625,
          0.975625,
          0.965625,
          0.96875,
          0.970625,
          0.974375,
          0.97,
          0.971875,
          0.97125,
          0.969375,
          0.974375,
          0.968125,
          0.97125,
          0.97125,
          0.9775,
          0.966875,
          0.983125,
          0.973125,
          0.970625,
          0.97,
          0.98,
          0.98125,
          0.976875,
          0.971875,
          0.97625,
          0.975,
          0.981875,
          0.978125,
          0.975625,
          0.976875,
          0.973125,
          0.975625,
          0.986875,
          0.980625,
          0.975625,
          0.97625,
          0.97875,
          0.9725,
          0.984375,
          0.973125,
          0.978125,
          0.975,
          0.978125,
          0.976875,
          0.971875,
          0.980625,
          0.9775,
          0.975625,
          0.98125,
          0.985625,
          0.98125,
          0.981875,
          0.98,
          0.979375,
          0.978125,
          0.971875,
          0.981875,
          0.979375,
          0.984375,
          0.981875,
          0.98875,
          0.976875,
          0.98125,
          0.9825,
          0.983125,
          0.9825,
          0.9875,
          0.985,
          0.98375,
          0.979375,
          0.9825,
          0.974375,
          0.984375,
          0.984375,
          0.97625,
          0.9875,
          0.99,
          0.9775,
          0.985,
          0.989375,
          0.983125,
          0.98125,
          0.986875,
          0.978125,
          0.98,
          0.98875,
          0.98625,
          0.980625,
          0.98625,
          0.99125,
          0.989375,
          0.976875,
          0.986875,
          0.980625,
          0.980625,
          0.988125,
          0.9875,
          0.986875,
          0.98625,
          0.991875,
          0.99125,
          0.983125,
          0.984375,
          0.98375,
          0.979375,
          0.98875,
          0.98625,
          0.990625,
          0.991875,
          0.983125,
          0.985,
          0.985625,
          0.985,
          0.985,
          0.985625,
          0.988125,
          0.985625,
          0.9875,
          0.98375,
          0.98375,
          0.9875
         ]
        },
        {
         "mode": "lines",
         "name": "loss",
         "type": "scatter",
         "x": [
          0,
          1,
          2,
          3,
          4,
          5,
          6,
          7,
          8,
          9,
          10,
          11,
          12,
          13,
          14,
          15,
          16,
          17,
          18,
          19,
          20,
          21,
          22,
          23,
          24,
          25,
          26,
          27,
          28,
          29,
          30,
          31,
          32,
          33,
          34,
          35,
          36,
          37,
          38,
          39,
          40,
          41,
          42,
          43,
          44,
          45,
          46,
          47,
          48,
          49,
          50,
          51,
          52,
          53,
          54,
          55,
          56,
          57,
          58,
          59,
          60,
          61,
          62,
          63,
          64,
          65,
          66,
          67,
          68,
          69,
          70,
          71,
          72,
          73,
          74,
          75,
          76,
          77,
          78,
          79,
          80,
          81,
          82,
          83,
          84,
          85,
          86,
          87,
          88,
          89,
          90,
          91,
          92,
          93,
          94,
          95,
          96,
          97,
          98,
          99,
          100,
          101,
          102,
          103,
          104,
          105,
          106,
          107,
          108,
          109,
          110,
          111,
          112,
          113,
          114,
          115,
          116,
          117,
          118,
          119,
          120,
          121,
          122,
          123,
          124,
          125,
          126,
          127,
          128,
          129,
          130,
          131,
          132,
          133,
          134,
          135,
          136,
          137,
          138,
          139,
          140,
          141,
          142,
          143,
          144,
          145,
          146,
          147,
          148,
          149,
          150,
          151,
          152,
          153,
          154,
          155,
          156,
          157,
          158,
          159,
          160,
          161,
          162,
          163,
          164,
          165,
          166,
          167,
          168,
          169,
          170,
          171,
          172,
          173,
          174,
          175,
          176,
          177,
          178,
          179,
          180,
          181,
          182,
          183,
          184,
          185,
          186,
          187,
          188,
          189,
          190,
          191,
          192,
          193,
          194,
          195,
          196,
          197,
          198
         ],
         "y": [
          1,
          0.7924122336936478,
          0.5746032168396457,
          0.4509738541707061,
          0.3547094519760913,
          0.3058442320126755,
          0.2504648320086601,
          0.2287659334140266,
          0.20784720382971245,
          0.1954635441891908,
          0.17606197320070374,
          0.17712573064674803,
          0.15789538189175936,
          0.1536487920349638,
          0.15021530581346323,
          0.14067711354346035,
          0.1388352755823653,
          0.13965473064977332,
          0.125915637579961,
          0.12644480039967096,
          0.13007830086763142,
          0.11622250130707144,
          0.11512137440659231,
          0.11179247624650336,
          0.10585107677659268,
          0.10748847425639943,
          0.09978779684823202,
          0.09958993985408655,
          0.0964969814969289,
          0.09205133999231571,
          0.09639105267312267,
          0.09900431031044907,
          0.08257964438030788,
          0.09467669886971668,
          0.08943724867580806,
          0.0838262525952347,
          0.0834438430953212,
          0.0857885529007085,
          0.0760198010666143,
          0.08198229176034814,
          0.07575592011916421,
          0.0769198222025302,
          0.07294210677364163,
          0.07778625552153456,
          0.06833879676819882,
          0.0706892692734938,
          0.07000936952264183,
          0.06923748143903546,
          0.06718009873374274,
          0.06354223219336902,
          0.06550785432362181,
          0.06581574837506474,
          0.0682531770568189,
          0.07439887949392614,
          0.061031250661786565,
          0.06351479383474821,
          0.06189028830104365,
          0.06494479857760924,
          0.059939672396053786,
          0.04865682165467406,
          0.06623326264421446,
          0.06079223827836758,
          0.056473363279777096,
          0.052317485453071806,
          0.06301193488240207,
          0.0693049922634572,
          0.04693869480837549,
          0.05723871514670966,
          0.05130443632836275,
          0.048964866112154844,
          0.057877137209635554,
          0.057615684245368046,
          0.039753862839594485,
          0.054986487865344,
          0.061008835864830246,
          0.04818524286088717,
          0.052150569129571556,
          0.047126560544291776,
          0.05639206666765677,
          0.04348337392749322,
          0.052605839611539196,
          0.04994398793203834,
          0.04667804973939704,
          0.047581916972566765,
          0.04758385076448209,
          0.05136423776901538,
          0.04619896783297869,
          0.0484785604186039,
          0.04325987485255051,
          0.050075661972210604,
          0.049732607286431675,
          0.04497603782572619,
          0.041988410965538694,
          0.05276950716462169,
          0.03387147625296652,
          0.04807081824459961,
          0.04547630979422116,
          0.04833717444570133,
          0.03748526708399443,
          0.03502947382501772,
          0.039974336604518546,
          0.043634953132447245,
          0.04108375732365674,
          0.04220605279963564,
          0.03222436469177179,
          0.040427140427465307,
          0.03974700432426813,
          0.04052843674530548,
          0.04413618340226915,
          0.048714938547702674,
          0.02930826449721685,
          0.034546981998855336,
          0.04124869258477262,
          0.040347266226731585,
          0.03825619256895851,
          0.042864311270297425,
          0.03435167116406504,
          0.04098590745274122,
          0.03931994571768742,
          0.03989787017487117,
          0.0353221252988525,
          0.03839174708490753,
          0.04145791597806485,
          0.0326650629773286,
          0.038035602776519524,
          0.040107802625199016,
          0.030883963271636262,
          0.029205464118998093,
          0.033122993497508656,
          0.030274172072345614,
          0.033863874302081605,
          0.0359043664093228,
          0.03483524376504232,
          0.03932246824180808,
          0.0296942794447236,
          0.03495023992427374,
          0.028350412239744268,
          0.029298801808777853,
          0.02378867231450793,
          0.03393543104892174,
          0.03338018352493172,
          0.031599565118560526,
          0.025719819232225823,
          0.029798375463525626,
          0.02425415106913081,
          0.028521941731291415,
          0.03141041448534938,
          0.0341440571153779,
          0.02931129840186623,
          0.035416498641635805,
          0.03525460373114235,
          0.029227010858250198,
          0.036791753438058565,
          0.02810436729972654,
          0.02700054813116974,
          0.03139062319942486,
          0.03016671770158397,
          0.024761743514354135,
          0.02786735531661107,
          0.028865806461017093,
          0.024233796834893157,
          0.031833467994007686,
          0.03021348968204267,
          0.022791652176119247,
          0.02561630120234071,
          0.03176877835712465,
          0.02721066751471607,
          0.018590295860880842,
          0.02117657495233074,
          0.03258317978166063,
          0.025599253752278266,
          0.031150201296565365,
          0.028641909884402905,
          0.02561737123386719,
          0.02502776667351487,
          0.024925007119792102,
          0.02682278323502451,
          0.019161559479245135,
          0.017925034914827897,
          0.02522002211707895,
          0.0228237488245983,
          0.027312825444287404,
          0.028859098351728594,
          0.023494338441706814,
          0.027755309264379368,
          0.020106717467122445,
          0.02060853861780736,
          0.02552088146326545,
          0.024481685323203495,
          0.022335936922011083,
          0.02625065370761369,
          0.02510259582600727,
          0.02376218795989869,
          0.023464274423396537,
          0.024247952191713346,
          0.026912214665135308,
          0.02637153074292538,
          0.024382170242583108,
          0.02402358076175106
         ]
        }
       ],
       "layout": {
        "template": {
         "data": {
          "bar": [
           {
            "error_x": {
             "color": "#2a3f5f"
            },
            "error_y": {
             "color": "#2a3f5f"
            },
            "marker": {
             "line": {
              "color": "#E5ECF6",
              "width": 0.5
             },
             "pattern": {
              "fillmode": "overlay",
              "size": 10,
              "solidity": 0.2
             }
            },
            "type": "bar"
           }
          ],
          "barpolar": [
           {
            "marker": {
             "line": {
              "color": "#E5ECF6",
              "width": 0.5
             },
             "pattern": {
              "fillmode": "overlay",
              "size": 10,
              "solidity": 0.2
             }
            },
            "type": "barpolar"
           }
          ],
          "carpet": [
           {
            "aaxis": {
             "endlinecolor": "#2a3f5f",
             "gridcolor": "white",
             "linecolor": "white",
             "minorgridcolor": "white",
             "startlinecolor": "#2a3f5f"
            },
            "baxis": {
             "endlinecolor": "#2a3f5f",
             "gridcolor": "white",
             "linecolor": "white",
             "minorgridcolor": "white",
             "startlinecolor": "#2a3f5f"
            },
            "type": "carpet"
           }
          ],
          "choropleth": [
           {
            "colorbar": {
             "outlinewidth": 0,
             "ticks": ""
            },
            "type": "choropleth"
           }
          ],
          "contour": [
           {
            "colorbar": {
             "outlinewidth": 0,
             "ticks": ""
            },
            "colorscale": [
             [
              0,
              "#0d0887"
             ],
             [
              0.1111111111111111,
              "#46039f"
             ],
             [
              0.2222222222222222,
              "#7201a8"
             ],
             [
              0.3333333333333333,
              "#9c179e"
             ],
             [
              0.4444444444444444,
              "#bd3786"
             ],
             [
              0.5555555555555556,
              "#d8576b"
             ],
             [
              0.6666666666666666,
              "#ed7953"
             ],
             [
              0.7777777777777778,
              "#fb9f3a"
             ],
             [
              0.8888888888888888,
              "#fdca26"
             ],
             [
              1,
              "#f0f921"
             ]
            ],
            "type": "contour"
           }
          ],
          "contourcarpet": [
           {
            "colorbar": {
             "outlinewidth": 0,
             "ticks": ""
            },
            "type": "contourcarpet"
           }
          ],
          "heatmap": [
           {
            "colorbar": {
             "outlinewidth": 0,
             "ticks": ""
            },
            "colorscale": [
             [
              0,
              "#0d0887"
             ],
             [
              0.1111111111111111,
              "#46039f"
             ],
             [
              0.2222222222222222,
              "#7201a8"
             ],
             [
              0.3333333333333333,
              "#9c179e"
             ],
             [
              0.4444444444444444,
              "#bd3786"
             ],
             [
              0.5555555555555556,
              "#d8576b"
             ],
             [
              0.6666666666666666,
              "#ed7953"
             ],
             [
              0.7777777777777778,
              "#fb9f3a"
             ],
             [
              0.8888888888888888,
              "#fdca26"
             ],
             [
              1,
              "#f0f921"
             ]
            ],
            "type": "heatmap"
           }
          ],
          "heatmapgl": [
           {
            "colorbar": {
             "outlinewidth": 0,
             "ticks": ""
            },
            "colorscale": [
             [
              0,
              "#0d0887"
             ],
             [
              0.1111111111111111,
              "#46039f"
             ],
             [
              0.2222222222222222,
              "#7201a8"
             ],
             [
              0.3333333333333333,
              "#9c179e"
             ],
             [
              0.4444444444444444,
              "#bd3786"
             ],
             [
              0.5555555555555556,
              "#d8576b"
             ],
             [
              0.6666666666666666,
              "#ed7953"
             ],
             [
              0.7777777777777778,
              "#fb9f3a"
             ],
             [
              0.8888888888888888,
              "#fdca26"
             ],
             [
              1,
              "#f0f921"
             ]
            ],
            "type": "heatmapgl"
           }
          ],
          "histogram": [
           {
            "marker": {
             "pattern": {
              "fillmode": "overlay",
              "size": 10,
              "solidity": 0.2
             }
            },
            "type": "histogram"
           }
          ],
          "histogram2d": [
           {
            "colorbar": {
             "outlinewidth": 0,
             "ticks": ""
            },
            "colorscale": [
             [
              0,
              "#0d0887"
             ],
             [
              0.1111111111111111,
              "#46039f"
             ],
             [
              0.2222222222222222,
              "#7201a8"
             ],
             [
              0.3333333333333333,
              "#9c179e"
             ],
             [
              0.4444444444444444,
              "#bd3786"
             ],
             [
              0.5555555555555556,
              "#d8576b"
             ],
             [
              0.6666666666666666,
              "#ed7953"
             ],
             [
              0.7777777777777778,
              "#fb9f3a"
             ],
             [
              0.8888888888888888,
              "#fdca26"
             ],
             [
              1,
              "#f0f921"
             ]
            ],
            "type": "histogram2d"
           }
          ],
          "histogram2dcontour": [
           {
            "colorbar": {
             "outlinewidth": 0,
             "ticks": ""
            },
            "colorscale": [
             [
              0,
              "#0d0887"
             ],
             [
              0.1111111111111111,
              "#46039f"
             ],
             [
              0.2222222222222222,
              "#7201a8"
             ],
             [
              0.3333333333333333,
              "#9c179e"
             ],
             [
              0.4444444444444444,
              "#bd3786"
             ],
             [
              0.5555555555555556,
              "#d8576b"
             ],
             [
              0.6666666666666666,
              "#ed7953"
             ],
             [
              0.7777777777777778,
              "#fb9f3a"
             ],
             [
              0.8888888888888888,
              "#fdca26"
             ],
             [
              1,
              "#f0f921"
             ]
            ],
            "type": "histogram2dcontour"
           }
          ],
          "mesh3d": [
           {
            "colorbar": {
             "outlinewidth": 0,
             "ticks": ""
            },
            "type": "mesh3d"
           }
          ],
          "parcoords": [
           {
            "line": {
             "colorbar": {
              "outlinewidth": 0,
              "ticks": ""
             }
            },
            "type": "parcoords"
           }
          ],
          "pie": [
           {
            "automargin": true,
            "type": "pie"
           }
          ],
          "scatter": [
           {
            "fillpattern": {
             "fillmode": "overlay",
             "size": 10,
             "solidity": 0.2
            },
            "type": "scatter"
           }
          ],
          "scatter3d": [
           {
            "line": {
             "colorbar": {
              "outlinewidth": 0,
              "ticks": ""
             }
            },
            "marker": {
             "colorbar": {
              "outlinewidth": 0,
              "ticks": ""
             }
            },
            "type": "scatter3d"
           }
          ],
          "scattercarpet": [
           {
            "marker": {
             "colorbar": {
              "outlinewidth": 0,
              "ticks": ""
             }
            },
            "type": "scattercarpet"
           }
          ],
          "scattergeo": [
           {
            "marker": {
             "colorbar": {
              "outlinewidth": 0,
              "ticks": ""
             }
            },
            "type": "scattergeo"
           }
          ],
          "scattergl": [
           {
            "marker": {
             "colorbar": {
              "outlinewidth": 0,
              "ticks": ""
             }
            },
            "type": "scattergl"
           }
          ],
          "scattermapbox": [
           {
            "marker": {
             "colorbar": {
              "outlinewidth": 0,
              "ticks": ""
             }
            },
            "type": "scattermapbox"
           }
          ],
          "scatterpolar": [
           {
            "marker": {
             "colorbar": {
              "outlinewidth": 0,
              "ticks": ""
             }
            },
            "type": "scatterpolar"
           }
          ],
          "scatterpolargl": [
           {
            "marker": {
             "colorbar": {
              "outlinewidth": 0,
              "ticks": ""
             }
            },
            "type": "scatterpolargl"
           }
          ],
          "scatterternary": [
           {
            "marker": {
             "colorbar": {
              "outlinewidth": 0,
              "ticks": ""
             }
            },
            "type": "scatterternary"
           }
          ],
          "surface": [
           {
            "colorbar": {
             "outlinewidth": 0,
             "ticks": ""
            },
            "colorscale": [
             [
              0,
              "#0d0887"
             ],
             [
              0.1111111111111111,
              "#46039f"
             ],
             [
              0.2222222222222222,
              "#7201a8"
             ],
             [
              0.3333333333333333,
              "#9c179e"
             ],
             [
              0.4444444444444444,
              "#bd3786"
             ],
             [
              0.5555555555555556,
              "#d8576b"
             ],
             [
              0.6666666666666666,
              "#ed7953"
             ],
             [
              0.7777777777777778,
              "#fb9f3a"
             ],
             [
              0.8888888888888888,
              "#fdca26"
             ],
             [
              1,
              "#f0f921"
             ]
            ],
            "type": "surface"
           }
          ],
          "table": [
           {
            "cells": {
             "fill": {
              "color": "#EBF0F8"
             },
             "line": {
              "color": "white"
             }
            },
            "header": {
             "fill": {
              "color": "#C8D4E3"
             },
             "line": {
              "color": "white"
             }
            },
            "type": "table"
           }
          ]
         },
         "layout": {
          "annotationdefaults": {
           "arrowcolor": "#2a3f5f",
           "arrowhead": 0,
           "arrowwidth": 1
          },
          "autotypenumbers": "strict",
          "coloraxis": {
           "colorbar": {
            "outlinewidth": 0,
            "ticks": ""
           }
          },
          "colorscale": {
           "diverging": [
            [
             0,
             "#8e0152"
            ],
            [
             0.1,
             "#c51b7d"
            ],
            [
             0.2,
             "#de77ae"
            ],
            [
             0.3,
             "#f1b6da"
            ],
            [
             0.4,
             "#fde0ef"
            ],
            [
             0.5,
             "#f7f7f7"
            ],
            [
             0.6,
             "#e6f5d0"
            ],
            [
             0.7,
             "#b8e186"
            ],
            [
             0.8,
             "#7fbc41"
            ],
            [
             0.9,
             "#4d9221"
            ],
            [
             1,
             "#276419"
            ]
           ],
           "sequential": [
            [
             0,
             "#0d0887"
            ],
            [
             0.1111111111111111,
             "#46039f"
            ],
            [
             0.2222222222222222,
             "#7201a8"
            ],
            [
             0.3333333333333333,
             "#9c179e"
            ],
            [
             0.4444444444444444,
             "#bd3786"
            ],
            [
             0.5555555555555556,
             "#d8576b"
            ],
            [
             0.6666666666666666,
             "#ed7953"
            ],
            [
             0.7777777777777778,
             "#fb9f3a"
            ],
            [
             0.8888888888888888,
             "#fdca26"
            ],
            [
             1,
             "#f0f921"
            ]
           ],
           "sequentialminus": [
            [
             0,
             "#0d0887"
            ],
            [
             0.1111111111111111,
             "#46039f"
            ],
            [
             0.2222222222222222,
             "#7201a8"
            ],
            [
             0.3333333333333333,
             "#9c179e"
            ],
            [
             0.4444444444444444,
             "#bd3786"
            ],
            [
             0.5555555555555556,
             "#d8576b"
            ],
            [
             0.6666666666666666,
             "#ed7953"
            ],
            [
             0.7777777777777778,
             "#fb9f3a"
            ],
            [
             0.8888888888888888,
             "#fdca26"
            ],
            [
             1,
             "#f0f921"
            ]
           ]
          },
          "colorway": [
           "#636efa",
           "#EF553B",
           "#00cc96",
           "#ab63fa",
           "#FFA15A",
           "#19d3f3",
           "#FF6692",
           "#B6E880",
           "#FF97FF",
           "#FECB52"
          ],
          "font": {
           "color": "#2a3f5f"
          },
          "geo": {
           "bgcolor": "white",
           "lakecolor": "white",
           "landcolor": "#E5ECF6",
           "showlakes": true,
           "showland": true,
           "subunitcolor": "white"
          },
          "hoverlabel": {
           "align": "left"
          },
          "hovermode": "closest",
          "mapbox": {
           "style": "light"
          },
          "paper_bgcolor": "white",
          "plot_bgcolor": "#E5ECF6",
          "polar": {
           "angularaxis": {
            "gridcolor": "white",
            "linecolor": "white",
            "ticks": ""
           },
           "bgcolor": "#E5ECF6",
           "radialaxis": {
            "gridcolor": "white",
            "linecolor": "white",
            "ticks": ""
           }
          },
          "scene": {
           "xaxis": {
            "backgroundcolor": "#E5ECF6",
            "gridcolor": "white",
            "gridwidth": 2,
            "linecolor": "white",
            "showbackground": true,
            "ticks": "",
            "zerolinecolor": "white"
           },
           "yaxis": {
            "backgroundcolor": "#E5ECF6",
            "gridcolor": "white",
            "gridwidth": 2,
            "linecolor": "white",
            "showbackground": true,
            "ticks": "",
            "zerolinecolor": "white"
           },
           "zaxis": {
            "backgroundcolor": "#E5ECF6",
            "gridcolor": "white",
            "gridwidth": 2,
            "linecolor": "white",
            "showbackground": true,
            "ticks": "",
            "zerolinecolor": "white"
           }
          },
          "shapedefaults": {
           "line": {
            "color": "#2a3f5f"
           }
          },
          "ternary": {
           "aaxis": {
            "gridcolor": "white",
            "linecolor": "white",
            "ticks": ""
           },
           "baxis": {
            "gridcolor": "white",
            "linecolor": "white",
            "ticks": ""
           },
           "bgcolor": "#E5ECF6",
           "caxis": {
            "gridcolor": "white",
            "linecolor": "white",
            "ticks": ""
           }
          },
          "title": {
           "x": 0.05
          },
          "xaxis": {
           "automargin": true,
           "gridcolor": "white",
           "linecolor": "white",
           "ticks": "",
           "title": {
            "standoff": 15
           },
           "zerolinecolor": "white",
           "zerolinewidth": 2
          },
          "yaxis": {
           "automargin": true,
           "gridcolor": "white",
           "linecolor": "white",
           "ticks": "",
           "title": {
            "standoff": 15
           },
           "zerolinecolor": "white",
           "zerolinewidth": 2
          }
         }
        }
       }
      },
      "text/html": [
       "<div>                            <div id=\"0f565e5d-28e7-498e-9ff1-26c2804c7780\" class=\"plotly-graph-div\" style=\"height:525px; width:100%;\"></div>            <script type=\"text/javascript\">                require([\"plotly\"], function(Plotly) {                    window.PLOTLYENV=window.PLOTLYENV || {};                                    if (document.getElementById(\"0f565e5d-28e7-498e-9ff1-26c2804c7780\")) {                    Plotly.newPlot(                        \"0f565e5d-28e7-498e-9ff1-26c2804c7780\",                        [{\"mode\":\"lines\",\"name\":\"accuracy\",\"x\":[0,1,2,3,4,5,6,7,8,9,10,11,12,13,14,15,16,17,18,19,20,21,22,23,24,25,26,27,28,29,30,31,32,33,34,35,36,37,38,39,40,41,42,43,44,45,46,47,48,49,50,51,52,53,54,55,56,57,58,59,60,61,62,63,64,65,66,67,68,69,70,71,72,73,74,75,76,77,78,79,80,81,82,83,84,85,86,87,88,89,90,91,92,93,94,95,96,97,98,99,100,101,102,103,104,105,106,107,108,109,110,111,112,113,114,115,116,117,118,119,120,121,122,123,124,125,126,127,128,129,130,131,132,133,134,135,136,137,138,139,140,141,142,143,144,145,146,147,148,149,150,151,152,153,154,155,156,157,158,159,160,161,162,163,164,165,166,167,168,169,170,171,172,173,174,175,176,177,178,179,180,181,182,183,184,185,186,187,188,189,190,191,192,193,194,195,196,197,198],\"y\":[0.20375,0.5637500381469727,0.769375,0.8225,0.841875,0.863125,0.88375,0.89875,0.8975,0.90375,0.91,0.91,0.91625,0.919375,0.92375,0.925,0.921875,0.91375,0.92625,0.93,0.928125,0.939375,0.935625,0.936875,0.944375,0.935625,0.94125,0.944375,0.94125,0.949375,0.945,0.94375,0.9525,0.94125,0.946875,0.9525,0.95625,0.955,0.95625,0.95125,0.953125,0.95375,0.9625,0.950625,0.96,0.956875,0.953125,0.958125,0.959375,0.965,0.95875,0.96125,0.95625,0.955,0.968125,0.960625,0.95625,0.963125,0.96875,0.97125,0.959375,0.958125,0.9675,0.970625,0.95625,0.96125,0.9725,0.97125,0.969375,0.970625,0.96625,0.96125,0.97625,0.965625,0.966875,0.971875,0.970625,0.97125,0.965625,0.975625,0.965625,0.96875,0.970625,0.974375,0.97,0.971875,0.97125,0.969375,0.974375,0.968125,0.97125,0.97125,0.9775,0.966875,0.983125,0.973125,0.970625,0.97,0.98,0.98125,0.976875,0.971875,0.97625,0.975,0.981875,0.978125,0.975625,0.976875,0.973125,0.975625,0.986875,0.980625,0.975625,0.97625,0.97875,0.9725,0.984375,0.973125,0.978125,0.975,0.978125,0.976875,0.971875,0.980625,0.9775,0.975625,0.98125,0.985625,0.98125,0.981875,0.98,0.979375,0.978125,0.971875,0.981875,0.979375,0.984375,0.981875,0.98875,0.976875,0.98125,0.9825,0.983125,0.9825,0.9875,0.985,0.98375,0.979375,0.9825,0.974375,0.984375,0.984375,0.97625,0.9875,0.99,0.9775,0.985,0.989375,0.983125,0.98125,0.986875,0.978125,0.98,0.98875,0.98625,0.980625,0.98625,0.99125,0.989375,0.976875,0.986875,0.980625,0.980625,0.988125,0.9875,0.986875,0.98625,0.991875,0.99125,0.983125,0.984375,0.98375,0.979375,0.98875,0.98625,0.990625,0.991875,0.983125,0.985,0.985625,0.985,0.985,0.985625,0.988125,0.985625,0.9875,0.98375,0.98375,0.9875],\"type\":\"scatter\"},{\"mode\":\"lines\",\"name\":\"loss\",\"x\":[0,1,2,3,4,5,6,7,8,9,10,11,12,13,14,15,16,17,18,19,20,21,22,23,24,25,26,27,28,29,30,31,32,33,34,35,36,37,38,39,40,41,42,43,44,45,46,47,48,49,50,51,52,53,54,55,56,57,58,59,60,61,62,63,64,65,66,67,68,69,70,71,72,73,74,75,76,77,78,79,80,81,82,83,84,85,86,87,88,89,90,91,92,93,94,95,96,97,98,99,100,101,102,103,104,105,106,107,108,109,110,111,112,113,114,115,116,117,118,119,120,121,122,123,124,125,126,127,128,129,130,131,132,133,134,135,136,137,138,139,140,141,142,143,144,145,146,147,148,149,150,151,152,153,154,155,156,157,158,159,160,161,162,163,164,165,166,167,168,169,170,171,172,173,174,175,176,177,178,179,180,181,182,183,184,185,186,187,188,189,190,191,192,193,194,195,196,197,198],\"y\":[1.0,0.7924122336936478,0.5746032168396457,0.4509738541707061,0.3547094519760913,0.3058442320126755,0.2504648320086601,0.2287659334140266,0.20784720382971245,0.1954635441891908,0.17606197320070374,0.17712573064674803,0.15789538189175936,0.1536487920349638,0.15021530581346323,0.14067711354346035,0.1388352755823653,0.13965473064977332,0.125915637579961,0.12644480039967096,0.13007830086763142,0.11622250130707144,0.11512137440659231,0.11179247624650336,0.10585107677659268,0.10748847425639943,0.09978779684823202,0.09958993985408655,0.0964969814969289,0.09205133999231571,0.09639105267312267,0.09900431031044907,0.08257964438030788,0.09467669886971668,0.08943724867580806,0.0838262525952347,0.0834438430953212,0.0857885529007085,0.0760198010666143,0.08198229176034814,0.07575592011916421,0.0769198222025302,0.07294210677364163,0.07778625552153456,0.06833879676819882,0.0706892692734938,0.07000936952264183,0.06923748143903546,0.06718009873374274,0.06354223219336902,0.06550785432362181,0.06581574837506474,0.0682531770568189,0.07439887949392614,0.061031250661786565,0.06351479383474821,0.06189028830104365,0.06494479857760924,0.059939672396053786,0.04865682165467406,0.06623326264421446,0.06079223827836758,0.056473363279777096,0.052317485453071806,0.06301193488240207,0.0693049922634572,0.04693869480837549,0.05723871514670966,0.05130443632836275,0.048964866112154844,0.057877137209635554,0.057615684245368046,0.039753862839594485,0.054986487865344,0.061008835864830246,0.04818524286088717,0.052150569129571556,0.047126560544291776,0.05639206666765677,0.04348337392749322,0.052605839611539196,0.04994398793203834,0.04667804973939704,0.047581916972566765,0.04758385076448209,0.05136423776901538,0.04619896783297869,0.0484785604186039,0.04325987485255051,0.050075661972210604,0.049732607286431675,0.04497603782572619,0.041988410965538694,0.05276950716462169,0.03387147625296652,0.04807081824459961,0.04547630979422116,0.04833717444570133,0.03748526708399443,0.03502947382501772,0.039974336604518546,0.043634953132447245,0.04108375732365674,0.04220605279963564,0.03222436469177179,0.040427140427465307,0.03974700432426813,0.04052843674530548,0.04413618340226915,0.048714938547702674,0.02930826449721685,0.034546981998855336,0.04124869258477262,0.040347266226731585,0.03825619256895851,0.042864311270297425,0.03435167116406504,0.04098590745274122,0.03931994571768742,0.03989787017487117,0.0353221252988525,0.03839174708490753,0.04145791597806485,0.0326650629773286,0.038035602776519524,0.040107802625199016,0.030883963271636262,0.029205464118998093,0.033122993497508656,0.030274172072345614,0.033863874302081605,0.0359043664093228,0.03483524376504232,0.03932246824180808,0.0296942794447236,0.03495023992427374,0.028350412239744268,0.029298801808777853,0.02378867231450793,0.03393543104892174,0.03338018352493172,0.031599565118560526,0.025719819232225823,0.029798375463525626,0.02425415106913081,0.028521941731291415,0.03141041448534938,0.0341440571153779,0.02931129840186623,0.035416498641635805,0.03525460373114235,0.029227010858250198,0.036791753438058565,0.02810436729972654,0.02700054813116974,0.03139062319942486,0.03016671770158397,0.024761743514354135,0.02786735531661107,0.028865806461017093,0.024233796834893157,0.031833467994007686,0.03021348968204267,0.022791652176119247,0.02561630120234071,0.03176877835712465,0.02721066751471607,0.018590295860880842,0.02117657495233074,0.03258317978166063,0.025599253752278266,0.031150201296565365,0.028641909884402905,0.02561737123386719,0.02502776667351487,0.024925007119792102,0.02682278323502451,0.019161559479245135,0.017925034914827897,0.02522002211707895,0.0228237488245983,0.027312825444287404,0.028859098351728594,0.023494338441706814,0.027755309264379368,0.020106717467122445,0.02060853861780736,0.02552088146326545,0.024481685323203495,0.022335936922011083,0.02625065370761369,0.02510259582600727,0.02376218795989869,0.023464274423396537,0.024247952191713346,0.026912214665135308,0.02637153074292538,0.024382170242583108,0.02402358076175106],\"type\":\"scatter\"}],                        {\"template\":{\"data\":{\"barpolar\":[{\"marker\":{\"line\":{\"color\":\"#E5ECF6\",\"width\":0.5},\"pattern\":{\"fillmode\":\"overlay\",\"size\":10,\"solidity\":0.2}},\"type\":\"barpolar\"}],\"bar\":[{\"error_x\":{\"color\":\"#2a3f5f\"},\"error_y\":{\"color\":\"#2a3f5f\"},\"marker\":{\"line\":{\"color\":\"#E5ECF6\",\"width\":0.5},\"pattern\":{\"fillmode\":\"overlay\",\"size\":10,\"solidity\":0.2}},\"type\":\"bar\"}],\"carpet\":[{\"aaxis\":{\"endlinecolor\":\"#2a3f5f\",\"gridcolor\":\"white\",\"linecolor\":\"white\",\"minorgridcolor\":\"white\",\"startlinecolor\":\"#2a3f5f\"},\"baxis\":{\"endlinecolor\":\"#2a3f5f\",\"gridcolor\":\"white\",\"linecolor\":\"white\",\"minorgridcolor\":\"white\",\"startlinecolor\":\"#2a3f5f\"},\"type\":\"carpet\"}],\"choropleth\":[{\"colorbar\":{\"outlinewidth\":0,\"ticks\":\"\"},\"type\":\"choropleth\"}],\"contourcarpet\":[{\"colorbar\":{\"outlinewidth\":0,\"ticks\":\"\"},\"type\":\"contourcarpet\"}],\"contour\":[{\"colorbar\":{\"outlinewidth\":0,\"ticks\":\"\"},\"colorscale\":[[0.0,\"#0d0887\"],[0.1111111111111111,\"#46039f\"],[0.2222222222222222,\"#7201a8\"],[0.3333333333333333,\"#9c179e\"],[0.4444444444444444,\"#bd3786\"],[0.5555555555555556,\"#d8576b\"],[0.6666666666666666,\"#ed7953\"],[0.7777777777777778,\"#fb9f3a\"],[0.8888888888888888,\"#fdca26\"],[1.0,\"#f0f921\"]],\"type\":\"contour\"}],\"heatmapgl\":[{\"colorbar\":{\"outlinewidth\":0,\"ticks\":\"\"},\"colorscale\":[[0.0,\"#0d0887\"],[0.1111111111111111,\"#46039f\"],[0.2222222222222222,\"#7201a8\"],[0.3333333333333333,\"#9c179e\"],[0.4444444444444444,\"#bd3786\"],[0.5555555555555556,\"#d8576b\"],[0.6666666666666666,\"#ed7953\"],[0.7777777777777778,\"#fb9f3a\"],[0.8888888888888888,\"#fdca26\"],[1.0,\"#f0f921\"]],\"type\":\"heatmapgl\"}],\"heatmap\":[{\"colorbar\":{\"outlinewidth\":0,\"ticks\":\"\"},\"colorscale\":[[0.0,\"#0d0887\"],[0.1111111111111111,\"#46039f\"],[0.2222222222222222,\"#7201a8\"],[0.3333333333333333,\"#9c179e\"],[0.4444444444444444,\"#bd3786\"],[0.5555555555555556,\"#d8576b\"],[0.6666666666666666,\"#ed7953\"],[0.7777777777777778,\"#fb9f3a\"],[0.8888888888888888,\"#fdca26\"],[1.0,\"#f0f921\"]],\"type\":\"heatmap\"}],\"histogram2dcontour\":[{\"colorbar\":{\"outlinewidth\":0,\"ticks\":\"\"},\"colorscale\":[[0.0,\"#0d0887\"],[0.1111111111111111,\"#46039f\"],[0.2222222222222222,\"#7201a8\"],[0.3333333333333333,\"#9c179e\"],[0.4444444444444444,\"#bd3786\"],[0.5555555555555556,\"#d8576b\"],[0.6666666666666666,\"#ed7953\"],[0.7777777777777778,\"#fb9f3a\"],[0.8888888888888888,\"#fdca26\"],[1.0,\"#f0f921\"]],\"type\":\"histogram2dcontour\"}],\"histogram2d\":[{\"colorbar\":{\"outlinewidth\":0,\"ticks\":\"\"},\"colorscale\":[[0.0,\"#0d0887\"],[0.1111111111111111,\"#46039f\"],[0.2222222222222222,\"#7201a8\"],[0.3333333333333333,\"#9c179e\"],[0.4444444444444444,\"#bd3786\"],[0.5555555555555556,\"#d8576b\"],[0.6666666666666666,\"#ed7953\"],[0.7777777777777778,\"#fb9f3a\"],[0.8888888888888888,\"#fdca26\"],[1.0,\"#f0f921\"]],\"type\":\"histogram2d\"}],\"histogram\":[{\"marker\":{\"pattern\":{\"fillmode\":\"overlay\",\"size\":10,\"solidity\":0.2}},\"type\":\"histogram\"}],\"mesh3d\":[{\"colorbar\":{\"outlinewidth\":0,\"ticks\":\"\"},\"type\":\"mesh3d\"}],\"parcoords\":[{\"line\":{\"colorbar\":{\"outlinewidth\":0,\"ticks\":\"\"}},\"type\":\"parcoords\"}],\"pie\":[{\"automargin\":true,\"type\":\"pie\"}],\"scatter3d\":[{\"line\":{\"colorbar\":{\"outlinewidth\":0,\"ticks\":\"\"}},\"marker\":{\"colorbar\":{\"outlinewidth\":0,\"ticks\":\"\"}},\"type\":\"scatter3d\"}],\"scattercarpet\":[{\"marker\":{\"colorbar\":{\"outlinewidth\":0,\"ticks\":\"\"}},\"type\":\"scattercarpet\"}],\"scattergeo\":[{\"marker\":{\"colorbar\":{\"outlinewidth\":0,\"ticks\":\"\"}},\"type\":\"scattergeo\"}],\"scattergl\":[{\"marker\":{\"colorbar\":{\"outlinewidth\":0,\"ticks\":\"\"}},\"type\":\"scattergl\"}],\"scattermapbox\":[{\"marker\":{\"colorbar\":{\"outlinewidth\":0,\"ticks\":\"\"}},\"type\":\"scattermapbox\"}],\"scatterpolargl\":[{\"marker\":{\"colorbar\":{\"outlinewidth\":0,\"ticks\":\"\"}},\"type\":\"scatterpolargl\"}],\"scatterpolar\":[{\"marker\":{\"colorbar\":{\"outlinewidth\":0,\"ticks\":\"\"}},\"type\":\"scatterpolar\"}],\"scatter\":[{\"fillpattern\":{\"fillmode\":\"overlay\",\"size\":10,\"solidity\":0.2},\"type\":\"scatter\"}],\"scatterternary\":[{\"marker\":{\"colorbar\":{\"outlinewidth\":0,\"ticks\":\"\"}},\"type\":\"scatterternary\"}],\"surface\":[{\"colorbar\":{\"outlinewidth\":0,\"ticks\":\"\"},\"colorscale\":[[0.0,\"#0d0887\"],[0.1111111111111111,\"#46039f\"],[0.2222222222222222,\"#7201a8\"],[0.3333333333333333,\"#9c179e\"],[0.4444444444444444,\"#bd3786\"],[0.5555555555555556,\"#d8576b\"],[0.6666666666666666,\"#ed7953\"],[0.7777777777777778,\"#fb9f3a\"],[0.8888888888888888,\"#fdca26\"],[1.0,\"#f0f921\"]],\"type\":\"surface\"}],\"table\":[{\"cells\":{\"fill\":{\"color\":\"#EBF0F8\"},\"line\":{\"color\":\"white\"}},\"header\":{\"fill\":{\"color\":\"#C8D4E3\"},\"line\":{\"color\":\"white\"}},\"type\":\"table\"}]},\"layout\":{\"annotationdefaults\":{\"arrowcolor\":\"#2a3f5f\",\"arrowhead\":0,\"arrowwidth\":1},\"autotypenumbers\":\"strict\",\"coloraxis\":{\"colorbar\":{\"outlinewidth\":0,\"ticks\":\"\"}},\"colorscale\":{\"diverging\":[[0,\"#8e0152\"],[0.1,\"#c51b7d\"],[0.2,\"#de77ae\"],[0.3,\"#f1b6da\"],[0.4,\"#fde0ef\"],[0.5,\"#f7f7f7\"],[0.6,\"#e6f5d0\"],[0.7,\"#b8e186\"],[0.8,\"#7fbc41\"],[0.9,\"#4d9221\"],[1,\"#276419\"]],\"sequential\":[[0.0,\"#0d0887\"],[0.1111111111111111,\"#46039f\"],[0.2222222222222222,\"#7201a8\"],[0.3333333333333333,\"#9c179e\"],[0.4444444444444444,\"#bd3786\"],[0.5555555555555556,\"#d8576b\"],[0.6666666666666666,\"#ed7953\"],[0.7777777777777778,\"#fb9f3a\"],[0.8888888888888888,\"#fdca26\"],[1.0,\"#f0f921\"]],\"sequentialminus\":[[0.0,\"#0d0887\"],[0.1111111111111111,\"#46039f\"],[0.2222222222222222,\"#7201a8\"],[0.3333333333333333,\"#9c179e\"],[0.4444444444444444,\"#bd3786\"],[0.5555555555555556,\"#d8576b\"],[0.6666666666666666,\"#ed7953\"],[0.7777777777777778,\"#fb9f3a\"],[0.8888888888888888,\"#fdca26\"],[1.0,\"#f0f921\"]]},\"colorway\":[\"#636efa\",\"#EF553B\",\"#00cc96\",\"#ab63fa\",\"#FFA15A\",\"#19d3f3\",\"#FF6692\",\"#B6E880\",\"#FF97FF\",\"#FECB52\"],\"font\":{\"color\":\"#2a3f5f\"},\"geo\":{\"bgcolor\":\"white\",\"lakecolor\":\"white\",\"landcolor\":\"#E5ECF6\",\"showlakes\":true,\"showland\":true,\"subunitcolor\":\"white\"},\"hoverlabel\":{\"align\":\"left\"},\"hovermode\":\"closest\",\"mapbox\":{\"style\":\"light\"},\"paper_bgcolor\":\"white\",\"plot_bgcolor\":\"#E5ECF6\",\"polar\":{\"angularaxis\":{\"gridcolor\":\"white\",\"linecolor\":\"white\",\"ticks\":\"\"},\"bgcolor\":\"#E5ECF6\",\"radialaxis\":{\"gridcolor\":\"white\",\"linecolor\":\"white\",\"ticks\":\"\"}},\"scene\":{\"xaxis\":{\"backgroundcolor\":\"#E5ECF6\",\"gridcolor\":\"white\",\"gridwidth\":2,\"linecolor\":\"white\",\"showbackground\":true,\"ticks\":\"\",\"zerolinecolor\":\"white\"},\"yaxis\":{\"backgroundcolor\":\"#E5ECF6\",\"gridcolor\":\"white\",\"gridwidth\":2,\"linecolor\":\"white\",\"showbackground\":true,\"ticks\":\"\",\"zerolinecolor\":\"white\"},\"zaxis\":{\"backgroundcolor\":\"#E5ECF6\",\"gridcolor\":\"white\",\"gridwidth\":2,\"linecolor\":\"white\",\"showbackground\":true,\"ticks\":\"\",\"zerolinecolor\":\"white\"}},\"shapedefaults\":{\"line\":{\"color\":\"#2a3f5f\"}},\"ternary\":{\"aaxis\":{\"gridcolor\":\"white\",\"linecolor\":\"white\",\"ticks\":\"\"},\"baxis\":{\"gridcolor\":\"white\",\"linecolor\":\"white\",\"ticks\":\"\"},\"bgcolor\":\"#E5ECF6\",\"caxis\":{\"gridcolor\":\"white\",\"linecolor\":\"white\",\"ticks\":\"\"}},\"title\":{\"x\":0.05},\"xaxis\":{\"automargin\":true,\"gridcolor\":\"white\",\"linecolor\":\"white\",\"ticks\":\"\",\"title\":{\"standoff\":15},\"zerolinecolor\":\"white\",\"zerolinewidth\":2},\"yaxis\":{\"automargin\":true,\"gridcolor\":\"white\",\"linecolor\":\"white\",\"ticks\":\"\",\"title\":{\"standoff\":15},\"zerolinecolor\":\"white\",\"zerolinewidth\":2}}}},                        {\"responsive\": true}                    ).then(function(){\n",
       "                            \n",
       "var gd = document.getElementById('0f565e5d-28e7-498e-9ff1-26c2804c7780');\n",
       "var x = new MutationObserver(function (mutations, observer) {{\n",
       "        var display = window.getComputedStyle(gd).display;\n",
       "        if (!display || display === 'none') {{\n",
       "            console.log([gd, 'removed!']);\n",
       "            Plotly.purge(gd);\n",
       "            observer.disconnect();\n",
       "        }}\n",
       "}});\n",
       "\n",
       "// Listen for the removal of the full notebook cells\n",
       "var notebookContainer = gd.closest('#notebook-container');\n",
       "if (notebookContainer) {{\n",
       "    x.observe(notebookContainer, {childList: true});\n",
       "}}\n",
       "\n",
       "// Listen for the clearing of the current output cell\n",
       "var outputEl = gd.closest('.output');\n",
       "if (outputEl) {{\n",
       "    x.observe(outputEl, {childList: true});\n",
       "}}\n",
       "\n",
       "                        })                };                });            </script>        </div>"
      ]
     },
     "metadata": {},
     "output_type": "display_data"
    }
   ],
   "source": [
    "# Now train the model\n",
    "train_using_raw_data()\n",
    "# train_using_set_img_loader()"
   ]
  },
  {
   "cell_type": "code",
   "execution_count": 67,
   "metadata": {},
   "outputs": [
    {
     "name": "stdout",
     "output_type": "stream",
     "text": [
      "8.0\n"
     ]
    },
    {
     "data": {
      "application/vnd.plotly.v1+json": {
       "config": {
        "plotlyServerURL": "https://plot.ly"
       },
       "data": [
        {
         "coloraxis": "coloraxis",
         "hovertemplate": "x: %{x}<br>y: %{y}<br>color: %{z}<extra></extra>",
         "name": "0",
         "type": "heatmap",
         "xaxis": "x",
         "yaxis": "y",
         "z": [
          [
           -0.5,
           -0.5,
           -0.5,
           -0.5,
           -0.5,
           -0.5,
           -0.5,
           -0.5,
           -0.5,
           -0.5,
           -0.5,
           -0.5,
           -0.5,
           -0.5,
           -0.5,
           -0.5,
           -0.5,
           -0.5,
           -0.5,
           -0.5,
           -0.5,
           -0.5,
           -0.5,
           -0.5,
           -0.5,
           -0.5,
           -0.5,
           -0.5
          ],
          [
           -0.5,
           -0.5,
           -0.5,
           -0.5,
           -0.5,
           -0.5,
           -0.5,
           -0.5,
           -0.5,
           -0.5,
           -0.5,
           -0.5,
           -0.5,
           -0.5,
           -0.5,
           -0.5,
           -0.5,
           -0.5,
           -0.5,
           -0.5,
           -0.5,
           -0.5,
           -0.5,
           -0.5,
           -0.5,
           -0.5,
           -0.5,
           -0.5
          ],
          [
           -0.5,
           -0.5,
           -0.5,
           -0.5,
           -0.5,
           -0.5,
           -0.5,
           -0.5,
           -0.5,
           -0.5,
           -0.5,
           -0.5,
           -0.5,
           -0.5,
           -0.5,
           -0.5,
           -0.5,
           -0.5,
           -0.5,
           -0.5,
           -0.5,
           -0.5,
           -0.5,
           -0.5,
           -0.5,
           -0.5,
           -0.5,
           -0.5
          ],
          [
           -0.5,
           -0.5,
           -0.5,
           -0.5,
           -0.5,
           -0.5,
           -0.5,
           -0.5,
           -0.5,
           -0.5,
           -0.5,
           -0.5,
           -0.5,
           -0.5,
           -0.5,
           -0.5,
           -0.5,
           -0.5,
           -0.5,
           -0.5,
           -0.5,
           -0.5,
           -0.5,
           -0.5,
           -0.5,
           -0.5,
           -0.5,
           -0.5
          ],
          [
           -0.5,
           -0.5,
           -0.5,
           -0.5,
           -0.5,
           -0.5,
           -0.5,
           -0.5,
           -0.5,
           -0.5,
           -0.5,
           -0.5,
           -0.5,
           -0.5,
           -0.5,
           -0.5,
           -0.5,
           -0.5,
           -0.5,
           -0.5,
           -0.5,
           -0.5,
           -0.5,
           -0.5,
           -0.5,
           -0.5,
           -0.5,
           -0.5
          ],
          [
           -0.5,
           -0.5,
           -0.5,
           -0.5,
           -0.5,
           -0.5,
           -0.5,
           -0.5,
           -0.5,
           -0.5,
           -0.5,
           -0.5,
           -0.5,
           -0.5,
           -0.5,
           -0.5,
           -0.5,
           -0.5,
           -0.5,
           -0.5,
           -0.5,
           -0.5,
           -0.5,
           -0.5,
           -0.5,
           -0.5,
           -0.5,
           -0.5
          ],
          [
           -0.5,
           -0.5,
           -0.5,
           -0.5,
           -0.5,
           -0.5,
           -0.5,
           -0.5,
           -0.5,
           -0.5,
           -0.5,
           -0.5,
           -0.5,
           -0.5,
           -0.44901960784313727,
           -0.28823529411764703,
           0.033333333333333326,
           0.033333333333333326,
           0.05294117647058827,
           0.5,
           0.49607843137254903,
           0.49607843137254903,
           0.34705882352941175,
           -0.14705882352941174,
           -0.49215686274509807,
           -0.5,
           -0.5,
           -0.5
          ],
          [
           -0.5,
           -0.5,
           -0.5,
           -0.5,
           -0.5,
           -0.5,
           -0.5,
           -0.5,
           -0.5,
           -0.5,
           -0.5,
           -0.5,
           -0.4215686274509804,
           -0.28431372549019607,
           0.3784313725490196,
           0.49215686274509807,
           0.49215686274509807,
           0.3666666666666667,
           0.3549019607843137,
           0.08039215686274515,
           -0.10784313725490197,
           -0.10784313725490197,
           0.303921568627451,
           0.49215686274509807,
           -0.43333333333333335,
           -0.5,
           -0.5,
           -0.5
          ],
          [
           -0.5,
           -0.5,
           -0.5,
           -0.5,
           -0.5,
           -0.5,
           -0.5,
           -0.5,
           -0.5,
           -0.5,
           -0.1156862745098039,
           0.1705882352941176,
           0.3509803921568627,
           0.49215686274509807,
           0.44509803921568625,
           0.14313725490196083,
           -0.17843137254901958,
           -0.46862745098039216,
           -0.5,
           -0.5,
           -0.5,
           -0.5,
           -0.07647058823529412,
           0.49215686274509807,
           -0.43333333333333335,
           -0.5,
           -0.5,
           -0.5
          ],
          [
           -0.5,
           -0.5,
           -0.5,
           -0.5,
           -0.5,
           -0.5,
           -0.5,
           -0.307843137254902,
           0.12352941176470589,
           0.24117647058823533,
           0.4647058823529412,
           0.49215686274509807,
           0.33529411764705885,
           -0.07647058823529412,
           -0.303921568627451,
           -0.5,
           -0.5,
           -0.5,
           -0.5,
           -0.5,
           -0.5,
           0.03725490196078429,
           0.4411764705882353,
           0.06862745098039214,
           -0.4803921568627451,
           -0.5,
           -0.5,
           -0.5
          ],
          [
           -0.5,
           -0.5,
           -0.5,
           -0.5,
           -0.5,
           -0.31176470588235294,
           0.13137254901960782,
           0.43333333333333335,
           0.49215686274509807,
           0.49215686274509807,
           0.49215686274509807,
           0.2568627450980392,
           -0.4176470588235294,
           -0.5,
           -0.5,
           -0.5,
           -0.5,
           -0.5,
           -0.5,
           -0.5,
           -0.1823529411764706,
           0.44509803921568625,
           0.22549019607843135,
           -0.4725490196078431,
           -0.5,
           -0.5,
           -0.5,
           -0.5
          ],
          [
           -0.5,
           -0.5,
           -0.5,
           -0.5,
           -0.5,
           -0.4372549019607843,
           -0.3862745098039216,
           -0.3862745098039216,
           -0.03725490196078429,
           0.07647058823529407,
           0.24901960784313726,
           0.49215686274509807,
           0.38235294117647056,
           0.08823529411764708,
           -0.17843137254901958,
           -0.5,
           -0.5,
           -0.5,
           -0.5,
           -0.19803921568627453,
           0.4529411764705882,
           0.0725490196078431,
           -0.4215686274509804,
           -0.5,
           -0.5,
           -0.5,
           -0.5,
           -0.5
          ],
          [
           -0.5,
           -0.5,
           -0.5,
           -0.5,
           -0.5,
           -0.5,
           -0.5,
           -0.5,
           -0.5,
           -0.5,
           -0.4803921568627451,
           -0.4568627450980392,
           -0.1941176470588235,
           0.30000000000000004,
           0.4764705882352941,
           0.31176470588235294,
           -0.4019607843137255,
           -0.4843137254901961,
           0.0019607843137254832,
           0.4725490196078431,
           0.16666666666666663,
           -0.3588235294117647,
           -0.5,
           -0.5,
           -0.5,
           -0.5,
           -0.5,
           -0.5
          ],
          [
           -0.5,
           -0.5,
           -0.5,
           -0.5,
           -0.5,
           -0.5,
           -0.5,
           -0.5,
           -0.5,
           -0.5,
           -0.5,
           -0.5,
           -0.5,
           -0.5,
           0.13137254901960782,
           0.4725490196078431,
           0.49215686274509807,
           0.28823529411764703,
           0.4882352941176471,
           0.07647058823529407,
           -0.5,
           -0.5,
           -0.5,
           -0.5,
           -0.5,
           -0.5,
           -0.5,
           -0.5
          ],
          [
           -0.5,
           -0.5,
           -0.5,
           -0.5,
           -0.5,
           -0.5,
           -0.5,
           -0.5,
           -0.5,
           -0.5,
           -0.5,
           -0.5,
           -0.5,
           -0.5,
           -0.5,
           0.2647058823529411,
           0.49215686274509807,
           0.49215686274509807,
           0.15490196078431373,
           -0.5,
           -0.5,
           -0.5,
           -0.5,
           -0.5,
           -0.5,
           -0.5,
           -0.5,
           -0.5
          ],
          [
           -0.5,
           -0.5,
           -0.5,
           -0.5,
           -0.5,
           -0.5,
           -0.5,
           -0.5,
           -0.5,
           -0.5,
           -0.5,
           -0.5,
           -0.5,
           -0.3509803921568627,
           0.056862745098039236,
           0.4254901960784314,
           0.38627450980392153,
           0.49215686274509807,
           -0.013725490196078438,
           -0.5,
           -0.5,
           -0.5,
           -0.5,
           -0.5,
           -0.5,
           -0.5,
           -0.5,
           -0.5
          ],
          [
           -0.5,
           -0.5,
           -0.5,
           -0.5,
           -0.5,
           -0.5,
           -0.5,
           -0.5,
           -0.5,
           -0.5,
           -0.5,
           -0.5,
           -0.28431372549019607,
           0.40980392156862744,
           0.42156862745098034,
           0.0490196078431373,
           -0.3784313725490196,
           0.4254901960784314,
           0.3392156862745098,
           -0.5,
           -0.5,
           -0.5,
           -0.5,
           -0.5,
           -0.5,
           -0.5,
           -0.5,
           -0.5
          ],
          [
           -0.5,
           -0.5,
           -0.5,
           -0.5,
           -0.5,
           -0.5,
           -0.5,
           -0.5,
           -0.5,
           -0.5,
           -0.5,
           0.08431372549019611,
           0.4254901960784314,
           0.43333333333333335,
           -0.2372549019607843,
           -0.5,
           -0.5,
           0.40588235294117647,
           0.44509803921568625,
           -0.5,
           -0.5,
           -0.5,
           -0.5,
           -0.5,
           -0.5,
           -0.5,
           -0.5,
           -0.5
          ],
          [
           -0.5,
           -0.5,
           -0.5,
           -0.5,
           -0.5,
           -0.5,
           -0.5,
           -0.5,
           -0.5,
           -0.3431372549019608,
           0.3509803921568627,
           0.48039215686274506,
           0.009803921568627416,
           -0.42549019607843136,
           -0.5,
           -0.5,
           -0.5,
           0.40588235294117647,
           0.44509803921568625,
           -0.5,
           -0.5,
           -0.5,
           -0.5,
           -0.5,
           -0.5,
           -0.5,
           -0.5,
           -0.5
          ],
          [
           -0.5,
           -0.5,
           -0.5,
           -0.5,
           -0.5,
           -0.5,
           -0.5,
           -0.5,
           -0.33137254901960783,
           0.39803921568627454,
           0.4529411764705882,
           -0.22156862745098038,
           -0.5,
           -0.5,
           -0.5,
           -0.5,
           -0.5,
           0.40588235294117647,
           0.20588235294117652,
           -0.5,
           -0.5,
           -0.5,
           -0.5,
           -0.5,
           -0.5,
           -0.5,
           -0.5,
           -0.5
          ],
          [
           -0.5,
           -0.5,
           -0.5,
           -0.5,
           -0.5,
           -0.5,
           -0.5,
           -0.37450980392156863,
           0.3901960784313725,
           0.39803921568627454,
           -0.39803921568627454,
           -0.5,
           -0.5,
           -0.5,
           -0.5,
           -0.5,
           -0.22549019607843135,
           0.45686274509803926,
           -0.013725490196078438,
           -0.5,
           -0.5,
           -0.5,
           -0.5,
           -0.5,
           -0.5,
           -0.5,
           -0.5,
           -0.5
          ],
          [
           -0.5,
           -0.5,
           -0.5,
           -0.5,
           -0.5,
           -0.5,
           -0.5,
           0.009803921568627416,
           0.4411764705882353,
           -0.3509803921568627,
           -0.5,
           -0.5,
           -0.5,
           -0.5,
           -0.5,
           -0.3,
           0.4372549019607843,
           0.40980392156862744,
           -0.32352941176470584,
           -0.5,
           -0.5,
           -0.5,
           -0.5,
           -0.5,
           -0.5,
           -0.5,
           -0.5,
           -0.5
          ],
          [
           -0.5,
           -0.5,
           -0.5,
           -0.5,
           -0.5,
           -0.5,
           -0.5,
           0.1705882352941176,
           0.21372549019607845,
           -0.5,
           -0.5,
           -0.5,
           -0.5,
           -0.5,
           -0.4372549019607843,
           -0.017647058823529405,
           0.49215686274509807,
           -0.2803921568627451,
           -0.5,
           -0.5,
           -0.5,
           -0.5,
           -0.5,
           -0.5,
           -0.5,
           -0.5,
           -0.5,
           -0.5
          ],
          [
           -0.5,
           -0.5,
           -0.5,
           -0.5,
           -0.5,
           -0.5,
           -0.5,
           0.1705882352941176,
           0.303921568627451,
           -0.4372549019607843,
           -0.5,
           -0.5,
           -0.5,
           -0.292156862745098,
           0.19803921568627447,
           0.3941176470588236,
           -0.21764705882352942,
           -0.4803921568627451,
           -0.5,
           -0.5,
           -0.5,
           -0.5,
           -0.5,
           -0.5,
           -0.5,
           -0.5,
           -0.5,
           -0.5
          ],
          [
           -0.5,
           -0.5,
           -0.5,
           -0.5,
           -0.5,
           -0.5,
           -0.5,
           -0.009803921568627472,
           0.49215686274509807,
           0.38235294117647056,
           -0.04901960784313725,
           -0.103921568627451,
           0.15490196078431373,
           0.44509803921568625,
           0.21764705882352942,
           -0.296078431372549,
           -0.5,
           -0.5,
           -0.5,
           -0.5,
           -0.5,
           -0.5,
           -0.5,
           -0.5,
           -0.5,
           -0.5,
           -0.5,
           -0.5
          ],
          [
           -0.5,
           -0.5,
           -0.5,
           -0.5,
           -0.5,
           -0.5,
           -0.5,
           -0.4843137254901961,
           -0.303921568627451,
           0.19019607843137254,
           0.27647058823529413,
           0.484313725490196,
           -0.009803921568627472,
           -0.43333333333333335,
           -0.4803921568627451,
           -0.5,
           -0.5,
           -0.5,
           -0.5,
           -0.5,
           -0.5,
           -0.5,
           -0.5,
           -0.5,
           -0.5,
           -0.5,
           -0.5,
           -0.5
          ],
          [
           -0.5,
           -0.5,
           -0.5,
           -0.5,
           -0.5,
           -0.5,
           -0.5,
           -0.5,
           -0.5,
           -0.5,
           -0.5,
           -0.5,
           -0.5,
           -0.5,
           -0.5,
           -0.5,
           -0.5,
           -0.5,
           -0.5,
           -0.5,
           -0.5,
           -0.5,
           -0.5,
           -0.5,
           -0.5,
           -0.5,
           -0.5,
           -0.5
          ],
          [
           -0.5,
           -0.5,
           -0.5,
           -0.5,
           -0.5,
           -0.5,
           -0.5,
           -0.5,
           -0.5,
           -0.5,
           -0.5,
           -0.5,
           -0.5,
           -0.5,
           -0.5,
           -0.5,
           -0.5,
           -0.5,
           -0.5,
           -0.5,
           -0.5,
           -0.5,
           -0.5,
           -0.5,
           -0.5,
           -0.5,
           -0.5,
           -0.5
          ]
         ]
        }
       ],
       "layout": {
        "coloraxis": {
         "colorscale": [
          [
           0,
           "rgb(0, 0, 0)"
          ],
          [
           0.09090909090909091,
           "rgb(16, 16, 16)"
          ],
          [
           0.18181818181818182,
           "rgb(38, 38, 38)"
          ],
          [
           0.2727272727272727,
           "rgb(59, 59, 59)"
          ],
          [
           0.36363636363636365,
           "rgb(81, 80, 80)"
          ],
          [
           0.45454545454545453,
           "rgb(102, 101, 101)"
          ],
          [
           0.5454545454545454,
           "rgb(124, 123, 122)"
          ],
          [
           0.6363636363636364,
           "rgb(146, 146, 145)"
          ],
          [
           0.7272727272727273,
           "rgb(171, 171, 170)"
          ],
          [
           0.8181818181818182,
           "rgb(197, 197, 195)"
          ],
          [
           0.9090909090909091,
           "rgb(224, 224, 223)"
          ],
          [
           1,
           "rgb(254, 254, 253)"
          ]
         ]
        },
        "margin": {
         "t": 60
        },
        "template": {
         "data": {
          "bar": [
           {
            "error_x": {
             "color": "#2a3f5f"
            },
            "error_y": {
             "color": "#2a3f5f"
            },
            "marker": {
             "line": {
              "color": "#E5ECF6",
              "width": 0.5
             },
             "pattern": {
              "fillmode": "overlay",
              "size": 10,
              "solidity": 0.2
             }
            },
            "type": "bar"
           }
          ],
          "barpolar": [
           {
            "marker": {
             "line": {
              "color": "#E5ECF6",
              "width": 0.5
             },
             "pattern": {
              "fillmode": "overlay",
              "size": 10,
              "solidity": 0.2
             }
            },
            "type": "barpolar"
           }
          ],
          "carpet": [
           {
            "aaxis": {
             "endlinecolor": "#2a3f5f",
             "gridcolor": "white",
             "linecolor": "white",
             "minorgridcolor": "white",
             "startlinecolor": "#2a3f5f"
            },
            "baxis": {
             "endlinecolor": "#2a3f5f",
             "gridcolor": "white",
             "linecolor": "white",
             "minorgridcolor": "white",
             "startlinecolor": "#2a3f5f"
            },
            "type": "carpet"
           }
          ],
          "choropleth": [
           {
            "colorbar": {
             "outlinewidth": 0,
             "ticks": ""
            },
            "type": "choropleth"
           }
          ],
          "contour": [
           {
            "colorbar": {
             "outlinewidth": 0,
             "ticks": ""
            },
            "colorscale": [
             [
              0,
              "#0d0887"
             ],
             [
              0.1111111111111111,
              "#46039f"
             ],
             [
              0.2222222222222222,
              "#7201a8"
             ],
             [
              0.3333333333333333,
              "#9c179e"
             ],
             [
              0.4444444444444444,
              "#bd3786"
             ],
             [
              0.5555555555555556,
              "#d8576b"
             ],
             [
              0.6666666666666666,
              "#ed7953"
             ],
             [
              0.7777777777777778,
              "#fb9f3a"
             ],
             [
              0.8888888888888888,
              "#fdca26"
             ],
             [
              1,
              "#f0f921"
             ]
            ],
            "type": "contour"
           }
          ],
          "contourcarpet": [
           {
            "colorbar": {
             "outlinewidth": 0,
             "ticks": ""
            },
            "type": "contourcarpet"
           }
          ],
          "heatmap": [
           {
            "colorbar": {
             "outlinewidth": 0,
             "ticks": ""
            },
            "colorscale": [
             [
              0,
              "#0d0887"
             ],
             [
              0.1111111111111111,
              "#46039f"
             ],
             [
              0.2222222222222222,
              "#7201a8"
             ],
             [
              0.3333333333333333,
              "#9c179e"
             ],
             [
              0.4444444444444444,
              "#bd3786"
             ],
             [
              0.5555555555555556,
              "#d8576b"
             ],
             [
              0.6666666666666666,
              "#ed7953"
             ],
             [
              0.7777777777777778,
              "#fb9f3a"
             ],
             [
              0.8888888888888888,
              "#fdca26"
             ],
             [
              1,
              "#f0f921"
             ]
            ],
            "type": "heatmap"
           }
          ],
          "heatmapgl": [
           {
            "colorbar": {
             "outlinewidth": 0,
             "ticks": ""
            },
            "colorscale": [
             [
              0,
              "#0d0887"
             ],
             [
              0.1111111111111111,
              "#46039f"
             ],
             [
              0.2222222222222222,
              "#7201a8"
             ],
             [
              0.3333333333333333,
              "#9c179e"
             ],
             [
              0.4444444444444444,
              "#bd3786"
             ],
             [
              0.5555555555555556,
              "#d8576b"
             ],
             [
              0.6666666666666666,
              "#ed7953"
             ],
             [
              0.7777777777777778,
              "#fb9f3a"
             ],
             [
              0.8888888888888888,
              "#fdca26"
             ],
             [
              1,
              "#f0f921"
             ]
            ],
            "type": "heatmapgl"
           }
          ],
          "histogram": [
           {
            "marker": {
             "pattern": {
              "fillmode": "overlay",
              "size": 10,
              "solidity": 0.2
             }
            },
            "type": "histogram"
           }
          ],
          "histogram2d": [
           {
            "colorbar": {
             "outlinewidth": 0,
             "ticks": ""
            },
            "colorscale": [
             [
              0,
              "#0d0887"
             ],
             [
              0.1111111111111111,
              "#46039f"
             ],
             [
              0.2222222222222222,
              "#7201a8"
             ],
             [
              0.3333333333333333,
              "#9c179e"
             ],
             [
              0.4444444444444444,
              "#bd3786"
             ],
             [
              0.5555555555555556,
              "#d8576b"
             ],
             [
              0.6666666666666666,
              "#ed7953"
             ],
             [
              0.7777777777777778,
              "#fb9f3a"
             ],
             [
              0.8888888888888888,
              "#fdca26"
             ],
             [
              1,
              "#f0f921"
             ]
            ],
            "type": "histogram2d"
           }
          ],
          "histogram2dcontour": [
           {
            "colorbar": {
             "outlinewidth": 0,
             "ticks": ""
            },
            "colorscale": [
             [
              0,
              "#0d0887"
             ],
             [
              0.1111111111111111,
              "#46039f"
             ],
             [
              0.2222222222222222,
              "#7201a8"
             ],
             [
              0.3333333333333333,
              "#9c179e"
             ],
             [
              0.4444444444444444,
              "#bd3786"
             ],
             [
              0.5555555555555556,
              "#d8576b"
             ],
             [
              0.6666666666666666,
              "#ed7953"
             ],
             [
              0.7777777777777778,
              "#fb9f3a"
             ],
             [
              0.8888888888888888,
              "#fdca26"
             ],
             [
              1,
              "#f0f921"
             ]
            ],
            "type": "histogram2dcontour"
           }
          ],
          "mesh3d": [
           {
            "colorbar": {
             "outlinewidth": 0,
             "ticks": ""
            },
            "type": "mesh3d"
           }
          ],
          "parcoords": [
           {
            "line": {
             "colorbar": {
              "outlinewidth": 0,
              "ticks": ""
             }
            },
            "type": "parcoords"
           }
          ],
          "pie": [
           {
            "automargin": true,
            "type": "pie"
           }
          ],
          "scatter": [
           {
            "fillpattern": {
             "fillmode": "overlay",
             "size": 10,
             "solidity": 0.2
            },
            "type": "scatter"
           }
          ],
          "scatter3d": [
           {
            "line": {
             "colorbar": {
              "outlinewidth": 0,
              "ticks": ""
             }
            },
            "marker": {
             "colorbar": {
              "outlinewidth": 0,
              "ticks": ""
             }
            },
            "type": "scatter3d"
           }
          ],
          "scattercarpet": [
           {
            "marker": {
             "colorbar": {
              "outlinewidth": 0,
              "ticks": ""
             }
            },
            "type": "scattercarpet"
           }
          ],
          "scattergeo": [
           {
            "marker": {
             "colorbar": {
              "outlinewidth": 0,
              "ticks": ""
             }
            },
            "type": "scattergeo"
           }
          ],
          "scattergl": [
           {
            "marker": {
             "colorbar": {
              "outlinewidth": 0,
              "ticks": ""
             }
            },
            "type": "scattergl"
           }
          ],
          "scattermapbox": [
           {
            "marker": {
             "colorbar": {
              "outlinewidth": 0,
              "ticks": ""
             }
            },
            "type": "scattermapbox"
           }
          ],
          "scatterpolar": [
           {
            "marker": {
             "colorbar": {
              "outlinewidth": 0,
              "ticks": ""
             }
            },
            "type": "scatterpolar"
           }
          ],
          "scatterpolargl": [
           {
            "marker": {
             "colorbar": {
              "outlinewidth": 0,
              "ticks": ""
             }
            },
            "type": "scatterpolargl"
           }
          ],
          "scatterternary": [
           {
            "marker": {
             "colorbar": {
              "outlinewidth": 0,
              "ticks": ""
             }
            },
            "type": "scatterternary"
           }
          ],
          "surface": [
           {
            "colorbar": {
             "outlinewidth": 0,
             "ticks": ""
            },
            "colorscale": [
             [
              0,
              "#0d0887"
             ],
             [
              0.1111111111111111,
              "#46039f"
             ],
             [
              0.2222222222222222,
              "#7201a8"
             ],
             [
              0.3333333333333333,
              "#9c179e"
             ],
             [
              0.4444444444444444,
              "#bd3786"
             ],
             [
              0.5555555555555556,
              "#d8576b"
             ],
             [
              0.6666666666666666,
              "#ed7953"
             ],
             [
              0.7777777777777778,
              "#fb9f3a"
             ],
             [
              0.8888888888888888,
              "#fdca26"
             ],
             [
              1,
              "#f0f921"
             ]
            ],
            "type": "surface"
           }
          ],
          "table": [
           {
            "cells": {
             "fill": {
              "color": "#EBF0F8"
             },
             "line": {
              "color": "white"
             }
            },
            "header": {
             "fill": {
              "color": "#C8D4E3"
             },
             "line": {
              "color": "white"
             }
            },
            "type": "table"
           }
          ]
         },
         "layout": {
          "annotationdefaults": {
           "arrowcolor": "#2a3f5f",
           "arrowhead": 0,
           "arrowwidth": 1
          },
          "autotypenumbers": "strict",
          "coloraxis": {
           "colorbar": {
            "outlinewidth": 0,
            "ticks": ""
           }
          },
          "colorscale": {
           "diverging": [
            [
             0,
             "#8e0152"
            ],
            [
             0.1,
             "#c51b7d"
            ],
            [
             0.2,
             "#de77ae"
            ],
            [
             0.3,
             "#f1b6da"
            ],
            [
             0.4,
             "#fde0ef"
            ],
            [
             0.5,
             "#f7f7f7"
            ],
            [
             0.6,
             "#e6f5d0"
            ],
            [
             0.7,
             "#b8e186"
            ],
            [
             0.8,
             "#7fbc41"
            ],
            [
             0.9,
             "#4d9221"
            ],
            [
             1,
             "#276419"
            ]
           ],
           "sequential": [
            [
             0,
             "#0d0887"
            ],
            [
             0.1111111111111111,
             "#46039f"
            ],
            [
             0.2222222222222222,
             "#7201a8"
            ],
            [
             0.3333333333333333,
             "#9c179e"
            ],
            [
             0.4444444444444444,
             "#bd3786"
            ],
            [
             0.5555555555555556,
             "#d8576b"
            ],
            [
             0.6666666666666666,
             "#ed7953"
            ],
            [
             0.7777777777777778,
             "#fb9f3a"
            ],
            [
             0.8888888888888888,
             "#fdca26"
            ],
            [
             1,
             "#f0f921"
            ]
           ],
           "sequentialminus": [
            [
             0,
             "#0d0887"
            ],
            [
             0.1111111111111111,
             "#46039f"
            ],
            [
             0.2222222222222222,
             "#7201a8"
            ],
            [
             0.3333333333333333,
             "#9c179e"
            ],
            [
             0.4444444444444444,
             "#bd3786"
            ],
            [
             0.5555555555555556,
             "#d8576b"
            ],
            [
             0.6666666666666666,
             "#ed7953"
            ],
            [
             0.7777777777777778,
             "#fb9f3a"
            ],
            [
             0.8888888888888888,
             "#fdca26"
            ],
            [
             1,
             "#f0f921"
            ]
           ]
          },
          "colorway": [
           "#636efa",
           "#EF553B",
           "#00cc96",
           "#ab63fa",
           "#FFA15A",
           "#19d3f3",
           "#FF6692",
           "#B6E880",
           "#FF97FF",
           "#FECB52"
          ],
          "font": {
           "color": "#2a3f5f"
          },
          "geo": {
           "bgcolor": "white",
           "lakecolor": "white",
           "landcolor": "#E5ECF6",
           "showlakes": true,
           "showland": true,
           "subunitcolor": "white"
          },
          "hoverlabel": {
           "align": "left"
          },
          "hovermode": "closest",
          "mapbox": {
           "style": "light"
          },
          "paper_bgcolor": "white",
          "plot_bgcolor": "#E5ECF6",
          "polar": {
           "angularaxis": {
            "gridcolor": "white",
            "linecolor": "white",
            "ticks": ""
           },
           "bgcolor": "#E5ECF6",
           "radialaxis": {
            "gridcolor": "white",
            "linecolor": "white",
            "ticks": ""
           }
          },
          "scene": {
           "xaxis": {
            "backgroundcolor": "#E5ECF6",
            "gridcolor": "white",
            "gridwidth": 2,
            "linecolor": "white",
            "showbackground": true,
            "ticks": "",
            "zerolinecolor": "white"
           },
           "yaxis": {
            "backgroundcolor": "#E5ECF6",
            "gridcolor": "white",
            "gridwidth": 2,
            "linecolor": "white",
            "showbackground": true,
            "ticks": "",
            "zerolinecolor": "white"
           },
           "zaxis": {
            "backgroundcolor": "#E5ECF6",
            "gridcolor": "white",
            "gridwidth": 2,
            "linecolor": "white",
            "showbackground": true,
            "ticks": "",
            "zerolinecolor": "white"
           }
          },
          "shapedefaults": {
           "line": {
            "color": "#2a3f5f"
           }
          },
          "ternary": {
           "aaxis": {
            "gridcolor": "white",
            "linecolor": "white",
            "ticks": ""
           },
           "baxis": {
            "gridcolor": "white",
            "linecolor": "white",
            "ticks": ""
           },
           "bgcolor": "#E5ECF6",
           "caxis": {
            "gridcolor": "white",
            "linecolor": "white",
            "ticks": ""
           }
          },
          "title": {
           "x": 0.05
          },
          "xaxis": {
           "automargin": true,
           "gridcolor": "white",
           "linecolor": "white",
           "ticks": "",
           "title": {
            "standoff": 15
           },
           "zerolinecolor": "white",
           "zerolinewidth": 2
          },
          "yaxis": {
           "automargin": true,
           "gridcolor": "white",
           "linecolor": "white",
           "ticks": "",
           "title": {
            "standoff": 15
           },
           "zerolinecolor": "white",
           "zerolinewidth": 2
          }
         }
        },
        "xaxis": {
         "anchor": "y",
         "constrain": "domain",
         "domain": [
          0,
          1
         ],
         "scaleanchor": "y"
        },
        "yaxis": {
         "anchor": "x",
         "autorange": "reversed",
         "constrain": "domain",
         "domain": [
          0,
          1
         ]
        }
       }
      },
      "text/html": [
       "<div>                            <div id=\"32ab2f38-2e71-499f-90be-1b01ed3b1dd0\" class=\"plotly-graph-div\" style=\"height:525px; width:100%;\"></div>            <script type=\"text/javascript\">                require([\"plotly\"], function(Plotly) {                    window.PLOTLYENV=window.PLOTLYENV || {};                                    if (document.getElementById(\"32ab2f38-2e71-499f-90be-1b01ed3b1dd0\")) {                    Plotly.newPlot(                        \"32ab2f38-2e71-499f-90be-1b01ed3b1dd0\",                        [{\"coloraxis\":\"coloraxis\",\"name\":\"0\",\"z\":[[-0.5,-0.5,-0.5,-0.5,-0.5,-0.5,-0.5,-0.5,-0.5,-0.5,-0.5,-0.5,-0.5,-0.5,-0.5,-0.5,-0.5,-0.5,-0.5,-0.5,-0.5,-0.5,-0.5,-0.5,-0.5,-0.5,-0.5,-0.5],[-0.5,-0.5,-0.5,-0.5,-0.5,-0.5,-0.5,-0.5,-0.5,-0.5,-0.5,-0.5,-0.5,-0.5,-0.5,-0.5,-0.5,-0.5,-0.5,-0.5,-0.5,-0.5,-0.5,-0.5,-0.5,-0.5,-0.5,-0.5],[-0.5,-0.5,-0.5,-0.5,-0.5,-0.5,-0.5,-0.5,-0.5,-0.5,-0.5,-0.5,-0.5,-0.5,-0.5,-0.5,-0.5,-0.5,-0.5,-0.5,-0.5,-0.5,-0.5,-0.5,-0.5,-0.5,-0.5,-0.5],[-0.5,-0.5,-0.5,-0.5,-0.5,-0.5,-0.5,-0.5,-0.5,-0.5,-0.5,-0.5,-0.5,-0.5,-0.5,-0.5,-0.5,-0.5,-0.5,-0.5,-0.5,-0.5,-0.5,-0.5,-0.5,-0.5,-0.5,-0.5],[-0.5,-0.5,-0.5,-0.5,-0.5,-0.5,-0.5,-0.5,-0.5,-0.5,-0.5,-0.5,-0.5,-0.5,-0.5,-0.5,-0.5,-0.5,-0.5,-0.5,-0.5,-0.5,-0.5,-0.5,-0.5,-0.5,-0.5,-0.5],[-0.5,-0.5,-0.5,-0.5,-0.5,-0.5,-0.5,-0.5,-0.5,-0.5,-0.5,-0.5,-0.5,-0.5,-0.5,-0.5,-0.5,-0.5,-0.5,-0.5,-0.5,-0.5,-0.5,-0.5,-0.5,-0.5,-0.5,-0.5],[-0.5,-0.5,-0.5,-0.5,-0.5,-0.5,-0.5,-0.5,-0.5,-0.5,-0.5,-0.5,-0.5,-0.5,-0.44901960784313727,-0.28823529411764703,0.033333333333333326,0.033333333333333326,0.05294117647058827,0.5,0.49607843137254903,0.49607843137254903,0.34705882352941175,-0.14705882352941174,-0.49215686274509807,-0.5,-0.5,-0.5],[-0.5,-0.5,-0.5,-0.5,-0.5,-0.5,-0.5,-0.5,-0.5,-0.5,-0.5,-0.5,-0.4215686274509804,-0.28431372549019607,0.3784313725490196,0.49215686274509807,0.49215686274509807,0.3666666666666667,0.3549019607843137,0.08039215686274515,-0.10784313725490197,-0.10784313725490197,0.303921568627451,0.49215686274509807,-0.43333333333333335,-0.5,-0.5,-0.5],[-0.5,-0.5,-0.5,-0.5,-0.5,-0.5,-0.5,-0.5,-0.5,-0.5,-0.1156862745098039,0.1705882352941176,0.3509803921568627,0.49215686274509807,0.44509803921568625,0.14313725490196083,-0.17843137254901958,-0.46862745098039216,-0.5,-0.5,-0.5,-0.5,-0.07647058823529412,0.49215686274509807,-0.43333333333333335,-0.5,-0.5,-0.5],[-0.5,-0.5,-0.5,-0.5,-0.5,-0.5,-0.5,-0.307843137254902,0.12352941176470589,0.24117647058823533,0.4647058823529412,0.49215686274509807,0.33529411764705885,-0.07647058823529412,-0.303921568627451,-0.5,-0.5,-0.5,-0.5,-0.5,-0.5,0.03725490196078429,0.4411764705882353,0.06862745098039214,-0.4803921568627451,-0.5,-0.5,-0.5],[-0.5,-0.5,-0.5,-0.5,-0.5,-0.31176470588235294,0.13137254901960782,0.43333333333333335,0.49215686274509807,0.49215686274509807,0.49215686274509807,0.2568627450980392,-0.4176470588235294,-0.5,-0.5,-0.5,-0.5,-0.5,-0.5,-0.5,-0.1823529411764706,0.44509803921568625,0.22549019607843135,-0.4725490196078431,-0.5,-0.5,-0.5,-0.5],[-0.5,-0.5,-0.5,-0.5,-0.5,-0.4372549019607843,-0.3862745098039216,-0.3862745098039216,-0.03725490196078429,0.07647058823529407,0.24901960784313726,0.49215686274509807,0.38235294117647056,0.08823529411764708,-0.17843137254901958,-0.5,-0.5,-0.5,-0.5,-0.19803921568627453,0.4529411764705882,0.0725490196078431,-0.4215686274509804,-0.5,-0.5,-0.5,-0.5,-0.5],[-0.5,-0.5,-0.5,-0.5,-0.5,-0.5,-0.5,-0.5,-0.5,-0.5,-0.4803921568627451,-0.4568627450980392,-0.1941176470588235,0.30000000000000004,0.4764705882352941,0.31176470588235294,-0.4019607843137255,-0.4843137254901961,0.0019607843137254832,0.4725490196078431,0.16666666666666663,-0.3588235294117647,-0.5,-0.5,-0.5,-0.5,-0.5,-0.5],[-0.5,-0.5,-0.5,-0.5,-0.5,-0.5,-0.5,-0.5,-0.5,-0.5,-0.5,-0.5,-0.5,-0.5,0.13137254901960782,0.4725490196078431,0.49215686274509807,0.28823529411764703,0.4882352941176471,0.07647058823529407,-0.5,-0.5,-0.5,-0.5,-0.5,-0.5,-0.5,-0.5],[-0.5,-0.5,-0.5,-0.5,-0.5,-0.5,-0.5,-0.5,-0.5,-0.5,-0.5,-0.5,-0.5,-0.5,-0.5,0.2647058823529411,0.49215686274509807,0.49215686274509807,0.15490196078431373,-0.5,-0.5,-0.5,-0.5,-0.5,-0.5,-0.5,-0.5,-0.5],[-0.5,-0.5,-0.5,-0.5,-0.5,-0.5,-0.5,-0.5,-0.5,-0.5,-0.5,-0.5,-0.5,-0.3509803921568627,0.056862745098039236,0.4254901960784314,0.38627450980392153,0.49215686274509807,-0.013725490196078438,-0.5,-0.5,-0.5,-0.5,-0.5,-0.5,-0.5,-0.5,-0.5],[-0.5,-0.5,-0.5,-0.5,-0.5,-0.5,-0.5,-0.5,-0.5,-0.5,-0.5,-0.5,-0.28431372549019607,0.40980392156862744,0.42156862745098034,0.0490196078431373,-0.3784313725490196,0.4254901960784314,0.3392156862745098,-0.5,-0.5,-0.5,-0.5,-0.5,-0.5,-0.5,-0.5,-0.5],[-0.5,-0.5,-0.5,-0.5,-0.5,-0.5,-0.5,-0.5,-0.5,-0.5,-0.5,0.08431372549019611,0.4254901960784314,0.43333333333333335,-0.2372549019607843,-0.5,-0.5,0.40588235294117647,0.44509803921568625,-0.5,-0.5,-0.5,-0.5,-0.5,-0.5,-0.5,-0.5,-0.5],[-0.5,-0.5,-0.5,-0.5,-0.5,-0.5,-0.5,-0.5,-0.5,-0.3431372549019608,0.3509803921568627,0.48039215686274506,0.009803921568627416,-0.42549019607843136,-0.5,-0.5,-0.5,0.40588235294117647,0.44509803921568625,-0.5,-0.5,-0.5,-0.5,-0.5,-0.5,-0.5,-0.5,-0.5],[-0.5,-0.5,-0.5,-0.5,-0.5,-0.5,-0.5,-0.5,-0.33137254901960783,0.39803921568627454,0.4529411764705882,-0.22156862745098038,-0.5,-0.5,-0.5,-0.5,-0.5,0.40588235294117647,0.20588235294117652,-0.5,-0.5,-0.5,-0.5,-0.5,-0.5,-0.5,-0.5,-0.5],[-0.5,-0.5,-0.5,-0.5,-0.5,-0.5,-0.5,-0.37450980392156863,0.3901960784313725,0.39803921568627454,-0.39803921568627454,-0.5,-0.5,-0.5,-0.5,-0.5,-0.22549019607843135,0.45686274509803926,-0.013725490196078438,-0.5,-0.5,-0.5,-0.5,-0.5,-0.5,-0.5,-0.5,-0.5],[-0.5,-0.5,-0.5,-0.5,-0.5,-0.5,-0.5,0.009803921568627416,0.4411764705882353,-0.3509803921568627,-0.5,-0.5,-0.5,-0.5,-0.5,-0.3,0.4372549019607843,0.40980392156862744,-0.32352941176470584,-0.5,-0.5,-0.5,-0.5,-0.5,-0.5,-0.5,-0.5,-0.5],[-0.5,-0.5,-0.5,-0.5,-0.5,-0.5,-0.5,0.1705882352941176,0.21372549019607845,-0.5,-0.5,-0.5,-0.5,-0.5,-0.4372549019607843,-0.017647058823529405,0.49215686274509807,-0.2803921568627451,-0.5,-0.5,-0.5,-0.5,-0.5,-0.5,-0.5,-0.5,-0.5,-0.5],[-0.5,-0.5,-0.5,-0.5,-0.5,-0.5,-0.5,0.1705882352941176,0.303921568627451,-0.4372549019607843,-0.5,-0.5,-0.5,-0.292156862745098,0.19803921568627447,0.3941176470588236,-0.21764705882352942,-0.4803921568627451,-0.5,-0.5,-0.5,-0.5,-0.5,-0.5,-0.5,-0.5,-0.5,-0.5],[-0.5,-0.5,-0.5,-0.5,-0.5,-0.5,-0.5,-0.009803921568627472,0.49215686274509807,0.38235294117647056,-0.04901960784313725,-0.103921568627451,0.15490196078431373,0.44509803921568625,0.21764705882352942,-0.296078431372549,-0.5,-0.5,-0.5,-0.5,-0.5,-0.5,-0.5,-0.5,-0.5,-0.5,-0.5,-0.5],[-0.5,-0.5,-0.5,-0.5,-0.5,-0.5,-0.5,-0.4843137254901961,-0.303921568627451,0.19019607843137254,0.27647058823529413,0.484313725490196,-0.009803921568627472,-0.43333333333333335,-0.4803921568627451,-0.5,-0.5,-0.5,-0.5,-0.5,-0.5,-0.5,-0.5,-0.5,-0.5,-0.5,-0.5,-0.5],[-0.5,-0.5,-0.5,-0.5,-0.5,-0.5,-0.5,-0.5,-0.5,-0.5,-0.5,-0.5,-0.5,-0.5,-0.5,-0.5,-0.5,-0.5,-0.5,-0.5,-0.5,-0.5,-0.5,-0.5,-0.5,-0.5,-0.5,-0.5],[-0.5,-0.5,-0.5,-0.5,-0.5,-0.5,-0.5,-0.5,-0.5,-0.5,-0.5,-0.5,-0.5,-0.5,-0.5,-0.5,-0.5,-0.5,-0.5,-0.5,-0.5,-0.5,-0.5,-0.5,-0.5,-0.5,-0.5,-0.5]],\"type\":\"heatmap\",\"xaxis\":\"x\",\"yaxis\":\"y\",\"hovertemplate\":\"x: %{x}\\u003cbr\\u003ey: %{y}\\u003cbr\\u003ecolor: %{z}\\u003cextra\\u003e\\u003c\\u002fextra\\u003e\"}],                        {\"template\":{\"data\":{\"histogram2dcontour\":[{\"type\":\"histogram2dcontour\",\"colorbar\":{\"outlinewidth\":0,\"ticks\":\"\"},\"colorscale\":[[0.0,\"#0d0887\"],[0.1111111111111111,\"#46039f\"],[0.2222222222222222,\"#7201a8\"],[0.3333333333333333,\"#9c179e\"],[0.4444444444444444,\"#bd3786\"],[0.5555555555555556,\"#d8576b\"],[0.6666666666666666,\"#ed7953\"],[0.7777777777777778,\"#fb9f3a\"],[0.8888888888888888,\"#fdca26\"],[1.0,\"#f0f921\"]]}],\"choropleth\":[{\"type\":\"choropleth\",\"colorbar\":{\"outlinewidth\":0,\"ticks\":\"\"}}],\"histogram2d\":[{\"type\":\"histogram2d\",\"colorbar\":{\"outlinewidth\":0,\"ticks\":\"\"},\"colorscale\":[[0.0,\"#0d0887\"],[0.1111111111111111,\"#46039f\"],[0.2222222222222222,\"#7201a8\"],[0.3333333333333333,\"#9c179e\"],[0.4444444444444444,\"#bd3786\"],[0.5555555555555556,\"#d8576b\"],[0.6666666666666666,\"#ed7953\"],[0.7777777777777778,\"#fb9f3a\"],[0.8888888888888888,\"#fdca26\"],[1.0,\"#f0f921\"]]}],\"heatmap\":[{\"type\":\"heatmap\",\"colorbar\":{\"outlinewidth\":0,\"ticks\":\"\"},\"colorscale\":[[0.0,\"#0d0887\"],[0.1111111111111111,\"#46039f\"],[0.2222222222222222,\"#7201a8\"],[0.3333333333333333,\"#9c179e\"],[0.4444444444444444,\"#bd3786\"],[0.5555555555555556,\"#d8576b\"],[0.6666666666666666,\"#ed7953\"],[0.7777777777777778,\"#fb9f3a\"],[0.8888888888888888,\"#fdca26\"],[1.0,\"#f0f921\"]]}],\"heatmapgl\":[{\"type\":\"heatmapgl\",\"colorbar\":{\"outlinewidth\":0,\"ticks\":\"\"},\"colorscale\":[[0.0,\"#0d0887\"],[0.1111111111111111,\"#46039f\"],[0.2222222222222222,\"#7201a8\"],[0.3333333333333333,\"#9c179e\"],[0.4444444444444444,\"#bd3786\"],[0.5555555555555556,\"#d8576b\"],[0.6666666666666666,\"#ed7953\"],[0.7777777777777778,\"#fb9f3a\"],[0.8888888888888888,\"#fdca26\"],[1.0,\"#f0f921\"]]}],\"contourcarpet\":[{\"type\":\"contourcarpet\",\"colorbar\":{\"outlinewidth\":0,\"ticks\":\"\"}}],\"contour\":[{\"type\":\"contour\",\"colorbar\":{\"outlinewidth\":0,\"ticks\":\"\"},\"colorscale\":[[0.0,\"#0d0887\"],[0.1111111111111111,\"#46039f\"],[0.2222222222222222,\"#7201a8\"],[0.3333333333333333,\"#9c179e\"],[0.4444444444444444,\"#bd3786\"],[0.5555555555555556,\"#d8576b\"],[0.6666666666666666,\"#ed7953\"],[0.7777777777777778,\"#fb9f3a\"],[0.8888888888888888,\"#fdca26\"],[1.0,\"#f0f921\"]]}],\"surface\":[{\"type\":\"surface\",\"colorbar\":{\"outlinewidth\":0,\"ticks\":\"\"},\"colorscale\":[[0.0,\"#0d0887\"],[0.1111111111111111,\"#46039f\"],[0.2222222222222222,\"#7201a8\"],[0.3333333333333333,\"#9c179e\"],[0.4444444444444444,\"#bd3786\"],[0.5555555555555556,\"#d8576b\"],[0.6666666666666666,\"#ed7953\"],[0.7777777777777778,\"#fb9f3a\"],[0.8888888888888888,\"#fdca26\"],[1.0,\"#f0f921\"]]}],\"mesh3d\":[{\"type\":\"mesh3d\",\"colorbar\":{\"outlinewidth\":0,\"ticks\":\"\"}}],\"scatter\":[{\"fillpattern\":{\"fillmode\":\"overlay\",\"size\":10,\"solidity\":0.2},\"type\":\"scatter\"}],\"parcoords\":[{\"type\":\"parcoords\",\"line\":{\"colorbar\":{\"outlinewidth\":0,\"ticks\":\"\"}}}],\"scatterpolargl\":[{\"type\":\"scatterpolargl\",\"marker\":{\"colorbar\":{\"outlinewidth\":0,\"ticks\":\"\"}}}],\"bar\":[{\"error_x\":{\"color\":\"#2a3f5f\"},\"error_y\":{\"color\":\"#2a3f5f\"},\"marker\":{\"line\":{\"color\":\"#E5ECF6\",\"width\":0.5},\"pattern\":{\"fillmode\":\"overlay\",\"size\":10,\"solidity\":0.2}},\"type\":\"bar\"}],\"scattergeo\":[{\"type\":\"scattergeo\",\"marker\":{\"colorbar\":{\"outlinewidth\":0,\"ticks\":\"\"}}}],\"scatterpolar\":[{\"type\":\"scatterpolar\",\"marker\":{\"colorbar\":{\"outlinewidth\":0,\"ticks\":\"\"}}}],\"histogram\":[{\"marker\":{\"pattern\":{\"fillmode\":\"overlay\",\"size\":10,\"solidity\":0.2}},\"type\":\"histogram\"}],\"scattergl\":[{\"type\":\"scattergl\",\"marker\":{\"colorbar\":{\"outlinewidth\":0,\"ticks\":\"\"}}}],\"scatter3d\":[{\"type\":\"scatter3d\",\"line\":{\"colorbar\":{\"outlinewidth\":0,\"ticks\":\"\"}},\"marker\":{\"colorbar\":{\"outlinewidth\":0,\"ticks\":\"\"}}}],\"scattermapbox\":[{\"type\":\"scattermapbox\",\"marker\":{\"colorbar\":{\"outlinewidth\":0,\"ticks\":\"\"}}}],\"scatterternary\":[{\"type\":\"scatterternary\",\"marker\":{\"colorbar\":{\"outlinewidth\":0,\"ticks\":\"\"}}}],\"scattercarpet\":[{\"type\":\"scattercarpet\",\"marker\":{\"colorbar\":{\"outlinewidth\":0,\"ticks\":\"\"}}}],\"carpet\":[{\"aaxis\":{\"endlinecolor\":\"#2a3f5f\",\"gridcolor\":\"white\",\"linecolor\":\"white\",\"minorgridcolor\":\"white\",\"startlinecolor\":\"#2a3f5f\"},\"baxis\":{\"endlinecolor\":\"#2a3f5f\",\"gridcolor\":\"white\",\"linecolor\":\"white\",\"minorgridcolor\":\"white\",\"startlinecolor\":\"#2a3f5f\"},\"type\":\"carpet\"}],\"table\":[{\"cells\":{\"fill\":{\"color\":\"#EBF0F8\"},\"line\":{\"color\":\"white\"}},\"header\":{\"fill\":{\"color\":\"#C8D4E3\"},\"line\":{\"color\":\"white\"}},\"type\":\"table\"}],\"barpolar\":[{\"marker\":{\"line\":{\"color\":\"#E5ECF6\",\"width\":0.5},\"pattern\":{\"fillmode\":\"overlay\",\"size\":10,\"solidity\":0.2}},\"type\":\"barpolar\"}],\"pie\":[{\"automargin\":true,\"type\":\"pie\"}]},\"layout\":{\"autotypenumbers\":\"strict\",\"colorway\":[\"#636efa\",\"#EF553B\",\"#00cc96\",\"#ab63fa\",\"#FFA15A\",\"#19d3f3\",\"#FF6692\",\"#B6E880\",\"#FF97FF\",\"#FECB52\"],\"font\":{\"color\":\"#2a3f5f\"},\"hovermode\":\"closest\",\"hoverlabel\":{\"align\":\"left\"},\"paper_bgcolor\":\"white\",\"plot_bgcolor\":\"#E5ECF6\",\"polar\":{\"bgcolor\":\"#E5ECF6\",\"angularaxis\":{\"gridcolor\":\"white\",\"linecolor\":\"white\",\"ticks\":\"\"},\"radialaxis\":{\"gridcolor\":\"white\",\"linecolor\":\"white\",\"ticks\":\"\"}},\"ternary\":{\"bgcolor\":\"#E5ECF6\",\"aaxis\":{\"gridcolor\":\"white\",\"linecolor\":\"white\",\"ticks\":\"\"},\"baxis\":{\"gridcolor\":\"white\",\"linecolor\":\"white\",\"ticks\":\"\"},\"caxis\":{\"gridcolor\":\"white\",\"linecolor\":\"white\",\"ticks\":\"\"}},\"coloraxis\":{\"colorbar\":{\"outlinewidth\":0,\"ticks\":\"\"}},\"colorscale\":{\"sequential\":[[0.0,\"#0d0887\"],[0.1111111111111111,\"#46039f\"],[0.2222222222222222,\"#7201a8\"],[0.3333333333333333,\"#9c179e\"],[0.4444444444444444,\"#bd3786\"],[0.5555555555555556,\"#d8576b\"],[0.6666666666666666,\"#ed7953\"],[0.7777777777777778,\"#fb9f3a\"],[0.8888888888888888,\"#fdca26\"],[1.0,\"#f0f921\"]],\"sequentialminus\":[[0.0,\"#0d0887\"],[0.1111111111111111,\"#46039f\"],[0.2222222222222222,\"#7201a8\"],[0.3333333333333333,\"#9c179e\"],[0.4444444444444444,\"#bd3786\"],[0.5555555555555556,\"#d8576b\"],[0.6666666666666666,\"#ed7953\"],[0.7777777777777778,\"#fb9f3a\"],[0.8888888888888888,\"#fdca26\"],[1.0,\"#f0f921\"]],\"diverging\":[[0,\"#8e0152\"],[0.1,\"#c51b7d\"],[0.2,\"#de77ae\"],[0.3,\"#f1b6da\"],[0.4,\"#fde0ef\"],[0.5,\"#f7f7f7\"],[0.6,\"#e6f5d0\"],[0.7,\"#b8e186\"],[0.8,\"#7fbc41\"],[0.9,\"#4d9221\"],[1,\"#276419\"]]},\"xaxis\":{\"gridcolor\":\"white\",\"linecolor\":\"white\",\"ticks\":\"\",\"title\":{\"standoff\":15},\"zerolinecolor\":\"white\",\"automargin\":true,\"zerolinewidth\":2},\"yaxis\":{\"gridcolor\":\"white\",\"linecolor\":\"white\",\"ticks\":\"\",\"title\":{\"standoff\":15},\"zerolinecolor\":\"white\",\"automargin\":true,\"zerolinewidth\":2},\"scene\":{\"xaxis\":{\"backgroundcolor\":\"#E5ECF6\",\"gridcolor\":\"white\",\"linecolor\":\"white\",\"showbackground\":true,\"ticks\":\"\",\"zerolinecolor\":\"white\",\"gridwidth\":2},\"yaxis\":{\"backgroundcolor\":\"#E5ECF6\",\"gridcolor\":\"white\",\"linecolor\":\"white\",\"showbackground\":true,\"ticks\":\"\",\"zerolinecolor\":\"white\",\"gridwidth\":2},\"zaxis\":{\"backgroundcolor\":\"#E5ECF6\",\"gridcolor\":\"white\",\"linecolor\":\"white\",\"showbackground\":true,\"ticks\":\"\",\"zerolinecolor\":\"white\",\"gridwidth\":2}},\"shapedefaults\":{\"line\":{\"color\":\"#2a3f5f\"}},\"annotationdefaults\":{\"arrowcolor\":\"#2a3f5f\",\"arrowhead\":0,\"arrowwidth\":1},\"geo\":{\"bgcolor\":\"white\",\"landcolor\":\"#E5ECF6\",\"subunitcolor\":\"white\",\"showland\":true,\"showlakes\":true,\"lakecolor\":\"white\"},\"title\":{\"x\":0.05},\"mapbox\":{\"style\":\"light\"}}},\"xaxis\":{\"anchor\":\"y\",\"domain\":[0.0,1.0],\"scaleanchor\":\"y\",\"constrain\":\"domain\"},\"yaxis\":{\"anchor\":\"x\",\"domain\":[0.0,1.0],\"autorange\":\"reversed\",\"constrain\":\"domain\"},\"coloraxis\":{\"colorscale\":[[0.0,\"rgb(0, 0, 0)\"],[0.09090909090909091,\"rgb(16, 16, 16)\"],[0.18181818181818182,\"rgb(38, 38, 38)\"],[0.2727272727272727,\"rgb(59, 59, 59)\"],[0.36363636363636365,\"rgb(81, 80, 80)\"],[0.45454545454545453,\"rgb(102, 101, 101)\"],[0.5454545454545454,\"rgb(124, 123, 122)\"],[0.6363636363636364,\"rgb(146, 146, 145)\"],[0.7272727272727273,\"rgb(171, 171, 170)\"],[0.8181818181818182,\"rgb(197, 197, 195)\"],[0.9090909090909091,\"rgb(224, 224, 223)\"],[1.0,\"rgb(254, 254, 253)\"]]},\"margin\":{\"t\":60}},                        {\"responsive\": true}                    ).then(function(){\n",
       "                            \n",
       "var gd = document.getElementById('32ab2f38-2e71-499f-90be-1b01ed3b1dd0');\n",
       "var x = new MutationObserver(function (mutations, observer) {{\n",
       "        var display = window.getComputedStyle(gd).display;\n",
       "        if (!display || display === 'none') {{\n",
       "            console.log([gd, 'removed!']);\n",
       "            Plotly.purge(gd);\n",
       "            observer.disconnect();\n",
       "        }}\n",
       "}});\n",
       "\n",
       "// Listen for the removal of the full notebook cells\n",
       "var notebookContainer = gd.closest('#notebook-container');\n",
       "if (notebookContainer) {{\n",
       "    x.observe(notebookContainer, {childList: true});\n",
       "}}\n",
       "\n",
       "// Listen for the clearing of the current output cell\n",
       "var outputEl = gd.closest('.output');\n",
       "if (outputEl) {{\n",
       "    x.observe(outputEl, {childList: true});\n",
       "}}\n",
       "\n",
       "                        })                };                });            </script>        </div>"
      ]
     },
     "metadata": {},
     "output_type": "display_data"
    }
   ],
   "source": [
    "\n",
    "use_raw_data_for_interactive_testing = True\n",
    "\n",
    "if use_raw_data_for_interactive_testing:\n",
    "    import random\n",
    "    row = random.randint(0, len(test_images))\n",
    "    img_data = test_images[row]\n",
    "    prediction = CNN.classify([[img_data]])[0]\n",
    "    print(prediction)\n",
    "    view_image(np.array(img_data), 28, 28, 'gray')\n",
    "\n",
    "else:\n",
    "    images, label = test_image_loader.batch_sample(1, True)\n",
    "\n",
    "    prediction = CNN.classify(images)\n",
    "    prediction = prediction[0]\n",
    "\n",
    "    assert(test_image_loader.get_classifications_map() == CNN.get_image_loader_classification_map())\n",
    "\n",
    "    # Now reverse mapping from string->float to float->string\n",
    "    classification_map = {}\n",
    "    for key, value in test_image_loader.get_classifications_map().items():\n",
    "        classification_map[value] = key\n",
    "\n",
    "    print(\"Label: \" + classification_map[label[0]] + \" \" + str(label[0]))\n",
    "    print(\"Prediction: \" + classification_map[prediction] + \" (\" + str(prediction) + \")\")\n",
    "    view_image((np.array(images[0]) +0.5), input_width, input_height, colorscale=\"\")"
   ]
  }
 ],
 "metadata": {
  "kernelspec": {
   "display_name": ".venv",
   "language": "python",
   "name": "python3"
  },
  "language_info": {
   "codemirror_mode": {
    "name": "ipython",
    "version": 3
   },
   "file_extension": ".py",
   "mimetype": "text/x-python",
   "name": "python",
   "nbconvert_exporter": "python",
   "pygments_lexer": "ipython3",
   "version": "3.8.10"
  },
  "orig_nbformat": 4
 },
 "nbformat": 4,
 "nbformat_minor": 2
}
