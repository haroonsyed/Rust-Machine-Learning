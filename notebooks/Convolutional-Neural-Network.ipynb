{
 "cells": [
  {
   "cell_type": "code",
   "execution_count": 1,
   "metadata": {},
   "outputs": [],
   "source": [
    "import rust_machine_learning\n",
    "from syed_ml_lib import *\n",
    "import os"
   ]
  },
  {
   "cell_type": "code",
   "execution_count": 2,
   "metadata": {},
   "outputs": [
    {
     "name": "stdout",
     "output_type": "stream",
     "text": [
      "Reading images for classification \"truck\"\n",
      "Reading images for classification \"airplane\"\n",
      "Reading images for classification \"cat\"\n",
      "Reading images for classification \"deer\"\n",
      "Reading images for classification \"dog\"\n",
      "Reading images for classification \"ship\"\n",
      "Reading images for classification \"bird\"\n",
      "Reading images for classification \"automobile\"\n",
      "Reading images for classification \"frog\"\n",
      "Reading images for classification \"horse\"\n"
     ]
    }
   ],
   "source": [
    "# Setup the CNN\n",
    "num_classifications = 10\n",
    "input_height = 32\n",
    "input_width = 32\n",
    "input_depth = 3\n",
    "CNN = rust_machine_learning.ConvolutionalNeuralNetwork(num_classifications, input_height, input_width, input_depth)\n",
    "\n",
    "# Setup the layers\n",
    "\n",
    "# The api has 3 functions\n",
    "# add_convolutional_layer(filter_height, filter_width, num_filters)\n",
    "# add_max_pool_layer()\n",
    "# add_fully_connected_layer() \n",
    "\n",
    "# Add fully connected layer can only be called once, and must be called last\n",
    "CNN.add_convolutional_layer(3, 3, 32)\n",
    "# CNN.add_max_pool_layer()\n",
    "CNN.add_convolutional_layer(3, 3, 32)\n",
    "# CNN.add_max_pool_layer()\n",
    "CNN.add_fully_connected_layer() \n",
    "\n",
    "image_directory = \"../data/cifar-10/\"\n",
    "image_directory_path = os.path.abspath(image_directory)\n",
    "CNN.set_image_loader(image_directory_path, input_height, input_width)"
   ]
  },
  {
   "cell_type": "code",
   "execution_count": 3,
   "metadata": {},
   "outputs": [
    {
     "data": {
      "text/html": [
       "<div>\n",
       "<style scoped>\n",
       "    .dataframe tbody tr th:only-of-type {\n",
       "        vertical-align: middle;\n",
       "    }\n",
       "\n",
       "    .dataframe tbody tr th {\n",
       "        vertical-align: top;\n",
       "    }\n",
       "\n",
       "    .dataframe thead th {\n",
       "        text-align: right;\n",
       "    }\n",
       "</style>\n",
       "<table border=\"1\" class=\"dataframe\">\n",
       "  <thead>\n",
       "    <tr style=\"text-align: right;\">\n",
       "      <th></th>\n",
       "      <th>label</th>\n",
       "      <th>pixel0</th>\n",
       "      <th>pixel1</th>\n",
       "      <th>pixel2</th>\n",
       "      <th>pixel3</th>\n",
       "      <th>pixel4</th>\n",
       "      <th>pixel5</th>\n",
       "      <th>pixel6</th>\n",
       "      <th>pixel7</th>\n",
       "      <th>pixel8</th>\n",
       "      <th>...</th>\n",
       "      <th>pixel774</th>\n",
       "      <th>pixel775</th>\n",
       "      <th>pixel776</th>\n",
       "      <th>pixel777</th>\n",
       "      <th>pixel778</th>\n",
       "      <th>pixel779</th>\n",
       "      <th>pixel780</th>\n",
       "      <th>pixel781</th>\n",
       "      <th>pixel782</th>\n",
       "      <th>pixel783</th>\n",
       "    </tr>\n",
       "  </thead>\n",
       "  <tbody>\n",
       "    <tr>\n",
       "      <th>0</th>\n",
       "      <td>1.0</td>\n",
       "      <td>-0.5</td>\n",
       "      <td>-0.5</td>\n",
       "      <td>-0.5</td>\n",
       "      <td>-0.5</td>\n",
       "      <td>-0.5</td>\n",
       "      <td>-0.5</td>\n",
       "      <td>-0.5</td>\n",
       "      <td>-0.5</td>\n",
       "      <td>-0.5</td>\n",
       "      <td>...</td>\n",
       "      <td>-0.5</td>\n",
       "      <td>-0.5</td>\n",
       "      <td>-0.5</td>\n",
       "      <td>-0.5</td>\n",
       "      <td>-0.5</td>\n",
       "      <td>-0.5</td>\n",
       "      <td>-0.5</td>\n",
       "      <td>-0.5</td>\n",
       "      <td>-0.5</td>\n",
       "      <td>-0.5</td>\n",
       "    </tr>\n",
       "    <tr>\n",
       "      <th>1</th>\n",
       "      <td>0.0</td>\n",
       "      <td>-0.5</td>\n",
       "      <td>-0.5</td>\n",
       "      <td>-0.5</td>\n",
       "      <td>-0.5</td>\n",
       "      <td>-0.5</td>\n",
       "      <td>-0.5</td>\n",
       "      <td>-0.5</td>\n",
       "      <td>-0.5</td>\n",
       "      <td>-0.5</td>\n",
       "      <td>...</td>\n",
       "      <td>-0.5</td>\n",
       "      <td>-0.5</td>\n",
       "      <td>-0.5</td>\n",
       "      <td>-0.5</td>\n",
       "      <td>-0.5</td>\n",
       "      <td>-0.5</td>\n",
       "      <td>-0.5</td>\n",
       "      <td>-0.5</td>\n",
       "      <td>-0.5</td>\n",
       "      <td>-0.5</td>\n",
       "    </tr>\n",
       "    <tr>\n",
       "      <th>2</th>\n",
       "      <td>1.0</td>\n",
       "      <td>-0.5</td>\n",
       "      <td>-0.5</td>\n",
       "      <td>-0.5</td>\n",
       "      <td>-0.5</td>\n",
       "      <td>-0.5</td>\n",
       "      <td>-0.5</td>\n",
       "      <td>-0.5</td>\n",
       "      <td>-0.5</td>\n",
       "      <td>-0.5</td>\n",
       "      <td>...</td>\n",
       "      <td>-0.5</td>\n",
       "      <td>-0.5</td>\n",
       "      <td>-0.5</td>\n",
       "      <td>-0.5</td>\n",
       "      <td>-0.5</td>\n",
       "      <td>-0.5</td>\n",
       "      <td>-0.5</td>\n",
       "      <td>-0.5</td>\n",
       "      <td>-0.5</td>\n",
       "      <td>-0.5</td>\n",
       "    </tr>\n",
       "    <tr>\n",
       "      <th>3</th>\n",
       "      <td>4.0</td>\n",
       "      <td>-0.5</td>\n",
       "      <td>-0.5</td>\n",
       "      <td>-0.5</td>\n",
       "      <td>-0.5</td>\n",
       "      <td>-0.5</td>\n",
       "      <td>-0.5</td>\n",
       "      <td>-0.5</td>\n",
       "      <td>-0.5</td>\n",
       "      <td>-0.5</td>\n",
       "      <td>...</td>\n",
       "      <td>-0.5</td>\n",
       "      <td>-0.5</td>\n",
       "      <td>-0.5</td>\n",
       "      <td>-0.5</td>\n",
       "      <td>-0.5</td>\n",
       "      <td>-0.5</td>\n",
       "      <td>-0.5</td>\n",
       "      <td>-0.5</td>\n",
       "      <td>-0.5</td>\n",
       "      <td>-0.5</td>\n",
       "    </tr>\n",
       "    <tr>\n",
       "      <th>4</th>\n",
       "      <td>0.0</td>\n",
       "      <td>-0.5</td>\n",
       "      <td>-0.5</td>\n",
       "      <td>-0.5</td>\n",
       "      <td>-0.5</td>\n",
       "      <td>-0.5</td>\n",
       "      <td>-0.5</td>\n",
       "      <td>-0.5</td>\n",
       "      <td>-0.5</td>\n",
       "      <td>-0.5</td>\n",
       "      <td>...</td>\n",
       "      <td>-0.5</td>\n",
       "      <td>-0.5</td>\n",
       "      <td>-0.5</td>\n",
       "      <td>-0.5</td>\n",
       "      <td>-0.5</td>\n",
       "      <td>-0.5</td>\n",
       "      <td>-0.5</td>\n",
       "      <td>-0.5</td>\n",
       "      <td>-0.5</td>\n",
       "      <td>-0.5</td>\n",
       "    </tr>\n",
       "    <tr>\n",
       "      <th>...</th>\n",
       "      <td>...</td>\n",
       "      <td>...</td>\n",
       "      <td>...</td>\n",
       "      <td>...</td>\n",
       "      <td>...</td>\n",
       "      <td>...</td>\n",
       "      <td>...</td>\n",
       "      <td>...</td>\n",
       "      <td>...</td>\n",
       "      <td>...</td>\n",
       "      <td>...</td>\n",
       "      <td>...</td>\n",
       "      <td>...</td>\n",
       "      <td>...</td>\n",
       "      <td>...</td>\n",
       "      <td>...</td>\n",
       "      <td>...</td>\n",
       "      <td>...</td>\n",
       "      <td>...</td>\n",
       "      <td>...</td>\n",
       "      <td>...</td>\n",
       "    </tr>\n",
       "    <tr>\n",
       "      <th>41995</th>\n",
       "      <td>0.0</td>\n",
       "      <td>-0.5</td>\n",
       "      <td>-0.5</td>\n",
       "      <td>-0.5</td>\n",
       "      <td>-0.5</td>\n",
       "      <td>-0.5</td>\n",
       "      <td>-0.5</td>\n",
       "      <td>-0.5</td>\n",
       "      <td>-0.5</td>\n",
       "      <td>-0.5</td>\n",
       "      <td>...</td>\n",
       "      <td>-0.5</td>\n",
       "      <td>-0.5</td>\n",
       "      <td>-0.5</td>\n",
       "      <td>-0.5</td>\n",
       "      <td>-0.5</td>\n",
       "      <td>-0.5</td>\n",
       "      <td>-0.5</td>\n",
       "      <td>-0.5</td>\n",
       "      <td>-0.5</td>\n",
       "      <td>-0.5</td>\n",
       "    </tr>\n",
       "    <tr>\n",
       "      <th>41996</th>\n",
       "      <td>1.0</td>\n",
       "      <td>-0.5</td>\n",
       "      <td>-0.5</td>\n",
       "      <td>-0.5</td>\n",
       "      <td>-0.5</td>\n",
       "      <td>-0.5</td>\n",
       "      <td>-0.5</td>\n",
       "      <td>-0.5</td>\n",
       "      <td>-0.5</td>\n",
       "      <td>-0.5</td>\n",
       "      <td>...</td>\n",
       "      <td>-0.5</td>\n",
       "      <td>-0.5</td>\n",
       "      <td>-0.5</td>\n",
       "      <td>-0.5</td>\n",
       "      <td>-0.5</td>\n",
       "      <td>-0.5</td>\n",
       "      <td>-0.5</td>\n",
       "      <td>-0.5</td>\n",
       "      <td>-0.5</td>\n",
       "      <td>-0.5</td>\n",
       "    </tr>\n",
       "    <tr>\n",
       "      <th>41997</th>\n",
       "      <td>7.0</td>\n",
       "      <td>-0.5</td>\n",
       "      <td>-0.5</td>\n",
       "      <td>-0.5</td>\n",
       "      <td>-0.5</td>\n",
       "      <td>-0.5</td>\n",
       "      <td>-0.5</td>\n",
       "      <td>-0.5</td>\n",
       "      <td>-0.5</td>\n",
       "      <td>-0.5</td>\n",
       "      <td>...</td>\n",
       "      <td>-0.5</td>\n",
       "      <td>-0.5</td>\n",
       "      <td>-0.5</td>\n",
       "      <td>-0.5</td>\n",
       "      <td>-0.5</td>\n",
       "      <td>-0.5</td>\n",
       "      <td>-0.5</td>\n",
       "      <td>-0.5</td>\n",
       "      <td>-0.5</td>\n",
       "      <td>-0.5</td>\n",
       "    </tr>\n",
       "    <tr>\n",
       "      <th>41998</th>\n",
       "      <td>6.0</td>\n",
       "      <td>-0.5</td>\n",
       "      <td>-0.5</td>\n",
       "      <td>-0.5</td>\n",
       "      <td>-0.5</td>\n",
       "      <td>-0.5</td>\n",
       "      <td>-0.5</td>\n",
       "      <td>-0.5</td>\n",
       "      <td>-0.5</td>\n",
       "      <td>-0.5</td>\n",
       "      <td>...</td>\n",
       "      <td>-0.5</td>\n",
       "      <td>-0.5</td>\n",
       "      <td>-0.5</td>\n",
       "      <td>-0.5</td>\n",
       "      <td>-0.5</td>\n",
       "      <td>-0.5</td>\n",
       "      <td>-0.5</td>\n",
       "      <td>-0.5</td>\n",
       "      <td>-0.5</td>\n",
       "      <td>-0.5</td>\n",
       "    </tr>\n",
       "    <tr>\n",
       "      <th>41999</th>\n",
       "      <td>9.0</td>\n",
       "      <td>-0.5</td>\n",
       "      <td>-0.5</td>\n",
       "      <td>-0.5</td>\n",
       "      <td>-0.5</td>\n",
       "      <td>-0.5</td>\n",
       "      <td>-0.5</td>\n",
       "      <td>-0.5</td>\n",
       "      <td>-0.5</td>\n",
       "      <td>-0.5</td>\n",
       "      <td>...</td>\n",
       "      <td>-0.5</td>\n",
       "      <td>-0.5</td>\n",
       "      <td>-0.5</td>\n",
       "      <td>-0.5</td>\n",
       "      <td>-0.5</td>\n",
       "      <td>-0.5</td>\n",
       "      <td>-0.5</td>\n",
       "      <td>-0.5</td>\n",
       "      <td>-0.5</td>\n",
       "      <td>-0.5</td>\n",
       "    </tr>\n",
       "  </tbody>\n",
       "</table>\n",
       "<p>42000 rows × 785 columns</p>\n",
       "</div>"
      ],
      "text/plain": [
       "       label  pixel0  pixel1  pixel2  pixel3  pixel4  pixel5  pixel6  pixel7  \\\n",
       "0        1.0    -0.5    -0.5    -0.5    -0.5    -0.5    -0.5    -0.5    -0.5   \n",
       "1        0.0    -0.5    -0.5    -0.5    -0.5    -0.5    -0.5    -0.5    -0.5   \n",
       "2        1.0    -0.5    -0.5    -0.5    -0.5    -0.5    -0.5    -0.5    -0.5   \n",
       "3        4.0    -0.5    -0.5    -0.5    -0.5    -0.5    -0.5    -0.5    -0.5   \n",
       "4        0.0    -0.5    -0.5    -0.5    -0.5    -0.5    -0.5    -0.5    -0.5   \n",
       "...      ...     ...     ...     ...     ...     ...     ...     ...     ...   \n",
       "41995    0.0    -0.5    -0.5    -0.5    -0.5    -0.5    -0.5    -0.5    -0.5   \n",
       "41996    1.0    -0.5    -0.5    -0.5    -0.5    -0.5    -0.5    -0.5    -0.5   \n",
       "41997    7.0    -0.5    -0.5    -0.5    -0.5    -0.5    -0.5    -0.5    -0.5   \n",
       "41998    6.0    -0.5    -0.5    -0.5    -0.5    -0.5    -0.5    -0.5    -0.5   \n",
       "41999    9.0    -0.5    -0.5    -0.5    -0.5    -0.5    -0.5    -0.5    -0.5   \n",
       "\n",
       "       pixel8  ...  pixel774  pixel775  pixel776  pixel777  pixel778  \\\n",
       "0        -0.5  ...      -0.5      -0.5      -0.5      -0.5      -0.5   \n",
       "1        -0.5  ...      -0.5      -0.5      -0.5      -0.5      -0.5   \n",
       "2        -0.5  ...      -0.5      -0.5      -0.5      -0.5      -0.5   \n",
       "3        -0.5  ...      -0.5      -0.5      -0.5      -0.5      -0.5   \n",
       "4        -0.5  ...      -0.5      -0.5      -0.5      -0.5      -0.5   \n",
       "...       ...  ...       ...       ...       ...       ...       ...   \n",
       "41995    -0.5  ...      -0.5      -0.5      -0.5      -0.5      -0.5   \n",
       "41996    -0.5  ...      -0.5      -0.5      -0.5      -0.5      -0.5   \n",
       "41997    -0.5  ...      -0.5      -0.5      -0.5      -0.5      -0.5   \n",
       "41998    -0.5  ...      -0.5      -0.5      -0.5      -0.5      -0.5   \n",
       "41999    -0.5  ...      -0.5      -0.5      -0.5      -0.5      -0.5   \n",
       "\n",
       "       pixel779  pixel780  pixel781  pixel782  pixel783  \n",
       "0          -0.5      -0.5      -0.5      -0.5      -0.5  \n",
       "1          -0.5      -0.5      -0.5      -0.5      -0.5  \n",
       "2          -0.5      -0.5      -0.5      -0.5      -0.5  \n",
       "3          -0.5      -0.5      -0.5      -0.5      -0.5  \n",
       "4          -0.5      -0.5      -0.5      -0.5      -0.5  \n",
       "...         ...       ...       ...       ...       ...  \n",
       "41995      -0.5      -0.5      -0.5      -0.5      -0.5  \n",
       "41996      -0.5      -0.5      -0.5      -0.5      -0.5  \n",
       "41997      -0.5      -0.5      -0.5      -0.5      -0.5  \n",
       "41998      -0.5      -0.5      -0.5      -0.5      -0.5  \n",
       "41999      -0.5      -0.5      -0.5      -0.5      -0.5  \n",
       "\n",
       "[42000 rows x 785 columns]"
      ]
     },
     "execution_count": 3,
     "metadata": {},
     "output_type": "execute_result"
    }
   ],
   "source": [
    "# Grab mnist data\n",
    "import random\n",
    "import numpy as np\n",
    "\n",
    "df = pd.read_csv(\"../data/digit-recognizer/train.csv\")\n",
    "\n",
    "# Normalize images\n",
    "df.iloc[:, 1:] = df.iloc[:, 1:].div(255.0).sub(0.5)\n",
    "images = df.iloc[:, 1:].values.tolist()\n",
    "df.iloc[:, 0] = df.iloc[:, 0].astype(np.float32)\n",
    "labels = df.iloc[:, 0].values.tolist()\n",
    "\n",
    "# Split into training and testing\n",
    "test_images = images[0:20000]\n",
    "test_labels = labels[0:20000]\n",
    "train_images = images[20000:]\n",
    "train_labels = labels[20000:]\n",
    "\n",
    "df"
   ]
  },
  {
   "cell_type": "code",
   "execution_count": 4,
   "metadata": {},
   "outputs": [],
   "source": [
    "def test_mnist():\n",
    "    num_batches_to_test = 500\n",
    "    num_right = 0\n",
    "    for i in range(num_batches_to_test):\n",
    "\n",
    "        # Random sample one image from python list of images\n",
    "        rand_index = random.randint(0, len(test_images) - 1)\n",
    "        image = test_images[rand_index]\n",
    "        label = test_labels[rand_index]\n",
    "\n",
    "        prediction = CNN.classify([[image]])[0]\n",
    "        if prediction == label:\n",
    "            num_right += 1\n",
    "\n",
    "    print(\"Accuracy: \" + str(100.0 * num_right / (num_batches_to_test)))"
   ]
  },
  {
   "cell_type": "code",
   "execution_count": 5,
   "metadata": {},
   "outputs": [
    {
     "name": "stdout",
     "output_type": "stream",
     "text": [
      "Reading images for classification \"truck\"\n",
      "Reading images for classification \"airplane\"\n",
      "Reading images for classification \"cat\"\n",
      "Reading images for classification \"deer\"\n",
      "Reading images for classification \"dog\"\n",
      "Reading images for classification \"ship\"\n",
      "Reading images for classification \"bird\"\n",
      "Reading images for classification \"automobile\"\n",
      "Reading images for classification \"frog\"\n",
      "Reading images for classification \"horse\"\n"
     ]
    }
   ],
   "source": [
    "test_image_loader = rust_machine_learning.ImageBatchLoader(image_directory_path, input_width, input_height)\n",
    "def test_using_image_loader():\n",
    "    num_batches_to_test = 100\n",
    "    num_right = 0\n",
    "    for i in range(num_batches_to_test):\n",
    "\n",
    "        images, label = test_image_loader.batch_sample(1)\n",
    "\n",
    "        prediction = CNN.classify(images)[0]\n",
    "        if prediction == label[0]:\n",
    "            num_right += 1\n",
    "\n",
    "    print(\"Accuracy: \" + str(100.0 * num_right / (num_batches_to_test)))"
   ]
  },
  {
   "cell_type": "code",
   "execution_count": 6,
   "metadata": {},
   "outputs": [],
   "source": [
    "def train_using_raw_data():\n",
    "    learning_rate = 1e-3\n",
    "    batch_size = 1\n",
    "    num_iter = 3000\n",
    "\n",
    "    print(\"Accuracy before training:\")\n",
    "    test_mnist()\n",
    "    print(\"Training...\")\n",
    "    for i in range(0, num_iter):\n",
    "\n",
    "        # Create image and label batch from mnist\n",
    "        image_batch, label_batch = [], []\n",
    "        for j in range(batch_size):\n",
    "            rand_index = random.randint(0, len(train_images) - 1)\n",
    "            image = train_images[rand_index]\n",
    "            label = train_labels[rand_index]\n",
    "            image_batch.append([image])\n",
    "            label_batch.append(label)\n",
    "\n",
    "        # Train using MNIST dataset, select one image at a time randomly\n",
    "        CNN.train_raw_data(image_batch, label_batch, learning_rate)\n",
    "\n",
    "    print(\"Accuracy after training:\")\n",
    "    test_mnist()"
   ]
  },
  {
   "cell_type": "code",
   "execution_count": 7,
   "metadata": {},
   "outputs": [],
   "source": [
    "def train_using_set_img_loader():\n",
    "    learning_rate = 1e-5\n",
    "    batch_size = 8\n",
    "    num_iter = 2000\n",
    "    print(\"Accuracy before training:\")\n",
    "    test_using_image_loader()\n",
    "    print(\"Training...\")\n",
    "    CNN.train_using_image_loader(learning_rate, batch_size, num_iter)\n",
    "    test_using_image_loader()"
   ]
  },
  {
   "cell_type": "code",
   "execution_count": 8,
   "metadata": {},
   "outputs": [
    {
     "name": "stdout",
     "output_type": "stream",
     "text": [
      "Accuracy before training:\n"
     ]
    }
   ],
   "source": [
    "# Now train the model\n",
    "# train_using_raw_data()\n",
    "train_using_set_img_loader()"
   ]
  },
  {
   "cell_type": "code",
   "execution_count": null,
   "metadata": {},
   "outputs": [
    {
     "name": "stdout",
     "output_type": "stream",
     "text": [
      "Label: bird 6.0\n",
      "Prediction: frog (8.0)\n"
     ]
    },
    {
     "data": {
      "application/vnd.plotly.v1+json": {
       "config": {
        "plotlyServerURL": "https://plot.ly"
       },
       "data": [
        {
         "hovertemplate": "x: %{x}<br>y: %{y}<extra></extra>",
         "name": "0",
         "source": "data:image/png;base64,iVBORw0KGgoAAAANSUhEUgAAACAAAAAgCAIAAAD8GO2jAAAEvUlEQVR4XpWWi1sSWxDAfzyWXUCWh0jKQ1REQTAf4BO9ystSuyaV+ai0z8o0vVl2+/r379mDa7CieX8frrvnzDkzOzNnZsGCy7x5BD4Uf+scqPKqSDFxtRtPdo2evjYpXTfvnOLP0TIj8F7/96XAjceLJ2A8KhrYWsTuwC9/xrZNU8TmgS5z0g3dOPrQh4wnPYXSY5gWCKE4yecI9ZqSzs7KxFstxtiaZnJYPjR1WBGLb1SK+yCKfN9smlRMrnG3uLEFMSwMmPTSmORNjaVZq0A7N1uYVjhdCCfpYblT0Jw1GfAzYPpWiOS8PI62CTwUdxAtIePfjnjJfve1XnFNWeLagU4ubqJEsEeu8+cG4dSkh1KKQpyZOOtTJMNtAg8ghisqXee5lXiQtlEIU81Sz7O7Zj/Y8aky9/4HeoL4uHUQqUu8bc7BrJ/nExwsc3bUP5Czipl0TiyJB3vo1piNmJcBN0MKC1EaBb7vxeqrVjErjoh15JoW9S7p94CNTDfzaeZH+HuOkw3/2U5f4FaO/cbbPOKaZdiK8Ik4i2NehlxMRShPUJ3nYMN3ut2zs2ZmKzKhLWjNre9OIYxgMwZFhaKLEZgJ8VeG+jyNinKyHakvtIh2NNThtqagKjVqcut++Zt2sqgx6+BZlNUI1WEqedZn2K951lfa/fhHFOlrsUjEJQkFNyvd5Gzk7axH2RvhaZRqlL/iVLI0lp0rf6gQndBk6otzIypY/RFZWXMydsoRZhVqQXaz7D5mU5yAipZPW5c/FGF+XjN2F44ahDk3aRmMrQRnq3ypsDPJ8VMtl7cu/DMuWWp8oqLJrUWbmFFZCfIkSkk3zD8rc7rM8SIXrwLjU9bld2KXnhFnSxS3DIbtg1JNM87CS/UY74ocL3BZ48sC50LN60AsJeN2P80kskm3TIt0dFLysuS7rkBZNxMeQ/EolGOGZz6X+FXj6ikn+yE1KO2yEFONGuuQBnaD6K9Jm1GSR1XDIcLp4y4WQsasV5pfijCustjDzjSfalxUOJ/n6plrvSK3s6R/XLx7S+L7pMfjDuMalJoyGsNOw1Hh5gjMB9gYYisrm9cSb+YM/1y+0PWWU/ybYRv3VFaf7C4TAUZdpO1UYsz7KGpUe6n1s1vkfZmLbe2y0XXwxGj1Hegzo9Lr6Bwej8yflRhHcxzPcDzF3igbCT4sc/Xc/f2l/s9e4MdRtJRHVY3OauX2yA3iDA+6qI7QKLIUZy3OdprPy0bin9b59tr/77u+q7eJX19Sotg18eioN98MDyHro5ZhvUjKx9ogH8p8faF9bXjOX/k/7gQuP6Z/nj0+P0l23S6cEu1W97YiwpPropBkLMZhlU+bzm8HoV+H0Z9HiYu30U/78W+nY9NTKCoulUiY0B2a7mRGZztnFGTRxGsFXpY53w//eJ/4etD3fks/bIQn8jhaCmhc79AF7uPZAPUoSaexbC7D5hJ7m+rH192HDX21wNQozo6J8XAmXLwtUBo0EizsYijEYISBXoaTxqxHxa621AaP0U5UO3HzIzPiM6fuQcgUU3iVto8Vu0y+gIyh0t0yobZ91ETbjtgdCdtsoDaVeNz4cr5GWm2T630xc9BLzwBeU0jE5lEP/wFodIdFMMMxPwAAAABJRU5ErkJggg==",
         "type": "image",
         "xaxis": "x",
         "yaxis": "y"
        }
       ],
       "layout": {
        "margin": {
         "t": 60
        },
        "template": {
         "data": {
          "bar": [
           {
            "error_x": {
             "color": "#2a3f5f"
            },
            "error_y": {
             "color": "#2a3f5f"
            },
            "marker": {
             "line": {
              "color": "#E5ECF6",
              "width": 0.5
             },
             "pattern": {
              "fillmode": "overlay",
              "size": 10,
              "solidity": 0.2
             }
            },
            "type": "bar"
           }
          ],
          "barpolar": [
           {
            "marker": {
             "line": {
              "color": "#E5ECF6",
              "width": 0.5
             },
             "pattern": {
              "fillmode": "overlay",
              "size": 10,
              "solidity": 0.2
             }
            },
            "type": "barpolar"
           }
          ],
          "carpet": [
           {
            "aaxis": {
             "endlinecolor": "#2a3f5f",
             "gridcolor": "white",
             "linecolor": "white",
             "minorgridcolor": "white",
             "startlinecolor": "#2a3f5f"
            },
            "baxis": {
             "endlinecolor": "#2a3f5f",
             "gridcolor": "white",
             "linecolor": "white",
             "minorgridcolor": "white",
             "startlinecolor": "#2a3f5f"
            },
            "type": "carpet"
           }
          ],
          "choropleth": [
           {
            "colorbar": {
             "outlinewidth": 0,
             "ticks": ""
            },
            "type": "choropleth"
           }
          ],
          "contour": [
           {
            "colorbar": {
             "outlinewidth": 0,
             "ticks": ""
            },
            "colorscale": [
             [
              0,
              "#0d0887"
             ],
             [
              0.1111111111111111,
              "#46039f"
             ],
             [
              0.2222222222222222,
              "#7201a8"
             ],
             [
              0.3333333333333333,
              "#9c179e"
             ],
             [
              0.4444444444444444,
              "#bd3786"
             ],
             [
              0.5555555555555556,
              "#d8576b"
             ],
             [
              0.6666666666666666,
              "#ed7953"
             ],
             [
              0.7777777777777778,
              "#fb9f3a"
             ],
             [
              0.8888888888888888,
              "#fdca26"
             ],
             [
              1,
              "#f0f921"
             ]
            ],
            "type": "contour"
           }
          ],
          "contourcarpet": [
           {
            "colorbar": {
             "outlinewidth": 0,
             "ticks": ""
            },
            "type": "contourcarpet"
           }
          ],
          "heatmap": [
           {
            "colorbar": {
             "outlinewidth": 0,
             "ticks": ""
            },
            "colorscale": [
             [
              0,
              "#0d0887"
             ],
             [
              0.1111111111111111,
              "#46039f"
             ],
             [
              0.2222222222222222,
              "#7201a8"
             ],
             [
              0.3333333333333333,
              "#9c179e"
             ],
             [
              0.4444444444444444,
              "#bd3786"
             ],
             [
              0.5555555555555556,
              "#d8576b"
             ],
             [
              0.6666666666666666,
              "#ed7953"
             ],
             [
              0.7777777777777778,
              "#fb9f3a"
             ],
             [
              0.8888888888888888,
              "#fdca26"
             ],
             [
              1,
              "#f0f921"
             ]
            ],
            "type": "heatmap"
           }
          ],
          "heatmapgl": [
           {
            "colorbar": {
             "outlinewidth": 0,
             "ticks": ""
            },
            "colorscale": [
             [
              0,
              "#0d0887"
             ],
             [
              0.1111111111111111,
              "#46039f"
             ],
             [
              0.2222222222222222,
              "#7201a8"
             ],
             [
              0.3333333333333333,
              "#9c179e"
             ],
             [
              0.4444444444444444,
              "#bd3786"
             ],
             [
              0.5555555555555556,
              "#d8576b"
             ],
             [
              0.6666666666666666,
              "#ed7953"
             ],
             [
              0.7777777777777778,
              "#fb9f3a"
             ],
             [
              0.8888888888888888,
              "#fdca26"
             ],
             [
              1,
              "#f0f921"
             ]
            ],
            "type": "heatmapgl"
           }
          ],
          "histogram": [
           {
            "marker": {
             "pattern": {
              "fillmode": "overlay",
              "size": 10,
              "solidity": 0.2
             }
            },
            "type": "histogram"
           }
          ],
          "histogram2d": [
           {
            "colorbar": {
             "outlinewidth": 0,
             "ticks": ""
            },
            "colorscale": [
             [
              0,
              "#0d0887"
             ],
             [
              0.1111111111111111,
              "#46039f"
             ],
             [
              0.2222222222222222,
              "#7201a8"
             ],
             [
              0.3333333333333333,
              "#9c179e"
             ],
             [
              0.4444444444444444,
              "#bd3786"
             ],
             [
              0.5555555555555556,
              "#d8576b"
             ],
             [
              0.6666666666666666,
              "#ed7953"
             ],
             [
              0.7777777777777778,
              "#fb9f3a"
             ],
             [
              0.8888888888888888,
              "#fdca26"
             ],
             [
              1,
              "#f0f921"
             ]
            ],
            "type": "histogram2d"
           }
          ],
          "histogram2dcontour": [
           {
            "colorbar": {
             "outlinewidth": 0,
             "ticks": ""
            },
            "colorscale": [
             [
              0,
              "#0d0887"
             ],
             [
              0.1111111111111111,
              "#46039f"
             ],
             [
              0.2222222222222222,
              "#7201a8"
             ],
             [
              0.3333333333333333,
              "#9c179e"
             ],
             [
              0.4444444444444444,
              "#bd3786"
             ],
             [
              0.5555555555555556,
              "#d8576b"
             ],
             [
              0.6666666666666666,
              "#ed7953"
             ],
             [
              0.7777777777777778,
              "#fb9f3a"
             ],
             [
              0.8888888888888888,
              "#fdca26"
             ],
             [
              1,
              "#f0f921"
             ]
            ],
            "type": "histogram2dcontour"
           }
          ],
          "mesh3d": [
           {
            "colorbar": {
             "outlinewidth": 0,
             "ticks": ""
            },
            "type": "mesh3d"
           }
          ],
          "parcoords": [
           {
            "line": {
             "colorbar": {
              "outlinewidth": 0,
              "ticks": ""
             }
            },
            "type": "parcoords"
           }
          ],
          "pie": [
           {
            "automargin": true,
            "type": "pie"
           }
          ],
          "scatter": [
           {
            "fillpattern": {
             "fillmode": "overlay",
             "size": 10,
             "solidity": 0.2
            },
            "type": "scatter"
           }
          ],
          "scatter3d": [
           {
            "line": {
             "colorbar": {
              "outlinewidth": 0,
              "ticks": ""
             }
            },
            "marker": {
             "colorbar": {
              "outlinewidth": 0,
              "ticks": ""
             }
            },
            "type": "scatter3d"
           }
          ],
          "scattercarpet": [
           {
            "marker": {
             "colorbar": {
              "outlinewidth": 0,
              "ticks": ""
             }
            },
            "type": "scattercarpet"
           }
          ],
          "scattergeo": [
           {
            "marker": {
             "colorbar": {
              "outlinewidth": 0,
              "ticks": ""
             }
            },
            "type": "scattergeo"
           }
          ],
          "scattergl": [
           {
            "marker": {
             "colorbar": {
              "outlinewidth": 0,
              "ticks": ""
             }
            },
            "type": "scattergl"
           }
          ],
          "scattermapbox": [
           {
            "marker": {
             "colorbar": {
              "outlinewidth": 0,
              "ticks": ""
             }
            },
            "type": "scattermapbox"
           }
          ],
          "scatterpolar": [
           {
            "marker": {
             "colorbar": {
              "outlinewidth": 0,
              "ticks": ""
             }
            },
            "type": "scatterpolar"
           }
          ],
          "scatterpolargl": [
           {
            "marker": {
             "colorbar": {
              "outlinewidth": 0,
              "ticks": ""
             }
            },
            "type": "scatterpolargl"
           }
          ],
          "scatterternary": [
           {
            "marker": {
             "colorbar": {
              "outlinewidth": 0,
              "ticks": ""
             }
            },
            "type": "scatterternary"
           }
          ],
          "surface": [
           {
            "colorbar": {
             "outlinewidth": 0,
             "ticks": ""
            },
            "colorscale": [
             [
              0,
              "#0d0887"
             ],
             [
              0.1111111111111111,
              "#46039f"
             ],
             [
              0.2222222222222222,
              "#7201a8"
             ],
             [
              0.3333333333333333,
              "#9c179e"
             ],
             [
              0.4444444444444444,
              "#bd3786"
             ],
             [
              0.5555555555555556,
              "#d8576b"
             ],
             [
              0.6666666666666666,
              "#ed7953"
             ],
             [
              0.7777777777777778,
              "#fb9f3a"
             ],
             [
              0.8888888888888888,
              "#fdca26"
             ],
             [
              1,
              "#f0f921"
             ]
            ],
            "type": "surface"
           }
          ],
          "table": [
           {
            "cells": {
             "fill": {
              "color": "#EBF0F8"
             },
             "line": {
              "color": "white"
             }
            },
            "header": {
             "fill": {
              "color": "#C8D4E3"
             },
             "line": {
              "color": "white"
             }
            },
            "type": "table"
           }
          ]
         },
         "layout": {
          "annotationdefaults": {
           "arrowcolor": "#2a3f5f",
           "arrowhead": 0,
           "arrowwidth": 1
          },
          "autotypenumbers": "strict",
          "coloraxis": {
           "colorbar": {
            "outlinewidth": 0,
            "ticks": ""
           }
          },
          "colorscale": {
           "diverging": [
            [
             0,
             "#8e0152"
            ],
            [
             0.1,
             "#c51b7d"
            ],
            [
             0.2,
             "#de77ae"
            ],
            [
             0.3,
             "#f1b6da"
            ],
            [
             0.4,
             "#fde0ef"
            ],
            [
             0.5,
             "#f7f7f7"
            ],
            [
             0.6,
             "#e6f5d0"
            ],
            [
             0.7,
             "#b8e186"
            ],
            [
             0.8,
             "#7fbc41"
            ],
            [
             0.9,
             "#4d9221"
            ],
            [
             1,
             "#276419"
            ]
           ],
           "sequential": [
            [
             0,
             "#0d0887"
            ],
            [
             0.1111111111111111,
             "#46039f"
            ],
            [
             0.2222222222222222,
             "#7201a8"
            ],
            [
             0.3333333333333333,
             "#9c179e"
            ],
            [
             0.4444444444444444,
             "#bd3786"
            ],
            [
             0.5555555555555556,
             "#d8576b"
            ],
            [
             0.6666666666666666,
             "#ed7953"
            ],
            [
             0.7777777777777778,
             "#fb9f3a"
            ],
            [
             0.8888888888888888,
             "#fdca26"
            ],
            [
             1,
             "#f0f921"
            ]
           ],
           "sequentialminus": [
            [
             0,
             "#0d0887"
            ],
            [
             0.1111111111111111,
             "#46039f"
            ],
            [
             0.2222222222222222,
             "#7201a8"
            ],
            [
             0.3333333333333333,
             "#9c179e"
            ],
            [
             0.4444444444444444,
             "#bd3786"
            ],
            [
             0.5555555555555556,
             "#d8576b"
            ],
            [
             0.6666666666666666,
             "#ed7953"
            ],
            [
             0.7777777777777778,
             "#fb9f3a"
            ],
            [
             0.8888888888888888,
             "#fdca26"
            ],
            [
             1,
             "#f0f921"
            ]
           ]
          },
          "colorway": [
           "#636efa",
           "#EF553B",
           "#00cc96",
           "#ab63fa",
           "#FFA15A",
           "#19d3f3",
           "#FF6692",
           "#B6E880",
           "#FF97FF",
           "#FECB52"
          ],
          "font": {
           "color": "#2a3f5f"
          },
          "geo": {
           "bgcolor": "white",
           "lakecolor": "white",
           "landcolor": "#E5ECF6",
           "showlakes": true,
           "showland": true,
           "subunitcolor": "white"
          },
          "hoverlabel": {
           "align": "left"
          },
          "hovermode": "closest",
          "mapbox": {
           "style": "light"
          },
          "paper_bgcolor": "white",
          "plot_bgcolor": "#E5ECF6",
          "polar": {
           "angularaxis": {
            "gridcolor": "white",
            "linecolor": "white",
            "ticks": ""
           },
           "bgcolor": "#E5ECF6",
           "radialaxis": {
            "gridcolor": "white",
            "linecolor": "white",
            "ticks": ""
           }
          },
          "scene": {
           "xaxis": {
            "backgroundcolor": "#E5ECF6",
            "gridcolor": "white",
            "gridwidth": 2,
            "linecolor": "white",
            "showbackground": true,
            "ticks": "",
            "zerolinecolor": "white"
           },
           "yaxis": {
            "backgroundcolor": "#E5ECF6",
            "gridcolor": "white",
            "gridwidth": 2,
            "linecolor": "white",
            "showbackground": true,
            "ticks": "",
            "zerolinecolor": "white"
           },
           "zaxis": {
            "backgroundcolor": "#E5ECF6",
            "gridcolor": "white",
            "gridwidth": 2,
            "linecolor": "white",
            "showbackground": true,
            "ticks": "",
            "zerolinecolor": "white"
           }
          },
          "shapedefaults": {
           "line": {
            "color": "#2a3f5f"
           }
          },
          "ternary": {
           "aaxis": {
            "gridcolor": "white",
            "linecolor": "white",
            "ticks": ""
           },
           "baxis": {
            "gridcolor": "white",
            "linecolor": "white",
            "ticks": ""
           },
           "bgcolor": "#E5ECF6",
           "caxis": {
            "gridcolor": "white",
            "linecolor": "white",
            "ticks": ""
           }
          },
          "title": {
           "x": 0.05
          },
          "xaxis": {
           "automargin": true,
           "gridcolor": "white",
           "linecolor": "white",
           "ticks": "",
           "title": {
            "standoff": 15
           },
           "zerolinecolor": "white",
           "zerolinewidth": 2
          },
          "yaxis": {
           "automargin": true,
           "gridcolor": "white",
           "linecolor": "white",
           "ticks": "",
           "title": {
            "standoff": 15
           },
           "zerolinecolor": "white",
           "zerolinewidth": 2
          }
         }
        },
        "xaxis": {
         "anchor": "y",
         "domain": [
          0,
          1
         ]
        },
        "yaxis": {
         "anchor": "x",
         "domain": [
          0,
          1
         ]
        }
       }
      }
     },
     "metadata": {},
     "output_type": "display_data"
    }
   ],
   "source": [
    "# Interactive testing (for now animal only)\n",
    "images, label = test_image_loader.batch_sample(1)\n",
    "\n",
    "prediction = CNN.classify(images)\n",
    "prediction = prediction[0]\n",
    "\n",
    "# Assert animal image loader and CNN are in sync\n",
    "assert(test_image_loader.get_classifications_map() == CNN.get_image_loader_classification_map())\n",
    "\n",
    "# Now reverse mapping from string->float to float->string\n",
    "classification_map = {}\n",
    "for key, value in test_image_loader.get_classifications_map().items():\n",
    "    classification_map[value] = key\n",
    "\n",
    "print(\"Label: \" + classification_map[label[0]] + \" \" + str(label[0]))\n",
    "print(\"Prediction: \" + classification_map[prediction] + \" (\" + str(prediction) + \")\")\n",
    "view_image(np.array(images[0]), input_width, input_height, colorscale=\"\")"
   ]
  }
 ],
 "metadata": {
  "kernelspec": {
   "display_name": ".venv",
   "language": "python",
   "name": "python3"
  },
  "language_info": {
   "codemirror_mode": {
    "name": "ipython",
    "version": 3
   },
   "file_extension": ".py",
   "mimetype": "text/x-python",
   "name": "python",
   "nbconvert_exporter": "python",
   "pygments_lexer": "ipython3",
   "version": "3.10.12"
  },
  "orig_nbformat": 4
 },
 "nbformat": 4,
 "nbformat_minor": 2
}
