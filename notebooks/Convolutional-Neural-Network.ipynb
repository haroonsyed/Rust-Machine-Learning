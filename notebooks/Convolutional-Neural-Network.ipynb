{
 "cells": [
  {
   "cell_type": "code",
   "execution_count": 1,
   "metadata": {},
   "outputs": [],
   "source": [
    "import rust_machine_learning\n",
    "from syed_ml_lib import *\n",
    "import os"
   ]
  },
  {
   "cell_type": "code",
   "execution_count": 2,
   "metadata": {},
   "outputs": [
    {
     "name": "stdout",
     "output_type": "stream",
     "text": [
      "Reading images for classification \"truck\"\n",
      "Reading images for classification \"airplane\"\n",
      "Reading images for classification \"cat\"\n",
      "Reading images for classification \"deer\"\n",
      "Reading images for classification \"dog\"\n",
      "Reading images for classification \"ship\"\n",
      "Reading images for classification \"bird\"\n",
      "Reading images for classification \"automobile\"\n",
      "Reading images for classification \"frog\"\n",
      "Reading images for classification \"horse\"\n"
     ]
    }
   ],
   "source": [
    "# Setup the CNN\n",
    "num_classifications = 10\n",
    "input_height = 32\n",
    "input_width = 32\n",
    "input_depth = 3\n",
    "CNN = rust_machine_learning.ConvolutionalNeuralNetwork(num_classifications, input_height, input_width, input_depth)\n",
    "\n",
    "# Setup the layers\n",
    "\n",
    "# The api has 3 functions\n",
    "# add_convolutional_layer(filter_height, filter_width, num_filters)\n",
    "# add_max_pool_layer()\n",
    "# add_fully_connected_layer() \n",
    "\n",
    "# Add fully connected layer can only be called once, and must be called last\n",
    "CNN.add_convolutional_layer(3, 3, 32)\n",
    "# CNN.add_max_pool_layer()\n",
    "# CNN.add_convolutional_layer(3, 3, 32)\n",
    "# CNN.add_max_pool_layer()\n",
    "CNN.add_fully_connected_layer() \n",
    "\n",
    "image_directory = \"../data/cifar-10/\"\n",
    "image_directory_path = os.path.abspath(image_directory)\n",
    "CNN.set_image_loader(image_directory_path, input_height, input_width)"
   ]
  },
  {
   "cell_type": "code",
   "execution_count": 3,
   "metadata": {},
   "outputs": [
    {
     "data": {
      "text/html": [
       "<div>\n",
       "<style scoped>\n",
       "    .dataframe tbody tr th:only-of-type {\n",
       "        vertical-align: middle;\n",
       "    }\n",
       "\n",
       "    .dataframe tbody tr th {\n",
       "        vertical-align: top;\n",
       "    }\n",
       "\n",
       "    .dataframe thead th {\n",
       "        text-align: right;\n",
       "    }\n",
       "</style>\n",
       "<table border=\"1\" class=\"dataframe\">\n",
       "  <thead>\n",
       "    <tr style=\"text-align: right;\">\n",
       "      <th></th>\n",
       "      <th>label</th>\n",
       "      <th>pixel0</th>\n",
       "      <th>pixel1</th>\n",
       "      <th>pixel2</th>\n",
       "      <th>pixel3</th>\n",
       "      <th>pixel4</th>\n",
       "      <th>pixel5</th>\n",
       "      <th>pixel6</th>\n",
       "      <th>pixel7</th>\n",
       "      <th>pixel8</th>\n",
       "      <th>...</th>\n",
       "      <th>pixel774</th>\n",
       "      <th>pixel775</th>\n",
       "      <th>pixel776</th>\n",
       "      <th>pixel777</th>\n",
       "      <th>pixel778</th>\n",
       "      <th>pixel779</th>\n",
       "      <th>pixel780</th>\n",
       "      <th>pixel781</th>\n",
       "      <th>pixel782</th>\n",
       "      <th>pixel783</th>\n",
       "    </tr>\n",
       "  </thead>\n",
       "  <tbody>\n",
       "    <tr>\n",
       "      <th>0</th>\n",
       "      <td>1.0</td>\n",
       "      <td>-0.5</td>\n",
       "      <td>-0.5</td>\n",
       "      <td>-0.5</td>\n",
       "      <td>-0.5</td>\n",
       "      <td>-0.5</td>\n",
       "      <td>-0.5</td>\n",
       "      <td>-0.5</td>\n",
       "      <td>-0.5</td>\n",
       "      <td>-0.5</td>\n",
       "      <td>...</td>\n",
       "      <td>-0.5</td>\n",
       "      <td>-0.5</td>\n",
       "      <td>-0.5</td>\n",
       "      <td>-0.5</td>\n",
       "      <td>-0.5</td>\n",
       "      <td>-0.5</td>\n",
       "      <td>-0.5</td>\n",
       "      <td>-0.5</td>\n",
       "      <td>-0.5</td>\n",
       "      <td>-0.5</td>\n",
       "    </tr>\n",
       "    <tr>\n",
       "      <th>1</th>\n",
       "      <td>0.0</td>\n",
       "      <td>-0.5</td>\n",
       "      <td>-0.5</td>\n",
       "      <td>-0.5</td>\n",
       "      <td>-0.5</td>\n",
       "      <td>-0.5</td>\n",
       "      <td>-0.5</td>\n",
       "      <td>-0.5</td>\n",
       "      <td>-0.5</td>\n",
       "      <td>-0.5</td>\n",
       "      <td>...</td>\n",
       "      <td>-0.5</td>\n",
       "      <td>-0.5</td>\n",
       "      <td>-0.5</td>\n",
       "      <td>-0.5</td>\n",
       "      <td>-0.5</td>\n",
       "      <td>-0.5</td>\n",
       "      <td>-0.5</td>\n",
       "      <td>-0.5</td>\n",
       "      <td>-0.5</td>\n",
       "      <td>-0.5</td>\n",
       "    </tr>\n",
       "    <tr>\n",
       "      <th>2</th>\n",
       "      <td>1.0</td>\n",
       "      <td>-0.5</td>\n",
       "      <td>-0.5</td>\n",
       "      <td>-0.5</td>\n",
       "      <td>-0.5</td>\n",
       "      <td>-0.5</td>\n",
       "      <td>-0.5</td>\n",
       "      <td>-0.5</td>\n",
       "      <td>-0.5</td>\n",
       "      <td>-0.5</td>\n",
       "      <td>...</td>\n",
       "      <td>-0.5</td>\n",
       "      <td>-0.5</td>\n",
       "      <td>-0.5</td>\n",
       "      <td>-0.5</td>\n",
       "      <td>-0.5</td>\n",
       "      <td>-0.5</td>\n",
       "      <td>-0.5</td>\n",
       "      <td>-0.5</td>\n",
       "      <td>-0.5</td>\n",
       "      <td>-0.5</td>\n",
       "    </tr>\n",
       "    <tr>\n",
       "      <th>3</th>\n",
       "      <td>4.0</td>\n",
       "      <td>-0.5</td>\n",
       "      <td>-0.5</td>\n",
       "      <td>-0.5</td>\n",
       "      <td>-0.5</td>\n",
       "      <td>-0.5</td>\n",
       "      <td>-0.5</td>\n",
       "      <td>-0.5</td>\n",
       "      <td>-0.5</td>\n",
       "      <td>-0.5</td>\n",
       "      <td>...</td>\n",
       "      <td>-0.5</td>\n",
       "      <td>-0.5</td>\n",
       "      <td>-0.5</td>\n",
       "      <td>-0.5</td>\n",
       "      <td>-0.5</td>\n",
       "      <td>-0.5</td>\n",
       "      <td>-0.5</td>\n",
       "      <td>-0.5</td>\n",
       "      <td>-0.5</td>\n",
       "      <td>-0.5</td>\n",
       "    </tr>\n",
       "    <tr>\n",
       "      <th>4</th>\n",
       "      <td>0.0</td>\n",
       "      <td>-0.5</td>\n",
       "      <td>-0.5</td>\n",
       "      <td>-0.5</td>\n",
       "      <td>-0.5</td>\n",
       "      <td>-0.5</td>\n",
       "      <td>-0.5</td>\n",
       "      <td>-0.5</td>\n",
       "      <td>-0.5</td>\n",
       "      <td>-0.5</td>\n",
       "      <td>...</td>\n",
       "      <td>-0.5</td>\n",
       "      <td>-0.5</td>\n",
       "      <td>-0.5</td>\n",
       "      <td>-0.5</td>\n",
       "      <td>-0.5</td>\n",
       "      <td>-0.5</td>\n",
       "      <td>-0.5</td>\n",
       "      <td>-0.5</td>\n",
       "      <td>-0.5</td>\n",
       "      <td>-0.5</td>\n",
       "    </tr>\n",
       "    <tr>\n",
       "      <th>...</th>\n",
       "      <td>...</td>\n",
       "      <td>...</td>\n",
       "      <td>...</td>\n",
       "      <td>...</td>\n",
       "      <td>...</td>\n",
       "      <td>...</td>\n",
       "      <td>...</td>\n",
       "      <td>...</td>\n",
       "      <td>...</td>\n",
       "      <td>...</td>\n",
       "      <td>...</td>\n",
       "      <td>...</td>\n",
       "      <td>...</td>\n",
       "      <td>...</td>\n",
       "      <td>...</td>\n",
       "      <td>...</td>\n",
       "      <td>...</td>\n",
       "      <td>...</td>\n",
       "      <td>...</td>\n",
       "      <td>...</td>\n",
       "      <td>...</td>\n",
       "    </tr>\n",
       "    <tr>\n",
       "      <th>41995</th>\n",
       "      <td>0.0</td>\n",
       "      <td>-0.5</td>\n",
       "      <td>-0.5</td>\n",
       "      <td>-0.5</td>\n",
       "      <td>-0.5</td>\n",
       "      <td>-0.5</td>\n",
       "      <td>-0.5</td>\n",
       "      <td>-0.5</td>\n",
       "      <td>-0.5</td>\n",
       "      <td>-0.5</td>\n",
       "      <td>...</td>\n",
       "      <td>-0.5</td>\n",
       "      <td>-0.5</td>\n",
       "      <td>-0.5</td>\n",
       "      <td>-0.5</td>\n",
       "      <td>-0.5</td>\n",
       "      <td>-0.5</td>\n",
       "      <td>-0.5</td>\n",
       "      <td>-0.5</td>\n",
       "      <td>-0.5</td>\n",
       "      <td>-0.5</td>\n",
       "    </tr>\n",
       "    <tr>\n",
       "      <th>41996</th>\n",
       "      <td>1.0</td>\n",
       "      <td>-0.5</td>\n",
       "      <td>-0.5</td>\n",
       "      <td>-0.5</td>\n",
       "      <td>-0.5</td>\n",
       "      <td>-0.5</td>\n",
       "      <td>-0.5</td>\n",
       "      <td>-0.5</td>\n",
       "      <td>-0.5</td>\n",
       "      <td>-0.5</td>\n",
       "      <td>...</td>\n",
       "      <td>-0.5</td>\n",
       "      <td>-0.5</td>\n",
       "      <td>-0.5</td>\n",
       "      <td>-0.5</td>\n",
       "      <td>-0.5</td>\n",
       "      <td>-0.5</td>\n",
       "      <td>-0.5</td>\n",
       "      <td>-0.5</td>\n",
       "      <td>-0.5</td>\n",
       "      <td>-0.5</td>\n",
       "    </tr>\n",
       "    <tr>\n",
       "      <th>41997</th>\n",
       "      <td>7.0</td>\n",
       "      <td>-0.5</td>\n",
       "      <td>-0.5</td>\n",
       "      <td>-0.5</td>\n",
       "      <td>-0.5</td>\n",
       "      <td>-0.5</td>\n",
       "      <td>-0.5</td>\n",
       "      <td>-0.5</td>\n",
       "      <td>-0.5</td>\n",
       "      <td>-0.5</td>\n",
       "      <td>...</td>\n",
       "      <td>-0.5</td>\n",
       "      <td>-0.5</td>\n",
       "      <td>-0.5</td>\n",
       "      <td>-0.5</td>\n",
       "      <td>-0.5</td>\n",
       "      <td>-0.5</td>\n",
       "      <td>-0.5</td>\n",
       "      <td>-0.5</td>\n",
       "      <td>-0.5</td>\n",
       "      <td>-0.5</td>\n",
       "    </tr>\n",
       "    <tr>\n",
       "      <th>41998</th>\n",
       "      <td>6.0</td>\n",
       "      <td>-0.5</td>\n",
       "      <td>-0.5</td>\n",
       "      <td>-0.5</td>\n",
       "      <td>-0.5</td>\n",
       "      <td>-0.5</td>\n",
       "      <td>-0.5</td>\n",
       "      <td>-0.5</td>\n",
       "      <td>-0.5</td>\n",
       "      <td>-0.5</td>\n",
       "      <td>...</td>\n",
       "      <td>-0.5</td>\n",
       "      <td>-0.5</td>\n",
       "      <td>-0.5</td>\n",
       "      <td>-0.5</td>\n",
       "      <td>-0.5</td>\n",
       "      <td>-0.5</td>\n",
       "      <td>-0.5</td>\n",
       "      <td>-0.5</td>\n",
       "      <td>-0.5</td>\n",
       "      <td>-0.5</td>\n",
       "    </tr>\n",
       "    <tr>\n",
       "      <th>41999</th>\n",
       "      <td>9.0</td>\n",
       "      <td>-0.5</td>\n",
       "      <td>-0.5</td>\n",
       "      <td>-0.5</td>\n",
       "      <td>-0.5</td>\n",
       "      <td>-0.5</td>\n",
       "      <td>-0.5</td>\n",
       "      <td>-0.5</td>\n",
       "      <td>-0.5</td>\n",
       "      <td>-0.5</td>\n",
       "      <td>...</td>\n",
       "      <td>-0.5</td>\n",
       "      <td>-0.5</td>\n",
       "      <td>-0.5</td>\n",
       "      <td>-0.5</td>\n",
       "      <td>-0.5</td>\n",
       "      <td>-0.5</td>\n",
       "      <td>-0.5</td>\n",
       "      <td>-0.5</td>\n",
       "      <td>-0.5</td>\n",
       "      <td>-0.5</td>\n",
       "    </tr>\n",
       "  </tbody>\n",
       "</table>\n",
       "<p>42000 rows × 785 columns</p>\n",
       "</div>"
      ],
      "text/plain": [
       "       label  pixel0  pixel1  pixel2  pixel3  pixel4  pixel5  pixel6  pixel7  \\\n",
       "0        1.0    -0.5    -0.5    -0.5    -0.5    -0.5    -0.5    -0.5    -0.5   \n",
       "1        0.0    -0.5    -0.5    -0.5    -0.5    -0.5    -0.5    -0.5    -0.5   \n",
       "2        1.0    -0.5    -0.5    -0.5    -0.5    -0.5    -0.5    -0.5    -0.5   \n",
       "3        4.0    -0.5    -0.5    -0.5    -0.5    -0.5    -0.5    -0.5    -0.5   \n",
       "4        0.0    -0.5    -0.5    -0.5    -0.5    -0.5    -0.5    -0.5    -0.5   \n",
       "...      ...     ...     ...     ...     ...     ...     ...     ...     ...   \n",
       "41995    0.0    -0.5    -0.5    -0.5    -0.5    -0.5    -0.5    -0.5    -0.5   \n",
       "41996    1.0    -0.5    -0.5    -0.5    -0.5    -0.5    -0.5    -0.5    -0.5   \n",
       "41997    7.0    -0.5    -0.5    -0.5    -0.5    -0.5    -0.5    -0.5    -0.5   \n",
       "41998    6.0    -0.5    -0.5    -0.5    -0.5    -0.5    -0.5    -0.5    -0.5   \n",
       "41999    9.0    -0.5    -0.5    -0.5    -0.5    -0.5    -0.5    -0.5    -0.5   \n",
       "\n",
       "       pixel8  ...  pixel774  pixel775  pixel776  pixel777  pixel778  \\\n",
       "0        -0.5  ...      -0.5      -0.5      -0.5      -0.5      -0.5   \n",
       "1        -0.5  ...      -0.5      -0.5      -0.5      -0.5      -0.5   \n",
       "2        -0.5  ...      -0.5      -0.5      -0.5      -0.5      -0.5   \n",
       "3        -0.5  ...      -0.5      -0.5      -0.5      -0.5      -0.5   \n",
       "4        -0.5  ...      -0.5      -0.5      -0.5      -0.5      -0.5   \n",
       "...       ...  ...       ...       ...       ...       ...       ...   \n",
       "41995    -0.5  ...      -0.5      -0.5      -0.5      -0.5      -0.5   \n",
       "41996    -0.5  ...      -0.5      -0.5      -0.5      -0.5      -0.5   \n",
       "41997    -0.5  ...      -0.5      -0.5      -0.5      -0.5      -0.5   \n",
       "41998    -0.5  ...      -0.5      -0.5      -0.5      -0.5      -0.5   \n",
       "41999    -0.5  ...      -0.5      -0.5      -0.5      -0.5      -0.5   \n",
       "\n",
       "       pixel779  pixel780  pixel781  pixel782  pixel783  \n",
       "0          -0.5      -0.5      -0.5      -0.5      -0.5  \n",
       "1          -0.5      -0.5      -0.5      -0.5      -0.5  \n",
       "2          -0.5      -0.5      -0.5      -0.5      -0.5  \n",
       "3          -0.5      -0.5      -0.5      -0.5      -0.5  \n",
       "4          -0.5      -0.5      -0.5      -0.5      -0.5  \n",
       "...         ...       ...       ...       ...       ...  \n",
       "41995      -0.5      -0.5      -0.5      -0.5      -0.5  \n",
       "41996      -0.5      -0.5      -0.5      -0.5      -0.5  \n",
       "41997      -0.5      -0.5      -0.5      -0.5      -0.5  \n",
       "41998      -0.5      -0.5      -0.5      -0.5      -0.5  \n",
       "41999      -0.5      -0.5      -0.5      -0.5      -0.5  \n",
       "\n",
       "[42000 rows x 785 columns]"
      ]
     },
     "execution_count": 3,
     "metadata": {},
     "output_type": "execute_result"
    }
   ],
   "source": [
    "# Grab mnist data\n",
    "import random\n",
    "import numpy as np\n",
    "\n",
    "df = pd.read_csv(\"../data/digit-recognizer/train.csv\")\n",
    "\n",
    "# Normalize images\n",
    "df.iloc[:, 1:] = df.iloc[:, 1:].div(255.0).sub(0.5)\n",
    "images = df.iloc[:, 1:].values.tolist()\n",
    "df.iloc[:, 0] = df.iloc[:, 0].astype(np.float32)\n",
    "labels = df.iloc[:, 0].values.tolist()\n",
    "\n",
    "# Split into training and testing\n",
    "test_images = images[0:20000]\n",
    "test_labels = labels[0:20000]\n",
    "train_images = images[20000:]\n",
    "train_labels = labels[20000:]\n",
    "\n",
    "df"
   ]
  },
  {
   "cell_type": "code",
   "execution_count": 4,
   "metadata": {},
   "outputs": [],
   "source": [
    "def test_mnist():\n",
    "    num_batches_to_test = 500\n",
    "    num_right = 0\n",
    "    for i in range(num_batches_to_test):\n",
    "\n",
    "        # Random sample one image from python list of images\n",
    "        rand_index = random.randint(0, len(test_images) - 1)\n",
    "        image = test_images[rand_index]\n",
    "        label = test_labels[rand_index]\n",
    "\n",
    "        prediction = CNN.classify([[image]])[0]\n",
    "        if prediction == label:\n",
    "            num_right += 1\n",
    "\n",
    "    print(\"Accuracy: \" + str(100.0 * num_right / (num_batches_to_test)))"
   ]
  },
  {
   "cell_type": "code",
   "execution_count": 5,
   "metadata": {},
   "outputs": [
    {
     "name": "stdout",
     "output_type": "stream",
     "text": [
      "Reading images for classification \"truck\"\n",
      "Reading images for classification \"airplane\"\n",
      "Reading images for classification \"cat\"\n",
      "Reading images for classification \"deer\"\n",
      "Reading images for classification \"dog\"\n",
      "Reading images for classification \"ship\"\n",
      "Reading images for classification \"bird\"\n",
      "Reading images for classification \"automobile\"\n",
      "Reading images for classification \"frog\"\n",
      "Reading images for classification \"horse\"\n"
     ]
    }
   ],
   "source": [
    "test_image_loader = rust_machine_learning.ImageBatchLoader(image_directory_path, input_width, input_height)\n",
    "def test_using_image_loader():\n",
    "    num_batches_to_test = 100\n",
    "    num_right = 0\n",
    "    for i in range(num_batches_to_test):\n",
    "\n",
    "        images, label = test_image_loader.batch_sample(1)\n",
    "\n",
    "        prediction = CNN.classify(images)[0]\n",
    "        if prediction == label[0]:\n",
    "            num_right += 1\n",
    "\n",
    "    print(\"Accuracy: \" + str(100.0 * num_right / (num_batches_to_test)))"
   ]
  },
  {
   "cell_type": "code",
   "execution_count": 6,
   "metadata": {},
   "outputs": [],
   "source": [
    "def train_using_raw_data():\n",
    "    learning_rate = 1e-4\n",
    "    batch_size = 1\n",
    "    num_iter = 3000\n",
    "\n",
    "    print(\"Accuracy before training:\")\n",
    "    test_mnist()\n",
    "    print(\"Training...\")\n",
    "    for i in range(0, num_iter):\n",
    "\n",
    "        # Create image and label batch from mnist\n",
    "        image_batch, label_batch = [], []\n",
    "        for j in range(batch_size):\n",
    "            rand_index = random.randint(0, len(train_images) - 1)\n",
    "            image = train_images[rand_index]\n",
    "            label = train_labels[rand_index]\n",
    "            image_batch.append([image])\n",
    "            label_batch.append(label)\n",
    "\n",
    "        # Train using MNIST dataset, select one image at a time randomly\n",
    "        CNN.train_raw_data(image_batch, label_batch, learning_rate)\n",
    "\n",
    "    print(\"Accuracy after training:\")\n",
    "    test_mnist()\n",
    "\n",
    "    # Get the loss and accuracy and plot it\n",
    "    perfomance_info = CNN.get_performance_info() # Return a list of tuple (accuracy, loss)\n",
    "    accuracy = [x[0] for x in perfomance_info]\n",
    "    loss = [x[1] for x in perfomance_info]\n",
    "\n",
    "    # Normalize the accuracy and loss\n",
    "    accuracy = [x / 100.0 for x in accuracy]\n",
    "    loss = [x / max(loss) for x in loss]\n",
    "\n",
    "    # Use plotly\n",
    "    import plotly\n",
    "    import plotly.graph_objs as go\n",
    "    plotly.offline.init_notebook_mode(connected=True)\n",
    "\n",
    "    trace0 = go.Scatter(\n",
    "        x = list(range(len(accuracy))),\n",
    "        y = accuracy,\n",
    "        mode = 'lines',\n",
    "        name = 'accuracy'\n",
    "    )\n",
    "    trace1 = go.Scatter(\n",
    "        x = list(range(len(loss))),\n",
    "        y = loss,\n",
    "        mode = 'lines',\n",
    "        name = 'loss'\n",
    "    )\n",
    "\n",
    "    data = [trace0, trace1]\n",
    "    plotly.offline.iplot(data, filename='basic-line')"
   ]
  },
  {
   "cell_type": "code",
   "execution_count": 17,
   "metadata": {},
   "outputs": [],
   "source": [
    "def train_using_set_img_loader():\n",
    "    learning_rate = 1e-5\n",
    "    batch_size = 4\n",
    "    num_iter = 5000\n",
    "    print(\"Accuracy before training:\")\n",
    "    test_using_image_loader()\n",
    "    print(\"Training...\")\n",
    "    CNN.train_using_image_loader(learning_rate, batch_size, num_iter)\n",
    "    test_using_image_loader()\n",
    "\n",
    "    # Get the loss and accuracy and plot it\n",
    "    perfomance_info = CNN.get_performance_info() # Return a list of tuple (accuracy, loss)\n",
    "    accuracy = [x[0] for x in perfomance_info]\n",
    "    loss = [x[1] for x in perfomance_info]\n",
    "\n",
    "    # Normalize the accuracy and loss\n",
    "    accuracy = [x / 100.0 for x in accuracy]\n",
    "    loss = [x / max(loss) for x in loss]\n",
    "\n",
    "    # Use plotly\n",
    "    import plotly\n",
    "    import plotly.graph_objs as go\n",
    "    plotly.offline.init_notebook_mode(connected=True)\n",
    "\n",
    "    trace0 = go.Scatter(\n",
    "        x = list(range(len(accuracy))),\n",
    "        y = accuracy,\n",
    "        mode = 'lines',\n",
    "        name = 'accuracy'\n",
    "    )\n",
    "    trace1 = go.Scatter(\n",
    "        x = list(range(len(loss))),\n",
    "        y = loss,\n",
    "        mode = 'lines',\n",
    "        name = 'loss'\n",
    "    )\n",
    "\n",
    "    data = [trace0, trace1]\n",
    "    plotly.offline.iplot(data, filename='basic-line')"
   ]
  },
  {
   "cell_type": "code",
   "execution_count": 18,
   "metadata": {},
   "outputs": [
    {
     "name": "stdout",
     "output_type": "stream",
     "text": [
      "Accuracy before training:\n",
      "Accuracy: 39.0\n",
      "Training...\n",
      "Performance Info For 10000 Iteration:\n",
      "Accuracy: 32\n",
      "Loss: 112.88454\n",
      "Performance Info For 10050 Iteration:\n",
      "Accuracy: 34\n",
      "Loss: 177.67651\n",
      "Performance Info For 10100 Iteration:\n",
      "Accuracy: 32\n",
      "Loss: 212.93132\n",
      "Performance Info For 10150 Iteration:\n",
      "Accuracy: 39\n",
      "Loss: 170.31175\n",
      "Performance Info For 10200 Iteration:\n",
      "Accuracy: 32\n",
      "Loss: 198.20168\n",
      "Performance Info For 10250 Iteration:\n",
      "Accuracy: 38\n",
      "Loss: 162.54732\n",
      "Performance Info For 10300 Iteration:\n",
      "Accuracy: 29\n",
      "Loss: 196.03308\n",
      "Performance Info For 10350 Iteration:\n",
      "Accuracy: 42\n",
      "Loss: 172.38008\n",
      "Performance Info For 10400 Iteration:\n",
      "Accuracy: 30\n",
      "Loss: 172.05681\n",
      "Performance Info For 10450 Iteration:\n",
      "Accuracy: 34\n",
      "Loss: 209.56708\n",
      "Performance Info For 10500 Iteration:\n",
      "Accuracy: 42\n",
      "Loss: 183.38223\n",
      "Performance Info For 10550 Iteration:\n",
      "Accuracy: 34\n",
      "Loss: 209.08463\n",
      "Performance Info For 10600 Iteration:\n",
      "Accuracy: 39\n",
      "Loss: 173.45398\n",
      "Performance Info For 10650 Iteration:\n",
      "Accuracy: 32\n",
      "Loss: 204.40842\n",
      "Performance Info For 10700 Iteration:\n",
      "Accuracy: 37\n",
      "Loss: 180.27448\n",
      "Performance Info For 10750 Iteration:\n",
      "Accuracy: 36\n",
      "Loss: 197.98874\n",
      "Performance Info For 10800 Iteration:\n",
      "Accuracy: 35\n",
      "Loss: 205.11826\n",
      "Performance Info For 10850 Iteration:\n",
      "Accuracy: 35\n",
      "Loss: 181.29253\n",
      "Performance Info For 10900 Iteration:\n",
      "Accuracy: 28\n",
      "Loss: 211.22859\n",
      "Performance Info For 10950 Iteration:\n",
      "Accuracy: 35\n",
      "Loss: 199.31598\n",
      "Performance Info For 11000 Iteration:\n",
      "Accuracy: 36\n",
      "Loss: 192.18854\n",
      "Performance Info For 11050 Iteration:\n",
      "Accuracy: 36\n",
      "Loss: 180.62831\n",
      "Performance Info For 11100 Iteration:\n",
      "Accuracy: 26\n",
      "Loss: 189.32117\n",
      "Performance Info For 11150 Iteration:\n",
      "Accuracy: 41\n",
      "Loss: 174.03616\n",
      "Performance Info For 11200 Iteration:\n",
      "Accuracy: 40\n",
      "Loss: 177.64723\n",
      "Performance Info For 11250 Iteration:\n",
      "Accuracy: 33\n",
      "Loss: 184.75691\n",
      "Performance Info For 11300 Iteration:\n",
      "Accuracy: 31\n",
      "Loss: 205.6967\n",
      "Performance Info For 11350 Iteration:\n",
      "Accuracy: 36\n",
      "Loss: 198.32352\n",
      "Performance Info For 11400 Iteration:\n",
      "Accuracy: 36\n",
      "Loss: 186.85512\n",
      "Performance Info For 11450 Iteration:\n",
      "Accuracy: 31\n",
      "Loss: 177.18929\n",
      "Performance Info For 11500 Iteration:\n",
      "Accuracy: 35\n",
      "Loss: 194.17207\n",
      "Performance Info For 11550 Iteration:\n",
      "Accuracy: 40\n",
      "Loss: 164.82603\n",
      "Performance Info For 11600 Iteration:\n",
      "Accuracy: 32\n",
      "Loss: 199.49356\n",
      "Performance Info For 11650 Iteration:\n",
      "Accuracy: 30\n",
      "Loss: 206.23987\n",
      "Performance Info For 11700 Iteration:\n",
      "Accuracy: 33\n",
      "Loss: 196.27168\n",
      "Performance Info For 11750 Iteration:\n",
      "Accuracy: 42\n",
      "Loss: 179.39006\n",
      "Performance Info For 11800 Iteration:\n",
      "Accuracy: 38\n",
      "Loss: 191.71262\n",
      "Performance Info For 11850 Iteration:\n",
      "Accuracy: 33\n",
      "Loss: 195.60309\n",
      "Performance Info For 11900 Iteration:\n",
      "Accuracy: 35\n",
      "Loss: 186.4919\n",
      "Performance Info For 11950 Iteration:\n",
      "Accuracy: 47\n",
      "Loss: 156.33278\n",
      "Performance Info For 12000 Iteration:\n",
      "Accuracy: 30\n",
      "Loss: 200.80823\n",
      "Performance Info For 12050 Iteration:\n",
      "Accuracy: 36\n",
      "Loss: 198.37466\n",
      "Performance Info For 12100 Iteration:\n",
      "Accuracy: 48\n",
      "Loss: 174.09833\n",
      "Performance Info For 12150 Iteration:\n",
      "Accuracy: 38\n",
      "Loss: 181.62997\n",
      "Performance Info For 12200 Iteration:\n",
      "Accuracy: 42\n",
      "Loss: 167.51112\n",
      "Performance Info For 12250 Iteration:\n",
      "Accuracy: 28\n",
      "Loss: 209.42493\n",
      "Performance Info For 12300 Iteration:\n",
      "Accuracy: 40\n",
      "Loss: 190.6208\n",
      "Performance Info For 12350 Iteration:\n",
      "Accuracy: 35\n",
      "Loss: 188.988\n",
      "Performance Info For 12400 Iteration:\n",
      "Accuracy: 37\n",
      "Loss: 200.9474\n",
      "Performance Info For 12450 Iteration:\n",
      "Accuracy: 35\n",
      "Loss: 186.0433\n",
      "Performance Info For 12500 Iteration:\n",
      "Accuracy: 31\n",
      "Loss: 207.15971\n",
      "Performance Info For 12550 Iteration:\n",
      "Accuracy: 40\n",
      "Loss: 179.26654\n",
      "Performance Info For 12600 Iteration:\n",
      "Accuracy: 30\n",
      "Loss: 211.69405\n",
      "Performance Info For 12650 Iteration:\n",
      "Accuracy: 32\n",
      "Loss: 191.64594\n",
      "Performance Info For 12700 Iteration:\n",
      "Accuracy: 31\n",
      "Loss: 213.82097\n",
      "Performance Info For 12750 Iteration:\n",
      "Accuracy: 34\n",
      "Loss: 188.07759\n",
      "Performance Info For 12800 Iteration:\n",
      "Accuracy: 35\n",
      "Loss: 186.70569\n",
      "Performance Info For 12850 Iteration:\n",
      "Accuracy: 37\n",
      "Loss: 200.61305\n",
      "Performance Info For 12900 Iteration:\n",
      "Accuracy: 37\n",
      "Loss: 192.89156\n",
      "Performance Info For 12950 Iteration:\n",
      "Accuracy: 29\n",
      "Loss: 191.60284\n",
      "Performance Info For 13000 Iteration:\n",
      "Accuracy: 40\n",
      "Loss: 178.83275\n",
      "Performance Info For 13050 Iteration:\n",
      "Accuracy: 39\n",
      "Loss: 184.41205\n",
      "Performance Info For 13100 Iteration:\n",
      "Accuracy: 39\n",
      "Loss: 187.1827\n",
      "Performance Info For 13150 Iteration:\n",
      "Accuracy: 36\n",
      "Loss: 180.97394\n",
      "Performance Info For 13200 Iteration:\n",
      "Accuracy: 31\n",
      "Loss: 198.18834\n",
      "Performance Info For 13250 Iteration:\n",
      "Accuracy: 32\n",
      "Loss: 201.78937\n",
      "Performance Info For 13300 Iteration:\n",
      "Accuracy: 36\n",
      "Loss: 180.82878\n",
      "Performance Info For 13350 Iteration:\n",
      "Accuracy: 36\n",
      "Loss: 197.319\n",
      "Performance Info For 13400 Iteration:\n",
      "Accuracy: 40\n",
      "Loss: 179.187\n",
      "Performance Info For 13450 Iteration:\n",
      "Accuracy: 35\n",
      "Loss: 201.11887\n",
      "Performance Info For 13500 Iteration:\n",
      "Accuracy: 29\n",
      "Loss: 204.75072\n",
      "Performance Info For 13550 Iteration:\n",
      "Accuracy: 30\n",
      "Loss: 197.39954\n",
      "Performance Info For 13600 Iteration:\n",
      "Accuracy: 34\n",
      "Loss: 190.13503\n",
      "Performance Info For 13650 Iteration:\n",
      "Accuracy: 36\n",
      "Loss: 194.14157\n",
      "Performance Info For 13700 Iteration:\n",
      "Accuracy: 31\n",
      "Loss: 204.43767\n",
      "Performance Info For 13750 Iteration:\n",
      "Accuracy: 31\n",
      "Loss: 188.23654\n",
      "Performance Info For 13800 Iteration:\n",
      "Accuracy: 36\n",
      "Loss: 185.5182\n",
      "Performance Info For 13850 Iteration:\n",
      "Accuracy: 33\n",
      "Loss: 202.83408\n",
      "Performance Info For 13900 Iteration:\n",
      "Accuracy: 31\n",
      "Loss: 212.55507\n",
      "Performance Info For 13950 Iteration:\n",
      "Accuracy: 38\n",
      "Loss: 177.5238\n",
      "Performance Info For 14000 Iteration:\n",
      "Accuracy: 31\n",
      "Loss: 202.09914\n",
      "Performance Info For 14050 Iteration:\n",
      "Accuracy: 32\n",
      "Loss: 180.95436\n",
      "Performance Info For 14100 Iteration:\n",
      "Accuracy: 43\n",
      "Loss: 182.99745\n",
      "Performance Info For 14150 Iteration:\n",
      "Accuracy: 32\n",
      "Loss: 188.92148\n",
      "Performance Info For 14200 Iteration:\n",
      "Accuracy: 39\n",
      "Loss: 180.33083\n",
      "Performance Info For 14250 Iteration:\n",
      "Accuracy: 33\n",
      "Loss: 180.35405\n",
      "Performance Info For 14300 Iteration:\n",
      "Accuracy: 36\n",
      "Loss: 183.25616\n",
      "Performance Info For 14350 Iteration:\n",
      "Accuracy: 30\n",
      "Loss: 204.0028\n",
      "Performance Info For 14400 Iteration:\n",
      "Accuracy: 40\n",
      "Loss: 182.08046\n",
      "Performance Info For 14450 Iteration:\n",
      "Accuracy: 35\n",
      "Loss: 211.08453\n",
      "Performance Info For 14500 Iteration:\n",
      "Accuracy: 31\n",
      "Loss: 219.42758\n",
      "Performance Info For 14550 Iteration:\n",
      "Accuracy: 44\n",
      "Loss: 157.91486\n",
      "Performance Info For 14600 Iteration:\n",
      "Accuracy: 38\n",
      "Loss: 198.67233\n",
      "Performance Info For 14650 Iteration:\n",
      "Accuracy: 32\n",
      "Loss: 185.1264\n",
      "Performance Info For 14700 Iteration:\n",
      "Accuracy: 40\n",
      "Loss: 181.2334\n",
      "Performance Info For 14750 Iteration:\n",
      "Accuracy: 43\n",
      "Loss: 181.97064\n",
      "Performance Info For 14800 Iteration:\n",
      "Accuracy: 36\n",
      "Loss: 189.66437\n",
      "Performance Info For 14850 Iteration:\n",
      "Accuracy: 40\n",
      "Loss: 187.92807\n",
      "Performance Info For 14900 Iteration:\n",
      "Accuracy: 34\n",
      "Loss: 194.88358\n",
      "Performance Info For 14950 Iteration:\n",
      "Accuracy: 35\n",
      "Loss: 194.94243\n",
      "Accuracy: 46.0\n"
     ]
    },
    {
     "data": {
      "text/html": [
       "        <script type=\"text/javascript\">\n",
       "        window.PlotlyConfig = {MathJaxConfig: 'local'};\n",
       "        if (window.MathJax && window.MathJax.Hub && window.MathJax.Hub.Config) {window.MathJax.Hub.Config({SVG: {font: \"STIX-Web\"}});}\n",
       "        if (typeof require !== 'undefined') {\n",
       "        require.undef(\"plotly\");\n",
       "        requirejs.config({\n",
       "            paths: {\n",
       "                'plotly': ['https://cdn.plot.ly/plotly-2.20.0.min']\n",
       "            }\n",
       "        });\n",
       "        require(['plotly'], function(Plotly) {\n",
       "            window._Plotly = Plotly;\n",
       "        });\n",
       "        }\n",
       "        </script>\n",
       "        "
      ]
     },
     "metadata": {},
     "output_type": "display_data"
    },
    {
     "data": {
      "application/vnd.plotly.v1+json": {
       "config": {
        "linkText": "Export to plot.ly",
        "plotlyServerURL": "https://plot.ly",
        "showLink": false
       },
       "data": [
        {
         "mode": "lines",
         "name": "accuracy",
         "type": "scatter",
         "x": [
          0,
          1,
          2,
          3,
          4,
          5,
          6,
          7,
          8,
          9,
          10,
          11,
          12,
          13,
          14,
          15,
          16,
          17,
          18,
          19,
          20,
          21,
          22,
          23,
          24,
          25,
          26,
          27,
          28,
          29,
          30,
          31,
          32,
          33,
          34,
          35,
          36,
          37,
          38,
          39,
          40,
          41,
          42,
          43,
          44,
          45,
          46,
          47,
          48,
          49,
          50,
          51,
          52,
          53,
          54,
          55,
          56,
          57,
          58,
          59,
          60,
          61,
          62,
          63,
          64,
          65,
          66,
          67,
          68,
          69,
          70,
          71,
          72,
          73,
          74,
          75,
          76,
          77,
          78,
          79,
          80,
          81,
          82,
          83,
          84,
          85,
          86,
          87,
          88,
          89,
          90,
          91,
          92,
          93,
          94,
          95,
          96,
          97,
          98,
          99,
          100,
          101,
          102,
          103,
          104,
          105,
          106,
          107,
          108,
          109,
          110,
          111,
          112,
          113,
          114,
          115,
          116,
          117,
          118,
          119,
          120,
          121,
          122,
          123,
          124,
          125,
          126,
          127,
          128,
          129,
          130,
          131,
          132,
          133,
          134,
          135,
          136,
          137,
          138,
          139,
          140,
          141,
          142,
          143,
          144,
          145,
          146,
          147,
          148,
          149,
          150,
          151,
          152,
          153,
          154,
          155,
          156,
          157,
          158,
          159,
          160,
          161,
          162,
          163,
          164,
          165,
          166,
          167,
          168,
          169,
          170,
          171,
          172,
          173,
          174,
          175,
          176,
          177,
          178,
          179,
          180,
          181,
          182,
          183,
          184,
          185,
          186,
          187,
          188,
          189,
          190,
          191,
          192,
          193,
          194,
          195,
          196,
          197,
          198,
          199,
          200,
          201,
          202,
          203,
          204,
          205,
          206,
          207,
          208,
          209,
          210,
          211,
          212,
          213,
          214,
          215,
          216,
          217,
          218,
          219,
          220,
          221,
          222,
          223,
          224,
          225,
          226,
          227,
          228,
          229,
          230,
          231,
          232,
          233,
          234,
          235,
          236,
          237,
          238,
          239,
          240,
          241,
          242,
          243,
          244,
          245,
          246,
          247,
          248,
          249,
          250,
          251,
          252,
          253,
          254,
          255,
          256,
          257,
          258,
          259,
          260,
          261,
          262,
          263,
          264,
          265,
          266,
          267,
          268,
          269,
          270,
          271,
          272,
          273,
          274,
          275,
          276,
          277,
          278,
          279,
          280,
          281,
          282,
          283,
          284,
          285,
          286,
          287,
          288,
          289,
          290,
          291,
          292,
          293,
          294,
          295,
          296,
          297,
          298,
          299
         ],
         "y": [
          0.12,
          0.12,
          0.1,
          0.2,
          0.16,
          0.1,
          0.16,
          0.18,
          0.22,
          0.16,
          0.22,
          0.16,
          0.28,
          0.32,
          0.2,
          0.28,
          0.32,
          0.32,
          0.14,
          0.2,
          0.22,
          0.24,
          0.28,
          0.28,
          0.12,
          0.2,
          0.28,
          0.22,
          0.3,
          0.32,
          0.28,
          0.34,
          0.24,
          0.24,
          0.3,
          0.28,
          0.22,
          0.26,
          0.28,
          0.26,
          0.1,
          0.16,
          0.2,
          0.18,
          0.14,
          0.16,
          0.24,
          0.2,
          0.18,
          0.22,
          0.3,
          0.24,
          0.24,
          0.32,
          0.18,
          0.32,
          0.14,
          0.14,
          0.26,
          0.32,
          0.2,
          0.2,
          0.14,
          0.4,
          0.24,
          0.18,
          0.16,
          0.26,
          0.32,
          0.22,
          0.32,
          0.28,
          0.4,
          0.24,
          0.28,
          0.2,
          0.3,
          0.18,
          0.28,
          0.34,
          0.22,
          0.28,
          0.22,
          0.3,
          0.24,
          0.24,
          0.28,
          0.26,
          0.36,
          0.34,
          0.28,
          0.2,
          0.28,
          0.36,
          0.2,
          0.3,
          0.38,
          0.26,
          0.4,
          0.22,
          0.22,
          0.32,
          0.32,
          0.32,
          0.28,
          0.26,
          0.3,
          0.3,
          0.3,
          0.32,
          0.28,
          0.36,
          0.34,
          0.32,
          0.34,
          0.26,
          0.44,
          0.38,
          0.48,
          0.3,
          0.28,
          0.42,
          0.42,
          0.3,
          0.4,
          0.34,
          0.36,
          0.4,
          0.32,
          0.3,
          0.44,
          0.42,
          0.26,
          0.22,
          0.3,
          0.4,
          0.32,
          0.3,
          0.4,
          0.26,
          0.28,
          0.34,
          0.34,
          0.3,
          0.44,
          0.3,
          0.38,
          0.26,
          0.38,
          0.4,
          0.32,
          0.26,
          0.42,
          0.38,
          0.28,
          0.22,
          0.32,
          0.32,
          0.34,
          0.32,
          0.38,
          0.42,
          0.32,
          0.34,
          0.42,
          0.24,
          0.26,
          0.34,
          0.52,
          0.28,
          0.36,
          0.32,
          0.26,
          0.36,
          0.38,
          0.24,
          0.34,
          0.34,
          0.36,
          0.36,
          0.34,
          0.38,
          0.46,
          0.34,
          0.3,
          0.32,
          0.34,
          0.4,
          0.38,
          0.38,
          0.42,
          0.32,
          0.24,
          0.5,
          0.34,
          0.44,
          0.32,
          0.44,
          0.4,
          0.32,
          0.34,
          0.32,
          0.39,
          0.32,
          0.38,
          0.29,
          0.42,
          0.3,
          0.34,
          0.42,
          0.34,
          0.39,
          0.32,
          0.37,
          0.36,
          0.35,
          0.35,
          0.28,
          0.35,
          0.36,
          0.36,
          0.26,
          0.41,
          0.4,
          0.33,
          0.31,
          0.36,
          0.36,
          0.31,
          0.35,
          0.4,
          0.32,
          0.3,
          0.33,
          0.42,
          0.38,
          0.33,
          0.35,
          0.47,
          0.3,
          0.36,
          0.48,
          0.38,
          0.42,
          0.28,
          0.4,
          0.35,
          0.37,
          0.35,
          0.31,
          0.4,
          0.3,
          0.32,
          0.31,
          0.34,
          0.35,
          0.37,
          0.37,
          0.29,
          0.4,
          0.39,
          0.39,
          0.36,
          0.31,
          0.32,
          0.36,
          0.36,
          0.4,
          0.35,
          0.29,
          0.3,
          0.34,
          0.36,
          0.31,
          0.31,
          0.36,
          0.33,
          0.31,
          0.38,
          0.31,
          0.32,
          0.43,
          0.32,
          0.39,
          0.33,
          0.36,
          0.3,
          0.4,
          0.35,
          0.31,
          0.44,
          0.38,
          0.32,
          0.4,
          0.43,
          0.36,
          0.4,
          0.34,
          0.35,
          0.3
         ]
        },
        {
         "mode": "lines",
         "name": "loss",
         "type": "scatter",
         "x": [
          0,
          1,
          2,
          3,
          4,
          5,
          6,
          7,
          8,
          9,
          10,
          11,
          12,
          13,
          14,
          15,
          16,
          17,
          18,
          19,
          20,
          21,
          22,
          23,
          24,
          25,
          26,
          27,
          28,
          29,
          30,
          31,
          32,
          33,
          34,
          35,
          36,
          37,
          38,
          39,
          40,
          41,
          42,
          43,
          44,
          45,
          46,
          47,
          48,
          49,
          50,
          51,
          52,
          53,
          54,
          55,
          56,
          57,
          58,
          59,
          60,
          61,
          62,
          63,
          64,
          65,
          66,
          67,
          68,
          69,
          70,
          71,
          72,
          73,
          74,
          75,
          76,
          77,
          78,
          79,
          80,
          81,
          82,
          83,
          84,
          85,
          86,
          87,
          88,
          89,
          90,
          91,
          92,
          93,
          94,
          95,
          96,
          97,
          98,
          99,
          100,
          101,
          102,
          103,
          104,
          105,
          106,
          107,
          108,
          109,
          110,
          111,
          112,
          113,
          114,
          115,
          116,
          117,
          118,
          119,
          120,
          121,
          122,
          123,
          124,
          125,
          126,
          127,
          128,
          129,
          130,
          131,
          132,
          133,
          134,
          135,
          136,
          137,
          138,
          139,
          140,
          141,
          142,
          143,
          144,
          145,
          146,
          147,
          148,
          149,
          150,
          151,
          152,
          153,
          154,
          155,
          156,
          157,
          158,
          159,
          160,
          161,
          162,
          163,
          164,
          165,
          166,
          167,
          168,
          169,
          170,
          171,
          172,
          173,
          174,
          175,
          176,
          177,
          178,
          179,
          180,
          181,
          182,
          183,
          184,
          185,
          186,
          187,
          188,
          189,
          190,
          191,
          192,
          193,
          194,
          195,
          196,
          197,
          198,
          199,
          200,
          201,
          202,
          203,
          204,
          205,
          206,
          207,
          208,
          209,
          210,
          211,
          212,
          213,
          214,
          215,
          216,
          217,
          218,
          219,
          220,
          221,
          222,
          223,
          224,
          225,
          226,
          227,
          228,
          229,
          230,
          231,
          232,
          233,
          234,
          235,
          236,
          237,
          238,
          239,
          240,
          241,
          242,
          243,
          244,
          245,
          246,
          247,
          248,
          249,
          250,
          251,
          252,
          253,
          254,
          255,
          256,
          257,
          258,
          259,
          260,
          261,
          262,
          263,
          264,
          265,
          266,
          267,
          268,
          269,
          270,
          271,
          272,
          273,
          274,
          275,
          276,
          277,
          278,
          279,
          280,
          281,
          282,
          283,
          284,
          285,
          286,
          287,
          288,
          289,
          290,
          291,
          292,
          293,
          294,
          295,
          296,
          297,
          298,
          299
         ],
         "y": [
          0.5302588118861178,
          0.5260663016051146,
          0.5198471795580737,
          0.5093274487521423,
          0.5105860710747666,
          0.516621540448858,
          0.5139252327090069,
          0.500128299576521,
          0.48204202301381477,
          0.489493481616583,
          0.5060314708778041,
          0.4945066571833925,
          0.4653813320708748,
          0.45968893367822855,
          0.4938793800397569,
          0.45196449947240713,
          0.44963275028535354,
          0.4505173219726898,
          0.513414051035833,
          0.4561596870074461,
          0.4842878219154591,
          0.45121424249078923,
          0.45206644374296523,
          0.46170779183842237,
          0.49256251874947066,
          0.47599681817050227,
          0.49094434468679116,
          0.4585820108277889,
          0.452849766550402,
          0.4481324101697824,
          0.47965738936717084,
          0.45306815398675115,
          0.4718747161936874,
          0.46530713388759676,
          0.4327995676895353,
          0.46906488592881174,
          0.4732182804852659,
          0.4495538929846626,
          0.47554933428166074,
          0.4552373903768781,
          0.5356563298699634,
          0.5426738299322008,
          0.5633753664534923,
          0.5269817834072279,
          0.5656413664537705,
          0.5268936774107769,
          0.5546743256066623,
          0.5874194372537187,
          0.5002092430491879,
          0.5839419276479398,
          0.479614031759604,
          0.5248555221598055,
          0.4738437496131889,
          0.4944412556919464,
          0.6428356056150293,
          0.4510960956178845,
          0.6149101770840127,
          0.5788794488834321,
          0.587131267364774,
          0.5114730766294081,
          0.5810279974014642,
          0.5134320268843592,
          0.6997086174062123,
          0.4219347144997158,
          0.5604861225753988,
          0.5622539099382868,
          0.6195973882795799,
          0.6387780706608701,
          0.5262300661052268,
          0.6037543724426139,
          0.518076610632551,
          0.5570897998290173,
          0.4761889546094874,
          0.5428276503458943,
          0.5683167081652633,
          0.5618067042057088,
          0.5188353166106715,
          0.618757982215523,
          0.5978567642666,
          0.5193881521842986,
          0.7326202055769496,
          0.586565984298357,
          0.6534018580560242,
          0.498748435892561,
          0.5936890098930447,
          0.6543313867494422,
          0.5228374636988692,
          0.5510045752532995,
          0.5483581617932066,
          0.5796234125795892,
          0.5194889838298029,
          0.5753604939943977,
          0.5608487688038849,
          0.5647049881623648,
          0.5663730217352695,
          0.5915549950397785,
          0.4877442959538138,
          0.561035272578535,
          0.46778679266774525,
          0.6137371921210013,
          0.5826193989237856,
          0.47114000119329036,
          0.5180961858795919,
          0.5309222841135361,
          0.5030135449583273,
          0.5139917815950398,
          0.4306374590536595,
          0.48413281933764596,
          0.5750690209998244,
          0.4850469103584419,
          0.5107750782557877,
          0.4512661881729904,
          0.48543048784575343,
          0.5325985232962129,
          0.5232855386697706,
          0.5473805120662101,
          0.446683216037155,
          0.4114014583454737,
          0.38242466867764374,
          0.4872095057677787,
          0.5492787894861939,
          0.4274161313665275,
          0.480716156414499,
          0.4722851357604229,
          0.40257309146904474,
          0.3986071046950969,
          0.4618305630592071,
          0.47504701883938466,
          0.5067552334753275,
          0.4905771088799579,
          0.4295684697636492,
          0.4090008307136808,
          0.4958553325963119,
          0.4901141177794285,
          0.4832346527629331,
          0.41539446104651007,
          0.5009590480268776,
          0.4749755674492083,
          0.41865813802475393,
          0.5019949019520032,
          0.4631595936860197,
          0.4785413916686358,
          0.5054134771994615,
          0.5253840885994456,
          0.41904946911790947,
          0.4768990527805682,
          0.42220261375096085,
          0.47374681215537306,
          0.4872178852252155,
          0.43987634980542273,
          0.4336647032079623,
          0.4553375961707896,
          0.4029512796787518,
          0.4371677336509136,
          0.4752624856349675,
          0.48145744285662034,
          0.43697917847382056,
          0.40101145266691357,
          0.4538666015410135,
          0.5237487731570305,
          0.4483798997051961,
          0.40484934848153803,
          0.49166483894821883,
          0.43179636235583335,
          0.40417353306992865,
          0.4954095176450512,
          0.4668609843143511,
          0.46442857732945786,
          0.41814448771474183,
          0.44919211599449976,
          0.45433393883315953,
          0.431872785789219,
          0.5259850452066513,
          0.4569250339663567,
          0.4187073716833864,
          0.5503980902903576,
          0.39939449553788675,
          0.40781299916010716,
          0.4389887531687214,
          0.49783378855923816,
          0.4240706416772934,
          0.43233428179983235,
          0.3782312891583172,
          0.5246460009543541,
          0.4932281466879308,
          0.45732258880590715,
          0.4382332807571636,
          0.46591045482304183,
          0.45174677265718366,
          0.4428044312518019,
          0.35895259146369024,
          0.46385953915348427,
          0.48882430718576375,
          0.408588533592167,
          0.4386750972121371,
          0.3753727467778031,
          0.4475294716991996,
          0.4021301971585503,
          0.4248883515528004,
          0.5144500788086234,
          0.8097273470582124,
          0.9703945076376842,
          0.7761638301449904,
          0.9032669174987131,
          0.7407788764795653,
          0.893383955918908,
          0.7855898505229963,
          0.7841165958735796,
          0.9550626039348263,
          0.8357300899571264,
          0.9528639177503055,
          0.790483940439512,
          0.9315529756253057,
          0.8215670684123939,
          0.9022964998345666,
          0.9347879329693474,
          0.8262066453478435,
          0.9626346432778046,
          0.9083451468616394,
          0.8758631710398163,
          0.8231796098107383,
          0.8627956679387216,
          0.7931371339585266,
          0.8095939015908173,
          0.8419949339399736,
          0.9374240894172251,
          0.9038221869396456,
          0.8515571118089433,
          0.8075068951460759,
          0.8849027628288103,
          0.7511637014977185,
          0.9091544425101767,
          0.9398994715448229,
          0.8944713382918396,
          0.8175365146157904,
          0.8736942475754857,
          0.8914243450428312,
          0.849901803885092,
          0.7124572838903157,
          0.9151457893469768,
          0.9040552818884251,
          0.7934204361128608,
          0.8277445017894488,
          0.7634004909179893,
          0.9544147779972276,
          0.8687185187956445,
          0.8612773519746244,
          0.9157800551667318,
          0.8478574248877258,
          0.944091495052365,
          0.8169735958776129,
          0.9647558629429517,
          0.8733903618576555,
          0.9744489133338794,
          0.8571283036097869,
          0.850876115736927,
          0.914256315155497,
          0.8790670444214161,
          0.8731939835356526,
          0.8149966697741358,
          0.8404232815123579,
          0.853049976474934,
          0.8247547391916473,
          0.9032061403551471,
          0.9196171512820988,
          0.8240932140580732,
          0.8992442911556183,
          0.8166110887272585,
          0.9165614656498572,
          0.9331129454898561,
          0.899611318345254,
          0.8665046730947652,
          0.8847637542361461,
          0.931686282014569,
          0.8578526920589029,
          0.8454643770141121,
          0.9243782129656145,
          0.968679813351584,
          0.8090314000870351,
          0.9210288638582249,
          0.8246655205701424,
          0.8339765233332077,
          0.8609741616474528,
          0.8218238761826335,
          0.82192971464088,
          0.8351555581949495,
          0.9297044881764812,
          0.8297975036309824,
          0.9619781249569727,
          1,
          0.7196673028564006,
          0.9054118499853203,
          0.8436788224198956,
          0.8259371814676164,
          0.8292970309739517,
          0.8643597406081581,
          0.8564468903033753,
          0.8881452999310312,
          0.8884135121080726,
          0.9432766362785585
         ]
        }
       ],
       "layout": {
        "template": {
         "data": {
          "bar": [
           {
            "error_x": {
             "color": "#2a3f5f"
            },
            "error_y": {
             "color": "#2a3f5f"
            },
            "marker": {
             "line": {
              "color": "#E5ECF6",
              "width": 0.5
             },
             "pattern": {
              "fillmode": "overlay",
              "size": 10,
              "solidity": 0.2
             }
            },
            "type": "bar"
           }
          ],
          "barpolar": [
           {
            "marker": {
             "line": {
              "color": "#E5ECF6",
              "width": 0.5
             },
             "pattern": {
              "fillmode": "overlay",
              "size": 10,
              "solidity": 0.2
             }
            },
            "type": "barpolar"
           }
          ],
          "carpet": [
           {
            "aaxis": {
             "endlinecolor": "#2a3f5f",
             "gridcolor": "white",
             "linecolor": "white",
             "minorgridcolor": "white",
             "startlinecolor": "#2a3f5f"
            },
            "baxis": {
             "endlinecolor": "#2a3f5f",
             "gridcolor": "white",
             "linecolor": "white",
             "minorgridcolor": "white",
             "startlinecolor": "#2a3f5f"
            },
            "type": "carpet"
           }
          ],
          "choropleth": [
           {
            "colorbar": {
             "outlinewidth": 0,
             "ticks": ""
            },
            "type": "choropleth"
           }
          ],
          "contour": [
           {
            "colorbar": {
             "outlinewidth": 0,
             "ticks": ""
            },
            "colorscale": [
             [
              0,
              "#0d0887"
             ],
             [
              0.1111111111111111,
              "#46039f"
             ],
             [
              0.2222222222222222,
              "#7201a8"
             ],
             [
              0.3333333333333333,
              "#9c179e"
             ],
             [
              0.4444444444444444,
              "#bd3786"
             ],
             [
              0.5555555555555556,
              "#d8576b"
             ],
             [
              0.6666666666666666,
              "#ed7953"
             ],
             [
              0.7777777777777778,
              "#fb9f3a"
             ],
             [
              0.8888888888888888,
              "#fdca26"
             ],
             [
              1,
              "#f0f921"
             ]
            ],
            "type": "contour"
           }
          ],
          "contourcarpet": [
           {
            "colorbar": {
             "outlinewidth": 0,
             "ticks": ""
            },
            "type": "contourcarpet"
           }
          ],
          "heatmap": [
           {
            "colorbar": {
             "outlinewidth": 0,
             "ticks": ""
            },
            "colorscale": [
             [
              0,
              "#0d0887"
             ],
             [
              0.1111111111111111,
              "#46039f"
             ],
             [
              0.2222222222222222,
              "#7201a8"
             ],
             [
              0.3333333333333333,
              "#9c179e"
             ],
             [
              0.4444444444444444,
              "#bd3786"
             ],
             [
              0.5555555555555556,
              "#d8576b"
             ],
             [
              0.6666666666666666,
              "#ed7953"
             ],
             [
              0.7777777777777778,
              "#fb9f3a"
             ],
             [
              0.8888888888888888,
              "#fdca26"
             ],
             [
              1,
              "#f0f921"
             ]
            ],
            "type": "heatmap"
           }
          ],
          "heatmapgl": [
           {
            "colorbar": {
             "outlinewidth": 0,
             "ticks": ""
            },
            "colorscale": [
             [
              0,
              "#0d0887"
             ],
             [
              0.1111111111111111,
              "#46039f"
             ],
             [
              0.2222222222222222,
              "#7201a8"
             ],
             [
              0.3333333333333333,
              "#9c179e"
             ],
             [
              0.4444444444444444,
              "#bd3786"
             ],
             [
              0.5555555555555556,
              "#d8576b"
             ],
             [
              0.6666666666666666,
              "#ed7953"
             ],
             [
              0.7777777777777778,
              "#fb9f3a"
             ],
             [
              0.8888888888888888,
              "#fdca26"
             ],
             [
              1,
              "#f0f921"
             ]
            ],
            "type": "heatmapgl"
           }
          ],
          "histogram": [
           {
            "marker": {
             "pattern": {
              "fillmode": "overlay",
              "size": 10,
              "solidity": 0.2
             }
            },
            "type": "histogram"
           }
          ],
          "histogram2d": [
           {
            "colorbar": {
             "outlinewidth": 0,
             "ticks": ""
            },
            "colorscale": [
             [
              0,
              "#0d0887"
             ],
             [
              0.1111111111111111,
              "#46039f"
             ],
             [
              0.2222222222222222,
              "#7201a8"
             ],
             [
              0.3333333333333333,
              "#9c179e"
             ],
             [
              0.4444444444444444,
              "#bd3786"
             ],
             [
              0.5555555555555556,
              "#d8576b"
             ],
             [
              0.6666666666666666,
              "#ed7953"
             ],
             [
              0.7777777777777778,
              "#fb9f3a"
             ],
             [
              0.8888888888888888,
              "#fdca26"
             ],
             [
              1,
              "#f0f921"
             ]
            ],
            "type": "histogram2d"
           }
          ],
          "histogram2dcontour": [
           {
            "colorbar": {
             "outlinewidth": 0,
             "ticks": ""
            },
            "colorscale": [
             [
              0,
              "#0d0887"
             ],
             [
              0.1111111111111111,
              "#46039f"
             ],
             [
              0.2222222222222222,
              "#7201a8"
             ],
             [
              0.3333333333333333,
              "#9c179e"
             ],
             [
              0.4444444444444444,
              "#bd3786"
             ],
             [
              0.5555555555555556,
              "#d8576b"
             ],
             [
              0.6666666666666666,
              "#ed7953"
             ],
             [
              0.7777777777777778,
              "#fb9f3a"
             ],
             [
              0.8888888888888888,
              "#fdca26"
             ],
             [
              1,
              "#f0f921"
             ]
            ],
            "type": "histogram2dcontour"
           }
          ],
          "mesh3d": [
           {
            "colorbar": {
             "outlinewidth": 0,
             "ticks": ""
            },
            "type": "mesh3d"
           }
          ],
          "parcoords": [
           {
            "line": {
             "colorbar": {
              "outlinewidth": 0,
              "ticks": ""
             }
            },
            "type": "parcoords"
           }
          ],
          "pie": [
           {
            "automargin": true,
            "type": "pie"
           }
          ],
          "scatter": [
           {
            "fillpattern": {
             "fillmode": "overlay",
             "size": 10,
             "solidity": 0.2
            },
            "type": "scatter"
           }
          ],
          "scatter3d": [
           {
            "line": {
             "colorbar": {
              "outlinewidth": 0,
              "ticks": ""
             }
            },
            "marker": {
             "colorbar": {
              "outlinewidth": 0,
              "ticks": ""
             }
            },
            "type": "scatter3d"
           }
          ],
          "scattercarpet": [
           {
            "marker": {
             "colorbar": {
              "outlinewidth": 0,
              "ticks": ""
             }
            },
            "type": "scattercarpet"
           }
          ],
          "scattergeo": [
           {
            "marker": {
             "colorbar": {
              "outlinewidth": 0,
              "ticks": ""
             }
            },
            "type": "scattergeo"
           }
          ],
          "scattergl": [
           {
            "marker": {
             "colorbar": {
              "outlinewidth": 0,
              "ticks": ""
             }
            },
            "type": "scattergl"
           }
          ],
          "scattermapbox": [
           {
            "marker": {
             "colorbar": {
              "outlinewidth": 0,
              "ticks": ""
             }
            },
            "type": "scattermapbox"
           }
          ],
          "scatterpolar": [
           {
            "marker": {
             "colorbar": {
              "outlinewidth": 0,
              "ticks": ""
             }
            },
            "type": "scatterpolar"
           }
          ],
          "scatterpolargl": [
           {
            "marker": {
             "colorbar": {
              "outlinewidth": 0,
              "ticks": ""
             }
            },
            "type": "scatterpolargl"
           }
          ],
          "scatterternary": [
           {
            "marker": {
             "colorbar": {
              "outlinewidth": 0,
              "ticks": ""
             }
            },
            "type": "scatterternary"
           }
          ],
          "surface": [
           {
            "colorbar": {
             "outlinewidth": 0,
             "ticks": ""
            },
            "colorscale": [
             [
              0,
              "#0d0887"
             ],
             [
              0.1111111111111111,
              "#46039f"
             ],
             [
              0.2222222222222222,
              "#7201a8"
             ],
             [
              0.3333333333333333,
              "#9c179e"
             ],
             [
              0.4444444444444444,
              "#bd3786"
             ],
             [
              0.5555555555555556,
              "#d8576b"
             ],
             [
              0.6666666666666666,
              "#ed7953"
             ],
             [
              0.7777777777777778,
              "#fb9f3a"
             ],
             [
              0.8888888888888888,
              "#fdca26"
             ],
             [
              1,
              "#f0f921"
             ]
            ],
            "type": "surface"
           }
          ],
          "table": [
           {
            "cells": {
             "fill": {
              "color": "#EBF0F8"
             },
             "line": {
              "color": "white"
             }
            },
            "header": {
             "fill": {
              "color": "#C8D4E3"
             },
             "line": {
              "color": "white"
             }
            },
            "type": "table"
           }
          ]
         },
         "layout": {
          "annotationdefaults": {
           "arrowcolor": "#2a3f5f",
           "arrowhead": 0,
           "arrowwidth": 1
          },
          "autotypenumbers": "strict",
          "coloraxis": {
           "colorbar": {
            "outlinewidth": 0,
            "ticks": ""
           }
          },
          "colorscale": {
           "diverging": [
            [
             0,
             "#8e0152"
            ],
            [
             0.1,
             "#c51b7d"
            ],
            [
             0.2,
             "#de77ae"
            ],
            [
             0.3,
             "#f1b6da"
            ],
            [
             0.4,
             "#fde0ef"
            ],
            [
             0.5,
             "#f7f7f7"
            ],
            [
             0.6,
             "#e6f5d0"
            ],
            [
             0.7,
             "#b8e186"
            ],
            [
             0.8,
             "#7fbc41"
            ],
            [
             0.9,
             "#4d9221"
            ],
            [
             1,
             "#276419"
            ]
           ],
           "sequential": [
            [
             0,
             "#0d0887"
            ],
            [
             0.1111111111111111,
             "#46039f"
            ],
            [
             0.2222222222222222,
             "#7201a8"
            ],
            [
             0.3333333333333333,
             "#9c179e"
            ],
            [
             0.4444444444444444,
             "#bd3786"
            ],
            [
             0.5555555555555556,
             "#d8576b"
            ],
            [
             0.6666666666666666,
             "#ed7953"
            ],
            [
             0.7777777777777778,
             "#fb9f3a"
            ],
            [
             0.8888888888888888,
             "#fdca26"
            ],
            [
             1,
             "#f0f921"
            ]
           ],
           "sequentialminus": [
            [
             0,
             "#0d0887"
            ],
            [
             0.1111111111111111,
             "#46039f"
            ],
            [
             0.2222222222222222,
             "#7201a8"
            ],
            [
             0.3333333333333333,
             "#9c179e"
            ],
            [
             0.4444444444444444,
             "#bd3786"
            ],
            [
             0.5555555555555556,
             "#d8576b"
            ],
            [
             0.6666666666666666,
             "#ed7953"
            ],
            [
             0.7777777777777778,
             "#fb9f3a"
            ],
            [
             0.8888888888888888,
             "#fdca26"
            ],
            [
             1,
             "#f0f921"
            ]
           ]
          },
          "colorway": [
           "#636efa",
           "#EF553B",
           "#00cc96",
           "#ab63fa",
           "#FFA15A",
           "#19d3f3",
           "#FF6692",
           "#B6E880",
           "#FF97FF",
           "#FECB52"
          ],
          "font": {
           "color": "#2a3f5f"
          },
          "geo": {
           "bgcolor": "white",
           "lakecolor": "white",
           "landcolor": "#E5ECF6",
           "showlakes": true,
           "showland": true,
           "subunitcolor": "white"
          },
          "hoverlabel": {
           "align": "left"
          },
          "hovermode": "closest",
          "mapbox": {
           "style": "light"
          },
          "paper_bgcolor": "white",
          "plot_bgcolor": "#E5ECF6",
          "polar": {
           "angularaxis": {
            "gridcolor": "white",
            "linecolor": "white",
            "ticks": ""
           },
           "bgcolor": "#E5ECF6",
           "radialaxis": {
            "gridcolor": "white",
            "linecolor": "white",
            "ticks": ""
           }
          },
          "scene": {
           "xaxis": {
            "backgroundcolor": "#E5ECF6",
            "gridcolor": "white",
            "gridwidth": 2,
            "linecolor": "white",
            "showbackground": true,
            "ticks": "",
            "zerolinecolor": "white"
           },
           "yaxis": {
            "backgroundcolor": "#E5ECF6",
            "gridcolor": "white",
            "gridwidth": 2,
            "linecolor": "white",
            "showbackground": true,
            "ticks": "",
            "zerolinecolor": "white"
           },
           "zaxis": {
            "backgroundcolor": "#E5ECF6",
            "gridcolor": "white",
            "gridwidth": 2,
            "linecolor": "white",
            "showbackground": true,
            "ticks": "",
            "zerolinecolor": "white"
           }
          },
          "shapedefaults": {
           "line": {
            "color": "#2a3f5f"
           }
          },
          "ternary": {
           "aaxis": {
            "gridcolor": "white",
            "linecolor": "white",
            "ticks": ""
           },
           "baxis": {
            "gridcolor": "white",
            "linecolor": "white",
            "ticks": ""
           },
           "bgcolor": "#E5ECF6",
           "caxis": {
            "gridcolor": "white",
            "linecolor": "white",
            "ticks": ""
           }
          },
          "title": {
           "x": 0.05
          },
          "xaxis": {
           "automargin": true,
           "gridcolor": "white",
           "linecolor": "white",
           "ticks": "",
           "title": {
            "standoff": 15
           },
           "zerolinecolor": "white",
           "zerolinewidth": 2
          },
          "yaxis": {
           "automargin": true,
           "gridcolor": "white",
           "linecolor": "white",
           "ticks": "",
           "title": {
            "standoff": 15
           },
           "zerolinecolor": "white",
           "zerolinewidth": 2
          }
         }
        }
       }
      },
      "text/html": [
       "<div>                            <div id=\"472df8e2-308b-4330-8d10-d5bc50b5106f\" class=\"plotly-graph-div\" style=\"height:525px; width:100%;\"></div>            <script type=\"text/javascript\">                require([\"plotly\"], function(Plotly) {                    window.PLOTLYENV=window.PLOTLYENV || {};                                    if (document.getElementById(\"472df8e2-308b-4330-8d10-d5bc50b5106f\")) {                    Plotly.newPlot(                        \"472df8e2-308b-4330-8d10-d5bc50b5106f\",                        [{\"mode\":\"lines\",\"name\":\"accuracy\",\"x\":[0,1,2,3,4,5,6,7,8,9,10,11,12,13,14,15,16,17,18,19,20,21,22,23,24,25,26,27,28,29,30,31,32,33,34,35,36,37,38,39,40,41,42,43,44,45,46,47,48,49,50,51,52,53,54,55,56,57,58,59,60,61,62,63,64,65,66,67,68,69,70,71,72,73,74,75,76,77,78,79,80,81,82,83,84,85,86,87,88,89,90,91,92,93,94,95,96,97,98,99,100,101,102,103,104,105,106,107,108,109,110,111,112,113,114,115,116,117,118,119,120,121,122,123,124,125,126,127,128,129,130,131,132,133,134,135,136,137,138,139,140,141,142,143,144,145,146,147,148,149,150,151,152,153,154,155,156,157,158,159,160,161,162,163,164,165,166,167,168,169,170,171,172,173,174,175,176,177,178,179,180,181,182,183,184,185,186,187,188,189,190,191,192,193,194,195,196,197,198,199,200,201,202,203,204,205,206,207,208,209,210,211,212,213,214,215,216,217,218,219,220,221,222,223,224,225,226,227,228,229,230,231,232,233,234,235,236,237,238,239,240,241,242,243,244,245,246,247,248,249,250,251,252,253,254,255,256,257,258,259,260,261,262,263,264,265,266,267,268,269,270,271,272,273,274,275,276,277,278,279,280,281,282,283,284,285,286,287,288,289,290,291,292,293,294,295,296,297,298,299],\"y\":[0.12,0.12,0.1,0.2,0.16,0.1,0.16,0.18,0.22,0.16,0.22,0.16,0.28,0.32,0.2,0.28,0.32,0.32,0.14,0.2,0.22,0.24,0.28,0.28,0.12,0.2,0.28,0.22,0.3,0.32,0.28,0.34,0.24,0.24,0.3,0.28,0.22,0.26,0.28,0.26,0.1,0.16,0.2,0.18,0.14,0.16,0.24,0.2,0.18,0.22,0.3,0.24,0.24,0.32,0.18,0.32,0.14,0.14,0.26,0.32,0.2,0.2,0.14,0.4,0.24,0.18,0.16,0.26,0.32,0.22,0.32,0.28,0.4,0.24,0.28,0.2,0.3,0.18,0.28,0.34,0.22,0.28,0.22,0.3,0.24,0.24,0.28,0.26,0.36,0.34,0.28,0.2,0.28,0.36,0.2,0.3,0.38,0.26,0.4,0.22,0.22,0.32,0.32,0.32,0.28,0.26,0.3,0.3,0.3,0.32,0.28,0.36,0.34,0.32,0.34,0.26,0.44,0.38,0.48,0.3,0.28,0.42,0.42,0.3,0.4,0.34,0.36,0.4,0.32,0.3,0.44,0.42,0.26,0.22,0.3,0.4,0.32,0.3,0.4,0.26,0.28,0.34,0.34,0.3,0.44,0.3,0.38,0.26,0.38,0.4,0.32,0.26,0.42,0.38,0.28,0.22,0.32,0.32,0.34,0.32,0.38,0.42,0.32,0.34,0.42,0.24,0.26,0.34,0.52,0.28,0.36,0.32,0.26,0.36,0.38,0.24,0.34,0.34,0.36,0.36,0.34,0.38,0.46,0.34,0.3,0.32,0.34,0.4,0.38,0.38,0.42,0.32,0.24,0.5,0.34,0.44,0.32,0.44,0.4,0.32,0.34,0.32,0.39,0.32,0.38,0.29,0.42,0.3,0.34,0.42,0.34,0.39,0.32,0.37,0.36,0.35,0.35,0.28,0.35,0.36,0.36,0.26,0.41,0.4,0.33,0.31,0.36,0.36,0.31,0.35,0.4,0.32,0.3,0.33,0.42,0.38,0.33,0.35,0.47,0.3,0.36,0.48,0.38,0.42,0.28,0.4,0.35,0.37,0.35,0.31,0.4,0.3,0.32,0.31,0.34,0.35,0.37,0.37,0.29,0.4,0.39,0.39,0.36,0.31,0.32,0.36,0.36,0.4,0.35,0.29,0.3,0.34,0.36,0.31,0.31,0.36,0.33,0.31,0.38,0.31,0.32,0.43,0.32,0.39,0.33,0.36,0.3,0.4,0.35,0.31,0.44,0.38,0.32,0.4,0.43,0.36,0.4,0.34,0.35,0.3],\"type\":\"scatter\"},{\"mode\":\"lines\",\"name\":\"loss\",\"x\":[0,1,2,3,4,5,6,7,8,9,10,11,12,13,14,15,16,17,18,19,20,21,22,23,24,25,26,27,28,29,30,31,32,33,34,35,36,37,38,39,40,41,42,43,44,45,46,47,48,49,50,51,52,53,54,55,56,57,58,59,60,61,62,63,64,65,66,67,68,69,70,71,72,73,74,75,76,77,78,79,80,81,82,83,84,85,86,87,88,89,90,91,92,93,94,95,96,97,98,99,100,101,102,103,104,105,106,107,108,109,110,111,112,113,114,115,116,117,118,119,120,121,122,123,124,125,126,127,128,129,130,131,132,133,134,135,136,137,138,139,140,141,142,143,144,145,146,147,148,149,150,151,152,153,154,155,156,157,158,159,160,161,162,163,164,165,166,167,168,169,170,171,172,173,174,175,176,177,178,179,180,181,182,183,184,185,186,187,188,189,190,191,192,193,194,195,196,197,198,199,200,201,202,203,204,205,206,207,208,209,210,211,212,213,214,215,216,217,218,219,220,221,222,223,224,225,226,227,228,229,230,231,232,233,234,235,236,237,238,239,240,241,242,243,244,245,246,247,248,249,250,251,252,253,254,255,256,257,258,259,260,261,262,263,264,265,266,267,268,269,270,271,272,273,274,275,276,277,278,279,280,281,282,283,284,285,286,287,288,289,290,291,292,293,294,295,296,297,298,299],\"y\":[0.5302588118861178,0.5260663016051146,0.5198471795580737,0.5093274487521423,0.5105860710747666,0.516621540448858,0.5139252327090069,0.500128299576521,0.48204202301381477,0.489493481616583,0.5060314708778041,0.4945066571833925,0.4653813320708748,0.45968893367822855,0.4938793800397569,0.45196449947240713,0.44963275028535354,0.4505173219726898,0.513414051035833,0.4561596870074461,0.4842878219154591,0.45121424249078923,0.45206644374296523,0.46170779183842237,0.49256251874947066,0.47599681817050227,0.49094434468679116,0.4585820108277889,0.452849766550402,0.4481324101697824,0.47965738936717084,0.45306815398675115,0.4718747161936874,0.46530713388759676,0.4327995676895353,0.46906488592881174,0.4732182804852659,0.4495538929846626,0.47554933428166074,0.4552373903768781,0.5356563298699634,0.5426738299322008,0.5633753664534923,0.5269817834072279,0.5656413664537705,0.5268936774107769,0.5546743256066623,0.5874194372537187,0.5002092430491879,0.5839419276479398,0.479614031759604,0.5248555221598055,0.4738437496131889,0.4944412556919464,0.6428356056150293,0.4510960956178845,0.6149101770840127,0.5788794488834321,0.587131267364774,0.5114730766294081,0.5810279974014642,0.5134320268843592,0.6997086174062123,0.4219347144997158,0.5604861225753988,0.5622539099382868,0.6195973882795799,0.6387780706608701,0.5262300661052268,0.6037543724426139,0.518076610632551,0.5570897998290173,0.4761889546094874,0.5428276503458943,0.5683167081652633,0.5618067042057088,0.5188353166106715,0.618757982215523,0.5978567642666,0.5193881521842986,0.7326202055769496,0.586565984298357,0.6534018580560242,0.498748435892561,0.5936890098930447,0.6543313867494422,0.5228374636988692,0.5510045752532995,0.5483581617932066,0.5796234125795892,0.5194889838298029,0.5753604939943977,0.5608487688038849,0.5647049881623648,0.5663730217352695,0.5915549950397785,0.4877442959538138,0.561035272578535,0.46778679266774525,0.6137371921210013,0.5826193989237856,0.47114000119329036,0.5180961858795919,0.5309222841135361,0.5030135449583273,0.5139917815950398,0.4306374590536595,0.48413281933764596,0.5750690209998244,0.4850469103584419,0.5107750782557877,0.4512661881729904,0.48543048784575343,0.5325985232962129,0.5232855386697706,0.5473805120662101,0.446683216037155,0.4114014583454737,0.38242466867764374,0.4872095057677787,0.5492787894861939,0.4274161313665275,0.480716156414499,0.4722851357604229,0.40257309146904474,0.3986071046950969,0.4618305630592071,0.47504701883938466,0.5067552334753275,0.4905771088799579,0.4295684697636492,0.4090008307136808,0.4958553325963119,0.4901141177794285,0.4832346527629331,0.41539446104651007,0.5009590480268776,0.4749755674492083,0.41865813802475393,0.5019949019520032,0.4631595936860197,0.4785413916686358,0.5054134771994615,0.5253840885994456,0.41904946911790947,0.4768990527805682,0.42220261375096085,0.47374681215537306,0.4872178852252155,0.43987634980542273,0.4336647032079623,0.4553375961707896,0.4029512796787518,0.4371677336509136,0.4752624856349675,0.48145744285662034,0.43697917847382056,0.40101145266691357,0.4538666015410135,0.5237487731570305,0.4483798997051961,0.40484934848153803,0.49166483894821883,0.43179636235583335,0.40417353306992865,0.4954095176450512,0.4668609843143511,0.46442857732945786,0.41814448771474183,0.44919211599449976,0.45433393883315953,0.431872785789219,0.5259850452066513,0.4569250339663567,0.4187073716833864,0.5503980902903576,0.39939449553788675,0.40781299916010716,0.4389887531687214,0.49783378855923816,0.4240706416772934,0.43233428179983235,0.3782312891583172,0.5246460009543541,0.4932281466879308,0.45732258880590715,0.4382332807571636,0.46591045482304183,0.45174677265718366,0.4428044312518019,0.35895259146369024,0.46385953915348427,0.48882430718576375,0.408588533592167,0.4386750972121371,0.3753727467778031,0.4475294716991996,0.4021301971585503,0.4248883515528004,0.5144500788086234,0.8097273470582124,0.9703945076376842,0.7761638301449904,0.9032669174987131,0.7407788764795653,0.893383955918908,0.7855898505229963,0.7841165958735796,0.9550626039348263,0.8357300899571264,0.9528639177503055,0.790483940439512,0.9315529756253057,0.8215670684123939,0.9022964998345666,0.9347879329693474,0.8262066453478435,0.9626346432778046,0.9083451468616394,0.8758631710398163,0.8231796098107383,0.8627956679387216,0.7931371339585266,0.8095939015908173,0.8419949339399736,0.9374240894172251,0.9038221869396456,0.8515571118089433,0.8075068951460759,0.8849027628288103,0.7511637014977185,0.9091544425101767,0.9398994715448229,0.8944713382918396,0.8175365146157904,0.8736942475754857,0.8914243450428312,0.849901803885092,0.7124572838903157,0.9151457893469768,0.9040552818884251,0.7934204361128608,0.8277445017894488,0.7634004909179893,0.9544147779972276,0.8687185187956445,0.8612773519746244,0.9157800551667318,0.8478574248877258,0.944091495052365,0.8169735958776129,0.9647558629429517,0.8733903618576555,0.9744489133338794,0.8571283036097869,0.850876115736927,0.914256315155497,0.8790670444214161,0.8731939835356526,0.8149966697741358,0.8404232815123579,0.853049976474934,0.8247547391916473,0.9032061403551471,0.9196171512820988,0.8240932140580732,0.8992442911556183,0.8166110887272585,0.9165614656498572,0.9331129454898561,0.899611318345254,0.8665046730947652,0.8847637542361461,0.931686282014569,0.8578526920589029,0.8454643770141121,0.9243782129656145,0.968679813351584,0.8090314000870351,0.9210288638582249,0.8246655205701424,0.8339765233332077,0.8609741616474528,0.8218238761826335,0.82192971464088,0.8351555581949495,0.9297044881764812,0.8297975036309824,0.9619781249569727,1.0,0.7196673028564006,0.9054118499853203,0.8436788224198956,0.8259371814676164,0.8292970309739517,0.8643597406081581,0.8564468903033753,0.8881452999310312,0.8884135121080726,0.9432766362785585],\"type\":\"scatter\"}],                        {\"template\":{\"data\":{\"barpolar\":[{\"marker\":{\"line\":{\"color\":\"#E5ECF6\",\"width\":0.5},\"pattern\":{\"fillmode\":\"overlay\",\"size\":10,\"solidity\":0.2}},\"type\":\"barpolar\"}],\"bar\":[{\"error_x\":{\"color\":\"#2a3f5f\"},\"error_y\":{\"color\":\"#2a3f5f\"},\"marker\":{\"line\":{\"color\":\"#E5ECF6\",\"width\":0.5},\"pattern\":{\"fillmode\":\"overlay\",\"size\":10,\"solidity\":0.2}},\"type\":\"bar\"}],\"carpet\":[{\"aaxis\":{\"endlinecolor\":\"#2a3f5f\",\"gridcolor\":\"white\",\"linecolor\":\"white\",\"minorgridcolor\":\"white\",\"startlinecolor\":\"#2a3f5f\"},\"baxis\":{\"endlinecolor\":\"#2a3f5f\",\"gridcolor\":\"white\",\"linecolor\":\"white\",\"minorgridcolor\":\"white\",\"startlinecolor\":\"#2a3f5f\"},\"type\":\"carpet\"}],\"choropleth\":[{\"colorbar\":{\"outlinewidth\":0,\"ticks\":\"\"},\"type\":\"choropleth\"}],\"contourcarpet\":[{\"colorbar\":{\"outlinewidth\":0,\"ticks\":\"\"},\"type\":\"contourcarpet\"}],\"contour\":[{\"colorbar\":{\"outlinewidth\":0,\"ticks\":\"\"},\"colorscale\":[[0.0,\"#0d0887\"],[0.1111111111111111,\"#46039f\"],[0.2222222222222222,\"#7201a8\"],[0.3333333333333333,\"#9c179e\"],[0.4444444444444444,\"#bd3786\"],[0.5555555555555556,\"#d8576b\"],[0.6666666666666666,\"#ed7953\"],[0.7777777777777778,\"#fb9f3a\"],[0.8888888888888888,\"#fdca26\"],[1.0,\"#f0f921\"]],\"type\":\"contour\"}],\"heatmapgl\":[{\"colorbar\":{\"outlinewidth\":0,\"ticks\":\"\"},\"colorscale\":[[0.0,\"#0d0887\"],[0.1111111111111111,\"#46039f\"],[0.2222222222222222,\"#7201a8\"],[0.3333333333333333,\"#9c179e\"],[0.4444444444444444,\"#bd3786\"],[0.5555555555555556,\"#d8576b\"],[0.6666666666666666,\"#ed7953\"],[0.7777777777777778,\"#fb9f3a\"],[0.8888888888888888,\"#fdca26\"],[1.0,\"#f0f921\"]],\"type\":\"heatmapgl\"}],\"heatmap\":[{\"colorbar\":{\"outlinewidth\":0,\"ticks\":\"\"},\"colorscale\":[[0.0,\"#0d0887\"],[0.1111111111111111,\"#46039f\"],[0.2222222222222222,\"#7201a8\"],[0.3333333333333333,\"#9c179e\"],[0.4444444444444444,\"#bd3786\"],[0.5555555555555556,\"#d8576b\"],[0.6666666666666666,\"#ed7953\"],[0.7777777777777778,\"#fb9f3a\"],[0.8888888888888888,\"#fdca26\"],[1.0,\"#f0f921\"]],\"type\":\"heatmap\"}],\"histogram2dcontour\":[{\"colorbar\":{\"outlinewidth\":0,\"ticks\":\"\"},\"colorscale\":[[0.0,\"#0d0887\"],[0.1111111111111111,\"#46039f\"],[0.2222222222222222,\"#7201a8\"],[0.3333333333333333,\"#9c179e\"],[0.4444444444444444,\"#bd3786\"],[0.5555555555555556,\"#d8576b\"],[0.6666666666666666,\"#ed7953\"],[0.7777777777777778,\"#fb9f3a\"],[0.8888888888888888,\"#fdca26\"],[1.0,\"#f0f921\"]],\"type\":\"histogram2dcontour\"}],\"histogram2d\":[{\"colorbar\":{\"outlinewidth\":0,\"ticks\":\"\"},\"colorscale\":[[0.0,\"#0d0887\"],[0.1111111111111111,\"#46039f\"],[0.2222222222222222,\"#7201a8\"],[0.3333333333333333,\"#9c179e\"],[0.4444444444444444,\"#bd3786\"],[0.5555555555555556,\"#d8576b\"],[0.6666666666666666,\"#ed7953\"],[0.7777777777777778,\"#fb9f3a\"],[0.8888888888888888,\"#fdca26\"],[1.0,\"#f0f921\"]],\"type\":\"histogram2d\"}],\"histogram\":[{\"marker\":{\"pattern\":{\"fillmode\":\"overlay\",\"size\":10,\"solidity\":0.2}},\"type\":\"histogram\"}],\"mesh3d\":[{\"colorbar\":{\"outlinewidth\":0,\"ticks\":\"\"},\"type\":\"mesh3d\"}],\"parcoords\":[{\"line\":{\"colorbar\":{\"outlinewidth\":0,\"ticks\":\"\"}},\"type\":\"parcoords\"}],\"pie\":[{\"automargin\":true,\"type\":\"pie\"}],\"scatter3d\":[{\"line\":{\"colorbar\":{\"outlinewidth\":0,\"ticks\":\"\"}},\"marker\":{\"colorbar\":{\"outlinewidth\":0,\"ticks\":\"\"}},\"type\":\"scatter3d\"}],\"scattercarpet\":[{\"marker\":{\"colorbar\":{\"outlinewidth\":0,\"ticks\":\"\"}},\"type\":\"scattercarpet\"}],\"scattergeo\":[{\"marker\":{\"colorbar\":{\"outlinewidth\":0,\"ticks\":\"\"}},\"type\":\"scattergeo\"}],\"scattergl\":[{\"marker\":{\"colorbar\":{\"outlinewidth\":0,\"ticks\":\"\"}},\"type\":\"scattergl\"}],\"scattermapbox\":[{\"marker\":{\"colorbar\":{\"outlinewidth\":0,\"ticks\":\"\"}},\"type\":\"scattermapbox\"}],\"scatterpolargl\":[{\"marker\":{\"colorbar\":{\"outlinewidth\":0,\"ticks\":\"\"}},\"type\":\"scatterpolargl\"}],\"scatterpolar\":[{\"marker\":{\"colorbar\":{\"outlinewidth\":0,\"ticks\":\"\"}},\"type\":\"scatterpolar\"}],\"scatter\":[{\"fillpattern\":{\"fillmode\":\"overlay\",\"size\":10,\"solidity\":0.2},\"type\":\"scatter\"}],\"scatterternary\":[{\"marker\":{\"colorbar\":{\"outlinewidth\":0,\"ticks\":\"\"}},\"type\":\"scatterternary\"}],\"surface\":[{\"colorbar\":{\"outlinewidth\":0,\"ticks\":\"\"},\"colorscale\":[[0.0,\"#0d0887\"],[0.1111111111111111,\"#46039f\"],[0.2222222222222222,\"#7201a8\"],[0.3333333333333333,\"#9c179e\"],[0.4444444444444444,\"#bd3786\"],[0.5555555555555556,\"#d8576b\"],[0.6666666666666666,\"#ed7953\"],[0.7777777777777778,\"#fb9f3a\"],[0.8888888888888888,\"#fdca26\"],[1.0,\"#f0f921\"]],\"type\":\"surface\"}],\"table\":[{\"cells\":{\"fill\":{\"color\":\"#EBF0F8\"},\"line\":{\"color\":\"white\"}},\"header\":{\"fill\":{\"color\":\"#C8D4E3\"},\"line\":{\"color\":\"white\"}},\"type\":\"table\"}]},\"layout\":{\"annotationdefaults\":{\"arrowcolor\":\"#2a3f5f\",\"arrowhead\":0,\"arrowwidth\":1},\"autotypenumbers\":\"strict\",\"coloraxis\":{\"colorbar\":{\"outlinewidth\":0,\"ticks\":\"\"}},\"colorscale\":{\"diverging\":[[0,\"#8e0152\"],[0.1,\"#c51b7d\"],[0.2,\"#de77ae\"],[0.3,\"#f1b6da\"],[0.4,\"#fde0ef\"],[0.5,\"#f7f7f7\"],[0.6,\"#e6f5d0\"],[0.7,\"#b8e186\"],[0.8,\"#7fbc41\"],[0.9,\"#4d9221\"],[1,\"#276419\"]],\"sequential\":[[0.0,\"#0d0887\"],[0.1111111111111111,\"#46039f\"],[0.2222222222222222,\"#7201a8\"],[0.3333333333333333,\"#9c179e\"],[0.4444444444444444,\"#bd3786\"],[0.5555555555555556,\"#d8576b\"],[0.6666666666666666,\"#ed7953\"],[0.7777777777777778,\"#fb9f3a\"],[0.8888888888888888,\"#fdca26\"],[1.0,\"#f0f921\"]],\"sequentialminus\":[[0.0,\"#0d0887\"],[0.1111111111111111,\"#46039f\"],[0.2222222222222222,\"#7201a8\"],[0.3333333333333333,\"#9c179e\"],[0.4444444444444444,\"#bd3786\"],[0.5555555555555556,\"#d8576b\"],[0.6666666666666666,\"#ed7953\"],[0.7777777777777778,\"#fb9f3a\"],[0.8888888888888888,\"#fdca26\"],[1.0,\"#f0f921\"]]},\"colorway\":[\"#636efa\",\"#EF553B\",\"#00cc96\",\"#ab63fa\",\"#FFA15A\",\"#19d3f3\",\"#FF6692\",\"#B6E880\",\"#FF97FF\",\"#FECB52\"],\"font\":{\"color\":\"#2a3f5f\"},\"geo\":{\"bgcolor\":\"white\",\"lakecolor\":\"white\",\"landcolor\":\"#E5ECF6\",\"showlakes\":true,\"showland\":true,\"subunitcolor\":\"white\"},\"hoverlabel\":{\"align\":\"left\"},\"hovermode\":\"closest\",\"mapbox\":{\"style\":\"light\"},\"paper_bgcolor\":\"white\",\"plot_bgcolor\":\"#E5ECF6\",\"polar\":{\"angularaxis\":{\"gridcolor\":\"white\",\"linecolor\":\"white\",\"ticks\":\"\"},\"bgcolor\":\"#E5ECF6\",\"radialaxis\":{\"gridcolor\":\"white\",\"linecolor\":\"white\",\"ticks\":\"\"}},\"scene\":{\"xaxis\":{\"backgroundcolor\":\"#E5ECF6\",\"gridcolor\":\"white\",\"gridwidth\":2,\"linecolor\":\"white\",\"showbackground\":true,\"ticks\":\"\",\"zerolinecolor\":\"white\"},\"yaxis\":{\"backgroundcolor\":\"#E5ECF6\",\"gridcolor\":\"white\",\"gridwidth\":2,\"linecolor\":\"white\",\"showbackground\":true,\"ticks\":\"\",\"zerolinecolor\":\"white\"},\"zaxis\":{\"backgroundcolor\":\"#E5ECF6\",\"gridcolor\":\"white\",\"gridwidth\":2,\"linecolor\":\"white\",\"showbackground\":true,\"ticks\":\"\",\"zerolinecolor\":\"white\"}},\"shapedefaults\":{\"line\":{\"color\":\"#2a3f5f\"}},\"ternary\":{\"aaxis\":{\"gridcolor\":\"white\",\"linecolor\":\"white\",\"ticks\":\"\"},\"baxis\":{\"gridcolor\":\"white\",\"linecolor\":\"white\",\"ticks\":\"\"},\"bgcolor\":\"#E5ECF6\",\"caxis\":{\"gridcolor\":\"white\",\"linecolor\":\"white\",\"ticks\":\"\"}},\"title\":{\"x\":0.05},\"xaxis\":{\"automargin\":true,\"gridcolor\":\"white\",\"linecolor\":\"white\",\"ticks\":\"\",\"title\":{\"standoff\":15},\"zerolinecolor\":\"white\",\"zerolinewidth\":2},\"yaxis\":{\"automargin\":true,\"gridcolor\":\"white\",\"linecolor\":\"white\",\"ticks\":\"\",\"title\":{\"standoff\":15},\"zerolinecolor\":\"white\",\"zerolinewidth\":2}}}},                        {\"responsive\": true}                    ).then(function(){\n",
       "                            \n",
       "var gd = document.getElementById('472df8e2-308b-4330-8d10-d5bc50b5106f');\n",
       "var x = new MutationObserver(function (mutations, observer) {{\n",
       "        var display = window.getComputedStyle(gd).display;\n",
       "        if (!display || display === 'none') {{\n",
       "            console.log([gd, 'removed!']);\n",
       "            Plotly.purge(gd);\n",
       "            observer.disconnect();\n",
       "        }}\n",
       "}});\n",
       "\n",
       "// Listen for the removal of the full notebook cells\n",
       "var notebookContainer = gd.closest('#notebook-container');\n",
       "if (notebookContainer) {{\n",
       "    x.observe(notebookContainer, {childList: true});\n",
       "}}\n",
       "\n",
       "// Listen for the clearing of the current output cell\n",
       "var outputEl = gd.closest('.output');\n",
       "if (outputEl) {{\n",
       "    x.observe(outputEl, {childList: true});\n",
       "}}\n",
       "\n",
       "                        })                };                });            </script>        </div>"
      ]
     },
     "metadata": {},
     "output_type": "display_data"
    }
   ],
   "source": [
    "# Now train the model\n",
    "# train_using_raw_data()\n",
    "train_using_set_img_loader()"
   ]
  },
  {
   "cell_type": "code",
   "execution_count": 9,
   "metadata": {},
   "outputs": [
    {
     "name": "stdout",
     "output_type": "stream",
     "text": [
      "Label: frog 8.0\n",
      "Prediction: frog (8.0)\n"
     ]
    },
    {
     "data": {
      "application/vnd.plotly.v1+json": {
       "config": {
        "plotlyServerURL": "https://plot.ly"
       },
       "data": [
        {
         "hovertemplate": "x: %{x}<br>y: %{y}<extra></extra>",
         "name": "0",
         "source": "data:image/png;base64,iVBORw0KGgoAAAANSUhEUgAAACAAAAAgCAIAAAD8GO2jAAADy0lEQVR4Xq2W2XPaVhTGPyShhU1AEDtYZfWCTYrt2hiv9ZLECZnE4zaZxCEzTaedzKRvfes/33OPLJCEMZpMfg9wdSXde5bvnCtULcQlrNfRq6JiwkyAyMcx3ISdhQoUZXRU7KRwsxo/K2BNxUYU13Xp0EJEPIsC0HnCIz+axn+GDFNFOe67J0G8bETEbxYYxvBxPf2hl76q4tcqbteSr0t4U8NeCgawFUMz5Xs9SDmGFzuIuZfpGBQg6l7SHle23uLNHGSgAXQBcmJTQcWdf5iyCtp+vYx20TdfdDdsGFh1nJ3DAmwIa+ZRgxNzOE6Tsb/oYpxz58mzZhY2r7p8lUWQ9XkJDQ1nVWHmQMFhBnF3RfKnDnE5DWMoLP1+QKsbPMgAJwUR7lEC+8YsB0SeUsUD0zO5kIyEYRujjjCtpGMtLax2IkuWNoG+jIEGxwBn3SkLsuOHpF9zzQdr9OCJkCY4jQ4p1y2uE6FdxwJnMhSeLTDM4babuKzgIGAwY/B+FMA1A3V5pu+wkGn7Ft4PK/+cW5MNLR+8L/DmYwk11oOXFeBup3h3sHLRxN9HhePW7L7G2ytuoELRMvCs7pspUVY1/L6Z3tJxnidXit5SinPziYbXKDk7yAQniZ4uegB58+XYmmwnptkGJ2DqwfJYTUs0gJNzUtTzNu6ezuQETnLZHUtc7Y+xHpwIYoOa82xF8KI2W5AI48G7TtIZ0E59VcQkQD+K3ajond6umeNUPeg9BZDaZjeJromfqND/O2lfpkS5jmI4SQnTAphu9cbnxNPyXzqQNE6KeLmq9bMYkEb/3c7/2U3uRtDmrkC/3eVu37NJtRacw56JUU5sQ4vbpOt3tJuJUw3bKg4NnCsYLMnaDFLfUFnYjiTnrwccKfhoR55ncKFiUhHaXwRp6WfF1xtK7PdjFDlX5zF8buvjLMYZ3HSCtT2FTN6K4EARXXZKyTN28Clli4wCXuXwoaV827e+9LSbMo4ebWA2BZqPjVCQEi7TuM5hsqH/toLbEv7qyH805dXggz7KcwdDgJlQTE7D153CZNuqcUDPZLzP45MtvbAebjj0ygYfCaHYpeMFIvROvVFwjxW8JZ90vDaxFxFq82JwSTbmevBCrhSMDRwBVe4q9Il2auBUxlPgZUxkyIvG9bxIlwFUp6G9SmKcwqkihNRgIVp8SJS46HrBtx7jwQ8k7FMvSwhVPDNxlcAoKmyv+U/QMNyX1TwXMsYqhqyKEiv9B0P2XkdF0DPud1XoVhSOPsTqex5VNDVxKNI3a9FA5ju+DiVfL/sfUlxNxVxaProAAAAASUVORK5CYII=",
         "type": "image",
         "xaxis": "x",
         "yaxis": "y"
        }
       ],
       "layout": {
        "margin": {
         "t": 60
        },
        "template": {
         "data": {
          "bar": [
           {
            "error_x": {
             "color": "#2a3f5f"
            },
            "error_y": {
             "color": "#2a3f5f"
            },
            "marker": {
             "line": {
              "color": "#E5ECF6",
              "width": 0.5
             },
             "pattern": {
              "fillmode": "overlay",
              "size": 10,
              "solidity": 0.2
             }
            },
            "type": "bar"
           }
          ],
          "barpolar": [
           {
            "marker": {
             "line": {
              "color": "#E5ECF6",
              "width": 0.5
             },
             "pattern": {
              "fillmode": "overlay",
              "size": 10,
              "solidity": 0.2
             }
            },
            "type": "barpolar"
           }
          ],
          "carpet": [
           {
            "aaxis": {
             "endlinecolor": "#2a3f5f",
             "gridcolor": "white",
             "linecolor": "white",
             "minorgridcolor": "white",
             "startlinecolor": "#2a3f5f"
            },
            "baxis": {
             "endlinecolor": "#2a3f5f",
             "gridcolor": "white",
             "linecolor": "white",
             "minorgridcolor": "white",
             "startlinecolor": "#2a3f5f"
            },
            "type": "carpet"
           }
          ],
          "choropleth": [
           {
            "colorbar": {
             "outlinewidth": 0,
             "ticks": ""
            },
            "type": "choropleth"
           }
          ],
          "contour": [
           {
            "colorbar": {
             "outlinewidth": 0,
             "ticks": ""
            },
            "colorscale": [
             [
              0,
              "#0d0887"
             ],
             [
              0.1111111111111111,
              "#46039f"
             ],
             [
              0.2222222222222222,
              "#7201a8"
             ],
             [
              0.3333333333333333,
              "#9c179e"
             ],
             [
              0.4444444444444444,
              "#bd3786"
             ],
             [
              0.5555555555555556,
              "#d8576b"
             ],
             [
              0.6666666666666666,
              "#ed7953"
             ],
             [
              0.7777777777777778,
              "#fb9f3a"
             ],
             [
              0.8888888888888888,
              "#fdca26"
             ],
             [
              1,
              "#f0f921"
             ]
            ],
            "type": "contour"
           }
          ],
          "contourcarpet": [
           {
            "colorbar": {
             "outlinewidth": 0,
             "ticks": ""
            },
            "type": "contourcarpet"
           }
          ],
          "heatmap": [
           {
            "colorbar": {
             "outlinewidth": 0,
             "ticks": ""
            },
            "colorscale": [
             [
              0,
              "#0d0887"
             ],
             [
              0.1111111111111111,
              "#46039f"
             ],
             [
              0.2222222222222222,
              "#7201a8"
             ],
             [
              0.3333333333333333,
              "#9c179e"
             ],
             [
              0.4444444444444444,
              "#bd3786"
             ],
             [
              0.5555555555555556,
              "#d8576b"
             ],
             [
              0.6666666666666666,
              "#ed7953"
             ],
             [
              0.7777777777777778,
              "#fb9f3a"
             ],
             [
              0.8888888888888888,
              "#fdca26"
             ],
             [
              1,
              "#f0f921"
             ]
            ],
            "type": "heatmap"
           }
          ],
          "heatmapgl": [
           {
            "colorbar": {
             "outlinewidth": 0,
             "ticks": ""
            },
            "colorscale": [
             [
              0,
              "#0d0887"
             ],
             [
              0.1111111111111111,
              "#46039f"
             ],
             [
              0.2222222222222222,
              "#7201a8"
             ],
             [
              0.3333333333333333,
              "#9c179e"
             ],
             [
              0.4444444444444444,
              "#bd3786"
             ],
             [
              0.5555555555555556,
              "#d8576b"
             ],
             [
              0.6666666666666666,
              "#ed7953"
             ],
             [
              0.7777777777777778,
              "#fb9f3a"
             ],
             [
              0.8888888888888888,
              "#fdca26"
             ],
             [
              1,
              "#f0f921"
             ]
            ],
            "type": "heatmapgl"
           }
          ],
          "histogram": [
           {
            "marker": {
             "pattern": {
              "fillmode": "overlay",
              "size": 10,
              "solidity": 0.2
             }
            },
            "type": "histogram"
           }
          ],
          "histogram2d": [
           {
            "colorbar": {
             "outlinewidth": 0,
             "ticks": ""
            },
            "colorscale": [
             [
              0,
              "#0d0887"
             ],
             [
              0.1111111111111111,
              "#46039f"
             ],
             [
              0.2222222222222222,
              "#7201a8"
             ],
             [
              0.3333333333333333,
              "#9c179e"
             ],
             [
              0.4444444444444444,
              "#bd3786"
             ],
             [
              0.5555555555555556,
              "#d8576b"
             ],
             [
              0.6666666666666666,
              "#ed7953"
             ],
             [
              0.7777777777777778,
              "#fb9f3a"
             ],
             [
              0.8888888888888888,
              "#fdca26"
             ],
             [
              1,
              "#f0f921"
             ]
            ],
            "type": "histogram2d"
           }
          ],
          "histogram2dcontour": [
           {
            "colorbar": {
             "outlinewidth": 0,
             "ticks": ""
            },
            "colorscale": [
             [
              0,
              "#0d0887"
             ],
             [
              0.1111111111111111,
              "#46039f"
             ],
             [
              0.2222222222222222,
              "#7201a8"
             ],
             [
              0.3333333333333333,
              "#9c179e"
             ],
             [
              0.4444444444444444,
              "#bd3786"
             ],
             [
              0.5555555555555556,
              "#d8576b"
             ],
             [
              0.6666666666666666,
              "#ed7953"
             ],
             [
              0.7777777777777778,
              "#fb9f3a"
             ],
             [
              0.8888888888888888,
              "#fdca26"
             ],
             [
              1,
              "#f0f921"
             ]
            ],
            "type": "histogram2dcontour"
           }
          ],
          "mesh3d": [
           {
            "colorbar": {
             "outlinewidth": 0,
             "ticks": ""
            },
            "type": "mesh3d"
           }
          ],
          "parcoords": [
           {
            "line": {
             "colorbar": {
              "outlinewidth": 0,
              "ticks": ""
             }
            },
            "type": "parcoords"
           }
          ],
          "pie": [
           {
            "automargin": true,
            "type": "pie"
           }
          ],
          "scatter": [
           {
            "fillpattern": {
             "fillmode": "overlay",
             "size": 10,
             "solidity": 0.2
            },
            "type": "scatter"
           }
          ],
          "scatter3d": [
           {
            "line": {
             "colorbar": {
              "outlinewidth": 0,
              "ticks": ""
             }
            },
            "marker": {
             "colorbar": {
              "outlinewidth": 0,
              "ticks": ""
             }
            },
            "type": "scatter3d"
           }
          ],
          "scattercarpet": [
           {
            "marker": {
             "colorbar": {
              "outlinewidth": 0,
              "ticks": ""
             }
            },
            "type": "scattercarpet"
           }
          ],
          "scattergeo": [
           {
            "marker": {
             "colorbar": {
              "outlinewidth": 0,
              "ticks": ""
             }
            },
            "type": "scattergeo"
           }
          ],
          "scattergl": [
           {
            "marker": {
             "colorbar": {
              "outlinewidth": 0,
              "ticks": ""
             }
            },
            "type": "scattergl"
           }
          ],
          "scattermapbox": [
           {
            "marker": {
             "colorbar": {
              "outlinewidth": 0,
              "ticks": ""
             }
            },
            "type": "scattermapbox"
           }
          ],
          "scatterpolar": [
           {
            "marker": {
             "colorbar": {
              "outlinewidth": 0,
              "ticks": ""
             }
            },
            "type": "scatterpolar"
           }
          ],
          "scatterpolargl": [
           {
            "marker": {
             "colorbar": {
              "outlinewidth": 0,
              "ticks": ""
             }
            },
            "type": "scatterpolargl"
           }
          ],
          "scatterternary": [
           {
            "marker": {
             "colorbar": {
              "outlinewidth": 0,
              "ticks": ""
             }
            },
            "type": "scatterternary"
           }
          ],
          "surface": [
           {
            "colorbar": {
             "outlinewidth": 0,
             "ticks": ""
            },
            "colorscale": [
             [
              0,
              "#0d0887"
             ],
             [
              0.1111111111111111,
              "#46039f"
             ],
             [
              0.2222222222222222,
              "#7201a8"
             ],
             [
              0.3333333333333333,
              "#9c179e"
             ],
             [
              0.4444444444444444,
              "#bd3786"
             ],
             [
              0.5555555555555556,
              "#d8576b"
             ],
             [
              0.6666666666666666,
              "#ed7953"
             ],
             [
              0.7777777777777778,
              "#fb9f3a"
             ],
             [
              0.8888888888888888,
              "#fdca26"
             ],
             [
              1,
              "#f0f921"
             ]
            ],
            "type": "surface"
           }
          ],
          "table": [
           {
            "cells": {
             "fill": {
              "color": "#EBF0F8"
             },
             "line": {
              "color": "white"
             }
            },
            "header": {
             "fill": {
              "color": "#C8D4E3"
             },
             "line": {
              "color": "white"
             }
            },
            "type": "table"
           }
          ]
         },
         "layout": {
          "annotationdefaults": {
           "arrowcolor": "#2a3f5f",
           "arrowhead": 0,
           "arrowwidth": 1
          },
          "autotypenumbers": "strict",
          "coloraxis": {
           "colorbar": {
            "outlinewidth": 0,
            "ticks": ""
           }
          },
          "colorscale": {
           "diverging": [
            [
             0,
             "#8e0152"
            ],
            [
             0.1,
             "#c51b7d"
            ],
            [
             0.2,
             "#de77ae"
            ],
            [
             0.3,
             "#f1b6da"
            ],
            [
             0.4,
             "#fde0ef"
            ],
            [
             0.5,
             "#f7f7f7"
            ],
            [
             0.6,
             "#e6f5d0"
            ],
            [
             0.7,
             "#b8e186"
            ],
            [
             0.8,
             "#7fbc41"
            ],
            [
             0.9,
             "#4d9221"
            ],
            [
             1,
             "#276419"
            ]
           ],
           "sequential": [
            [
             0,
             "#0d0887"
            ],
            [
             0.1111111111111111,
             "#46039f"
            ],
            [
             0.2222222222222222,
             "#7201a8"
            ],
            [
             0.3333333333333333,
             "#9c179e"
            ],
            [
             0.4444444444444444,
             "#bd3786"
            ],
            [
             0.5555555555555556,
             "#d8576b"
            ],
            [
             0.6666666666666666,
             "#ed7953"
            ],
            [
             0.7777777777777778,
             "#fb9f3a"
            ],
            [
             0.8888888888888888,
             "#fdca26"
            ],
            [
             1,
             "#f0f921"
            ]
           ],
           "sequentialminus": [
            [
             0,
             "#0d0887"
            ],
            [
             0.1111111111111111,
             "#46039f"
            ],
            [
             0.2222222222222222,
             "#7201a8"
            ],
            [
             0.3333333333333333,
             "#9c179e"
            ],
            [
             0.4444444444444444,
             "#bd3786"
            ],
            [
             0.5555555555555556,
             "#d8576b"
            ],
            [
             0.6666666666666666,
             "#ed7953"
            ],
            [
             0.7777777777777778,
             "#fb9f3a"
            ],
            [
             0.8888888888888888,
             "#fdca26"
            ],
            [
             1,
             "#f0f921"
            ]
           ]
          },
          "colorway": [
           "#636efa",
           "#EF553B",
           "#00cc96",
           "#ab63fa",
           "#FFA15A",
           "#19d3f3",
           "#FF6692",
           "#B6E880",
           "#FF97FF",
           "#FECB52"
          ],
          "font": {
           "color": "#2a3f5f"
          },
          "geo": {
           "bgcolor": "white",
           "lakecolor": "white",
           "landcolor": "#E5ECF6",
           "showlakes": true,
           "showland": true,
           "subunitcolor": "white"
          },
          "hoverlabel": {
           "align": "left"
          },
          "hovermode": "closest",
          "mapbox": {
           "style": "light"
          },
          "paper_bgcolor": "white",
          "plot_bgcolor": "#E5ECF6",
          "polar": {
           "angularaxis": {
            "gridcolor": "white",
            "linecolor": "white",
            "ticks": ""
           },
           "bgcolor": "#E5ECF6",
           "radialaxis": {
            "gridcolor": "white",
            "linecolor": "white",
            "ticks": ""
           }
          },
          "scene": {
           "xaxis": {
            "backgroundcolor": "#E5ECF6",
            "gridcolor": "white",
            "gridwidth": 2,
            "linecolor": "white",
            "showbackground": true,
            "ticks": "",
            "zerolinecolor": "white"
           },
           "yaxis": {
            "backgroundcolor": "#E5ECF6",
            "gridcolor": "white",
            "gridwidth": 2,
            "linecolor": "white",
            "showbackground": true,
            "ticks": "",
            "zerolinecolor": "white"
           },
           "zaxis": {
            "backgroundcolor": "#E5ECF6",
            "gridcolor": "white",
            "gridwidth": 2,
            "linecolor": "white",
            "showbackground": true,
            "ticks": "",
            "zerolinecolor": "white"
           }
          },
          "shapedefaults": {
           "line": {
            "color": "#2a3f5f"
           }
          },
          "ternary": {
           "aaxis": {
            "gridcolor": "white",
            "linecolor": "white",
            "ticks": ""
           },
           "baxis": {
            "gridcolor": "white",
            "linecolor": "white",
            "ticks": ""
           },
           "bgcolor": "#E5ECF6",
           "caxis": {
            "gridcolor": "white",
            "linecolor": "white",
            "ticks": ""
           }
          },
          "title": {
           "x": 0.05
          },
          "xaxis": {
           "automargin": true,
           "gridcolor": "white",
           "linecolor": "white",
           "ticks": "",
           "title": {
            "standoff": 15
           },
           "zerolinecolor": "white",
           "zerolinewidth": 2
          },
          "yaxis": {
           "automargin": true,
           "gridcolor": "white",
           "linecolor": "white",
           "ticks": "",
           "title": {
            "standoff": 15
           },
           "zerolinecolor": "white",
           "zerolinewidth": 2
          }
         }
        },
        "xaxis": {
         "anchor": "y",
         "domain": [
          0,
          1
         ]
        },
        "yaxis": {
         "anchor": "x",
         "domain": [
          0,
          1
         ]
        }
       }
      },
      "text/html": [
       "<div>                            <div id=\"87c5e9ca-9fb3-45cd-ad4c-4a9d38fba092\" class=\"plotly-graph-div\" style=\"height:525px; width:100%;\"></div>            <script type=\"text/javascript\">                require([\"plotly\"], function(Plotly) {                    window.PLOTLYENV=window.PLOTLYENV || {};                                    if (document.getElementById(\"87c5e9ca-9fb3-45cd-ad4c-4a9d38fba092\")) {                    Plotly.newPlot(                        \"87c5e9ca-9fb3-45cd-ad4c-4a9d38fba092\",                        [{\"name\":\"0\",\"source\":\"data:image/png;base64,iVBORw0KGgoAAAANSUhEUgAAACAAAAAgCAIAAAD8GO2jAAADy0lEQVR4Xq2W2XPaVhTGPyShhU1AEDtYZfWCTYrt2hiv9ZLECZnE4zaZxCEzTaedzKRvfes/33OPLJCEMZpMfg9wdSXde5bvnCtULcQlrNfRq6JiwkyAyMcx3ISdhQoUZXRU7KRwsxo/K2BNxUYU13Xp0EJEPIsC0HnCIz+axn+GDFNFOe67J0G8bETEbxYYxvBxPf2hl76q4tcqbteSr0t4U8NeCgawFUMz5Xs9SDmGFzuIuZfpGBQg6l7SHle23uLNHGSgAXQBcmJTQcWdf5iyCtp+vYx20TdfdDdsGFh1nJ3DAmwIa+ZRgxNzOE6Tsb/oYpxz58mzZhY2r7p8lUWQ9XkJDQ1nVWHmQMFhBnF3RfKnDnE5DWMoLP1+QKsbPMgAJwUR7lEC+8YsB0SeUsUD0zO5kIyEYRujjjCtpGMtLax2IkuWNoG+jIEGxwBn3SkLsuOHpF9zzQdr9OCJkCY4jQ4p1y2uE6FdxwJnMhSeLTDM4babuKzgIGAwY/B+FMA1A3V5pu+wkGn7Ft4PK/+cW5MNLR+8L/DmYwk11oOXFeBup3h3sHLRxN9HhePW7L7G2ytuoELRMvCs7pspUVY1/L6Z3tJxnidXit5SinPziYbXKDk7yAQniZ4uegB58+XYmmwnptkGJ2DqwfJYTUs0gJNzUtTzNu6ezuQETnLZHUtc7Y+xHpwIYoOa82xF8KI2W5AI48G7TtIZ0E59VcQkQD+K3ajond6umeNUPeg9BZDaZjeJromfqND/O2lfpkS5jmI4SQnTAphu9cbnxNPyXzqQNE6KeLmq9bMYkEb/3c7/2U3uRtDmrkC/3eVu37NJtRacw56JUU5sQ4vbpOt3tJuJUw3bKg4NnCsYLMnaDFLfUFnYjiTnrwccKfhoR55ncKFiUhHaXwRp6WfF1xtK7PdjFDlX5zF8buvjLMYZ3HSCtT2FTN6K4EARXXZKyTN28Clli4wCXuXwoaV827e+9LSbMo4ebWA2BZqPjVCQEi7TuM5hsqH/toLbEv7qyH805dXggz7KcwdDgJlQTE7D153CZNuqcUDPZLzP45MtvbAebjj0ygYfCaHYpeMFIvROvVFwjxW8JZ90vDaxFxFq82JwSTbmevBCrhSMDRwBVe4q9Il2auBUxlPgZUxkyIvG9bxIlwFUp6G9SmKcwqkihNRgIVp8SJS46HrBtx7jwQ8k7FMvSwhVPDNxlcAoKmyv+U/QMNyX1TwXMsYqhqyKEiv9B0P2XkdF0DPud1XoVhSOPsTqex5VNDVxKNI3a9FA5ju+DiVfL/sfUlxNxVxaProAAAAASUVORK5CYII=\",\"type\":\"image\",\"xaxis\":\"x\",\"yaxis\":\"y\",\"hovertemplate\":\"x: %{x}<br>y: %{y}<extra></extra>\"}],                        {\"template\":{\"data\":{\"histogram2dcontour\":[{\"type\":\"histogram2dcontour\",\"colorbar\":{\"outlinewidth\":0,\"ticks\":\"\"},\"colorscale\":[[0.0,\"#0d0887\"],[0.1111111111111111,\"#46039f\"],[0.2222222222222222,\"#7201a8\"],[0.3333333333333333,\"#9c179e\"],[0.4444444444444444,\"#bd3786\"],[0.5555555555555556,\"#d8576b\"],[0.6666666666666666,\"#ed7953\"],[0.7777777777777778,\"#fb9f3a\"],[0.8888888888888888,\"#fdca26\"],[1.0,\"#f0f921\"]]}],\"choropleth\":[{\"type\":\"choropleth\",\"colorbar\":{\"outlinewidth\":0,\"ticks\":\"\"}}],\"histogram2d\":[{\"type\":\"histogram2d\",\"colorbar\":{\"outlinewidth\":0,\"ticks\":\"\"},\"colorscale\":[[0.0,\"#0d0887\"],[0.1111111111111111,\"#46039f\"],[0.2222222222222222,\"#7201a8\"],[0.3333333333333333,\"#9c179e\"],[0.4444444444444444,\"#bd3786\"],[0.5555555555555556,\"#d8576b\"],[0.6666666666666666,\"#ed7953\"],[0.7777777777777778,\"#fb9f3a\"],[0.8888888888888888,\"#fdca26\"],[1.0,\"#f0f921\"]]}],\"heatmap\":[{\"type\":\"heatmap\",\"colorbar\":{\"outlinewidth\":0,\"ticks\":\"\"},\"colorscale\":[[0.0,\"#0d0887\"],[0.1111111111111111,\"#46039f\"],[0.2222222222222222,\"#7201a8\"],[0.3333333333333333,\"#9c179e\"],[0.4444444444444444,\"#bd3786\"],[0.5555555555555556,\"#d8576b\"],[0.6666666666666666,\"#ed7953\"],[0.7777777777777778,\"#fb9f3a\"],[0.8888888888888888,\"#fdca26\"],[1.0,\"#f0f921\"]]}],\"heatmapgl\":[{\"type\":\"heatmapgl\",\"colorbar\":{\"outlinewidth\":0,\"ticks\":\"\"},\"colorscale\":[[0.0,\"#0d0887\"],[0.1111111111111111,\"#46039f\"],[0.2222222222222222,\"#7201a8\"],[0.3333333333333333,\"#9c179e\"],[0.4444444444444444,\"#bd3786\"],[0.5555555555555556,\"#d8576b\"],[0.6666666666666666,\"#ed7953\"],[0.7777777777777778,\"#fb9f3a\"],[0.8888888888888888,\"#fdca26\"],[1.0,\"#f0f921\"]]}],\"contourcarpet\":[{\"type\":\"contourcarpet\",\"colorbar\":{\"outlinewidth\":0,\"ticks\":\"\"}}],\"contour\":[{\"type\":\"contour\",\"colorbar\":{\"outlinewidth\":0,\"ticks\":\"\"},\"colorscale\":[[0.0,\"#0d0887\"],[0.1111111111111111,\"#46039f\"],[0.2222222222222222,\"#7201a8\"],[0.3333333333333333,\"#9c179e\"],[0.4444444444444444,\"#bd3786\"],[0.5555555555555556,\"#d8576b\"],[0.6666666666666666,\"#ed7953\"],[0.7777777777777778,\"#fb9f3a\"],[0.8888888888888888,\"#fdca26\"],[1.0,\"#f0f921\"]]}],\"surface\":[{\"type\":\"surface\",\"colorbar\":{\"outlinewidth\":0,\"ticks\":\"\"},\"colorscale\":[[0.0,\"#0d0887\"],[0.1111111111111111,\"#46039f\"],[0.2222222222222222,\"#7201a8\"],[0.3333333333333333,\"#9c179e\"],[0.4444444444444444,\"#bd3786\"],[0.5555555555555556,\"#d8576b\"],[0.6666666666666666,\"#ed7953\"],[0.7777777777777778,\"#fb9f3a\"],[0.8888888888888888,\"#fdca26\"],[1.0,\"#f0f921\"]]}],\"mesh3d\":[{\"type\":\"mesh3d\",\"colorbar\":{\"outlinewidth\":0,\"ticks\":\"\"}}],\"scatter\":[{\"fillpattern\":{\"fillmode\":\"overlay\",\"size\":10,\"solidity\":0.2},\"type\":\"scatter\"}],\"parcoords\":[{\"type\":\"parcoords\",\"line\":{\"colorbar\":{\"outlinewidth\":0,\"ticks\":\"\"}}}],\"scatterpolargl\":[{\"type\":\"scatterpolargl\",\"marker\":{\"colorbar\":{\"outlinewidth\":0,\"ticks\":\"\"}}}],\"bar\":[{\"error_x\":{\"color\":\"#2a3f5f\"},\"error_y\":{\"color\":\"#2a3f5f\"},\"marker\":{\"line\":{\"color\":\"#E5ECF6\",\"width\":0.5},\"pattern\":{\"fillmode\":\"overlay\",\"size\":10,\"solidity\":0.2}},\"type\":\"bar\"}],\"scattergeo\":[{\"type\":\"scattergeo\",\"marker\":{\"colorbar\":{\"outlinewidth\":0,\"ticks\":\"\"}}}],\"scatterpolar\":[{\"type\":\"scatterpolar\",\"marker\":{\"colorbar\":{\"outlinewidth\":0,\"ticks\":\"\"}}}],\"histogram\":[{\"marker\":{\"pattern\":{\"fillmode\":\"overlay\",\"size\":10,\"solidity\":0.2}},\"type\":\"histogram\"}],\"scattergl\":[{\"type\":\"scattergl\",\"marker\":{\"colorbar\":{\"outlinewidth\":0,\"ticks\":\"\"}}}],\"scatter3d\":[{\"type\":\"scatter3d\",\"line\":{\"colorbar\":{\"outlinewidth\":0,\"ticks\":\"\"}},\"marker\":{\"colorbar\":{\"outlinewidth\":0,\"ticks\":\"\"}}}],\"scattermapbox\":[{\"type\":\"scattermapbox\",\"marker\":{\"colorbar\":{\"outlinewidth\":0,\"ticks\":\"\"}}}],\"scatterternary\":[{\"type\":\"scatterternary\",\"marker\":{\"colorbar\":{\"outlinewidth\":0,\"ticks\":\"\"}}}],\"scattercarpet\":[{\"type\":\"scattercarpet\",\"marker\":{\"colorbar\":{\"outlinewidth\":0,\"ticks\":\"\"}}}],\"carpet\":[{\"aaxis\":{\"endlinecolor\":\"#2a3f5f\",\"gridcolor\":\"white\",\"linecolor\":\"white\",\"minorgridcolor\":\"white\",\"startlinecolor\":\"#2a3f5f\"},\"baxis\":{\"endlinecolor\":\"#2a3f5f\",\"gridcolor\":\"white\",\"linecolor\":\"white\",\"minorgridcolor\":\"white\",\"startlinecolor\":\"#2a3f5f\"},\"type\":\"carpet\"}],\"table\":[{\"cells\":{\"fill\":{\"color\":\"#EBF0F8\"},\"line\":{\"color\":\"white\"}},\"header\":{\"fill\":{\"color\":\"#C8D4E3\"},\"line\":{\"color\":\"white\"}},\"type\":\"table\"}],\"barpolar\":[{\"marker\":{\"line\":{\"color\":\"#E5ECF6\",\"width\":0.5},\"pattern\":{\"fillmode\":\"overlay\",\"size\":10,\"solidity\":0.2}},\"type\":\"barpolar\"}],\"pie\":[{\"automargin\":true,\"type\":\"pie\"}]},\"layout\":{\"autotypenumbers\":\"strict\",\"colorway\":[\"#636efa\",\"#EF553B\",\"#00cc96\",\"#ab63fa\",\"#FFA15A\",\"#19d3f3\",\"#FF6692\",\"#B6E880\",\"#FF97FF\",\"#FECB52\"],\"font\":{\"color\":\"#2a3f5f\"},\"hovermode\":\"closest\",\"hoverlabel\":{\"align\":\"left\"},\"paper_bgcolor\":\"white\",\"plot_bgcolor\":\"#E5ECF6\",\"polar\":{\"bgcolor\":\"#E5ECF6\",\"angularaxis\":{\"gridcolor\":\"white\",\"linecolor\":\"white\",\"ticks\":\"\"},\"radialaxis\":{\"gridcolor\":\"white\",\"linecolor\":\"white\",\"ticks\":\"\"}},\"ternary\":{\"bgcolor\":\"#E5ECF6\",\"aaxis\":{\"gridcolor\":\"white\",\"linecolor\":\"white\",\"ticks\":\"\"},\"baxis\":{\"gridcolor\":\"white\",\"linecolor\":\"white\",\"ticks\":\"\"},\"caxis\":{\"gridcolor\":\"white\",\"linecolor\":\"white\",\"ticks\":\"\"}},\"coloraxis\":{\"colorbar\":{\"outlinewidth\":0,\"ticks\":\"\"}},\"colorscale\":{\"sequential\":[[0.0,\"#0d0887\"],[0.1111111111111111,\"#46039f\"],[0.2222222222222222,\"#7201a8\"],[0.3333333333333333,\"#9c179e\"],[0.4444444444444444,\"#bd3786\"],[0.5555555555555556,\"#d8576b\"],[0.6666666666666666,\"#ed7953\"],[0.7777777777777778,\"#fb9f3a\"],[0.8888888888888888,\"#fdca26\"],[1.0,\"#f0f921\"]],\"sequentialminus\":[[0.0,\"#0d0887\"],[0.1111111111111111,\"#46039f\"],[0.2222222222222222,\"#7201a8\"],[0.3333333333333333,\"#9c179e\"],[0.4444444444444444,\"#bd3786\"],[0.5555555555555556,\"#d8576b\"],[0.6666666666666666,\"#ed7953\"],[0.7777777777777778,\"#fb9f3a\"],[0.8888888888888888,\"#fdca26\"],[1.0,\"#f0f921\"]],\"diverging\":[[0,\"#8e0152\"],[0.1,\"#c51b7d\"],[0.2,\"#de77ae\"],[0.3,\"#f1b6da\"],[0.4,\"#fde0ef\"],[0.5,\"#f7f7f7\"],[0.6,\"#e6f5d0\"],[0.7,\"#b8e186\"],[0.8,\"#7fbc41\"],[0.9,\"#4d9221\"],[1,\"#276419\"]]},\"xaxis\":{\"gridcolor\":\"white\",\"linecolor\":\"white\",\"ticks\":\"\",\"title\":{\"standoff\":15},\"zerolinecolor\":\"white\",\"automargin\":true,\"zerolinewidth\":2},\"yaxis\":{\"gridcolor\":\"white\",\"linecolor\":\"white\",\"ticks\":\"\",\"title\":{\"standoff\":15},\"zerolinecolor\":\"white\",\"automargin\":true,\"zerolinewidth\":2},\"scene\":{\"xaxis\":{\"backgroundcolor\":\"#E5ECF6\",\"gridcolor\":\"white\",\"linecolor\":\"white\",\"showbackground\":true,\"ticks\":\"\",\"zerolinecolor\":\"white\",\"gridwidth\":2},\"yaxis\":{\"backgroundcolor\":\"#E5ECF6\",\"gridcolor\":\"white\",\"linecolor\":\"white\",\"showbackground\":true,\"ticks\":\"\",\"zerolinecolor\":\"white\",\"gridwidth\":2},\"zaxis\":{\"backgroundcolor\":\"#E5ECF6\",\"gridcolor\":\"white\",\"linecolor\":\"white\",\"showbackground\":true,\"ticks\":\"\",\"zerolinecolor\":\"white\",\"gridwidth\":2}},\"shapedefaults\":{\"line\":{\"color\":\"#2a3f5f\"}},\"annotationdefaults\":{\"arrowcolor\":\"#2a3f5f\",\"arrowhead\":0,\"arrowwidth\":1},\"geo\":{\"bgcolor\":\"white\",\"landcolor\":\"#E5ECF6\",\"subunitcolor\":\"white\",\"showland\":true,\"showlakes\":true,\"lakecolor\":\"white\"},\"title\":{\"x\":0.05},\"mapbox\":{\"style\":\"light\"}}},\"xaxis\":{\"anchor\":\"y\",\"domain\":[0.0,1.0]},\"yaxis\":{\"anchor\":\"x\",\"domain\":[0.0,1.0]},\"margin\":{\"t\":60}},                        {\"responsive\": true}                    ).then(function(){\n",
       "                            \n",
       "var gd = document.getElementById('87c5e9ca-9fb3-45cd-ad4c-4a9d38fba092');\n",
       "var x = new MutationObserver(function (mutations, observer) {{\n",
       "        var display = window.getComputedStyle(gd).display;\n",
       "        if (!display || display === 'none') {{\n",
       "            console.log([gd, 'removed!']);\n",
       "            Plotly.purge(gd);\n",
       "            observer.disconnect();\n",
       "        }}\n",
       "}});\n",
       "\n",
       "// Listen for the removal of the full notebook cells\n",
       "var notebookContainer = gd.closest('#notebook-container');\n",
       "if (notebookContainer) {{\n",
       "    x.observe(notebookContainer, {childList: true});\n",
       "}}\n",
       "\n",
       "// Listen for the clearing of the current output cell\n",
       "var outputEl = gd.closest('.output');\n",
       "if (outputEl) {{\n",
       "    x.observe(outputEl, {childList: true});\n",
       "}}\n",
       "\n",
       "                        })                };                });            </script>        </div>"
      ]
     },
     "metadata": {},
     "output_type": "display_data"
    }
   ],
   "source": [
    "# Interactive testing (for now animal only)\n",
    "images, label = test_image_loader.batch_sample(1)\n",
    "\n",
    "prediction = CNN.classify(images)\n",
    "prediction = prediction[0]\n",
    "\n",
    "# Assert animal image loader and CNN are in sync\n",
    "assert(test_image_loader.get_classifications_map() == CNN.get_image_loader_classification_map())\n",
    "\n",
    "# Now reverse mapping from string->float to float->string\n",
    "classification_map = {}\n",
    "for key, value in test_image_loader.get_classifications_map().items():\n",
    "    classification_map[value] = key\n",
    "\n",
    "print(\"Label: \" + classification_map[label[0]] + \" \" + str(label[0]))\n",
    "print(\"Prediction: \" + classification_map[prediction] + \" (\" + str(prediction) + \")\")\n",
    "view_image(np.array(images[0]), input_width, input_height, colorscale=\"\")"
   ]
  }
 ],
 "metadata": {
  "kernelspec": {
   "display_name": ".venv",
   "language": "python",
   "name": "python3"
  },
  "language_info": {
   "codemirror_mode": {
    "name": "ipython",
    "version": 3
   },
   "file_extension": ".py",
   "mimetype": "text/x-python",
   "name": "python",
   "nbconvert_exporter": "python",
   "pygments_lexer": "ipython3",
   "version": "3.10.12"
  },
  "orig_nbformat": 4
 },
 "nbformat": 4,
 "nbformat_minor": 2
}
