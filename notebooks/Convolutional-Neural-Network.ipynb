{
 "cells": [
  {
   "cell_type": "code",
   "execution_count": 1,
   "metadata": {},
   "outputs": [],
   "source": [
    "import rust_machine_learning\n",
    "from syed_ml_lib import *\n",
    "import os"
   ]
  },
  {
   "cell_type": "code",
   "execution_count": 2,
   "metadata": {},
   "outputs": [
    {
     "name": "stdout",
     "output_type": "stream",
     "text": [
      "Reading images for classification \"truck\"\n",
      "Reading images for classification \"airplane\"\n",
      "Reading images for classification \"cat\"\n",
      "Reading images for classification \"deer\"\n",
      "Reading images for classification \"dog\"\n",
      "Reading images for classification \"ship\"\n",
      "Reading images for classification \"bird\"\n",
      "Reading images for classification \"automobile\"\n",
      "Reading images for classification \"frog\"\n",
      "Reading images for classification \"horse\"\n"
     ]
    }
   ],
   "source": [
    "# Setup the CNN\n",
    "num_classifications = 10\n",
    "input_height = 28\n",
    "input_width = 28\n",
    "input_depth = 1\n",
    "CNN = rust_machine_learning.ConvolutionalNeuralNetwork(num_classifications, input_height, input_width, input_depth)\n",
    "\n",
    "# Setup the layers\n",
    "\n",
    "# The api has 3 functions\n",
    "# add_convolutional_layer(filter_height, filter_width, num_filters)\n",
    "# add_max_pool_layer()\n",
    "# add_fully_connected_layer() \n",
    "\n",
    "# Add fully connected layer can only be called once, and must be called last\n",
    "CNN.add_convolutional_layer(3, 3, 10)\n",
    "# CNN.add_convolutional_layer(3, 3, 32)\n",
    "# CNN.add_max_pool_layer()\n",
    "CNN.add_fully_connected_layer() \n",
    "\n",
    "image_directory = \"../data/cifar-10/\"\n",
    "image_directory_path = os.path.abspath(image_directory)\n",
    "CNN.set_image_loader(image_directory_path, input_height, input_width)"
   ]
  },
  {
   "cell_type": "code",
   "execution_count": 3,
   "metadata": {},
   "outputs": [
    {
     "data": {
      "text/html": [
       "<div>\n",
       "<style scoped>\n",
       "    .dataframe tbody tr th:only-of-type {\n",
       "        vertical-align: middle;\n",
       "    }\n",
       "\n",
       "    .dataframe tbody tr th {\n",
       "        vertical-align: top;\n",
       "    }\n",
       "\n",
       "    .dataframe thead th {\n",
       "        text-align: right;\n",
       "    }\n",
       "</style>\n",
       "<table border=\"1\" class=\"dataframe\">\n",
       "  <thead>\n",
       "    <tr style=\"text-align: right;\">\n",
       "      <th></th>\n",
       "      <th>label</th>\n",
       "      <th>pixel0</th>\n",
       "      <th>pixel1</th>\n",
       "      <th>pixel2</th>\n",
       "      <th>pixel3</th>\n",
       "      <th>pixel4</th>\n",
       "      <th>pixel5</th>\n",
       "      <th>pixel6</th>\n",
       "      <th>pixel7</th>\n",
       "      <th>pixel8</th>\n",
       "      <th>...</th>\n",
       "      <th>pixel774</th>\n",
       "      <th>pixel775</th>\n",
       "      <th>pixel776</th>\n",
       "      <th>pixel777</th>\n",
       "      <th>pixel778</th>\n",
       "      <th>pixel779</th>\n",
       "      <th>pixel780</th>\n",
       "      <th>pixel781</th>\n",
       "      <th>pixel782</th>\n",
       "      <th>pixel783</th>\n",
       "    </tr>\n",
       "  </thead>\n",
       "  <tbody>\n",
       "    <tr>\n",
       "      <th>0</th>\n",
       "      <td>1.0</td>\n",
       "      <td>-0.5</td>\n",
       "      <td>-0.5</td>\n",
       "      <td>-0.5</td>\n",
       "      <td>-0.5</td>\n",
       "      <td>-0.5</td>\n",
       "      <td>-0.5</td>\n",
       "      <td>-0.5</td>\n",
       "      <td>-0.5</td>\n",
       "      <td>-0.5</td>\n",
       "      <td>...</td>\n",
       "      <td>-0.5</td>\n",
       "      <td>-0.5</td>\n",
       "      <td>-0.5</td>\n",
       "      <td>-0.5</td>\n",
       "      <td>-0.5</td>\n",
       "      <td>-0.5</td>\n",
       "      <td>-0.5</td>\n",
       "      <td>-0.5</td>\n",
       "      <td>-0.5</td>\n",
       "      <td>-0.5</td>\n",
       "    </tr>\n",
       "    <tr>\n",
       "      <th>1</th>\n",
       "      <td>0.0</td>\n",
       "      <td>-0.5</td>\n",
       "      <td>-0.5</td>\n",
       "      <td>-0.5</td>\n",
       "      <td>-0.5</td>\n",
       "      <td>-0.5</td>\n",
       "      <td>-0.5</td>\n",
       "      <td>-0.5</td>\n",
       "      <td>-0.5</td>\n",
       "      <td>-0.5</td>\n",
       "      <td>...</td>\n",
       "      <td>-0.5</td>\n",
       "      <td>-0.5</td>\n",
       "      <td>-0.5</td>\n",
       "      <td>-0.5</td>\n",
       "      <td>-0.5</td>\n",
       "      <td>-0.5</td>\n",
       "      <td>-0.5</td>\n",
       "      <td>-0.5</td>\n",
       "      <td>-0.5</td>\n",
       "      <td>-0.5</td>\n",
       "    </tr>\n",
       "    <tr>\n",
       "      <th>2</th>\n",
       "      <td>1.0</td>\n",
       "      <td>-0.5</td>\n",
       "      <td>-0.5</td>\n",
       "      <td>-0.5</td>\n",
       "      <td>-0.5</td>\n",
       "      <td>-0.5</td>\n",
       "      <td>-0.5</td>\n",
       "      <td>-0.5</td>\n",
       "      <td>-0.5</td>\n",
       "      <td>-0.5</td>\n",
       "      <td>...</td>\n",
       "      <td>-0.5</td>\n",
       "      <td>-0.5</td>\n",
       "      <td>-0.5</td>\n",
       "      <td>-0.5</td>\n",
       "      <td>-0.5</td>\n",
       "      <td>-0.5</td>\n",
       "      <td>-0.5</td>\n",
       "      <td>-0.5</td>\n",
       "      <td>-0.5</td>\n",
       "      <td>-0.5</td>\n",
       "    </tr>\n",
       "    <tr>\n",
       "      <th>3</th>\n",
       "      <td>4.0</td>\n",
       "      <td>-0.5</td>\n",
       "      <td>-0.5</td>\n",
       "      <td>-0.5</td>\n",
       "      <td>-0.5</td>\n",
       "      <td>-0.5</td>\n",
       "      <td>-0.5</td>\n",
       "      <td>-0.5</td>\n",
       "      <td>-0.5</td>\n",
       "      <td>-0.5</td>\n",
       "      <td>...</td>\n",
       "      <td>-0.5</td>\n",
       "      <td>-0.5</td>\n",
       "      <td>-0.5</td>\n",
       "      <td>-0.5</td>\n",
       "      <td>-0.5</td>\n",
       "      <td>-0.5</td>\n",
       "      <td>-0.5</td>\n",
       "      <td>-0.5</td>\n",
       "      <td>-0.5</td>\n",
       "      <td>-0.5</td>\n",
       "    </tr>\n",
       "    <tr>\n",
       "      <th>4</th>\n",
       "      <td>0.0</td>\n",
       "      <td>-0.5</td>\n",
       "      <td>-0.5</td>\n",
       "      <td>-0.5</td>\n",
       "      <td>-0.5</td>\n",
       "      <td>-0.5</td>\n",
       "      <td>-0.5</td>\n",
       "      <td>-0.5</td>\n",
       "      <td>-0.5</td>\n",
       "      <td>-0.5</td>\n",
       "      <td>...</td>\n",
       "      <td>-0.5</td>\n",
       "      <td>-0.5</td>\n",
       "      <td>-0.5</td>\n",
       "      <td>-0.5</td>\n",
       "      <td>-0.5</td>\n",
       "      <td>-0.5</td>\n",
       "      <td>-0.5</td>\n",
       "      <td>-0.5</td>\n",
       "      <td>-0.5</td>\n",
       "      <td>-0.5</td>\n",
       "    </tr>\n",
       "    <tr>\n",
       "      <th>...</th>\n",
       "      <td>...</td>\n",
       "      <td>...</td>\n",
       "      <td>...</td>\n",
       "      <td>...</td>\n",
       "      <td>...</td>\n",
       "      <td>...</td>\n",
       "      <td>...</td>\n",
       "      <td>...</td>\n",
       "      <td>...</td>\n",
       "      <td>...</td>\n",
       "      <td>...</td>\n",
       "      <td>...</td>\n",
       "      <td>...</td>\n",
       "      <td>...</td>\n",
       "      <td>...</td>\n",
       "      <td>...</td>\n",
       "      <td>...</td>\n",
       "      <td>...</td>\n",
       "      <td>...</td>\n",
       "      <td>...</td>\n",
       "      <td>...</td>\n",
       "    </tr>\n",
       "    <tr>\n",
       "      <th>41995</th>\n",
       "      <td>0.0</td>\n",
       "      <td>-0.5</td>\n",
       "      <td>-0.5</td>\n",
       "      <td>-0.5</td>\n",
       "      <td>-0.5</td>\n",
       "      <td>-0.5</td>\n",
       "      <td>-0.5</td>\n",
       "      <td>-0.5</td>\n",
       "      <td>-0.5</td>\n",
       "      <td>-0.5</td>\n",
       "      <td>...</td>\n",
       "      <td>-0.5</td>\n",
       "      <td>-0.5</td>\n",
       "      <td>-0.5</td>\n",
       "      <td>-0.5</td>\n",
       "      <td>-0.5</td>\n",
       "      <td>-0.5</td>\n",
       "      <td>-0.5</td>\n",
       "      <td>-0.5</td>\n",
       "      <td>-0.5</td>\n",
       "      <td>-0.5</td>\n",
       "    </tr>\n",
       "    <tr>\n",
       "      <th>41996</th>\n",
       "      <td>1.0</td>\n",
       "      <td>-0.5</td>\n",
       "      <td>-0.5</td>\n",
       "      <td>-0.5</td>\n",
       "      <td>-0.5</td>\n",
       "      <td>-0.5</td>\n",
       "      <td>-0.5</td>\n",
       "      <td>-0.5</td>\n",
       "      <td>-0.5</td>\n",
       "      <td>-0.5</td>\n",
       "      <td>...</td>\n",
       "      <td>-0.5</td>\n",
       "      <td>-0.5</td>\n",
       "      <td>-0.5</td>\n",
       "      <td>-0.5</td>\n",
       "      <td>-0.5</td>\n",
       "      <td>-0.5</td>\n",
       "      <td>-0.5</td>\n",
       "      <td>-0.5</td>\n",
       "      <td>-0.5</td>\n",
       "      <td>-0.5</td>\n",
       "    </tr>\n",
       "    <tr>\n",
       "      <th>41997</th>\n",
       "      <td>7.0</td>\n",
       "      <td>-0.5</td>\n",
       "      <td>-0.5</td>\n",
       "      <td>-0.5</td>\n",
       "      <td>-0.5</td>\n",
       "      <td>-0.5</td>\n",
       "      <td>-0.5</td>\n",
       "      <td>-0.5</td>\n",
       "      <td>-0.5</td>\n",
       "      <td>-0.5</td>\n",
       "      <td>...</td>\n",
       "      <td>-0.5</td>\n",
       "      <td>-0.5</td>\n",
       "      <td>-0.5</td>\n",
       "      <td>-0.5</td>\n",
       "      <td>-0.5</td>\n",
       "      <td>-0.5</td>\n",
       "      <td>-0.5</td>\n",
       "      <td>-0.5</td>\n",
       "      <td>-0.5</td>\n",
       "      <td>-0.5</td>\n",
       "    </tr>\n",
       "    <tr>\n",
       "      <th>41998</th>\n",
       "      <td>6.0</td>\n",
       "      <td>-0.5</td>\n",
       "      <td>-0.5</td>\n",
       "      <td>-0.5</td>\n",
       "      <td>-0.5</td>\n",
       "      <td>-0.5</td>\n",
       "      <td>-0.5</td>\n",
       "      <td>-0.5</td>\n",
       "      <td>-0.5</td>\n",
       "      <td>-0.5</td>\n",
       "      <td>...</td>\n",
       "      <td>-0.5</td>\n",
       "      <td>-0.5</td>\n",
       "      <td>-0.5</td>\n",
       "      <td>-0.5</td>\n",
       "      <td>-0.5</td>\n",
       "      <td>-0.5</td>\n",
       "      <td>-0.5</td>\n",
       "      <td>-0.5</td>\n",
       "      <td>-0.5</td>\n",
       "      <td>-0.5</td>\n",
       "    </tr>\n",
       "    <tr>\n",
       "      <th>41999</th>\n",
       "      <td>9.0</td>\n",
       "      <td>-0.5</td>\n",
       "      <td>-0.5</td>\n",
       "      <td>-0.5</td>\n",
       "      <td>-0.5</td>\n",
       "      <td>-0.5</td>\n",
       "      <td>-0.5</td>\n",
       "      <td>-0.5</td>\n",
       "      <td>-0.5</td>\n",
       "      <td>-0.5</td>\n",
       "      <td>...</td>\n",
       "      <td>-0.5</td>\n",
       "      <td>-0.5</td>\n",
       "      <td>-0.5</td>\n",
       "      <td>-0.5</td>\n",
       "      <td>-0.5</td>\n",
       "      <td>-0.5</td>\n",
       "      <td>-0.5</td>\n",
       "      <td>-0.5</td>\n",
       "      <td>-0.5</td>\n",
       "      <td>-0.5</td>\n",
       "    </tr>\n",
       "  </tbody>\n",
       "</table>\n",
       "<p>42000 rows × 785 columns</p>\n",
       "</div>"
      ],
      "text/plain": [
       "       label  pixel0  pixel1  pixel2  pixel3  pixel4  pixel5  pixel6  pixel7  \\\n",
       "0        1.0    -0.5    -0.5    -0.5    -0.5    -0.5    -0.5    -0.5    -0.5   \n",
       "1        0.0    -0.5    -0.5    -0.5    -0.5    -0.5    -0.5    -0.5    -0.5   \n",
       "2        1.0    -0.5    -0.5    -0.5    -0.5    -0.5    -0.5    -0.5    -0.5   \n",
       "3        4.0    -0.5    -0.5    -0.5    -0.5    -0.5    -0.5    -0.5    -0.5   \n",
       "4        0.0    -0.5    -0.5    -0.5    -0.5    -0.5    -0.5    -0.5    -0.5   \n",
       "...      ...     ...     ...     ...     ...     ...     ...     ...     ...   \n",
       "41995    0.0    -0.5    -0.5    -0.5    -0.5    -0.5    -0.5    -0.5    -0.5   \n",
       "41996    1.0    -0.5    -0.5    -0.5    -0.5    -0.5    -0.5    -0.5    -0.5   \n",
       "41997    7.0    -0.5    -0.5    -0.5    -0.5    -0.5    -0.5    -0.5    -0.5   \n",
       "41998    6.0    -0.5    -0.5    -0.5    -0.5    -0.5    -0.5    -0.5    -0.5   \n",
       "41999    9.0    -0.5    -0.5    -0.5    -0.5    -0.5    -0.5    -0.5    -0.5   \n",
       "\n",
       "       pixel8  ...  pixel774  pixel775  pixel776  pixel777  pixel778  \\\n",
       "0        -0.5  ...      -0.5      -0.5      -0.5      -0.5      -0.5   \n",
       "1        -0.5  ...      -0.5      -0.5      -0.5      -0.5      -0.5   \n",
       "2        -0.5  ...      -0.5      -0.5      -0.5      -0.5      -0.5   \n",
       "3        -0.5  ...      -0.5      -0.5      -0.5      -0.5      -0.5   \n",
       "4        -0.5  ...      -0.5      -0.5      -0.5      -0.5      -0.5   \n",
       "...       ...  ...       ...       ...       ...       ...       ...   \n",
       "41995    -0.5  ...      -0.5      -0.5      -0.5      -0.5      -0.5   \n",
       "41996    -0.5  ...      -0.5      -0.5      -0.5      -0.5      -0.5   \n",
       "41997    -0.5  ...      -0.5      -0.5      -0.5      -0.5      -0.5   \n",
       "41998    -0.5  ...      -0.5      -0.5      -0.5      -0.5      -0.5   \n",
       "41999    -0.5  ...      -0.5      -0.5      -0.5      -0.5      -0.5   \n",
       "\n",
       "       pixel779  pixel780  pixel781  pixel782  pixel783  \n",
       "0          -0.5      -0.5      -0.5      -0.5      -0.5  \n",
       "1          -0.5      -0.5      -0.5      -0.5      -0.5  \n",
       "2          -0.5      -0.5      -0.5      -0.5      -0.5  \n",
       "3          -0.5      -0.5      -0.5      -0.5      -0.5  \n",
       "4          -0.5      -0.5      -0.5      -0.5      -0.5  \n",
       "...         ...       ...       ...       ...       ...  \n",
       "41995      -0.5      -0.5      -0.5      -0.5      -0.5  \n",
       "41996      -0.5      -0.5      -0.5      -0.5      -0.5  \n",
       "41997      -0.5      -0.5      -0.5      -0.5      -0.5  \n",
       "41998      -0.5      -0.5      -0.5      -0.5      -0.5  \n",
       "41999      -0.5      -0.5      -0.5      -0.5      -0.5  \n",
       "\n",
       "[42000 rows x 785 columns]"
      ]
     },
     "execution_count": 3,
     "metadata": {},
     "output_type": "execute_result"
    }
   ],
   "source": [
    "# Grab mnist data\n",
    "import random\n",
    "import numpy as np\n",
    "\n",
    "df = pd.read_csv(\"../data/digit-recognizer/train.csv\")\n",
    "\n",
    "# Normalize images\n",
    "df.iloc[:, 1:] = df.iloc[:, 1:].div(255.0).sub(0.5)\n",
    "images = df.iloc[:, 1:].values.tolist()\n",
    "df.iloc[:, 0] = df.iloc[:, 0].astype(np.float32)\n",
    "labels = df.iloc[:, 0].values.tolist()\n",
    "\n",
    "# Split into training and testing\n",
    "test_images = images[0:20000]\n",
    "test_labels = labels[0:20000]\n",
    "train_images = images[20000:]\n",
    "train_labels = labels[20000:]\n",
    "\n",
    "df"
   ]
  },
  {
   "cell_type": "code",
   "execution_count": 4,
   "metadata": {},
   "outputs": [],
   "source": [
    "def test_mnist():\n",
    "    num_batches_to_test = 500\n",
    "    num_right = 0\n",
    "    for i in range(num_batches_to_test):\n",
    "\n",
    "        # Random sample one image from python list of images\n",
    "        rand_index = random.randint(0, len(test_images) - 1)\n",
    "        image = test_images[rand_index]\n",
    "        label = test_labels[rand_index]\n",
    "\n",
    "        prediction = CNN.classify([[image]])[0]\n",
    "        if prediction == label:\n",
    "            num_right += 1\n",
    "\n",
    "    print(\"Accuracy: \" + str(100.0 * num_right / (num_batches_to_test)))"
   ]
  },
  {
   "cell_type": "code",
   "execution_count": 5,
   "metadata": {},
   "outputs": [
    {
     "name": "stdout",
     "output_type": "stream",
     "text": [
      "Reading images for classification \"truck\"\n",
      "Reading images for classification \"airplane\"\n",
      "Reading images for classification \"cat\"\n",
      "Reading images for classification \"deer\"\n",
      "Reading images for classification \"dog\"\n",
      "Reading images for classification \"ship\"\n",
      "Reading images for classification \"bird\"\n",
      "Reading images for classification \"automobile\"\n",
      "Reading images for classification \"frog\"\n",
      "Reading images for classification \"horse\"\n"
     ]
    }
   ],
   "source": [
    "test_image_loader = rust_machine_learning.ImageBatchLoader(image_directory_path, input_width, input_height)\n",
    "def test_using_image_loader():\n",
    "    num_batches_to_test = 100\n",
    "    num_right = 0\n",
    "    for i in range(num_batches_to_test):\n",
    "\n",
    "        images, label = test_image_loader.batch_sample(1)\n",
    "\n",
    "        prediction = CNN.classify(images)[0]\n",
    "        if prediction == label[0]:\n",
    "            num_right += 1\n",
    "\n",
    "    print(\"Accuracy: \" + str(100.0 * num_right / (num_batches_to_test)))"
   ]
  },
  {
   "cell_type": "code",
   "execution_count": 6,
   "metadata": {},
   "outputs": [],
   "source": [
    "def train_using_raw_data():\n",
    "    learning_rate = 1e-3\n",
    "    batch_size = 1\n",
    "    num_iter = 3000\n",
    "\n",
    "    print(\"Accuracy before training:\")\n",
    "    test_mnist()\n",
    "    print(\"Training...\")\n",
    "    for i in range(0, num_iter):\n",
    "\n",
    "        # Create image and label batch from mnist\n",
    "        image_batch, label_batch = [], []\n",
    "        for j in range(batch_size):\n",
    "            rand_index = random.randint(0, len(train_images) - 1)\n",
    "            image = train_images[rand_index]\n",
    "            label = train_labels[rand_index]\n",
    "            image_batch.append([image])\n",
    "            label_batch.append(label)\n",
    "\n",
    "        # Train using MNIST dataset, select one image at a time randomly\n",
    "        CNN.train_raw_data(image_batch, label_batch, learning_rate)\n",
    "\n",
    "    print(\"Accuracy after training:\")\n",
    "    test_mnist()\n",
    "\n",
    "    # Get the loss and accuracy and plot it\n",
    "    perfomance_info = CNN.get_performance_info() # Return a list of tuple (accuracy, loss)\n",
    "    accuracy = [x[0] for x in perfomance_info]\n",
    "    loss = [x[1] for x in perfomance_info]\n",
    "\n",
    "    # Normalize the accuracy and loss\n",
    "    accuracy = [x / 100.0 for x in accuracy]\n",
    "    loss = [x / max(loss) for x in loss]\n",
    "\n",
    "    # Use plotly\n",
    "    import plotly\n",
    "    import plotly.graph_objs as go\n",
    "    plotly.offline.init_notebook_mode(connected=True)\n",
    "\n",
    "    trace0 = go.Scatter(\n",
    "        x = list(range(len(accuracy))),\n",
    "        y = accuracy,\n",
    "        mode = 'lines',\n",
    "        name = 'accuracy'\n",
    "    )\n",
    "    trace1 = go.Scatter(\n",
    "        x = list(range(len(loss))),\n",
    "        y = loss,\n",
    "        mode = 'lines',\n",
    "        name = 'loss'\n",
    "    )\n",
    "\n",
    "    data = [trace0, trace1]\n",
    "    plotly.offline.iplot(data, filename='basic-line')"
   ]
  },
  {
   "cell_type": "code",
   "execution_count": 7,
   "metadata": {},
   "outputs": [],
   "source": [
    "def train_using_set_img_loader():\n",
    "    learning_rate = 1e-5\n",
    "    batch_size = 8\n",
    "    num_iter = 2000\n",
    "    print(\"Accuracy before training:\")\n",
    "    test_using_image_loader()\n",
    "    print(\"Training...\")\n",
    "    CNN.train_using_image_loader(learning_rate, batch_size, num_iter)\n",
    "    test_using_image_loader()\n",
    "\n",
    "    # Get the loss and accuracy and plot it\n",
    "    perfomance_info = CNN.get_performance_info() # Return a list of tuple (accuracy, loss)\n",
    "    accuracy = [x[0] for x in perfomance_info]\n",
    "    loss = [x[1] for x in perfomance_info]\n",
    "\n",
    "    # Normalize the accuracy and loss\n",
    "    accuracy = [x / 100.0 for x in accuracy]\n",
    "    loss = [x / max(loss) for x in loss]\n",
    "\n",
    "    # Use plotly\n",
    "    import plotly\n",
    "    import plotly.graph_objs as go\n",
    "    plotly.offline.init_notebook_mode(connected=True)\n",
    "\n",
    "    trace0 = go.Scatter(\n",
    "        x = list(range(len(accuracy))),\n",
    "        y = accuracy,\n",
    "        mode = 'lines',\n",
    "        name = 'accuracy'\n",
    "    )\n",
    "    trace1 = go.Scatter(\n",
    "        x = list(range(len(loss))),\n",
    "        y = loss,\n",
    "        mode = 'lines',\n",
    "        name = 'loss'\n",
    "    )\n",
    "\n",
    "    data = [trace0, trace1]\n",
    "    plotly.offline.iplot(data, filename='basic-line')\n",
    "    "
   ]
  },
  {
   "cell_type": "code",
   "execution_count": 8,
   "metadata": {},
   "outputs": [
    {
     "name": "stdout",
     "output_type": "stream",
     "text": [
      "Accuracy before training:\n",
      "Accuracy: 10.2\n",
      "Training...\n",
      "Performance Info For 50 Iteration:\n",
      "Accuracy: 12.5\n",
      "Loss: 619.1576\n",
      "Performance Info For 100 Iteration:\n",
      "Accuracy: 6.5\n",
      "Loss: 652.2816\n",
      "Performance Info For 150 Iteration:\n",
      "Accuracy: 8\n",
      "Loss: 694.3014\n",
      "Performance Info For 200 Iteration:\n",
      "Accuracy: 11\n",
      "Loss: 781.0456\n",
      "Performance Info For 250 Iteration:\n",
      "Accuracy: 7\n",
      "Loss: 683.83203\n",
      "Performance Info For 300 Iteration:\n",
      "Accuracy: 7\n",
      "Loss: 748.5367\n",
      "Performance Info For 350 Iteration:\n",
      "Accuracy: 8.5\n",
      "Loss: 712.78186\n",
      "Performance Info For 400 Iteration:\n",
      "Accuracy: 7\n",
      "Loss: 693.89685\n",
      "Performance Info For 450 Iteration:\n",
      "Accuracy: 8.5\n",
      "Loss: 636.67535\n",
      "Performance Info For 500 Iteration:\n",
      "Accuracy: 8.5\n",
      "Loss: 619.711\n",
      "Performance Info For 550 Iteration:\n",
      "Accuracy: 15\n",
      "Loss: 697.1907\n",
      "Performance Info For 600 Iteration:\n",
      "Accuracy: 12.5\n",
      "Loss: 734.1677\n",
      "Performance Info For 650 Iteration:\n",
      "Accuracy: 10.5\n",
      "Loss: 717.05206\n",
      "Performance Info For 700 Iteration:\n",
      "Accuracy: 9\n",
      "Loss: 665.14935\n",
      "Performance Info For 750 Iteration:\n",
      "Accuracy: 10.5\n",
      "Loss: 625.9435\n",
      "Performance Info For 800 Iteration:\n",
      "Accuracy: 7.5\n",
      "Loss: 777.66766\n",
      "Performance Info For 850 Iteration:\n",
      "Accuracy: 4.5\n",
      "Loss: 703.9775\n",
      "Performance Info For 900 Iteration:\n",
      "Accuracy: 9\n",
      "Loss: 715.3623\n",
      "Performance Info For 950 Iteration:\n",
      "Accuracy: 11\n",
      "Loss: 773.2761\n",
      "Performance Info For 1000 Iteration:\n",
      "Accuracy: 11\n",
      "Loss: 661.25653\n",
      "Performance Info For 1050 Iteration:\n",
      "Accuracy: 11\n",
      "Loss: 692.0047\n",
      "Performance Info For 1100 Iteration:\n",
      "Accuracy: 9\n",
      "Loss: 824.7933\n",
      "Performance Info For 1150 Iteration:\n",
      "Accuracy: 9\n",
      "Loss: 684.39215\n",
      "Performance Info For 1200 Iteration:\n",
      "Accuracy: 7.5\n",
      "Loss: 695.9735\n",
      "Performance Info For 1250 Iteration:\n",
      "Accuracy: 7.5\n",
      "Loss: 839.5276\n",
      "Performance Info For 1300 Iteration:\n",
      "Accuracy: 7\n",
      "Loss: 627.329\n",
      "Performance Info For 1350 Iteration:\n",
      "Accuracy: 9\n",
      "Loss: 608.27826\n",
      "Performance Info For 1400 Iteration:\n",
      "Accuracy: 12\n",
      "Loss: 788.23956\n",
      "Performance Info For 1450 Iteration:\n",
      "Accuracy: 8.5\n",
      "Loss: 695.1165\n",
      "Performance Info For 1500 Iteration:\n",
      "Accuracy: 10.5\n",
      "Loss: 780.7003\n",
      "Performance Info For 1550 Iteration:\n",
      "Accuracy: 7\n",
      "Loss: 762.96655\n",
      "Performance Info For 1600 Iteration:\n",
      "Accuracy: 4\n",
      "Loss: 737.0772\n",
      "Performance Info For 1650 Iteration:\n",
      "Accuracy: 10\n",
      "Loss: 717.6997\n",
      "Performance Info For 1700 Iteration:\n",
      "Accuracy: 11\n",
      "Loss: 833.2197\n",
      "Performance Info For 1750 Iteration:\n",
      "Accuracy: 8\n",
      "Loss: 682.2609\n",
      "Performance Info For 1800 Iteration:\n",
      "Accuracy: 11\n",
      "Loss: 700.7144\n",
      "Performance Info For 1850 Iteration:\n",
      "Accuracy: 9.5\n",
      "Loss: 744.98535\n",
      "Performance Info For 1900 Iteration:\n",
      "Accuracy: 5.5\n",
      "Loss: 687.8512\n",
      "Performance Info For 1950 Iteration:\n",
      "Accuracy: 9.5\n",
      "Loss: 764.81476\n",
      "Performance Info For 2000 Iteration:\n",
      "Accuracy: 10\n",
      "Loss: 765.34686\n",
      "Performance Info For 2050 Iteration:\n",
      "Accuracy: 11\n",
      "Loss: 733.95105\n",
      "Performance Info For 2100 Iteration:\n",
      "Accuracy: 8.5\n",
      "Loss: 748.1723\n",
      "Performance Info For 2150 Iteration:\n",
      "Accuracy: 5.5\n",
      "Loss: 825.6624\n",
      "Performance Info For 2200 Iteration:\n",
      "Accuracy: 5.5\n",
      "Loss: 756.0104\n",
      "Performance Info For 2250 Iteration:\n",
      "Accuracy: 6.5\n",
      "Loss: 728.0722\n",
      "Performance Info For 2300 Iteration:\n",
      "Accuracy: 8.5\n",
      "Loss: 673.7088\n",
      "Performance Info For 2350 Iteration:\n",
      "Accuracy: 9\n",
      "Loss: 700.68195\n",
      "Performance Info For 2400 Iteration:\n",
      "Accuracy: 9.5\n",
      "Loss: 726.73303\n",
      "Performance Info For 2450 Iteration:\n",
      "Accuracy: 9.5\n",
      "Loss: 775.1181\n",
      "Performance Info For 2500 Iteration:\n",
      "Accuracy: 7.5\n",
      "Loss: 779.19305\n",
      "Performance Info For 2550 Iteration:\n",
      "Accuracy: 8.5\n",
      "Loss: 723.6811\n",
      "Performance Info For 2600 Iteration:\n",
      "Accuracy: 6.5\n",
      "Loss: 744.5028\n",
      "Performance Info For 2650 Iteration:\n",
      "Accuracy: 14\n",
      "Loss: 692.7646\n",
      "Performance Info For 2700 Iteration:\n",
      "Accuracy: 8\n",
      "Loss: 695.0401\n",
      "Performance Info For 2750 Iteration:\n",
      "Accuracy: 12.5\n",
      "Loss: 693.95807\n",
      "Performance Info For 2800 Iteration:\n",
      "Accuracy: 10\n",
      "Loss: 734.62177\n",
      "Performance Info For 2850 Iteration:\n",
      "Accuracy: 8.5\n",
      "Loss: 803.44293\n",
      "Performance Info For 2900 Iteration:\n",
      "Accuracy: 11.5\n",
      "Loss: 744.5989\n",
      "Performance Info For 2950 Iteration:\n",
      "Accuracy: 7.5\n",
      "Loss: 813.7581\n",
      "Performance Info For 3000 Iteration:\n",
      "Accuracy: 12\n",
      "Loss: 796.44073\n",
      "Performance Info For 3050 Iteration:\n",
      "Accuracy: 9.5\n",
      "Loss: 771.84973\n",
      "Performance Info For 3100 Iteration:\n",
      "Accuracy: 10\n",
      "Loss: 780.9619\n",
      "Performance Info For 3150 Iteration:\n",
      "Accuracy: 5\n",
      "Loss: 896.96136\n",
      "Performance Info For 3200 Iteration:\n",
      "Accuracy: 11\n",
      "Loss: 766.10834\n",
      "Performance Info For 3250 Iteration:\n",
      "Accuracy: 11.5\n",
      "Loss: 595.4636\n",
      "Performance Info For 3300 Iteration:\n",
      "Accuracy: 8.5\n",
      "Loss: 791.7358\n",
      "Performance Info For 3350 Iteration:\n",
      "Accuracy: 11.5\n",
      "Loss: 817.3926\n",
      "Performance Info For 3400 Iteration:\n",
      "Accuracy: 7.5\n",
      "Loss: 797.65686\n",
      "Performance Info For 3450 Iteration:\n",
      "Accuracy: 7.5\n",
      "Loss: 764.3225\n",
      "Performance Info For 3500 Iteration:\n",
      "Accuracy: 8.5\n",
      "Loss: 731.90204\n",
      "Performance Info For 3550 Iteration:\n",
      "Accuracy: 7\n",
      "Loss: 759.91876\n",
      "Performance Info For 3600 Iteration:\n",
      "Accuracy: 12\n",
      "Loss: 768.68756\n",
      "Performance Info For 3650 Iteration:\n",
      "Accuracy: 8.5\n",
      "Loss: 734.7468\n",
      "Performance Info For 3700 Iteration:\n",
      "Accuracy: 11\n",
      "Loss: 738.1915\n",
      "Performance Info For 3750 Iteration:\n",
      "Accuracy: 8.5\n",
      "Loss: 766.9918\n",
      "Performance Info For 3800 Iteration:\n",
      "Accuracy: 10.5\n",
      "Loss: 824.2833\n",
      "Performance Info For 3850 Iteration:\n",
      "Accuracy: 9.5\n",
      "Loss: 789.0069\n",
      "Performance Info For 3900 Iteration:\n",
      "Accuracy: 8\n",
      "Loss: 749.3682\n",
      "Performance Info For 3950 Iteration:\n",
      "Accuracy: 12.5\n",
      "Loss: 773.49274\n",
      "Performance Info For 4000 Iteration:\n",
      "Accuracy: 12\n",
      "Loss: 694.4462\n",
      "Performance Info For 4050 Iteration:\n",
      "Accuracy: 5.5\n",
      "Loss: 871.622\n",
      "Performance Info For 4100 Iteration:\n",
      "Accuracy: 9.5\n",
      "Loss: 777.27264\n",
      "Performance Info For 4150 Iteration:\n",
      "Accuracy: 10.5\n",
      "Loss: 767.6068\n",
      "Performance Info For 4200 Iteration:\n",
      "Accuracy: 6.5\n",
      "Loss: 831.73303\n",
      "Performance Info For 4250 Iteration:\n",
      "Accuracy: 6.5\n",
      "Loss: 786.209\n",
      "Performance Info For 4300 Iteration:\n",
      "Accuracy: 6\n",
      "Loss: 775.5566\n",
      "Performance Info For 4350 Iteration:\n",
      "Accuracy: 15\n",
      "Loss: 804.4681\n",
      "Performance Info For 4400 Iteration:\n",
      "Accuracy: 6\n",
      "Loss: 866.6363\n",
      "Performance Info For 4450 Iteration:\n",
      "Accuracy: 11\n",
      "Loss: 835.1843\n",
      "Performance Info For 4500 Iteration:\n",
      "Accuracy: 4\n",
      "Loss: 828.2092\n",
      "Performance Info For 4550 Iteration:\n",
      "Accuracy: 7\n",
      "Loss: 844.11035\n",
      "Performance Info For 4600 Iteration:\n",
      "Accuracy: 11.5\n",
      "Loss: 861.0414\n",
      "Performance Info For 4650 Iteration:\n",
      "Accuracy: 10\n",
      "Loss: 920.27435\n",
      "Performance Info For 4700 Iteration:\n",
      "Accuracy: 9.5\n",
      "Loss: 767.6736\n",
      "Performance Info For 4750 Iteration:\n",
      "Accuracy: 9\n",
      "Loss: 765.74817\n",
      "Performance Info For 4800 Iteration:\n",
      "Accuracy: 8\n",
      "Loss: 804.06024\n",
      "Performance Info For 4850 Iteration:\n",
      "Accuracy: 10.5\n",
      "Loss: 830.63055\n",
      "Performance Info For 4900 Iteration:\n",
      "Accuracy: 8\n",
      "Loss: 848.01044\n",
      "Performance Info For 4950 Iteration:\n",
      "Accuracy: 6\n",
      "Loss: 880.9312\n",
      "Accuracy after training:\n",
      "Accuracy: 10.2\n"
     ]
    },
    {
     "data": {
      "text/html": [
       "        <script type=\"text/javascript\">\n",
       "        window.PlotlyConfig = {MathJaxConfig: 'local'};\n",
       "        if (window.MathJax && window.MathJax.Hub && window.MathJax.Hub.Config) {window.MathJax.Hub.Config({SVG: {font: \"STIX-Web\"}});}\n",
       "        if (typeof require !== 'undefined') {\n",
       "        require.undef(\"plotly\");\n",
       "        requirejs.config({\n",
       "            paths: {\n",
       "                'plotly': ['https://cdn.plot.ly/plotly-2.20.0.min']\n",
       "            }\n",
       "        });\n",
       "        require(['plotly'], function(Plotly) {\n",
       "            window._Plotly = Plotly;\n",
       "        });\n",
       "        }\n",
       "        </script>\n",
       "        "
      ]
     },
     "metadata": {},
     "output_type": "display_data"
    },
    {
     "data": {
      "application/vnd.plotly.v1+json": {
       "config": {
        "linkText": "Export to plot.ly",
        "plotlyServerURL": "https://plot.ly",
        "showLink": false
       },
       "data": [
        {
         "mode": "lines",
         "name": "accuracy",
         "type": "scatter",
         "x": [
          0,
          1,
          2,
          3,
          4,
          5,
          6,
          7,
          8,
          9,
          10,
          11,
          12,
          13,
          14,
          15,
          16,
          17,
          18,
          19,
          20,
          21,
          22,
          23,
          24,
          25,
          26,
          27,
          28,
          29,
          30,
          31,
          32,
          33,
          34,
          35,
          36,
          37,
          38,
          39,
          40,
          41,
          42,
          43,
          44,
          45,
          46,
          47,
          48,
          49,
          50,
          51,
          52,
          53,
          54,
          55,
          56,
          57,
          58,
          59,
          60,
          61,
          62,
          63,
          64,
          65,
          66,
          67,
          68,
          69,
          70,
          71,
          72,
          73,
          74,
          75,
          76,
          77,
          78,
          79,
          80,
          81,
          82,
          83,
          84,
          85,
          86,
          87,
          88,
          89,
          90,
          91,
          92,
          93,
          94,
          95,
          96,
          97,
          98,
          99
         ],
         "y": [
          0.125,
          0.065,
          0.08,
          0.11,
          0.07,
          0.07,
          0.085,
          0.07,
          0.085,
          0.085,
          0.15,
          0.125,
          0.105,
          0.09,
          0.105,
          0.075,
          0.045,
          0.09,
          0.11,
          0.11,
          0.11,
          0.09,
          0.09,
          0.075,
          0.075,
          0.07,
          0.09,
          0.12,
          0.085,
          0.105,
          0.07,
          0.04,
          0.1,
          0.11,
          0.08,
          0.11,
          0.095,
          0.055,
          0.095,
          0.1,
          0.11,
          0.085,
          0.055,
          0.055,
          0.065,
          0.085,
          0.09,
          0.095,
          0.095,
          0.075,
          0.085,
          0.065,
          0.14,
          0.08,
          0.125,
          0.1,
          0.085,
          0.115,
          0.075,
          0.12,
          0.095,
          0.1,
          0.05,
          0.11,
          0.115,
          0.085,
          0.115,
          0.075,
          0.075,
          0.085,
          0.07,
          0.12,
          0.085,
          0.11,
          0.085,
          0.105,
          0.095,
          0.08,
          0.125,
          0.12,
          0.055,
          0.095,
          0.105,
          0.065,
          0.065,
          0.06,
          0.15,
          0.06,
          0.11,
          0.04,
          0.07,
          0.115,
          0.1,
          0.095,
          0.09,
          0.08,
          0.105,
          0.08,
          0.06,
          0.075
         ]
        },
        {
         "mode": "lines",
         "name": "loss",
         "type": "scatter",
         "x": [
          0,
          1,
          2,
          3,
          4,
          5,
          6,
          7,
          8,
          9,
          10,
          11,
          12,
          13,
          14,
          15,
          16,
          17,
          18,
          19,
          20,
          21,
          22,
          23,
          24,
          25,
          26,
          27,
          28,
          29,
          30,
          31,
          32,
          33,
          34,
          35,
          36,
          37,
          38,
          39,
          40,
          41,
          42,
          43,
          44,
          45,
          46,
          47,
          48,
          49,
          50,
          51,
          52,
          53,
          54,
          55,
          56,
          57,
          58,
          59,
          60,
          61,
          62,
          63,
          64,
          65,
          66,
          67,
          68,
          69,
          70,
          71,
          72,
          73,
          74,
          75,
          76,
          77,
          78,
          79,
          80,
          81,
          82,
          83,
          84,
          85,
          86,
          87,
          88,
          89,
          90,
          91,
          92,
          93,
          94,
          95,
          96,
          97,
          98,
          99
         ],
         "y": [
          0.6727967488571756,
          0.7087903885022824,
          0.7544504411294106,
          0.8487095078683692,
          0.7430740941551389,
          0.8133842692307055,
          0.7745319186683711,
          0.7540108537234439,
          0.6918321171392994,
          0.6733980975309686,
          0.7575900290327983,
          0.7977704933254409,
          0.7791720595379623,
          0.7227728892359782,
          0.6801705158751872,
          0.8450389397639904,
          0.7649647908925554,
          0.7773359132895935,
          0.8402669492017224,
          0.7185428221339024,
          0.7519547811265256,
          0.8962471584832643,
          0.743682738335066,
          0.7562674200934819,
          0.912257942567786,
          0.6816760430501184,
          0.6609749117492468,
          0.8565267090137636,
          0.7553361818968648,
          0.848334319884731,
          0.8290642352734405,
          0.8009320340700137,
          0.7798758105887639,
          0.9054036155865173,
          0.7413668793969933,
          0.7614190422658516,
          0.8095252780997196,
          0.7474414494181005,
          0.8310725554665724,
          0.8316507574890858,
          0.797535047445661,
          0.8129883222159768,
          0.8971915949137058,
          0.8215054276907567,
          0.7911469033063565,
          0.7320738636834679,
          0.7613837585452761,
          0.78969171512375,
          0.8422685044709846,
          0.8466964787576416,
          0.7863753770035699,
          0.8090009301770321,
          0.7527804997753316,
          0.7552531457725029,
          0.7540773754748297,
          0.7982638685084503,
          0.8730471836859218,
          0.8091053222375317,
          0.884255999310243,
          0.8654383687248284,
          0.8387169857621566,
          0.8486185793328259,
          0.974667349791332,
          0.8324782005302507,
          0.6470501118367928,
          0.8603258106716674,
          0.8882053220717248,
          0.8667598501768331,
          0.8305376622213821,
          0.7953085252963384,
          0.8257524071025069,
          0.8352808686958122,
          0.7983997638908924,
          0.8021428891199133,
          0.8334382228147057,
          0.8956930316309933,
          0.8573605190421001,
          0.8142878508267964,
          0.8405023287587193,
          0.7546078250935566,
          0.947132783185848,
          0.8446096987121774,
          0.8341064911765828,
          0.9037881252373112,
          0.8543202163449183,
          0.8427449673443197,
          0.8741611411498049,
          0.9417151403307186,
          0.9075384133269,
          0.8999590456814749,
          0.9172377224093078,
          0.9356355297781005,
          1,
          0.8341790483012248,
          0.8320868297875516,
          0.8737179723135542,
          0.9025901368073207,
          0.9214756819225648,
          0.9572484667001596,
          0.8953751465318988
         ]
        }
       ],
       "layout": {
        "template": {
         "data": {
          "bar": [
           {
            "error_x": {
             "color": "#2a3f5f"
            },
            "error_y": {
             "color": "#2a3f5f"
            },
            "marker": {
             "line": {
              "color": "#E5ECF6",
              "width": 0.5
             },
             "pattern": {
              "fillmode": "overlay",
              "size": 10,
              "solidity": 0.2
             }
            },
            "type": "bar"
           }
          ],
          "barpolar": [
           {
            "marker": {
             "line": {
              "color": "#E5ECF6",
              "width": 0.5
             },
             "pattern": {
              "fillmode": "overlay",
              "size": 10,
              "solidity": 0.2
             }
            },
            "type": "barpolar"
           }
          ],
          "carpet": [
           {
            "aaxis": {
             "endlinecolor": "#2a3f5f",
             "gridcolor": "white",
             "linecolor": "white",
             "minorgridcolor": "white",
             "startlinecolor": "#2a3f5f"
            },
            "baxis": {
             "endlinecolor": "#2a3f5f",
             "gridcolor": "white",
             "linecolor": "white",
             "minorgridcolor": "white",
             "startlinecolor": "#2a3f5f"
            },
            "type": "carpet"
           }
          ],
          "choropleth": [
           {
            "colorbar": {
             "outlinewidth": 0,
             "ticks": ""
            },
            "type": "choropleth"
           }
          ],
          "contour": [
           {
            "colorbar": {
             "outlinewidth": 0,
             "ticks": ""
            },
            "colorscale": [
             [
              0,
              "#0d0887"
             ],
             [
              0.1111111111111111,
              "#46039f"
             ],
             [
              0.2222222222222222,
              "#7201a8"
             ],
             [
              0.3333333333333333,
              "#9c179e"
             ],
             [
              0.4444444444444444,
              "#bd3786"
             ],
             [
              0.5555555555555556,
              "#d8576b"
             ],
             [
              0.6666666666666666,
              "#ed7953"
             ],
             [
              0.7777777777777778,
              "#fb9f3a"
             ],
             [
              0.8888888888888888,
              "#fdca26"
             ],
             [
              1,
              "#f0f921"
             ]
            ],
            "type": "contour"
           }
          ],
          "contourcarpet": [
           {
            "colorbar": {
             "outlinewidth": 0,
             "ticks": ""
            },
            "type": "contourcarpet"
           }
          ],
          "heatmap": [
           {
            "colorbar": {
             "outlinewidth": 0,
             "ticks": ""
            },
            "colorscale": [
             [
              0,
              "#0d0887"
             ],
             [
              0.1111111111111111,
              "#46039f"
             ],
             [
              0.2222222222222222,
              "#7201a8"
             ],
             [
              0.3333333333333333,
              "#9c179e"
             ],
             [
              0.4444444444444444,
              "#bd3786"
             ],
             [
              0.5555555555555556,
              "#d8576b"
             ],
             [
              0.6666666666666666,
              "#ed7953"
             ],
             [
              0.7777777777777778,
              "#fb9f3a"
             ],
             [
              0.8888888888888888,
              "#fdca26"
             ],
             [
              1,
              "#f0f921"
             ]
            ],
            "type": "heatmap"
           }
          ],
          "heatmapgl": [
           {
            "colorbar": {
             "outlinewidth": 0,
             "ticks": ""
            },
            "colorscale": [
             [
              0,
              "#0d0887"
             ],
             [
              0.1111111111111111,
              "#46039f"
             ],
             [
              0.2222222222222222,
              "#7201a8"
             ],
             [
              0.3333333333333333,
              "#9c179e"
             ],
             [
              0.4444444444444444,
              "#bd3786"
             ],
             [
              0.5555555555555556,
              "#d8576b"
             ],
             [
              0.6666666666666666,
              "#ed7953"
             ],
             [
              0.7777777777777778,
              "#fb9f3a"
             ],
             [
              0.8888888888888888,
              "#fdca26"
             ],
             [
              1,
              "#f0f921"
             ]
            ],
            "type": "heatmapgl"
           }
          ],
          "histogram": [
           {
            "marker": {
             "pattern": {
              "fillmode": "overlay",
              "size": 10,
              "solidity": 0.2
             }
            },
            "type": "histogram"
           }
          ],
          "histogram2d": [
           {
            "colorbar": {
             "outlinewidth": 0,
             "ticks": ""
            },
            "colorscale": [
             [
              0,
              "#0d0887"
             ],
             [
              0.1111111111111111,
              "#46039f"
             ],
             [
              0.2222222222222222,
              "#7201a8"
             ],
             [
              0.3333333333333333,
              "#9c179e"
             ],
             [
              0.4444444444444444,
              "#bd3786"
             ],
             [
              0.5555555555555556,
              "#d8576b"
             ],
             [
              0.6666666666666666,
              "#ed7953"
             ],
             [
              0.7777777777777778,
              "#fb9f3a"
             ],
             [
              0.8888888888888888,
              "#fdca26"
             ],
             [
              1,
              "#f0f921"
             ]
            ],
            "type": "histogram2d"
           }
          ],
          "histogram2dcontour": [
           {
            "colorbar": {
             "outlinewidth": 0,
             "ticks": ""
            },
            "colorscale": [
             [
              0,
              "#0d0887"
             ],
             [
              0.1111111111111111,
              "#46039f"
             ],
             [
              0.2222222222222222,
              "#7201a8"
             ],
             [
              0.3333333333333333,
              "#9c179e"
             ],
             [
              0.4444444444444444,
              "#bd3786"
             ],
             [
              0.5555555555555556,
              "#d8576b"
             ],
             [
              0.6666666666666666,
              "#ed7953"
             ],
             [
              0.7777777777777778,
              "#fb9f3a"
             ],
             [
              0.8888888888888888,
              "#fdca26"
             ],
             [
              1,
              "#f0f921"
             ]
            ],
            "type": "histogram2dcontour"
           }
          ],
          "mesh3d": [
           {
            "colorbar": {
             "outlinewidth": 0,
             "ticks": ""
            },
            "type": "mesh3d"
           }
          ],
          "parcoords": [
           {
            "line": {
             "colorbar": {
              "outlinewidth": 0,
              "ticks": ""
             }
            },
            "type": "parcoords"
           }
          ],
          "pie": [
           {
            "automargin": true,
            "type": "pie"
           }
          ],
          "scatter": [
           {
            "fillpattern": {
             "fillmode": "overlay",
             "size": 10,
             "solidity": 0.2
            },
            "type": "scatter"
           }
          ],
          "scatter3d": [
           {
            "line": {
             "colorbar": {
              "outlinewidth": 0,
              "ticks": ""
             }
            },
            "marker": {
             "colorbar": {
              "outlinewidth": 0,
              "ticks": ""
             }
            },
            "type": "scatter3d"
           }
          ],
          "scattercarpet": [
           {
            "marker": {
             "colorbar": {
              "outlinewidth": 0,
              "ticks": ""
             }
            },
            "type": "scattercarpet"
           }
          ],
          "scattergeo": [
           {
            "marker": {
             "colorbar": {
              "outlinewidth": 0,
              "ticks": ""
             }
            },
            "type": "scattergeo"
           }
          ],
          "scattergl": [
           {
            "marker": {
             "colorbar": {
              "outlinewidth": 0,
              "ticks": ""
             }
            },
            "type": "scattergl"
           }
          ],
          "scattermapbox": [
           {
            "marker": {
             "colorbar": {
              "outlinewidth": 0,
              "ticks": ""
             }
            },
            "type": "scattermapbox"
           }
          ],
          "scatterpolar": [
           {
            "marker": {
             "colorbar": {
              "outlinewidth": 0,
              "ticks": ""
             }
            },
            "type": "scatterpolar"
           }
          ],
          "scatterpolargl": [
           {
            "marker": {
             "colorbar": {
              "outlinewidth": 0,
              "ticks": ""
             }
            },
            "type": "scatterpolargl"
           }
          ],
          "scatterternary": [
           {
            "marker": {
             "colorbar": {
              "outlinewidth": 0,
              "ticks": ""
             }
            },
            "type": "scatterternary"
           }
          ],
          "surface": [
           {
            "colorbar": {
             "outlinewidth": 0,
             "ticks": ""
            },
            "colorscale": [
             [
              0,
              "#0d0887"
             ],
             [
              0.1111111111111111,
              "#46039f"
             ],
             [
              0.2222222222222222,
              "#7201a8"
             ],
             [
              0.3333333333333333,
              "#9c179e"
             ],
             [
              0.4444444444444444,
              "#bd3786"
             ],
             [
              0.5555555555555556,
              "#d8576b"
             ],
             [
              0.6666666666666666,
              "#ed7953"
             ],
             [
              0.7777777777777778,
              "#fb9f3a"
             ],
             [
              0.8888888888888888,
              "#fdca26"
             ],
             [
              1,
              "#f0f921"
             ]
            ],
            "type": "surface"
           }
          ],
          "table": [
           {
            "cells": {
             "fill": {
              "color": "#EBF0F8"
             },
             "line": {
              "color": "white"
             }
            },
            "header": {
             "fill": {
              "color": "#C8D4E3"
             },
             "line": {
              "color": "white"
             }
            },
            "type": "table"
           }
          ]
         },
         "layout": {
          "annotationdefaults": {
           "arrowcolor": "#2a3f5f",
           "arrowhead": 0,
           "arrowwidth": 1
          },
          "autotypenumbers": "strict",
          "coloraxis": {
           "colorbar": {
            "outlinewidth": 0,
            "ticks": ""
           }
          },
          "colorscale": {
           "diverging": [
            [
             0,
             "#8e0152"
            ],
            [
             0.1,
             "#c51b7d"
            ],
            [
             0.2,
             "#de77ae"
            ],
            [
             0.3,
             "#f1b6da"
            ],
            [
             0.4,
             "#fde0ef"
            ],
            [
             0.5,
             "#f7f7f7"
            ],
            [
             0.6,
             "#e6f5d0"
            ],
            [
             0.7,
             "#b8e186"
            ],
            [
             0.8,
             "#7fbc41"
            ],
            [
             0.9,
             "#4d9221"
            ],
            [
             1,
             "#276419"
            ]
           ],
           "sequential": [
            [
             0,
             "#0d0887"
            ],
            [
             0.1111111111111111,
             "#46039f"
            ],
            [
             0.2222222222222222,
             "#7201a8"
            ],
            [
             0.3333333333333333,
             "#9c179e"
            ],
            [
             0.4444444444444444,
             "#bd3786"
            ],
            [
             0.5555555555555556,
             "#d8576b"
            ],
            [
             0.6666666666666666,
             "#ed7953"
            ],
            [
             0.7777777777777778,
             "#fb9f3a"
            ],
            [
             0.8888888888888888,
             "#fdca26"
            ],
            [
             1,
             "#f0f921"
            ]
           ],
           "sequentialminus": [
            [
             0,
             "#0d0887"
            ],
            [
             0.1111111111111111,
             "#46039f"
            ],
            [
             0.2222222222222222,
             "#7201a8"
            ],
            [
             0.3333333333333333,
             "#9c179e"
            ],
            [
             0.4444444444444444,
             "#bd3786"
            ],
            [
             0.5555555555555556,
             "#d8576b"
            ],
            [
             0.6666666666666666,
             "#ed7953"
            ],
            [
             0.7777777777777778,
             "#fb9f3a"
            ],
            [
             0.8888888888888888,
             "#fdca26"
            ],
            [
             1,
             "#f0f921"
            ]
           ]
          },
          "colorway": [
           "#636efa",
           "#EF553B",
           "#00cc96",
           "#ab63fa",
           "#FFA15A",
           "#19d3f3",
           "#FF6692",
           "#B6E880",
           "#FF97FF",
           "#FECB52"
          ],
          "font": {
           "color": "#2a3f5f"
          },
          "geo": {
           "bgcolor": "white",
           "lakecolor": "white",
           "landcolor": "#E5ECF6",
           "showlakes": true,
           "showland": true,
           "subunitcolor": "white"
          },
          "hoverlabel": {
           "align": "left"
          },
          "hovermode": "closest",
          "mapbox": {
           "style": "light"
          },
          "paper_bgcolor": "white",
          "plot_bgcolor": "#E5ECF6",
          "polar": {
           "angularaxis": {
            "gridcolor": "white",
            "linecolor": "white",
            "ticks": ""
           },
           "bgcolor": "#E5ECF6",
           "radialaxis": {
            "gridcolor": "white",
            "linecolor": "white",
            "ticks": ""
           }
          },
          "scene": {
           "xaxis": {
            "backgroundcolor": "#E5ECF6",
            "gridcolor": "white",
            "gridwidth": 2,
            "linecolor": "white",
            "showbackground": true,
            "ticks": "",
            "zerolinecolor": "white"
           },
           "yaxis": {
            "backgroundcolor": "#E5ECF6",
            "gridcolor": "white",
            "gridwidth": 2,
            "linecolor": "white",
            "showbackground": true,
            "ticks": "",
            "zerolinecolor": "white"
           },
           "zaxis": {
            "backgroundcolor": "#E5ECF6",
            "gridcolor": "white",
            "gridwidth": 2,
            "linecolor": "white",
            "showbackground": true,
            "ticks": "",
            "zerolinecolor": "white"
           }
          },
          "shapedefaults": {
           "line": {
            "color": "#2a3f5f"
           }
          },
          "ternary": {
           "aaxis": {
            "gridcolor": "white",
            "linecolor": "white",
            "ticks": ""
           },
           "baxis": {
            "gridcolor": "white",
            "linecolor": "white",
            "ticks": ""
           },
           "bgcolor": "#E5ECF6",
           "caxis": {
            "gridcolor": "white",
            "linecolor": "white",
            "ticks": ""
           }
          },
          "title": {
           "x": 0.05
          },
          "xaxis": {
           "automargin": true,
           "gridcolor": "white",
           "linecolor": "white",
           "ticks": "",
           "title": {
            "standoff": 15
           },
           "zerolinecolor": "white",
           "zerolinewidth": 2
          },
          "yaxis": {
           "automargin": true,
           "gridcolor": "white",
           "linecolor": "white",
           "ticks": "",
           "title": {
            "standoff": 15
           },
           "zerolinecolor": "white",
           "zerolinewidth": 2
          }
         }
        }
       }
      },
      "text/html": [
       "<div>                            <div id=\"2d9884e9-cd5c-4928-bab4-3501aefe9c7b\" class=\"plotly-graph-div\" style=\"height:525px; width:100%;\"></div>            <script type=\"text/javascript\">                require([\"plotly\"], function(Plotly) {                    window.PLOTLYENV=window.PLOTLYENV || {};                                    if (document.getElementById(\"2d9884e9-cd5c-4928-bab4-3501aefe9c7b\")) {                    Plotly.newPlot(                        \"2d9884e9-cd5c-4928-bab4-3501aefe9c7b\",                        [{\"mode\":\"lines\",\"name\":\"accuracy\",\"x\":[0,1,2,3,4,5,6,7,8,9,10,11,12,13,14,15,16,17,18,19,20,21,22,23,24,25,26,27,28,29,30,31,32,33,34,35,36,37,38,39,40,41,42,43,44,45,46,47,48,49,50,51,52,53,54,55,56,57,58,59,60,61,62,63,64,65,66,67,68,69,70,71,72,73,74,75,76,77,78,79,80,81,82,83,84,85,86,87,88,89,90,91,92,93,94,95,96,97,98,99],\"y\":[0.125,0.065,0.08,0.11,0.07,0.07,0.085,0.07,0.085,0.085,0.15,0.125,0.105,0.09,0.105,0.075,0.045,0.09,0.11,0.11,0.11,0.09,0.09,0.075,0.075,0.07,0.09,0.12,0.085,0.105,0.07,0.04,0.1,0.11,0.08,0.11,0.095,0.055,0.095,0.1,0.11,0.085,0.055,0.055,0.065,0.085,0.09,0.095,0.095,0.075,0.085,0.065,0.14,0.08,0.125,0.1,0.085,0.115,0.075,0.12,0.095,0.1,0.05,0.11,0.115,0.085,0.115,0.075,0.075,0.085,0.07,0.12,0.085,0.11,0.085,0.105,0.095,0.08,0.125,0.12,0.055,0.095,0.105,0.065,0.065,0.06,0.15,0.06,0.11,0.04,0.07,0.115,0.1,0.095,0.09,0.08,0.105,0.08,0.06,0.075],\"type\":\"scatter\"},{\"mode\":\"lines\",\"name\":\"loss\",\"x\":[0,1,2,3,4,5,6,7,8,9,10,11,12,13,14,15,16,17,18,19,20,21,22,23,24,25,26,27,28,29,30,31,32,33,34,35,36,37,38,39,40,41,42,43,44,45,46,47,48,49,50,51,52,53,54,55,56,57,58,59,60,61,62,63,64,65,66,67,68,69,70,71,72,73,74,75,76,77,78,79,80,81,82,83,84,85,86,87,88,89,90,91,92,93,94,95,96,97,98,99],\"y\":[0.6727967488571756,0.7087903885022824,0.7544504411294106,0.8487095078683692,0.7430740941551389,0.8133842692307055,0.7745319186683711,0.7540108537234439,0.6918321171392994,0.6733980975309686,0.7575900290327983,0.7977704933254409,0.7791720595379623,0.7227728892359782,0.6801705158751872,0.8450389397639904,0.7649647908925554,0.7773359132895935,0.8402669492017224,0.7185428221339024,0.7519547811265256,0.8962471584832643,0.743682738335066,0.7562674200934819,0.912257942567786,0.6816760430501184,0.6609749117492468,0.8565267090137636,0.7553361818968648,0.848334319884731,0.8290642352734405,0.8009320340700137,0.7798758105887639,0.9054036155865173,0.7413668793969933,0.7614190422658516,0.8095252780997196,0.7474414494181005,0.8310725554665724,0.8316507574890858,0.797535047445661,0.8129883222159768,0.8971915949137058,0.8215054276907567,0.7911469033063565,0.7320738636834679,0.7613837585452761,0.78969171512375,0.8422685044709846,0.8466964787576416,0.7863753770035699,0.8090009301770321,0.7527804997753316,0.7552531457725029,0.7540773754748297,0.7982638685084503,0.8730471836859218,0.8091053222375317,0.884255999310243,0.8654383687248284,0.8387169857621566,0.8486185793328259,0.974667349791332,0.8324782005302507,0.6470501118367928,0.8603258106716674,0.8882053220717248,0.8667598501768331,0.8305376622213821,0.7953085252963384,0.8257524071025069,0.8352808686958122,0.7983997638908924,0.8021428891199133,0.8334382228147057,0.8956930316309933,0.8573605190421001,0.8142878508267964,0.8405023287587193,0.7546078250935566,0.947132783185848,0.8446096987121774,0.8341064911765828,0.9037881252373112,0.8543202163449183,0.8427449673443197,0.8741611411498049,0.9417151403307186,0.9075384133269,0.8999590456814749,0.9172377224093078,0.9356355297781005,1.0,0.8341790483012248,0.8320868297875516,0.8737179723135542,0.9025901368073207,0.9214756819225648,0.9572484667001596,0.8953751465318988],\"type\":\"scatter\"}],                        {\"template\":{\"data\":{\"barpolar\":[{\"marker\":{\"line\":{\"color\":\"#E5ECF6\",\"width\":0.5},\"pattern\":{\"fillmode\":\"overlay\",\"size\":10,\"solidity\":0.2}},\"type\":\"barpolar\"}],\"bar\":[{\"error_x\":{\"color\":\"#2a3f5f\"},\"error_y\":{\"color\":\"#2a3f5f\"},\"marker\":{\"line\":{\"color\":\"#E5ECF6\",\"width\":0.5},\"pattern\":{\"fillmode\":\"overlay\",\"size\":10,\"solidity\":0.2}},\"type\":\"bar\"}],\"carpet\":[{\"aaxis\":{\"endlinecolor\":\"#2a3f5f\",\"gridcolor\":\"white\",\"linecolor\":\"white\",\"minorgridcolor\":\"white\",\"startlinecolor\":\"#2a3f5f\"},\"baxis\":{\"endlinecolor\":\"#2a3f5f\",\"gridcolor\":\"white\",\"linecolor\":\"white\",\"minorgridcolor\":\"white\",\"startlinecolor\":\"#2a3f5f\"},\"type\":\"carpet\"}],\"choropleth\":[{\"colorbar\":{\"outlinewidth\":0,\"ticks\":\"\"},\"type\":\"choropleth\"}],\"contourcarpet\":[{\"colorbar\":{\"outlinewidth\":0,\"ticks\":\"\"},\"type\":\"contourcarpet\"}],\"contour\":[{\"colorbar\":{\"outlinewidth\":0,\"ticks\":\"\"},\"colorscale\":[[0.0,\"#0d0887\"],[0.1111111111111111,\"#46039f\"],[0.2222222222222222,\"#7201a8\"],[0.3333333333333333,\"#9c179e\"],[0.4444444444444444,\"#bd3786\"],[0.5555555555555556,\"#d8576b\"],[0.6666666666666666,\"#ed7953\"],[0.7777777777777778,\"#fb9f3a\"],[0.8888888888888888,\"#fdca26\"],[1.0,\"#f0f921\"]],\"type\":\"contour\"}],\"heatmapgl\":[{\"colorbar\":{\"outlinewidth\":0,\"ticks\":\"\"},\"colorscale\":[[0.0,\"#0d0887\"],[0.1111111111111111,\"#46039f\"],[0.2222222222222222,\"#7201a8\"],[0.3333333333333333,\"#9c179e\"],[0.4444444444444444,\"#bd3786\"],[0.5555555555555556,\"#d8576b\"],[0.6666666666666666,\"#ed7953\"],[0.7777777777777778,\"#fb9f3a\"],[0.8888888888888888,\"#fdca26\"],[1.0,\"#f0f921\"]],\"type\":\"heatmapgl\"}],\"heatmap\":[{\"colorbar\":{\"outlinewidth\":0,\"ticks\":\"\"},\"colorscale\":[[0.0,\"#0d0887\"],[0.1111111111111111,\"#46039f\"],[0.2222222222222222,\"#7201a8\"],[0.3333333333333333,\"#9c179e\"],[0.4444444444444444,\"#bd3786\"],[0.5555555555555556,\"#d8576b\"],[0.6666666666666666,\"#ed7953\"],[0.7777777777777778,\"#fb9f3a\"],[0.8888888888888888,\"#fdca26\"],[1.0,\"#f0f921\"]],\"type\":\"heatmap\"}],\"histogram2dcontour\":[{\"colorbar\":{\"outlinewidth\":0,\"ticks\":\"\"},\"colorscale\":[[0.0,\"#0d0887\"],[0.1111111111111111,\"#46039f\"],[0.2222222222222222,\"#7201a8\"],[0.3333333333333333,\"#9c179e\"],[0.4444444444444444,\"#bd3786\"],[0.5555555555555556,\"#d8576b\"],[0.6666666666666666,\"#ed7953\"],[0.7777777777777778,\"#fb9f3a\"],[0.8888888888888888,\"#fdca26\"],[1.0,\"#f0f921\"]],\"type\":\"histogram2dcontour\"}],\"histogram2d\":[{\"colorbar\":{\"outlinewidth\":0,\"ticks\":\"\"},\"colorscale\":[[0.0,\"#0d0887\"],[0.1111111111111111,\"#46039f\"],[0.2222222222222222,\"#7201a8\"],[0.3333333333333333,\"#9c179e\"],[0.4444444444444444,\"#bd3786\"],[0.5555555555555556,\"#d8576b\"],[0.6666666666666666,\"#ed7953\"],[0.7777777777777778,\"#fb9f3a\"],[0.8888888888888888,\"#fdca26\"],[1.0,\"#f0f921\"]],\"type\":\"histogram2d\"}],\"histogram\":[{\"marker\":{\"pattern\":{\"fillmode\":\"overlay\",\"size\":10,\"solidity\":0.2}},\"type\":\"histogram\"}],\"mesh3d\":[{\"colorbar\":{\"outlinewidth\":0,\"ticks\":\"\"},\"type\":\"mesh3d\"}],\"parcoords\":[{\"line\":{\"colorbar\":{\"outlinewidth\":0,\"ticks\":\"\"}},\"type\":\"parcoords\"}],\"pie\":[{\"automargin\":true,\"type\":\"pie\"}],\"scatter3d\":[{\"line\":{\"colorbar\":{\"outlinewidth\":0,\"ticks\":\"\"}},\"marker\":{\"colorbar\":{\"outlinewidth\":0,\"ticks\":\"\"}},\"type\":\"scatter3d\"}],\"scattercarpet\":[{\"marker\":{\"colorbar\":{\"outlinewidth\":0,\"ticks\":\"\"}},\"type\":\"scattercarpet\"}],\"scattergeo\":[{\"marker\":{\"colorbar\":{\"outlinewidth\":0,\"ticks\":\"\"}},\"type\":\"scattergeo\"}],\"scattergl\":[{\"marker\":{\"colorbar\":{\"outlinewidth\":0,\"ticks\":\"\"}},\"type\":\"scattergl\"}],\"scattermapbox\":[{\"marker\":{\"colorbar\":{\"outlinewidth\":0,\"ticks\":\"\"}},\"type\":\"scattermapbox\"}],\"scatterpolargl\":[{\"marker\":{\"colorbar\":{\"outlinewidth\":0,\"ticks\":\"\"}},\"type\":\"scatterpolargl\"}],\"scatterpolar\":[{\"marker\":{\"colorbar\":{\"outlinewidth\":0,\"ticks\":\"\"}},\"type\":\"scatterpolar\"}],\"scatter\":[{\"fillpattern\":{\"fillmode\":\"overlay\",\"size\":10,\"solidity\":0.2},\"type\":\"scatter\"}],\"scatterternary\":[{\"marker\":{\"colorbar\":{\"outlinewidth\":0,\"ticks\":\"\"}},\"type\":\"scatterternary\"}],\"surface\":[{\"colorbar\":{\"outlinewidth\":0,\"ticks\":\"\"},\"colorscale\":[[0.0,\"#0d0887\"],[0.1111111111111111,\"#46039f\"],[0.2222222222222222,\"#7201a8\"],[0.3333333333333333,\"#9c179e\"],[0.4444444444444444,\"#bd3786\"],[0.5555555555555556,\"#d8576b\"],[0.6666666666666666,\"#ed7953\"],[0.7777777777777778,\"#fb9f3a\"],[0.8888888888888888,\"#fdca26\"],[1.0,\"#f0f921\"]],\"type\":\"surface\"}],\"table\":[{\"cells\":{\"fill\":{\"color\":\"#EBF0F8\"},\"line\":{\"color\":\"white\"}},\"header\":{\"fill\":{\"color\":\"#C8D4E3\"},\"line\":{\"color\":\"white\"}},\"type\":\"table\"}]},\"layout\":{\"annotationdefaults\":{\"arrowcolor\":\"#2a3f5f\",\"arrowhead\":0,\"arrowwidth\":1},\"autotypenumbers\":\"strict\",\"coloraxis\":{\"colorbar\":{\"outlinewidth\":0,\"ticks\":\"\"}},\"colorscale\":{\"diverging\":[[0,\"#8e0152\"],[0.1,\"#c51b7d\"],[0.2,\"#de77ae\"],[0.3,\"#f1b6da\"],[0.4,\"#fde0ef\"],[0.5,\"#f7f7f7\"],[0.6,\"#e6f5d0\"],[0.7,\"#b8e186\"],[0.8,\"#7fbc41\"],[0.9,\"#4d9221\"],[1,\"#276419\"]],\"sequential\":[[0.0,\"#0d0887\"],[0.1111111111111111,\"#46039f\"],[0.2222222222222222,\"#7201a8\"],[0.3333333333333333,\"#9c179e\"],[0.4444444444444444,\"#bd3786\"],[0.5555555555555556,\"#d8576b\"],[0.6666666666666666,\"#ed7953\"],[0.7777777777777778,\"#fb9f3a\"],[0.8888888888888888,\"#fdca26\"],[1.0,\"#f0f921\"]],\"sequentialminus\":[[0.0,\"#0d0887\"],[0.1111111111111111,\"#46039f\"],[0.2222222222222222,\"#7201a8\"],[0.3333333333333333,\"#9c179e\"],[0.4444444444444444,\"#bd3786\"],[0.5555555555555556,\"#d8576b\"],[0.6666666666666666,\"#ed7953\"],[0.7777777777777778,\"#fb9f3a\"],[0.8888888888888888,\"#fdca26\"],[1.0,\"#f0f921\"]]},\"colorway\":[\"#636efa\",\"#EF553B\",\"#00cc96\",\"#ab63fa\",\"#FFA15A\",\"#19d3f3\",\"#FF6692\",\"#B6E880\",\"#FF97FF\",\"#FECB52\"],\"font\":{\"color\":\"#2a3f5f\"},\"geo\":{\"bgcolor\":\"white\",\"lakecolor\":\"white\",\"landcolor\":\"#E5ECF6\",\"showlakes\":true,\"showland\":true,\"subunitcolor\":\"white\"},\"hoverlabel\":{\"align\":\"left\"},\"hovermode\":\"closest\",\"mapbox\":{\"style\":\"light\"},\"paper_bgcolor\":\"white\",\"plot_bgcolor\":\"#E5ECF6\",\"polar\":{\"angularaxis\":{\"gridcolor\":\"white\",\"linecolor\":\"white\",\"ticks\":\"\"},\"bgcolor\":\"#E5ECF6\",\"radialaxis\":{\"gridcolor\":\"white\",\"linecolor\":\"white\",\"ticks\":\"\"}},\"scene\":{\"xaxis\":{\"backgroundcolor\":\"#E5ECF6\",\"gridcolor\":\"white\",\"gridwidth\":2,\"linecolor\":\"white\",\"showbackground\":true,\"ticks\":\"\",\"zerolinecolor\":\"white\"},\"yaxis\":{\"backgroundcolor\":\"#E5ECF6\",\"gridcolor\":\"white\",\"gridwidth\":2,\"linecolor\":\"white\",\"showbackground\":true,\"ticks\":\"\",\"zerolinecolor\":\"white\"},\"zaxis\":{\"backgroundcolor\":\"#E5ECF6\",\"gridcolor\":\"white\",\"gridwidth\":2,\"linecolor\":\"white\",\"showbackground\":true,\"ticks\":\"\",\"zerolinecolor\":\"white\"}},\"shapedefaults\":{\"line\":{\"color\":\"#2a3f5f\"}},\"ternary\":{\"aaxis\":{\"gridcolor\":\"white\",\"linecolor\":\"white\",\"ticks\":\"\"},\"baxis\":{\"gridcolor\":\"white\",\"linecolor\":\"white\",\"ticks\":\"\"},\"bgcolor\":\"#E5ECF6\",\"caxis\":{\"gridcolor\":\"white\",\"linecolor\":\"white\",\"ticks\":\"\"}},\"title\":{\"x\":0.05},\"xaxis\":{\"automargin\":true,\"gridcolor\":\"white\",\"linecolor\":\"white\",\"ticks\":\"\",\"title\":{\"standoff\":15},\"zerolinecolor\":\"white\",\"zerolinewidth\":2},\"yaxis\":{\"automargin\":true,\"gridcolor\":\"white\",\"linecolor\":\"white\",\"ticks\":\"\",\"title\":{\"standoff\":15},\"zerolinecolor\":\"white\",\"zerolinewidth\":2}}}},                        {\"responsive\": true}                    ).then(function(){\n",
       "                            \n",
       "var gd = document.getElementById('2d9884e9-cd5c-4928-bab4-3501aefe9c7b');\n",
       "var x = new MutationObserver(function (mutations, observer) {{\n",
       "        var display = window.getComputedStyle(gd).display;\n",
       "        if (!display || display === 'none') {{\n",
       "            console.log([gd, 'removed!']);\n",
       "            Plotly.purge(gd);\n",
       "            observer.disconnect();\n",
       "        }}\n",
       "}});\n",
       "\n",
       "// Listen for the removal of the full notebook cells\n",
       "var notebookContainer = gd.closest('#notebook-container');\n",
       "if (notebookContainer) {{\n",
       "    x.observe(notebookContainer, {childList: true});\n",
       "}}\n",
       "\n",
       "// Listen for the clearing of the current output cell\n",
       "var outputEl = gd.closest('.output');\n",
       "if (outputEl) {{\n",
       "    x.observe(outputEl, {childList: true});\n",
       "}}\n",
       "\n",
       "                        })                };                });            </script>        </div>"
      ]
     },
     "metadata": {},
     "output_type": "display_data"
    }
   ],
   "source": [
    "# Now train the model\n",
    "# train_using_raw_data()\n",
    "train_using_set_img_loader()"
   ]
  },
  {
   "cell_type": "code",
   "execution_count": 9,
   "metadata": {},
   "outputs": [
    {
     "name": "stdout",
     "output_type": "stream",
     "text": [
      "Label: dog 4.0\n",
      "Prediction: ship (5.0)\n"
     ]
    },
    {
     "data": {
      "application/vnd.plotly.v1+json": {
       "config": {
        "plotlyServerURL": "https://plot.ly"
       },
       "data": [
        {
         "hovertemplate": "x: %{x}<br>y: %{y}<extra></extra>",
         "name": "0",
         "source": "data:image/png;base64,iVBORw0KGgoAAAANSUhEUgAAABwAAAAcCAIAAAD9b0jDAAACoklEQVR4Xs2V+U8aQRTHv8ty7HIsUAUESsFV6wWotCCGStS20Xq0NrVXajBprMZfeofUFP/3vn0DdGYD1ZL+0E/mh903s2/evYjpiOoIAyavAOABdOAOUAJmgUnAhy4vj17fL6+IZwuwgVYj32mfXX370Lm67HR+/DzauHxio680JCmllQPywAxwq6eR2H64uVGrSAKHJtCeD7ffv2mfnx2zHYh5YWmOxiAr9bNGMu02X2Op3z/f3326ta7KHKaAtHw9mWl5umYarE7jC3JstYvvnz6evDh03TQAR6kXYc1RZLClghn5UI+vF+dfTk9aO805w72lQDG1fAh5ugHt5yTBd8iMRSKfT1vH+4+LFmoxdc8FpYiUBnWYWtdS8i5DlmpOcmWK+cy7g0eqbAjkNbkfIqUeR6+fNVLgVxNO9mXqdnK7WlZlQwiwsWEdoZ7nWWAaWPYqxUQ8q+T2qsuypC6/yPi4dEJUVX4n7xSB7QRe5fUloCodo5gcrs7srZT6mSQOpWc3Gi8BXfC2kr1ozjYoiNIZ0nVQu7uzMD3Wk1DXPZAOuKGwxnVkLOeBqAexm9EWgYh6pmEnSxR7iaElsBhAI4vmpHdrPpZn9ysa1vyIq8dyJmbFnTdhzcT6BJoF//pUtMA9ugCU2TuZYsqwA7+jdA0rXtSiqKW1StpIscRQHRfYcWT9Tkd43DuDyHFmDSlXPnUyEc26HTVV0d9ClRtVJWH19XqSPLVojfPHplphAv2GXveZ5IGU5yUGc4HH/p/H0DVQPd7jjE/xynHvj7OxBhs+CiEe8otcRtSXc9z7FJOUNFtHQUwmasol/tllWG+hZ++ITMDpnzgPZpNLSgR69LCOD2ph3whlJNNvEvFn/jeIjhw90QMR1olEu4bI/8Uvyr85/16SQKcAAAAASUVORK5CYII=",
         "type": "image",
         "xaxis": "x",
         "yaxis": "y"
        }
       ],
       "layout": {
        "margin": {
         "t": 60
        },
        "template": {
         "data": {
          "bar": [
           {
            "error_x": {
             "color": "#2a3f5f"
            },
            "error_y": {
             "color": "#2a3f5f"
            },
            "marker": {
             "line": {
              "color": "#E5ECF6",
              "width": 0.5
             },
             "pattern": {
              "fillmode": "overlay",
              "size": 10,
              "solidity": 0.2
             }
            },
            "type": "bar"
           }
          ],
          "barpolar": [
           {
            "marker": {
             "line": {
              "color": "#E5ECF6",
              "width": 0.5
             },
             "pattern": {
              "fillmode": "overlay",
              "size": 10,
              "solidity": 0.2
             }
            },
            "type": "barpolar"
           }
          ],
          "carpet": [
           {
            "aaxis": {
             "endlinecolor": "#2a3f5f",
             "gridcolor": "white",
             "linecolor": "white",
             "minorgridcolor": "white",
             "startlinecolor": "#2a3f5f"
            },
            "baxis": {
             "endlinecolor": "#2a3f5f",
             "gridcolor": "white",
             "linecolor": "white",
             "minorgridcolor": "white",
             "startlinecolor": "#2a3f5f"
            },
            "type": "carpet"
           }
          ],
          "choropleth": [
           {
            "colorbar": {
             "outlinewidth": 0,
             "ticks": ""
            },
            "type": "choropleth"
           }
          ],
          "contour": [
           {
            "colorbar": {
             "outlinewidth": 0,
             "ticks": ""
            },
            "colorscale": [
             [
              0,
              "#0d0887"
             ],
             [
              0.1111111111111111,
              "#46039f"
             ],
             [
              0.2222222222222222,
              "#7201a8"
             ],
             [
              0.3333333333333333,
              "#9c179e"
             ],
             [
              0.4444444444444444,
              "#bd3786"
             ],
             [
              0.5555555555555556,
              "#d8576b"
             ],
             [
              0.6666666666666666,
              "#ed7953"
             ],
             [
              0.7777777777777778,
              "#fb9f3a"
             ],
             [
              0.8888888888888888,
              "#fdca26"
             ],
             [
              1,
              "#f0f921"
             ]
            ],
            "type": "contour"
           }
          ],
          "contourcarpet": [
           {
            "colorbar": {
             "outlinewidth": 0,
             "ticks": ""
            },
            "type": "contourcarpet"
           }
          ],
          "heatmap": [
           {
            "colorbar": {
             "outlinewidth": 0,
             "ticks": ""
            },
            "colorscale": [
             [
              0,
              "#0d0887"
             ],
             [
              0.1111111111111111,
              "#46039f"
             ],
             [
              0.2222222222222222,
              "#7201a8"
             ],
             [
              0.3333333333333333,
              "#9c179e"
             ],
             [
              0.4444444444444444,
              "#bd3786"
             ],
             [
              0.5555555555555556,
              "#d8576b"
             ],
             [
              0.6666666666666666,
              "#ed7953"
             ],
             [
              0.7777777777777778,
              "#fb9f3a"
             ],
             [
              0.8888888888888888,
              "#fdca26"
             ],
             [
              1,
              "#f0f921"
             ]
            ],
            "type": "heatmap"
           }
          ],
          "heatmapgl": [
           {
            "colorbar": {
             "outlinewidth": 0,
             "ticks": ""
            },
            "colorscale": [
             [
              0,
              "#0d0887"
             ],
             [
              0.1111111111111111,
              "#46039f"
             ],
             [
              0.2222222222222222,
              "#7201a8"
             ],
             [
              0.3333333333333333,
              "#9c179e"
             ],
             [
              0.4444444444444444,
              "#bd3786"
             ],
             [
              0.5555555555555556,
              "#d8576b"
             ],
             [
              0.6666666666666666,
              "#ed7953"
             ],
             [
              0.7777777777777778,
              "#fb9f3a"
             ],
             [
              0.8888888888888888,
              "#fdca26"
             ],
             [
              1,
              "#f0f921"
             ]
            ],
            "type": "heatmapgl"
           }
          ],
          "histogram": [
           {
            "marker": {
             "pattern": {
              "fillmode": "overlay",
              "size": 10,
              "solidity": 0.2
             }
            },
            "type": "histogram"
           }
          ],
          "histogram2d": [
           {
            "colorbar": {
             "outlinewidth": 0,
             "ticks": ""
            },
            "colorscale": [
             [
              0,
              "#0d0887"
             ],
             [
              0.1111111111111111,
              "#46039f"
             ],
             [
              0.2222222222222222,
              "#7201a8"
             ],
             [
              0.3333333333333333,
              "#9c179e"
             ],
             [
              0.4444444444444444,
              "#bd3786"
             ],
             [
              0.5555555555555556,
              "#d8576b"
             ],
             [
              0.6666666666666666,
              "#ed7953"
             ],
             [
              0.7777777777777778,
              "#fb9f3a"
             ],
             [
              0.8888888888888888,
              "#fdca26"
             ],
             [
              1,
              "#f0f921"
             ]
            ],
            "type": "histogram2d"
           }
          ],
          "histogram2dcontour": [
           {
            "colorbar": {
             "outlinewidth": 0,
             "ticks": ""
            },
            "colorscale": [
             [
              0,
              "#0d0887"
             ],
             [
              0.1111111111111111,
              "#46039f"
             ],
             [
              0.2222222222222222,
              "#7201a8"
             ],
             [
              0.3333333333333333,
              "#9c179e"
             ],
             [
              0.4444444444444444,
              "#bd3786"
             ],
             [
              0.5555555555555556,
              "#d8576b"
             ],
             [
              0.6666666666666666,
              "#ed7953"
             ],
             [
              0.7777777777777778,
              "#fb9f3a"
             ],
             [
              0.8888888888888888,
              "#fdca26"
             ],
             [
              1,
              "#f0f921"
             ]
            ],
            "type": "histogram2dcontour"
           }
          ],
          "mesh3d": [
           {
            "colorbar": {
             "outlinewidth": 0,
             "ticks": ""
            },
            "type": "mesh3d"
           }
          ],
          "parcoords": [
           {
            "line": {
             "colorbar": {
              "outlinewidth": 0,
              "ticks": ""
             }
            },
            "type": "parcoords"
           }
          ],
          "pie": [
           {
            "automargin": true,
            "type": "pie"
           }
          ],
          "scatter": [
           {
            "fillpattern": {
             "fillmode": "overlay",
             "size": 10,
             "solidity": 0.2
            },
            "type": "scatter"
           }
          ],
          "scatter3d": [
           {
            "line": {
             "colorbar": {
              "outlinewidth": 0,
              "ticks": ""
             }
            },
            "marker": {
             "colorbar": {
              "outlinewidth": 0,
              "ticks": ""
             }
            },
            "type": "scatter3d"
           }
          ],
          "scattercarpet": [
           {
            "marker": {
             "colorbar": {
              "outlinewidth": 0,
              "ticks": ""
             }
            },
            "type": "scattercarpet"
           }
          ],
          "scattergeo": [
           {
            "marker": {
             "colorbar": {
              "outlinewidth": 0,
              "ticks": ""
             }
            },
            "type": "scattergeo"
           }
          ],
          "scattergl": [
           {
            "marker": {
             "colorbar": {
              "outlinewidth": 0,
              "ticks": ""
             }
            },
            "type": "scattergl"
           }
          ],
          "scattermapbox": [
           {
            "marker": {
             "colorbar": {
              "outlinewidth": 0,
              "ticks": ""
             }
            },
            "type": "scattermapbox"
           }
          ],
          "scatterpolar": [
           {
            "marker": {
             "colorbar": {
              "outlinewidth": 0,
              "ticks": ""
             }
            },
            "type": "scatterpolar"
           }
          ],
          "scatterpolargl": [
           {
            "marker": {
             "colorbar": {
              "outlinewidth": 0,
              "ticks": ""
             }
            },
            "type": "scatterpolargl"
           }
          ],
          "scatterternary": [
           {
            "marker": {
             "colorbar": {
              "outlinewidth": 0,
              "ticks": ""
             }
            },
            "type": "scatterternary"
           }
          ],
          "surface": [
           {
            "colorbar": {
             "outlinewidth": 0,
             "ticks": ""
            },
            "colorscale": [
             [
              0,
              "#0d0887"
             ],
             [
              0.1111111111111111,
              "#46039f"
             ],
             [
              0.2222222222222222,
              "#7201a8"
             ],
             [
              0.3333333333333333,
              "#9c179e"
             ],
             [
              0.4444444444444444,
              "#bd3786"
             ],
             [
              0.5555555555555556,
              "#d8576b"
             ],
             [
              0.6666666666666666,
              "#ed7953"
             ],
             [
              0.7777777777777778,
              "#fb9f3a"
             ],
             [
              0.8888888888888888,
              "#fdca26"
             ],
             [
              1,
              "#f0f921"
             ]
            ],
            "type": "surface"
           }
          ],
          "table": [
           {
            "cells": {
             "fill": {
              "color": "#EBF0F8"
             },
             "line": {
              "color": "white"
             }
            },
            "header": {
             "fill": {
              "color": "#C8D4E3"
             },
             "line": {
              "color": "white"
             }
            },
            "type": "table"
           }
          ]
         },
         "layout": {
          "annotationdefaults": {
           "arrowcolor": "#2a3f5f",
           "arrowhead": 0,
           "arrowwidth": 1
          },
          "autotypenumbers": "strict",
          "coloraxis": {
           "colorbar": {
            "outlinewidth": 0,
            "ticks": ""
           }
          },
          "colorscale": {
           "diverging": [
            [
             0,
             "#8e0152"
            ],
            [
             0.1,
             "#c51b7d"
            ],
            [
             0.2,
             "#de77ae"
            ],
            [
             0.3,
             "#f1b6da"
            ],
            [
             0.4,
             "#fde0ef"
            ],
            [
             0.5,
             "#f7f7f7"
            ],
            [
             0.6,
             "#e6f5d0"
            ],
            [
             0.7,
             "#b8e186"
            ],
            [
             0.8,
             "#7fbc41"
            ],
            [
             0.9,
             "#4d9221"
            ],
            [
             1,
             "#276419"
            ]
           ],
           "sequential": [
            [
             0,
             "#0d0887"
            ],
            [
             0.1111111111111111,
             "#46039f"
            ],
            [
             0.2222222222222222,
             "#7201a8"
            ],
            [
             0.3333333333333333,
             "#9c179e"
            ],
            [
             0.4444444444444444,
             "#bd3786"
            ],
            [
             0.5555555555555556,
             "#d8576b"
            ],
            [
             0.6666666666666666,
             "#ed7953"
            ],
            [
             0.7777777777777778,
             "#fb9f3a"
            ],
            [
             0.8888888888888888,
             "#fdca26"
            ],
            [
             1,
             "#f0f921"
            ]
           ],
           "sequentialminus": [
            [
             0,
             "#0d0887"
            ],
            [
             0.1111111111111111,
             "#46039f"
            ],
            [
             0.2222222222222222,
             "#7201a8"
            ],
            [
             0.3333333333333333,
             "#9c179e"
            ],
            [
             0.4444444444444444,
             "#bd3786"
            ],
            [
             0.5555555555555556,
             "#d8576b"
            ],
            [
             0.6666666666666666,
             "#ed7953"
            ],
            [
             0.7777777777777778,
             "#fb9f3a"
            ],
            [
             0.8888888888888888,
             "#fdca26"
            ],
            [
             1,
             "#f0f921"
            ]
           ]
          },
          "colorway": [
           "#636efa",
           "#EF553B",
           "#00cc96",
           "#ab63fa",
           "#FFA15A",
           "#19d3f3",
           "#FF6692",
           "#B6E880",
           "#FF97FF",
           "#FECB52"
          ],
          "font": {
           "color": "#2a3f5f"
          },
          "geo": {
           "bgcolor": "white",
           "lakecolor": "white",
           "landcolor": "#E5ECF6",
           "showlakes": true,
           "showland": true,
           "subunitcolor": "white"
          },
          "hoverlabel": {
           "align": "left"
          },
          "hovermode": "closest",
          "mapbox": {
           "style": "light"
          },
          "paper_bgcolor": "white",
          "plot_bgcolor": "#E5ECF6",
          "polar": {
           "angularaxis": {
            "gridcolor": "white",
            "linecolor": "white",
            "ticks": ""
           },
           "bgcolor": "#E5ECF6",
           "radialaxis": {
            "gridcolor": "white",
            "linecolor": "white",
            "ticks": ""
           }
          },
          "scene": {
           "xaxis": {
            "backgroundcolor": "#E5ECF6",
            "gridcolor": "white",
            "gridwidth": 2,
            "linecolor": "white",
            "showbackground": true,
            "ticks": "",
            "zerolinecolor": "white"
           },
           "yaxis": {
            "backgroundcolor": "#E5ECF6",
            "gridcolor": "white",
            "gridwidth": 2,
            "linecolor": "white",
            "showbackground": true,
            "ticks": "",
            "zerolinecolor": "white"
           },
           "zaxis": {
            "backgroundcolor": "#E5ECF6",
            "gridcolor": "white",
            "gridwidth": 2,
            "linecolor": "white",
            "showbackground": true,
            "ticks": "",
            "zerolinecolor": "white"
           }
          },
          "shapedefaults": {
           "line": {
            "color": "#2a3f5f"
           }
          },
          "ternary": {
           "aaxis": {
            "gridcolor": "white",
            "linecolor": "white",
            "ticks": ""
           },
           "baxis": {
            "gridcolor": "white",
            "linecolor": "white",
            "ticks": ""
           },
           "bgcolor": "#E5ECF6",
           "caxis": {
            "gridcolor": "white",
            "linecolor": "white",
            "ticks": ""
           }
          },
          "title": {
           "x": 0.05
          },
          "xaxis": {
           "automargin": true,
           "gridcolor": "white",
           "linecolor": "white",
           "ticks": "",
           "title": {
            "standoff": 15
           },
           "zerolinecolor": "white",
           "zerolinewidth": 2
          },
          "yaxis": {
           "automargin": true,
           "gridcolor": "white",
           "linecolor": "white",
           "ticks": "",
           "title": {
            "standoff": 15
           },
           "zerolinecolor": "white",
           "zerolinewidth": 2
          }
         }
        },
        "xaxis": {
         "anchor": "y",
         "domain": [
          0,
          1
         ]
        },
        "yaxis": {
         "anchor": "x",
         "domain": [
          0,
          1
         ]
        }
       }
      },
      "text/html": [
       "<div>                            <div id=\"025a85e1-efa5-41ac-ac0f-a9461f16a4aa\" class=\"plotly-graph-div\" style=\"height:525px; width:100%;\"></div>            <script type=\"text/javascript\">                require([\"plotly\"], function(Plotly) {                    window.PLOTLYENV=window.PLOTLYENV || {};                                    if (document.getElementById(\"025a85e1-efa5-41ac-ac0f-a9461f16a4aa\")) {                    Plotly.newPlot(                        \"025a85e1-efa5-41ac-ac0f-a9461f16a4aa\",                        [{\"name\":\"0\",\"source\":\"data:image/png;base64,iVBORw0KGgoAAAANSUhEUgAAABwAAAAcCAIAAAD9b0jDAAACoklEQVR4Xs2V+U8aQRTHv8ty7HIsUAUESsFV6wWotCCGStS20Xq0NrVXajBprMZfeofUFP/3vn0DdGYD1ZL+0E/mh903s2/evYjpiOoIAyavAOABdOAOUAJmgUnAhy4vj17fL6+IZwuwgVYj32mfXX370Lm67HR+/DzauHxio680JCmllQPywAxwq6eR2H64uVGrSAKHJtCeD7ffv2mfnx2zHYh5YWmOxiAr9bNGMu02X2Op3z/f3326ta7KHKaAtHw9mWl5umYarE7jC3JstYvvnz6evDh03TQAR6kXYc1RZLClghn5UI+vF+dfTk9aO805w72lQDG1fAh5ugHt5yTBd8iMRSKfT1vH+4+LFmoxdc8FpYiUBnWYWtdS8i5DlmpOcmWK+cy7g0eqbAjkNbkfIqUeR6+fNVLgVxNO9mXqdnK7WlZlQwiwsWEdoZ7nWWAaWPYqxUQ8q+T2qsuypC6/yPi4dEJUVX4n7xSB7QRe5fUloCodo5gcrs7srZT6mSQOpWc3Gi8BXfC2kr1ozjYoiNIZ0nVQu7uzMD3Wk1DXPZAOuKGwxnVkLOeBqAexm9EWgYh6pmEnSxR7iaElsBhAI4vmpHdrPpZn9ysa1vyIq8dyJmbFnTdhzcT6BJoF//pUtMA9ugCU2TuZYsqwA7+jdA0rXtSiqKW1StpIscRQHRfYcWT9Tkd43DuDyHFmDSlXPnUyEc26HTVV0d9ClRtVJWH19XqSPLVojfPHplphAv2GXveZ5IGU5yUGc4HH/p/H0DVQPd7jjE/xynHvj7OxBhs+CiEe8otcRtSXc9z7FJOUNFtHQUwmasol/tllWG+hZ++ITMDpnzgPZpNLSgR69LCOD2ph3whlJNNvEvFn/jeIjhw90QMR1olEu4bI/8Uvyr85/16SQKcAAAAASUVORK5CYII=\",\"type\":\"image\",\"xaxis\":\"x\",\"yaxis\":\"y\",\"hovertemplate\":\"x: %{x}<br>y: %{y}<extra></extra>\"}],                        {\"template\":{\"data\":{\"histogram2dcontour\":[{\"type\":\"histogram2dcontour\",\"colorbar\":{\"outlinewidth\":0,\"ticks\":\"\"},\"colorscale\":[[0.0,\"#0d0887\"],[0.1111111111111111,\"#46039f\"],[0.2222222222222222,\"#7201a8\"],[0.3333333333333333,\"#9c179e\"],[0.4444444444444444,\"#bd3786\"],[0.5555555555555556,\"#d8576b\"],[0.6666666666666666,\"#ed7953\"],[0.7777777777777778,\"#fb9f3a\"],[0.8888888888888888,\"#fdca26\"],[1.0,\"#f0f921\"]]}],\"choropleth\":[{\"type\":\"choropleth\",\"colorbar\":{\"outlinewidth\":0,\"ticks\":\"\"}}],\"histogram2d\":[{\"type\":\"histogram2d\",\"colorbar\":{\"outlinewidth\":0,\"ticks\":\"\"},\"colorscale\":[[0.0,\"#0d0887\"],[0.1111111111111111,\"#46039f\"],[0.2222222222222222,\"#7201a8\"],[0.3333333333333333,\"#9c179e\"],[0.4444444444444444,\"#bd3786\"],[0.5555555555555556,\"#d8576b\"],[0.6666666666666666,\"#ed7953\"],[0.7777777777777778,\"#fb9f3a\"],[0.8888888888888888,\"#fdca26\"],[1.0,\"#f0f921\"]]}],\"heatmap\":[{\"type\":\"heatmap\",\"colorbar\":{\"outlinewidth\":0,\"ticks\":\"\"},\"colorscale\":[[0.0,\"#0d0887\"],[0.1111111111111111,\"#46039f\"],[0.2222222222222222,\"#7201a8\"],[0.3333333333333333,\"#9c179e\"],[0.4444444444444444,\"#bd3786\"],[0.5555555555555556,\"#d8576b\"],[0.6666666666666666,\"#ed7953\"],[0.7777777777777778,\"#fb9f3a\"],[0.8888888888888888,\"#fdca26\"],[1.0,\"#f0f921\"]]}],\"heatmapgl\":[{\"type\":\"heatmapgl\",\"colorbar\":{\"outlinewidth\":0,\"ticks\":\"\"},\"colorscale\":[[0.0,\"#0d0887\"],[0.1111111111111111,\"#46039f\"],[0.2222222222222222,\"#7201a8\"],[0.3333333333333333,\"#9c179e\"],[0.4444444444444444,\"#bd3786\"],[0.5555555555555556,\"#d8576b\"],[0.6666666666666666,\"#ed7953\"],[0.7777777777777778,\"#fb9f3a\"],[0.8888888888888888,\"#fdca26\"],[1.0,\"#f0f921\"]]}],\"contourcarpet\":[{\"type\":\"contourcarpet\",\"colorbar\":{\"outlinewidth\":0,\"ticks\":\"\"}}],\"contour\":[{\"type\":\"contour\",\"colorbar\":{\"outlinewidth\":0,\"ticks\":\"\"},\"colorscale\":[[0.0,\"#0d0887\"],[0.1111111111111111,\"#46039f\"],[0.2222222222222222,\"#7201a8\"],[0.3333333333333333,\"#9c179e\"],[0.4444444444444444,\"#bd3786\"],[0.5555555555555556,\"#d8576b\"],[0.6666666666666666,\"#ed7953\"],[0.7777777777777778,\"#fb9f3a\"],[0.8888888888888888,\"#fdca26\"],[1.0,\"#f0f921\"]]}],\"surface\":[{\"type\":\"surface\",\"colorbar\":{\"outlinewidth\":0,\"ticks\":\"\"},\"colorscale\":[[0.0,\"#0d0887\"],[0.1111111111111111,\"#46039f\"],[0.2222222222222222,\"#7201a8\"],[0.3333333333333333,\"#9c179e\"],[0.4444444444444444,\"#bd3786\"],[0.5555555555555556,\"#d8576b\"],[0.6666666666666666,\"#ed7953\"],[0.7777777777777778,\"#fb9f3a\"],[0.8888888888888888,\"#fdca26\"],[1.0,\"#f0f921\"]]}],\"mesh3d\":[{\"type\":\"mesh3d\",\"colorbar\":{\"outlinewidth\":0,\"ticks\":\"\"}}],\"scatter\":[{\"fillpattern\":{\"fillmode\":\"overlay\",\"size\":10,\"solidity\":0.2},\"type\":\"scatter\"}],\"parcoords\":[{\"type\":\"parcoords\",\"line\":{\"colorbar\":{\"outlinewidth\":0,\"ticks\":\"\"}}}],\"scatterpolargl\":[{\"type\":\"scatterpolargl\",\"marker\":{\"colorbar\":{\"outlinewidth\":0,\"ticks\":\"\"}}}],\"bar\":[{\"error_x\":{\"color\":\"#2a3f5f\"},\"error_y\":{\"color\":\"#2a3f5f\"},\"marker\":{\"line\":{\"color\":\"#E5ECF6\",\"width\":0.5},\"pattern\":{\"fillmode\":\"overlay\",\"size\":10,\"solidity\":0.2}},\"type\":\"bar\"}],\"scattergeo\":[{\"type\":\"scattergeo\",\"marker\":{\"colorbar\":{\"outlinewidth\":0,\"ticks\":\"\"}}}],\"scatterpolar\":[{\"type\":\"scatterpolar\",\"marker\":{\"colorbar\":{\"outlinewidth\":0,\"ticks\":\"\"}}}],\"histogram\":[{\"marker\":{\"pattern\":{\"fillmode\":\"overlay\",\"size\":10,\"solidity\":0.2}},\"type\":\"histogram\"}],\"scattergl\":[{\"type\":\"scattergl\",\"marker\":{\"colorbar\":{\"outlinewidth\":0,\"ticks\":\"\"}}}],\"scatter3d\":[{\"type\":\"scatter3d\",\"line\":{\"colorbar\":{\"outlinewidth\":0,\"ticks\":\"\"}},\"marker\":{\"colorbar\":{\"outlinewidth\":0,\"ticks\":\"\"}}}],\"scattermapbox\":[{\"type\":\"scattermapbox\",\"marker\":{\"colorbar\":{\"outlinewidth\":0,\"ticks\":\"\"}}}],\"scatterternary\":[{\"type\":\"scatterternary\",\"marker\":{\"colorbar\":{\"outlinewidth\":0,\"ticks\":\"\"}}}],\"scattercarpet\":[{\"type\":\"scattercarpet\",\"marker\":{\"colorbar\":{\"outlinewidth\":0,\"ticks\":\"\"}}}],\"carpet\":[{\"aaxis\":{\"endlinecolor\":\"#2a3f5f\",\"gridcolor\":\"white\",\"linecolor\":\"white\",\"minorgridcolor\":\"white\",\"startlinecolor\":\"#2a3f5f\"},\"baxis\":{\"endlinecolor\":\"#2a3f5f\",\"gridcolor\":\"white\",\"linecolor\":\"white\",\"minorgridcolor\":\"white\",\"startlinecolor\":\"#2a3f5f\"},\"type\":\"carpet\"}],\"table\":[{\"cells\":{\"fill\":{\"color\":\"#EBF0F8\"},\"line\":{\"color\":\"white\"}},\"header\":{\"fill\":{\"color\":\"#C8D4E3\"},\"line\":{\"color\":\"white\"}},\"type\":\"table\"}],\"barpolar\":[{\"marker\":{\"line\":{\"color\":\"#E5ECF6\",\"width\":0.5},\"pattern\":{\"fillmode\":\"overlay\",\"size\":10,\"solidity\":0.2}},\"type\":\"barpolar\"}],\"pie\":[{\"automargin\":true,\"type\":\"pie\"}]},\"layout\":{\"autotypenumbers\":\"strict\",\"colorway\":[\"#636efa\",\"#EF553B\",\"#00cc96\",\"#ab63fa\",\"#FFA15A\",\"#19d3f3\",\"#FF6692\",\"#B6E880\",\"#FF97FF\",\"#FECB52\"],\"font\":{\"color\":\"#2a3f5f\"},\"hovermode\":\"closest\",\"hoverlabel\":{\"align\":\"left\"},\"paper_bgcolor\":\"white\",\"plot_bgcolor\":\"#E5ECF6\",\"polar\":{\"bgcolor\":\"#E5ECF6\",\"angularaxis\":{\"gridcolor\":\"white\",\"linecolor\":\"white\",\"ticks\":\"\"},\"radialaxis\":{\"gridcolor\":\"white\",\"linecolor\":\"white\",\"ticks\":\"\"}},\"ternary\":{\"bgcolor\":\"#E5ECF6\",\"aaxis\":{\"gridcolor\":\"white\",\"linecolor\":\"white\",\"ticks\":\"\"},\"baxis\":{\"gridcolor\":\"white\",\"linecolor\":\"white\",\"ticks\":\"\"},\"caxis\":{\"gridcolor\":\"white\",\"linecolor\":\"white\",\"ticks\":\"\"}},\"coloraxis\":{\"colorbar\":{\"outlinewidth\":0,\"ticks\":\"\"}},\"colorscale\":{\"sequential\":[[0.0,\"#0d0887\"],[0.1111111111111111,\"#46039f\"],[0.2222222222222222,\"#7201a8\"],[0.3333333333333333,\"#9c179e\"],[0.4444444444444444,\"#bd3786\"],[0.5555555555555556,\"#d8576b\"],[0.6666666666666666,\"#ed7953\"],[0.7777777777777778,\"#fb9f3a\"],[0.8888888888888888,\"#fdca26\"],[1.0,\"#f0f921\"]],\"sequentialminus\":[[0.0,\"#0d0887\"],[0.1111111111111111,\"#46039f\"],[0.2222222222222222,\"#7201a8\"],[0.3333333333333333,\"#9c179e\"],[0.4444444444444444,\"#bd3786\"],[0.5555555555555556,\"#d8576b\"],[0.6666666666666666,\"#ed7953\"],[0.7777777777777778,\"#fb9f3a\"],[0.8888888888888888,\"#fdca26\"],[1.0,\"#f0f921\"]],\"diverging\":[[0,\"#8e0152\"],[0.1,\"#c51b7d\"],[0.2,\"#de77ae\"],[0.3,\"#f1b6da\"],[0.4,\"#fde0ef\"],[0.5,\"#f7f7f7\"],[0.6,\"#e6f5d0\"],[0.7,\"#b8e186\"],[0.8,\"#7fbc41\"],[0.9,\"#4d9221\"],[1,\"#276419\"]]},\"xaxis\":{\"gridcolor\":\"white\",\"linecolor\":\"white\",\"ticks\":\"\",\"title\":{\"standoff\":15},\"zerolinecolor\":\"white\",\"automargin\":true,\"zerolinewidth\":2},\"yaxis\":{\"gridcolor\":\"white\",\"linecolor\":\"white\",\"ticks\":\"\",\"title\":{\"standoff\":15},\"zerolinecolor\":\"white\",\"automargin\":true,\"zerolinewidth\":2},\"scene\":{\"xaxis\":{\"backgroundcolor\":\"#E5ECF6\",\"gridcolor\":\"white\",\"linecolor\":\"white\",\"showbackground\":true,\"ticks\":\"\",\"zerolinecolor\":\"white\",\"gridwidth\":2},\"yaxis\":{\"backgroundcolor\":\"#E5ECF6\",\"gridcolor\":\"white\",\"linecolor\":\"white\",\"showbackground\":true,\"ticks\":\"\",\"zerolinecolor\":\"white\",\"gridwidth\":2},\"zaxis\":{\"backgroundcolor\":\"#E5ECF6\",\"gridcolor\":\"white\",\"linecolor\":\"white\",\"showbackground\":true,\"ticks\":\"\",\"zerolinecolor\":\"white\",\"gridwidth\":2}},\"shapedefaults\":{\"line\":{\"color\":\"#2a3f5f\"}},\"annotationdefaults\":{\"arrowcolor\":\"#2a3f5f\",\"arrowhead\":0,\"arrowwidth\":1},\"geo\":{\"bgcolor\":\"white\",\"landcolor\":\"#E5ECF6\",\"subunitcolor\":\"white\",\"showland\":true,\"showlakes\":true,\"lakecolor\":\"white\"},\"title\":{\"x\":0.05},\"mapbox\":{\"style\":\"light\"}}},\"xaxis\":{\"anchor\":\"y\",\"domain\":[0.0,1.0]},\"yaxis\":{\"anchor\":\"x\",\"domain\":[0.0,1.0]},\"margin\":{\"t\":60}},                        {\"responsive\": true}                    ).then(function(){\n",
       "                            \n",
       "var gd = document.getElementById('025a85e1-efa5-41ac-ac0f-a9461f16a4aa');\n",
       "var x = new MutationObserver(function (mutations, observer) {{\n",
       "        var display = window.getComputedStyle(gd).display;\n",
       "        if (!display || display === 'none') {{\n",
       "            console.log([gd, 'removed!']);\n",
       "            Plotly.purge(gd);\n",
       "            observer.disconnect();\n",
       "        }}\n",
       "}});\n",
       "\n",
       "// Listen for the removal of the full notebook cells\n",
       "var notebookContainer = gd.closest('#notebook-container');\n",
       "if (notebookContainer) {{\n",
       "    x.observe(notebookContainer, {childList: true});\n",
       "}}\n",
       "\n",
       "// Listen for the clearing of the current output cell\n",
       "var outputEl = gd.closest('.output');\n",
       "if (outputEl) {{\n",
       "    x.observe(outputEl, {childList: true});\n",
       "}}\n",
       "\n",
       "                        })                };                });            </script>        </div>"
      ]
     },
     "metadata": {},
     "output_type": "display_data"
    }
   ],
   "source": [
    "# Interactive testing (for now animal only)\n",
    "images, label = test_image_loader.batch_sample(1)\n",
    "\n",
    "prediction = CNN.classify(images)\n",
    "prediction = prediction[0]\n",
    "\n",
    "# Assert animal image loader and CNN are in sync\n",
    "assert(test_image_loader.get_classifications_map() == CNN.get_image_loader_classification_map())\n",
    "\n",
    "# Now reverse mapping from string->float to float->string\n",
    "classification_map = {}\n",
    "for key, value in test_image_loader.get_classifications_map().items():\n",
    "    classification_map[value] = key\n",
    "\n",
    "print(\"Label: \" + classification_map[label[0]] + \" \" + str(label[0]))\n",
    "print(\"Prediction: \" + classification_map[prediction] + \" (\" + str(prediction) + \")\")\n",
    "view_image(np.array(images[0]), input_width, input_height, colorscale=\"\")"
   ]
  }
 ],
 "metadata": {
  "kernelspec": {
   "display_name": ".venv",
   "language": "python",
   "name": "python3"
  },
  "language_info": {
   "codemirror_mode": {
    "name": "ipython",
    "version": 3
   },
   "file_extension": ".py",
   "mimetype": "text/x-python",
   "name": "python",
   "nbconvert_exporter": "python",
   "pygments_lexer": "ipython3",
   "version": "3.10.12"
  },
  "orig_nbformat": 4
 },
 "nbformat": 4,
 "nbformat_minor": 2
}
