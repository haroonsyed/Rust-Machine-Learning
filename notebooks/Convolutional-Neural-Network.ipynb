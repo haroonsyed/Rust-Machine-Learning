{
 "cells": [
  {
   "cell_type": "code",
   "execution_count": 1,
   "metadata": {},
   "outputs": [],
   "source": [
    "import rust_machine_learning\n",
    "from syed_ml_lib import *\n",
    "import os"
   ]
  },
  {
   "cell_type": "code",
   "execution_count": 2,
   "metadata": {},
   "outputs": [
    {
     "name": "stdout",
     "output_type": "stream",
     "text": [
      "Reading images for classification \"pecora\"\n",
      "Reading images for classification \"cane\"\n",
      "Reading images for classification \"ragno\"\n",
      "Reading images for classification \"cavallo\"\n",
      "Reading images for classification \"gallina\"\n",
      "Reading images for classification \"scoiattolo\"\n",
      "Reading images for classification \"farfalla\"\n",
      "Reading images for classification \"gatto\"\n",
      "Reading images for classification \"elefante\"\n",
      "Reading images for classification \"mucca\"\n"
     ]
    }
   ],
   "source": [
    "# Setup the CNN\n",
    "num_classifications = 10\n",
    "max_pool_stride = 0\n",
    "input_width = 256\n",
    "input_height = 256\n",
    "input_depth = 3\n",
    "filters_per_conv_layer = [32]\n",
    "filter_dimension = 3\n",
    "\n",
    "CNN = rust_machine_learning.ConvolutionalNeuralNetwork(num_classifications, max_pool_stride, input_width, input_height, input_depth, filters_per_conv_layer, filter_dimension)\n",
    "\n",
    "image_directory = \"../data/animals-10/\"\n",
    "image_directory_path = os.path.abspath(image_directory)\n",
    "CNN.set_image_loader(image_directory_path, input_width, input_height)"
   ]
  },
  {
   "cell_type": "code",
   "execution_count": 3,
   "metadata": {},
   "outputs": [
    {
     "name": "stdout",
     "output_type": "stream",
     "text": [
      "Time to load samples: 4\n",
      "Finished preparing images\n",
      "Finished feed forward in CNN Layers\n",
      "Number of layers in network: 1\n",
      "Layer shapes:\n",
      "Shape of matrix is: 10 196608\n"
     ]
    },
    {
     "name": "stderr",
     "output_type": "stream",
     "text": [
      "GPUassert: invalid configuration argument cuda_kernels/src/cuda_kernels.cu 944\n",
      "thread '<unnamed>' panicked at 'Matrices not compatible shape for mat mult! A: 10 196608 B: 2097152 1', matrix_lib/src/lib.rs:270:7\n",
      "note: run with `RUST_BACKTRACE=1` environment variable to display a backtrace\n"
     ]
    },
    {
     "ename": "PanicException",
     "evalue": "Matrices not compatible shape for mat mult! A: 10 196608 B: 2097152 1",
     "output_type": "error",
     "traceback": [
      "\u001b[0;31m---------------------------------------------------------------------------\u001b[0m",
      "\u001b[0;31mPanicException\u001b[0m                            Traceback (most recent call last)",
      "\u001b[1;32m/home/haroonsyed/Rust-Machine-Learning/notebooks/Convolutional-Neural-Network.ipynb Cell 3\u001b[0m line \u001b[0;36m7\n\u001b[1;32m      <a href='vscode-notebook-cell://wsl%2Bubuntu/home/haroonsyed/Rust-Machine-Learning/notebooks/Convolutional-Neural-Network.ipynb#W2sdnNjb2RlLXJlbW90ZQ%3D%3D?line=2'>3</a>\u001b[0m batch_size \u001b[39m=\u001b[39m \u001b[39m3\u001b[39m\n\u001b[1;32m      <a href='vscode-notebook-cell://wsl%2Bubuntu/home/haroonsyed/Rust-Machine-Learning/notebooks/Convolutional-Neural-Network.ipynb#W2sdnNjb2RlLXJlbW90ZQ%3D%3D?line=3'>4</a>\u001b[0m num_iter \u001b[39m=\u001b[39m \u001b[39m1\u001b[39m\n\u001b[0;32m----> <a href='vscode-notebook-cell://wsl%2Bubuntu/home/haroonsyed/Rust-Machine-Learning/notebooks/Convolutional-Neural-Network.ipynb#W2sdnNjb2RlLXJlbW90ZQ%3D%3D?line=6'>7</a>\u001b[0m CNN\u001b[39m.\u001b[39;49mtrain_using_image_loader(learning_rate, batch_size, num_iter)\n",
      "\u001b[0;31mPanicException\u001b[0m: Matrices not compatible shape for mat mult! A: 10 196608 B: 2097152 1"
     ]
    }
   ],
   "source": [
    "# Now train the model\n",
    "learning_rate = 0.05\n",
    "batch_size = 1\n",
    "num_iter = 1\n",
    "\n",
    "\n",
    "CNN.train_using_image_loader(learning_rate, batch_size, num_iter)"
   ]
  }
 ],
 "metadata": {
  "kernelspec": {
   "display_name": ".venv",
   "language": "python",
   "name": "python3"
  },
  "language_info": {
   "codemirror_mode": {
    "name": "ipython",
    "version": 3
   },
   "file_extension": ".py",
   "mimetype": "text/x-python",
   "name": "python",
   "nbconvert_exporter": "python",
   "pygments_lexer": "ipython3",
   "version": "3.8.10"
  },
  "orig_nbformat": 4
 },
 "nbformat": 4,
 "nbformat_minor": 2
}
