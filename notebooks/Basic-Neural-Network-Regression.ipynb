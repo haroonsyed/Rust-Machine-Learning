{
 "cells": [
  {
   "cell_type": "code",
   "execution_count": 1,
   "metadata": {},
   "outputs": [],
   "source": [
    "import Rust_Machine_Learning\n",
    "import pandas as pd\n",
    "from syed_ml_lib import *"
   ]
  },
  {
   "cell_type": "code",
   "execution_count": 2,
   "metadata": {},
   "outputs": [
    {
     "data": {
      "text/html": [
       "<div>\n",
       "<style scoped>\n",
       "    .dataframe tbody tr th:only-of-type {\n",
       "        vertical-align: middle;\n",
       "    }\n",
       "\n",
       "    .dataframe tbody tr th {\n",
       "        vertical-align: top;\n",
       "    }\n",
       "\n",
       "    .dataframe thead th {\n",
       "        text-align: right;\n",
       "    }\n",
       "</style>\n",
       "<table border=\"1\" class=\"dataframe\">\n",
       "  <thead>\n",
       "    <tr style=\"text-align: right;\">\n",
       "      <th></th>\n",
       "      <th>sepal length (cm)</th>\n",
       "      <th>sepal width (cm)</th>\n",
       "      <th>petal length (cm)</th>\n",
       "      <th>petal width (cm)</th>\n",
       "      <th>class</th>\n",
       "    </tr>\n",
       "  </thead>\n",
       "  <tbody>\n",
       "    <tr>\n",
       "      <th>0</th>\n",
       "      <td>5.1</td>\n",
       "      <td>3.5</td>\n",
       "      <td>1.4</td>\n",
       "      <td>0.2</td>\n",
       "      <td>Iris-setosa</td>\n",
       "    </tr>\n",
       "    <tr>\n",
       "      <th>1</th>\n",
       "      <td>4.9</td>\n",
       "      <td>3.0</td>\n",
       "      <td>1.4</td>\n",
       "      <td>0.2</td>\n",
       "      <td>Iris-setosa</td>\n",
       "    </tr>\n",
       "    <tr>\n",
       "      <th>2</th>\n",
       "      <td>4.7</td>\n",
       "      <td>3.2</td>\n",
       "      <td>1.3</td>\n",
       "      <td>0.2</td>\n",
       "      <td>Iris-setosa</td>\n",
       "    </tr>\n",
       "    <tr>\n",
       "      <th>3</th>\n",
       "      <td>4.6</td>\n",
       "      <td>3.1</td>\n",
       "      <td>1.5</td>\n",
       "      <td>0.2</td>\n",
       "      <td>Iris-setosa</td>\n",
       "    </tr>\n",
       "    <tr>\n",
       "      <th>4</th>\n",
       "      <td>5.0</td>\n",
       "      <td>3.6</td>\n",
       "      <td>1.4</td>\n",
       "      <td>0.2</td>\n",
       "      <td>Iris-setosa</td>\n",
       "    </tr>\n",
       "    <tr>\n",
       "      <th>...</th>\n",
       "      <td>...</td>\n",
       "      <td>...</td>\n",
       "      <td>...</td>\n",
       "      <td>...</td>\n",
       "      <td>...</td>\n",
       "    </tr>\n",
       "    <tr>\n",
       "      <th>145</th>\n",
       "      <td>6.7</td>\n",
       "      <td>3.0</td>\n",
       "      <td>5.2</td>\n",
       "      <td>2.3</td>\n",
       "      <td>Iris-virginica</td>\n",
       "    </tr>\n",
       "    <tr>\n",
       "      <th>146</th>\n",
       "      <td>6.3</td>\n",
       "      <td>2.5</td>\n",
       "      <td>5.0</td>\n",
       "      <td>1.9</td>\n",
       "      <td>Iris-virginica</td>\n",
       "    </tr>\n",
       "    <tr>\n",
       "      <th>147</th>\n",
       "      <td>6.5</td>\n",
       "      <td>3.0</td>\n",
       "      <td>5.2</td>\n",
       "      <td>2.0</td>\n",
       "      <td>Iris-virginica</td>\n",
       "    </tr>\n",
       "    <tr>\n",
       "      <th>148</th>\n",
       "      <td>6.2</td>\n",
       "      <td>3.4</td>\n",
       "      <td>5.4</td>\n",
       "      <td>2.3</td>\n",
       "      <td>Iris-virginica</td>\n",
       "    </tr>\n",
       "    <tr>\n",
       "      <th>149</th>\n",
       "      <td>5.9</td>\n",
       "      <td>3.0</td>\n",
       "      <td>5.1</td>\n",
       "      <td>1.8</td>\n",
       "      <td>Iris-virginica</td>\n",
       "    </tr>\n",
       "  </tbody>\n",
       "</table>\n",
       "<p>150 rows × 5 columns</p>\n",
       "</div>"
      ],
      "text/plain": [
       "     sepal length (cm)  sepal width (cm)   petal length (cm)  \\\n",
       "0                  5.1               3.5                 1.4   \n",
       "1                  4.9               3.0                 1.4   \n",
       "2                  4.7               3.2                 1.3   \n",
       "3                  4.6               3.1                 1.5   \n",
       "4                  5.0               3.6                 1.4   \n",
       "..                 ...               ...                 ...   \n",
       "145                6.7               3.0                 5.2   \n",
       "146                6.3               2.5                 5.0   \n",
       "147                6.5               3.0                 5.2   \n",
       "148                6.2               3.4                 5.4   \n",
       "149                5.9               3.0                 5.1   \n",
       "\n",
       "      petal width (cm)           class  \n",
       "0                  0.2     Iris-setosa  \n",
       "1                  0.2     Iris-setosa  \n",
       "2                  0.2     Iris-setosa  \n",
       "3                  0.2     Iris-setosa  \n",
       "4                  0.2     Iris-setosa  \n",
       "..                 ...             ...  \n",
       "145                2.3  Iris-virginica  \n",
       "146                1.9  Iris-virginica  \n",
       "147                2.0  Iris-virginica  \n",
       "148                2.3  Iris-virginica  \n",
       "149                1.8  Iris-virginica  \n",
       "\n",
       "[150 rows x 5 columns]"
      ]
     },
     "execution_count": 2,
     "metadata": {},
     "output_type": "execute_result"
    }
   ],
   "source": [
    "# Get the csv data\n",
    "df = pd.read_csv(\"../data/iris.data\")\n",
    "# df = pd.read_csv(\"../data/kmeans-dataset.csv\")\n",
    "# df = pd.read_csv(\"../data/winequality-red.csv\")\n",
    "# df = pd.read_csv(\"../data/digit-recognizer/train.csv\")\n",
    "# df = df.sample(n=10000)\n",
    "df  "
   ]
  },
  {
   "cell_type": "code",
   "execution_count": 3,
   "metadata": {},
   "outputs": [
    {
     "data": {
      "text/html": [
       "<div>\n",
       "<style scoped>\n",
       "    .dataframe tbody tr th:only-of-type {\n",
       "        vertical-align: middle;\n",
       "    }\n",
       "\n",
       "    .dataframe tbody tr th {\n",
       "        vertical-align: top;\n",
       "    }\n",
       "\n",
       "    .dataframe thead th {\n",
       "        text-align: right;\n",
       "    }\n",
       "</style>\n",
       "<table border=\"1\" class=\"dataframe\">\n",
       "  <thead>\n",
       "    <tr style=\"text-align: right;\">\n",
       "      <th></th>\n",
       "      <th>sepal length (cm)</th>\n",
       "      <th>sepal width (cm)</th>\n",
       "      <th>petal length (cm)</th>\n",
       "      <th>petal width (cm)</th>\n",
       "      <th>is_ class_Iris-setosa</th>\n",
       "      <th>is_ class_Iris-versicolor</th>\n",
       "      <th>is_ class_Iris-virginica</th>\n",
       "    </tr>\n",
       "  </thead>\n",
       "  <tbody>\n",
       "    <tr>\n",
       "      <th>0</th>\n",
       "      <td>5.1</td>\n",
       "      <td>3.5</td>\n",
       "      <td>1.4</td>\n",
       "      <td>0.2</td>\n",
       "      <td>1.0</td>\n",
       "      <td>0.0</td>\n",
       "      <td>0.0</td>\n",
       "    </tr>\n",
       "    <tr>\n",
       "      <th>1</th>\n",
       "      <td>4.9</td>\n",
       "      <td>3.0</td>\n",
       "      <td>1.4</td>\n",
       "      <td>0.2</td>\n",
       "      <td>1.0</td>\n",
       "      <td>0.0</td>\n",
       "      <td>0.0</td>\n",
       "    </tr>\n",
       "    <tr>\n",
       "      <th>2</th>\n",
       "      <td>4.7</td>\n",
       "      <td>3.2</td>\n",
       "      <td>1.3</td>\n",
       "      <td>0.2</td>\n",
       "      <td>1.0</td>\n",
       "      <td>0.0</td>\n",
       "      <td>0.0</td>\n",
       "    </tr>\n",
       "    <tr>\n",
       "      <th>3</th>\n",
       "      <td>4.6</td>\n",
       "      <td>3.1</td>\n",
       "      <td>1.5</td>\n",
       "      <td>0.2</td>\n",
       "      <td>1.0</td>\n",
       "      <td>0.0</td>\n",
       "      <td>0.0</td>\n",
       "    </tr>\n",
       "    <tr>\n",
       "      <th>4</th>\n",
       "      <td>5.0</td>\n",
       "      <td>3.6</td>\n",
       "      <td>1.4</td>\n",
       "      <td>0.2</td>\n",
       "      <td>1.0</td>\n",
       "      <td>0.0</td>\n",
       "      <td>0.0</td>\n",
       "    </tr>\n",
       "    <tr>\n",
       "      <th>...</th>\n",
       "      <td>...</td>\n",
       "      <td>...</td>\n",
       "      <td>...</td>\n",
       "      <td>...</td>\n",
       "      <td>...</td>\n",
       "      <td>...</td>\n",
       "      <td>...</td>\n",
       "    </tr>\n",
       "    <tr>\n",
       "      <th>145</th>\n",
       "      <td>6.7</td>\n",
       "      <td>3.0</td>\n",
       "      <td>5.2</td>\n",
       "      <td>2.3</td>\n",
       "      <td>0.0</td>\n",
       "      <td>0.0</td>\n",
       "      <td>1.0</td>\n",
       "    </tr>\n",
       "    <tr>\n",
       "      <th>146</th>\n",
       "      <td>6.3</td>\n",
       "      <td>2.5</td>\n",
       "      <td>5.0</td>\n",
       "      <td>1.9</td>\n",
       "      <td>0.0</td>\n",
       "      <td>0.0</td>\n",
       "      <td>1.0</td>\n",
       "    </tr>\n",
       "    <tr>\n",
       "      <th>147</th>\n",
       "      <td>6.5</td>\n",
       "      <td>3.0</td>\n",
       "      <td>5.2</td>\n",
       "      <td>2.0</td>\n",
       "      <td>0.0</td>\n",
       "      <td>0.0</td>\n",
       "      <td>1.0</td>\n",
       "    </tr>\n",
       "    <tr>\n",
       "      <th>148</th>\n",
       "      <td>6.2</td>\n",
       "      <td>3.4</td>\n",
       "      <td>5.4</td>\n",
       "      <td>2.3</td>\n",
       "      <td>0.0</td>\n",
       "      <td>0.0</td>\n",
       "      <td>1.0</td>\n",
       "    </tr>\n",
       "    <tr>\n",
       "      <th>149</th>\n",
       "      <td>5.9</td>\n",
       "      <td>3.0</td>\n",
       "      <td>5.1</td>\n",
       "      <td>1.8</td>\n",
       "      <td>0.0</td>\n",
       "      <td>0.0</td>\n",
       "      <td>1.0</td>\n",
       "    </tr>\n",
       "  </tbody>\n",
       "</table>\n",
       "<p>150 rows × 7 columns</p>\n",
       "</div>"
      ],
      "text/plain": [
       "     sepal length (cm)  sepal width (cm)   petal length (cm)  \\\n",
       "0                  5.1               3.5                 1.4   \n",
       "1                  4.9               3.0                 1.4   \n",
       "2                  4.7               3.2                 1.3   \n",
       "3                  4.6               3.1                 1.5   \n",
       "4                  5.0               3.6                 1.4   \n",
       "..                 ...               ...                 ...   \n",
       "145                6.7               3.0                 5.2   \n",
       "146                6.3               2.5                 5.0   \n",
       "147                6.5               3.0                 5.2   \n",
       "148                6.2               3.4                 5.4   \n",
       "149                5.9               3.0                 5.1   \n",
       "\n",
       "      petal width (cm)  is_ class_Iris-setosa  is_ class_Iris-versicolor  \\\n",
       "0                  0.2                    1.0                        0.0   \n",
       "1                  0.2                    1.0                        0.0   \n",
       "2                  0.2                    1.0                        0.0   \n",
       "3                  0.2                    1.0                        0.0   \n",
       "4                  0.2                    1.0                        0.0   \n",
       "..                 ...                    ...                        ...   \n",
       "145                2.3                    0.0                        0.0   \n",
       "146                1.9                    0.0                        0.0   \n",
       "147                2.0                    0.0                        0.0   \n",
       "148                2.3                    0.0                        0.0   \n",
       "149                1.8                    0.0                        0.0   \n",
       "\n",
       "     is_ class_Iris-virginica  \n",
       "0                         0.0  \n",
       "1                         0.0  \n",
       "2                         0.0  \n",
       "3                         0.0  \n",
       "4                         0.0  \n",
       "..                        ...  \n",
       "145                       1.0  \n",
       "146                       1.0  \n",
       "147                       1.0  \n",
       "148                       1.0  \n",
       "149                       1.0  \n",
       "\n",
       "[150 rows x 7 columns]"
      ]
     },
     "execution_count": 3,
     "metadata": {},
     "output_type": "execute_result"
    }
   ],
   "source": [
    "to_encode = [4] # We won't encode the label column. The output layer will use 0-n (assuming classifications are ordered starting at 0), to determine error.\n",
    "encoded, feature_to_encoded_cols = one_hot_encode(df, to_encode)\n",
    "encoded"
   ]
  },
  {
   "cell_type": "code",
   "execution_count": 4,
   "metadata": {},
   "outputs": [
    {
     "data": {
      "text/html": [
       "<div>\n",
       "<style scoped>\n",
       "    .dataframe tbody tr th:only-of-type {\n",
       "        vertical-align: middle;\n",
       "    }\n",
       "\n",
       "    .dataframe tbody tr th {\n",
       "        vertical-align: top;\n",
       "    }\n",
       "\n",
       "    .dataframe thead th {\n",
       "        text-align: right;\n",
       "    }\n",
       "</style>\n",
       "<table border=\"1\" class=\"dataframe\">\n",
       "  <thead>\n",
       "    <tr style=\"text-align: right;\">\n",
       "      <th></th>\n",
       "      <th>sepal length (cm)</th>\n",
       "      <th>sepal width (cm)</th>\n",
       "      <th>petal length (cm)</th>\n",
       "      <th>petal width (cm)</th>\n",
       "      <th>is_ class_Iris-setosa</th>\n",
       "      <th>is_ class_Iris-versicolor</th>\n",
       "      <th>is_ class_Iris-virginica</th>\n",
       "    </tr>\n",
       "  </thead>\n",
       "  <tbody>\n",
       "    <tr>\n",
       "      <th>0</th>\n",
       "      <td>5.1</td>\n",
       "      <td>3.5</td>\n",
       "      <td>1.4</td>\n",
       "      <td>0.2</td>\n",
       "      <td>1.0</td>\n",
       "      <td>0.0</td>\n",
       "      <td>0.0</td>\n",
       "    </tr>\n",
       "    <tr>\n",
       "      <th>1</th>\n",
       "      <td>4.9</td>\n",
       "      <td>3.0</td>\n",
       "      <td>1.4</td>\n",
       "      <td>0.2</td>\n",
       "      <td>1.0</td>\n",
       "      <td>0.0</td>\n",
       "      <td>0.0</td>\n",
       "    </tr>\n",
       "    <tr>\n",
       "      <th>2</th>\n",
       "      <td>4.7</td>\n",
       "      <td>3.2</td>\n",
       "      <td>1.3</td>\n",
       "      <td>0.2</td>\n",
       "      <td>1.0</td>\n",
       "      <td>0.0</td>\n",
       "      <td>0.0</td>\n",
       "    </tr>\n",
       "    <tr>\n",
       "      <th>3</th>\n",
       "      <td>4.6</td>\n",
       "      <td>3.1</td>\n",
       "      <td>1.5</td>\n",
       "      <td>0.2</td>\n",
       "      <td>1.0</td>\n",
       "      <td>0.0</td>\n",
       "      <td>0.0</td>\n",
       "    </tr>\n",
       "    <tr>\n",
       "      <th>4</th>\n",
       "      <td>5.0</td>\n",
       "      <td>3.6</td>\n",
       "      <td>1.4</td>\n",
       "      <td>0.2</td>\n",
       "      <td>1.0</td>\n",
       "      <td>0.0</td>\n",
       "      <td>0.0</td>\n",
       "    </tr>\n",
       "    <tr>\n",
       "      <th>...</th>\n",
       "      <td>...</td>\n",
       "      <td>...</td>\n",
       "      <td>...</td>\n",
       "      <td>...</td>\n",
       "      <td>...</td>\n",
       "      <td>...</td>\n",
       "      <td>...</td>\n",
       "    </tr>\n",
       "    <tr>\n",
       "      <th>145</th>\n",
       "      <td>6.7</td>\n",
       "      <td>3.0</td>\n",
       "      <td>5.2</td>\n",
       "      <td>2.3</td>\n",
       "      <td>0.0</td>\n",
       "      <td>0.0</td>\n",
       "      <td>1.0</td>\n",
       "    </tr>\n",
       "    <tr>\n",
       "      <th>146</th>\n",
       "      <td>6.3</td>\n",
       "      <td>2.5</td>\n",
       "      <td>5.0</td>\n",
       "      <td>1.9</td>\n",
       "      <td>0.0</td>\n",
       "      <td>0.0</td>\n",
       "      <td>1.0</td>\n",
       "    </tr>\n",
       "    <tr>\n",
       "      <th>147</th>\n",
       "      <td>6.5</td>\n",
       "      <td>3.0</td>\n",
       "      <td>5.2</td>\n",
       "      <td>2.0</td>\n",
       "      <td>0.0</td>\n",
       "      <td>0.0</td>\n",
       "      <td>1.0</td>\n",
       "    </tr>\n",
       "    <tr>\n",
       "      <th>148</th>\n",
       "      <td>6.2</td>\n",
       "      <td>3.4</td>\n",
       "      <td>5.4</td>\n",
       "      <td>2.3</td>\n",
       "      <td>0.0</td>\n",
       "      <td>0.0</td>\n",
       "      <td>1.0</td>\n",
       "    </tr>\n",
       "    <tr>\n",
       "      <th>149</th>\n",
       "      <td>5.9</td>\n",
       "      <td>3.0</td>\n",
       "      <td>5.1</td>\n",
       "      <td>1.8</td>\n",
       "      <td>0.0</td>\n",
       "      <td>0.0</td>\n",
       "      <td>1.0</td>\n",
       "    </tr>\n",
       "  </tbody>\n",
       "</table>\n",
       "<p>150 rows × 7 columns</p>\n",
       "</div>"
      ],
      "text/plain": [
       "     sepal length (cm)  sepal width (cm)   petal length (cm)  \\\n",
       "0                  5.1               3.5                 1.4   \n",
       "1                  4.9               3.0                 1.4   \n",
       "2                  4.7               3.2                 1.3   \n",
       "3                  4.6               3.1                 1.5   \n",
       "4                  5.0               3.6                 1.4   \n",
       "..                 ...               ...                 ...   \n",
       "145                6.7               3.0                 5.2   \n",
       "146                6.3               2.5                 5.0   \n",
       "147                6.5               3.0                 5.2   \n",
       "148                6.2               3.4                 5.4   \n",
       "149                5.9               3.0                 5.1   \n",
       "\n",
       "      petal width (cm)  is_ class_Iris-setosa  is_ class_Iris-versicolor  \\\n",
       "0                  0.2                    1.0                        0.0   \n",
       "1                  0.2                    1.0                        0.0   \n",
       "2                  0.2                    1.0                        0.0   \n",
       "3                  0.2                    1.0                        0.0   \n",
       "4                  0.2                    1.0                        0.0   \n",
       "..                 ...                    ...                        ...   \n",
       "145                2.3                    0.0                        0.0   \n",
       "146                1.9                    0.0                        0.0   \n",
       "147                2.0                    0.0                        0.0   \n",
       "148                2.3                    0.0                        0.0   \n",
       "149                1.8                    0.0                        0.0   \n",
       "\n",
       "     is_ class_Iris-virginica  \n",
       "0                         0.0  \n",
       "1                         0.0  \n",
       "2                         0.0  \n",
       "3                         0.0  \n",
       "4                         0.0  \n",
       "..                        ...  \n",
       "145                       1.0  \n",
       "146                       1.0  \n",
       "147                       1.0  \n",
       "148                       1.0  \n",
       "149                       1.0  \n",
       "\n",
       "[150 rows x 7 columns]"
      ]
     },
     "execution_count": 4,
     "metadata": {},
     "output_type": "execute_result"
    }
   ],
   "source": [
    "# Remove unnecessary data or NAN\n",
    "to_remove = []\n",
    "encoded = encoded.drop(encoded.columns[to_remove], axis=1)\n",
    "encoded"
   ]
  },
  {
   "cell_type": "code",
   "execution_count": 5,
   "metadata": {},
   "outputs": [
    {
     "data": {
      "application/vnd.plotly.v1+json": {
       "config": {
        "plotlyServerURL": "https://plot.ly"
       },
       "data": [
        {
         "coloraxis": "coloraxis",
         "hovertemplate": "x: %{x}<br>y: %{y}<br>color: %{z}<extra></extra>",
         "name": "0",
         "type": "heatmap",
         "x": [
          "sepal length (cm)",
          "sepal width (cm)",
          " petal width (cm)",
          "is_ class_Iris-setosa",
          "is_ class_Iris-versicolor",
          "is_ class_Iris-virginica"
         ],
         "xaxis": "x",
         "y": [
          "sepal length (cm)",
          "sepal width (cm)",
          " petal width (cm)",
          "is_ class_Iris-setosa",
          "is_ class_Iris-versicolor",
          "is_ class_Iris-virginica"
         ],
         "yaxis": "y",
         "z": [
          [
           1,
           -0.10459210538780639,
           0.8138544142250455,
           -0.7161728219244515,
           0.09205060357250752,
           0.6195447720933027
          ],
          [
           -0.10459210538780639,
           1,
           -0.3525416365669678,
           0.5969841970028471,
           -0.45438947307984756,
           -0.13673314084015945
          ],
          [
           0.8138544142250455,
           -0.3525416365669678,
           1,
           -0.8820003827422879,
           0.1095768457880045,
           0.7668067174740743
          ],
          [
           -0.7161728219244515,
           0.5969841970028471,
           -0.8820003827422879,
           1,
           -0.49990738739771756,
           -0.49168917189444156
          ],
          [
           0.09205060357250752,
           -0.45438947307984756,
           0.1095768457880045,
           -0.49990738739771756,
           1,
           -0.5083571247579154
          ],
          [
           0.6195447720933027,
           -0.13673314084015945,
           0.7668067174740743,
           -0.49168917189444156,
           -0.5083571247579154,
           1
          ]
         ]
        }
       ],
       "layout": {
        "coloraxis": {
         "colorscale": [
          [
           0,
           "#0d0887"
          ],
          [
           0.1111111111111111,
           "#46039f"
          ],
          [
           0.2222222222222222,
           "#7201a8"
          ],
          [
           0.3333333333333333,
           "#9c179e"
          ],
          [
           0.4444444444444444,
           "#bd3786"
          ],
          [
           0.5555555555555556,
           "#d8576b"
          ],
          [
           0.6666666666666666,
           "#ed7953"
          ],
          [
           0.7777777777777778,
           "#fb9f3a"
          ],
          [
           0.8888888888888888,
           "#fdca26"
          ],
          [
           1,
           "#f0f921"
          ]
         ]
        },
        "margin": {
         "t": 60
        },
        "template": {
         "data": {
          "bar": [
           {
            "error_x": {
             "color": "#2a3f5f"
            },
            "error_y": {
             "color": "#2a3f5f"
            },
            "marker": {
             "line": {
              "color": "#E5ECF6",
              "width": 0.5
             },
             "pattern": {
              "fillmode": "overlay",
              "size": 10,
              "solidity": 0.2
             }
            },
            "type": "bar"
           }
          ],
          "barpolar": [
           {
            "marker": {
             "line": {
              "color": "#E5ECF6",
              "width": 0.5
             },
             "pattern": {
              "fillmode": "overlay",
              "size": 10,
              "solidity": 0.2
             }
            },
            "type": "barpolar"
           }
          ],
          "carpet": [
           {
            "aaxis": {
             "endlinecolor": "#2a3f5f",
             "gridcolor": "white",
             "linecolor": "white",
             "minorgridcolor": "white",
             "startlinecolor": "#2a3f5f"
            },
            "baxis": {
             "endlinecolor": "#2a3f5f",
             "gridcolor": "white",
             "linecolor": "white",
             "minorgridcolor": "white",
             "startlinecolor": "#2a3f5f"
            },
            "type": "carpet"
           }
          ],
          "choropleth": [
           {
            "colorbar": {
             "outlinewidth": 0,
             "ticks": ""
            },
            "type": "choropleth"
           }
          ],
          "contour": [
           {
            "colorbar": {
             "outlinewidth": 0,
             "ticks": ""
            },
            "colorscale": [
             [
              0,
              "#0d0887"
             ],
             [
              0.1111111111111111,
              "#46039f"
             ],
             [
              0.2222222222222222,
              "#7201a8"
             ],
             [
              0.3333333333333333,
              "#9c179e"
             ],
             [
              0.4444444444444444,
              "#bd3786"
             ],
             [
              0.5555555555555556,
              "#d8576b"
             ],
             [
              0.6666666666666666,
              "#ed7953"
             ],
             [
              0.7777777777777778,
              "#fb9f3a"
             ],
             [
              0.8888888888888888,
              "#fdca26"
             ],
             [
              1,
              "#f0f921"
             ]
            ],
            "type": "contour"
           }
          ],
          "contourcarpet": [
           {
            "colorbar": {
             "outlinewidth": 0,
             "ticks": ""
            },
            "type": "contourcarpet"
           }
          ],
          "heatmap": [
           {
            "colorbar": {
             "outlinewidth": 0,
             "ticks": ""
            },
            "colorscale": [
             [
              0,
              "#0d0887"
             ],
             [
              0.1111111111111111,
              "#46039f"
             ],
             [
              0.2222222222222222,
              "#7201a8"
             ],
             [
              0.3333333333333333,
              "#9c179e"
             ],
             [
              0.4444444444444444,
              "#bd3786"
             ],
             [
              0.5555555555555556,
              "#d8576b"
             ],
             [
              0.6666666666666666,
              "#ed7953"
             ],
             [
              0.7777777777777778,
              "#fb9f3a"
             ],
             [
              0.8888888888888888,
              "#fdca26"
             ],
             [
              1,
              "#f0f921"
             ]
            ],
            "type": "heatmap"
           }
          ],
          "heatmapgl": [
           {
            "colorbar": {
             "outlinewidth": 0,
             "ticks": ""
            },
            "colorscale": [
             [
              0,
              "#0d0887"
             ],
             [
              0.1111111111111111,
              "#46039f"
             ],
             [
              0.2222222222222222,
              "#7201a8"
             ],
             [
              0.3333333333333333,
              "#9c179e"
             ],
             [
              0.4444444444444444,
              "#bd3786"
             ],
             [
              0.5555555555555556,
              "#d8576b"
             ],
             [
              0.6666666666666666,
              "#ed7953"
             ],
             [
              0.7777777777777778,
              "#fb9f3a"
             ],
             [
              0.8888888888888888,
              "#fdca26"
             ],
             [
              1,
              "#f0f921"
             ]
            ],
            "type": "heatmapgl"
           }
          ],
          "histogram": [
           {
            "marker": {
             "pattern": {
              "fillmode": "overlay",
              "size": 10,
              "solidity": 0.2
             }
            },
            "type": "histogram"
           }
          ],
          "histogram2d": [
           {
            "colorbar": {
             "outlinewidth": 0,
             "ticks": ""
            },
            "colorscale": [
             [
              0,
              "#0d0887"
             ],
             [
              0.1111111111111111,
              "#46039f"
             ],
             [
              0.2222222222222222,
              "#7201a8"
             ],
             [
              0.3333333333333333,
              "#9c179e"
             ],
             [
              0.4444444444444444,
              "#bd3786"
             ],
             [
              0.5555555555555556,
              "#d8576b"
             ],
             [
              0.6666666666666666,
              "#ed7953"
             ],
             [
              0.7777777777777778,
              "#fb9f3a"
             ],
             [
              0.8888888888888888,
              "#fdca26"
             ],
             [
              1,
              "#f0f921"
             ]
            ],
            "type": "histogram2d"
           }
          ],
          "histogram2dcontour": [
           {
            "colorbar": {
             "outlinewidth": 0,
             "ticks": ""
            },
            "colorscale": [
             [
              0,
              "#0d0887"
             ],
             [
              0.1111111111111111,
              "#46039f"
             ],
             [
              0.2222222222222222,
              "#7201a8"
             ],
             [
              0.3333333333333333,
              "#9c179e"
             ],
             [
              0.4444444444444444,
              "#bd3786"
             ],
             [
              0.5555555555555556,
              "#d8576b"
             ],
             [
              0.6666666666666666,
              "#ed7953"
             ],
             [
              0.7777777777777778,
              "#fb9f3a"
             ],
             [
              0.8888888888888888,
              "#fdca26"
             ],
             [
              1,
              "#f0f921"
             ]
            ],
            "type": "histogram2dcontour"
           }
          ],
          "mesh3d": [
           {
            "colorbar": {
             "outlinewidth": 0,
             "ticks": ""
            },
            "type": "mesh3d"
           }
          ],
          "parcoords": [
           {
            "line": {
             "colorbar": {
              "outlinewidth": 0,
              "ticks": ""
             }
            },
            "type": "parcoords"
           }
          ],
          "pie": [
           {
            "automargin": true,
            "type": "pie"
           }
          ],
          "scatter": [
           {
            "fillpattern": {
             "fillmode": "overlay",
             "size": 10,
             "solidity": 0.2
            },
            "type": "scatter"
           }
          ],
          "scatter3d": [
           {
            "line": {
             "colorbar": {
              "outlinewidth": 0,
              "ticks": ""
             }
            },
            "marker": {
             "colorbar": {
              "outlinewidth": 0,
              "ticks": ""
             }
            },
            "type": "scatter3d"
           }
          ],
          "scattercarpet": [
           {
            "marker": {
             "colorbar": {
              "outlinewidth": 0,
              "ticks": ""
             }
            },
            "type": "scattercarpet"
           }
          ],
          "scattergeo": [
           {
            "marker": {
             "colorbar": {
              "outlinewidth": 0,
              "ticks": ""
             }
            },
            "type": "scattergeo"
           }
          ],
          "scattergl": [
           {
            "marker": {
             "colorbar": {
              "outlinewidth": 0,
              "ticks": ""
             }
            },
            "type": "scattergl"
           }
          ],
          "scattermapbox": [
           {
            "marker": {
             "colorbar": {
              "outlinewidth": 0,
              "ticks": ""
             }
            },
            "type": "scattermapbox"
           }
          ],
          "scatterpolar": [
           {
            "marker": {
             "colorbar": {
              "outlinewidth": 0,
              "ticks": ""
             }
            },
            "type": "scatterpolar"
           }
          ],
          "scatterpolargl": [
           {
            "marker": {
             "colorbar": {
              "outlinewidth": 0,
              "ticks": ""
             }
            },
            "type": "scatterpolargl"
           }
          ],
          "scatterternary": [
           {
            "marker": {
             "colorbar": {
              "outlinewidth": 0,
              "ticks": ""
             }
            },
            "type": "scatterternary"
           }
          ],
          "surface": [
           {
            "colorbar": {
             "outlinewidth": 0,
             "ticks": ""
            },
            "colorscale": [
             [
              0,
              "#0d0887"
             ],
             [
              0.1111111111111111,
              "#46039f"
             ],
             [
              0.2222222222222222,
              "#7201a8"
             ],
             [
              0.3333333333333333,
              "#9c179e"
             ],
             [
              0.4444444444444444,
              "#bd3786"
             ],
             [
              0.5555555555555556,
              "#d8576b"
             ],
             [
              0.6666666666666666,
              "#ed7953"
             ],
             [
              0.7777777777777778,
              "#fb9f3a"
             ],
             [
              0.8888888888888888,
              "#fdca26"
             ],
             [
              1,
              "#f0f921"
             ]
            ],
            "type": "surface"
           }
          ],
          "table": [
           {
            "cells": {
             "fill": {
              "color": "#EBF0F8"
             },
             "line": {
              "color": "white"
             }
            },
            "header": {
             "fill": {
              "color": "#C8D4E3"
             },
             "line": {
              "color": "white"
             }
            },
            "type": "table"
           }
          ]
         },
         "layout": {
          "annotationdefaults": {
           "arrowcolor": "#2a3f5f",
           "arrowhead": 0,
           "arrowwidth": 1
          },
          "autotypenumbers": "strict",
          "coloraxis": {
           "colorbar": {
            "outlinewidth": 0,
            "ticks": ""
           }
          },
          "colorscale": {
           "diverging": [
            [
             0,
             "#8e0152"
            ],
            [
             0.1,
             "#c51b7d"
            ],
            [
             0.2,
             "#de77ae"
            ],
            [
             0.3,
             "#f1b6da"
            ],
            [
             0.4,
             "#fde0ef"
            ],
            [
             0.5,
             "#f7f7f7"
            ],
            [
             0.6,
             "#e6f5d0"
            ],
            [
             0.7,
             "#b8e186"
            ],
            [
             0.8,
             "#7fbc41"
            ],
            [
             0.9,
             "#4d9221"
            ],
            [
             1,
             "#276419"
            ]
           ],
           "sequential": [
            [
             0,
             "#0d0887"
            ],
            [
             0.1111111111111111,
             "#46039f"
            ],
            [
             0.2222222222222222,
             "#7201a8"
            ],
            [
             0.3333333333333333,
             "#9c179e"
            ],
            [
             0.4444444444444444,
             "#bd3786"
            ],
            [
             0.5555555555555556,
             "#d8576b"
            ],
            [
             0.6666666666666666,
             "#ed7953"
            ],
            [
             0.7777777777777778,
             "#fb9f3a"
            ],
            [
             0.8888888888888888,
             "#fdca26"
            ],
            [
             1,
             "#f0f921"
            ]
           ],
           "sequentialminus": [
            [
             0,
             "#0d0887"
            ],
            [
             0.1111111111111111,
             "#46039f"
            ],
            [
             0.2222222222222222,
             "#7201a8"
            ],
            [
             0.3333333333333333,
             "#9c179e"
            ],
            [
             0.4444444444444444,
             "#bd3786"
            ],
            [
             0.5555555555555556,
             "#d8576b"
            ],
            [
             0.6666666666666666,
             "#ed7953"
            ],
            [
             0.7777777777777778,
             "#fb9f3a"
            ],
            [
             0.8888888888888888,
             "#fdca26"
            ],
            [
             1,
             "#f0f921"
            ]
           ]
          },
          "colorway": [
           "#636efa",
           "#EF553B",
           "#00cc96",
           "#ab63fa",
           "#FFA15A",
           "#19d3f3",
           "#FF6692",
           "#B6E880",
           "#FF97FF",
           "#FECB52"
          ],
          "font": {
           "color": "#2a3f5f"
          },
          "geo": {
           "bgcolor": "white",
           "lakecolor": "white",
           "landcolor": "#E5ECF6",
           "showlakes": true,
           "showland": true,
           "subunitcolor": "white"
          },
          "hoverlabel": {
           "align": "left"
          },
          "hovermode": "closest",
          "mapbox": {
           "style": "light"
          },
          "paper_bgcolor": "white",
          "plot_bgcolor": "#E5ECF6",
          "polar": {
           "angularaxis": {
            "gridcolor": "white",
            "linecolor": "white",
            "ticks": ""
           },
           "bgcolor": "#E5ECF6",
           "radialaxis": {
            "gridcolor": "white",
            "linecolor": "white",
            "ticks": ""
           }
          },
          "scene": {
           "xaxis": {
            "backgroundcolor": "#E5ECF6",
            "gridcolor": "white",
            "gridwidth": 2,
            "linecolor": "white",
            "showbackground": true,
            "ticks": "",
            "zerolinecolor": "white"
           },
           "yaxis": {
            "backgroundcolor": "#E5ECF6",
            "gridcolor": "white",
            "gridwidth": 2,
            "linecolor": "white",
            "showbackground": true,
            "ticks": "",
            "zerolinecolor": "white"
           },
           "zaxis": {
            "backgroundcolor": "#E5ECF6",
            "gridcolor": "white",
            "gridwidth": 2,
            "linecolor": "white",
            "showbackground": true,
            "ticks": "",
            "zerolinecolor": "white"
           }
          },
          "shapedefaults": {
           "line": {
            "color": "#2a3f5f"
           }
          },
          "ternary": {
           "aaxis": {
            "gridcolor": "white",
            "linecolor": "white",
            "ticks": ""
           },
           "baxis": {
            "gridcolor": "white",
            "linecolor": "white",
            "ticks": ""
           },
           "bgcolor": "#E5ECF6",
           "caxis": {
            "gridcolor": "white",
            "linecolor": "white",
            "ticks": ""
           }
          },
          "title": {
           "x": 0.05
          },
          "xaxis": {
           "automargin": true,
           "gridcolor": "white",
           "linecolor": "white",
           "ticks": "",
           "title": {
            "standoff": 15
           },
           "zerolinecolor": "white",
           "zerolinewidth": 2
          },
          "yaxis": {
           "automargin": true,
           "gridcolor": "white",
           "linecolor": "white",
           "ticks": "",
           "title": {
            "standoff": 15
           },
           "zerolinecolor": "white",
           "zerolinewidth": 2
          }
         }
        },
        "xaxis": {
         "anchor": "y",
         "domain": [
          0,
          1
         ]
        },
        "yaxis": {
         "anchor": "x",
         "autorange": true,
         "domain": [
          0,
          1
         ]
        }
       }
      }
     },
     "metadata": {},
     "output_type": "display_data"
    },
    {
     "data": {
      "text/html": [
       "<div>\n",
       "<style scoped>\n",
       "    .dataframe tbody tr th:only-of-type {\n",
       "        vertical-align: middle;\n",
       "    }\n",
       "\n",
       "    .dataframe tbody tr th {\n",
       "        vertical-align: top;\n",
       "    }\n",
       "\n",
       "    .dataframe thead th {\n",
       "        text-align: right;\n",
       "    }\n",
       "</style>\n",
       "<table border=\"1\" class=\"dataframe\">\n",
       "  <thead>\n",
       "    <tr style=\"text-align: right;\">\n",
       "      <th></th>\n",
       "      <th>sepal length (cm)</th>\n",
       "      <th>sepal width (cm)</th>\n",
       "      <th>petal width (cm)</th>\n",
       "      <th>is_ class_Iris-setosa</th>\n",
       "      <th>is_ class_Iris-versicolor</th>\n",
       "      <th>is_ class_Iris-virginica</th>\n",
       "    </tr>\n",
       "  </thead>\n",
       "  <tbody>\n",
       "    <tr>\n",
       "      <th>24</th>\n",
       "      <td>4.8</td>\n",
       "      <td>3.4</td>\n",
       "      <td>0.2</td>\n",
       "      <td>1.0</td>\n",
       "      <td>0.0</td>\n",
       "      <td>0.0</td>\n",
       "    </tr>\n",
       "    <tr>\n",
       "      <th>120</th>\n",
       "      <td>6.9</td>\n",
       "      <td>3.2</td>\n",
       "      <td>2.3</td>\n",
       "      <td>0.0</td>\n",
       "      <td>0.0</td>\n",
       "      <td>1.0</td>\n",
       "    </tr>\n",
       "    <tr>\n",
       "      <th>27</th>\n",
       "      <td>5.2</td>\n",
       "      <td>3.5</td>\n",
       "      <td>0.2</td>\n",
       "      <td>1.0</td>\n",
       "      <td>0.0</td>\n",
       "      <td>0.0</td>\n",
       "    </tr>\n",
       "    <tr>\n",
       "      <th>96</th>\n",
       "      <td>5.7</td>\n",
       "      <td>2.9</td>\n",
       "      <td>1.3</td>\n",
       "      <td>0.0</td>\n",
       "      <td>1.0</td>\n",
       "      <td>0.0</td>\n",
       "    </tr>\n",
       "    <tr>\n",
       "      <th>20</th>\n",
       "      <td>5.4</td>\n",
       "      <td>3.4</td>\n",
       "      <td>0.2</td>\n",
       "      <td>1.0</td>\n",
       "      <td>0.0</td>\n",
       "      <td>0.0</td>\n",
       "    </tr>\n",
       "    <tr>\n",
       "      <th>...</th>\n",
       "      <td>...</td>\n",
       "      <td>...</td>\n",
       "      <td>...</td>\n",
       "      <td>...</td>\n",
       "      <td>...</td>\n",
       "      <td>...</td>\n",
       "    </tr>\n",
       "    <tr>\n",
       "      <th>75</th>\n",
       "      <td>6.6</td>\n",
       "      <td>3.0</td>\n",
       "      <td>1.4</td>\n",
       "      <td>0.0</td>\n",
       "      <td>1.0</td>\n",
       "      <td>0.0</td>\n",
       "    </tr>\n",
       "    <tr>\n",
       "      <th>79</th>\n",
       "      <td>5.7</td>\n",
       "      <td>2.6</td>\n",
       "      <td>1.0</td>\n",
       "      <td>0.0</td>\n",
       "      <td>1.0</td>\n",
       "      <td>0.0</td>\n",
       "    </tr>\n",
       "    <tr>\n",
       "      <th>42</th>\n",
       "      <td>4.4</td>\n",
       "      <td>3.2</td>\n",
       "      <td>0.2</td>\n",
       "      <td>1.0</td>\n",
       "      <td>0.0</td>\n",
       "      <td>0.0</td>\n",
       "    </tr>\n",
       "    <tr>\n",
       "      <th>86</th>\n",
       "      <td>6.7</td>\n",
       "      <td>3.1</td>\n",
       "      <td>1.5</td>\n",
       "      <td>0.0</td>\n",
       "      <td>1.0</td>\n",
       "      <td>0.0</td>\n",
       "    </tr>\n",
       "    <tr>\n",
       "      <th>59</th>\n",
       "      <td>5.2</td>\n",
       "      <td>2.7</td>\n",
       "      <td>1.4</td>\n",
       "      <td>0.0</td>\n",
       "      <td>1.0</td>\n",
       "      <td>0.0</td>\n",
       "    </tr>\n",
       "  </tbody>\n",
       "</table>\n",
       "<p>135 rows × 6 columns</p>\n",
       "</div>"
      ],
      "text/plain": [
       "     sepal length (cm)  sepal width (cm)   petal width (cm)  \\\n",
       "24                 4.8               3.4                0.2   \n",
       "120                6.9               3.2                2.3   \n",
       "27                 5.2               3.5                0.2   \n",
       "96                 5.7               2.9                1.3   \n",
       "20                 5.4               3.4                0.2   \n",
       "..                 ...               ...                ...   \n",
       "75                 6.6               3.0                1.4   \n",
       "79                 5.7               2.6                1.0   \n",
       "42                 4.4               3.2                0.2   \n",
       "86                 6.7               3.1                1.5   \n",
       "59                 5.2               2.7                1.4   \n",
       "\n",
       "     is_ class_Iris-setosa  is_ class_Iris-versicolor  \\\n",
       "24                     1.0                        0.0   \n",
       "120                    0.0                        0.0   \n",
       "27                     1.0                        0.0   \n",
       "96                     0.0                        1.0   \n",
       "20                     1.0                        0.0   \n",
       "..                     ...                        ...   \n",
       "75                     0.0                        1.0   \n",
       "79                     0.0                        1.0   \n",
       "42                     1.0                        0.0   \n",
       "86                     0.0                        1.0   \n",
       "59                     0.0                        1.0   \n",
       "\n",
       "     is_ class_Iris-virginica  \n",
       "24                        0.0  \n",
       "120                       1.0  \n",
       "27                        0.0  \n",
       "96                        0.0  \n",
       "20                        0.0  \n",
       "..                        ...  \n",
       "75                        0.0  \n",
       "79                        0.0  \n",
       "42                        0.0  \n",
       "86                        0.0  \n",
       "59                        0.0  \n",
       "\n",
       "[135 rows x 6 columns]"
      ]
     },
     "execution_count": 5,
     "metadata": {},
     "output_type": "execute_result"
    }
   ],
   "source": [
    "# Prepare data for training with input rust functions expect\n",
    "label_col = 2\n",
    "\n",
    "# Normalize columns\n",
    "# labels = encoded.iloc[:, label_col]\n",
    "# max_per_col = encoded.abs().max().replace(0,1)\n",
    "# encoded = (encoded / max_per_col)\n",
    "# encoded.iloc[:, label_col] = labels\n",
    "\n",
    "train_data, test_data = split_train_test(encoded, 0.9, True)\n",
    "\n",
    "# Remove any encoded data of the same class\n",
    "train_data_features = train_data.copy()\n",
    "remove_encoded_category_data_and_label(train_data_features, feature_to_encoded_cols, label_col)\n",
    "\n",
    "train_data_features_list = train_data_features.values.tolist()\n",
    "\n",
    "# Data Correlation\n",
    "corr = train_data_features.corr()\n",
    "fig = px.imshow(corr, aspect=\"auto\", origin='lower')\n",
    "fig.show()\n",
    "\n",
    "# Get labels\n",
    "train_data_labels = train_data.iloc[:, label_col].values.tolist()\n",
    "train_data_features"
   ]
  },
  {
   "cell_type": "code",
   "execution_count": 6,
   "metadata": {},
   "outputs": [
    {
     "name": "stdout",
     "output_type": "stream",
     "text": [
      "% Correct: 0.007407407407407408\n",
      "% Correct: 0.11851851851851852\n",
      "% Correct: 0.1925925925925926\n",
      "% Correct: 0.2518518518518518\n",
      "% Correct: 0.25925925925925924\n",
      "% Correct: 0.28888888888888886\n",
      "% Correct: 0.2962962962962963\n",
      "% Correct: 0.2962962962962963\n",
      "% Correct: 0.28888888888888886\n",
      "% Correct: 0.2962962962962963\n",
      "% Correct: 0.32592592592592595\n",
      "% Correct: 0.31851851851851853\n",
      "% Correct: 0.3333333333333333\n",
      "% Correct: 0.34814814814814815\n",
      "% Correct: 0.362962962962963\n",
      "% Correct: 0.35555555555555557\n",
      "% Correct: 0.362962962962963\n",
      "% Correct: 0.37037037037037035\n",
      "% Correct: 0.37037037037037035\n",
      "% Correct: 0.3851851851851852\n",
      "% Correct: 0.37037037037037035\n",
      "% Correct: 0.37037037037037035\n",
      "% Correct: 0.37037037037037035\n",
      "% Correct: 0.37037037037037035\n",
      "% Correct: 0.37777777777777777\n",
      "% Correct: 0.37037037037037035\n",
      "% Correct: 0.34814814814814815\n",
      "% Correct: 0.34074074074074073\n",
      "% Correct: 0.34814814814814815\n",
      "% Correct: 0.34814814814814815\n",
      "% Correct: 0.34814814814814815\n",
      "% Correct: 0.34814814814814815\n",
      "% Correct: 0.34814814814814815\n",
      "% Correct: 0.34814814814814815\n",
      "% Correct: 0.34814814814814815\n",
      "% Correct: 0.34814814814814815\n",
      "% Correct: 0.34814814814814815\n",
      "% Correct: 0.34814814814814815\n",
      "% Correct: 0.34814814814814815\n",
      "% Correct: 0.34074074074074073\n",
      "% Correct: 0.34814814814814815\n",
      "% Correct: 0.34814814814814815\n",
      "% Correct: 0.34814814814814815\n",
      "% Correct: 0.34814814814814815\n",
      "% Correct: 0.34814814814814815\n",
      "% Correct: 0.34814814814814815\n",
      "% Correct: 0.34814814814814815\n",
      "% Correct: 0.35555555555555557\n",
      "% Correct: 0.362962962962963\n",
      "% Correct: 0.362962962962963\n",
      "% Correct: 0.362962962962963\n",
      "% Correct: 0.362962962962963\n",
      "% Correct: 0.362962962962963\n",
      "% Correct: 0.362962962962963\n",
      "% Correct: 0.37037037037037035\n",
      "% Correct: 0.37777777777777777\n",
      "% Correct: 0.37777777777777777\n",
      "% Correct: 0.37777777777777777\n",
      "% Correct: 0.37777777777777777\n",
      "% Correct: 0.37777777777777777\n",
      "% Correct: 0.37777777777777777\n",
      "% Correct: 0.37777777777777777\n",
      "% Correct: 0.37777777777777777\n",
      "% Correct: 0.37777777777777777\n",
      "% Correct: 0.37777777777777777\n",
      "% Correct: 0.37777777777777777\n",
      "% Correct: 0.37777777777777777\n",
      "% Correct: 0.37777777777777777\n",
      "% Correct: 0.37777777777777777\n",
      "% Correct: 0.3851851851851852\n",
      "% Correct: 0.3851851851851852\n",
      "% Correct: 0.3851851851851852\n",
      "% Correct: 0.3925925925925926\n",
      "% Correct: 0.3925925925925926\n",
      "% Correct: 0.3925925925925926\n",
      "% Correct: 0.3925925925925926\n",
      "% Correct: 0.3925925925925926\n",
      "% Correct: 0.3925925925925926\n",
      "% Correct: 0.3925925925925926\n",
      "% Correct: 0.3925925925925926\n",
      "% Correct: 0.4\n",
      "% Correct: 0.4\n",
      "% Correct: 0.4\n",
      "% Correct: 0.4\n",
      "% Correct: 0.4\n",
      "% Correct: 0.4\n",
      "% Correct: 0.4\n",
      "% Correct: 0.4074074074074074\n",
      "% Correct: 0.4074074074074074\n",
      "% Correct: 0.4074074074074074\n",
      "% Correct: 0.4074074074074074\n",
      "% Correct: 0.4074074074074074\n",
      "% Correct: 0.4\n",
      "% Correct: 0.4\n",
      "% Correct: 0.4\n",
      "% Correct: 0.4\n",
      "% Correct: 0.4\n",
      "% Correct: 0.4\n",
      "% Correct: 0.4\n",
      "% Correct: 0.4\n",
      "% Correct: 0.4\n",
      "% Correct: 0.4\n",
      "% Correct: 0.4074074074074074\n",
      "% Correct: 0.4074074074074074\n",
      "% Correct: 0.4074074074074074\n",
      "% Correct: 0.4074074074074074\n",
      "% Correct: 0.4074074074074074\n",
      "% Correct: 0.4074074074074074\n",
      "% Correct: 0.4074074074074074\n",
      "% Correct: 0.4074074074074074\n",
      "% Correct: 0.4074074074074074\n",
      "% Correct: 0.4074074074074074\n",
      "% Correct: 0.4074074074074074\n",
      "% Correct: 0.4148148148148148\n",
      "% Correct: 0.4148148148148148\n",
      "% Correct: 0.4\n",
      "% Correct: 0.4\n",
      "% Correct: 0.4\n",
      "% Correct: 0.3925925925925926\n",
      "% Correct: 0.3925925925925926\n",
      "% Correct: 0.4\n",
      "% Correct: 0.4\n",
      "% Correct: 0.4\n",
      "% Correct: 0.4074074074074074\n",
      "% Correct: 0.4074074074074074\n",
      "% Correct: 0.4074074074074074\n",
      "% Correct: 0.4148148148148148\n",
      "% Correct: 0.4148148148148148\n",
      "% Correct: 0.4148148148148148\n",
      "% Correct: 0.4148148148148148\n",
      "% Correct: 0.4148148148148148\n",
      "% Correct: 0.4148148148148148\n",
      "% Correct: 0.4148148148148148\n",
      "% Correct: 0.4148148148148148\n",
      "% Correct: 0.4074074074074074\n",
      "% Correct: 0.4074074074074074\n",
      "% Correct: 0.4074074074074074\n",
      "% Correct: 0.4074074074074074\n",
      "% Correct: 0.4074074074074074\n",
      "% Correct: 0.4074074074074074\n",
      "% Correct: 0.4074074074074074\n",
      "% Correct: 0.4074074074074074\n",
      "% Correct: 0.4074074074074074\n",
      "% Correct: 0.4074074074074074\n",
      "% Correct: 0.4074074074074074\n",
      "% Correct: 0.4074074074074074\n",
      "% Correct: 0.4074074074074074\n",
      "% Correct: 0.4074074074074074\n",
      "% Correct: 0.4074074074074074\n",
      "% Correct: 0.4074074074074074\n",
      "% Correct: 0.4148148148148148\n",
      "% Correct: 0.4148148148148148\n",
      "% Correct: 0.4148148148148148\n",
      "% Correct: 0.4148148148148148\n",
      "% Correct: 0.4074074074074074\n",
      "% Correct: 0.4148148148148148\n",
      "% Correct: 0.4148148148148148\n",
      "% Correct: 0.4148148148148148\n",
      "% Correct: 0.4148148148148148\n",
      "% Correct: 0.4148148148148148\n",
      "% Correct: 0.4148148148148148\n",
      "% Correct: 0.4148148148148148\n",
      "% Correct: 0.4148148148148148\n",
      "% Correct: 0.4148148148148148\n",
      "% Correct: 0.4148148148148148\n",
      "% Correct: 0.4148148148148148\n",
      "% Correct: 0.4148148148148148\n",
      "% Correct: 0.4148148148148148\n",
      "% Correct: 0.4148148148148148\n",
      "% Correct: 0.4148148148148148\n",
      "% Correct: 0.4148148148148148\n",
      "% Correct: 0.4148148148148148\n",
      "% Correct: 0.4148148148148148\n",
      "% Correct: 0.4148148148148148\n",
      "% Correct: 0.4148148148148148\n",
      "% Correct: 0.4148148148148148\n",
      "% Correct: 0.4148148148148148\n",
      "% Correct: 0.4148148148148148\n",
      "% Correct: 0.4148148148148148\n",
      "% Correct: 0.4222222222222222\n",
      "% Correct: 0.4222222222222222\n",
      "% Correct: 0.4222222222222222\n",
      "% Correct: 0.4222222222222222\n",
      "% Correct: 0.4222222222222222\n",
      "% Correct: 0.4222222222222222\n",
      "% Correct: 0.4222222222222222\n",
      "% Correct: 0.4222222222222222\n",
      "% Correct: 0.4222222222222222\n",
      "% Correct: 0.4222222222222222\n",
      "% Correct: 0.4222222222222222\n",
      "% Correct: 0.4222222222222222\n",
      "% Correct: 0.4222222222222222\n",
      "% Correct: 0.4222222222222222\n",
      "% Correct: 0.4222222222222222\n",
      "% Correct: 0.4222222222222222\n",
      "% Correct: 0.4222222222222222\n",
      "% Correct: 0.4222222222222222\n",
      "% Correct: 0.4222222222222222\n",
      "% Correct: 0.4222222222222222\n",
      "% Correct: 0.4222222222222222\n"
     ]
    }
   ],
   "source": [
    "# Now train the model\n",
    "hidden_layer_sizes = [20,20]\n",
    "num_classifications = 1 # Tells the library to switch to regression mode\n",
    "learning_rate = 1e-4\n",
    "num_iterations = 10000\n",
    "train_data_features_list\n",
    "trained_model = Rust_Machine_Learning.BasicNeuralNetwork(train_data_features_list, train_data_labels, hidden_layer_sizes, num_classifications, learning_rate, num_iterations)"
   ]
  },
  {
   "cell_type": "code",
   "execution_count": 7,
   "metadata": {},
   "outputs": [
    {
     "name": "stdout",
     "output_type": "stream",
     "text": [
      "Percent Correct:  40.0\n"
     ]
    },
    {
     "data": {
      "text/plain": [
       "[5.5574276304011745,\n",
       " 3.7947513317954544,\n",
       " 4.029995696379928,\n",
       " 1.6152851851472707,\n",
       " 4.0397457032515645,\n",
       " 4.876670217438977,\n",
       " 5.715546265514958,\n",
       " 1.6226066881485746,\n",
       " 1.514304201448694,\n",
       " 1.2793954705456752,\n",
       " 1.412270233765639,\n",
       " 1.2950914605327781,\n",
       " 4.705028441916235,\n",
       " 6.36767278967136,\n",
       " 3.972817211900746]"
      ]
     },
     "execution_count": 7,
     "metadata": {},
     "output_type": "execute_result"
    }
   ],
   "source": [
    "# Now let us test the model\n",
    "test_data_features = test_data.copy()\n",
    "remove_encoded_category_data_and_label(test_data_features, feature_to_encoded_cols, label_col)\n",
    "test_data_features_list = test_data_features.values.tolist()\n",
    "test_data_labels = test_data[test_data.columns[label_col]].values.tolist()\n",
    "\n",
    "labelled_results = trained_model.regression(test_data_features_list)\n",
    "\n",
    "num_correct = 0\n",
    "tolerance = 0.05\n",
    "for test_label, result_label in zip(test_data_labels, labelled_results):\n",
    "  num_correct += (abs(test_label-result_label)/(1.0 if test_label == 0 else test_label) <= tolerance)\n",
    "print(\"Percent Correct: \", 100.0 * num_correct / len(test_data_labels))\n",
    "labelled_results"
   ]
  }
 ],
 "metadata": {
  "kernelspec": {
   "display_name": ".venv",
   "language": "python",
   "name": "python3"
  },
  "language_info": {
   "codemirror_mode": {
    "name": "ipython",
    "version": 3
   },
   "file_extension": ".py",
   "mimetype": "text/x-python",
   "name": "python",
   "nbconvert_exporter": "python",
   "pygments_lexer": "ipython3",
   "version": "3.11.3"
  },
  "orig_nbformat": 4
 },
 "nbformat": 4,
 "nbformat_minor": 2
}
