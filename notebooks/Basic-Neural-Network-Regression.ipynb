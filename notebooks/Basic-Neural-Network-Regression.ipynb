{
 "cells": [
  {
   "cell_type": "code",
   "execution_count": 8,
   "metadata": {},
   "outputs": [],
   "source": [
    "import rust_machine_learning\n",
    "import pandas as pd\n",
    "from syed_ml_lib import *"
   ]
  },
  {
   "cell_type": "code",
   "execution_count": 9,
   "metadata": {},
   "outputs": [
    {
     "data": {
      "text/html": [
       "<div>\n",
       "<style scoped>\n",
       "    .dataframe tbody tr th:only-of-type {\n",
       "        vertical-align: middle;\n",
       "    }\n",
       "\n",
       "    .dataframe tbody tr th {\n",
       "        vertical-align: top;\n",
       "    }\n",
       "\n",
       "    .dataframe thead th {\n",
       "        text-align: right;\n",
       "    }\n",
       "</style>\n",
       "<table border=\"1\" class=\"dataframe\">\n",
       "  <thead>\n",
       "    <tr style=\"text-align: right;\">\n",
       "      <th></th>\n",
       "      <th>sepal length (cm)</th>\n",
       "      <th>sepal width (cm)</th>\n",
       "      <th>petal length (cm)</th>\n",
       "      <th>petal width (cm)</th>\n",
       "      <th>class</th>\n",
       "    </tr>\n",
       "  </thead>\n",
       "  <tbody>\n",
       "    <tr>\n",
       "      <th>0</th>\n",
       "      <td>5.1</td>\n",
       "      <td>3.5</td>\n",
       "      <td>1.4</td>\n",
       "      <td>0.2</td>\n",
       "      <td>Iris-setosa</td>\n",
       "    </tr>\n",
       "    <tr>\n",
       "      <th>1</th>\n",
       "      <td>4.9</td>\n",
       "      <td>3.0</td>\n",
       "      <td>1.4</td>\n",
       "      <td>0.2</td>\n",
       "      <td>Iris-setosa</td>\n",
       "    </tr>\n",
       "    <tr>\n",
       "      <th>2</th>\n",
       "      <td>4.7</td>\n",
       "      <td>3.2</td>\n",
       "      <td>1.3</td>\n",
       "      <td>0.2</td>\n",
       "      <td>Iris-setosa</td>\n",
       "    </tr>\n",
       "    <tr>\n",
       "      <th>3</th>\n",
       "      <td>4.6</td>\n",
       "      <td>3.1</td>\n",
       "      <td>1.5</td>\n",
       "      <td>0.2</td>\n",
       "      <td>Iris-setosa</td>\n",
       "    </tr>\n",
       "    <tr>\n",
       "      <th>4</th>\n",
       "      <td>5.0</td>\n",
       "      <td>3.6</td>\n",
       "      <td>1.4</td>\n",
       "      <td>0.2</td>\n",
       "      <td>Iris-setosa</td>\n",
       "    </tr>\n",
       "    <tr>\n",
       "      <th>...</th>\n",
       "      <td>...</td>\n",
       "      <td>...</td>\n",
       "      <td>...</td>\n",
       "      <td>...</td>\n",
       "      <td>...</td>\n",
       "    </tr>\n",
       "    <tr>\n",
       "      <th>145</th>\n",
       "      <td>6.7</td>\n",
       "      <td>3.0</td>\n",
       "      <td>5.2</td>\n",
       "      <td>2.3</td>\n",
       "      <td>Iris-virginica</td>\n",
       "    </tr>\n",
       "    <tr>\n",
       "      <th>146</th>\n",
       "      <td>6.3</td>\n",
       "      <td>2.5</td>\n",
       "      <td>5.0</td>\n",
       "      <td>1.9</td>\n",
       "      <td>Iris-virginica</td>\n",
       "    </tr>\n",
       "    <tr>\n",
       "      <th>147</th>\n",
       "      <td>6.5</td>\n",
       "      <td>3.0</td>\n",
       "      <td>5.2</td>\n",
       "      <td>2.0</td>\n",
       "      <td>Iris-virginica</td>\n",
       "    </tr>\n",
       "    <tr>\n",
       "      <th>148</th>\n",
       "      <td>6.2</td>\n",
       "      <td>3.4</td>\n",
       "      <td>5.4</td>\n",
       "      <td>2.3</td>\n",
       "      <td>Iris-virginica</td>\n",
       "    </tr>\n",
       "    <tr>\n",
       "      <th>149</th>\n",
       "      <td>5.9</td>\n",
       "      <td>3.0</td>\n",
       "      <td>5.1</td>\n",
       "      <td>1.8</td>\n",
       "      <td>Iris-virginica</td>\n",
       "    </tr>\n",
       "  </tbody>\n",
       "</table>\n",
       "<p>150 rows × 5 columns</p>\n",
       "</div>"
      ],
      "text/plain": [
       "     sepal length (cm)  sepal width (cm)   petal length (cm)  \\\n",
       "0                  5.1               3.5                 1.4   \n",
       "1                  4.9               3.0                 1.4   \n",
       "2                  4.7               3.2                 1.3   \n",
       "3                  4.6               3.1                 1.5   \n",
       "4                  5.0               3.6                 1.4   \n",
       "..                 ...               ...                 ...   \n",
       "145                6.7               3.0                 5.2   \n",
       "146                6.3               2.5                 5.0   \n",
       "147                6.5               3.0                 5.2   \n",
       "148                6.2               3.4                 5.4   \n",
       "149                5.9               3.0                 5.1   \n",
       "\n",
       "      petal width (cm)           class  \n",
       "0                  0.2     Iris-setosa  \n",
       "1                  0.2     Iris-setosa  \n",
       "2                  0.2     Iris-setosa  \n",
       "3                  0.2     Iris-setosa  \n",
       "4                  0.2     Iris-setosa  \n",
       "..                 ...             ...  \n",
       "145                2.3  Iris-virginica  \n",
       "146                1.9  Iris-virginica  \n",
       "147                2.0  Iris-virginica  \n",
       "148                2.3  Iris-virginica  \n",
       "149                1.8  Iris-virginica  \n",
       "\n",
       "[150 rows x 5 columns]"
      ]
     },
     "execution_count": 9,
     "metadata": {},
     "output_type": "execute_result"
    }
   ],
   "source": [
    "# Get the csv data\n",
    "df = pd.read_csv(\"../data/iris.data\")\n",
    "# df = pd.read_csv(\"../data/kmeans-dataset.csv\")\n",
    "# df = pd.read_csv(\"../data/winequality-red.csv\")\n",
    "# df = pd.read_csv(\"../data/digit-recognizer/train.csv\")\n",
    "# df = df.sample(n=10000)\n",
    "df  "
   ]
  },
  {
   "cell_type": "code",
   "execution_count": 10,
   "metadata": {},
   "outputs": [
    {
     "data": {
      "text/html": [
       "<div>\n",
       "<style scoped>\n",
       "    .dataframe tbody tr th:only-of-type {\n",
       "        vertical-align: middle;\n",
       "    }\n",
       "\n",
       "    .dataframe tbody tr th {\n",
       "        vertical-align: top;\n",
       "    }\n",
       "\n",
       "    .dataframe thead th {\n",
       "        text-align: right;\n",
       "    }\n",
       "</style>\n",
       "<table border=\"1\" class=\"dataframe\">\n",
       "  <thead>\n",
       "    <tr style=\"text-align: right;\">\n",
       "      <th></th>\n",
       "      <th>sepal length (cm)</th>\n",
       "      <th>sepal width (cm)</th>\n",
       "      <th>petal length (cm)</th>\n",
       "      <th>petal width (cm)</th>\n",
       "      <th>is_ class_Iris-setosa</th>\n",
       "      <th>is_ class_Iris-versicolor</th>\n",
       "      <th>is_ class_Iris-virginica</th>\n",
       "    </tr>\n",
       "  </thead>\n",
       "  <tbody>\n",
       "    <tr>\n",
       "      <th>0</th>\n",
       "      <td>5.1</td>\n",
       "      <td>3.5</td>\n",
       "      <td>1.4</td>\n",
       "      <td>0.2</td>\n",
       "      <td>1.0</td>\n",
       "      <td>0.0</td>\n",
       "      <td>0.0</td>\n",
       "    </tr>\n",
       "    <tr>\n",
       "      <th>1</th>\n",
       "      <td>4.9</td>\n",
       "      <td>3.0</td>\n",
       "      <td>1.4</td>\n",
       "      <td>0.2</td>\n",
       "      <td>1.0</td>\n",
       "      <td>0.0</td>\n",
       "      <td>0.0</td>\n",
       "    </tr>\n",
       "    <tr>\n",
       "      <th>2</th>\n",
       "      <td>4.7</td>\n",
       "      <td>3.2</td>\n",
       "      <td>1.3</td>\n",
       "      <td>0.2</td>\n",
       "      <td>1.0</td>\n",
       "      <td>0.0</td>\n",
       "      <td>0.0</td>\n",
       "    </tr>\n",
       "    <tr>\n",
       "      <th>3</th>\n",
       "      <td>4.6</td>\n",
       "      <td>3.1</td>\n",
       "      <td>1.5</td>\n",
       "      <td>0.2</td>\n",
       "      <td>1.0</td>\n",
       "      <td>0.0</td>\n",
       "      <td>0.0</td>\n",
       "    </tr>\n",
       "    <tr>\n",
       "      <th>4</th>\n",
       "      <td>5.0</td>\n",
       "      <td>3.6</td>\n",
       "      <td>1.4</td>\n",
       "      <td>0.2</td>\n",
       "      <td>1.0</td>\n",
       "      <td>0.0</td>\n",
       "      <td>0.0</td>\n",
       "    </tr>\n",
       "    <tr>\n",
       "      <th>...</th>\n",
       "      <td>...</td>\n",
       "      <td>...</td>\n",
       "      <td>...</td>\n",
       "      <td>...</td>\n",
       "      <td>...</td>\n",
       "      <td>...</td>\n",
       "      <td>...</td>\n",
       "    </tr>\n",
       "    <tr>\n",
       "      <th>145</th>\n",
       "      <td>6.7</td>\n",
       "      <td>3.0</td>\n",
       "      <td>5.2</td>\n",
       "      <td>2.3</td>\n",
       "      <td>0.0</td>\n",
       "      <td>0.0</td>\n",
       "      <td>1.0</td>\n",
       "    </tr>\n",
       "    <tr>\n",
       "      <th>146</th>\n",
       "      <td>6.3</td>\n",
       "      <td>2.5</td>\n",
       "      <td>5.0</td>\n",
       "      <td>1.9</td>\n",
       "      <td>0.0</td>\n",
       "      <td>0.0</td>\n",
       "      <td>1.0</td>\n",
       "    </tr>\n",
       "    <tr>\n",
       "      <th>147</th>\n",
       "      <td>6.5</td>\n",
       "      <td>3.0</td>\n",
       "      <td>5.2</td>\n",
       "      <td>2.0</td>\n",
       "      <td>0.0</td>\n",
       "      <td>0.0</td>\n",
       "      <td>1.0</td>\n",
       "    </tr>\n",
       "    <tr>\n",
       "      <th>148</th>\n",
       "      <td>6.2</td>\n",
       "      <td>3.4</td>\n",
       "      <td>5.4</td>\n",
       "      <td>2.3</td>\n",
       "      <td>0.0</td>\n",
       "      <td>0.0</td>\n",
       "      <td>1.0</td>\n",
       "    </tr>\n",
       "    <tr>\n",
       "      <th>149</th>\n",
       "      <td>5.9</td>\n",
       "      <td>3.0</td>\n",
       "      <td>5.1</td>\n",
       "      <td>1.8</td>\n",
       "      <td>0.0</td>\n",
       "      <td>0.0</td>\n",
       "      <td>1.0</td>\n",
       "    </tr>\n",
       "  </tbody>\n",
       "</table>\n",
       "<p>150 rows × 7 columns</p>\n",
       "</div>"
      ],
      "text/plain": [
       "     sepal length (cm)  sepal width (cm)   petal length (cm)  \\\n",
       "0                  5.1               3.5                 1.4   \n",
       "1                  4.9               3.0                 1.4   \n",
       "2                  4.7               3.2                 1.3   \n",
       "3                  4.6               3.1                 1.5   \n",
       "4                  5.0               3.6                 1.4   \n",
       "..                 ...               ...                 ...   \n",
       "145                6.7               3.0                 5.2   \n",
       "146                6.3               2.5                 5.0   \n",
       "147                6.5               3.0                 5.2   \n",
       "148                6.2               3.4                 5.4   \n",
       "149                5.9               3.0                 5.1   \n",
       "\n",
       "      petal width (cm)  is_ class_Iris-setosa  is_ class_Iris-versicolor  \\\n",
       "0                  0.2                    1.0                        0.0   \n",
       "1                  0.2                    1.0                        0.0   \n",
       "2                  0.2                    1.0                        0.0   \n",
       "3                  0.2                    1.0                        0.0   \n",
       "4                  0.2                    1.0                        0.0   \n",
       "..                 ...                    ...                        ...   \n",
       "145                2.3                    0.0                        0.0   \n",
       "146                1.9                    0.0                        0.0   \n",
       "147                2.0                    0.0                        0.0   \n",
       "148                2.3                    0.0                        0.0   \n",
       "149                1.8                    0.0                        0.0   \n",
       "\n",
       "     is_ class_Iris-virginica  \n",
       "0                         0.0  \n",
       "1                         0.0  \n",
       "2                         0.0  \n",
       "3                         0.0  \n",
       "4                         0.0  \n",
       "..                        ...  \n",
       "145                       1.0  \n",
       "146                       1.0  \n",
       "147                       1.0  \n",
       "148                       1.0  \n",
       "149                       1.0  \n",
       "\n",
       "[150 rows x 7 columns]"
      ]
     },
     "execution_count": 10,
     "metadata": {},
     "output_type": "execute_result"
    }
   ],
   "source": [
    "to_encode = [4] # We won't encode the label column. The output layer will use 0-n (assuming classifications are ordered starting at 0), to determine error.\n",
    "encoded, feature_to_encoded_cols = one_hot_encode(df, to_encode)\n",
    "encoded"
   ]
  },
  {
   "cell_type": "code",
   "execution_count": 11,
   "metadata": {},
   "outputs": [
    {
     "data": {
      "text/html": [
       "<div>\n",
       "<style scoped>\n",
       "    .dataframe tbody tr th:only-of-type {\n",
       "        vertical-align: middle;\n",
       "    }\n",
       "\n",
       "    .dataframe tbody tr th {\n",
       "        vertical-align: top;\n",
       "    }\n",
       "\n",
       "    .dataframe thead th {\n",
       "        text-align: right;\n",
       "    }\n",
       "</style>\n",
       "<table border=\"1\" class=\"dataframe\">\n",
       "  <thead>\n",
       "    <tr style=\"text-align: right;\">\n",
       "      <th></th>\n",
       "      <th>sepal length (cm)</th>\n",
       "      <th>sepal width (cm)</th>\n",
       "      <th>petal length (cm)</th>\n",
       "      <th>petal width (cm)</th>\n",
       "      <th>is_ class_Iris-setosa</th>\n",
       "      <th>is_ class_Iris-versicolor</th>\n",
       "      <th>is_ class_Iris-virginica</th>\n",
       "    </tr>\n",
       "  </thead>\n",
       "  <tbody>\n",
       "    <tr>\n",
       "      <th>0</th>\n",
       "      <td>5.1</td>\n",
       "      <td>3.5</td>\n",
       "      <td>1.4</td>\n",
       "      <td>0.2</td>\n",
       "      <td>1.0</td>\n",
       "      <td>0.0</td>\n",
       "      <td>0.0</td>\n",
       "    </tr>\n",
       "    <tr>\n",
       "      <th>1</th>\n",
       "      <td>4.9</td>\n",
       "      <td>3.0</td>\n",
       "      <td>1.4</td>\n",
       "      <td>0.2</td>\n",
       "      <td>1.0</td>\n",
       "      <td>0.0</td>\n",
       "      <td>0.0</td>\n",
       "    </tr>\n",
       "    <tr>\n",
       "      <th>2</th>\n",
       "      <td>4.7</td>\n",
       "      <td>3.2</td>\n",
       "      <td>1.3</td>\n",
       "      <td>0.2</td>\n",
       "      <td>1.0</td>\n",
       "      <td>0.0</td>\n",
       "      <td>0.0</td>\n",
       "    </tr>\n",
       "    <tr>\n",
       "      <th>3</th>\n",
       "      <td>4.6</td>\n",
       "      <td>3.1</td>\n",
       "      <td>1.5</td>\n",
       "      <td>0.2</td>\n",
       "      <td>1.0</td>\n",
       "      <td>0.0</td>\n",
       "      <td>0.0</td>\n",
       "    </tr>\n",
       "    <tr>\n",
       "      <th>4</th>\n",
       "      <td>5.0</td>\n",
       "      <td>3.6</td>\n",
       "      <td>1.4</td>\n",
       "      <td>0.2</td>\n",
       "      <td>1.0</td>\n",
       "      <td>0.0</td>\n",
       "      <td>0.0</td>\n",
       "    </tr>\n",
       "    <tr>\n",
       "      <th>...</th>\n",
       "      <td>...</td>\n",
       "      <td>...</td>\n",
       "      <td>...</td>\n",
       "      <td>...</td>\n",
       "      <td>...</td>\n",
       "      <td>...</td>\n",
       "      <td>...</td>\n",
       "    </tr>\n",
       "    <tr>\n",
       "      <th>145</th>\n",
       "      <td>6.7</td>\n",
       "      <td>3.0</td>\n",
       "      <td>5.2</td>\n",
       "      <td>2.3</td>\n",
       "      <td>0.0</td>\n",
       "      <td>0.0</td>\n",
       "      <td>1.0</td>\n",
       "    </tr>\n",
       "    <tr>\n",
       "      <th>146</th>\n",
       "      <td>6.3</td>\n",
       "      <td>2.5</td>\n",
       "      <td>5.0</td>\n",
       "      <td>1.9</td>\n",
       "      <td>0.0</td>\n",
       "      <td>0.0</td>\n",
       "      <td>1.0</td>\n",
       "    </tr>\n",
       "    <tr>\n",
       "      <th>147</th>\n",
       "      <td>6.5</td>\n",
       "      <td>3.0</td>\n",
       "      <td>5.2</td>\n",
       "      <td>2.0</td>\n",
       "      <td>0.0</td>\n",
       "      <td>0.0</td>\n",
       "      <td>1.0</td>\n",
       "    </tr>\n",
       "    <tr>\n",
       "      <th>148</th>\n",
       "      <td>6.2</td>\n",
       "      <td>3.4</td>\n",
       "      <td>5.4</td>\n",
       "      <td>2.3</td>\n",
       "      <td>0.0</td>\n",
       "      <td>0.0</td>\n",
       "      <td>1.0</td>\n",
       "    </tr>\n",
       "    <tr>\n",
       "      <th>149</th>\n",
       "      <td>5.9</td>\n",
       "      <td>3.0</td>\n",
       "      <td>5.1</td>\n",
       "      <td>1.8</td>\n",
       "      <td>0.0</td>\n",
       "      <td>0.0</td>\n",
       "      <td>1.0</td>\n",
       "    </tr>\n",
       "  </tbody>\n",
       "</table>\n",
       "<p>150 rows × 7 columns</p>\n",
       "</div>"
      ],
      "text/plain": [
       "     sepal length (cm)  sepal width (cm)   petal length (cm)  \\\n",
       "0                  5.1               3.5                 1.4   \n",
       "1                  4.9               3.0                 1.4   \n",
       "2                  4.7               3.2                 1.3   \n",
       "3                  4.6               3.1                 1.5   \n",
       "4                  5.0               3.6                 1.4   \n",
       "..                 ...               ...                 ...   \n",
       "145                6.7               3.0                 5.2   \n",
       "146                6.3               2.5                 5.0   \n",
       "147                6.5               3.0                 5.2   \n",
       "148                6.2               3.4                 5.4   \n",
       "149                5.9               3.0                 5.1   \n",
       "\n",
       "      petal width (cm)  is_ class_Iris-setosa  is_ class_Iris-versicolor  \\\n",
       "0                  0.2                    1.0                        0.0   \n",
       "1                  0.2                    1.0                        0.0   \n",
       "2                  0.2                    1.0                        0.0   \n",
       "3                  0.2                    1.0                        0.0   \n",
       "4                  0.2                    1.0                        0.0   \n",
       "..                 ...                    ...                        ...   \n",
       "145                2.3                    0.0                        0.0   \n",
       "146                1.9                    0.0                        0.0   \n",
       "147                2.0                    0.0                        0.0   \n",
       "148                2.3                    0.0                        0.0   \n",
       "149                1.8                    0.0                        0.0   \n",
       "\n",
       "     is_ class_Iris-virginica  \n",
       "0                         0.0  \n",
       "1                         0.0  \n",
       "2                         0.0  \n",
       "3                         0.0  \n",
       "4                         0.0  \n",
       "..                        ...  \n",
       "145                       1.0  \n",
       "146                       1.0  \n",
       "147                       1.0  \n",
       "148                       1.0  \n",
       "149                       1.0  \n",
       "\n",
       "[150 rows x 7 columns]"
      ]
     },
     "execution_count": 11,
     "metadata": {},
     "output_type": "execute_result"
    }
   ],
   "source": [
    "# Remove unnecessary data or NAN\n",
    "to_remove = []\n",
    "encoded = encoded.drop(encoded.columns[to_remove], axis=1)\n",
    "encoded"
   ]
  },
  {
   "cell_type": "code",
   "execution_count": 12,
   "metadata": {},
   "outputs": [
    {
     "data": {
      "application/vnd.plotly.v1+json": {
       "config": {
        "plotlyServerURL": "https://plot.ly"
       },
       "data": [
        {
         "coloraxis": "coloraxis",
         "hovertemplate": "x: %{x}<br>y: %{y}<br>color: %{z}<extra></extra>",
         "name": "0",
         "type": "heatmap",
         "x": [
          "sepal length (cm)",
          "sepal width (cm)",
          " petal width (cm)",
          "is_ class_Iris-setosa",
          "is_ class_Iris-versicolor",
          "is_ class_Iris-virginica"
         ],
         "xaxis": "x",
         "y": [
          "sepal length (cm)",
          "sepal width (cm)",
          " petal width (cm)",
          "is_ class_Iris-setosa",
          "is_ class_Iris-versicolor",
          "is_ class_Iris-virginica"
         ],
         "yaxis": "y",
         "z": [
          [
           1,
           -0.11263645534507724,
           0.8152624582914135,
           -0.7150498490158922,
           0.08217813050662838,
           0.6158404765268253
          ],
          [
           -0.11263645534507724,
           1,
           -0.34881437165567175,
           0.5994827945232208,
           -0.45756488761679853,
           -0.1256506995319934
          ],
          [
           0.8152624582914135,
           -0.34881437165567175,
           1,
           -0.8777348371010631,
           0.08949756843740739,
           0.767389364431585
          ],
          [
           -0.7150498490158922,
           0.5994827945232208,
           -0.8777348371010631,
           1,
           -0.49112355476097447,
           -0.4831334236399478
          ],
          [
           0.08217813050662838,
           -0.45756488761679853,
           0.08949756843740739,
           -0.49112355476097447,
           1,
           -0.5254017384070442
          ],
          [
           0.6158404765268253,
           -0.1256506995319934,
           0.767389364431585,
           -0.4831334236399478,
           -0.5254017384070442,
           1
          ]
         ]
        }
       ],
       "layout": {
        "coloraxis": {
         "colorscale": [
          [
           0,
           "#0d0887"
          ],
          [
           0.1111111111111111,
           "#46039f"
          ],
          [
           0.2222222222222222,
           "#7201a8"
          ],
          [
           0.3333333333333333,
           "#9c179e"
          ],
          [
           0.4444444444444444,
           "#bd3786"
          ],
          [
           0.5555555555555556,
           "#d8576b"
          ],
          [
           0.6666666666666666,
           "#ed7953"
          ],
          [
           0.7777777777777778,
           "#fb9f3a"
          ],
          [
           0.8888888888888888,
           "#fdca26"
          ],
          [
           1,
           "#f0f921"
          ]
         ]
        },
        "margin": {
         "t": 60
        },
        "template": {
         "data": {
          "bar": [
           {
            "error_x": {
             "color": "#2a3f5f"
            },
            "error_y": {
             "color": "#2a3f5f"
            },
            "marker": {
             "line": {
              "color": "#E5ECF6",
              "width": 0.5
             },
             "pattern": {
              "fillmode": "overlay",
              "size": 10,
              "solidity": 0.2
             }
            },
            "type": "bar"
           }
          ],
          "barpolar": [
           {
            "marker": {
             "line": {
              "color": "#E5ECF6",
              "width": 0.5
             },
             "pattern": {
              "fillmode": "overlay",
              "size": 10,
              "solidity": 0.2
             }
            },
            "type": "barpolar"
           }
          ],
          "carpet": [
           {
            "aaxis": {
             "endlinecolor": "#2a3f5f",
             "gridcolor": "white",
             "linecolor": "white",
             "minorgridcolor": "white",
             "startlinecolor": "#2a3f5f"
            },
            "baxis": {
             "endlinecolor": "#2a3f5f",
             "gridcolor": "white",
             "linecolor": "white",
             "minorgridcolor": "white",
             "startlinecolor": "#2a3f5f"
            },
            "type": "carpet"
           }
          ],
          "choropleth": [
           {
            "colorbar": {
             "outlinewidth": 0,
             "ticks": ""
            },
            "type": "choropleth"
           }
          ],
          "contour": [
           {
            "colorbar": {
             "outlinewidth": 0,
             "ticks": ""
            },
            "colorscale": [
             [
              0,
              "#0d0887"
             ],
             [
              0.1111111111111111,
              "#46039f"
             ],
             [
              0.2222222222222222,
              "#7201a8"
             ],
             [
              0.3333333333333333,
              "#9c179e"
             ],
             [
              0.4444444444444444,
              "#bd3786"
             ],
             [
              0.5555555555555556,
              "#d8576b"
             ],
             [
              0.6666666666666666,
              "#ed7953"
             ],
             [
              0.7777777777777778,
              "#fb9f3a"
             ],
             [
              0.8888888888888888,
              "#fdca26"
             ],
             [
              1,
              "#f0f921"
             ]
            ],
            "type": "contour"
           }
          ],
          "contourcarpet": [
           {
            "colorbar": {
             "outlinewidth": 0,
             "ticks": ""
            },
            "type": "contourcarpet"
           }
          ],
          "heatmap": [
           {
            "colorbar": {
             "outlinewidth": 0,
             "ticks": ""
            },
            "colorscale": [
             [
              0,
              "#0d0887"
             ],
             [
              0.1111111111111111,
              "#46039f"
             ],
             [
              0.2222222222222222,
              "#7201a8"
             ],
             [
              0.3333333333333333,
              "#9c179e"
             ],
             [
              0.4444444444444444,
              "#bd3786"
             ],
             [
              0.5555555555555556,
              "#d8576b"
             ],
             [
              0.6666666666666666,
              "#ed7953"
             ],
             [
              0.7777777777777778,
              "#fb9f3a"
             ],
             [
              0.8888888888888888,
              "#fdca26"
             ],
             [
              1,
              "#f0f921"
             ]
            ],
            "type": "heatmap"
           }
          ],
          "heatmapgl": [
           {
            "colorbar": {
             "outlinewidth": 0,
             "ticks": ""
            },
            "colorscale": [
             [
              0,
              "#0d0887"
             ],
             [
              0.1111111111111111,
              "#46039f"
             ],
             [
              0.2222222222222222,
              "#7201a8"
             ],
             [
              0.3333333333333333,
              "#9c179e"
             ],
             [
              0.4444444444444444,
              "#bd3786"
             ],
             [
              0.5555555555555556,
              "#d8576b"
             ],
             [
              0.6666666666666666,
              "#ed7953"
             ],
             [
              0.7777777777777778,
              "#fb9f3a"
             ],
             [
              0.8888888888888888,
              "#fdca26"
             ],
             [
              1,
              "#f0f921"
             ]
            ],
            "type": "heatmapgl"
           }
          ],
          "histogram": [
           {
            "marker": {
             "pattern": {
              "fillmode": "overlay",
              "size": 10,
              "solidity": 0.2
             }
            },
            "type": "histogram"
           }
          ],
          "histogram2d": [
           {
            "colorbar": {
             "outlinewidth": 0,
             "ticks": ""
            },
            "colorscale": [
             [
              0,
              "#0d0887"
             ],
             [
              0.1111111111111111,
              "#46039f"
             ],
             [
              0.2222222222222222,
              "#7201a8"
             ],
             [
              0.3333333333333333,
              "#9c179e"
             ],
             [
              0.4444444444444444,
              "#bd3786"
             ],
             [
              0.5555555555555556,
              "#d8576b"
             ],
             [
              0.6666666666666666,
              "#ed7953"
             ],
             [
              0.7777777777777778,
              "#fb9f3a"
             ],
             [
              0.8888888888888888,
              "#fdca26"
             ],
             [
              1,
              "#f0f921"
             ]
            ],
            "type": "histogram2d"
           }
          ],
          "histogram2dcontour": [
           {
            "colorbar": {
             "outlinewidth": 0,
             "ticks": ""
            },
            "colorscale": [
             [
              0,
              "#0d0887"
             ],
             [
              0.1111111111111111,
              "#46039f"
             ],
             [
              0.2222222222222222,
              "#7201a8"
             ],
             [
              0.3333333333333333,
              "#9c179e"
             ],
             [
              0.4444444444444444,
              "#bd3786"
             ],
             [
              0.5555555555555556,
              "#d8576b"
             ],
             [
              0.6666666666666666,
              "#ed7953"
             ],
             [
              0.7777777777777778,
              "#fb9f3a"
             ],
             [
              0.8888888888888888,
              "#fdca26"
             ],
             [
              1,
              "#f0f921"
             ]
            ],
            "type": "histogram2dcontour"
           }
          ],
          "mesh3d": [
           {
            "colorbar": {
             "outlinewidth": 0,
             "ticks": ""
            },
            "type": "mesh3d"
           }
          ],
          "parcoords": [
           {
            "line": {
             "colorbar": {
              "outlinewidth": 0,
              "ticks": ""
             }
            },
            "type": "parcoords"
           }
          ],
          "pie": [
           {
            "automargin": true,
            "type": "pie"
           }
          ],
          "scatter": [
           {
            "fillpattern": {
             "fillmode": "overlay",
             "size": 10,
             "solidity": 0.2
            },
            "type": "scatter"
           }
          ],
          "scatter3d": [
           {
            "line": {
             "colorbar": {
              "outlinewidth": 0,
              "ticks": ""
             }
            },
            "marker": {
             "colorbar": {
              "outlinewidth": 0,
              "ticks": ""
             }
            },
            "type": "scatter3d"
           }
          ],
          "scattercarpet": [
           {
            "marker": {
             "colorbar": {
              "outlinewidth": 0,
              "ticks": ""
             }
            },
            "type": "scattercarpet"
           }
          ],
          "scattergeo": [
           {
            "marker": {
             "colorbar": {
              "outlinewidth": 0,
              "ticks": ""
             }
            },
            "type": "scattergeo"
           }
          ],
          "scattergl": [
           {
            "marker": {
             "colorbar": {
              "outlinewidth": 0,
              "ticks": ""
             }
            },
            "type": "scattergl"
           }
          ],
          "scattermapbox": [
           {
            "marker": {
             "colorbar": {
              "outlinewidth": 0,
              "ticks": ""
             }
            },
            "type": "scattermapbox"
           }
          ],
          "scatterpolar": [
           {
            "marker": {
             "colorbar": {
              "outlinewidth": 0,
              "ticks": ""
             }
            },
            "type": "scatterpolar"
           }
          ],
          "scatterpolargl": [
           {
            "marker": {
             "colorbar": {
              "outlinewidth": 0,
              "ticks": ""
             }
            },
            "type": "scatterpolargl"
           }
          ],
          "scatterternary": [
           {
            "marker": {
             "colorbar": {
              "outlinewidth": 0,
              "ticks": ""
             }
            },
            "type": "scatterternary"
           }
          ],
          "surface": [
           {
            "colorbar": {
             "outlinewidth": 0,
             "ticks": ""
            },
            "colorscale": [
             [
              0,
              "#0d0887"
             ],
             [
              0.1111111111111111,
              "#46039f"
             ],
             [
              0.2222222222222222,
              "#7201a8"
             ],
             [
              0.3333333333333333,
              "#9c179e"
             ],
             [
              0.4444444444444444,
              "#bd3786"
             ],
             [
              0.5555555555555556,
              "#d8576b"
             ],
             [
              0.6666666666666666,
              "#ed7953"
             ],
             [
              0.7777777777777778,
              "#fb9f3a"
             ],
             [
              0.8888888888888888,
              "#fdca26"
             ],
             [
              1,
              "#f0f921"
             ]
            ],
            "type": "surface"
           }
          ],
          "table": [
           {
            "cells": {
             "fill": {
              "color": "#EBF0F8"
             },
             "line": {
              "color": "white"
             }
            },
            "header": {
             "fill": {
              "color": "#C8D4E3"
             },
             "line": {
              "color": "white"
             }
            },
            "type": "table"
           }
          ]
         },
         "layout": {
          "annotationdefaults": {
           "arrowcolor": "#2a3f5f",
           "arrowhead": 0,
           "arrowwidth": 1
          },
          "autotypenumbers": "strict",
          "coloraxis": {
           "colorbar": {
            "outlinewidth": 0,
            "ticks": ""
           }
          },
          "colorscale": {
           "diverging": [
            [
             0,
             "#8e0152"
            ],
            [
             0.1,
             "#c51b7d"
            ],
            [
             0.2,
             "#de77ae"
            ],
            [
             0.3,
             "#f1b6da"
            ],
            [
             0.4,
             "#fde0ef"
            ],
            [
             0.5,
             "#f7f7f7"
            ],
            [
             0.6,
             "#e6f5d0"
            ],
            [
             0.7,
             "#b8e186"
            ],
            [
             0.8,
             "#7fbc41"
            ],
            [
             0.9,
             "#4d9221"
            ],
            [
             1,
             "#276419"
            ]
           ],
           "sequential": [
            [
             0,
             "#0d0887"
            ],
            [
             0.1111111111111111,
             "#46039f"
            ],
            [
             0.2222222222222222,
             "#7201a8"
            ],
            [
             0.3333333333333333,
             "#9c179e"
            ],
            [
             0.4444444444444444,
             "#bd3786"
            ],
            [
             0.5555555555555556,
             "#d8576b"
            ],
            [
             0.6666666666666666,
             "#ed7953"
            ],
            [
             0.7777777777777778,
             "#fb9f3a"
            ],
            [
             0.8888888888888888,
             "#fdca26"
            ],
            [
             1,
             "#f0f921"
            ]
           ],
           "sequentialminus": [
            [
             0,
             "#0d0887"
            ],
            [
             0.1111111111111111,
             "#46039f"
            ],
            [
             0.2222222222222222,
             "#7201a8"
            ],
            [
             0.3333333333333333,
             "#9c179e"
            ],
            [
             0.4444444444444444,
             "#bd3786"
            ],
            [
             0.5555555555555556,
             "#d8576b"
            ],
            [
             0.6666666666666666,
             "#ed7953"
            ],
            [
             0.7777777777777778,
             "#fb9f3a"
            ],
            [
             0.8888888888888888,
             "#fdca26"
            ],
            [
             1,
             "#f0f921"
            ]
           ]
          },
          "colorway": [
           "#636efa",
           "#EF553B",
           "#00cc96",
           "#ab63fa",
           "#FFA15A",
           "#19d3f3",
           "#FF6692",
           "#B6E880",
           "#FF97FF",
           "#FECB52"
          ],
          "font": {
           "color": "#2a3f5f"
          },
          "geo": {
           "bgcolor": "white",
           "lakecolor": "white",
           "landcolor": "#E5ECF6",
           "showlakes": true,
           "showland": true,
           "subunitcolor": "white"
          },
          "hoverlabel": {
           "align": "left"
          },
          "hovermode": "closest",
          "mapbox": {
           "style": "light"
          },
          "paper_bgcolor": "white",
          "plot_bgcolor": "#E5ECF6",
          "polar": {
           "angularaxis": {
            "gridcolor": "white",
            "linecolor": "white",
            "ticks": ""
           },
           "bgcolor": "#E5ECF6",
           "radialaxis": {
            "gridcolor": "white",
            "linecolor": "white",
            "ticks": ""
           }
          },
          "scene": {
           "xaxis": {
            "backgroundcolor": "#E5ECF6",
            "gridcolor": "white",
            "gridwidth": 2,
            "linecolor": "white",
            "showbackground": true,
            "ticks": "",
            "zerolinecolor": "white"
           },
           "yaxis": {
            "backgroundcolor": "#E5ECF6",
            "gridcolor": "white",
            "gridwidth": 2,
            "linecolor": "white",
            "showbackground": true,
            "ticks": "",
            "zerolinecolor": "white"
           },
           "zaxis": {
            "backgroundcolor": "#E5ECF6",
            "gridcolor": "white",
            "gridwidth": 2,
            "linecolor": "white",
            "showbackground": true,
            "ticks": "",
            "zerolinecolor": "white"
           }
          },
          "shapedefaults": {
           "line": {
            "color": "#2a3f5f"
           }
          },
          "ternary": {
           "aaxis": {
            "gridcolor": "white",
            "linecolor": "white",
            "ticks": ""
           },
           "baxis": {
            "gridcolor": "white",
            "linecolor": "white",
            "ticks": ""
           },
           "bgcolor": "#E5ECF6",
           "caxis": {
            "gridcolor": "white",
            "linecolor": "white",
            "ticks": ""
           }
          },
          "title": {
           "x": 0.05
          },
          "xaxis": {
           "automargin": true,
           "gridcolor": "white",
           "linecolor": "white",
           "ticks": "",
           "title": {
            "standoff": 15
           },
           "zerolinecolor": "white",
           "zerolinewidth": 2
          },
          "yaxis": {
           "automargin": true,
           "gridcolor": "white",
           "linecolor": "white",
           "ticks": "",
           "title": {
            "standoff": 15
           },
           "zerolinecolor": "white",
           "zerolinewidth": 2
          }
         }
        },
        "xaxis": {
         "anchor": "y",
         "domain": [
          0,
          1
         ]
        },
        "yaxis": {
         "anchor": "x",
         "autorange": true,
         "domain": [
          0,
          1
         ]
        }
       }
      },
      "text/html": [
       "<div>                            <div id=\"9266a968-dcd3-49ca-bae9-5d9e3c2ce657\" class=\"plotly-graph-div\" style=\"height:525px; width:100%;\"></div>            <script type=\"text/javascript\">                require([\"plotly\"], function(Plotly) {                    window.PLOTLYENV=window.PLOTLYENV || {};                                    if (document.getElementById(\"9266a968-dcd3-49ca-bae9-5d9e3c2ce657\")) {                    Plotly.newPlot(                        \"9266a968-dcd3-49ca-bae9-5d9e3c2ce657\",                        [{\"coloraxis\":\"coloraxis\",\"name\":\"0\",\"x\":[\"sepal length (cm)\",\"sepal width (cm)\",\" petal width (cm)\",\"is_ class_Iris-setosa\",\"is_ class_Iris-versicolor\",\"is_ class_Iris-virginica\"],\"y\":[\"sepal length (cm)\",\"sepal width (cm)\",\" petal width (cm)\",\"is_ class_Iris-setosa\",\"is_ class_Iris-versicolor\",\"is_ class_Iris-virginica\"],\"z\":[[1.0,-0.11263645534507724,0.8152624582914135,-0.7150498490158922,0.08217813050662838,0.6158404765268253],[-0.11263645534507724,1.0,-0.34881437165567175,0.5994827945232208,-0.45756488761679853,-0.1256506995319934],[0.8152624582914135,-0.34881437165567175,1.0,-0.8777348371010631,0.08949756843740739,0.767389364431585],[-0.7150498490158922,0.5994827945232208,-0.8777348371010631,1.0,-0.49112355476097447,-0.4831334236399478],[0.08217813050662838,-0.45756488761679853,0.08949756843740739,-0.49112355476097447,1.0,-0.5254017384070442],[0.6158404765268253,-0.1256506995319934,0.767389364431585,-0.4831334236399478,-0.5254017384070442,1.0]],\"type\":\"heatmap\",\"xaxis\":\"x\",\"yaxis\":\"y\",\"hovertemplate\":\"x: %{x}\\u003cbr\\u003ey: %{y}\\u003cbr\\u003ecolor: %{z}\\u003cextra\\u003e\\u003c\\u002fextra\\u003e\"}],                        {\"template\":{\"data\":{\"histogram2dcontour\":[{\"type\":\"histogram2dcontour\",\"colorbar\":{\"outlinewidth\":0,\"ticks\":\"\"},\"colorscale\":[[0.0,\"#0d0887\"],[0.1111111111111111,\"#46039f\"],[0.2222222222222222,\"#7201a8\"],[0.3333333333333333,\"#9c179e\"],[0.4444444444444444,\"#bd3786\"],[0.5555555555555556,\"#d8576b\"],[0.6666666666666666,\"#ed7953\"],[0.7777777777777778,\"#fb9f3a\"],[0.8888888888888888,\"#fdca26\"],[1.0,\"#f0f921\"]]}],\"choropleth\":[{\"type\":\"choropleth\",\"colorbar\":{\"outlinewidth\":0,\"ticks\":\"\"}}],\"histogram2d\":[{\"type\":\"histogram2d\",\"colorbar\":{\"outlinewidth\":0,\"ticks\":\"\"},\"colorscale\":[[0.0,\"#0d0887\"],[0.1111111111111111,\"#46039f\"],[0.2222222222222222,\"#7201a8\"],[0.3333333333333333,\"#9c179e\"],[0.4444444444444444,\"#bd3786\"],[0.5555555555555556,\"#d8576b\"],[0.6666666666666666,\"#ed7953\"],[0.7777777777777778,\"#fb9f3a\"],[0.8888888888888888,\"#fdca26\"],[1.0,\"#f0f921\"]]}],\"heatmap\":[{\"type\":\"heatmap\",\"colorbar\":{\"outlinewidth\":0,\"ticks\":\"\"},\"colorscale\":[[0.0,\"#0d0887\"],[0.1111111111111111,\"#46039f\"],[0.2222222222222222,\"#7201a8\"],[0.3333333333333333,\"#9c179e\"],[0.4444444444444444,\"#bd3786\"],[0.5555555555555556,\"#d8576b\"],[0.6666666666666666,\"#ed7953\"],[0.7777777777777778,\"#fb9f3a\"],[0.8888888888888888,\"#fdca26\"],[1.0,\"#f0f921\"]]}],\"heatmapgl\":[{\"type\":\"heatmapgl\",\"colorbar\":{\"outlinewidth\":0,\"ticks\":\"\"},\"colorscale\":[[0.0,\"#0d0887\"],[0.1111111111111111,\"#46039f\"],[0.2222222222222222,\"#7201a8\"],[0.3333333333333333,\"#9c179e\"],[0.4444444444444444,\"#bd3786\"],[0.5555555555555556,\"#d8576b\"],[0.6666666666666666,\"#ed7953\"],[0.7777777777777778,\"#fb9f3a\"],[0.8888888888888888,\"#fdca26\"],[1.0,\"#f0f921\"]]}],\"contourcarpet\":[{\"type\":\"contourcarpet\",\"colorbar\":{\"outlinewidth\":0,\"ticks\":\"\"}}],\"contour\":[{\"type\":\"contour\",\"colorbar\":{\"outlinewidth\":0,\"ticks\":\"\"},\"colorscale\":[[0.0,\"#0d0887\"],[0.1111111111111111,\"#46039f\"],[0.2222222222222222,\"#7201a8\"],[0.3333333333333333,\"#9c179e\"],[0.4444444444444444,\"#bd3786\"],[0.5555555555555556,\"#d8576b\"],[0.6666666666666666,\"#ed7953\"],[0.7777777777777778,\"#fb9f3a\"],[0.8888888888888888,\"#fdca26\"],[1.0,\"#f0f921\"]]}],\"surface\":[{\"type\":\"surface\",\"colorbar\":{\"outlinewidth\":0,\"ticks\":\"\"},\"colorscale\":[[0.0,\"#0d0887\"],[0.1111111111111111,\"#46039f\"],[0.2222222222222222,\"#7201a8\"],[0.3333333333333333,\"#9c179e\"],[0.4444444444444444,\"#bd3786\"],[0.5555555555555556,\"#d8576b\"],[0.6666666666666666,\"#ed7953\"],[0.7777777777777778,\"#fb9f3a\"],[0.8888888888888888,\"#fdca26\"],[1.0,\"#f0f921\"]]}],\"mesh3d\":[{\"type\":\"mesh3d\",\"colorbar\":{\"outlinewidth\":0,\"ticks\":\"\"}}],\"scatter\":[{\"fillpattern\":{\"fillmode\":\"overlay\",\"size\":10,\"solidity\":0.2},\"type\":\"scatter\"}],\"parcoords\":[{\"type\":\"parcoords\",\"line\":{\"colorbar\":{\"outlinewidth\":0,\"ticks\":\"\"}}}],\"scatterpolargl\":[{\"type\":\"scatterpolargl\",\"marker\":{\"colorbar\":{\"outlinewidth\":0,\"ticks\":\"\"}}}],\"bar\":[{\"error_x\":{\"color\":\"#2a3f5f\"},\"error_y\":{\"color\":\"#2a3f5f\"},\"marker\":{\"line\":{\"color\":\"#E5ECF6\",\"width\":0.5},\"pattern\":{\"fillmode\":\"overlay\",\"size\":10,\"solidity\":0.2}},\"type\":\"bar\"}],\"scattergeo\":[{\"type\":\"scattergeo\",\"marker\":{\"colorbar\":{\"outlinewidth\":0,\"ticks\":\"\"}}}],\"scatterpolar\":[{\"type\":\"scatterpolar\",\"marker\":{\"colorbar\":{\"outlinewidth\":0,\"ticks\":\"\"}}}],\"histogram\":[{\"marker\":{\"pattern\":{\"fillmode\":\"overlay\",\"size\":10,\"solidity\":0.2}},\"type\":\"histogram\"}],\"scattergl\":[{\"type\":\"scattergl\",\"marker\":{\"colorbar\":{\"outlinewidth\":0,\"ticks\":\"\"}}}],\"scatter3d\":[{\"type\":\"scatter3d\",\"line\":{\"colorbar\":{\"outlinewidth\":0,\"ticks\":\"\"}},\"marker\":{\"colorbar\":{\"outlinewidth\":0,\"ticks\":\"\"}}}],\"scattermapbox\":[{\"type\":\"scattermapbox\",\"marker\":{\"colorbar\":{\"outlinewidth\":0,\"ticks\":\"\"}}}],\"scatterternary\":[{\"type\":\"scatterternary\",\"marker\":{\"colorbar\":{\"outlinewidth\":0,\"ticks\":\"\"}}}],\"scattercarpet\":[{\"type\":\"scattercarpet\",\"marker\":{\"colorbar\":{\"outlinewidth\":0,\"ticks\":\"\"}}}],\"carpet\":[{\"aaxis\":{\"endlinecolor\":\"#2a3f5f\",\"gridcolor\":\"white\",\"linecolor\":\"white\",\"minorgridcolor\":\"white\",\"startlinecolor\":\"#2a3f5f\"},\"baxis\":{\"endlinecolor\":\"#2a3f5f\",\"gridcolor\":\"white\",\"linecolor\":\"white\",\"minorgridcolor\":\"white\",\"startlinecolor\":\"#2a3f5f\"},\"type\":\"carpet\"}],\"table\":[{\"cells\":{\"fill\":{\"color\":\"#EBF0F8\"},\"line\":{\"color\":\"white\"}},\"header\":{\"fill\":{\"color\":\"#C8D4E3\"},\"line\":{\"color\":\"white\"}},\"type\":\"table\"}],\"barpolar\":[{\"marker\":{\"line\":{\"color\":\"#E5ECF6\",\"width\":0.5},\"pattern\":{\"fillmode\":\"overlay\",\"size\":10,\"solidity\":0.2}},\"type\":\"barpolar\"}],\"pie\":[{\"automargin\":true,\"type\":\"pie\"}]},\"layout\":{\"autotypenumbers\":\"strict\",\"colorway\":[\"#636efa\",\"#EF553B\",\"#00cc96\",\"#ab63fa\",\"#FFA15A\",\"#19d3f3\",\"#FF6692\",\"#B6E880\",\"#FF97FF\",\"#FECB52\"],\"font\":{\"color\":\"#2a3f5f\"},\"hovermode\":\"closest\",\"hoverlabel\":{\"align\":\"left\"},\"paper_bgcolor\":\"white\",\"plot_bgcolor\":\"#E5ECF6\",\"polar\":{\"bgcolor\":\"#E5ECF6\",\"angularaxis\":{\"gridcolor\":\"white\",\"linecolor\":\"white\",\"ticks\":\"\"},\"radialaxis\":{\"gridcolor\":\"white\",\"linecolor\":\"white\",\"ticks\":\"\"}},\"ternary\":{\"bgcolor\":\"#E5ECF6\",\"aaxis\":{\"gridcolor\":\"white\",\"linecolor\":\"white\",\"ticks\":\"\"},\"baxis\":{\"gridcolor\":\"white\",\"linecolor\":\"white\",\"ticks\":\"\"},\"caxis\":{\"gridcolor\":\"white\",\"linecolor\":\"white\",\"ticks\":\"\"}},\"coloraxis\":{\"colorbar\":{\"outlinewidth\":0,\"ticks\":\"\"}},\"colorscale\":{\"sequential\":[[0.0,\"#0d0887\"],[0.1111111111111111,\"#46039f\"],[0.2222222222222222,\"#7201a8\"],[0.3333333333333333,\"#9c179e\"],[0.4444444444444444,\"#bd3786\"],[0.5555555555555556,\"#d8576b\"],[0.6666666666666666,\"#ed7953\"],[0.7777777777777778,\"#fb9f3a\"],[0.8888888888888888,\"#fdca26\"],[1.0,\"#f0f921\"]],\"sequentialminus\":[[0.0,\"#0d0887\"],[0.1111111111111111,\"#46039f\"],[0.2222222222222222,\"#7201a8\"],[0.3333333333333333,\"#9c179e\"],[0.4444444444444444,\"#bd3786\"],[0.5555555555555556,\"#d8576b\"],[0.6666666666666666,\"#ed7953\"],[0.7777777777777778,\"#fb9f3a\"],[0.8888888888888888,\"#fdca26\"],[1.0,\"#f0f921\"]],\"diverging\":[[0,\"#8e0152\"],[0.1,\"#c51b7d\"],[0.2,\"#de77ae\"],[0.3,\"#f1b6da\"],[0.4,\"#fde0ef\"],[0.5,\"#f7f7f7\"],[0.6,\"#e6f5d0\"],[0.7,\"#b8e186\"],[0.8,\"#7fbc41\"],[0.9,\"#4d9221\"],[1,\"#276419\"]]},\"xaxis\":{\"gridcolor\":\"white\",\"linecolor\":\"white\",\"ticks\":\"\",\"title\":{\"standoff\":15},\"zerolinecolor\":\"white\",\"automargin\":true,\"zerolinewidth\":2},\"yaxis\":{\"gridcolor\":\"white\",\"linecolor\":\"white\",\"ticks\":\"\",\"title\":{\"standoff\":15},\"zerolinecolor\":\"white\",\"automargin\":true,\"zerolinewidth\":2},\"scene\":{\"xaxis\":{\"backgroundcolor\":\"#E5ECF6\",\"gridcolor\":\"white\",\"linecolor\":\"white\",\"showbackground\":true,\"ticks\":\"\",\"zerolinecolor\":\"white\",\"gridwidth\":2},\"yaxis\":{\"backgroundcolor\":\"#E5ECF6\",\"gridcolor\":\"white\",\"linecolor\":\"white\",\"showbackground\":true,\"ticks\":\"\",\"zerolinecolor\":\"white\",\"gridwidth\":2},\"zaxis\":{\"backgroundcolor\":\"#E5ECF6\",\"gridcolor\":\"white\",\"linecolor\":\"white\",\"showbackground\":true,\"ticks\":\"\",\"zerolinecolor\":\"white\",\"gridwidth\":2}},\"shapedefaults\":{\"line\":{\"color\":\"#2a3f5f\"}},\"annotationdefaults\":{\"arrowcolor\":\"#2a3f5f\",\"arrowhead\":0,\"arrowwidth\":1},\"geo\":{\"bgcolor\":\"white\",\"landcolor\":\"#E5ECF6\",\"subunitcolor\":\"white\",\"showland\":true,\"showlakes\":true,\"lakecolor\":\"white\"},\"title\":{\"x\":0.05},\"mapbox\":{\"style\":\"light\"}}},\"xaxis\":{\"anchor\":\"y\",\"domain\":[0.0,1.0]},\"yaxis\":{\"anchor\":\"x\",\"domain\":[0.0,1.0],\"autorange\":true},\"coloraxis\":{\"colorscale\":[[0.0,\"#0d0887\"],[0.1111111111111111,\"#46039f\"],[0.2222222222222222,\"#7201a8\"],[0.3333333333333333,\"#9c179e\"],[0.4444444444444444,\"#bd3786\"],[0.5555555555555556,\"#d8576b\"],[0.6666666666666666,\"#ed7953\"],[0.7777777777777778,\"#fb9f3a\"],[0.8888888888888888,\"#fdca26\"],[1.0,\"#f0f921\"]]},\"margin\":{\"t\":60}},                        {\"responsive\": true}                    ).then(function(){\n",
       "                            \n",
       "var gd = document.getElementById('9266a968-dcd3-49ca-bae9-5d9e3c2ce657');\n",
       "var x = new MutationObserver(function (mutations, observer) {{\n",
       "        var display = window.getComputedStyle(gd).display;\n",
       "        if (!display || display === 'none') {{\n",
       "            console.log([gd, 'removed!']);\n",
       "            Plotly.purge(gd);\n",
       "            observer.disconnect();\n",
       "        }}\n",
       "}});\n",
       "\n",
       "// Listen for the removal of the full notebook cells\n",
       "var notebookContainer = gd.closest('#notebook-container');\n",
       "if (notebookContainer) {{\n",
       "    x.observe(notebookContainer, {childList: true});\n",
       "}}\n",
       "\n",
       "// Listen for the clearing of the current output cell\n",
       "var outputEl = gd.closest('.output');\n",
       "if (outputEl) {{\n",
       "    x.observe(outputEl, {childList: true});\n",
       "}}\n",
       "\n",
       "                        })                };                });            </script>        </div>"
      ]
     },
     "metadata": {},
     "output_type": "display_data"
    },
    {
     "data": {
      "text/html": [
       "<div>\n",
       "<style scoped>\n",
       "    .dataframe tbody tr th:only-of-type {\n",
       "        vertical-align: middle;\n",
       "    }\n",
       "\n",
       "    .dataframe tbody tr th {\n",
       "        vertical-align: top;\n",
       "    }\n",
       "\n",
       "    .dataframe thead th {\n",
       "        text-align: right;\n",
       "    }\n",
       "</style>\n",
       "<table border=\"1\" class=\"dataframe\">\n",
       "  <thead>\n",
       "    <tr style=\"text-align: right;\">\n",
       "      <th></th>\n",
       "      <th>sepal length (cm)</th>\n",
       "      <th>sepal width (cm)</th>\n",
       "      <th>petal width (cm)</th>\n",
       "      <th>is_ class_Iris-setosa</th>\n",
       "      <th>is_ class_Iris-versicolor</th>\n",
       "      <th>is_ class_Iris-virginica</th>\n",
       "    </tr>\n",
       "  </thead>\n",
       "  <tbody>\n",
       "    <tr>\n",
       "      <th>56</th>\n",
       "      <td>6.3</td>\n",
       "      <td>3.3</td>\n",
       "      <td>1.6</td>\n",
       "      <td>0.0</td>\n",
       "      <td>1.0</td>\n",
       "      <td>0.0</td>\n",
       "    </tr>\n",
       "    <tr>\n",
       "      <th>17</th>\n",
       "      <td>5.1</td>\n",
       "      <td>3.5</td>\n",
       "      <td>0.3</td>\n",
       "      <td>1.0</td>\n",
       "      <td>0.0</td>\n",
       "      <td>0.0</td>\n",
       "    </tr>\n",
       "    <tr>\n",
       "      <th>87</th>\n",
       "      <td>6.3</td>\n",
       "      <td>2.3</td>\n",
       "      <td>1.3</td>\n",
       "      <td>0.0</td>\n",
       "      <td>1.0</td>\n",
       "      <td>0.0</td>\n",
       "    </tr>\n",
       "    <tr>\n",
       "      <th>79</th>\n",
       "      <td>5.7</td>\n",
       "      <td>2.6</td>\n",
       "      <td>1.0</td>\n",
       "      <td>0.0</td>\n",
       "      <td>1.0</td>\n",
       "      <td>0.0</td>\n",
       "    </tr>\n",
       "    <tr>\n",
       "      <th>127</th>\n",
       "      <td>6.1</td>\n",
       "      <td>3.0</td>\n",
       "      <td>1.8</td>\n",
       "      <td>0.0</td>\n",
       "      <td>0.0</td>\n",
       "      <td>1.0</td>\n",
       "    </tr>\n",
       "    <tr>\n",
       "      <th>...</th>\n",
       "      <td>...</td>\n",
       "      <td>...</td>\n",
       "      <td>...</td>\n",
       "      <td>...</td>\n",
       "      <td>...</td>\n",
       "      <td>...</td>\n",
       "    </tr>\n",
       "    <tr>\n",
       "      <th>32</th>\n",
       "      <td>5.2</td>\n",
       "      <td>4.1</td>\n",
       "      <td>0.1</td>\n",
       "      <td>1.0</td>\n",
       "      <td>0.0</td>\n",
       "      <td>0.0</td>\n",
       "    </tr>\n",
       "    <tr>\n",
       "      <th>22</th>\n",
       "      <td>4.6</td>\n",
       "      <td>3.6</td>\n",
       "      <td>0.2</td>\n",
       "      <td>1.0</td>\n",
       "      <td>0.0</td>\n",
       "      <td>0.0</td>\n",
       "    </tr>\n",
       "    <tr>\n",
       "      <th>72</th>\n",
       "      <td>6.3</td>\n",
       "      <td>2.5</td>\n",
       "      <td>1.5</td>\n",
       "      <td>0.0</td>\n",
       "      <td>1.0</td>\n",
       "      <td>0.0</td>\n",
       "    </tr>\n",
       "    <tr>\n",
       "      <th>28</th>\n",
       "      <td>5.2</td>\n",
       "      <td>3.4</td>\n",
       "      <td>0.2</td>\n",
       "      <td>1.0</td>\n",
       "      <td>0.0</td>\n",
       "      <td>0.0</td>\n",
       "    </tr>\n",
       "    <tr>\n",
       "      <th>105</th>\n",
       "      <td>7.6</td>\n",
       "      <td>3.0</td>\n",
       "      <td>2.1</td>\n",
       "      <td>0.0</td>\n",
       "      <td>0.0</td>\n",
       "      <td>1.0</td>\n",
       "    </tr>\n",
       "  </tbody>\n",
       "</table>\n",
       "<p>135 rows × 6 columns</p>\n",
       "</div>"
      ],
      "text/plain": [
       "     sepal length (cm)  sepal width (cm)   petal width (cm)  \\\n",
       "56                 6.3               3.3                1.6   \n",
       "17                 5.1               3.5                0.3   \n",
       "87                 6.3               2.3                1.3   \n",
       "79                 5.7               2.6                1.0   \n",
       "127                6.1               3.0                1.8   \n",
       "..                 ...               ...                ...   \n",
       "32                 5.2               4.1                0.1   \n",
       "22                 4.6               3.6                0.2   \n",
       "72                 6.3               2.5                1.5   \n",
       "28                 5.2               3.4                0.2   \n",
       "105                7.6               3.0                2.1   \n",
       "\n",
       "     is_ class_Iris-setosa  is_ class_Iris-versicolor  \\\n",
       "56                     0.0                        1.0   \n",
       "17                     1.0                        0.0   \n",
       "87                     0.0                        1.0   \n",
       "79                     0.0                        1.0   \n",
       "127                    0.0                        0.0   \n",
       "..                     ...                        ...   \n",
       "32                     1.0                        0.0   \n",
       "22                     1.0                        0.0   \n",
       "72                     0.0                        1.0   \n",
       "28                     1.0                        0.0   \n",
       "105                    0.0                        0.0   \n",
       "\n",
       "     is_ class_Iris-virginica  \n",
       "56                        0.0  \n",
       "17                        0.0  \n",
       "87                        0.0  \n",
       "79                        0.0  \n",
       "127                       1.0  \n",
       "..                        ...  \n",
       "32                        0.0  \n",
       "22                        0.0  \n",
       "72                        0.0  \n",
       "28                        0.0  \n",
       "105                       1.0  \n",
       "\n",
       "[135 rows x 6 columns]"
      ]
     },
     "execution_count": 12,
     "metadata": {},
     "output_type": "execute_result"
    }
   ],
   "source": [
    "# Prepare data for training with input rust functions expect\n",
    "label_col = 2\n",
    "\n",
    "# Normalize columns\n",
    "# labels = encoded.iloc[:, label_col]\n",
    "# max_per_col = encoded.abs().max().replace(0,1)\n",
    "# encoded = (encoded / max_per_col)\n",
    "# encoded.iloc[:, label_col] = labels\n",
    "\n",
    "train_data, test_data = split_train_test(encoded, 0.9, True)\n",
    "\n",
    "# Remove any encoded data of the same class\n",
    "train_data_features = train_data.copy()\n",
    "remove_encoded_category_data_and_label(train_data_features, feature_to_encoded_cols, label_col)\n",
    "\n",
    "train_data_features_list = train_data_features.values.tolist()\n",
    "\n",
    "# Data Correlation\n",
    "corr = train_data_features.corr()\n",
    "fig = px.imshow(corr, aspect=\"auto\", origin='lower')\n",
    "fig.show()\n",
    "\n",
    "# Get labels\n",
    "train_data_labels = train_data.iloc[:, label_col].values.tolist()\n",
    "train_data_features"
   ]
  },
  {
   "cell_type": "code",
   "execution_count": 13,
   "metadata": {},
   "outputs": [
    {
     "name": "stdout",
     "output_type": "stream",
     "text": [
      "% Correct: 0\n",
      "% Correct: 34.814816\n",
      "% Correct: 29.62963\n",
      "% Correct: 20.74074\n",
      "% Correct: 21.481482\n",
      "% Correct: 17.037037\n",
      "% Correct: 14.074074\n",
      "% Correct: 16.296297\n",
      "% Correct: 15.555555\n",
      "% Correct: 17.037037\n",
      "% Correct: 16.296297\n",
      "% Correct: 17.037037\n",
      "% Correct: 17.037037\n",
      "% Correct: 19.25926\n",
      "% Correct: 20\n",
      "% Correct: 18.518518\n",
      "% Correct: 18.518518\n",
      "% Correct: 17.777779\n",
      "% Correct: 17.777779\n",
      "% Correct: 17.777779\n",
      "% Correct: 16.296297\n",
      "% Correct: 20.74074\n",
      "% Correct: 19.25926\n",
      "% Correct: 20\n",
      "% Correct: 23.703703\n",
      "% Correct: 25.185184\n",
      "% Correct: 30.37037\n",
      "% Correct: 26.666666\n",
      "% Correct: 26.666666\n",
      "% Correct: 30.37037\n",
      "% Correct: 31.851852\n",
      "% Correct: 32.592594\n",
      "% Correct: 33.333332\n",
      "% Correct: 31.11111\n",
      "% Correct: 34.074074\n",
      "% Correct: 36.296295\n",
      "% Correct: 34.074074\n",
      "% Correct: 36.296295\n",
      "% Correct: 36.296295\n",
      "% Correct: 37.037037\n",
      "% Correct: 35.555557\n",
      "% Correct: 34.074074\n",
      "% Correct: 35.555557\n",
      "% Correct: 37.037037\n",
      "% Correct: 34.814816\n",
      "% Correct: 40\n",
      "% Correct: 37.037037\n",
      "% Correct: 37.77778\n",
      "% Correct: 40\n",
      "% Correct: 39.25926\n",
      "% Correct: 37.77778\n",
      "% Correct: 38.51852\n",
      "% Correct: 38.51852\n",
      "% Correct: 41.48148\n",
      "% Correct: 40\n",
      "% Correct: 41.48148\n",
      "% Correct: 40\n",
      "% Correct: 42.22222\n",
      "% Correct: 42.22222\n",
      "% Correct: 42.22222\n",
      "% Correct: 42.962963\n",
      "% Correct: 45.185184\n",
      "% Correct: 44.444443\n",
      "% Correct: 43.703705\n",
      "% Correct: 42.22222\n",
      "% Correct: 45.185184\n",
      "% Correct: 45.185184\n",
      "% Correct: 45.185184\n",
      "% Correct: 43.703705\n",
      "% Correct: 45.185184\n",
      "% Correct: 42.962963\n",
      "% Correct: 45.185184\n",
      "% Correct: 45.185184\n",
      "% Correct: 45.185184\n",
      "% Correct: 45.185184\n",
      "% Correct: 44.444443\n",
      "% Correct: 43.703705\n",
      "% Correct: 43.703705\n",
      "% Correct: 43.703705\n",
      "% Correct: 43.703705\n",
      "% Correct: 44.444443\n",
      "% Correct: 44.444443\n",
      "% Correct: 44.444443\n",
      "% Correct: 45.185184\n",
      "% Correct: 45.925926\n",
      "% Correct: 44.444443\n",
      "% Correct: 45.925926\n",
      "% Correct: 44.444443\n",
      "% Correct: 48.88889\n",
      "% Correct: 43.703705\n",
      "% Correct: 45.185184\n",
      "% Correct: 45.185184\n",
      "% Correct: 45.185184\n",
      "% Correct: 45.925926\n",
      "% Correct: 46.666668\n",
      "% Correct: 46.666668\n",
      "% Correct: 48.148148\n",
      "% Correct: 46.666668\n",
      "% Correct: 48.148148\n",
      "% Correct: 48.148148\n",
      "% Correct: 47.407406\n",
      "% Correct: 46.666668\n",
      "% Correct: 48.148148\n",
      "% Correct: 48.148148\n",
      "% Correct: 48.148148\n",
      "% Correct: 48.148148\n",
      "% Correct: 46.666668\n",
      "% Correct: 49.62963\n",
      "% Correct: 49.62963\n",
      "% Correct: 49.62963\n",
      "% Correct: 48.88889\n",
      "% Correct: 50.37037\n",
      "% Correct: 49.62963\n",
      "% Correct: 49.62963\n",
      "% Correct: 48.88889\n",
      "% Correct: 49.62963\n",
      "% Correct: 49.62963\n",
      "% Correct: 48.88889\n",
      "% Correct: 50.37037\n",
      "% Correct: 50.37037\n",
      "% Correct: 50.37037\n",
      "% Correct: 51.11111\n",
      "% Correct: 50.37037\n",
      "% Correct: 50.37037\n",
      "% Correct: 49.62963\n",
      "% Correct: 50.37037\n",
      "% Correct: 49.62963\n",
      "% Correct: 50.37037\n",
      "% Correct: 49.62963\n",
      "% Correct: 48.88889\n",
      "% Correct: 50.37037\n",
      "% Correct: 50.37037\n",
      "% Correct: 48.88889\n",
      "% Correct: 49.62963\n",
      "% Correct: 50.37037\n",
      "% Correct: 50.37037\n",
      "% Correct: 51.11111\n",
      "% Correct: 50.37037\n",
      "% Correct: 50.37037\n",
      "% Correct: 51.11111\n",
      "% Correct: 50.37037\n",
      "% Correct: 50.37037\n",
      "% Correct: 50.37037\n",
      "% Correct: 50.37037\n",
      "% Correct: 51.11111\n",
      "% Correct: 51.11111\n",
      "% Correct: 51.11111\n",
      "% Correct: 51.11111\n",
      "% Correct: 51.11111\n",
      "% Correct: 51.11111\n",
      "% Correct: 50.37037\n",
      "% Correct: 49.62963\n",
      "% Correct: 51.851852\n",
      "% Correct: 51.11111\n",
      "% Correct: 51.851852\n",
      "% Correct: 50.37037\n",
      "% Correct: 50.37037\n",
      "% Correct: 49.62963\n",
      "% Correct: 51.851852\n",
      "% Correct: 49.62963\n",
      "% Correct: 49.62963\n",
      "% Correct: 50.37037\n",
      "% Correct: 49.62963\n",
      "% Correct: 50.37037\n",
      "% Correct: 49.62963\n",
      "% Correct: 49.62963\n",
      "% Correct: 49.62963\n",
      "% Correct: 48.88889\n",
      "% Correct: 49.62963\n",
      "% Correct: 49.62963\n",
      "% Correct: 51.851852\n",
      "% Correct: 48.88889\n",
      "% Correct: 49.62963\n",
      "% Correct: 49.62963\n",
      "% Correct: 51.851852\n",
      "% Correct: 51.11111\n",
      "% Correct: 52.592594\n",
      "% Correct: 51.11111\n",
      "% Correct: 51.851852\n",
      "% Correct: 49.62963\n",
      "% Correct: 48.88889\n",
      "% Correct: 49.62963\n",
      "% Correct: 50.37037\n",
      "% Correct: 49.62963\n",
      "% Correct: 48.88889\n",
      "% Correct: 48.148148\n",
      "% Correct: 49.62963\n",
      "% Correct: 49.62963\n",
      "% Correct: 49.62963\n",
      "% Correct: 50.37037\n",
      "% Correct: 48.148148\n",
      "% Correct: 50.37037\n",
      "% Correct: 48.88889\n",
      "% Correct: 50.37037\n",
      "% Correct: 49.62963\n",
      "% Correct: 48.88889\n",
      "% Correct: 48.88889\n",
      "% Correct: 51.851852\n",
      "% Correct: 49.62963\n",
      "% Correct: 51.11111\n",
      "% Correct: 51.11111\n",
      "% Correct: 48.88889\n",
      "% Correct: 48.88889\n",
      "% Correct: 48.88889\n",
      "% Correct: 48.88889\n",
      "% Correct: 48.88889\n",
      "% Correct: 48.88889\n",
      "% Correct: 52.592594\n",
      "% Correct: 48.88889\n",
      "% Correct: 51.11111\n",
      "% Correct: 48.88889\n",
      "% Correct: 49.62963\n",
      "% Correct: 48.88889\n",
      "% Correct: 48.88889\n",
      "% Correct: 49.62963\n",
      "% Correct: 53.333332\n",
      "% Correct: 50.37037\n",
      "% Correct: 48.88889\n",
      "% Correct: 49.62963\n",
      "% Correct: 53.333332\n",
      "% Correct: 48.88889\n",
      "% Correct: 49.62963\n",
      "% Correct: 48.88889\n",
      "% Correct: 48.88889\n",
      "% Correct: 50.37037\n",
      "% Correct: 48.88889\n",
      "% Correct: 51.11111\n",
      "% Correct: 48.88889\n",
      "% Correct: 48.148148\n",
      "% Correct: 50.37037\n",
      "% Correct: 49.62963\n",
      "% Correct: 48.148148\n",
      "% Correct: 54.074074\n",
      "% Correct: 50.37037\n",
      "% Correct: 48.148148\n",
      "% Correct: 48.148148\n",
      "% Correct: 49.62963\n",
      "% Correct: 48.88889\n",
      "% Correct: 48.148148\n",
      "% Correct: 50.37037\n",
      "% Correct: 51.11111\n",
      "% Correct: 51.851852\n",
      "% Correct: 48.88889\n",
      "% Correct: 51.11111\n",
      "% Correct: 49.62963\n",
      "% Correct: 51.11111\n",
      "% Correct: 51.11111\n",
      "% Correct: 49.62963\n",
      "% Correct: 50.37037\n",
      "% Correct: 50.37037\n",
      "% Correct: 48.88889\n",
      "% Correct: 50.37037\n",
      "% Correct: 49.62963\n",
      "% Correct: 50.37037\n",
      "% Correct: 51.11111\n",
      "% Correct: 50.37037\n",
      "% Correct: 48.88889\n",
      "% Correct: 50.37037\n",
      "% Correct: 50.37037\n",
      "% Correct: 51.11111\n",
      "% Correct: 50.37037\n",
      "% Correct: 54.814816\n",
      "% Correct: 49.62963\n",
      "% Correct: 51.11111\n",
      "% Correct: 50.37037\n",
      "% Correct: 50.37037\n",
      "% Correct: 50.37037\n",
      "% Correct: 51.11111\n",
      "% Correct: 49.62963\n",
      "% Correct: 51.11111\n",
      "% Correct: 49.62963\n",
      "% Correct: 50.37037\n",
      "% Correct: 49.62963\n",
      "% Correct: 51.11111\n",
      "% Correct: 50.37037\n",
      "% Correct: 50.37037\n",
      "% Correct: 51.851852\n",
      "% Correct: 48.88889\n",
      "% Correct: 53.333332\n",
      "% Correct: 49.62963\n",
      "% Correct: 51.11111\n",
      "% Correct: 51.11111\n",
      "% Correct: 50.37037\n",
      "% Correct: 50.37037\n",
      "% Correct: 50.37037\n",
      "% Correct: 50.37037\n",
      "% Correct: 51.11111\n",
      "% Correct: 50.37037\n",
      "% Correct: 50.37037\n",
      "% Correct: 51.11111\n",
      "% Correct: 51.11111\n",
      "% Correct: 51.11111\n",
      "% Correct: 50.37037\n",
      "% Correct: 50.37037\n",
      "% Correct: 50.37037\n",
      "% Correct: 50.37037\n",
      "% Correct: 50.37037\n",
      "% Correct: 50.37037\n",
      "% Correct: 51.11111\n",
      "% Correct: 51.11111\n",
      "% Correct: 49.62963\n",
      "% Correct: 51.11111\n",
      "% Correct: 51.11111\n",
      "% Correct: 51.11111\n",
      "% Correct: 53.333332\n",
      "% Correct: 50.37037\n",
      "% Correct: 49.62963\n",
      "% Correct: 51.11111\n",
      "% Correct: 50.37037\n",
      "% Correct: 51.851852\n",
      "% Correct: 51.11111\n",
      "% Correct: 50.37037\n",
      "% Correct: 51.851852\n",
      "% Correct: 50.37037\n",
      "% Correct: 50.37037\n",
      "% Correct: 50.37037\n",
      "% Correct: 51.851852\n",
      "% Correct: 50.37037\n",
      "% Correct: 51.11111\n",
      "% Correct: 49.62963\n",
      "% Correct: 51.851852\n",
      "% Correct: 51.851852\n",
      "% Correct: 51.11111\n",
      "% Correct: 51.851852\n",
      "% Correct: 51.851852\n",
      "% Correct: 51.11111\n",
      "% Correct: 50.37037\n",
      "% Correct: 51.851852\n",
      "% Correct: 51.11111\n",
      "% Correct: 51.11111\n",
      "% Correct: 51.851852\n",
      "% Correct: 51.851852\n",
      "% Correct: 51.11111\n",
      "% Correct: 50.37037\n",
      "% Correct: 51.11111\n",
      "% Correct: 51.851852\n",
      "% Correct: 51.11111\n",
      "% Correct: 51.11111\n",
      "% Correct: 50.37037\n",
      "% Correct: 51.11111\n",
      "% Correct: 51.11111\n",
      "% Correct: 50.37037\n",
      "% Correct: 51.11111\n",
      "% Correct: 50.37037\n",
      "% Correct: 51.11111\n",
      "% Correct: 51.11111\n",
      "% Correct: 51.11111\n",
      "% Correct: 51.11111\n",
      "% Correct: 52.592594\n",
      "% Correct: 51.11111\n",
      "% Correct: 51.11111\n",
      "% Correct: 51.851852\n",
      "% Correct: 52.592594\n",
      "% Correct: 53.333332\n",
      "% Correct: 51.11111\n",
      "% Correct: 51.851852\n",
      "% Correct: 53.333332\n",
      "% Correct: 51.851852\n",
      "% Correct: 51.851852\n",
      "% Correct: 51.11111\n",
      "% Correct: 51.11111\n",
      "% Correct: 51.851852\n",
      "% Correct: 51.851852\n",
      "% Correct: 51.851852\n",
      "% Correct: 51.851852\n",
      "% Correct: 51.11111\n",
      "% Correct: 51.11111\n",
      "% Correct: 51.851852\n",
      "% Correct: 52.592594\n",
      "% Correct: 51.851852\n",
      "% Correct: 52.592594\n",
      "% Correct: 52.592594\n",
      "% Correct: 51.851852\n",
      "% Correct: 51.11111\n",
      "% Correct: 51.851852\n",
      "% Correct: 51.851852\n",
      "% Correct: 51.851852\n",
      "% Correct: 51.851852\n",
      "% Correct: 51.851852\n",
      "% Correct: 51.851852\n",
      "% Correct: 52.592594\n",
      "% Correct: 51.11111\n",
      "% Correct: 51.851852\n",
      "% Correct: 51.851852\n",
      "% Correct: 51.851852\n",
      "% Correct: 51.851852\n",
      "% Correct: 51.11111\n",
      "% Correct: 51.851852\n",
      "% Correct: 51.851852\n",
      "% Correct: 52.592594\n",
      "% Correct: 51.851852\n",
      "% Correct: 52.592594\n",
      "% Correct: 51.11111\n",
      "% Correct: 51.851852\n",
      "% Correct: 51.851852\n",
      "% Correct: 52.592594\n",
      "% Correct: 51.851852\n",
      "% Correct: 51.11111\n",
      "% Correct: 53.333332\n",
      "% Correct: 52.592594\n"
     ]
    }
   ],
   "source": [
    "# Now train the model\n",
    "hidden_layer_sizes = [20,20]\n",
    "num_features = len(train_data_features_list[0])\n",
    "num_classifications = 1 # Tells the library to switch to regression mode\n",
    "learning_rate = 1e-4\n",
    "num_iterations = 20000\n",
    "batch_size = 0\n",
    "train_data_features_list\n",
    "trained_model = rust_machine_learning.BasicNeuralNetwork(hidden_layer_sizes, num_features, num_classifications)\n",
    "trained_model.train(train_data_features_list, train_data_labels, learning_rate, num_iterations, batch_size)"
   ]
  },
  {
   "cell_type": "code",
   "execution_count": 14,
   "metadata": {},
   "outputs": [
    {
     "name": "stdout",
     "output_type": "stream",
     "text": [
      "Percent Correct:  40.0\n"
     ]
    },
    {
     "data": {
      "text/plain": [
       "[1.4186654090881348,\n",
       " 1.288148045539856,\n",
       " 1.5077838897705078,\n",
       " 5.485699653625488,\n",
       " 1.4600642919540405,\n",
       " 1.4663852453231812,\n",
       " 1.8578524589538574,\n",
       " 1.478707194328308,\n",
       " 4.859255790710449,\n",
       " 6.1548333168029785,\n",
       " 1.3073433637619019,\n",
       " 4.386623382568359,\n",
       " 3.926624059677124,\n",
       " 4.390395641326904,\n",
       " 6.202131271362305]"
      ]
     },
     "execution_count": 14,
     "metadata": {},
     "output_type": "execute_result"
    }
   ],
   "source": [
    "# Now let us test the model\n",
    "test_data_features = test_data.copy()\n",
    "remove_encoded_category_data_and_label(test_data_features, feature_to_encoded_cols, label_col)\n",
    "test_data_features_list = test_data_features.values.tolist()\n",
    "test_data_labels = test_data[test_data.columns[label_col]].values.tolist()\n",
    "\n",
    "labelled_results = trained_model.regression(test_data_features_list)\n",
    "\n",
    "num_correct = 0\n",
    "tolerance = 0.05\n",
    "for test_label, result_label in zip(test_data_labels, labelled_results):\n",
    "  num_correct += (abs(test_label-result_label)/(1.0 if test_label == 0 else test_label) <= tolerance)\n",
    "print(\"Percent Correct: \", 100.0 * num_correct / len(test_data_labels))\n",
    "labelled_results"
   ]
  }
 ],
 "metadata": {
  "kernelspec": {
   "display_name": ".venv",
   "language": "python",
   "name": "python3"
  },
  "language_info": {
   "codemirror_mode": {
    "name": "ipython",
    "version": 3
   },
   "file_extension": ".py",
   "mimetype": "text/x-python",
   "name": "python",
   "nbconvert_exporter": "python",
   "pygments_lexer": "ipython3",
   "version": "3.8.10"
  },
  "orig_nbformat": 4
 },
 "nbformat": 4,
 "nbformat_minor": 2
}
